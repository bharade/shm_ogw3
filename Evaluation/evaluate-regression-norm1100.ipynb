{
 "cells": [
  {
   "cell_type": "code",
   "execution_count": 1,
   "id": "06c90727",
   "metadata": {
    "_cell_guid": "b1076dfc-b9ad-4769-8c92-a6c4dae69d19",
    "_uuid": "8f2839f25d086af736a60e9eeb907d3b93b6e0e5",
    "execution": {
     "iopub.execute_input": "2025-03-06T03:02:49.337292Z",
     "iopub.status.busy": "2025-03-06T03:02:49.337023Z",
     "iopub.status.idle": "2025-03-06T03:02:50.111232Z",
     "shell.execute_reply": "2025-03-06T03:02:50.110248Z"
    },
    "papermill": {
     "duration": 0.786691,
     "end_time": "2025-03-06T03:02:50.113061",
     "exception": false,
     "start_time": "2025-03-06T03:02:49.326370",
     "status": "completed"
    },
    "tags": []
   },
   "outputs": [
    {
     "name": "stdout",
     "output_type": "stream",
     "text": [
      "/kaggle/input/regression_norm_1500/keras/default/1/model_checkpoint (2).keras\n",
      "/kaggle/input/regression_norm_500/keras/default/1/model_regression_norm_500.keras\n",
      "/kaggle/input/damage-only-norm-300/keras/default/1/model_checkpoint (1).keras\n",
      "/kaggle/input/regression_norm_800/keras/default/1/model_checkpoint (2).keras\n",
      "/kaggle/input/regression_norm_1103/keras/default/1/model_checkpoint (4).keras\n",
      "/kaggle/input/ogw3-augmented/X_damage_augmented.npy\n",
      "/kaggle/input/ogw3-augmented/X_freq_augmented.npy\n",
      "/kaggle/input/ogw3-augmented/X_signals_augmented.npy\n",
      "/kaggle/input/500epoh_regression/keras/default/1/model_regression_500.keras\n",
      "/kaggle/input/regression_norm/keras/default/1/model_regression_norm.keras\n",
      "/kaggle/input/damage-only-300/keras/default/1/model_checkpoint.keras\n",
      "/kaggle/input/regressionv1/keras/default/1/model_checkpoint_regression.keras\n"
     ]
    }
   ],
   "source": [
    "# This Python 3 environment comes with many helpful analytics libraries installed\n",
    "# It is defined by the kaggle/python Docker image: https://github.com/kaggle/docker-python\n",
    "# For example, here's several helpful packages to load\n",
    "\n",
    "import numpy as np # linear algebra\n",
    "import pandas as pd # data processing, CSV file I/O (e.g. pd.read_csv)\n",
    "\n",
    "# Input data files are available in the read-only \"../input/\" directory\n",
    "# For example, running this (by clicking run or pressing Shift+Enter) will list all files under the input directory\n",
    "\n",
    "import os\n",
    "for dirname, _, filenames in os.walk('/kaggle/input'):\n",
    "    for filename in filenames:\n",
    "        print(os.path.join(dirname, filename))\n",
    "\n",
    "# You can write up to 20GB to the current directory (/kaggle/working/) that gets preserved as output when you create a version using \"Save & Run All\" \n",
    "# You can also write temporary files to /kaggle/temp/, but they won't be saved outside of the current session"
   ]
  },
  {
   "cell_type": "markdown",
   "id": "ce0eee27",
   "metadata": {
    "papermill": {
     "duration": 0.008726,
     "end_time": "2025-03-06T03:02:50.132469",
     "exception": false,
     "start_time": "2025-03-06T03:02:50.123743",
     "status": "completed"
    },
    "tags": []
   },
   "source": [
    "# 1.5) loading augmented data"
   ]
  },
  {
   "cell_type": "code",
   "execution_count": 2,
   "id": "f8a495fb",
   "metadata": {
    "execution": {
     "iopub.execute_input": "2025-03-06T03:02:50.150529Z",
     "iopub.status.busy": "2025-03-06T03:02:50.150155Z",
     "iopub.status.idle": "2025-03-06T03:02:50.153527Z",
     "shell.execute_reply": "2025-03-06T03:02:50.152825Z"
    },
    "papermill": {
     "duration": 0.013898,
     "end_time": "2025-03-06T03:02:50.154820",
     "exception": false,
     "start_time": "2025-03-06T03:02:50.140922",
     "status": "completed"
    },
    "tags": []
   },
   "outputs": [],
   "source": [
    "import os\n",
    "import matplotlib.pyplot as plt"
   ]
  },
  {
   "cell_type": "code",
   "execution_count": 3,
   "id": "e1dd2395",
   "metadata": {
    "execution": {
     "iopub.execute_input": "2025-03-06T03:02:50.172971Z",
     "iopub.status.busy": "2025-03-06T03:02:50.172722Z",
     "iopub.status.idle": "2025-03-06T03:02:50.178249Z",
     "shell.execute_reply": "2025-03-06T03:02:50.177596Z"
    },
    "papermill": {
     "duration": 0.015673,
     "end_time": "2025-03-06T03:02:50.179328",
     "exception": false,
     "start_time": "2025-03-06T03:02:50.163655",
     "status": "completed"
    },
    "tags": []
   },
   "outputs": [
    {
     "data": {
      "text/plain": [
       "'/kaggle/working'"
      ]
     },
     "execution_count": 3,
     "metadata": {},
     "output_type": "execute_result"
    }
   ],
   "source": [
    "%pwd\n"
   ]
  },
  {
   "cell_type": "code",
   "execution_count": 4,
   "id": "39396bac",
   "metadata": {
    "execution": {
     "iopub.execute_input": "2025-03-06T03:02:50.198258Z",
     "iopub.status.busy": "2025-03-06T03:02:50.198034Z",
     "iopub.status.idle": "2025-03-06T03:02:50.201069Z",
     "shell.execute_reply": "2025-03-06T03:02:50.200365Z"
    },
    "papermill": {
     "duration": 0.014188,
     "end_time": "2025-03-06T03:02:50.202365",
     "exception": false,
     "start_time": "2025-03-06T03:02:50.188177",
     "status": "completed"
    },
    "tags": []
   },
   "outputs": [],
   "source": [
    "os.chdir(\"..\")\n",
    "os.chdir(\"input\")"
   ]
  },
  {
   "cell_type": "code",
   "execution_count": 5,
   "id": "5d03f53d",
   "metadata": {
    "execution": {
     "iopub.execute_input": "2025-03-06T03:02:50.221571Z",
     "iopub.status.busy": "2025-03-06T03:02:50.221311Z",
     "iopub.status.idle": "2025-03-06T03:02:50.959178Z",
     "shell.execute_reply": "2025-03-06T03:02:50.958468Z"
    },
    "papermill": {
     "duration": 0.749636,
     "end_time": "2025-03-06T03:02:50.960820",
     "exception": false,
     "start_time": "2025-03-06T03:02:50.211184",
     "status": "completed"
    },
    "tags": []
   },
   "outputs": [],
   "source": [
    "X_signals_augmented = np.load('ogw3-augmented/X_signals_augmented.npy')\n",
    "X_damage_augmented = np.load('ogw3-augmented/X_damage_augmented.npy')\n",
    "X_freq_augmented = np.load('ogw3-augmented/X_freq_augmented.npy')\n"
   ]
  },
  {
   "cell_type": "code",
   "execution_count": 6,
   "id": "101f452e",
   "metadata": {
    "execution": {
     "iopub.execute_input": "2025-03-06T03:02:50.980505Z",
     "iopub.status.busy": "2025-03-06T03:02:50.980232Z",
     "iopub.status.idle": "2025-03-06T03:02:50.984830Z",
     "shell.execute_reply": "2025-03-06T03:02:50.983814Z"
    },
    "papermill": {
     "duration": 0.01589,
     "end_time": "2025-03-06T03:02:50.986298",
     "exception": false,
     "start_time": "2025-03-06T03:02:50.970408",
     "status": "completed"
    },
    "tags": []
   },
   "outputs": [
    {
     "name": "stdout",
     "output_type": "stream",
     "text": [
      "X_signals shape:(2040, 4369, 1)\n",
      "X_signals shape:(2040, 14)\n",
      "X_signals shape:(2040, 12)\n"
     ]
    }
   ],
   "source": [
    "print(f\"X_signals shape:{X_signals_augmented.shape}\")\n",
    "print(f\"X_signals shape:{X_damage_augmented.shape}\")\n",
    "print(f\"X_signals shape:{X_freq_augmented.shape}\")"
   ]
  },
  {
   "cell_type": "code",
   "execution_count": 7,
   "id": "5828d897",
   "metadata": {
    "execution": {
     "iopub.execute_input": "2025-03-06T03:02:51.005117Z",
     "iopub.status.busy": "2025-03-06T03:02:51.004814Z",
     "iopub.status.idle": "2025-03-06T03:02:51.112376Z",
     "shell.execute_reply": "2025-03-06T03:02:51.111173Z"
    },
    "papermill": {
     "duration": 0.118489,
     "end_time": "2025-03-06T03:02:51.113874",
     "exception": false,
     "start_time": "2025-03-06T03:02:50.995385",
     "status": "completed"
    },
    "tags": []
   },
   "outputs": [
    {
     "name": "stdout",
     "output_type": "stream",
     "text": [
      "Summary for X_signals_augmented:\n",
      "Mean: [[-0.00808563]\n",
      " [-0.03676917]\n",
      " [ 0.00793156]\n",
      " ...\n",
      " [ 0.43494834]\n",
      " [ 0.47826858]\n",
      " [ 0.47794448]]\n",
      "Variance: [[0.04756828]\n",
      " [0.05728288]\n",
      " [0.05182533]\n",
      " ...\n",
      " [0.11266843]\n",
      " [0.11778735]\n",
      " [0.1192308 ]]\n",
      "Min: [[-1.]\n",
      " [-1.]\n",
      " [-1.]\n",
      " ...\n",
      " [-1.]\n",
      " [-1.]\n",
      " [-1.]]\n",
      "Max: [[1.]\n",
      " [1.]\n",
      " [1.]\n",
      " ...\n",
      " [1.]\n",
      " [1.]\n",
      " [1.]]\n",
      "--------------------------------------------------\n",
      "Summary for X_freq_augmented:\n",
      "Mean: [0.08333333 0.08333333 0.08333333 0.08333333 0.08333333 0.08333333\n",
      " 0.08333333 0.08333333 0.08333333 0.08333333 0.08333333 0.08333333]\n",
      "Variance: [0.07638889 0.07638889 0.07638889 0.07638889 0.07638889 0.07638889\n",
      " 0.07638889 0.07638889 0.07638889 0.07638889 0.07638889 0.07638889]\n",
      "Min: [0. 0. 0. 0. 0. 0. 0. 0. 0. 0. 0. 0.]\n",
      "Max: [1. 1. 1. 1. 1. 1. 1. 1. 1. 1. 1. 1.]\n",
      "--------------------------------------------------\n"
     ]
    }
   ],
   "source": [
    "import numpy as np\n",
    "\n",
    "def summarize_data(X, name):\n",
    "    print(f\"Summary for {name}:\")\n",
    "    print(\"Mean:\", np.mean(X, axis=0))\n",
    "    print(\"Variance:\", np.var(X, axis=0))\n",
    "    print(\"Min:\", np.min(X, axis=0))\n",
    "    print(\"Max:\", np.max(X, axis=0))\n",
    "    print(\"-\" * 50)\n",
    "\n",
    "summarize_data(X_signals_augmented, \"X_signals_augmented\")\n",
    "summarize_data(X_freq_augmented, \"X_freq_augmented\")\n"
   ]
  },
  {
   "cell_type": "code",
   "execution_count": 8,
   "id": "29a801f0",
   "metadata": {
    "execution": {
     "iopub.execute_input": "2025-03-06T03:02:51.134401Z",
     "iopub.status.busy": "2025-03-06T03:02:51.134102Z",
     "iopub.status.idle": "2025-03-06T03:02:51.150335Z",
     "shell.execute_reply": "2025-03-06T03:02:51.149593Z"
    },
    "papermill": {
     "duration": 0.027477,
     "end_time": "2025-03-06T03:02:51.151708",
     "exception": false,
     "start_time": "2025-03-06T03:02:51.124231",
     "status": "completed"
    },
    "tags": []
   },
   "outputs": [
    {
     "name": "stdout",
     "output_type": "stream",
     "text": [
      "Damage Condition Counts:\n",
      " 0.0    26520\n",
      "1.0     2040\n",
      "Name: count, dtype: int64\n"
     ]
    }
   ],
   "source": [
    "import pandas as pd\n",
    "\n",
    "damage_counts = pd.Series(X_damage_augmented.flatten()).value_counts()\n",
    "print(\"Damage Condition Counts:\\n\", damage_counts)\n"
   ]
  },
  {
   "cell_type": "markdown",
   "id": "e1e93ee6",
   "metadata": {
    "papermill": {
     "duration": 0.008797,
     "end_time": "2025-03-06T03:02:51.169613",
     "exception": false,
     "start_time": "2025-03-06T03:02:51.160816",
     "status": "completed"
    },
    "tags": []
   },
   "source": [
    "# 2. Execution and model Training\n",
    "This is where the actual execution starts"
   ]
  },
  {
   "cell_type": "code",
   "execution_count": 9,
   "id": "3f70047b",
   "metadata": {
    "execution": {
     "iopub.execute_input": "2025-03-06T03:02:51.188322Z",
     "iopub.status.busy": "2025-03-06T03:02:51.188079Z",
     "iopub.status.idle": "2025-03-06T03:02:51.191650Z",
     "shell.execute_reply": "2025-03-06T03:02:51.190763Z"
    },
    "papermill": {
     "duration": 0.014555,
     "end_time": "2025-03-06T03:02:51.193165",
     "exception": false,
     "start_time": "2025-03-06T03:02:51.178610",
     "status": "completed"
    },
    "tags": []
   },
   "outputs": [],
   "source": [
    "import numpy as np\n",
    "import pandas as pd\n",
    "import pickle\n",
    "import matplotlib.pyplot as plt\n",
    "import os"
   ]
  },
  {
   "cell_type": "code",
   "execution_count": 10,
   "id": "4ef4b9d8",
   "metadata": {
    "execution": {
     "iopub.execute_input": "2025-03-06T03:02:51.211771Z",
     "iopub.status.busy": "2025-03-06T03:02:51.211520Z",
     "iopub.status.idle": "2025-03-06T03:02:51.214997Z",
     "shell.execute_reply": "2025-03-06T03:02:51.214237Z"
    },
    "papermill": {
     "duration": 0.014098,
     "end_time": "2025-03-06T03:02:51.216423",
     "exception": false,
     "start_time": "2025-03-06T03:02:51.202325",
     "status": "completed"
    },
    "tags": []
   },
   "outputs": [],
   "source": [
    "os.chdir(\"..\")\n",
    "os.chdir(\"working\")"
   ]
  },
  {
   "cell_type": "code",
   "execution_count": 11,
   "id": "2059f523",
   "metadata": {
    "execution": {
     "iopub.execute_input": "2025-03-06T03:02:51.236626Z",
     "iopub.status.busy": "2025-03-06T03:02:51.236371Z",
     "iopub.status.idle": "2025-03-06T03:02:51.241033Z",
     "shell.execute_reply": "2025-03-06T03:02:51.240190Z"
    },
    "papermill": {
     "duration": 0.015486,
     "end_time": "2025-03-06T03:02:51.242333",
     "exception": false,
     "start_time": "2025-03-06T03:02:51.226847",
     "status": "completed"
    },
    "tags": []
   },
   "outputs": [
    {
     "data": {
      "text/plain": [
       "'/kaggle'"
      ]
     },
     "execution_count": 11,
     "metadata": {},
     "output_type": "execute_result"
    }
   ],
   "source": [
    "os.chdir(\"..\")\n",
    "%pwd"
   ]
  },
  {
   "cell_type": "code",
   "execution_count": 12,
   "id": "5ba68198",
   "metadata": {
    "execution": {
     "iopub.execute_input": "2025-03-06T03:02:51.261040Z",
     "iopub.status.busy": "2025-03-06T03:02:51.260789Z",
     "iopub.status.idle": "2025-03-06T03:02:52.494413Z",
     "shell.execute_reply": "2025-03-06T03:02:52.493564Z"
    },
    "papermill": {
     "duration": 1.244621,
     "end_time": "2025-03-06T03:02:52.495917",
     "exception": false,
     "start_time": "2025-03-06T03:02:51.251296",
     "status": "completed"
    },
    "tags": []
   },
   "outputs": [],
   "source": [
    "import numpy as np\n",
    "from sklearn.model_selection import train_test_split\n",
    "\n",
    "# ----------------------------------------------------------------------\n",
    "# Step 1: Convert one-hot encoded damage labels to scalar values.\n",
    "# ----------------------------------------------------------------------\n",
    "# Each sample in X_damage_augmented is a one-hot vector. We convert it to the\n",
    "# corresponding class index (i.e., 0 for undamaged, 1-13 for damage levels).\n",
    "y_augmented = np.argmax(X_damage_augmented, axis=1).astype(np.float32)\n",
    "# y_augmented now has shape (num_samples,)"
   ]
  },
  {
   "cell_type": "code",
   "execution_count": 13,
   "id": "371d085a",
   "metadata": {
    "execution": {
     "iopub.execute_input": "2025-03-06T03:02:52.524500Z",
     "iopub.status.busy": "2025-03-06T03:02:52.524078Z",
     "iopub.status.idle": "2025-03-06T03:02:52.529940Z",
     "shell.execute_reply": "2025-03-06T03:02:52.528894Z"
    },
    "papermill": {
     "duration": 0.021831,
     "end_time": "2025-03-06T03:02:52.531776",
     "exception": false,
     "start_time": "2025-03-06T03:02:52.509945",
     "status": "completed"
    },
    "tags": []
   },
   "outputs": [
    {
     "data": {
      "text/plain": [
       "0.0"
      ]
     },
     "execution_count": 13,
     "metadata": {},
     "output_type": "execute_result"
    }
   ],
   "source": [
    "y_augmented.min()"
   ]
  },
  {
   "cell_type": "code",
   "execution_count": 14,
   "id": "4c092702",
   "metadata": {
    "execution": {
     "iopub.execute_input": "2025-03-06T03:02:52.552536Z",
     "iopub.status.busy": "2025-03-06T03:02:52.552237Z",
     "iopub.status.idle": "2025-03-06T03:02:52.555706Z",
     "shell.execute_reply": "2025-03-06T03:02:52.554907Z"
    },
    "papermill": {
     "duration": 0.016165,
     "end_time": "2025-03-06T03:02:52.557194",
     "exception": false,
     "start_time": "2025-03-06T03:02:52.541029",
     "status": "completed"
    },
    "tags": []
   },
   "outputs": [],
   "source": [
    "# ----------------------------------------------------------------------\n",
    "# Step 2: Define the features.\n",
    "# ----------------------------------------------------------------------\n",
    "# For this regression task, we use the guided wave signals as the features.\n",
    "# (If you wish to include frequency information as additional features, you might\n",
    "# concatenate or process X_freq_augmented separately; here we assume only the signal is used.)\n",
    "X_augmented = X_signals_augmented  # shape: (num_samples, 4369, 1)"
   ]
  },
  {
   "cell_type": "code",
   "execution_count": 15,
   "id": "f14a371d",
   "metadata": {
    "execution": {
     "iopub.execute_input": "2025-03-06T03:02:52.576189Z",
     "iopub.status.busy": "2025-03-06T03:02:52.575904Z",
     "iopub.status.idle": "2025-03-06T03:02:52.606084Z",
     "shell.execute_reply": "2025-03-06T03:02:52.605082Z"
    },
    "papermill": {
     "duration": 0.0414,
     "end_time": "2025-03-06T03:02:52.607668",
     "exception": false,
     "start_time": "2025-03-06T03:02:52.566268",
     "status": "completed"
    },
    "tags": []
   },
   "outputs": [],
   "source": [
    "# ----------------------------------------------------------------------\n",
    "# Step 3: Split the data into training and test sets.\n",
    "# ----------------------------------------------------------------------\n",
    "# Here we use 80% of the data for training and 20% for testing.\n",
    "X_train, X_test, y_train, y_test = train_test_split(\n",
    "    X_augmented, y_augmented, test_size=0.1, random_state=42\n",
    ")\n"
   ]
  },
  {
   "cell_type": "code",
   "execution_count": 16,
   "id": "4d689373",
   "metadata": {
    "execution": {
     "iopub.execute_input": "2025-03-06T03:02:52.627704Z",
     "iopub.status.busy": "2025-03-06T03:02:52.627390Z",
     "iopub.status.idle": "2025-03-06T03:02:52.632882Z",
     "shell.execute_reply": "2025-03-06T03:02:52.631865Z"
    },
    "papermill": {
     "duration": 0.01674,
     "end_time": "2025-03-06T03:02:52.634380",
     "exception": false,
     "start_time": "2025-03-06T03:02:52.617640",
     "status": "completed"
    },
    "tags": []
   },
   "outputs": [
    {
     "name": "stdout",
     "output_type": "stream",
     "text": [
      "Training data shape: (1836, 4369, 1)\n",
      "Training labels shape: (1836,)\n",
      "Test data shape: (204, 4369, 1)\n",
      "Test labels shape: (204,)\n"
     ]
    }
   ],
   "source": [
    "\n",
    "\n",
    "\n",
    "# ----------------------------------------------------------------------\n",
    "# Step 4: Verify the shapes of the datasets.\n",
    "# ----------------------------------------------------------------------\n",
    "print(f\"Training data shape: {X_train.shape}\")  # Expected: (num_train_samples, 4369, 1)\n",
    "print(f\"Training labels shape: {y_train.shape}\")  # Expected: (num_train_samples,)\n",
    "print(f\"Test data shape: {X_test.shape}\")         # Expected: (num_test_samples, 4369, 1)\n",
    "print(f\"Test labels shape: {y_test.shape}\")         # Expected: (num_test_samples,)\n"
   ]
  },
  {
   "cell_type": "code",
   "execution_count": 17,
   "id": "ea0525cf",
   "metadata": {
    "execution": {
     "iopub.execute_input": "2025-03-06T03:02:52.652857Z",
     "iopub.status.busy": "2025-03-06T03:02:52.652605Z",
     "iopub.status.idle": "2025-03-06T03:02:52.655891Z",
     "shell.execute_reply": "2025-03-06T03:02:52.655124Z"
    },
    "papermill": {
     "duration": 0.013863,
     "end_time": "2025-03-06T03:02:52.657084",
     "exception": false,
     "start_time": "2025-03-06T03:02:52.643221",
     "status": "completed"
    },
    "tags": []
   },
   "outputs": [],
   "source": [
    "# # Identify indices where labels are not zero\n",
    "# non_zero_indices = y_train != 0\n",
    "\n",
    "# # Filter training data and labels\n",
    "# X_train = X_train[non_zero_indices]\n",
    "# y_train = y_train[non_zero_indices]\n",
    "\n",
    "# # Identify indices where test labels are not zero\n",
    "# non_zero_indices_test = y_test != 0\n",
    "\n",
    "# # Filter test data and labels\n",
    "# X_test = X_test[non_zero_indices_test]\n",
    "# y_test = y_test[non_zero_indices_test]\n",
    "\n",
    "# # Verify the new shapes\n",
    "# print(f\"Filtered Training data shape: {X_train.shape}\")\n",
    "# print(f\"Filtered Training labels shape: {y_train.shape}\")\n",
    "# print(f\"Filtered Test data shape: {X_test.shape}\")\n",
    "# print(f\"Filtered Test labels shape: {y_test.shape}\")"
   ]
  },
  {
   "cell_type": "code",
   "execution_count": 18,
   "id": "af765eb5",
   "metadata": {
    "execution": {
     "iopub.execute_input": "2025-03-06T03:02:52.675856Z",
     "iopub.status.busy": "2025-03-06T03:02:52.675632Z",
     "iopub.status.idle": "2025-03-06T03:02:52.680067Z",
     "shell.execute_reply": "2025-03-06T03:02:52.679174Z"
    },
    "papermill": {
     "duration": 0.01543,
     "end_time": "2025-03-06T03:02:52.681378",
     "exception": false,
     "start_time": "2025-03-06T03:02:52.665948",
     "status": "completed"
    },
    "tags": []
   },
   "outputs": [],
   "source": [
    "def print_label_distribution(y, set_name):\n",
    "    \"\"\"Print the distribution of labels in a dataset.\"\"\"\n",
    "    print(f\"\\n{set_name} label distribution:\")\n",
    "    print(f\"- Baseline samples (0): {np.sum(y == 0)}\")\n",
    "    for damage_size in range(1, 14):\n",
    "        print(f\"- Damage size {damage_size}: {np.sum(y == damage_size)}\")"
   ]
  },
  {
   "cell_type": "code",
   "execution_count": 19,
   "id": "259ce9b9",
   "metadata": {
    "execution": {
     "iopub.execute_input": "2025-03-06T03:02:52.700385Z",
     "iopub.status.busy": "2025-03-06T03:02:52.700139Z",
     "iopub.status.idle": "2025-03-06T03:02:52.708653Z",
     "shell.execute_reply": "2025-03-06T03:02:52.707974Z"
    },
    "papermill": {
     "duration": 0.019444,
     "end_time": "2025-03-06T03:02:52.709944",
     "exception": false,
     "start_time": "2025-03-06T03:02:52.690500",
     "status": "completed"
    },
    "tags": []
   },
   "outputs": [
    {
     "name": "stdout",
     "output_type": "stream",
     "text": [
      "\n",
      "Training set label distribution:\n",
      "- Baseline samples (0): 433\n",
      "- Damage size 1: 107\n",
      "- Damage size 2: 107\n",
      "- Damage size 3: 105\n",
      "- Damage size 4: 106\n",
      "- Damage size 5: 105\n",
      "- Damage size 6: 107\n",
      "- Damage size 7: 115\n",
      "- Damage size 8: 109\n",
      "- Damage size 9: 107\n",
      "- Damage size 10: 111\n",
      "- Damage size 11: 109\n",
      "- Damage size 12: 111\n",
      "- Damage size 13: 104\n",
      "\n",
      "Test set label distribution:\n",
      "- Baseline samples (0): 47\n",
      "- Damage size 1: 13\n",
      "- Damage size 2: 13\n",
      "- Damage size 3: 15\n",
      "- Damage size 4: 14\n",
      "- Damage size 5: 15\n",
      "- Damage size 6: 13\n",
      "- Damage size 7: 5\n",
      "- Damage size 8: 11\n",
      "- Damage size 9: 13\n",
      "- Damage size 10: 9\n",
      "- Damage size 11: 11\n",
      "- Damage size 12: 9\n",
      "- Damage size 13: 16\n"
     ]
    }
   ],
   "source": [
    "# Print label distribution for training and test sets\n",
    "print_label_distribution(y_train, \"Training set\")\n",
    "print_label_distribution(y_test, \"Test set\")"
   ]
  },
  {
   "cell_type": "code",
   "execution_count": 20,
   "id": "56f1b7fc",
   "metadata": {
    "execution": {
     "iopub.execute_input": "2025-03-06T03:02:52.729632Z",
     "iopub.status.busy": "2025-03-06T03:02:52.729407Z",
     "iopub.status.idle": "2025-03-06T03:02:52.749572Z",
     "shell.execute_reply": "2025-03-06T03:02:52.748832Z"
    },
    "papermill": {
     "duration": 0.031379,
     "end_time": "2025-03-06T03:02:52.751065",
     "exception": false,
     "start_time": "2025-03-06T03:02:52.719686",
     "status": "completed"
    },
    "tags": []
   },
   "outputs": [],
   "source": [
    "# Convert input data to float32\n",
    "X_train = X_train.astype('float32')\n",
    "X_test = X_test.astype('float32')"
   ]
  },
  {
   "cell_type": "code",
   "execution_count": 21,
   "id": "06905774",
   "metadata": {
    "execution": {
     "iopub.execute_input": "2025-03-06T03:02:52.770105Z",
     "iopub.status.busy": "2025-03-06T03:02:52.769855Z",
     "iopub.status.idle": "2025-03-06T03:02:52.773147Z",
     "shell.execute_reply": "2025-03-06T03:02:52.772394Z"
    },
    "papermill": {
     "duration": 0.013896,
     "end_time": "2025-03-06T03:02:52.774445",
     "exception": false,
     "start_time": "2025-03-06T03:02:52.760549",
     "status": "completed"
    },
    "tags": []
   },
   "outputs": [],
   "source": [
    "y_train = y_train.astype('float32')\n",
    "y_test = y_test.astype('float32')"
   ]
  },
  {
   "cell_type": "code",
   "execution_count": 22,
   "id": "9c78279f",
   "metadata": {
    "execution": {
     "iopub.execute_input": "2025-03-06T03:02:52.792875Z",
     "iopub.status.busy": "2025-03-06T03:02:52.792639Z",
     "iopub.status.idle": "2025-03-06T03:02:52.810530Z",
     "shell.execute_reply": "2025-03-06T03:02:52.809788Z"
    },
    "papermill": {
     "duration": 0.028507,
     "end_time": "2025-03-06T03:02:52.811771",
     "exception": false,
     "start_time": "2025-03-06T03:02:52.783264",
     "status": "completed"
    },
    "tags": []
   },
   "outputs": [
    {
     "name": "stdout",
     "output_type": "stream",
     "text": [
      "Min values after scaling: [-1.040155  -0.9812768 -1.        ... -1.        -0.9722817 -0.9399686]\n",
      "Max values after scaling: [1.0318567  0.94322634 1.         ... 1.         0.9312466  1.0010613 ]\n"
     ]
    }
   ],
   "source": [
    "print(\"Min values after scaling:\", np.min(X_train, axis=(1,2)))\n",
    "print(\"Max values after scaling:\", np.max(X_train, axis=(1,2)))"
   ]
  },
  {
   "cell_type": "code",
   "execution_count": 23,
   "id": "a725db19",
   "metadata": {
    "execution": {
     "iopub.execute_input": "2025-03-06T03:02:52.831160Z",
     "iopub.status.busy": "2025-03-06T03:02:52.830881Z",
     "iopub.status.idle": "2025-03-06T03:02:52.835545Z",
     "shell.execute_reply": "2025-03-06T03:02:52.834879Z"
    },
    "papermill": {
     "duration": 0.015759,
     "end_time": "2025-03-06T03:02:52.836866",
     "exception": false,
     "start_time": "2025-03-06T03:02:52.821107",
     "status": "completed"
    },
    "tags": []
   },
   "outputs": [
    {
     "name": "stdout",
     "output_type": "stream",
     "text": [
      "X_train dtype: float32\n",
      "y_train dtype: float32\n"
     ]
    }
   ],
   "source": [
    "print(\"X_train dtype:\", X_train.dtype)  # Should print float32\n",
    "print(\"y_train dtype:\", y_train.dtype)  # Should print float32"
   ]
  },
  {
   "cell_type": "code",
   "execution_count": 24,
   "id": "4b7d542e",
   "metadata": {
    "execution": {
     "iopub.execute_input": "2025-03-06T03:02:52.856476Z",
     "iopub.status.busy": "2025-03-06T03:02:52.856236Z",
     "iopub.status.idle": "2025-03-06T03:02:52.863068Z",
     "shell.execute_reply": "2025-03-06T03:02:52.862370Z"
    },
    "papermill": {
     "duration": 0.018252,
     "end_time": "2025-03-06T03:02:52.864469",
     "exception": false,
     "start_time": "2025-03-06T03:02:52.846217",
     "status": "completed"
    },
    "tags": []
   },
   "outputs": [
    {
     "name": "stdout",
     "output_type": "stream",
     "text": [
      "Before Normalizing training targets (first 5): [ 5.  3. 13.  1. 10.]\n",
      "Before Normalizing test targets (first 5): [7. 0. 6. 1. 8.]\n",
      "Normalized training targets (first 5): [0.3846154  0.23076923 1.         0.07692308 0.7692308 ]\n",
      "Normalized test targets (first 5): [0.53846157 0.         0.46153846 0.07692308 0.61538464]\n"
     ]
    }
   ],
   "source": [
    "import numpy as np\n",
    "\n",
    "# Compute the minimum and maximum values from the training targets.\n",
    "y_min = np.min(y_train)\n",
    "y_max = np.max(y_train)\n",
    "\n",
    "# Normalize the training and test targets.\n",
    "y_train_norm = (y_train - y_min) / (y_max - y_min)\n",
    "y_test_norm = (y_test - y_min) / (y_max - y_min)\n",
    "\n",
    "\n",
    "print(\"Before Normalizing training targets (first 5):\", y_train[:5])\n",
    "print(\"Before Normalizing test targets (first 5):\", y_test[:5])\n",
    "\n",
    "print(\"Normalized training targets (first 5):\", y_train_norm[:5])\n",
    "print(\"Normalized test targets (first 5):\", y_test_norm[:5])\n"
   ]
  },
  {
   "cell_type": "markdown",
   "id": "bf8fe2f7",
   "metadata": {
    "papermill": {
     "duration": 0.009463,
     "end_time": "2025-03-06T03:02:52.884014",
     "exception": false,
     "start_time": "2025-03-06T03:02:52.874551",
     "status": "completed"
    },
    "tags": []
   },
   "source": [
    "# 3. Model Architecture"
   ]
  },
  {
   "cell_type": "code",
   "execution_count": 25,
   "id": "f3d6a021",
   "metadata": {
    "execution": {
     "iopub.execute_input": "2025-03-06T03:02:52.902787Z",
     "iopub.status.busy": "2025-03-06T03:02:52.902553Z",
     "iopub.status.idle": "2025-03-06T03:03:05.097318Z",
     "shell.execute_reply": "2025-03-06T03:03:05.096295Z"
    },
    "papermill": {
     "duration": 12.20584,
     "end_time": "2025-03-06T03:03:05.099105",
     "exception": false,
     "start_time": "2025-03-06T03:02:52.893265",
     "status": "completed"
    },
    "tags": []
   },
   "outputs": [],
   "source": [
    "import tensorflow as tf\n",
    "from tensorflow.keras import layers, models"
   ]
  },
  {
   "cell_type": "code",
   "execution_count": 26,
   "id": "825c8b16",
   "metadata": {
    "execution": {
     "iopub.execute_input": "2025-03-06T03:03:05.119640Z",
     "iopub.status.busy": "2025-03-06T03:03:05.119183Z",
     "iopub.status.idle": "2025-03-06T03:03:05.122996Z",
     "shell.execute_reply": "2025-03-06T03:03:05.122022Z"
    },
    "papermill": {
     "duration": 0.015523,
     "end_time": "2025-03-06T03:03:05.124558",
     "exception": false,
     "start_time": "2025-03-06T03:03:05.109035",
     "status": "completed"
    },
    "tags": []
   },
   "outputs": [],
   "source": [
    "tf.keras.backend.set_floatx('float32')"
   ]
  },
  {
   "cell_type": "code",
   "execution_count": 27,
   "id": "633de7bf",
   "metadata": {
    "execution": {
     "iopub.execute_input": "2025-03-06T03:03:05.144222Z",
     "iopub.status.busy": "2025-03-06T03:03:05.143934Z",
     "iopub.status.idle": "2025-03-06T03:03:05.147514Z",
     "shell.execute_reply": "2025-03-06T03:03:05.146616Z"
    },
    "papermill": {
     "duration": 0.014974,
     "end_time": "2025-03-06T03:03:05.148883",
     "exception": false,
     "start_time": "2025-03-06T03:03:05.133909",
     "status": "completed"
    },
    "tags": []
   },
   "outputs": [],
   "source": [
    "import tensorflow as tf\n",
    "from tensorflow import keras\n",
    "from tensorflow.keras import layers"
   ]
  },
  {
   "cell_type": "code",
   "execution_count": 28,
   "id": "85a31b45",
   "metadata": {
    "execution": {
     "iopub.execute_input": "2025-03-06T03:03:05.169910Z",
     "iopub.status.busy": "2025-03-06T03:03:05.169697Z",
     "iopub.status.idle": "2025-03-06T03:03:06.163960Z",
     "shell.execute_reply": "2025-03-06T03:03:06.163235Z"
    },
    "papermill": {
     "duration": 1.005758,
     "end_time": "2025-03-06T03:03:06.165390",
     "exception": false,
     "start_time": "2025-03-06T03:03:05.159632",
     "status": "completed"
    },
    "tags": []
   },
   "outputs": [],
   "source": [
    "# Multi-GPU setup\n",
    "strategy = tf.distribute.MirroredStrategy()"
   ]
  },
  {
   "cell_type": "code",
   "execution_count": 29,
   "id": "9af5a2d9",
   "metadata": {
    "execution": {
     "iopub.execute_input": "2025-03-06T03:03:06.185598Z",
     "iopub.status.busy": "2025-03-06T03:03:06.185345Z",
     "iopub.status.idle": "2025-03-06T03:03:06.189843Z",
     "shell.execute_reply": "2025-03-06T03:03:06.189056Z"
    },
    "papermill": {
     "duration": 0.015757,
     "end_time": "2025-03-06T03:03:06.191089",
     "exception": false,
     "start_time": "2025-03-06T03:03:06.175332",
     "status": "completed"
    },
    "tags": []
   },
   "outputs": [
    {
     "data": {
      "text/plain": [
       "'/kaggle'"
      ]
     },
     "execution_count": 29,
     "metadata": {},
     "output_type": "execute_result"
    }
   ],
   "source": [
    "%pwd"
   ]
  },
  {
   "cell_type": "code",
   "execution_count": 30,
   "id": "d89e7fc9",
   "metadata": {
    "execution": {
     "iopub.execute_input": "2025-03-06T03:03:06.210548Z",
     "iopub.status.busy": "2025-03-06T03:03:06.210309Z",
     "iopub.status.idle": "2025-03-06T03:03:06.215676Z",
     "shell.execute_reply": "2025-03-06T03:03:06.214780Z"
    },
    "papermill": {
     "duration": 0.016485,
     "end_time": "2025-03-06T03:03:06.216926",
     "exception": false,
     "start_time": "2025-03-06T03:03:06.200441",
     "status": "completed"
    },
    "tags": []
   },
   "outputs": [],
   "source": [
    "from tensorflow.keras.models import load_model"
   ]
  },
  {
   "cell_type": "code",
   "execution_count": 31,
   "id": "fcb439b2",
   "metadata": {
    "execution": {
     "iopub.execute_input": "2025-03-06T03:03:06.236907Z",
     "iopub.status.busy": "2025-03-06T03:03:06.236671Z",
     "iopub.status.idle": "2025-03-06T03:03:08.980886Z",
     "shell.execute_reply": "2025-03-06T03:03:08.980204Z"
    },
    "papermill": {
     "duration": 2.756051,
     "end_time": "2025-03-06T03:03:08.982456",
     "exception": false,
     "start_time": "2025-03-06T03:03:06.226405",
     "status": "completed"
    },
    "tags": []
   },
   "outputs": [],
   "source": [
    "keras.config.enable_unsafe_deserialization()\n",
    "# Load the model within the strategy scope\n",
    "with strategy.scope():\n",
    "    model_reg = load_model('/kaggle/input/regression_norm_1500/keras/default/1/model_checkpoint (2).keras')"
   ]
  },
  {
   "cell_type": "code",
   "execution_count": 32,
   "id": "f6524e2d",
   "metadata": {
    "execution": {
     "iopub.execute_input": "2025-03-06T03:03:09.002938Z",
     "iopub.status.busy": "2025-03-06T03:03:09.002674Z",
     "iopub.status.idle": "2025-03-06T03:03:09.007697Z",
     "shell.execute_reply": "2025-03-06T03:03:09.006816Z"
    },
    "papermill": {
     "duration": 0.016575,
     "end_time": "2025-03-06T03:03:09.008954",
     "exception": false,
     "start_time": "2025-03-06T03:03:08.992379",
     "status": "completed"
    },
    "tags": []
   },
   "outputs": [
    {
     "data": {
      "text/plain": [
       "(1836, 4369, 1)"
      ]
     },
     "execution_count": 32,
     "metadata": {},
     "output_type": "execute_result"
    }
   ],
   "source": [
    "X_train.shape"
   ]
  },
  {
   "cell_type": "code",
   "execution_count": 33,
   "id": "ff200816",
   "metadata": {
    "execution": {
     "iopub.execute_input": "2025-03-06T03:03:09.067161Z",
     "iopub.status.busy": "2025-03-06T03:03:09.066835Z",
     "iopub.status.idle": "2025-03-06T03:03:09.071949Z",
     "shell.execute_reply": "2025-03-06T03:03:09.071056Z"
    },
    "papermill": {
     "duration": 0.017279,
     "end_time": "2025-03-06T03:03:09.073490",
     "exception": false,
     "start_time": "2025-03-06T03:03:09.056211",
     "status": "completed"
    },
    "tags": []
   },
   "outputs": [
    {
     "data": {
      "text/plain": [
       "(1836,)"
      ]
     },
     "execution_count": 33,
     "metadata": {},
     "output_type": "execute_result"
    }
   ],
   "source": [
    "y_train.shape"
   ]
  },
  {
   "cell_type": "code",
   "execution_count": 34,
   "id": "b25f7afe",
   "metadata": {
    "execution": {
     "iopub.execute_input": "2025-03-06T03:03:09.094625Z",
     "iopub.status.busy": "2025-03-06T03:03:09.094368Z",
     "iopub.status.idle": "2025-03-06T03:03:09.100667Z",
     "shell.execute_reply": "2025-03-06T03:03:09.099799Z"
    },
    "papermill": {
     "duration": 0.018006,
     "end_time": "2025-03-06T03:03:09.101886",
     "exception": false,
     "start_time": "2025-03-06T03:03:09.083880",
     "status": "completed"
    },
    "tags": []
   },
   "outputs": [
    {
     "data": {
      "text/plain": [
       "(array([ 5.,  3., 13., ...,  0.,  4.,  6.], dtype=float32),\n",
       " array([ 7.,  0.,  6.,  1.,  8.,  4.,  0.,  4.,  0.,  1.,  4.,  9.,  9.,\n",
       "        12.,  3., 13.,  5.,  5.,  2.,  9.,  0.,  0., 12.,  8.,  3.,  0.,\n",
       "         0.,  4.,  0.,  1.,  3.,  0.,  7.,  5.,  5.,  9., 10., 10.,  4.,\n",
       "         0.,  0.,  3.,  5., 10., 13., 12.,  7.,  2.,  0.,  0.,  0.,  0.,\n",
       "         0., 11.,  6.,  6., 12.,  0.,  4.,  0.,  0.,  3.,  4.,  6.,  9.,\n",
       "         0.,  6.,  8.,  5.,  0.,  6., 12.,  0.,  5.,  3., 13.,  1.,  0.,\n",
       "         9., 11.,  6.,  6.,  9.,  0.,  8.,  4.,  5.,  0., 13., 12.,  1.,\n",
       "         2.,  3.,  0.,  3.,  0.,  4.,  8.,  8.,  5.,  5.,  3., 12., 13.,\n",
       "        13.,  5.,  0.,  6.,  0., 11., 11.,  1.,  0.,  1.,  8.,  0.,  0.,\n",
       "         0., 13.,  0.,  2., 12.,  0., 11.,  6., 13.,  5., 10., 10.,  4.,\n",
       "         2., 13.,  9.,  2.,  2.,  4.,  0.,  1.,  9.,  3.,  0.,  7., 11.,\n",
       "         1.,  0.,  5.,  8.,  1.,  9., 10.,  5., 12.,  1.,  0.,  2.,  3.,\n",
       "        13.,  5.,  2.,  0.,  2.,  4.,  4.,  0., 11.,  0., 10., 13., 10.,\n",
       "         4.,  3., 10.,  9., 13.,  2.,  0.,  8.,  6.,  3.,  9.,  6.,  0.,\n",
       "         6.,  9., 11., 11.,  3., 13.,  8.,  0., 11., 13.,  1.,  8.,  7.,\n",
       "         2., 13., 13.,  0.,  3.,  1., 11.,  2.,  0.], dtype=float32))"
      ]
     },
     "execution_count": 34,
     "metadata": {},
     "output_type": "execute_result"
    }
   ],
   "source": [
    "y_train,y_test"
   ]
  },
  {
   "cell_type": "code",
   "execution_count": 35,
   "id": "f2257697",
   "metadata": {
    "execution": {
     "iopub.execute_input": "2025-03-06T03:03:09.123458Z",
     "iopub.status.busy": "2025-03-06T03:03:09.123209Z",
     "iopub.status.idle": "2025-03-06T03:03:09.137510Z",
     "shell.execute_reply": "2025-03-06T03:03:09.136554Z"
    },
    "papermill": {
     "duration": 0.026574,
     "end_time": "2025-03-06T03:03:09.139188",
     "exception": false,
     "start_time": "2025-03-06T03:03:09.112614",
     "status": "completed"
    },
    "tags": []
   },
   "outputs": [],
   "source": [
    "# Assume X_train has the shape (num_samples, 4369, 1)\n",
    "num_samples, original_length, channels = X_train.shape\n",
    "\n",
    "# Calculate padding length so that the length becomes divisible by 5.\n",
    "pad_len = 1\n",
    "\n",
    "# Pad along the sequence axis (axis=1) with -np.inf so that the max operation is not affected.\n",
    "X_train_padded = np.pad(\n",
    "    X_train,\n",
    "    pad_width=((0, 0), (0, pad_len), (0, 0)),\n",
    "    mode='constant',\n",
    "    constant_values=-np.inf\n",
    ")\n",
    "\n",
    "# Now X_train_padded has the shape (num_samples, 4370, 1).\n"
   ]
  },
  {
   "cell_type": "code",
   "execution_count": 36,
   "id": "96590c6e",
   "metadata": {
    "execution": {
     "iopub.execute_input": "2025-03-06T03:03:09.160894Z",
     "iopub.status.busy": "2025-03-06T03:03:09.160646Z",
     "iopub.status.idle": "2025-03-06T03:03:09.165115Z",
     "shell.execute_reply": "2025-03-06T03:03:09.164325Z"
    },
    "papermill": {
     "duration": 0.016469,
     "end_time": "2025-03-06T03:03:09.166591",
     "exception": false,
     "start_time": "2025-03-06T03:03:09.150122",
     "status": "completed"
    },
    "tags": []
   },
   "outputs": [
    {
     "data": {
      "text/plain": [
       "(1836, 4370, 1)"
      ]
     },
     "execution_count": 36,
     "metadata": {},
     "output_type": "execute_result"
    }
   ],
   "source": [
    "X_train_padded.shape"
   ]
  },
  {
   "cell_type": "code",
   "execution_count": 37,
   "id": "cee87d82",
   "metadata": {
    "execution": {
     "iopub.execute_input": "2025-03-06T03:03:09.188093Z",
     "iopub.status.busy": "2025-03-06T03:03:09.187853Z",
     "iopub.status.idle": "2025-03-06T03:03:09.395786Z",
     "shell.execute_reply": "2025-03-06T03:03:09.394846Z"
    },
    "papermill": {
     "duration": 0.219185,
     "end_time": "2025-03-06T03:03:09.397126",
     "exception": false,
     "start_time": "2025-03-06T03:03:09.177941",
     "status": "completed"
    },
    "tags": []
   },
   "outputs": [
    {
     "name": "stdout",
     "output_type": "stream",
     "text": [
      "Shape after max-pooling and reshaping: (1836, 874)\n"
     ]
    }
   ],
   "source": [
    "\n",
    "# Reshape to group every 5 consecutive elements:\n",
    "# New shape will be (num_samples, 874, 5, 1)\n",
    "grouped_length = X_train_padded.shape[1] // 5  # Should be 874\n",
    "X_train_grouped = X_train_padded.reshape(num_samples, grouped_length, 5, channels)\n",
    "\n",
    "# Take the max over the 5 elements for each group (axis=2)\n",
    "# Resulting shape is (num_samples, 874, 1)\n",
    "X_train_max = np.max(X_train_grouped, axis=2)\n",
    "\n",
    "# Optionally, if your model expects inputs of shape (num_samples, 874),\n",
    "# reshape the array from (num_samples, 874, 1) to (num_samples, 874)\n",
    "X_train_final = X_train_max.reshape(num_samples, grouped_length)\n",
    "\n",
    "# Check the resulting shape\n",
    "print(\"Shape after max-pooling and reshaping:\", X_train_final.shape)\n"
   ]
  },
  {
   "cell_type": "code",
   "execution_count": 38,
   "id": "016944c2",
   "metadata": {
    "execution": {
     "iopub.execute_input": "2025-03-06T03:03:09.418180Z",
     "iopub.status.busy": "2025-03-06T03:03:09.417911Z",
     "iopub.status.idle": "2025-03-06T03:03:09.446549Z",
     "shell.execute_reply": "2025-03-06T03:03:09.445650Z"
    },
    "papermill": {
     "duration": 0.040367,
     "end_time": "2025-03-06T03:03:09.447830",
     "exception": false,
     "start_time": "2025-03-06T03:03:09.407463",
     "status": "completed"
    },
    "tags": []
   },
   "outputs": [
    {
     "name": "stdout",
     "output_type": "stream",
     "text": [
      "Shape after max-pooling and reshaping: (204, 874)\n"
     ]
    }
   ],
   "source": [
    "# Assume X_train has the shape (num_samples, 4369, 1)\n",
    "num_samples, original_length, channels = X_test.shape\n",
    "\n",
    "# Calculate padding length so that the length becomes divisible by 5.\n",
    "pad_len = 1\n",
    "\n",
    "# Pad along the sequence axis (axis=1) with -np.inf so that the max operation is not affected.\n",
    "X_test_padded = np.pad(\n",
    "    X_test,\n",
    "    pad_width=((0, 0), (0, pad_len), (0, 0)),\n",
    "    mode='constant',\n",
    "    constant_values=-np.inf\n",
    ")\n",
    "\n",
    "# Now X_train_padded has the shape (num_samples, 4370, 1).\n",
    "\n",
    "# Reshape to group every 5 consecutive elements:\n",
    "# New shape will be (num_samples, 874, 5, 1)\n",
    "grouped_length = X_test_padded.shape[1] // 5  # Should be 874\n",
    "X_test_grouped = X_test_padded.reshape(num_samples, grouped_length, 5, channels)\n",
    "\n",
    "# Take the max over the 5 elements for each group (axis=2)\n",
    "# Resulting shape is (num_samples, 874, 1)\n",
    "X_test_max = np.max(X_test_grouped, axis=2)\n",
    "\n",
    "# Optionally, if your model expects inputs of shape (num_samples, 874),\n",
    "# reshape the array from (num_samples, 874, 1) to (num_samples, 874)\n",
    "X_test_final = X_test_max.reshape(num_samples, grouped_length)\n",
    "\n",
    "# Check the resulting shape\n",
    "print(\"Shape after max-pooling and reshaping:\", X_test_final.shape)\n"
   ]
  },
  {
   "cell_type": "code",
   "execution_count": 39,
   "id": "71d33040",
   "metadata": {
    "execution": {
     "iopub.execute_input": "2025-03-06T03:03:09.468881Z",
     "iopub.status.busy": "2025-03-06T03:03:09.468607Z",
     "iopub.status.idle": "2025-03-06T03:03:09.476253Z",
     "shell.execute_reply": "2025-03-06T03:03:09.475554Z"
    },
    "papermill": {
     "duration": 0.019336,
     "end_time": "2025-03-06T03:03:09.477491",
     "exception": false,
     "start_time": "2025-03-06T03:03:09.458155",
     "status": "completed"
    },
    "tags": []
   },
   "outputs": [
    {
     "name": "stdout",
     "output_type": "stream",
     "text": [
      "Before Normalizing training targets (first 5): [ 5.  3. 13.  1. 10.]\n",
      "Before Normalizing test targets (first 5): [7. 0. 6. 1. 8.]\n",
      "Normalized training targets (first 5): [0.3846154  0.23076923 1.         0.07692308 0.7692308 ]\n",
      "Normalized test targets (first 5): [0.53846157 0.         0.46153846 0.07692308 0.61538464]\n"
     ]
    }
   ],
   "source": [
    "import numpy as np\n",
    "\n",
    "# Compute the minimum and maximum values from the training targets.\n",
    "y_min = np.min(y_train)\n",
    "y_max = np.max(y_train)\n",
    "\n",
    "# Normalize the training and test targets.\n",
    "y_train_norm = (y_train - y_min) / (y_max - y_min)\n",
    "y_test_norm = (y_test - y_min) / (y_max - y_min)\n",
    "\n",
    "\n",
    "print(\"Before Normalizing training targets (first 5):\", y_train[:5])\n",
    "print(\"Before Normalizing test targets (first 5):\", y_test[:5])\n",
    "\n",
    "print(\"Normalized training targets (first 5):\", y_train_norm[:5])\n",
    "print(\"Normalized test targets (first 5):\", y_test_norm[:5])"
   ]
  },
  {
   "cell_type": "code",
   "execution_count": null,
   "id": "1ebd444a",
   "metadata": {
    "papermill": {
     "duration": 0.010002,
     "end_time": "2025-03-06T03:03:09.497782",
     "exception": false,
     "start_time": "2025-03-06T03:03:09.487780",
     "status": "completed"
    },
    "tags": []
   },
   "outputs": [],
   "source": []
  },
  {
   "cell_type": "code",
   "execution_count": 40,
   "id": "973f5371",
   "metadata": {
    "execution": {
     "iopub.execute_input": "2025-03-06T03:03:09.518682Z",
     "iopub.status.busy": "2025-03-06T03:03:09.518472Z",
     "iopub.status.idle": "2025-03-06T03:03:09.522733Z",
     "shell.execute_reply": "2025-03-06T03:03:09.522073Z"
    },
    "papermill": {
     "duration": 0.01609,
     "end_time": "2025-03-06T03:03:09.523895",
     "exception": false,
     "start_time": "2025-03-06T03:03:09.507805",
     "status": "completed"
    },
    "tags": []
   },
   "outputs": [
    {
     "data": {
      "text/plain": [
       "'/kaggle'"
      ]
     },
     "execution_count": 40,
     "metadata": {},
     "output_type": "execute_result"
    }
   ],
   "source": [
    "%pwd"
   ]
  },
  {
   "cell_type": "code",
   "execution_count": 41,
   "id": "6ca34984",
   "metadata": {
    "execution": {
     "iopub.execute_input": "2025-03-06T03:03:09.544505Z",
     "iopub.status.busy": "2025-03-06T03:03:09.544219Z",
     "iopub.status.idle": "2025-03-06T03:03:09.547673Z",
     "shell.execute_reply": "2025-03-06T03:03:09.546847Z"
    },
    "papermill": {
     "duration": 0.015166,
     "end_time": "2025-03-06T03:03:09.549017",
     "exception": false,
     "start_time": "2025-03-06T03:03:09.533851",
     "status": "completed"
    },
    "tags": []
   },
   "outputs": [],
   "source": [
    "os.chdir(\"working\")"
   ]
  },
  {
   "cell_type": "code",
   "execution_count": 42,
   "id": "eeef9351",
   "metadata": {
    "execution": {
     "iopub.execute_input": "2025-03-06T03:03:09.570220Z",
     "iopub.status.busy": "2025-03-06T03:03:09.569901Z",
     "iopub.status.idle": "2025-03-06T03:03:09.573423Z",
     "shell.execute_reply": "2025-03-06T03:03:09.572523Z"
    },
    "papermill": {
     "duration": 0.015363,
     "end_time": "2025-03-06T03:03:09.574698",
     "exception": false,
     "start_time": "2025-03-06T03:03:09.559335",
     "status": "completed"
    },
    "tags": []
   },
   "outputs": [],
   "source": [
    "os.chdir(\"..\")\n",
    "os.chdir(\"input\")"
   ]
  },
  {
   "cell_type": "code",
   "execution_count": 43,
   "id": "0f4c71f9",
   "metadata": {
    "execution": {
     "iopub.execute_input": "2025-03-06T03:03:09.596118Z",
     "iopub.status.busy": "2025-03-06T03:03:09.595831Z",
     "iopub.status.idle": "2025-03-06T03:03:09.599417Z",
     "shell.execute_reply": "2025-03-06T03:03:09.598702Z"
    },
    "papermill": {
     "duration": 0.015839,
     "end_time": "2025-03-06T03:03:09.600644",
     "exception": false,
     "start_time": "2025-03-06T03:03:09.584805",
     "status": "completed"
    },
    "tags": []
   },
   "outputs": [],
   "source": [
    "import tensorflow as tf\n",
    "from tensorflow import keras\n",
    "import numpy as np\n",
    "import matplotlib.pyplot as plt\n",
    "from sklearn.metrics import mean_squared_error, mean_absolute_error, r2_score\n"
   ]
  },
  {
   "cell_type": "code",
   "execution_count": 44,
   "id": "e014f524",
   "metadata": {
    "execution": {
     "iopub.execute_input": "2025-03-06T03:03:09.621408Z",
     "iopub.status.busy": "2025-03-06T03:03:09.621175Z",
     "iopub.status.idle": "2025-03-06T03:03:16.338136Z",
     "shell.execute_reply": "2025-03-06T03:03:16.337409Z"
    },
    "papermill": {
     "duration": 6.728613,
     "end_time": "2025-03-06T03:03:16.339340",
     "exception": false,
     "start_time": "2025-03-06T03:03:09.610727",
     "status": "completed"
    },
    "tags": []
   },
   "outputs": [
    {
     "name": "stdout",
     "output_type": "stream",
     "text": [
      "\u001b[1m7/7\u001b[0m \u001b[32m━━━━━━━━━━━━━━━━━━━━\u001b[0m\u001b[37m\u001b[0m \u001b[1m6s\u001b[0m 346ms/step - loss: 0.0282 - mae: 0.1108\n",
      "Test Loss (MSE): 0.02560625784099102\n",
      "Test MAE: 0.1065114438533783\n"
     ]
    }
   ],
   "source": [
    "# Evaluate the model using the built-in evaluation method.\n",
    "# This will return the loss (MSE in our case) and MAE (as we compiled with these metrics).\n",
    "loss, mae = model_reg.evaluate(X_test_final, y_test_norm, verbose=1)\n",
    "print(\"Test Loss (MSE):\", loss)\n",
    "print(\"Test MAE:\", mae)\n",
    "# CHANGE Y_TEST_NORM ACCORDINGLY, FOR THE CASE"
   ]
  },
  {
   "cell_type": "code",
   "execution_count": 45,
   "id": "2776e5ef",
   "metadata": {
    "execution": {
     "iopub.execute_input": "2025-03-06T03:03:16.362768Z",
     "iopub.status.busy": "2025-03-06T03:03:16.362498Z",
     "iopub.status.idle": "2025-03-06T03:03:20.826542Z",
     "shell.execute_reply": "2025-03-06T03:03:20.825726Z"
    },
    "papermill": {
     "duration": 4.477296,
     "end_time": "2025-03-06T03:03:20.827864",
     "exception": false,
     "start_time": "2025-03-06T03:03:16.350568",
     "status": "completed"
    },
    "tags": []
   },
   "outputs": [
    {
     "name": "stdout",
     "output_type": "stream",
     "text": [
      "\u001b[1m7/7\u001b[0m \u001b[32m━━━━━━━━━━━━━━━━━━━━\u001b[0m\u001b[37m\u001b[0m \u001b[1m4s\u001b[0m 449ms/step\n"
     ]
    }
   ],
   "source": [
    "# Make predictions on the test data.\n",
    "y_pred = model_reg.predict(X_test_final)"
   ]
  },
  {
   "cell_type": "code",
   "execution_count": 46,
   "id": "3b777dac",
   "metadata": {
    "execution": {
     "iopub.execute_input": "2025-03-06T03:03:20.853138Z",
     "iopub.status.busy": "2025-03-06T03:03:20.852814Z",
     "iopub.status.idle": "2025-03-06T03:03:20.858058Z",
     "shell.execute_reply": "2025-03-06T03:03:20.857157Z"
    },
    "papermill": {
     "duration": 0.019451,
     "end_time": "2025-03-06T03:03:20.859418",
     "exception": false,
     "start_time": "2025-03-06T03:03:20.839967",
     "status": "completed"
    },
    "tags": []
   },
   "outputs": [
    {
     "data": {
      "text/plain": [
       "(0.00023352326, 1.1178701)"
      ]
     },
     "execution_count": 46,
     "metadata": {},
     "output_type": "execute_result"
    }
   ],
   "source": [
    "y_pred.min(),y_pred.max()"
   ]
  },
  {
   "cell_type": "code",
   "execution_count": 47,
   "id": "6358be72",
   "metadata": {
    "execution": {
     "iopub.execute_input": "2025-03-06T03:03:20.883599Z",
     "iopub.status.busy": "2025-03-06T03:03:20.883354Z",
     "iopub.status.idle": "2025-03-06T03:03:20.887067Z",
     "shell.execute_reply": "2025-03-06T03:03:20.886181Z"
    },
    "papermill": {
     "duration": 0.01715,
     "end_time": "2025-03-06T03:03:20.888343",
     "exception": false,
     "start_time": "2025-03-06T03:03:20.871193",
     "status": "completed"
    },
    "tags": []
   },
   "outputs": [],
   "source": [
    "# Rescale predictions back to the original scale\n",
    "y_pred_original = y_pred * (y_max - y_min) + y_min\n",
    "\n",
    "# Rescale test targets back to the original scale for comparison\n",
    "y_test_original = y_test_norm * (y_max - y_min) + y_min"
   ]
  },
  {
   "cell_type": "code",
   "execution_count": 48,
   "id": "8f7580c6",
   "metadata": {
    "execution": {
     "iopub.execute_input": "2025-03-06T03:03:20.911963Z",
     "iopub.status.busy": "2025-03-06T03:03:20.911731Z",
     "iopub.status.idle": "2025-03-06T03:03:20.917068Z",
     "shell.execute_reply": "2025-03-06T03:03:20.916268Z"
    },
    "papermill": {
     "duration": 0.018545,
     "end_time": "2025-03-06T03:03:20.918359",
     "exception": false,
     "start_time": "2025-03-06T03:03:20.899814",
     "status": "completed"
    },
    "tags": []
   },
   "outputs": [],
   "source": [
    "# Compute additional regression metrics.\n",
    "mse = mean_squared_error(y_test_original, y_pred_original)\n",
    "rmse = np.sqrt(mse)\n",
    "mae_val = mean_absolute_error(y_test_original, y_pred_original)\n",
    "r2 = r2_score(y_test_original, y_pred_original)\n"
   ]
  },
  {
   "cell_type": "code",
   "execution_count": 49,
   "id": "936ae367",
   "metadata": {
    "execution": {
     "iopub.execute_input": "2025-03-06T03:03:20.941346Z",
     "iopub.status.busy": "2025-03-06T03:03:20.941141Z",
     "iopub.status.idle": "2025-03-06T03:03:21.262329Z",
     "shell.execute_reply": "2025-03-06T03:03:21.261480Z"
    },
    "papermill": {
     "duration": 0.334593,
     "end_time": "2025-03-06T03:03:21.264128",
     "exception": false,
     "start_time": "2025-03-06T03:03:20.929535",
     "status": "completed"
    },
    "tags": []
   },
   "outputs": [
    {
     "name": "stdout",
     "output_type": "stream",
     "text": [
      "\n",
      "Additional Regression Metrics:\n",
      "Mean Squared Error (MSE): 5.582663\n",
      "Root Mean Squared Error (RMSE): 2.362766\n",
      "Mean Absolute Error (MAE): 1.5142486\n",
      "R^2 Score: 0.7147248031921158\n"
     ]
    },
    {
     "data": {
      "image/png": "[encoded data removed]",
      "text/plain": [
       "<Figure size 800x600 with 1 Axes>"
      ]
     },
     "metadata": {},
     "output_type": "display_data"
    }
   ],
   "source": [
    "\n",
    "keras.config.enable_unsafe_deserialization()\n",
    "\n",
    "\n",
    "print(\"\\nAdditional Regression Metrics:\")\n",
    "print(\"Mean Squared Error (MSE):\", mse)\n",
    "print(\"Root Mean Squared Error (RMSE):\", rmse)\n",
    "print(\"Mean Absolute Error (MAE):\", mae_val)\n",
    "print(\"R^2 Score:\", r2)\n",
    "\n",
    "# Create a scatter plot to compare true vs. predicted values.\n",
    "plt.figure(figsize=(8, 6))\n",
    "plt.scatter(y_test_original, y_pred_original, alpha=0.5, label=\"Predictions\")\n",
    "plt.plot([0, 13], [0, 13], color='red', linestyle='--', label=\"Ideal\")\n",
    "plt.xlabel(\"True Damage\")\n",
    "plt.ylabel(\"Predicted Damage\")\n",
    "plt.title(\"True vs. Predicted Damage\")\n",
    "plt.xlim(0, 13)\n",
    "plt.ylim(0, 13)\n",
    "plt.legend()\n",
    "plt.show()\n"
   ]
  },
  {
   "cell_type": "code",
   "execution_count": 50,
   "id": "645a8185",
   "metadata": {
    "execution": {
     "iopub.execute_input": "2025-03-06T03:03:21.289553Z",
     "iopub.status.busy": "2025-03-06T03:03:21.289314Z",
     "iopub.status.idle": "2025-03-06T03:03:21.297858Z",
     "shell.execute_reply": "2025-03-06T03:03:21.297020Z"
    },
    "papermill": {
     "duration": 0.022534,
     "end_time": "2025-03-06T03:03:21.299291",
     "exception": false,
     "start_time": "2025-03-06T03:03:21.276757",
     "status": "completed"
    },
    "tags": []
   },
   "outputs": [
    {
     "name": "stdout",
     "output_type": "stream",
     "text": [
      "Explained Variance Score: 0.7538410425186157\n",
      "Median Absolute Error: 0.83046675\n",
      "R² Score: 0.7147248031921158\n"
     ]
    }
   ],
   "source": [
    "from sklearn.metrics import explained_variance_score, median_absolute_error, mean_absolute_percentage_error\n",
    "import numpy as np\n",
    "\n",
    "# Assuming y_test contains the true values and y_pred contains your model's predictions\n",
    "\n",
    "# Explained Variance Score\n",
    "explained_variance = explained_variance_score(y_test_original, y_pred_original)\n",
    "print(\"Explained Variance Score:\", explained_variance)\n",
    "\n",
    "# Median Absolute Error\n",
    "median_ae = median_absolute_error(y_test_original, y_pred_original)\n",
    "print(\"Median Absolute Error:\", median_ae)\n",
    "\n",
    "# You can also compute the R-squared if needed (already available via r2_score)\n",
    "from sklearn.metrics import r2_score\n",
    "r2 = r2_score(y_test_original, y_pred_original)\n",
    "print(\"R² Score:\", r2)\n"
   ]
  },
  {
   "cell_type": "code",
   "execution_count": null,
   "id": "ef9278b6",
   "metadata": {
    "papermill": {
     "duration": 0.012216,
     "end_time": "2025-03-06T03:03:21.324357",
     "exception": false,
     "start_time": "2025-03-06T03:03:21.312141",
     "status": "completed"
    },
    "tags": []
   },
   "outputs": [],
   "source": []
  }
 ],
 "metadata": {
  "kaggle": {
   "accelerator": "nvidiaTeslaT4",
   "dataSources": [
    {
     "datasetId": 6637708,
     "sourceId": 10709822,
     "sourceType": "datasetVersion"
    },
    {
     "isSourceIdPinned": false,
     "modelId": 242327,
     "modelInstanceId": 220548,
     "sourceId": 258062,
     "sourceType": "modelInstanceVersion"
    },
    {
     "isSourceIdPinned": false,
     "modelId": 242542,
     "modelInstanceId": 220767,
     "sourceId": 258296,
     "sourceType": "modelInstanceVersion"
    },
    {
     "isSourceIdPinned": true,
     "modelId": 243092,
     "modelInstanceId": 221313,
     "sourceId": 258919,
     "sourceType": "modelInstanceVersion"
    },
    {
     "isSourceIdPinned": true,
     "modelId": 243537,
     "modelInstanceId": 221769,
     "sourceId": 259427,
     "sourceType": "modelInstanceVersion"
    },
    {
     "isSourceIdPinned": true,
     "modelId": 250722,
     "modelInstanceId": 228974,
     "sourceId": 267563,
     "sourceType": "modelInstanceVersion"
    },
    {
     "isSourceIdPinned": true,
     "modelId": 250854,
     "modelInstanceId": 229109,
     "sourceId": 267719,
     "sourceType": "modelInstanceVersion"
    },
    {
     "isSourceIdPinned": true,
     "modelId": 257614,
     "modelInstanceId": 235927,
     "sourceId": 275529,
     "sourceType": "modelInstanceVersion"
    },
    {
     "isSourceIdPinned": true,
     "modelId": 257967,
     "modelInstanceId": 236285,
     "sourceId": 275914,
     "sourceType": "modelInstanceVersion"
    },
    {
     "isSourceIdPinned": true,
     "modelId": 258559,
     "modelInstanceId": 236865,
     "sourceId": 276610,
     "sourceType": "modelInstanceVersion"
    }
   ],
   "dockerImageVersionId": 30887,
   "isGpuEnabled": true,
   "isInternetEnabled": true,
   "language": "python",
   "sourceType": "notebook"
  },
  "kernelspec": {
   "display_name": "Python 3",
   "language": "python",
   "name": "python3"
  },
  "language_info": {
   "codemirror_mode": {
    "name": "ipython",
    "version": 3
   },
   "file_extension": ".py",
   "mimetype": "text/x-python",
   "name": "python",
   "nbconvert_exporter": "python",
   "pygments_lexer": "ipython3",
   "version": "3.10.12"
  },
  "papermill": {
   "default_parameters": {},
   "duration": 36.594535,
   "end_time": "2025-03-06T03:03:23.158512",
   "environment_variables": {},
   "exception": null,
   "input_path": "__notebook__.ipynb",
   "output_path": "__notebook__.ipynb",
   "parameters": {},
   "start_time": "2025-03-06T03:02:46.563977",
   "version": "2.6.0"
  }
 },
 "nbformat": 4,
 "nbformat_minor": 5
}
