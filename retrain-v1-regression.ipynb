{
 "cells": [
  {
   "cell_type": "code",
   "execution_count": 1,
   "id": "1a7a1bd5",
   "metadata": {
    "_cell_guid": "b1076dfc-b9ad-4769-8c92-a6c4dae69d19",
    "_uuid": "8f2839f25d086af736a60e9eeb907d3b93b6e0e5",
    "execution": {
     "iopub.execute_input": "2025-02-15T11:44:23.877918Z",
     "iopub.status.busy": "2025-02-15T11:44:23.877604Z",
     "iopub.status.idle": "2025-02-15T11:44:24.594867Z",
     "shell.execute_reply": "2025-02-15T11:44:24.593902Z"
    },
    "papermill": {
     "duration": 0.725815,
     "end_time": "2025-02-15T11:44:24.596301",
     "exception": false,
     "start_time": "2025-02-15T11:44:23.870486",
     "status": "completed"
    },
    "tags": []
   },
   "outputs": [
    {
     "name": "stdout",
     "output_type": "stream",
     "text": [
      "/kaggle/input/ogw3-augmented/X_damage_augmented.npy\n",
      "/kaggle/input/ogw3-augmented/X_freq_augmented.npy\n",
      "/kaggle/input/ogw3-augmented/X_signals_augmented.npy\n",
      "/kaggle/input/regressionv1/keras/default/1/model_checkpoint_regression.keras\n"
     ]
    }
   ],
   "source": [
    "# This Python 3 environment comes with many helpful analytics libraries installed\n",
    "# It is defined by the kaggle/python Docker image: https://github.com/kaggle/docker-python\n",
    "# For example, here's several helpful packages to load\n",
    "\n",
    "import numpy as np # linear algebra\n",
    "import pandas as pd # data processing, CSV file I/O (e.g. pd.read_csv)\n",
    "\n",
    "# Input data files are available in the read-only \"../input/\" directory\n",
    "# For example, running this (by clicking run or pressing Shift+Enter) will list all files under the input directory\n",
    "\n",
    "import os\n",
    "for dirname, _, filenames in os.walk('/kaggle/input'):\n",
    "    for filename in filenames:\n",
    "        print(os.path.join(dirname, filename))\n",
    "\n",
    "# You can write up to 20GB to the current directory (/kaggle/working/) that gets preserved as output when you create a version using \"Save & Run All\" \n",
    "# You can also write temporary files to /kaggle/temp/, but they won't be saved outside of the current session"
   ]
  },
  {
   "cell_type": "markdown",
   "id": "846b26fc",
   "metadata": {
    "papermill": {
     "duration": 0.005471,
     "end_time": "2025-02-15T11:44:24.608085",
     "exception": false,
     "start_time": "2025-02-15T11:44:24.602614",
     "status": "completed"
    },
    "tags": []
   },
   "source": [
    "# 1.5) loading augmented data"
   ]
  },
  {
   "cell_type": "code",
   "execution_count": 2,
   "id": "4c40c160",
   "metadata": {
    "execution": {
     "iopub.execute_input": "2025-02-15T11:44:24.620151Z",
     "iopub.status.busy": "2025-02-15T11:44:24.619834Z",
     "iopub.status.idle": "2025-02-15T11:44:24.625066Z",
     "shell.execute_reply": "2025-02-15T11:44:24.624386Z"
    },
    "papermill": {
     "duration": 0.01256,
     "end_time": "2025-02-15T11:44:24.626264",
     "exception": false,
     "start_time": "2025-02-15T11:44:24.613704",
     "status": "completed"
    },
    "tags": []
   },
   "outputs": [
    {
     "data": {
      "text/plain": [
       "'/kaggle/working'"
      ]
     },
     "execution_count": 2,
     "metadata": {},
     "output_type": "execute_result"
    }
   ],
   "source": [
    "%pwd\n"
   ]
  },
  {
   "cell_type": "code",
   "execution_count": 3,
   "id": "56efb871",
   "metadata": {
    "execution": {
     "iopub.execute_input": "2025-02-15T11:44:24.638385Z",
     "iopub.status.busy": "2025-02-15T11:44:24.638187Z",
     "iopub.status.idle": "2025-02-15T11:44:24.641139Z",
     "shell.execute_reply": "2025-02-15T11:44:24.640525Z"
    },
    "papermill": {
     "duration": 0.010279,
     "end_time": "2025-02-15T11:44:24.642305",
     "exception": false,
     "start_time": "2025-02-15T11:44:24.632026",
     "status": "completed"
    },
    "tags": []
   },
   "outputs": [],
   "source": [
    "import os"
   ]
  },
  {
   "cell_type": "code",
   "execution_count": 4,
   "id": "94b1dab8",
   "metadata": {
    "execution": {
     "iopub.execute_input": "2025-02-15T11:44:24.654576Z",
     "iopub.status.busy": "2025-02-15T11:44:24.654329Z",
     "iopub.status.idle": "2025-02-15T11:44:24.657110Z",
     "shell.execute_reply": "2025-02-15T11:44:24.656553Z"
    },
    "papermill": {
     "duration": 0.010202,
     "end_time": "2025-02-15T11:44:24.658266",
     "exception": false,
     "start_time": "2025-02-15T11:44:24.648064",
     "status": "completed"
    },
    "tags": []
   },
   "outputs": [],
   "source": [
    "os.chdir(\"..\")\n",
    "os.chdir(\"input\")"
   ]
  },
  {
   "cell_type": "code",
   "execution_count": 5,
   "id": "b7c86203",
   "metadata": {
    "execution": {
     "iopub.execute_input": "2025-02-15T11:44:24.670296Z",
     "iopub.status.busy": "2025-02-15T11:44:24.670104Z",
     "iopub.status.idle": "2025-02-15T11:44:26.208673Z",
     "shell.execute_reply": "2025-02-15T11:44:26.207702Z"
    },
    "papermill": {
     "duration": 1.546623,
     "end_time": "2025-02-15T11:44:26.210663",
     "exception": false,
     "start_time": "2025-02-15T11:44:24.664040",
     "status": "completed"
    },
    "tags": []
   },
   "outputs": [],
   "source": [
    "X_signals_augmented = np.load('ogw3-augmented/X_signals_augmented.npy')\n",
    "X_damage_augmented = np.load('ogw3-augmented/X_damage_augmented.npy')\n",
    "X_freq_augmented = np.load('ogw3-augmented/X_freq_augmented.npy')\n"
   ]
  },
  {
   "cell_type": "code",
   "execution_count": 6,
   "id": "56ff0d19",
   "metadata": {
    "execution": {
     "iopub.execute_input": "2025-02-15T11:44:26.227228Z",
     "iopub.status.busy": "2025-02-15T11:44:26.226898Z",
     "iopub.status.idle": "2025-02-15T11:44:26.232073Z",
     "shell.execute_reply": "2025-02-15T11:44:26.231160Z"
    },
    "papermill": {
     "duration": 0.013355,
     "end_time": "2025-02-15T11:44:26.233601",
     "exception": false,
     "start_time": "2025-02-15T11:44:26.220246",
     "status": "completed"
    },
    "tags": []
   },
   "outputs": [
    {
     "name": "stdout",
     "output_type": "stream",
     "text": [
      "X_signals shape:(2040, 4369, 1)\n",
      "X_signals shape:(2040, 14)\n",
      "X_signals shape:(2040, 12)\n"
     ]
    }
   ],
   "source": [
    "print(f\"X_signals shape:{X_signals_augmented.shape}\")\n",
    "print(f\"X_signals shape:{X_damage_augmented.shape}\")\n",
    "print(f\"X_signals shape:{X_freq_augmented.shape}\")"
   ]
  },
  {
   "cell_type": "code",
   "execution_count": 7,
   "id": "ee8673b3",
   "metadata": {
    "execution": {
     "iopub.execute_input": "2025-02-15T11:44:26.250389Z",
     "iopub.status.busy": "2025-02-15T11:44:26.250100Z",
     "iopub.status.idle": "2025-02-15T11:44:26.362674Z",
     "shell.execute_reply": "2025-02-15T11:44:26.361513Z"
    },
    "papermill": {
     "duration": 0.120844,
     "end_time": "2025-02-15T11:44:26.364118",
     "exception": false,
     "start_time": "2025-02-15T11:44:26.243274",
     "status": "completed"
    },
    "tags": []
   },
   "outputs": [
    {
     "name": "stdout",
     "output_type": "stream",
     "text": [
      "Summary for X_signals_augmented:\n",
      "Mean: [[-0.00808563]\n",
      " [-0.03676917]\n",
      " [ 0.00793156]\n",
      " ...\n",
      " [ 0.43494834]\n",
      " [ 0.47826858]\n",
      " [ 0.47794448]]\n",
      "Variance: [[0.04756828]\n",
      " [0.05728288]\n",
      " [0.05182533]\n",
      " ...\n",
      " [0.11266843]\n",
      " [0.11778735]\n",
      " [0.1192308 ]]\n",
      "Min: [[-1.]\n",
      " [-1.]\n",
      " [-1.]\n",
      " ...\n",
      " [-1.]\n",
      " [-1.]\n",
      " [-1.]]\n",
      "Max: [[1.]\n",
      " [1.]\n",
      " [1.]\n",
      " ...\n",
      " [1.]\n",
      " [1.]\n",
      " [1.]]\n",
      "--------------------------------------------------\n",
      "Summary for X_freq_augmented:\n",
      "Mean: [0.08333333 0.08333333 0.08333333 0.08333333 0.08333333 0.08333333\n",
      " 0.08333333 0.08333333 0.08333333 0.08333333 0.08333333 0.08333333]\n",
      "Variance: [0.07638889 0.07638889 0.07638889 0.07638889 0.07638889 0.07638889\n",
      " 0.07638889 0.07638889 0.07638889 0.07638889 0.07638889 0.07638889]\n",
      "Min: [0. 0. 0. 0. 0. 0. 0. 0. 0. 0. 0. 0.]\n",
      "Max: [1. 1. 1. 1. 1. 1. 1. 1. 1. 1. 1. 1.]\n",
      "--------------------------------------------------\n"
     ]
    }
   ],
   "source": [
    "import numpy as np\n",
    "\n",
    "def summarize_data(X, name):\n",
    "    print(f\"Summary for {name}:\")\n",
    "    print(\"Mean:\", np.mean(X, axis=0))\n",
    "    print(\"Variance:\", np.var(X, axis=0))\n",
    "    print(\"Min:\", np.min(X, axis=0))\n",
    "    print(\"Max:\", np.max(X, axis=0))\n",
    "    print(\"-\" * 50)\n",
    "\n",
    "summarize_data(X_signals_augmented, \"X_signals_augmented\")\n",
    "summarize_data(X_freq_augmented, \"X_freq_augmented\")\n"
   ]
  },
  {
   "cell_type": "code",
   "execution_count": 8,
   "id": "ae5e99d9",
   "metadata": {
    "execution": {
     "iopub.execute_input": "2025-02-15T11:44:26.383030Z",
     "iopub.status.busy": "2025-02-15T11:44:26.382791Z",
     "iopub.status.idle": "2025-02-15T11:44:26.398839Z",
     "shell.execute_reply": "2025-02-15T11:44:26.397963Z"
    },
    "papermill": {
     "duration": 0.029373,
     "end_time": "2025-02-15T11:44:26.400209",
     "exception": false,
     "start_time": "2025-02-15T11:44:26.370836",
     "status": "completed"
    },
    "tags": []
   },
   "outputs": [
    {
     "name": "stdout",
     "output_type": "stream",
     "text": [
      "Damage Condition Counts:\n",
      " 0.0    26520\n",
      "1.0     2040\n",
      "Name: count, dtype: int64\n"
     ]
    }
   ],
   "source": [
    "import pandas as pd\n",
    "\n",
    "damage_counts = pd.Series(X_damage_augmented.flatten()).value_counts()\n",
    "print(\"Damage Condition Counts:\\n\", damage_counts)\n"
   ]
  },
  {
   "cell_type": "markdown",
   "id": "ab907603",
   "metadata": {
    "papermill": {
     "duration": 0.005858,
     "end_time": "2025-02-15T11:44:26.412520",
     "exception": false,
     "start_time": "2025-02-15T11:44:26.406662",
     "status": "completed"
    },
    "tags": []
   },
   "source": [
    "# 2. Execution and model Training\n",
    "This is where the actual execution starts"
   ]
  },
  {
   "cell_type": "code",
   "execution_count": 9,
   "id": "f2b0acef",
   "metadata": {
    "execution": {
     "iopub.execute_input": "2025-02-15T11:44:26.425717Z",
     "iopub.status.busy": "2025-02-15T11:44:26.425503Z",
     "iopub.status.idle": "2025-02-15T11:44:26.428925Z",
     "shell.execute_reply": "2025-02-15T11:44:26.428197Z"
    },
    "papermill": {
     "duration": 0.011096,
     "end_time": "2025-02-15T11:44:26.430129",
     "exception": false,
     "start_time": "2025-02-15T11:44:26.419033",
     "status": "completed"
    },
    "tags": []
   },
   "outputs": [],
   "source": [
    "import numpy as np\n",
    "import pandas as pd\n",
    "import pickle\n",
    "import matplotlib.pyplot as plt\n",
    "import os"
   ]
  },
  {
   "cell_type": "code",
   "execution_count": 10,
   "id": "b409e4db",
   "metadata": {
    "execution": {
     "iopub.execute_input": "2025-02-15T11:44:26.442893Z",
     "iopub.status.busy": "2025-02-15T11:44:26.442693Z",
     "iopub.status.idle": "2025-02-15T11:44:27.599255Z",
     "shell.execute_reply": "2025-02-15T11:44:27.598535Z"
    },
    "papermill": {
     "duration": 1.164715,
     "end_time": "2025-02-15T11:44:27.600882",
     "exception": false,
     "start_time": "2025-02-15T11:44:26.436167",
     "status": "completed"
    },
    "tags": []
   },
   "outputs": [],
   "source": [
    "import numpy as np\n",
    "from sklearn.model_selection import train_test_split\n",
    "\n",
    "# ----------------------------------------------------------------------\n",
    "# Step 1: Convert one-hot encoded damage labels to scalar values.\n",
    "# ----------------------------------------------------------------------\n",
    "# Each sample in X_damage_augmented is a one-hot vector. We convert it to the\n",
    "# corresponding class index (i.e., 0 for undamaged, 1-13 for damage levels).\n",
    "y_augmented = np.argmax(X_damage_augmented, axis=1).astype(np.float32)\n",
    "# y_augmented now has shape (num_samples,)"
   ]
  },
  {
   "cell_type": "code",
   "execution_count": 11,
   "id": "e4746c83",
   "metadata": {
    "execution": {
     "iopub.execute_input": "2025-02-15T11:44:27.614237Z",
     "iopub.status.busy": "2025-02-15T11:44:27.613898Z",
     "iopub.status.idle": "2025-02-15T11:44:27.618422Z",
     "shell.execute_reply": "2025-02-15T11:44:27.617789Z"
    },
    "papermill": {
     "duration": 0.012215,
     "end_time": "2025-02-15T11:44:27.619587",
     "exception": false,
     "start_time": "2025-02-15T11:44:27.607372",
     "status": "completed"
    },
    "tags": []
   },
   "outputs": [
    {
     "data": {
      "text/plain": [
       "0.0"
      ]
     },
     "execution_count": 11,
     "metadata": {},
     "output_type": "execute_result"
    }
   ],
   "source": [
    "y_augmented.min()"
   ]
  },
  {
   "cell_type": "code",
   "execution_count": 12,
   "id": "122430e0",
   "metadata": {
    "execution": {
     "iopub.execute_input": "2025-02-15T11:44:27.632107Z",
     "iopub.status.busy": "2025-02-15T11:44:27.631863Z",
     "iopub.status.idle": "2025-02-15T11:44:27.634962Z",
     "shell.execute_reply": "2025-02-15T11:44:27.634196Z"
    },
    "papermill": {
     "duration": 0.010676,
     "end_time": "2025-02-15T11:44:27.636245",
     "exception": false,
     "start_time": "2025-02-15T11:44:27.625569",
     "status": "completed"
    },
    "tags": []
   },
   "outputs": [],
   "source": [
    "# ----------------------------------------------------------------------\n",
    "# Step 2: Define the features.\n",
    "# ----------------------------------------------------------------------\n",
    "# For this regression task, we use the guided wave signals as the features.\n",
    "# (If you wish to include frequency information as additional features, you might\n",
    "# concatenate or process X_freq_augmented separately; here we assume only the signal is used.)\n",
    "X_augmented = X_signals_augmented  # shape: (num_samples, 4369, 1)"
   ]
  },
  {
   "cell_type": "code",
   "execution_count": 13,
   "id": "715cb6f7",
   "metadata": {
    "execution": {
     "iopub.execute_input": "2025-02-15T11:44:27.649847Z",
     "iopub.status.busy": "2025-02-15T11:44:27.649516Z",
     "iopub.status.idle": "2025-02-15T11:44:27.680295Z",
     "shell.execute_reply": "2025-02-15T11:44:27.679646Z"
    },
    "papermill": {
     "duration": 0.03963,
     "end_time": "2025-02-15T11:44:27.681849",
     "exception": false,
     "start_time": "2025-02-15T11:44:27.642219",
     "status": "completed"
    },
    "tags": []
   },
   "outputs": [],
   "source": [
    "# ----------------------------------------------------------------------\n",
    "# Step 3: Split the data into training and test sets.\n",
    "# ----------------------------------------------------------------------\n",
    "# Here we use 80% of the data for training and 20% for testing.\n",
    "X_train, X_test, y_train, y_test = train_test_split(\n",
    "    X_augmented, y_augmented, test_size=0.1, random_state=42\n",
    ")\n"
   ]
  },
  {
   "cell_type": "code",
   "execution_count": 14,
   "id": "9662ce2f",
   "metadata": {
    "execution": {
     "iopub.execute_input": "2025-02-15T11:44:27.706759Z",
     "iopub.status.busy": "2025-02-15T11:44:27.706524Z",
     "iopub.status.idle": "2025-02-15T11:44:27.710731Z",
     "shell.execute_reply": "2025-02-15T11:44:27.709794Z"
    },
    "papermill": {
     "duration": 0.016654,
     "end_time": "2025-02-15T11:44:27.712195",
     "exception": false,
     "start_time": "2025-02-15T11:44:27.695541",
     "status": "completed"
    },
    "tags": []
   },
   "outputs": [
    {
     "name": "stdout",
     "output_type": "stream",
     "text": [
      "Training data shape: (1836, 4369, 1)\n",
      "Training labels shape: (1836,)\n",
      "Test data shape: (204, 4369, 1)\n",
      "Test labels shape: (204,)\n"
     ]
    }
   ],
   "source": [
    "# ----------------------------------------------------------------------\n",
    "# Step 4: Verify the shapes of the datasets.\n",
    "# ----------------------------------------------------------------------\n",
    "print(f\"Training data shape: {X_train.shape}\")  # Expected: (num_train_samples, 4369, 1)\n",
    "print(f\"Training labels shape: {y_train.shape}\")  # Expected: (num_train_samples,)\n",
    "print(f\"Test data shape: {X_test.shape}\")         # Expected: (num_test_samples, 4369, 1)\n",
    "print(f\"Test labels shape: {y_test.shape}\")         # Expected: (num_test_samples,)\n"
   ]
  },
  {
   "cell_type": "code",
   "execution_count": 15,
   "id": "c807fc1b",
   "metadata": {
    "execution": {
     "iopub.execute_input": "2025-02-15T11:44:27.733320Z",
     "iopub.status.busy": "2025-02-15T11:44:27.733059Z",
     "iopub.status.idle": "2025-02-15T11:44:27.737712Z",
     "shell.execute_reply": "2025-02-15T11:44:27.736896Z"
    },
    "papermill": {
     "duration": 0.018296,
     "end_time": "2025-02-15T11:44:27.738948",
     "exception": false,
     "start_time": "2025-02-15T11:44:27.720652",
     "status": "completed"
    },
    "tags": []
   },
   "outputs": [],
   "source": [
    "def print_label_distribution(y, set_name):\n",
    "    \"\"\"Print the distribution of labels in a dataset.\"\"\"\n",
    "    print(f\"\\n{set_name} label distribution:\")\n",
    "    print(f\"- Baseline samples (0): {np.sum(y == 0)}\")\n",
    "    for damage_size in range(1, 14):\n",
    "        print(f\"- Damage size {damage_size}: {np.sum(y == damage_size)}\")"
   ]
  },
  {
   "cell_type": "code",
   "execution_count": 16,
   "id": "86c8bdf9",
   "metadata": {
    "execution": {
     "iopub.execute_input": "2025-02-15T11:44:27.759993Z",
     "iopub.status.busy": "2025-02-15T11:44:27.759788Z",
     "iopub.status.idle": "2025-02-15T11:44:27.769745Z",
     "shell.execute_reply": "2025-02-15T11:44:27.768963Z"
    },
    "papermill": {
     "duration": 0.021271,
     "end_time": "2025-02-15T11:44:27.770984",
     "exception": false,
     "start_time": "2025-02-15T11:44:27.749713",
     "status": "completed"
    },
    "tags": []
   },
   "outputs": [
    {
     "name": "stdout",
     "output_type": "stream",
     "text": [
      "\n",
      "Training set label distribution:\n",
      "- Baseline samples (0): 433\n",
      "- Damage size 1: 107\n",
      "- Damage size 2: 107\n",
      "- Damage size 3: 105\n",
      "- Damage size 4: 106\n",
      "- Damage size 5: 105\n",
      "- Damage size 6: 107\n",
      "- Damage size 7: 115\n",
      "- Damage size 8: 109\n",
      "- Damage size 9: 107\n",
      "- Damage size 10: 111\n",
      "- Damage size 11: 109\n",
      "- Damage size 12: 111\n",
      "- Damage size 13: 104\n",
      "\n",
      "Test set label distribution:\n",
      "- Baseline samples (0): 47\n",
      "- Damage size 1: 13\n",
      "- Damage size 2: 13\n",
      "- Damage size 3: 15\n",
      "- Damage size 4: 14\n",
      "- Damage size 5: 15\n",
      "- Damage size 6: 13\n",
      "- Damage size 7: 5\n",
      "- Damage size 8: 11\n",
      "- Damage size 9: 13\n",
      "- Damage size 10: 9\n",
      "- Damage size 11: 11\n",
      "- Damage size 12: 9\n",
      "- Damage size 13: 16\n"
     ]
    }
   ],
   "source": [
    "# Print label distribution for training and test sets\n",
    "print_label_distribution(y_train, \"Training set\")\n",
    "print_label_distribution(y_test, \"Test set\")"
   ]
  },
  {
   "cell_type": "code",
   "execution_count": 17,
   "id": "0bc0b52b",
   "metadata": {
    "execution": {
     "iopub.execute_input": "2025-02-15T11:44:27.783848Z",
     "iopub.status.busy": "2025-02-15T11:44:27.783645Z",
     "iopub.status.idle": "2025-02-15T11:44:27.804026Z",
     "shell.execute_reply": "2025-02-15T11:44:27.802939Z"
    },
    "papermill": {
     "duration": 0.028775,
     "end_time": "2025-02-15T11:44:27.805879",
     "exception": false,
     "start_time": "2025-02-15T11:44:27.777104",
     "status": "completed"
    },
    "tags": []
   },
   "outputs": [],
   "source": [
    "# Convert input data to float32\n",
    "X_train = X_train.astype('float32')\n",
    "X_test = X_test.astype('float32')"
   ]
  },
  {
   "cell_type": "code",
   "execution_count": 18,
   "id": "741dd42e",
   "metadata": {
    "execution": {
     "iopub.execute_input": "2025-02-15T11:44:27.822888Z",
     "iopub.status.busy": "2025-02-15T11:44:27.822476Z",
     "iopub.status.idle": "2025-02-15T11:44:27.826852Z",
     "shell.execute_reply": "2025-02-15T11:44:27.826006Z"
    },
    "papermill": {
     "duration": 0.014143,
     "end_time": "2025-02-15T11:44:27.828533",
     "exception": false,
     "start_time": "2025-02-15T11:44:27.814390",
     "status": "completed"
    },
    "tags": []
   },
   "outputs": [],
   "source": [
    "y_train = y_train.astype('int32')\n",
    "y_test = y_test.astype('int32')"
   ]
  },
  {
   "cell_type": "code",
   "execution_count": 19,
   "id": "576eaa02",
   "metadata": {
    "execution": {
     "iopub.execute_input": "2025-02-15T11:44:27.844931Z",
     "iopub.status.busy": "2025-02-15T11:44:27.844717Z",
     "iopub.status.idle": "2025-02-15T11:44:27.862481Z",
     "shell.execute_reply": "2025-02-15T11:44:27.861723Z"
    },
    "papermill": {
     "duration": 0.025592,
     "end_time": "2025-02-15T11:44:27.863726",
     "exception": false,
     "start_time": "2025-02-15T11:44:27.838134",
     "status": "completed"
    },
    "tags": []
   },
   "outputs": [
    {
     "name": "stdout",
     "output_type": "stream",
     "text": [
      "Min values after scaling: [-1.040155  -0.9812768 -1.        ... -1.        -0.9722817 -0.9399686]\n",
      "Max values after scaling: [1.0318567  0.94322634 1.         ... 1.         0.9312466  1.0010613 ]\n"
     ]
    }
   ],
   "source": [
    "print(\"Min values after scaling:\", np.min(X_train, axis=(1,2)))\n",
    "print(\"Max values after scaling:\", np.max(X_train, axis=(1,2)))"
   ]
  },
  {
   "cell_type": "code",
   "execution_count": 20,
   "id": "59ec0e23",
   "metadata": {
    "execution": {
     "iopub.execute_input": "2025-02-15T11:44:27.876883Z",
     "iopub.status.busy": "2025-02-15T11:44:27.876681Z",
     "iopub.status.idle": "2025-02-15T11:44:27.880436Z",
     "shell.execute_reply": "2025-02-15T11:44:27.879720Z"
    },
    "papermill": {
     "duration": 0.011625,
     "end_time": "2025-02-15T11:44:27.881557",
     "exception": false,
     "start_time": "2025-02-15T11:44:27.869932",
     "status": "completed"
    },
    "tags": []
   },
   "outputs": [
    {
     "name": "stdout",
     "output_type": "stream",
     "text": [
      "X_train dtype: float32\n",
      "y_train dtype: int32\n"
     ]
    }
   ],
   "source": [
    "print(\"X_train dtype:\", X_train.dtype)  # Should print float32\n",
    "print(\"y_train dtype:\", y_train.dtype)  # Should print float32"
   ]
  },
  {
   "cell_type": "markdown",
   "id": "a7ade1bb",
   "metadata": {
    "papermill": {
     "duration": 0.005842,
     "end_time": "2025-02-15T11:44:27.893486",
     "exception": false,
     "start_time": "2025-02-15T11:44:27.887644",
     "status": "completed"
    },
    "tags": []
   },
   "source": [
    "# 3. Model Architecture"
   ]
  },
  {
   "cell_type": "code",
   "execution_count": 21,
   "id": "ccfd208e",
   "metadata": {
    "execution": {
     "iopub.execute_input": "2025-02-15T11:44:27.906194Z",
     "iopub.status.busy": "2025-02-15T11:44:27.906002Z",
     "iopub.status.idle": "2025-02-15T11:44:38.995824Z",
     "shell.execute_reply": "2025-02-15T11:44:38.995085Z"
    },
    "papermill": {
     "duration": 11.097755,
     "end_time": "2025-02-15T11:44:38.997366",
     "exception": false,
     "start_time": "2025-02-15T11:44:27.899611",
     "status": "completed"
    },
    "tags": []
   },
   "outputs": [],
   "source": [
    "import tensorflow as tf\n",
    "from tensorflow import keras\n",
    "from tensorflow.keras import layers, models\n",
    "from tensorflow.keras.models import load_model"
   ]
  },
  {
   "cell_type": "code",
   "execution_count": 22,
   "id": "2927f35e",
   "metadata": {
    "execution": {
     "iopub.execute_input": "2025-02-15T11:44:39.011451Z",
     "iopub.status.busy": "2025-02-15T11:44:39.010979Z",
     "iopub.status.idle": "2025-02-15T11:44:39.014186Z",
     "shell.execute_reply": "2025-02-15T11:44:39.013613Z"
    },
    "papermill": {
     "duration": 0.011242,
     "end_time": "2025-02-15T11:44:39.015379",
     "exception": false,
     "start_time": "2025-02-15T11:44:39.004137",
     "status": "completed"
    },
    "tags": []
   },
   "outputs": [],
   "source": [
    "tf.keras.backend.set_floatx('float32')"
   ]
  },
  {
   "cell_type": "code",
   "execution_count": 23,
   "id": "407b2d15",
   "metadata": {
    "execution": {
     "iopub.execute_input": "2025-02-15T11:44:39.028454Z",
     "iopub.status.busy": "2025-02-15T11:44:39.028216Z",
     "iopub.status.idle": "2025-02-15T11:44:39.957484Z",
     "shell.execute_reply": "2025-02-15T11:44:39.956780Z"
    },
    "papermill": {
     "duration": 0.93711,
     "end_time": "2025-02-15T11:44:39.958812",
     "exception": false,
     "start_time": "2025-02-15T11:44:39.021702",
     "status": "completed"
    },
    "tags": []
   },
   "outputs": [],
   "source": [
    "# Multi-GPU setup\n",
    "strategy = tf.distribute.MirroredStrategy()"
   ]
  },
  {
   "cell_type": "code",
   "execution_count": 24,
   "id": "dec8ef7b",
   "metadata": {
    "execution": {
     "iopub.execute_input": "2025-02-15T11:44:39.972112Z",
     "iopub.status.busy": "2025-02-15T11:44:39.971890Z",
     "iopub.status.idle": "2025-02-15T11:44:39.976354Z",
     "shell.execute_reply": "2025-02-15T11:44:39.975736Z"
    },
    "papermill": {
     "duration": 0.012207,
     "end_time": "2025-02-15T11:44:39.977485",
     "exception": false,
     "start_time": "2025-02-15T11:44:39.965278",
     "status": "completed"
    },
    "tags": []
   },
   "outputs": [
    {
     "data": {
      "text/plain": [
       "'/kaggle/input'"
      ]
     },
     "execution_count": 24,
     "metadata": {},
     "output_type": "execute_result"
    }
   ],
   "source": [
    "%pwd"
   ]
  },
  {
   "cell_type": "code",
   "execution_count": 25,
   "id": "90c28ad5",
   "metadata": {
    "execution": {
     "iopub.execute_input": "2025-02-15T11:44:39.990720Z",
     "iopub.status.busy": "2025-02-15T11:44:39.990520Z",
     "iopub.status.idle": "2025-02-15T11:44:40.003558Z",
     "shell.execute_reply": "2025-02-15T11:44:40.002908Z"
    },
    "papermill": {
     "duration": 0.021043,
     "end_time": "2025-02-15T11:44:40.004732",
     "exception": false,
     "start_time": "2025-02-15T11:44:39.983689",
     "status": "completed"
    },
    "tags": []
   },
   "outputs": [],
   "source": [
    "# Assume X_train has the shape (num_samples, 4369, 1)\n",
    "num_samples, original_length, channels = X_train.shape\n",
    "\n",
    "# Calculate padding length so that the length becomes divisible by 5.\n",
    "pad_len = 1\n",
    "\n",
    "# Pad along the sequence axis (axis=1) with -np.inf so that the max operation is not affected.\n",
    "X_train_padded = np.pad(\n",
    "    X_train,\n",
    "    pad_width=((0, 0), (0, pad_len), (0, 0)),\n",
    "    mode='constant',\n",
    "    constant_values=-np.inf\n",
    ")\n",
    "\n",
    "# Now X_train_padded has the shape (num_samples, 4370, 1).\n"
   ]
  },
  {
   "cell_type": "code",
   "execution_count": 26,
   "id": "6e63a137",
   "metadata": {
    "execution": {
     "iopub.execute_input": "2025-02-15T11:44:40.017876Z",
     "iopub.status.busy": "2025-02-15T11:44:40.017640Z",
     "iopub.status.idle": "2025-02-15T11:44:40.021753Z",
     "shell.execute_reply": "2025-02-15T11:44:40.021186Z"
    },
    "papermill": {
     "duration": 0.01184,
     "end_time": "2025-02-15T11:44:40.022956",
     "exception": false,
     "start_time": "2025-02-15T11:44:40.011116",
     "status": "completed"
    },
    "tags": []
   },
   "outputs": [
    {
     "data": {
      "text/plain": [
       "(1836, 4370, 1)"
      ]
     },
     "execution_count": 26,
     "metadata": {},
     "output_type": "execute_result"
    }
   ],
   "source": [
    "X_train_padded.shape"
   ]
  },
  {
   "cell_type": "code",
   "execution_count": 27,
   "id": "6f3f418c",
   "metadata": {
    "execution": {
     "iopub.execute_input": "2025-02-15T11:44:40.036250Z",
     "iopub.status.busy": "2025-02-15T11:44:40.036031Z",
     "iopub.status.idle": "2025-02-15T11:44:40.225114Z",
     "shell.execute_reply": "2025-02-15T11:44:40.224315Z"
    },
    "papermill": {
     "duration": 0.197336,
     "end_time": "2025-02-15T11:44:40.226520",
     "exception": false,
     "start_time": "2025-02-15T11:44:40.029184",
     "status": "completed"
    },
    "tags": []
   },
   "outputs": [
    {
     "name": "stdout",
     "output_type": "stream",
     "text": [
      "Shape after max-pooling and reshaping: (1836, 874)\n"
     ]
    }
   ],
   "source": [
    "\n",
    "# Reshape to group every 5 consecutive elements:\n",
    "# New shape will be (num_samples, 874, 5, 1)\n",
    "grouped_length = X_train_padded.shape[1] // 5  # Should be 874\n",
    "X_train_grouped = X_train_padded.reshape(num_samples, grouped_length, 5, channels)\n",
    "\n",
    "# Take the max over the 5 elements for each group (axis=2)\n",
    "# Resulting shape is (num_samples, 874, 1)\n",
    "X_train_max = np.max(X_train_grouped, axis=2)\n",
    "\n",
    "# Optionally, if your model expects inputs of shape (num_samples, 874),\n",
    "# reshape the array from (num_samples, 874, 1) to (num_samples, 874)\n",
    "X_train_final = X_train_max.reshape(num_samples, grouped_length)\n",
    "\n",
    "# Check the resulting shape\n",
    "print(\"Shape after max-pooling and reshaping:\", X_train_final.shape)\n"
   ]
  },
  {
   "cell_type": "code",
   "execution_count": 28,
   "id": "e830fec3",
   "metadata": {
    "execution": {
     "iopub.execute_input": "2025-02-15T11:44:40.240098Z",
     "iopub.status.busy": "2025-02-15T11:44:40.239882Z",
     "iopub.status.idle": "2025-02-15T11:44:40.268744Z",
     "shell.execute_reply": "2025-02-15T11:44:40.268092Z"
    },
    "papermill": {
     "duration": 0.036798,
     "end_time": "2025-02-15T11:44:40.269844",
     "exception": false,
     "start_time": "2025-02-15T11:44:40.233046",
     "status": "completed"
    },
    "tags": []
   },
   "outputs": [
    {
     "name": "stdout",
     "output_type": "stream",
     "text": [
      "Shape after max-pooling and reshaping: (204, 874)\n"
     ]
    }
   ],
   "source": [
    "# Assume X_train has the shape (num_samples, 4369, 1)\n",
    "num_samples, original_length, channels = X_test.shape\n",
    "\n",
    "# Calculate padding length so that the length becomes divisible by 5.\n",
    "pad_len = 1\n",
    "\n",
    "# Pad along the sequence axis (axis=1) with -np.inf so that the max operation is not affected.\n",
    "X_test_padded = np.pad(\n",
    "    X_test,\n",
    "    pad_width=((0, 0), (0, pad_len), (0, 0)),\n",
    "    mode='constant',\n",
    "    constant_values=-np.inf\n",
    ")\n",
    "\n",
    "# Now X_train_padded has the shape (num_samples, 4370, 1).\n",
    "\n",
    "# Reshape to group every 5 consecutive elements:\n",
    "# New shape will be (num_samples, 874, 5, 1)\n",
    "grouped_length = X_test_padded.shape[1] // 5  # Should be 874\n",
    "X_test_grouped = X_test_padded.reshape(num_samples, grouped_length, 5, channels)\n",
    "\n",
    "# Take the max over the 5 elements for each group (axis=2)\n",
    "# Resulting shape is (num_samples, 874, 1)\n",
    "X_test_max = np.max(X_test_grouped, axis=2)\n",
    "\n",
    "# Optionally, if your model expects inputs of shape (num_samples, 874),\n",
    "# reshape the array from (num_samples, 874, 1) to (num_samples, 874)\n",
    "X_test_final = X_test_max.reshape(num_samples, grouped_length)\n",
    "\n",
    "# Check the resulting shape\n",
    "print(\"Shape after max-pooling and reshaping:\", X_test_final.shape)\n"
   ]
  },
  {
   "cell_type": "code",
   "execution_count": 29,
   "id": "42da3081",
   "metadata": {
    "execution": {
     "iopub.execute_input": "2025-02-15T11:44:40.283298Z",
     "iopub.status.busy": "2025-02-15T11:44:40.283095Z",
     "iopub.status.idle": "2025-02-15T11:44:40.290340Z",
     "shell.execute_reply": "2025-02-15T11:44:40.289531Z"
    },
    "papermill": {
     "duration": 0.015359,
     "end_time": "2025-02-15T11:44:40.291550",
     "exception": false,
     "start_time": "2025-02-15T11:44:40.276191",
     "status": "completed"
    },
    "tags": []
   },
   "outputs": [
    {
     "name": "stdout",
     "output_type": "stream",
     "text": [
      "Before Normalizing training targets (first 5): [ 5  3 13  1 10]\n",
      "Before Normalizing test targets (first 5): [7 0 6 1 8]\n",
      "Normalized training targets (first 5): [0.38461538 0.23076923 1.         0.07692308 0.76923077]\n",
      "Normalized test targets (first 5): [0.53846154 0.         0.46153846 0.07692308 0.61538462]\n"
     ]
    }
   ],
   "source": [
    "import numpy as np\n",
    "\n",
    "# Compute the minimum and maximum values from the training targets.\n",
    "y_min = np.min(y_train)\n",
    "y_max = np.max(y_train)\n",
    "\n",
    "# Normalize the training and test targets.\n",
    "y_train_norm = (y_train - y_min) / (y_max - y_min)\n",
    "y_test_norm = (y_test - y_min) / (y_max - y_min)\n",
    "\n",
    "\n",
    "print(\"Before Normalizing training targets (first 5):\", y_train[:5])\n",
    "print(\"Before Normalizing test targets (first 5):\", y_test[:5])\n",
    "\n",
    "print(\"Normalized training targets (first 5):\", y_train_norm[:5])\n",
    "print(\"Normalized test targets (first 5):\", y_test_norm[:5])"
   ]
  },
  {
   "cell_type": "code",
   "execution_count": 30,
   "id": "4c3024e0",
   "metadata": {
    "execution": {
     "iopub.execute_input": "2025-02-15T11:44:40.305611Z",
     "iopub.status.busy": "2025-02-15T11:44:40.305351Z",
     "iopub.status.idle": "2025-02-15T11:44:40.311065Z",
     "shell.execute_reply": "2025-02-15T11:44:40.310276Z"
    },
    "papermill": {
     "duration": 0.014372,
     "end_time": "2025-02-15T11:44:40.312277",
     "exception": false,
     "start_time": "2025-02-15T11:44:40.297905",
     "status": "completed"
    },
    "tags": []
   },
   "outputs": [],
   "source": [
    "from tensorflow.keras.callbacks import ModelCheckpoint\n",
    "\n",
    "# Define the checkpoint callback to save every epoch\n",
    "checkpoint_callback = ModelCheckpoint(\n",
    "    filepath='model_checkpoint.keras',  # Save file with epoch number and .keras extension\n",
    "    save_weights_only=False,  # Save the full model\n",
    "    save_freq='epoch',  # Save at the end of each epoch\n",
    "    verbose=1  # To print a message when the model is saved\n",
    ")\n",
    "\n",
    "# Modify the callbacks list to include the checkpoint callback \n",
    "callbacks = [\n",
    "    keras.callbacks.EarlyStopping(patience=100, restore_best_weights=True),\n",
    "    checkpoint_callback\n",
    "]\n"
   ]
  },
  {
   "cell_type": "code",
   "execution_count": 31,
   "id": "2a1a6c83",
   "metadata": {
    "execution": {
     "iopub.execute_input": "2025-02-15T11:44:40.325829Z",
     "iopub.status.busy": "2025-02-15T11:44:40.325625Z",
     "iopub.status.idle": "2025-02-15T11:44:40.329840Z",
     "shell.execute_reply": "2025-02-15T11:44:40.329217Z"
    },
    "papermill": {
     "duration": 0.012087,
     "end_time": "2025-02-15T11:44:40.330930",
     "exception": false,
     "start_time": "2025-02-15T11:44:40.318843",
     "status": "completed"
    },
    "tags": []
   },
   "outputs": [
    {
     "data": {
      "text/plain": [
       "'/kaggle/input'"
      ]
     },
     "execution_count": 31,
     "metadata": {},
     "output_type": "execute_result"
    }
   ],
   "source": [
    "%pwd"
   ]
  },
  {
   "cell_type": "code",
   "execution_count": 32,
   "id": "22d7582e",
   "metadata": {
    "execution": {
     "iopub.execute_input": "2025-02-15T11:44:40.344477Z",
     "iopub.status.busy": "2025-02-15T11:44:40.344262Z",
     "iopub.status.idle": "2025-02-15T11:44:42.943302Z",
     "shell.execute_reply": "2025-02-15T11:44:42.942592Z"
    },
    "papermill": {
     "duration": 2.607396,
     "end_time": "2025-02-15T11:44:42.944864",
     "exception": false,
     "start_time": "2025-02-15T11:44:40.337468",
     "status": "completed"
    },
    "tags": []
   },
   "outputs": [],
   "source": [
    "keras.config.enable_unsafe_deserialization()\n",
    "# Load the model within the strategy scope\n",
    "with strategy.scope():\n",
    "    model_loaded = load_model('regressionv1/keras/default/1/model_checkpoint_regression.keras')"
   ]
  },
  {
   "cell_type": "code",
   "execution_count": 33,
   "id": "62c5b4b0",
   "metadata": {
    "execution": {
     "iopub.execute_input": "2025-02-15T11:44:42.962875Z",
     "iopub.status.busy": "2025-02-15T11:44:42.962629Z",
     "iopub.status.idle": "2025-02-15T11:44:42.965921Z",
     "shell.execute_reply": "2025-02-15T11:44:42.965189Z"
    },
    "papermill": {
     "duration": 0.013066,
     "end_time": "2025-02-15T11:44:42.967203",
     "exception": false,
     "start_time": "2025-02-15T11:44:42.954137",
     "status": "completed"
    },
    "tags": []
   },
   "outputs": [],
   "source": [
    "os.chdir(\"..\")\n",
    "os.chdir(\"working\")"
   ]
  },
  {
   "cell_type": "code",
   "execution_count": 34,
   "id": "40aaf4ea",
   "metadata": {
    "execution": {
     "iopub.execute_input": "2025-02-15T11:44:42.982357Z",
     "iopub.status.busy": "2025-02-15T11:44:42.982150Z",
     "iopub.status.idle": "2025-02-15T11:44:42.986889Z",
     "shell.execute_reply": "2025-02-15T11:44:42.985968Z"
    },
    "papermill": {
     "duration": 0.013417,
     "end_time": "2025-02-15T11:44:42.988177",
     "exception": false,
     "start_time": "2025-02-15T11:44:42.974760",
     "status": "completed"
    },
    "tags": []
   },
   "outputs": [
    {
     "data": {
      "text/plain": [
       "'/kaggle/working'"
      ]
     },
     "execution_count": 34,
     "metadata": {},
     "output_type": "execute_result"
    }
   ],
   "source": [
    "%pwd"
   ]
  },
  {
   "cell_type": "code",
   "execution_count": 35,
   "id": "cca46605",
   "metadata": {
    "execution": {
     "iopub.execute_input": "2025-02-15T11:44:43.002744Z",
     "iopub.status.busy": "2025-02-15T11:44:43.002540Z",
     "iopub.status.idle": "2025-02-15T15:32:10.083075Z",
     "shell.execute_reply": "2025-02-15T15:32:10.082051Z"
    },
    "papermill": {
     "duration": 13647.494251,
     "end_time": "2025-02-15T15:32:10.489848",
     "exception": false,
     "start_time": "2025-02-15T11:44:42.995597",
     "status": "completed"
    },
    "tags": []
   },
   "outputs": [
    {
     "name": "stdout",
     "output_type": "stream",
     "text": [
      "Epoch 1/300\n",
      "\u001b[1m58/58\u001b[0m \u001b[32m━━━━━━━━━━━━━━━━━━━━\u001b[0m\u001b[37m\u001b[0m \u001b[1m0s\u001b[0m 937ms/step - loss: 1.4440 - mae: 0.9183\n",
      "Epoch 1: saving model to model_checkpoint.keras\n",
      "\u001b[1m58/58\u001b[0m \u001b[32m━━━━━━━━━━━━━━━━━━━━\u001b[0m\u001b[37m\u001b[0m \u001b[1m75s\u001b[0m 1s/step - loss: 1.4425 - mae: 0.9181 - val_loss: 3.2508 - val_mae: 1.2668\n",
      "Epoch 2/300\n",
      "\u001b[1m58/58\u001b[0m \u001b[32m━━━━━━━━━━━━━━━━━━━━\u001b[0m\u001b[37m\u001b[0m \u001b[1m0s\u001b[0m 1s/step - loss: 1.4692 - mae: 0.9318\n",
      "Epoch 2: saving model to model_checkpoint.keras\n",
      "\u001b[1m58/58\u001b[0m \u001b[32m━━━━━━━━━━━━━━━━━━━━\u001b[0m\u001b[37m\u001b[0m \u001b[1m66s\u001b[0m 1s/step - loss: 1.4695 - mae: 0.9319 - val_loss: 3.2212 - val_mae: 1.3119\n",
      "Epoch 3/300\n",
      "\u001b[1m58/58\u001b[0m \u001b[32m━━━━━━━━━━━━━━━━━━━━\u001b[0m\u001b[37m\u001b[0m \u001b[1m0s\u001b[0m 1s/step - loss: 1.4264 - mae: 0.9286\n",
      "Epoch 3: saving model to model_checkpoint.keras\n",
      "\u001b[1m58/58\u001b[0m \u001b[32m━━━━━━━━━━━━━━━━━━━━\u001b[0m\u001b[37m\u001b[0m \u001b[1m65s\u001b[0m 1s/step - loss: 1.4262 - mae: 0.9285 - val_loss: 3.1653 - val_mae: 1.2744\n",
      "Epoch 4/300\n",
      "\u001b[1m58/58\u001b[0m \u001b[32m━━━━━━━━━━━━━━━━━━━━\u001b[0m\u001b[37m\u001b[0m \u001b[1m0s\u001b[0m 1s/step - loss: 1.3421 - mae: 0.8943\n",
      "Epoch 4: saving model to model_checkpoint.keras\n",
      "\u001b[1m58/58\u001b[0m \u001b[32m━━━━━━━━━━━━━━━━━━━━\u001b[0m\u001b[37m\u001b[0m \u001b[1m66s\u001b[0m 1s/step - loss: 1.3427 - mae: 0.8946 - val_loss: 3.4460 - val_mae: 1.3198\n",
      "Epoch 5/300\n",
      "\u001b[1m58/58\u001b[0m \u001b[32m━━━━━━━━━━━━━━━━━━━━\u001b[0m\u001b[37m\u001b[0m \u001b[1m0s\u001b[0m 1s/step - loss: 1.4013 - mae: 0.9044\n",
      "Epoch 5: saving model to model_checkpoint.keras\n",
      "\u001b[1m58/58\u001b[0m \u001b[32m━━━━━━━━━━━━━━━━━━━━\u001b[0m\u001b[37m\u001b[0m \u001b[1m67s\u001b[0m 1s/step - loss: 1.4037 - mae: 0.9052 - val_loss: 3.5926 - val_mae: 1.3584\n",
      "Epoch 6/300\n",
      "\u001b[1m58/58\u001b[0m \u001b[32m━━━━━━━━━━━━━━━━━━━━\u001b[0m\u001b[37m\u001b[0m \u001b[1m0s\u001b[0m 1s/step - loss: 1.4552 - mae: 0.9346\n",
      "Epoch 6: saving model to model_checkpoint.keras\n",
      "\u001b[1m58/58\u001b[0m \u001b[32m━━━━━━━━━━━━━━━━━━━━\u001b[0m\u001b[37m\u001b[0m \u001b[1m66s\u001b[0m 1s/step - loss: 1.4547 - mae: 0.9346 - val_loss: 3.4398 - val_mae: 1.2986\n",
      "Epoch 7/300\n",
      "\u001b[1m58/58\u001b[0m \u001b[32m━━━━━━━━━━━━━━━━━━━━\u001b[0m\u001b[37m\u001b[0m \u001b[1m0s\u001b[0m 1s/step - loss: 1.4409 - mae: 0.9308\n",
      "Epoch 7: saving model to model_checkpoint.keras\n",
      "\u001b[1m58/58\u001b[0m \u001b[32m━━━━━━━━━━━━━━━━━━━━\u001b[0m\u001b[37m\u001b[0m \u001b[1m65s\u001b[0m 1s/step - loss: 1.4409 - mae: 0.9307 - val_loss: 3.4572 - val_mae: 1.3183\n",
      "Epoch 8/300\n",
      "\u001b[1m58/58\u001b[0m \u001b[32m━━━━━━━━━━━━━━━━━━━━\u001b[0m\u001b[37m\u001b[0m \u001b[1m0s\u001b[0m 1s/step - loss: 1.5314 - mae: 0.9386\n",
      "Epoch 8: saving model to model_checkpoint.keras\n",
      "\u001b[1m58/58\u001b[0m \u001b[32m━━━━━━━━━━━━━━━━━━━━\u001b[0m\u001b[37m\u001b[0m \u001b[1m65s\u001b[0m 1s/step - loss: 1.5342 - mae: 0.9397 - val_loss: 3.5117 - val_mae: 1.3643\n",
      "Epoch 9/300\n",
      "\u001b[1m58/58\u001b[0m \u001b[32m━━━━━━━━━━━━━━━━━━━━\u001b[0m\u001b[37m\u001b[0m \u001b[1m0s\u001b[0m 1s/step - loss: 1.2395 - mae: 0.8568\n",
      "Epoch 9: saving model to model_checkpoint.keras\n",
      "\u001b[1m58/58\u001b[0m \u001b[32m━━━━━━━━━━━━━━━━━━━━\u001b[0m\u001b[37m\u001b[0m \u001b[1m66s\u001b[0m 1s/step - loss: 1.2432 - mae: 0.8581 - val_loss: 3.3803 - val_mae: 1.2500\n",
      "Epoch 10/300\n",
      "\u001b[1m58/58\u001b[0m \u001b[32m━━━━━━━━━━━━━━━━━━━━\u001b[0m\u001b[37m\u001b[0m \u001b[1m0s\u001b[0m 1s/step - loss: 1.6575 - mae: 0.9813\n",
      "Epoch 10: saving model to model_checkpoint.keras\n",
      "\u001b[1m58/58\u001b[0m \u001b[32m━━━━━━━━━━━━━━━━━━━━\u001b[0m\u001b[37m\u001b[0m \u001b[1m66s\u001b[0m 1s/step - loss: 1.6537 - mae: 0.9799 - val_loss: 3.2325 - val_mae: 1.3131\n",
      "Epoch 11/300\n",
      "\u001b[1m58/58\u001b[0m \u001b[32m━━━━━━━━━━━━━━━━━━━━\u001b[0m\u001b[37m\u001b[0m \u001b[1m0s\u001b[0m 1s/step - loss: 1.2981 - mae: 0.8777\n",
      "Epoch 11: saving model to model_checkpoint.keras\n",
      "\u001b[1m58/58\u001b[0m \u001b[32m━━━━━━━━━━━━━━━━━━━━\u001b[0m\u001b[37m\u001b[0m \u001b[1m66s\u001b[0m 1s/step - loss: 1.2981 - mae: 0.8776 - val_loss: 3.4798 - val_mae: 1.3158\n",
      "Epoch 12/300\n",
      "\u001b[1m58/58\u001b[0m \u001b[32m━━━━━━━━━━━━━━━━━━━━\u001b[0m\u001b[37m\u001b[0m \u001b[1m0s\u001b[0m 1s/step - loss: 1.3494 - mae: 0.8900\n",
      "Epoch 12: saving model to model_checkpoint.keras\n",
      "\u001b[1m58/58\u001b[0m \u001b[32m━━━━━━━━━━━━━━━━━━━━\u001b[0m\u001b[37m\u001b[0m \u001b[1m66s\u001b[0m 1s/step - loss: 1.3518 - mae: 0.8909 - val_loss: 3.2395 - val_mae: 1.3227\n",
      "Epoch 13/300\n",
      "\u001b[1m58/58\u001b[0m \u001b[32m━━━━━━━━━━━━━━━━━━━━\u001b[0m\u001b[37m\u001b[0m \u001b[1m0s\u001b[0m 1s/step - loss: 1.3599 - mae: 0.8981\n",
      "Epoch 13: saving model to model_checkpoint.keras\n",
      "\u001b[1m58/58\u001b[0m \u001b[32m━━━━━━━━━━━━━━━━━━━━\u001b[0m\u001b[37m\u001b[0m \u001b[1m66s\u001b[0m 1s/step - loss: 1.3598 - mae: 0.8982 - val_loss: 3.2441 - val_mae: 1.2968\n",
      "Epoch 14/300\n",
      "\u001b[1m58/58\u001b[0m \u001b[32m━━━━━━━━━━━━━━━━━━━━\u001b[0m\u001b[37m\u001b[0m \u001b[1m0s\u001b[0m 1s/step - loss: 1.2053 - mae: 0.8418\n",
      "Epoch 14: saving model to model_checkpoint.keras\n",
      "\u001b[1m58/58\u001b[0m \u001b[32m━━━━━━━━━━━━━━━━━━━━\u001b[0m\u001b[37m\u001b[0m \u001b[1m65s\u001b[0m 1s/step - loss: 1.2078 - mae: 0.8428 - val_loss: 3.4118 - val_mae: 1.3673\n",
      "Epoch 15/300\n",
      "\u001b[1m58/58\u001b[0m \u001b[32m━━━━━━━━━━━━━━━━━━━━\u001b[0m\u001b[37m\u001b[0m \u001b[1m0s\u001b[0m 1s/step - loss: 1.2199 - mae: 0.8625\n",
      "Epoch 15: saving model to model_checkpoint.keras\n",
      "\u001b[1m58/58\u001b[0m \u001b[32m━━━━━━━━━━━━━━━━━━━━\u001b[0m\u001b[37m\u001b[0m \u001b[1m65s\u001b[0m 1s/step - loss: 1.2208 - mae: 0.8627 - val_loss: 3.4403 - val_mae: 1.3640\n",
      "Epoch 16/300\n",
      "\u001b[1m58/58\u001b[0m \u001b[32m━━━━━━━━━━━━━━━━━━━━\u001b[0m\u001b[37m\u001b[0m \u001b[1m0s\u001b[0m 1s/step - loss: 1.3318 - mae: 0.8948\n",
      "Epoch 16: saving model to model_checkpoint.keras\n",
      "\u001b[1m58/58\u001b[0m \u001b[32m━━━━━━━━━━━━━━━━━━━━\u001b[0m\u001b[37m\u001b[0m \u001b[1m66s\u001b[0m 1s/step - loss: 1.3309 - mae: 0.8944 - val_loss: 3.5558 - val_mae: 1.3226\n",
      "Epoch 17/300\n",
      "\u001b[1m58/58\u001b[0m \u001b[32m━━━━━━━━━━━━━━━━━━━━\u001b[0m\u001b[37m\u001b[0m \u001b[1m0s\u001b[0m 1s/step - loss: 1.4126 - mae: 0.9431\n",
      "Epoch 17: saving model to model_checkpoint.keras\n",
      "\u001b[1m58/58\u001b[0m \u001b[32m━━━━━━━━━━━━━━━━━━━━\u001b[0m\u001b[37m\u001b[0m \u001b[1m66s\u001b[0m 1s/step - loss: 1.4117 - mae: 0.9426 - val_loss: 3.0860 - val_mae: 1.2504\n",
      "Epoch 18/300\n",
      "\u001b[1m58/58\u001b[0m \u001b[32m━━━━━━━━━━━━━━━━━━━━\u001b[0m\u001b[37m\u001b[0m \u001b[1m0s\u001b[0m 1s/step - loss: 1.2994 - mae: 0.8880\n",
      "Epoch 18: saving model to model_checkpoint.keras\n",
      "\u001b[1m58/58\u001b[0m \u001b[32m━━━━━━━━━━━━━━━━━━━━\u001b[0m\u001b[37m\u001b[0m \u001b[1m65s\u001b[0m 1s/step - loss: 1.2996 - mae: 0.8881 - val_loss: 3.4290 - val_mae: 1.3492\n",
      "Epoch 19/300\n",
      "\u001b[1m58/58\u001b[0m \u001b[32m━━━━━━━━━━━━━━━━━━━━\u001b[0m\u001b[37m\u001b[0m \u001b[1m0s\u001b[0m 1s/step - loss: 1.2261 - mae: 0.8606\n",
      "Epoch 19: saving model to model_checkpoint.keras\n",
      "\u001b[1m58/58\u001b[0m \u001b[32m━━━━━━━━━━━━━━━━━━━━\u001b[0m\u001b[37m\u001b[0m \u001b[1m66s\u001b[0m 1s/step - loss: 1.2248 - mae: 0.8603 - val_loss: 3.2445 - val_mae: 1.2649\n",
      "Epoch 20/300\n",
      "\u001b[1m58/58\u001b[0m \u001b[32m━━━━━━━━━━━━━━━━━━━━\u001b[0m\u001b[37m\u001b[0m \u001b[1m0s\u001b[0m 1s/step - loss: 1.2196 - mae: 0.8677\n",
      "Epoch 20: saving model to model_checkpoint.keras\n",
      "\u001b[1m58/58\u001b[0m \u001b[32m━━━━━━━━━━━━━━━━━━━━\u001b[0m\u001b[37m\u001b[0m \u001b[1m66s\u001b[0m 1s/step - loss: 1.2199 - mae: 0.8677 - val_loss: 3.2801 - val_mae: 1.3003\n",
      "Epoch 21/300\n",
      "\u001b[1m58/58\u001b[0m \u001b[32m━━━━━━━━━━━━━━━━━━━━\u001b[0m\u001b[37m\u001b[0m \u001b[1m0s\u001b[0m 1s/step - loss: 1.1918 - mae: 0.8571\n",
      "Epoch 21: saving model to model_checkpoint.keras\n",
      "\u001b[1m58/58\u001b[0m \u001b[32m━━━━━━━━━━━━━━━━━━━━\u001b[0m\u001b[37m\u001b[0m \u001b[1m66s\u001b[0m 1s/step - loss: 1.1920 - mae: 0.8571 - val_loss: 3.2924 - val_mae: 1.2814\n",
      "Epoch 22/300\n",
      "\u001b[1m58/58\u001b[0m \u001b[32m━━━━━━━━━━━━━━━━━━━━\u001b[0m\u001b[37m\u001b[0m \u001b[1m0s\u001b[0m 1s/step - loss: 1.3760 - mae: 0.9063\n",
      "Epoch 22: saving model to model_checkpoint.keras\n",
      "\u001b[1m58/58\u001b[0m \u001b[32m━━━━━━━━━━━━━━━━━━━━\u001b[0m\u001b[37m\u001b[0m \u001b[1m65s\u001b[0m 1s/step - loss: 1.3757 - mae: 0.9061 - val_loss: 3.3705 - val_mae: 1.2935\n",
      "Epoch 23/300\n",
      "\u001b[1m58/58\u001b[0m \u001b[32m━━━━━━━━━━━━━━━━━━━━\u001b[0m\u001b[37m\u001b[0m \u001b[1m0s\u001b[0m 1s/step - loss: 1.2026 - mae: 0.8573\n",
      "Epoch 23: saving model to model_checkpoint.keras\n",
      "\u001b[1m58/58\u001b[0m \u001b[32m━━━━━━━━━━━━━━━━━━━━\u001b[0m\u001b[37m\u001b[0m \u001b[1m65s\u001b[0m 1s/step - loss: 1.2035 - mae: 0.8577 - val_loss: 3.0894 - val_mae: 1.2408\n",
      "Epoch 24/300\n",
      "\u001b[1m58/58\u001b[0m \u001b[32m━━━━━━━━━━━━━━━━━━━━\u001b[0m\u001b[37m\u001b[0m \u001b[1m0s\u001b[0m 1s/step - loss: 1.2446 - mae: 0.8643\n",
      "Epoch 24: saving model to model_checkpoint.keras\n",
      "\u001b[1m58/58\u001b[0m \u001b[32m━━━━━━━━━━━━━━━━━━━━\u001b[0m\u001b[37m\u001b[0m \u001b[1m65s\u001b[0m 1s/step - loss: 1.2442 - mae: 0.8642 - val_loss: 3.1367 - val_mae: 1.2547\n",
      "Epoch 25/300\n",
      "\u001b[1m58/58\u001b[0m \u001b[32m━━━━━━━━━━━━━━━━━━━━\u001b[0m\u001b[37m\u001b[0m \u001b[1m0s\u001b[0m 1s/step - loss: 1.1415 - mae: 0.8370\n",
      "Epoch 25: saving model to model_checkpoint.keras\n",
      "\u001b[1m58/58\u001b[0m \u001b[32m━━━━━━━━━━━━━━━━━━━━\u001b[0m\u001b[37m\u001b[0m \u001b[1m65s\u001b[0m 1s/step - loss: 1.1413 - mae: 0.8368 - val_loss: 3.3040 - val_mae: 1.2853\n",
      "Epoch 26/300\n",
      "\u001b[1m58/58\u001b[0m \u001b[32m━━━━━━━━━━━━━━━━━━━━\u001b[0m\u001b[37m\u001b[0m \u001b[1m0s\u001b[0m 1s/step - loss: 1.2259 - mae: 0.8714\n",
      "Epoch 26: saving model to model_checkpoint.keras\n",
      "\u001b[1m58/58\u001b[0m \u001b[32m━━━━━━━━━━━━━━━━━━━━\u001b[0m\u001b[37m\u001b[0m \u001b[1m65s\u001b[0m 1s/step - loss: 1.2242 - mae: 0.8707 - val_loss: 3.2292 - val_mae: 1.3178\n",
      "Epoch 27/300\n",
      "\u001b[1m58/58\u001b[0m \u001b[32m━━━━━━━━━━━━━━━━━━━━\u001b[0m\u001b[37m\u001b[0m \u001b[1m0s\u001b[0m 1s/step - loss: 1.4286 - mae: 0.9163\n",
      "Epoch 27: saving model to model_checkpoint.keras\n",
      "\u001b[1m58/58\u001b[0m \u001b[32m━━━━━━━━━━━━━━━━━━━━\u001b[0m\u001b[37m\u001b[0m \u001b[1m65s\u001b[0m 1s/step - loss: 1.4260 - mae: 0.9155 - val_loss: 3.4381 - val_mae: 1.3468\n",
      "Epoch 28/300\n",
      "\u001b[1m58/58\u001b[0m \u001b[32m━━━━━━━━━━━━━━━━━━━━\u001b[0m\u001b[37m\u001b[0m \u001b[1m0s\u001b[0m 1s/step - loss: 1.2970 - mae: 0.8950\n",
      "Epoch 28: saving model to model_checkpoint.keras\n",
      "\u001b[1m58/58\u001b[0m \u001b[32m━━━━━━━━━━━━━━━━━━━━\u001b[0m\u001b[37m\u001b[0m \u001b[1m66s\u001b[0m 1s/step - loss: 1.2966 - mae: 0.8947 - val_loss: 3.1721 - val_mae: 1.2947\n",
      "Epoch 29/300\n",
      "\u001b[1m58/58\u001b[0m \u001b[32m━━━━━━━━━━━━━━━━━━━━\u001b[0m\u001b[37m\u001b[0m \u001b[1m0s\u001b[0m 1s/step - loss: 1.2220 - mae: 0.8611\n",
      "Epoch 29: saving model to model_checkpoint.keras\n",
      "\u001b[1m58/58\u001b[0m \u001b[32m━━━━━━━━━━━━━━━━━━━━\u001b[0m\u001b[37m\u001b[0m \u001b[1m65s\u001b[0m 1s/step - loss: 1.2221 - mae: 0.8611 - val_loss: 3.2713 - val_mae: 1.3084\n",
      "Epoch 30/300\n",
      "\u001b[1m58/58\u001b[0m \u001b[32m━━━━━━━━━━━━━━━━━━━━\u001b[0m\u001b[37m\u001b[0m \u001b[1m0s\u001b[0m 1s/step - loss: 1.1305 - mae: 0.8129\n",
      "Epoch 30: saving model to model_checkpoint.keras\n",
      "\u001b[1m58/58\u001b[0m \u001b[32m━━━━━━━━━━━━━━━━━━━━\u001b[0m\u001b[37m\u001b[0m \u001b[1m66s\u001b[0m 1s/step - loss: 1.1314 - mae: 0.8131 - val_loss: 3.3077 - val_mae: 1.3037\n",
      "Epoch 31/300\n",
      "\u001b[1m58/58\u001b[0m \u001b[32m━━━━━━━━━━━━━━━━━━━━\u001b[0m\u001b[37m\u001b[0m \u001b[1m0s\u001b[0m 1s/step - loss: 1.1817 - mae: 0.8532\n",
      "Epoch 31: saving model to model_checkpoint.keras\n",
      "\u001b[1m58/58\u001b[0m \u001b[32m━━━━━━━━━━━━━━━━━━━━\u001b[0m\u001b[37m\u001b[0m \u001b[1m66s\u001b[0m 1s/step - loss: 1.1815 - mae: 0.8532 - val_loss: 3.2406 - val_mae: 1.2379\n",
      "Epoch 32/300\n",
      "\u001b[1m58/58\u001b[0m \u001b[32m━━━━━━━━━━━━━━━━━━━━\u001b[0m\u001b[37m\u001b[0m \u001b[1m0s\u001b[0m 1s/step - loss: 1.0950 - mae: 0.8177\n",
      "Epoch 32: saving model to model_checkpoint.keras\n",
      "\u001b[1m58/58\u001b[0m \u001b[32m━━━━━━━━━━━━━━━━━━━━\u001b[0m\u001b[37m\u001b[0m \u001b[1m65s\u001b[0m 1s/step - loss: 1.0954 - mae: 0.8177 - val_loss: 3.1348 - val_mae: 1.2683\n",
      "Epoch 33/300\n",
      "\u001b[1m58/58\u001b[0m \u001b[32m━━━━━━━━━━━━━━━━━━━━\u001b[0m\u001b[37m\u001b[0m \u001b[1m0s\u001b[0m 1s/step - loss: 1.1840 - mae: 0.8421\n",
      "Epoch 33: saving model to model_checkpoint.keras\n",
      "\u001b[1m58/58\u001b[0m \u001b[32m━━━━━━━━━━━━━━━━━━━━\u001b[0m\u001b[37m\u001b[0m \u001b[1m65s\u001b[0m 1s/step - loss: 1.1840 - mae: 0.8420 - val_loss: 3.3109 - val_mae: 1.3050\n",
      "Epoch 34/300\n",
      "\u001b[1m58/58\u001b[0m \u001b[32m━━━━━━━━━━━━━━━━━━━━\u001b[0m\u001b[37m\u001b[0m \u001b[1m0s\u001b[0m 1s/step - loss: 1.2307 - mae: 0.8415\n",
      "Epoch 34: saving model to model_checkpoint.keras\n",
      "\u001b[1m58/58\u001b[0m \u001b[32m━━━━━━━━━━━━━━━━━━━━\u001b[0m\u001b[37m\u001b[0m \u001b[1m66s\u001b[0m 1s/step - loss: 1.2312 - mae: 0.8419 - val_loss: 3.4011 - val_mae: 1.3367\n",
      "Epoch 35/300\n",
      "\u001b[1m58/58\u001b[0m \u001b[32m━━━━━━━━━━━━━━━━━━━━\u001b[0m\u001b[37m\u001b[0m \u001b[1m0s\u001b[0m 1s/step - loss: 1.1743 - mae: 0.8380\n",
      "Epoch 35: saving model to model_checkpoint.keras\n",
      "\u001b[1m58/58\u001b[0m \u001b[32m━━━━━━━━━━━━━━━━━━━━\u001b[0m\u001b[37m\u001b[0m \u001b[1m65s\u001b[0m 1s/step - loss: 1.1749 - mae: 0.8383 - val_loss: 3.2958 - val_mae: 1.2733\n",
      "Epoch 36/300\n",
      "\u001b[1m58/58\u001b[0m \u001b[32m━━━━━━━━━━━━━━━━━━━━\u001b[0m\u001b[37m\u001b[0m \u001b[1m0s\u001b[0m 1s/step - loss: 1.2544 - mae: 0.8649\n",
      "Epoch 36: saving model to model_checkpoint.keras\n",
      "\u001b[1m58/58\u001b[0m \u001b[32m━━━━━━━━━━━━━━━━━━━━\u001b[0m\u001b[37m\u001b[0m \u001b[1m65s\u001b[0m 1s/step - loss: 1.2543 - mae: 0.8647 - val_loss: 3.2111 - val_mae: 1.2992\n",
      "Epoch 37/300\n",
      "\u001b[1m58/58\u001b[0m \u001b[32m━━━━━━━━━━━━━━━━━━━━\u001b[0m\u001b[37m\u001b[0m \u001b[1m0s\u001b[0m 1s/step - loss: 1.1803 - mae: 0.8488\n",
      "Epoch 37: saving model to model_checkpoint.keras\n",
      "\u001b[1m58/58\u001b[0m \u001b[32m━━━━━━━━━━━━━━━━━━━━\u001b[0m\u001b[37m\u001b[0m \u001b[1m65s\u001b[0m 1s/step - loss: 1.1808 - mae: 0.8489 - val_loss: 4.0330 - val_mae: 1.4209\n",
      "Epoch 38/300\n",
      "\u001b[1m58/58\u001b[0m \u001b[32m━━━━━━━━━━━━━━━━━━━━\u001b[0m\u001b[37m\u001b[0m \u001b[1m0s\u001b[0m 1s/step - loss: 1.1620 - mae: 0.8273\n",
      "Epoch 38: saving model to model_checkpoint.keras\n",
      "\u001b[1m58/58\u001b[0m \u001b[32m━━━━━━━━━━━━━━━━━━━━\u001b[0m\u001b[37m\u001b[0m \u001b[1m65s\u001b[0m 1s/step - loss: 1.1603 - mae: 0.8268 - val_loss: 3.4467 - val_mae: 1.3791\n",
      "Epoch 39/300\n",
      "\u001b[1m58/58\u001b[0m \u001b[32m━━━━━━━━━━━━━━━━━━━━\u001b[0m\u001b[37m\u001b[0m \u001b[1m0s\u001b[0m 1s/step - loss: 1.2164 - mae: 0.8359\n",
      "Epoch 39: saving model to model_checkpoint.keras\n",
      "\u001b[1m58/58\u001b[0m \u001b[32m━━━━━━━━━━━━━━━━━━━━\u001b[0m\u001b[37m\u001b[0m \u001b[1m66s\u001b[0m 1s/step - loss: 1.2150 - mae: 0.8354 - val_loss: 3.1905 - val_mae: 1.2682\n",
      "Epoch 40/300\n",
      "\u001b[1m58/58\u001b[0m \u001b[32m━━━━━━━━━━━━━━━━━━━━\u001b[0m\u001b[37m\u001b[0m \u001b[1m0s\u001b[0m 1s/step - loss: 1.1099 - mae: 0.8319\n",
      "Epoch 40: saving model to model_checkpoint.keras\n",
      "\u001b[1m58/58\u001b[0m \u001b[32m━━━━━━━━━━━━━━━━━━━━\u001b[0m\u001b[37m\u001b[0m \u001b[1m66s\u001b[0m 1s/step - loss: 1.1094 - mae: 0.8317 - val_loss: 3.5910 - val_mae: 1.4005\n",
      "Epoch 41/300\n",
      "\u001b[1m58/58\u001b[0m \u001b[32m━━━━━━━━━━━━━━━━━━━━\u001b[0m\u001b[37m\u001b[0m \u001b[1m0s\u001b[0m 1s/step - loss: 1.2135 - mae: 0.8504\n",
      "Epoch 41: saving model to model_checkpoint.keras\n",
      "\u001b[1m58/58\u001b[0m \u001b[32m━━━━━━━━━━━━━━━━━━━━\u001b[0m\u001b[37m\u001b[0m \u001b[1m66s\u001b[0m 1s/step - loss: 1.2133 - mae: 0.8502 - val_loss: 3.2793 - val_mae: 1.2649\n",
      "Epoch 42/300\n",
      "\u001b[1m58/58\u001b[0m \u001b[32m━━━━━━━━━━━━━━━━━━━━\u001b[0m\u001b[37m\u001b[0m \u001b[1m0s\u001b[0m 1s/step - loss: 1.1863 - mae: 0.8260\n",
      "Epoch 42: saving model to model_checkpoint.keras\n",
      "\u001b[1m58/58\u001b[0m \u001b[32m━━━━━━━━━━━━━━━━━━━━\u001b[0m\u001b[37m\u001b[0m \u001b[1m66s\u001b[0m 1s/step - loss: 1.1855 - mae: 0.8258 - val_loss: 3.6476 - val_mae: 1.3485\n",
      "Epoch 43/300\n",
      "\u001b[1m58/58\u001b[0m \u001b[32m━━━━━━━━━━━━━━━━━━━━\u001b[0m\u001b[37m\u001b[0m \u001b[1m0s\u001b[0m 1s/step - loss: 1.1314 - mae: 0.8113\n",
      "Epoch 43: saving model to model_checkpoint.keras\n",
      "\u001b[1m58/58\u001b[0m \u001b[32m━━━━━━━━━━━━━━━━━━━━\u001b[0m\u001b[37m\u001b[0m \u001b[1m67s\u001b[0m 1s/step - loss: 1.1308 - mae: 0.8110 - val_loss: 3.2648 - val_mae: 1.2668\n",
      "Epoch 44/300\n",
      "\u001b[1m58/58\u001b[0m \u001b[32m━━━━━━━━━━━━━━━━━━━━\u001b[0m\u001b[37m\u001b[0m \u001b[1m0s\u001b[0m 1s/step - loss: 1.0753 - mae: 0.8067\n",
      "Epoch 44: saving model to model_checkpoint.keras\n",
      "\u001b[1m58/58\u001b[0m \u001b[32m━━━━━━━━━━━━━━━━━━━━\u001b[0m\u001b[37m\u001b[0m \u001b[1m65s\u001b[0m 1s/step - loss: 1.0758 - mae: 0.8068 - val_loss: 3.3836 - val_mae: 1.2873\n",
      "Epoch 45/300\n",
      "\u001b[1m58/58\u001b[0m \u001b[32m━━━━━━━━━━━━━━━━━━━━\u001b[0m\u001b[37m\u001b[0m \u001b[1m0s\u001b[0m 1s/step - loss: 1.1477 - mae: 0.8257\n",
      "Epoch 45: saving model to model_checkpoint.keras\n",
      "\u001b[1m58/58\u001b[0m \u001b[32m━━━━━━━━━━━━━━━━━━━━\u001b[0m\u001b[37m\u001b[0m \u001b[1m65s\u001b[0m 1s/step - loss: 1.1491 - mae: 0.8261 - val_loss: 3.4401 - val_mae: 1.3463\n",
      "Epoch 46/300\n",
      "\u001b[1m58/58\u001b[0m \u001b[32m━━━━━━━━━━━━━━━━━━━━\u001b[0m\u001b[37m\u001b[0m \u001b[1m0s\u001b[0m 1s/step - loss: 1.0798 - mae: 0.8140\n",
      "Epoch 46: saving model to model_checkpoint.keras\n",
      "\u001b[1m58/58\u001b[0m \u001b[32m━━━━━━━━━━━━━━━━━━━━\u001b[0m\u001b[37m\u001b[0m \u001b[1m65s\u001b[0m 1s/step - loss: 1.0784 - mae: 0.8134 - val_loss: 3.2515 - val_mae: 1.2477\n",
      "Epoch 47/300\n",
      "\u001b[1m58/58\u001b[0m \u001b[32m━━━━━━━━━━━━━━━━━━━━\u001b[0m\u001b[37m\u001b[0m \u001b[1m0s\u001b[0m 1s/step - loss: 1.0693 - mae: 0.8032\n",
      "Epoch 47: saving model to model_checkpoint.keras\n",
      "\u001b[1m58/58\u001b[0m \u001b[32m━━━━━━━━━━━━━━━━━━━━\u001b[0m\u001b[37m\u001b[0m \u001b[1m65s\u001b[0m 1s/step - loss: 1.0701 - mae: 0.8034 - val_loss: 3.1350 - val_mae: 1.2457\n",
      "Epoch 48/300\n",
      "\u001b[1m58/58\u001b[0m \u001b[32m━━━━━━━━━━━━━━━━━━━━\u001b[0m\u001b[37m\u001b[0m \u001b[1m0s\u001b[0m 1s/step - loss: 1.0506 - mae: 0.7833\n",
      "Epoch 48: saving model to model_checkpoint.keras\n",
      "\u001b[1m58/58\u001b[0m \u001b[32m━━━━━━━━━━━━━━━━━━━━\u001b[0m\u001b[37m\u001b[0m \u001b[1m65s\u001b[0m 1s/step - loss: 1.0504 - mae: 0.7831 - val_loss: 3.3022 - val_mae: 1.2648\n",
      "Epoch 49/300\n",
      "\u001b[1m58/58\u001b[0m \u001b[32m━━━━━━━━━━━━━━━━━━━━\u001b[0m\u001b[37m\u001b[0m \u001b[1m0s\u001b[0m 1s/step - loss: 1.1150 - mae: 0.8105\n",
      "Epoch 49: saving model to model_checkpoint.keras\n",
      "\u001b[1m58/58\u001b[0m \u001b[32m━━━━━━━━━━━━━━━━━━━━\u001b[0m\u001b[37m\u001b[0m \u001b[1m66s\u001b[0m 1s/step - loss: 1.1147 - mae: 0.8107 - val_loss: 3.0856 - val_mae: 1.2524\n",
      "Epoch 50/300\n",
      "\u001b[1m58/58\u001b[0m \u001b[32m━━━━━━━━━━━━━━━━━━━━\u001b[0m\u001b[37m\u001b[0m \u001b[1m0s\u001b[0m 1s/step - loss: 1.0377 - mae: 0.7999\n",
      "Epoch 50: saving model to model_checkpoint.keras\n",
      "\u001b[1m58/58\u001b[0m \u001b[32m━━━━━━━━━━━━━━━━━━━━\u001b[0m\u001b[37m\u001b[0m \u001b[1m65s\u001b[0m 1s/step - loss: 1.0378 - mae: 0.8000 - val_loss: 3.2961 - val_mae: 1.2496\n",
      "Epoch 51/300\n",
      "\u001b[1m58/58\u001b[0m \u001b[32m━━━━━━━━━━━━━━━━━━━━\u001b[0m\u001b[37m\u001b[0m \u001b[1m0s\u001b[0m 1s/step - loss: 1.1094 - mae: 0.8143\n",
      "Epoch 51: saving model to model_checkpoint.keras\n",
      "\u001b[1m58/58\u001b[0m \u001b[32m━━━━━━━━━━━━━━━━━━━━\u001b[0m\u001b[37m\u001b[0m \u001b[1m65s\u001b[0m 1s/step - loss: 1.1097 - mae: 0.8146 - val_loss: 3.2974 - val_mae: 1.2837\n",
      "Epoch 52/300\n",
      "\u001b[1m58/58\u001b[0m \u001b[32m━━━━━━━━━━━━━━━━━━━━\u001b[0m\u001b[37m\u001b[0m \u001b[1m0s\u001b[0m 1s/step - loss: 1.1819 - mae: 0.8295\n",
      "Epoch 52: saving model to model_checkpoint.keras\n",
      "\u001b[1m58/58\u001b[0m \u001b[32m━━━━━━━━━━━━━━━━━━━━\u001b[0m\u001b[37m\u001b[0m \u001b[1m65s\u001b[0m 1s/step - loss: 1.1828 - mae: 0.8299 - val_loss: 3.1784 - val_mae: 1.3097\n",
      "Epoch 53/300\n",
      "\u001b[1m58/58\u001b[0m \u001b[32m━━━━━━━━━━━━━━━━━━━━\u001b[0m\u001b[37m\u001b[0m \u001b[1m0s\u001b[0m 1s/step - loss: 1.0896 - mae: 0.8228\n",
      "Epoch 53: saving model to model_checkpoint.keras\n",
      "\u001b[1m58/58\u001b[0m \u001b[32m━━━━━━━━━━━━━━━━━━━━\u001b[0m\u001b[37m\u001b[0m \u001b[1m66s\u001b[0m 1s/step - loss: 1.0907 - mae: 0.8230 - val_loss: 3.3650 - val_mae: 1.2774\n",
      "Epoch 54/300\n",
      "\u001b[1m58/58\u001b[0m \u001b[32m━━━━━━━━━━━━━━━━━━━━\u001b[0m\u001b[37m\u001b[0m \u001b[1m0s\u001b[0m 1s/step - loss: 1.0473 - mae: 0.7968\n",
      "Epoch 54: saving model to model_checkpoint.keras\n",
      "\u001b[1m58/58\u001b[0m \u001b[32m━━━━━━━━━━━━━━━━━━━━\u001b[0m\u001b[37m\u001b[0m \u001b[1m65s\u001b[0m 1s/step - loss: 1.0463 - mae: 0.7966 - val_loss: 3.2544 - val_mae: 1.2922\n",
      "Epoch 55/300\n",
      "\u001b[1m58/58\u001b[0m \u001b[32m━━━━━━━━━━━━━━━━━━━━\u001b[0m\u001b[37m\u001b[0m \u001b[1m0s\u001b[0m 1s/step - loss: 1.2450 - mae: 0.8379\n",
      "Epoch 55: saving model to model_checkpoint.keras\n",
      "\u001b[1m58/58\u001b[0m \u001b[32m━━━━━━━━━━━━━━━━━━━━\u001b[0m\u001b[37m\u001b[0m \u001b[1m66s\u001b[0m 1s/step - loss: 1.2449 - mae: 0.8378 - val_loss: 3.4104 - val_mae: 1.2746\n",
      "Epoch 56/300\n",
      "\u001b[1m58/58\u001b[0m \u001b[32m━━━━━━━━━━━━━━━━━━━━\u001b[0m\u001b[37m\u001b[0m \u001b[1m0s\u001b[0m 1s/step - loss: 1.1529 - mae: 0.8201\n",
      "Epoch 56: saving model to model_checkpoint.keras\n",
      "\u001b[1m58/58\u001b[0m \u001b[32m━━━━━━━━━━━━━━━━━━━━\u001b[0m\u001b[37m\u001b[0m \u001b[1m65s\u001b[0m 1s/step - loss: 1.1539 - mae: 0.8204 - val_loss: 3.3753 - val_mae: 1.3043\n",
      "Epoch 57/300\n",
      "\u001b[1m58/58\u001b[0m \u001b[32m━━━━━━━━━━━━━━━━━━━━\u001b[0m\u001b[37m\u001b[0m \u001b[1m0s\u001b[0m 1s/step - loss: 0.9962 - mae: 0.7655\n",
      "Epoch 57: saving model to model_checkpoint.keras\n",
      "\u001b[1m58/58\u001b[0m \u001b[32m━━━━━━━━━━━━━━━━━━━━\u001b[0m\u001b[37m\u001b[0m \u001b[1m65s\u001b[0m 1s/step - loss: 0.9977 - mae: 0.7660 - val_loss: 3.6071 - val_mae: 1.2991\n",
      "Epoch 58/300\n",
      "\u001b[1m58/58\u001b[0m \u001b[32m━━━━━━━━━━━━━━━━━━━━\u001b[0m\u001b[37m\u001b[0m \u001b[1m0s\u001b[0m 1s/step - loss: 0.9528 - mae: 0.7542\n",
      "Epoch 58: saving model to model_checkpoint.keras\n",
      "\u001b[1m58/58\u001b[0m \u001b[32m━━━━━━━━━━━━━━━━━━━━\u001b[0m\u001b[37m\u001b[0m \u001b[1m66s\u001b[0m 1s/step - loss: 0.9526 - mae: 0.7542 - val_loss: 3.1158 - val_mae: 1.2392\n",
      "Epoch 59/300\n",
      "\u001b[1m58/58\u001b[0m \u001b[32m━━━━━━━━━━━━━━━━━━━━\u001b[0m\u001b[37m\u001b[0m \u001b[1m0s\u001b[0m 1s/step - loss: 1.0353 - mae: 0.7779\n",
      "Epoch 59: saving model to model_checkpoint.keras\n",
      "\u001b[1m58/58\u001b[0m \u001b[32m━━━━━━━━━━━━━━━━━━━━\u001b[0m\u001b[37m\u001b[0m \u001b[1m65s\u001b[0m 1s/step - loss: 1.0361 - mae: 0.7782 - val_loss: 3.9569 - val_mae: 1.3881\n",
      "Epoch 60/300\n",
      "\u001b[1m58/58\u001b[0m \u001b[32m━━━━━━━━━━━━━━━━━━━━\u001b[0m\u001b[37m\u001b[0m \u001b[1m0s\u001b[0m 1s/step - loss: 1.2694 - mae: 0.8479\n",
      "Epoch 60: saving model to model_checkpoint.keras\n",
      "\u001b[1m58/58\u001b[0m \u001b[32m━━━━━━━━━━━━━━━━━━━━\u001b[0m\u001b[37m\u001b[0m \u001b[1m66s\u001b[0m 1s/step - loss: 1.2669 - mae: 0.8473 - val_loss: 3.2976 - val_mae: 1.2573\n",
      "Epoch 61/300\n",
      "\u001b[1m58/58\u001b[0m \u001b[32m━━━━━━━━━━━━━━━━━━━━\u001b[0m\u001b[37m\u001b[0m \u001b[1m0s\u001b[0m 1s/step - loss: 1.0233 - mae: 0.7848\n",
      "Epoch 61: saving model to model_checkpoint.keras\n",
      "\u001b[1m58/58\u001b[0m \u001b[32m━━━━━━━━━━━━━━━━━━━━\u001b[0m\u001b[37m\u001b[0m \u001b[1m65s\u001b[0m 1s/step - loss: 1.0241 - mae: 0.7848 - val_loss: 3.4157 - val_mae: 1.3732\n",
      "Epoch 62/300\n",
      "\u001b[1m58/58\u001b[0m \u001b[32m━━━━━━━━━━━━━━━━━━━━\u001b[0m\u001b[37m\u001b[0m \u001b[1m0s\u001b[0m 1s/step - loss: 1.1974 - mae: 0.8300\n",
      "Epoch 62: saving model to model_checkpoint.keras\n",
      "\u001b[1m58/58\u001b[0m \u001b[32m━━━━━━━━━━━━━━━━━━━━\u001b[0m\u001b[37m\u001b[0m \u001b[1m65s\u001b[0m 1s/step - loss: 1.1956 - mae: 0.8295 - val_loss: 3.2957 - val_mae: 1.2957\n",
      "Epoch 63/300\n",
      "\u001b[1m58/58\u001b[0m \u001b[32m━━━━━━━━━━━━━━━━━━━━\u001b[0m\u001b[37m\u001b[0m \u001b[1m0s\u001b[0m 1s/step - loss: 0.9966 - mae: 0.7774\n",
      "Epoch 63: saving model to model_checkpoint.keras\n",
      "\u001b[1m58/58\u001b[0m \u001b[32m━━━━━━━━━━━━━━━━━━━━\u001b[0m\u001b[37m\u001b[0m \u001b[1m66s\u001b[0m 1s/step - loss: 0.9977 - mae: 0.7778 - val_loss: 3.1281 - val_mae: 1.2316\n",
      "Epoch 64/300\n",
      "\u001b[1m58/58\u001b[0m \u001b[32m━━━━━━━━━━━━━━━━━━━━\u001b[0m\u001b[37m\u001b[0m \u001b[1m0s\u001b[0m 1s/step - loss: 1.0336 - mae: 0.7959\n",
      "Epoch 64: saving model to model_checkpoint.keras\n",
      "\u001b[1m58/58\u001b[0m \u001b[32m━━━━━━━━━━━━━━━━━━━━\u001b[0m\u001b[37m\u001b[0m \u001b[1m66s\u001b[0m 1s/step - loss: 1.0336 - mae: 0.7957 - val_loss: 3.1350 - val_mae: 1.2653\n",
      "Epoch 65/300\n",
      "\u001b[1m58/58\u001b[0m \u001b[32m━━━━━━━━━━━━━━━━━━━━\u001b[0m\u001b[37m\u001b[0m \u001b[1m0s\u001b[0m 1s/step - loss: 0.9790 - mae: 0.7528\n",
      "Epoch 65: saving model to model_checkpoint.keras\n",
      "\u001b[1m58/58\u001b[0m \u001b[32m━━━━━━━━━━━━━━━━━━━━\u001b[0m\u001b[37m\u001b[0m \u001b[1m65s\u001b[0m 1s/step - loss: 0.9783 - mae: 0.7528 - val_loss: 3.2384 - val_mae: 1.2847\n",
      "Epoch 66/300\n",
      "\u001b[1m58/58\u001b[0m \u001b[32m━━━━━━━━━━━━━━━━━━━━\u001b[0m\u001b[37m\u001b[0m \u001b[1m0s\u001b[0m 1s/step - loss: 0.9395 - mae: 0.7356\n",
      "Epoch 66: saving model to model_checkpoint.keras\n",
      "\u001b[1m58/58\u001b[0m \u001b[32m━━━━━━━━━━━━━━━━━━━━\u001b[0m\u001b[37m\u001b[0m \u001b[1m65s\u001b[0m 1s/step - loss: 0.9391 - mae: 0.7357 - val_loss: 3.4175 - val_mae: 1.2885\n",
      "Epoch 67/300\n",
      "\u001b[1m58/58\u001b[0m \u001b[32m━━━━━━━━━━━━━━━━━━━━\u001b[0m\u001b[37m\u001b[0m \u001b[1m0s\u001b[0m 1s/step - loss: 0.9912 - mae: 0.7620\n",
      "Epoch 67: saving model to model_checkpoint.keras\n",
      "\u001b[1m58/58\u001b[0m \u001b[32m━━━━━━━━━━━━━━━━━━━━\u001b[0m\u001b[37m\u001b[0m \u001b[1m66s\u001b[0m 1s/step - loss: 0.9894 - mae: 0.7614 - val_loss: 3.2754 - val_mae: 1.2693\n",
      "Epoch 68/300\n",
      "\u001b[1m58/58\u001b[0m \u001b[32m━━━━━━━━━━━━━━━━━━━━\u001b[0m\u001b[37m\u001b[0m \u001b[1m0s\u001b[0m 1s/step - loss: 0.9372 - mae: 0.7497\n",
      "Epoch 68: saving model to model_checkpoint.keras\n",
      "\u001b[1m58/58\u001b[0m \u001b[32m━━━━━━━━━━━━━━━━━━━━\u001b[0m\u001b[37m\u001b[0m \u001b[1m65s\u001b[0m 1s/step - loss: 0.9381 - mae: 0.7499 - val_loss: 3.1458 - val_mae: 1.2428\n",
      "Epoch 69/300\n",
      "\u001b[1m58/58\u001b[0m \u001b[32m━━━━━━━━━━━━━━━━━━━━\u001b[0m\u001b[37m\u001b[0m \u001b[1m0s\u001b[0m 1s/step - loss: 0.9492 - mae: 0.7637\n",
      "Epoch 69: saving model to model_checkpoint.keras\n",
      "\u001b[1m58/58\u001b[0m \u001b[32m━━━━━━━━━━━━━━━━━━━━\u001b[0m\u001b[37m\u001b[0m \u001b[1m66s\u001b[0m 1s/step - loss: 0.9492 - mae: 0.7637 - val_loss: 3.2870 - val_mae: 1.2757\n",
      "Epoch 70/300\n",
      "\u001b[1m58/58\u001b[0m \u001b[32m━━━━━━━━━━━━━━━━━━━━\u001b[0m\u001b[37m\u001b[0m \u001b[1m0s\u001b[0m 1s/step - loss: 1.0865 - mae: 0.8012\n",
      "Epoch 70: saving model to model_checkpoint.keras\n",
      "\u001b[1m58/58\u001b[0m \u001b[32m━━━━━━━━━━━━━━━━━━━━\u001b[0m\u001b[37m\u001b[0m \u001b[1m65s\u001b[0m 1s/step - loss: 1.0885 - mae: 0.8017 - val_loss: 3.5622 - val_mae: 1.2864\n",
      "Epoch 71/300\n",
      "\u001b[1m58/58\u001b[0m \u001b[32m━━━━━━━━━━━━━━━━━━━━\u001b[0m\u001b[37m\u001b[0m \u001b[1m0s\u001b[0m 1s/step - loss: 1.0044 - mae: 0.7761\n",
      "Epoch 71: saving model to model_checkpoint.keras\n",
      "\u001b[1m58/58\u001b[0m \u001b[32m━━━━━━━━━━━━━━━━━━━━\u001b[0m\u001b[37m\u001b[0m \u001b[1m65s\u001b[0m 1s/step - loss: 1.0045 - mae: 0.7762 - val_loss: 3.0506 - val_mae: 1.2489\n",
      "Epoch 72/300\n",
      "\u001b[1m58/58\u001b[0m \u001b[32m━━━━━━━━━━━━━━━━━━━━\u001b[0m\u001b[37m\u001b[0m \u001b[1m0s\u001b[0m 1s/step - loss: 0.9242 - mae: 0.7415\n",
      "Epoch 72: saving model to model_checkpoint.keras\n",
      "\u001b[1m58/58\u001b[0m \u001b[32m━━━━━━━━━━━━━━━━━━━━\u001b[0m\u001b[37m\u001b[0m \u001b[1m65s\u001b[0m 1s/step - loss: 0.9247 - mae: 0.7417 - val_loss: 3.4166 - val_mae: 1.2547\n",
      "Epoch 73/300\n",
      "\u001b[1m58/58\u001b[0m \u001b[32m━━━━━━━━━━━━━━━━━━━━\u001b[0m\u001b[37m\u001b[0m \u001b[1m0s\u001b[0m 1s/step - loss: 1.0501 - mae: 0.7850\n",
      "Epoch 73: saving model to model_checkpoint.keras\n",
      "\u001b[1m58/58\u001b[0m \u001b[32m━━━━━━━━━━━━━━━━━━━━\u001b[0m\u001b[37m\u001b[0m \u001b[1m65s\u001b[0m 1s/step - loss: 1.0495 - mae: 0.7847 - val_loss: 3.1225 - val_mae: 1.2609\n",
      "Epoch 74/300\n",
      "\u001b[1m58/58\u001b[0m \u001b[32m━━━━━━━━━━━━━━━━━━━━\u001b[0m\u001b[37m\u001b[0m \u001b[1m0s\u001b[0m 1s/step - loss: 0.9624 - mae: 0.7599\n",
      "Epoch 74: saving model to model_checkpoint.keras\n",
      "\u001b[1m58/58\u001b[0m \u001b[32m━━━━━━━━━━━━━━━━━━━━\u001b[0m\u001b[37m\u001b[0m \u001b[1m66s\u001b[0m 1s/step - loss: 0.9622 - mae: 0.7596 - val_loss: 3.0396 - val_mae: 1.2441\n",
      "Epoch 75/300\n",
      "\u001b[1m58/58\u001b[0m \u001b[32m━━━━━━━━━━━━━━━━━━━━\u001b[0m\u001b[37m\u001b[0m \u001b[1m0s\u001b[0m 1s/step - loss: 1.0494 - mae: 0.7929\n",
      "Epoch 75: saving model to model_checkpoint.keras\n",
      "\u001b[1m58/58\u001b[0m \u001b[32m━━━━━━━━━━━━━━━━━━━━\u001b[0m\u001b[37m\u001b[0m \u001b[1m65s\u001b[0m 1s/step - loss: 1.0493 - mae: 0.7928 - val_loss: 3.1221 - val_mae: 1.2304\n",
      "Epoch 76/300\n",
      "\u001b[1m58/58\u001b[0m \u001b[32m━━━━━━━━━━━━━━━━━━━━\u001b[0m\u001b[37m\u001b[0m \u001b[1m0s\u001b[0m 1s/step - loss: 1.0075 - mae: 0.7777\n",
      "Epoch 76: saving model to model_checkpoint.keras\n",
      "\u001b[1m58/58\u001b[0m \u001b[32m━━━━━━━━━━━━━━━━━━━━\u001b[0m\u001b[37m\u001b[0m \u001b[1m65s\u001b[0m 1s/step - loss: 1.0078 - mae: 0.7776 - val_loss: 3.4017 - val_mae: 1.2882\n",
      "Epoch 77/300\n",
      "\u001b[1m58/58\u001b[0m \u001b[32m━━━━━━━━━━━━━━━━━━━━\u001b[0m\u001b[37m\u001b[0m \u001b[1m0s\u001b[0m 1s/step - loss: 1.1617 - mae: 0.8336\n",
      "Epoch 77: saving model to model_checkpoint.keras\n",
      "\u001b[1m58/58\u001b[0m \u001b[32m━━━━━━━━━━━━━━━━━━━━\u001b[0m\u001b[37m\u001b[0m \u001b[1m66s\u001b[0m 1s/step - loss: 1.1616 - mae: 0.8334 - val_loss: 3.2600 - val_mae: 1.2943\n",
      "Epoch 78/300\n",
      "\u001b[1m58/58\u001b[0m \u001b[32m━━━━━━━━━━━━━━━━━━━━\u001b[0m\u001b[37m\u001b[0m \u001b[1m0s\u001b[0m 1s/step - loss: 0.9831 - mae: 0.7771\n",
      "Epoch 78: saving model to model_checkpoint.keras\n",
      "\u001b[1m58/58\u001b[0m \u001b[32m━━━━━━━━━━━━━━━━━━━━\u001b[0m\u001b[37m\u001b[0m \u001b[1m66s\u001b[0m 1s/step - loss: 0.9839 - mae: 0.7774 - val_loss: 3.3950 - val_mae: 1.2364\n",
      "Epoch 79/300\n",
      "\u001b[1m58/58\u001b[0m \u001b[32m━━━━━━━━━━━━━━━━━━━━\u001b[0m\u001b[37m\u001b[0m \u001b[1m0s\u001b[0m 1s/step - loss: 0.9505 - mae: 0.7475\n",
      "Epoch 79: saving model to model_checkpoint.keras\n",
      "\u001b[1m58/58\u001b[0m \u001b[32m━━━━━━━━━━━━━━━━━━━━\u001b[0m\u001b[37m\u001b[0m \u001b[1m66s\u001b[0m 1s/step - loss: 0.9496 - mae: 0.7471 - val_loss: 3.3478 - val_mae: 1.2892\n",
      "Epoch 80/300\n",
      "\u001b[1m58/58\u001b[0m \u001b[32m━━━━━━━━━━━━━━━━━━━━\u001b[0m\u001b[37m\u001b[0m \u001b[1m0s\u001b[0m 1s/step - loss: 1.0844 - mae: 0.8059\n",
      "Epoch 80: saving model to model_checkpoint.keras\n",
      "\u001b[1m58/58\u001b[0m \u001b[32m━━━━━━━━━━━━━━━━━━━━\u001b[0m\u001b[37m\u001b[0m \u001b[1m65s\u001b[0m 1s/step - loss: 1.0836 - mae: 0.8058 - val_loss: 3.4377 - val_mae: 1.3041\n",
      "Epoch 81/300\n",
      "\u001b[1m58/58\u001b[0m \u001b[32m━━━━━━━━━━━━━━━━━━━━\u001b[0m\u001b[37m\u001b[0m \u001b[1m0s\u001b[0m 1s/step - loss: 1.0576 - mae: 0.7794\n",
      "Epoch 81: saving model to model_checkpoint.keras\n",
      "\u001b[1m58/58\u001b[0m \u001b[32m━━━━━━━━━━━━━━━━━━━━\u001b[0m\u001b[37m\u001b[0m \u001b[1m65s\u001b[0m 1s/step - loss: 1.0598 - mae: 0.7801 - val_loss: 3.4582 - val_mae: 1.2823\n",
      "Epoch 82/300\n",
      "\u001b[1m58/58\u001b[0m \u001b[32m━━━━━━━━━━━━━━━━━━━━\u001b[0m\u001b[37m\u001b[0m \u001b[1m0s\u001b[0m 1s/step - loss: 0.9923 - mae: 0.7681\n",
      "Epoch 82: saving model to model_checkpoint.keras\n",
      "\u001b[1m58/58\u001b[0m \u001b[32m━━━━━━━━━━━━━━━━━━━━\u001b[0m\u001b[37m\u001b[0m \u001b[1m65s\u001b[0m 1s/step - loss: 0.9929 - mae: 0.7681 - val_loss: 3.6463 - val_mae: 1.4301\n",
      "Epoch 83/300\n",
      "\u001b[1m58/58\u001b[0m \u001b[32m━━━━━━━━━━━━━━━━━━━━\u001b[0m\u001b[37m\u001b[0m \u001b[1m0s\u001b[0m 1s/step - loss: 1.1184 - mae: 0.8175\n",
      "Epoch 83: saving model to model_checkpoint.keras\n",
      "\u001b[1m58/58\u001b[0m \u001b[32m━━━━━━━━━━━━━━━━━━━━\u001b[0m\u001b[37m\u001b[0m \u001b[1m65s\u001b[0m 1s/step - loss: 1.1167 - mae: 0.8168 - val_loss: 3.5558 - val_mae: 1.3011\n",
      "Epoch 84/300\n",
      "\u001b[1m58/58\u001b[0m \u001b[32m━━━━━━━━━━━━━━━━━━━━\u001b[0m\u001b[37m\u001b[0m \u001b[1m0s\u001b[0m 1s/step - loss: 0.9378 - mae: 0.7458\n",
      "Epoch 84: saving model to model_checkpoint.keras\n",
      "\u001b[1m58/58\u001b[0m \u001b[32m━━━━━━━━━━━━━━━━━━━━\u001b[0m\u001b[37m\u001b[0m \u001b[1m66s\u001b[0m 1s/step - loss: 0.9374 - mae: 0.7457 - val_loss: 3.3870 - val_mae: 1.2524\n",
      "Epoch 85/300\n",
      "\u001b[1m58/58\u001b[0m \u001b[32m━━━━━━━━━━━━━━━━━━━━\u001b[0m\u001b[37m\u001b[0m \u001b[1m0s\u001b[0m 1s/step - loss: 0.9143 - mae: 0.7352\n",
      "Epoch 85: saving model to model_checkpoint.keras\n",
      "\u001b[1m58/58\u001b[0m \u001b[32m━━━━━━━━━━━━━━━━━━━━\u001b[0m\u001b[37m\u001b[0m \u001b[1m65s\u001b[0m 1s/step - loss: 0.9136 - mae: 0.7352 - val_loss: 3.5058 - val_mae: 1.2775\n",
      "Epoch 86/300\n",
      "\u001b[1m58/58\u001b[0m \u001b[32m━━━━━━━━━━━━━━━━━━━━\u001b[0m\u001b[37m\u001b[0m \u001b[1m0s\u001b[0m 1s/step - loss: 0.8655 - mae: 0.7202\n",
      "Epoch 86: saving model to model_checkpoint.keras\n",
      "\u001b[1m58/58\u001b[0m \u001b[32m━━━━━━━━━━━━━━━━━━━━\u001b[0m\u001b[37m\u001b[0m \u001b[1m65s\u001b[0m 1s/step - loss: 0.8661 - mae: 0.7205 - val_loss: 3.3867 - val_mae: 1.2702\n",
      "Epoch 87/300\n",
      "\u001b[1m58/58\u001b[0m \u001b[32m━━━━━━━━━━━━━━━━━━━━\u001b[0m\u001b[37m\u001b[0m \u001b[1m0s\u001b[0m 1s/step - loss: 1.0168 - mae: 0.7719\n",
      "Epoch 87: saving model to model_checkpoint.keras\n",
      "\u001b[1m58/58\u001b[0m \u001b[32m━━━━━━━━━━━━━━━━━━━━\u001b[0m\u001b[37m\u001b[0m \u001b[1m65s\u001b[0m 1s/step - loss: 1.0151 - mae: 0.7714 - val_loss: 3.5720 - val_mae: 1.3051\n",
      "Epoch 88/300\n",
      "\u001b[1m58/58\u001b[0m \u001b[32m━━━━━━━━━━━━━━━━━━━━\u001b[0m\u001b[37m\u001b[0m \u001b[1m0s\u001b[0m 1s/step - loss: 0.8382 - mae: 0.7082\n",
      "Epoch 88: saving model to model_checkpoint.keras\n",
      "\u001b[1m58/58\u001b[0m \u001b[32m━━━━━━━━━━━━━━━━━━━━\u001b[0m\u001b[37m\u001b[0m \u001b[1m66s\u001b[0m 1s/step - loss: 0.8379 - mae: 0.7081 - val_loss: 3.2645 - val_mae: 1.2307\n",
      "Epoch 89/300\n",
      "\u001b[1m58/58\u001b[0m \u001b[32m━━━━━━━━━━━━━━━━━━━━\u001b[0m\u001b[37m\u001b[0m \u001b[1m0s\u001b[0m 1s/step - loss: 0.8129 - mae: 0.7080\n",
      "Epoch 89: saving model to model_checkpoint.keras\n",
      "\u001b[1m58/58\u001b[0m \u001b[32m━━━━━━━━━━━━━━━━━━━━\u001b[0m\u001b[37m\u001b[0m \u001b[1m66s\u001b[0m 1s/step - loss: 0.8139 - mae: 0.7082 - val_loss: 3.4368 - val_mae: 1.2550\n",
      "Epoch 90/300\n",
      "\u001b[1m58/58\u001b[0m \u001b[32m━━━━━━━━━━━━━━━━━━━━\u001b[0m\u001b[37m\u001b[0m \u001b[1m0s\u001b[0m 1s/step - loss: 0.9579 - mae: 0.7500\n",
      "Epoch 90: saving model to model_checkpoint.keras\n",
      "\u001b[1m58/58\u001b[0m \u001b[32m━━━━━━━━━━━━━━━━━━━━\u001b[0m\u001b[37m\u001b[0m \u001b[1m66s\u001b[0m 1s/step - loss: 0.9579 - mae: 0.7501 - val_loss: 3.6065 - val_mae: 1.4143\n",
      "Epoch 91/300\n",
      "\u001b[1m58/58\u001b[0m \u001b[32m━━━━━━━━━━━━━━━━━━━━\u001b[0m\u001b[37m\u001b[0m \u001b[1m0s\u001b[0m 1s/step - loss: 0.9862 - mae: 0.7686\n",
      "Epoch 91: saving model to model_checkpoint.keras\n",
      "\u001b[1m58/58\u001b[0m \u001b[32m━━━━━━━━━━━━━━━━━━━━\u001b[0m\u001b[37m\u001b[0m \u001b[1m65s\u001b[0m 1s/step - loss: 0.9863 - mae: 0.7686 - val_loss: 3.2682 - val_mae: 1.2439\n",
      "Epoch 92/300\n",
      "\u001b[1m58/58\u001b[0m \u001b[32m━━━━━━━━━━━━━━━━━━━━\u001b[0m\u001b[37m\u001b[0m \u001b[1m0s\u001b[0m 1s/step - loss: 0.8488 - mae: 0.7223\n",
      "Epoch 92: saving model to model_checkpoint.keras\n",
      "\u001b[1m58/58\u001b[0m \u001b[32m━━━━━━━━━━━━━━━━━━━━\u001b[0m\u001b[37m\u001b[0m \u001b[1m66s\u001b[0m 1s/step - loss: 0.8497 - mae: 0.7226 - val_loss: 3.1830 - val_mae: 1.2419\n",
      "Epoch 93/300\n",
      "\u001b[1m58/58\u001b[0m \u001b[32m━━━━━━━━━━━━━━━━━━━━\u001b[0m\u001b[37m\u001b[0m \u001b[1m0s\u001b[0m 1s/step - loss: 0.9570 - mae: 0.7615\n",
      "Epoch 93: saving model to model_checkpoint.keras\n",
      "\u001b[1m58/58\u001b[0m \u001b[32m━━━━━━━━━━━━━━━━━━━━\u001b[0m\u001b[37m\u001b[0m \u001b[1m66s\u001b[0m 1s/step - loss: 0.9575 - mae: 0.7614 - val_loss: 3.3771 - val_mae: 1.2924\n",
      "Epoch 94/300\n",
      "\u001b[1m58/58\u001b[0m \u001b[32m━━━━━━━━━━━━━━━━━━━━\u001b[0m\u001b[37m\u001b[0m \u001b[1m0s\u001b[0m 1s/step - loss: 0.8613 - mae: 0.7126\n",
      "Epoch 94: saving model to model_checkpoint.keras\n",
      "\u001b[1m58/58\u001b[0m \u001b[32m━━━━━━━━━━━━━━━━━━━━\u001b[0m\u001b[37m\u001b[0m \u001b[1m66s\u001b[0m 1s/step - loss: 0.8613 - mae: 0.7125 - val_loss: 3.1254 - val_mae: 1.2186\n",
      "Epoch 95/300\n",
      "\u001b[1m58/58\u001b[0m \u001b[32m━━━━━━━━━━━━━━━━━━━━\u001b[0m\u001b[37m\u001b[0m \u001b[1m0s\u001b[0m 1s/step - loss: 1.1166 - mae: 0.7996\n",
      "Epoch 95: saving model to model_checkpoint.keras\n",
      "\u001b[1m58/58\u001b[0m \u001b[32m━━━━━━━━━━━━━━━━━━━━\u001b[0m\u001b[37m\u001b[0m \u001b[1m67s\u001b[0m 1s/step - loss: 1.1161 - mae: 0.7994 - val_loss: 3.5238 - val_mae: 1.2983\n",
      "Epoch 96/300\n",
      "\u001b[1m58/58\u001b[0m \u001b[32m━━━━━━━━━━━━━━━━━━━━\u001b[0m\u001b[37m\u001b[0m \u001b[1m0s\u001b[0m 1s/step - loss: 0.8472 - mae: 0.7109\n",
      "Epoch 96: saving model to model_checkpoint.keras\n",
      "\u001b[1m58/58\u001b[0m \u001b[32m━━━━━━━━━━━━━━━━━━━━\u001b[0m\u001b[37m\u001b[0m \u001b[1m65s\u001b[0m 1s/step - loss: 0.8471 - mae: 0.7107 - val_loss: 3.1421 - val_mae: 1.2532\n",
      "Epoch 97/300\n",
      "\u001b[1m58/58\u001b[0m \u001b[32m━━━━━━━━━━━━━━━━━━━━\u001b[0m\u001b[37m\u001b[0m \u001b[1m0s\u001b[0m 1s/step - loss: 0.8304 - mae: 0.7014\n",
      "Epoch 97: saving model to model_checkpoint.keras\n",
      "\u001b[1m58/58\u001b[0m \u001b[32m━━━━━━━━━━━━━━━━━━━━\u001b[0m\u001b[37m\u001b[0m \u001b[1m65s\u001b[0m 1s/step - loss: 0.8304 - mae: 0.7015 - val_loss: 3.8172 - val_mae: 1.3611\n",
      "Epoch 98/300\n",
      "\u001b[1m58/58\u001b[0m \u001b[32m━━━━━━━━━━━━━━━━━━━━\u001b[0m\u001b[37m\u001b[0m \u001b[1m0s\u001b[0m 1s/step - loss: 0.8744 - mae: 0.7189\n",
      "Epoch 98: saving model to model_checkpoint.keras\n",
      "\u001b[1m58/58\u001b[0m \u001b[32m━━━━━━━━━━━━━━━━━━━━\u001b[0m\u001b[37m\u001b[0m \u001b[1m66s\u001b[0m 1s/step - loss: 0.8746 - mae: 0.7190 - val_loss: 3.0503 - val_mae: 1.2350\n",
      "Epoch 99/300\n",
      "\u001b[1m58/58\u001b[0m \u001b[32m━━━━━━━━━━━━━━━━━━━━\u001b[0m\u001b[37m\u001b[0m \u001b[1m0s\u001b[0m 1s/step - loss: 0.8345 - mae: 0.7122\n",
      "Epoch 99: saving model to model_checkpoint.keras\n",
      "\u001b[1m58/58\u001b[0m \u001b[32m━━━━━━━━━━━━━━━━━━━━\u001b[0m\u001b[37m\u001b[0m \u001b[1m66s\u001b[0m 1s/step - loss: 0.8353 - mae: 0.7125 - val_loss: 3.2896 - val_mae: 1.2694\n",
      "Epoch 100/300\n",
      "\u001b[1m58/58\u001b[0m \u001b[32m━━━━━━━━━━━━━━━━━━━━\u001b[0m\u001b[37m\u001b[0m \u001b[1m0s\u001b[0m 1s/step - loss: 0.8288 - mae: 0.7207\n",
      "Epoch 100: saving model to model_checkpoint.keras\n",
      "\u001b[1m58/58\u001b[0m \u001b[32m━━━━━━━━━━━━━━━━━━━━\u001b[0m\u001b[37m\u001b[0m \u001b[1m65s\u001b[0m 1s/step - loss: 0.8291 - mae: 0.7209 - val_loss: 3.2079 - val_mae: 1.2261\n",
      "Epoch 101/300\n",
      "\u001b[1m58/58\u001b[0m \u001b[32m━━━━━━━━━━━━━━━━━━━━\u001b[0m\u001b[37m\u001b[0m \u001b[1m0s\u001b[0m 1s/step - loss: 0.8707 - mae: 0.7238\n",
      "Epoch 101: saving model to model_checkpoint.keras\n",
      "\u001b[1m58/58\u001b[0m \u001b[32m━━━━━━━━━━━━━━━━━━━━\u001b[0m\u001b[37m\u001b[0m \u001b[1m67s\u001b[0m 1s/step - loss: 0.8706 - mae: 0.7239 - val_loss: 3.7766 - val_mae: 1.4669\n",
      "Epoch 102/300\n",
      "\u001b[1m58/58\u001b[0m \u001b[32m━━━━━━━━━━━━━━━━━━━━\u001b[0m\u001b[37m\u001b[0m \u001b[1m0s\u001b[0m 1s/step - loss: 0.9941 - mae: 0.7599\n",
      "Epoch 102: saving model to model_checkpoint.keras\n",
      "\u001b[1m58/58\u001b[0m \u001b[32m━━━━━━━━━━━━━━━━━━━━\u001b[0m\u001b[37m\u001b[0m \u001b[1m66s\u001b[0m 1s/step - loss: 0.9938 - mae: 0.7598 - val_loss: 3.2528 - val_mae: 1.2355\n",
      "Epoch 103/300\n",
      "\u001b[1m58/58\u001b[0m \u001b[32m━━━━━━━━━━━━━━━━━━━━\u001b[0m\u001b[37m\u001b[0m \u001b[1m0s\u001b[0m 1s/step - loss: 0.9511 - mae: 0.7573\n",
      "Epoch 103: saving model to model_checkpoint.keras\n",
      "\u001b[1m58/58\u001b[0m \u001b[32m━━━━━━━━━━━━━━━━━━━━\u001b[0m\u001b[37m\u001b[0m \u001b[1m66s\u001b[0m 1s/step - loss: 0.9499 - mae: 0.7569 - val_loss: 3.3600 - val_mae: 1.2416\n",
      "Epoch 104/300\n",
      "\u001b[1m58/58\u001b[0m \u001b[32m━━━━━━━━━━━━━━━━━━━━\u001b[0m\u001b[37m\u001b[0m \u001b[1m0s\u001b[0m 1s/step - loss: 0.8256 - mae: 0.7021\n",
      "Epoch 104: saving model to model_checkpoint.keras\n",
      "\u001b[1m58/58\u001b[0m \u001b[32m━━━━━━━━━━━━━━━━━━━━\u001b[0m\u001b[37m\u001b[0m \u001b[1m65s\u001b[0m 1s/step - loss: 0.8263 - mae: 0.7024 - val_loss: 3.2108 - val_mae: 1.2653\n",
      "Epoch 105/300\n",
      "\u001b[1m58/58\u001b[0m \u001b[32m━━━━━━━━━━━━━━━━━━━━\u001b[0m\u001b[37m\u001b[0m \u001b[1m0s\u001b[0m 1s/step - loss: 0.8885 - mae: 0.7225\n",
      "Epoch 105: saving model to model_checkpoint.keras\n",
      "\u001b[1m58/58\u001b[0m \u001b[32m━━━━━━━━━━━━━━━━━━━━\u001b[0m\u001b[37m\u001b[0m \u001b[1m67s\u001b[0m 1s/step - loss: 0.8874 - mae: 0.7223 - val_loss: 3.2158 - val_mae: 1.3064\n",
      "Epoch 106/300\n",
      "\u001b[1m58/58\u001b[0m \u001b[32m━━━━━━━━━━━━━━━━━━━━\u001b[0m\u001b[37m\u001b[0m \u001b[1m0s\u001b[0m 1s/step - loss: 0.8794 - mae: 0.7283\n",
      "Epoch 106: saving model to model_checkpoint.keras\n",
      "\u001b[1m58/58\u001b[0m \u001b[32m━━━━━━━━━━━━━━━━━━━━\u001b[0m\u001b[37m\u001b[0m \u001b[1m65s\u001b[0m 1s/step - loss: 0.8782 - mae: 0.7279 - val_loss: 3.2965 - val_mae: 1.2423\n",
      "Epoch 107/300\n",
      "\u001b[1m58/58\u001b[0m \u001b[32m━━━━━━━━━━━━━━━━━━━━\u001b[0m\u001b[37m\u001b[0m \u001b[1m0s\u001b[0m 1s/step - loss: 0.9317 - mae: 0.7545\n",
      "Epoch 107: saving model to model_checkpoint.keras\n",
      "\u001b[1m58/58\u001b[0m \u001b[32m━━━━━━━━━━━━━━━━━━━━\u001b[0m\u001b[37m\u001b[0m \u001b[1m65s\u001b[0m 1s/step - loss: 0.9318 - mae: 0.7543 - val_loss: 3.4162 - val_mae: 1.2879\n",
      "Epoch 108/300\n",
      "\u001b[1m58/58\u001b[0m \u001b[32m━━━━━━━━━━━━━━━━━━━━\u001b[0m\u001b[37m\u001b[0m \u001b[1m0s\u001b[0m 1s/step - loss: 0.8955 - mae: 0.7340\n",
      "Epoch 108: saving model to model_checkpoint.keras\n",
      "\u001b[1m58/58\u001b[0m \u001b[32m━━━━━━━━━━━━━━━━━━━━\u001b[0m\u001b[37m\u001b[0m \u001b[1m65s\u001b[0m 1s/step - loss: 0.8951 - mae: 0.7340 - val_loss: 2.8281 - val_mae: 1.1707\n",
      "Epoch 109/300\n",
      "\u001b[1m58/58\u001b[0m \u001b[32m━━━━━━━━━━━━━━━━━━━━\u001b[0m\u001b[37m\u001b[0m \u001b[1m0s\u001b[0m 1s/step - loss: 0.8159 - mae: 0.6890\n",
      "Epoch 109: saving model to model_checkpoint.keras\n",
      "\u001b[1m58/58\u001b[0m \u001b[32m━━━━━━━━━━━━━━━━━━━━\u001b[0m\u001b[37m\u001b[0m \u001b[1m66s\u001b[0m 1s/step - loss: 0.8162 - mae: 0.6891 - val_loss: 3.5206 - val_mae: 1.2549\n",
      "Epoch 110/300\n",
      "\u001b[1m58/58\u001b[0m \u001b[32m━━━━━━━━━━━━━━━━━━━━\u001b[0m\u001b[37m\u001b[0m \u001b[1m0s\u001b[0m 1s/step - loss: 0.9157 - mae: 0.7376\n",
      "Epoch 110: saving model to model_checkpoint.keras\n",
      "\u001b[1m58/58\u001b[0m \u001b[32m━━━━━━━━━━━━━━━━━━━━\u001b[0m\u001b[37m\u001b[0m \u001b[1m66s\u001b[0m 1s/step - loss: 0.9138 - mae: 0.7369 - val_loss: 3.1554 - val_mae: 1.2291\n",
      "Epoch 111/300\n",
      "\u001b[1m58/58\u001b[0m \u001b[32m━━━━━━━━━━━━━━━━━━━━\u001b[0m\u001b[37m\u001b[0m \u001b[1m0s\u001b[0m 1s/step - loss: 0.8897 - mae: 0.7284\n",
      "Epoch 111: saving model to model_checkpoint.keras\n",
      "\u001b[1m58/58\u001b[0m \u001b[32m━━━━━━━━━━━━━━━━━━━━\u001b[0m\u001b[37m\u001b[0m \u001b[1m66s\u001b[0m 1s/step - loss: 0.8894 - mae: 0.7281 - val_loss: 3.1350 - val_mae: 1.2059\n",
      "Epoch 112/300\n",
      "\u001b[1m58/58\u001b[0m \u001b[32m━━━━━━━━━━━━━━━━━━━━\u001b[0m\u001b[37m\u001b[0m \u001b[1m0s\u001b[0m 1s/step - loss: 0.9391 - mae: 0.7498\n",
      "Epoch 112: saving model to model_checkpoint.keras\n",
      "\u001b[1m58/58\u001b[0m \u001b[32m━━━━━━━━━━━━━━━━━━━━\u001b[0m\u001b[37m\u001b[0m \u001b[1m66s\u001b[0m 1s/step - loss: 0.9386 - mae: 0.7496 - val_loss: 3.3190 - val_mae: 1.3039\n",
      "Epoch 113/300\n",
      "\u001b[1m58/58\u001b[0m \u001b[32m━━━━━━━━━━━━━━━━━━━━\u001b[0m\u001b[37m\u001b[0m \u001b[1m0s\u001b[0m 1s/step - loss: 0.9490 - mae: 0.7305\n",
      "Epoch 113: saving model to model_checkpoint.keras\n",
      "\u001b[1m58/58\u001b[0m \u001b[32m━━━━━━━━━━━━━━━━━━━━\u001b[0m\u001b[37m\u001b[0m \u001b[1m66s\u001b[0m 1s/step - loss: 0.9488 - mae: 0.7307 - val_loss: 3.2069 - val_mae: 1.2350\n",
      "Epoch 114/300\n",
      "\u001b[1m58/58\u001b[0m \u001b[32m━━━━━━━━━━━━━━━━━━━━\u001b[0m\u001b[37m\u001b[0m \u001b[1m0s\u001b[0m 1s/step - loss: 0.9003 - mae: 0.7185\n",
      "Epoch 114: saving model to model_checkpoint.keras\n",
      "\u001b[1m58/58\u001b[0m \u001b[32m━━━━━━━━━━━━━━━━━━━━\u001b[0m\u001b[37m\u001b[0m \u001b[1m66s\u001b[0m 1s/step - loss: 0.9014 - mae: 0.7193 - val_loss: 3.5107 - val_mae: 1.2977\n",
      "Epoch 115/300\n",
      "\u001b[1m58/58\u001b[0m \u001b[32m━━━━━━━━━━━━━━━━━━━━\u001b[0m\u001b[37m\u001b[0m \u001b[1m0s\u001b[0m 1s/step - loss: 0.9316 - mae: 0.7383\n",
      "Epoch 115: saving model to model_checkpoint.keras\n",
      "\u001b[1m58/58\u001b[0m \u001b[32m━━━━━━━━━━━━━━━━━━━━\u001b[0m\u001b[37m\u001b[0m \u001b[1m66s\u001b[0m 1s/step - loss: 0.9307 - mae: 0.7379 - val_loss: 3.5338 - val_mae: 1.2744\n",
      "Epoch 116/300\n",
      "\u001b[1m58/58\u001b[0m \u001b[32m━━━━━━━━━━━━━━━━━━━━\u001b[0m\u001b[37m\u001b[0m \u001b[1m0s\u001b[0m 1s/step - loss: 0.9051 - mae: 0.7279\n",
      "Epoch 116: saving model to model_checkpoint.keras\n",
      "\u001b[1m58/58\u001b[0m \u001b[32m━━━━━━━━━━━━━━━━━━━━\u001b[0m\u001b[37m\u001b[0m \u001b[1m65s\u001b[0m 1s/step - loss: 0.9031 - mae: 0.7270 - val_loss: 3.3399 - val_mae: 1.2369\n",
      "Epoch 117/300\n",
      "\u001b[1m58/58\u001b[0m \u001b[32m━━━━━━━━━━━━━━━━━━━━\u001b[0m\u001b[37m\u001b[0m \u001b[1m0s\u001b[0m 1s/step - loss: 0.8638 - mae: 0.7204\n",
      "Epoch 117: saving model to model_checkpoint.keras\n",
      "\u001b[1m58/58\u001b[0m \u001b[32m━━━━━━━━━━━━━━━━━━━━\u001b[0m\u001b[37m\u001b[0m \u001b[1m65s\u001b[0m 1s/step - loss: 0.8631 - mae: 0.7202 - val_loss: 3.1482 - val_mae: 1.2465\n",
      "Epoch 118/300\n",
      "\u001b[1m58/58\u001b[0m \u001b[32m━━━━━━━━━━━━━━━━━━━━\u001b[0m\u001b[37m\u001b[0m \u001b[1m0s\u001b[0m 1s/step - loss: 0.8629 - mae: 0.7263\n",
      "Epoch 118: saving model to model_checkpoint.keras\n",
      "\u001b[1m58/58\u001b[0m \u001b[32m━━━━━━━━━━━━━━━━━━━━\u001b[0m\u001b[37m\u001b[0m \u001b[1m66s\u001b[0m 1s/step - loss: 0.8634 - mae: 0.7263 - val_loss: 3.3826 - val_mae: 1.2864\n",
      "Epoch 119/300\n",
      "\u001b[1m58/58\u001b[0m \u001b[32m━━━━━━━━━━━━━━━━━━━━\u001b[0m\u001b[37m\u001b[0m \u001b[1m0s\u001b[0m 1s/step - loss: 0.9581 - mae: 0.7584\n",
      "Epoch 119: saving model to model_checkpoint.keras\n",
      "\u001b[1m58/58\u001b[0m \u001b[32m━━━━━━━━━━━━━━━━━━━━\u001b[0m\u001b[37m\u001b[0m \u001b[1m66s\u001b[0m 1s/step - loss: 0.9573 - mae: 0.7581 - val_loss: 3.1511 - val_mae: 1.2632\n",
      "Epoch 120/300\n",
      "\u001b[1m58/58\u001b[0m \u001b[32m━━━━━━━━━━━━━━━━━━━━\u001b[0m\u001b[37m\u001b[0m \u001b[1m0s\u001b[0m 1s/step - loss: 0.8376 - mae: 0.7104\n",
      "Epoch 120: saving model to model_checkpoint.keras\n",
      "\u001b[1m58/58\u001b[0m \u001b[32m━━━━━━━━━━━━━━━━━━━━\u001b[0m\u001b[37m\u001b[0m \u001b[1m66s\u001b[0m 1s/step - loss: 0.8375 - mae: 0.7104 - val_loss: 3.1163 - val_mae: 1.2559\n",
      "Epoch 121/300\n",
      "\u001b[1m58/58\u001b[0m \u001b[32m━━━━━━━━━━━━━━━━━━━━\u001b[0m\u001b[37m\u001b[0m \u001b[1m0s\u001b[0m 1s/step - loss: 0.7770 - mae: 0.6832\n",
      "Epoch 121: saving model to model_checkpoint.keras\n",
      "\u001b[1m58/58\u001b[0m \u001b[32m━━━━━━━━━━━━━━━━━━━━\u001b[0m\u001b[37m\u001b[0m \u001b[1m66s\u001b[0m 1s/step - loss: 0.7770 - mae: 0.6831 - val_loss: 3.0718 - val_mae: 1.1824\n",
      "Epoch 122/300\n",
      "\u001b[1m58/58\u001b[0m \u001b[32m━━━━━━━━━━━━━━━━━━━━\u001b[0m\u001b[37m\u001b[0m \u001b[1m0s\u001b[0m 1s/step - loss: 0.7522 - mae: 0.6793\n",
      "Epoch 122: saving model to model_checkpoint.keras\n",
      "\u001b[1m58/58\u001b[0m \u001b[32m━━━━━━━━━━━━━━━━━━━━\u001b[0m\u001b[37m\u001b[0m \u001b[1m65s\u001b[0m 1s/step - loss: 0.7519 - mae: 0.6792 - val_loss: 3.2601 - val_mae: 1.3103\n",
      "Epoch 123/300\n",
      "\u001b[1m58/58\u001b[0m \u001b[32m━━━━━━━━━━━━━━━━━━━━\u001b[0m\u001b[37m\u001b[0m \u001b[1m0s\u001b[0m 1s/step - loss: 0.9200 - mae: 0.7323\n",
      "Epoch 123: saving model to model_checkpoint.keras\n",
      "\u001b[1m58/58\u001b[0m \u001b[32m━━━━━━━━━━━━━━━━━━━━\u001b[0m\u001b[37m\u001b[0m \u001b[1m66s\u001b[0m 1s/step - loss: 0.9199 - mae: 0.7322 - val_loss: 3.1089 - val_mae: 1.1869\n",
      "Epoch 124/300\n",
      "\u001b[1m58/58\u001b[0m \u001b[32m━━━━━━━━━━━━━━━━━━━━\u001b[0m\u001b[37m\u001b[0m \u001b[1m0s\u001b[0m 1s/step - loss: 0.7866 - mae: 0.6876\n",
      "Epoch 124: saving model to model_checkpoint.keras\n",
      "\u001b[1m58/58\u001b[0m \u001b[32m━━━━━━━━━━━━━━━━━━━━\u001b[0m\u001b[37m\u001b[0m \u001b[1m65s\u001b[0m 1s/step - loss: 0.7855 - mae: 0.6871 - val_loss: 3.1696 - val_mae: 1.1969\n",
      "Epoch 125/300\n",
      "\u001b[1m58/58\u001b[0m \u001b[32m━━━━━━━━━━━━━━━━━━━━\u001b[0m\u001b[37m\u001b[0m \u001b[1m0s\u001b[0m 1s/step - loss: 0.7356 - mae: 0.6639\n",
      "Epoch 125: saving model to model_checkpoint.keras\n",
      "\u001b[1m58/58\u001b[0m \u001b[32m━━━━━━━━━━━━━━━━━━━━\u001b[0m\u001b[37m\u001b[0m \u001b[1m66s\u001b[0m 1s/step - loss: 0.7363 - mae: 0.6642 - val_loss: 2.9930 - val_mae: 1.2017\n",
      "Epoch 126/300\n",
      "\u001b[1m58/58\u001b[0m \u001b[32m━━━━━━━━━━━━━━━━━━━━\u001b[0m\u001b[37m\u001b[0m \u001b[1m0s\u001b[0m 1s/step - loss: 0.7801 - mae: 0.6847\n",
      "Epoch 126: saving model to model_checkpoint.keras\n",
      "\u001b[1m58/58\u001b[0m \u001b[32m━━━━━━━━━━━━━━━━━━━━\u001b[0m\u001b[37m\u001b[0m \u001b[1m65s\u001b[0m 1s/step - loss: 0.7795 - mae: 0.6847 - val_loss: 3.2409 - val_mae: 1.2379\n",
      "Epoch 127/300\n",
      "\u001b[1m58/58\u001b[0m \u001b[32m━━━━━━━━━━━━━━━━━━━━\u001b[0m\u001b[37m\u001b[0m \u001b[1m0s\u001b[0m 1s/step - loss: 0.8796 - mae: 0.7142\n",
      "Epoch 127: saving model to model_checkpoint.keras\n",
      "\u001b[1m58/58\u001b[0m \u001b[32m━━━━━━━━━━━━━━━━━━━━\u001b[0m\u001b[37m\u001b[0m \u001b[1m65s\u001b[0m 1s/step - loss: 0.8797 - mae: 0.7143 - val_loss: 3.0374 - val_mae: 1.1999\n",
      "Epoch 128/300\n",
      "\u001b[1m58/58\u001b[0m \u001b[32m━━━━━━━━━━━━━━━━━━━━\u001b[0m\u001b[37m\u001b[0m \u001b[1m0s\u001b[0m 1s/step - loss: 0.9691 - mae: 0.7498\n",
      "Epoch 128: saving model to model_checkpoint.keras\n",
      "\u001b[1m58/58\u001b[0m \u001b[32m━━━━━━━━━━━━━━━━━━━━\u001b[0m\u001b[37m\u001b[0m \u001b[1m65s\u001b[0m 1s/step - loss: 0.9688 - mae: 0.7497 - val_loss: 3.3923 - val_mae: 1.2775\n",
      "Epoch 129/300\n",
      "\u001b[1m58/58\u001b[0m \u001b[32m━━━━━━━━━━━━━━━━━━━━\u001b[0m\u001b[37m\u001b[0m \u001b[1m0s\u001b[0m 1s/step - loss: 0.8831 - mae: 0.7180\n",
      "Epoch 129: saving model to model_checkpoint.keras\n",
      "\u001b[1m58/58\u001b[0m \u001b[32m━━━━━━━━━━━━━━━━━━━━\u001b[0m\u001b[37m\u001b[0m \u001b[1m65s\u001b[0m 1s/step - loss: 0.8818 - mae: 0.7176 - val_loss: 3.4947 - val_mae: 1.2948\n",
      "Epoch 130/300\n",
      "\u001b[1m58/58\u001b[0m \u001b[32m━━━━━━━━━━━━━━━━━━━━\u001b[0m\u001b[37m\u001b[0m \u001b[1m0s\u001b[0m 1s/step - loss: 0.8822 - mae: 0.7230\n",
      "Epoch 130: saving model to model_checkpoint.keras\n",
      "\u001b[1m58/58\u001b[0m \u001b[32m━━━━━━━━━━━━━━━━━━━━\u001b[0m\u001b[37m\u001b[0m \u001b[1m65s\u001b[0m 1s/step - loss: 0.8817 - mae: 0.7228 - val_loss: 3.4339 - val_mae: 1.2931\n",
      "Epoch 131/300\n",
      "\u001b[1m58/58\u001b[0m \u001b[32m━━━━━━━━━━━━━━━━━━━━\u001b[0m\u001b[37m\u001b[0m \u001b[1m0s\u001b[0m 1s/step - loss: 0.8428 - mae: 0.6986\n",
      "Epoch 131: saving model to model_checkpoint.keras\n",
      "\u001b[1m58/58\u001b[0m \u001b[32m━━━━━━━━━━━━━━━━━━━━\u001b[0m\u001b[37m\u001b[0m \u001b[1m66s\u001b[0m 1s/step - loss: 0.8415 - mae: 0.6981 - val_loss: 3.2361 - val_mae: 1.2100\n",
      "Epoch 132/300\n",
      "\u001b[1m58/58\u001b[0m \u001b[32m━━━━━━━━━━━━━━━━━━━━\u001b[0m\u001b[37m\u001b[0m \u001b[1m0s\u001b[0m 1s/step - loss: 0.8004 - mae: 0.6861\n",
      "Epoch 132: saving model to model_checkpoint.keras\n",
      "\u001b[1m58/58\u001b[0m \u001b[32m━━━━━━━━━━━━━━━━━━━━\u001b[0m\u001b[37m\u001b[0m \u001b[1m65s\u001b[0m 1s/step - loss: 0.7999 - mae: 0.6859 - val_loss: 3.0713 - val_mae: 1.1910\n",
      "Epoch 133/300\n",
      "\u001b[1m58/58\u001b[0m \u001b[32m━━━━━━━━━━━━━━━━━━━━\u001b[0m\u001b[37m\u001b[0m \u001b[1m0s\u001b[0m 1s/step - loss: 0.8113 - mae: 0.6996\n",
      "Epoch 133: saving model to model_checkpoint.keras\n",
      "\u001b[1m58/58\u001b[0m \u001b[32m━━━━━━━━━━━━━━━━━━━━\u001b[0m\u001b[37m\u001b[0m \u001b[1m65s\u001b[0m 1s/step - loss: 0.8115 - mae: 0.6996 - val_loss: 3.1813 - val_mae: 1.2265\n",
      "Epoch 134/300\n",
      "\u001b[1m58/58\u001b[0m \u001b[32m━━━━━━━━━━━━━━━━━━━━\u001b[0m\u001b[37m\u001b[0m \u001b[1m0s\u001b[0m 1s/step - loss: 0.9121 - mae: 0.7448\n",
      "Epoch 134: saving model to model_checkpoint.keras\n",
      "\u001b[1m58/58\u001b[0m \u001b[32m━━━━━━━━━━━━━━━━━━━━\u001b[0m\u001b[37m\u001b[0m \u001b[1m65s\u001b[0m 1s/step - loss: 0.9110 - mae: 0.7443 - val_loss: 3.3755 - val_mae: 1.2565\n",
      "Epoch 135/300\n",
      "\u001b[1m58/58\u001b[0m \u001b[32m━━━━━━━━━━━━━━━━━━━━\u001b[0m\u001b[37m\u001b[0m \u001b[1m0s\u001b[0m 1s/step - loss: 0.7967 - mae: 0.6859\n",
      "Epoch 135: saving model to model_checkpoint.keras\n",
      "\u001b[1m58/58\u001b[0m \u001b[32m━━━━━━━━━━━━━━━━━━━━\u001b[0m\u001b[37m\u001b[0m \u001b[1m66s\u001b[0m 1s/step - loss: 0.7981 - mae: 0.6864 - val_loss: 3.2475 - val_mae: 1.2565\n",
      "Epoch 136/300\n",
      "\u001b[1m58/58\u001b[0m \u001b[32m━━━━━━━━━━━━━━━━━━━━\u001b[0m\u001b[37m\u001b[0m \u001b[1m0s\u001b[0m 1s/step - loss: 0.8656 - mae: 0.7141\n",
      "Epoch 136: saving model to model_checkpoint.keras\n",
      "\u001b[1m58/58\u001b[0m \u001b[32m━━━━━━━━━━━━━━━━━━━━\u001b[0m\u001b[37m\u001b[0m \u001b[1m66s\u001b[0m 1s/step - loss: 0.8642 - mae: 0.7135 - val_loss: 3.3151 - val_mae: 1.2617\n",
      "Epoch 137/300\n",
      "\u001b[1m58/58\u001b[0m \u001b[32m━━━━━━━━━━━━━━━━━━━━\u001b[0m\u001b[37m\u001b[0m \u001b[1m0s\u001b[0m 1s/step - loss: 0.7899 - mae: 0.6856\n",
      "Epoch 137: saving model to model_checkpoint.keras\n",
      "\u001b[1m58/58\u001b[0m \u001b[32m━━━━━━━━━━━━━━━━━━━━\u001b[0m\u001b[37m\u001b[0m \u001b[1m65s\u001b[0m 1s/step - loss: 0.7918 - mae: 0.6863 - val_loss: 3.0616 - val_mae: 1.2253\n",
      "Epoch 138/300\n",
      "\u001b[1m58/58\u001b[0m \u001b[32m━━━━━━━━━━━━━━━━━━━━\u001b[0m\u001b[37m\u001b[0m \u001b[1m0s\u001b[0m 1s/step - loss: 0.8551 - mae: 0.7027\n",
      "Epoch 138: saving model to model_checkpoint.keras\n",
      "\u001b[1m58/58\u001b[0m \u001b[32m━━━━━━━━━━━━━━━━━━━━\u001b[0m\u001b[37m\u001b[0m \u001b[1m65s\u001b[0m 1s/step - loss: 0.8540 - mae: 0.7025 - val_loss: 3.3597 - val_mae: 1.2456\n",
      "Epoch 139/300\n",
      "\u001b[1m58/58\u001b[0m \u001b[32m━━━━━━━━━━━━━━━━━━━━\u001b[0m\u001b[37m\u001b[0m \u001b[1m0s\u001b[0m 1s/step - loss: 0.8052 - mae: 0.6847\n",
      "Epoch 139: saving model to model_checkpoint.keras\n",
      "\u001b[1m58/58\u001b[0m \u001b[32m━━━━━━━━━━━━━━━━━━━━\u001b[0m\u001b[37m\u001b[0m \u001b[1m66s\u001b[0m 1s/step - loss: 0.8056 - mae: 0.6848 - val_loss: 3.5221 - val_mae: 1.4020\n",
      "Epoch 140/300\n",
      "\u001b[1m58/58\u001b[0m \u001b[32m━━━━━━━━━━━━━━━━━━━━\u001b[0m\u001b[37m\u001b[0m \u001b[1m0s\u001b[0m 1s/step - loss: 0.8861 - mae: 0.7197\n",
      "Epoch 140: saving model to model_checkpoint.keras\n",
      "\u001b[1m58/58\u001b[0m \u001b[32m━━━━━━━━━━━━━━━━━━━━\u001b[0m\u001b[37m\u001b[0m \u001b[1m66s\u001b[0m 1s/step - loss: 0.8854 - mae: 0.7194 - val_loss: 3.1938 - val_mae: 1.2482\n",
      "Epoch 141/300\n",
      "\u001b[1m58/58\u001b[0m \u001b[32m━━━━━━━━━━━━━━━━━━━━\u001b[0m\u001b[37m\u001b[0m \u001b[1m0s\u001b[0m 1s/step - loss: 0.7637 - mae: 0.6722\n",
      "Epoch 141: saving model to model_checkpoint.keras\n",
      "\u001b[1m58/58\u001b[0m \u001b[32m━━━━━━━━━━━━━━━━━━━━\u001b[0m\u001b[37m\u001b[0m \u001b[1m65s\u001b[0m 1s/step - loss: 0.7647 - mae: 0.6726 - val_loss: 3.5975 - val_mae: 1.3100\n",
      "Epoch 142/300\n",
      "\u001b[1m58/58\u001b[0m \u001b[32m━━━━━━━━━━━━━━━━━━━━\u001b[0m\u001b[37m\u001b[0m \u001b[1m0s\u001b[0m 1s/step - loss: 0.8524 - mae: 0.7104\n",
      "Epoch 142: saving model to model_checkpoint.keras\n",
      "\u001b[1m58/58\u001b[0m \u001b[32m━━━━━━━━━━━━━━━━━━━━\u001b[0m\u001b[37m\u001b[0m \u001b[1m65s\u001b[0m 1s/step - loss: 0.8522 - mae: 0.7103 - val_loss: 3.6248 - val_mae: 1.2614\n",
      "Epoch 143/300\n",
      "\u001b[1m58/58\u001b[0m \u001b[32m━━━━━━━━━━━━━━━━━━━━\u001b[0m\u001b[37m\u001b[0m \u001b[1m0s\u001b[0m 1s/step - loss: 0.7935 - mae: 0.6822\n",
      "Epoch 143: saving model to model_checkpoint.keras\n",
      "\u001b[1m58/58\u001b[0m \u001b[32m━━━━━━━━━━━━━━━━━━━━\u001b[0m\u001b[37m\u001b[0m \u001b[1m65s\u001b[0m 1s/step - loss: 0.7934 - mae: 0.6820 - val_loss: 3.2259 - val_mae: 1.2151\n",
      "Epoch 144/300\n",
      "\u001b[1m58/58\u001b[0m \u001b[32m━━━━━━━━━━━━━━━━━━━━\u001b[0m\u001b[37m\u001b[0m \u001b[1m0s\u001b[0m 1s/step - loss: 0.8212 - mae: 0.6894\n",
      "Epoch 144: saving model to model_checkpoint.keras\n",
      "\u001b[1m58/58\u001b[0m \u001b[32m━━━━━━━━━━━━━━━━━━━━\u001b[0m\u001b[37m\u001b[0m \u001b[1m65s\u001b[0m 1s/step - loss: 0.8211 - mae: 0.6894 - val_loss: 3.1407 - val_mae: 1.2238\n",
      "Epoch 145/300\n",
      "\u001b[1m58/58\u001b[0m \u001b[32m━━━━━━━━━━━━━━━━━━━━\u001b[0m\u001b[37m\u001b[0m \u001b[1m0s\u001b[0m 1s/step - loss: 0.7306 - mae: 0.6707\n",
      "Epoch 145: saving model to model_checkpoint.keras\n",
      "\u001b[1m58/58\u001b[0m \u001b[32m━━━━━━━━━━━━━━━━━━━━\u001b[0m\u001b[37m\u001b[0m \u001b[1m65s\u001b[0m 1s/step - loss: 0.7314 - mae: 0.6709 - val_loss: 2.9420 - val_mae: 1.2044\n",
      "Epoch 146/300\n",
      "\u001b[1m58/58\u001b[0m \u001b[32m━━━━━━━━━━━━━━━━━━━━\u001b[0m\u001b[37m\u001b[0m \u001b[1m0s\u001b[0m 1s/step - loss: 0.8335 - mae: 0.7105\n",
      "Epoch 146: saving model to model_checkpoint.keras\n",
      "\u001b[1m58/58\u001b[0m \u001b[32m━━━━━━━━━━━━━━━━━━━━\u001b[0m\u001b[37m\u001b[0m \u001b[1m66s\u001b[0m 1s/step - loss: 0.8321 - mae: 0.7099 - val_loss: 3.2111 - val_mae: 1.2461\n",
      "Epoch 147/300\n",
      "\u001b[1m58/58\u001b[0m \u001b[32m━━━━━━━━━━━━━━━━━━━━\u001b[0m\u001b[37m\u001b[0m \u001b[1m0s\u001b[0m 1s/step - loss: 0.8730 - mae: 0.7181\n",
      "Epoch 147: saving model to model_checkpoint.keras\n",
      "\u001b[1m58/58\u001b[0m \u001b[32m━━━━━━━━━━━━━━━━━━━━\u001b[0m\u001b[37m\u001b[0m \u001b[1m65s\u001b[0m 1s/step - loss: 0.8732 - mae: 0.7181 - val_loss: 3.1061 - val_mae: 1.2773\n",
      "Epoch 148/300\n",
      "\u001b[1m58/58\u001b[0m \u001b[32m━━━━━━━━━━━━━━━━━━━━\u001b[0m\u001b[37m\u001b[0m \u001b[1m0s\u001b[0m 1s/step - loss: 0.8525 - mae: 0.7125\n",
      "Epoch 148: saving model to model_checkpoint.keras\n",
      "\u001b[1m58/58\u001b[0m \u001b[32m━━━━━━━━━━━━━━━━━━━━\u001b[0m\u001b[37m\u001b[0m \u001b[1m66s\u001b[0m 1s/step - loss: 0.8514 - mae: 0.7120 - val_loss: 3.1407 - val_mae: 1.1816\n",
      "Epoch 149/300\n",
      "\u001b[1m58/58\u001b[0m \u001b[32m━━━━━━━━━━━━━━━━━━━━\u001b[0m\u001b[37m\u001b[0m \u001b[1m0s\u001b[0m 1s/step - loss: 0.7058 - mae: 0.6512\n",
      "Epoch 149: saving model to model_checkpoint.keras\n",
      "\u001b[1m58/58\u001b[0m \u001b[32m━━━━━━━━━━━━━━━━━━━━\u001b[0m\u001b[37m\u001b[0m \u001b[1m66s\u001b[0m 1s/step - loss: 0.7062 - mae: 0.6514 - val_loss: 3.2138 - val_mae: 1.1911\n",
      "Epoch 150/300\n",
      "\u001b[1m58/58\u001b[0m \u001b[32m━━━━━━━━━━━━━━━━━━━━\u001b[0m\u001b[37m\u001b[0m \u001b[1m0s\u001b[0m 1s/step - loss: 0.7410 - mae: 0.6696\n",
      "Epoch 150: saving model to model_checkpoint.keras\n",
      "\u001b[1m58/58\u001b[0m \u001b[32m━━━━━━━━━━━━━━━━━━━━\u001b[0m\u001b[37m\u001b[0m \u001b[1m66s\u001b[0m 1s/step - loss: 0.7412 - mae: 0.6697 - val_loss: 3.1466 - val_mae: 1.2699\n",
      "Epoch 151/300\n",
      "\u001b[1m58/58\u001b[0m \u001b[32m━━━━━━━━━━━━━━━━━━━━\u001b[0m\u001b[37m\u001b[0m \u001b[1m0s\u001b[0m 1s/step - loss: 0.7366 - mae: 0.6653\n",
      "Epoch 151: saving model to model_checkpoint.keras\n",
      "\u001b[1m58/58\u001b[0m \u001b[32m━━━━━━━━━━━━━━━━━━━━\u001b[0m\u001b[37m\u001b[0m \u001b[1m66s\u001b[0m 1s/step - loss: 0.7381 - mae: 0.6660 - val_loss: 3.3982 - val_mae: 1.2870\n",
      "Epoch 152/300\n",
      "\u001b[1m58/58\u001b[0m \u001b[32m━━━━━━━━━━━━━━━━━━━━\u001b[0m\u001b[37m\u001b[0m \u001b[1m0s\u001b[0m 1s/step - loss: 0.9522 - mae: 0.7459\n",
      "Epoch 152: saving model to model_checkpoint.keras\n",
      "\u001b[1m58/58\u001b[0m \u001b[32m━━━━━━━━━━━━━━━━━━━━\u001b[0m\u001b[37m\u001b[0m \u001b[1m65s\u001b[0m 1s/step - loss: 0.9516 - mae: 0.7457 - val_loss: 3.3542 - val_mae: 1.2116\n",
      "Epoch 153/300\n",
      "\u001b[1m58/58\u001b[0m \u001b[32m━━━━━━━━━━━━━━━━━━━━\u001b[0m\u001b[37m\u001b[0m \u001b[1m0s\u001b[0m 1s/step - loss: 0.7507 - mae: 0.6780\n",
      "Epoch 153: saving model to model_checkpoint.keras\n",
      "\u001b[1m58/58\u001b[0m \u001b[32m━━━━━━━━━━━━━━━━━━━━\u001b[0m\u001b[37m\u001b[0m \u001b[1m65s\u001b[0m 1s/step - loss: 0.7507 - mae: 0.6779 - val_loss: 3.1996 - val_mae: 1.1818\n",
      "Epoch 154/300\n",
      "\u001b[1m58/58\u001b[0m \u001b[32m━━━━━━━━━━━━━━━━━━━━\u001b[0m\u001b[37m\u001b[0m \u001b[1m0s\u001b[0m 1s/step - loss: 0.7489 - mae: 0.6785\n",
      "Epoch 154: saving model to model_checkpoint.keras\n",
      "\u001b[1m58/58\u001b[0m \u001b[32m━━━━━━━━━━━━━━━━━━━━\u001b[0m\u001b[37m\u001b[0m \u001b[1m66s\u001b[0m 1s/step - loss: 0.7493 - mae: 0.6786 - val_loss: 3.2401 - val_mae: 1.2664\n",
      "Epoch 155/300\n",
      "\u001b[1m58/58\u001b[0m \u001b[32m━━━━━━━━━━━━━━━━━━━━\u001b[0m\u001b[37m\u001b[0m \u001b[1m0s\u001b[0m 1s/step - loss: 0.7548 - mae: 0.6717\n",
      "Epoch 155: saving model to model_checkpoint.keras\n",
      "\u001b[1m58/58\u001b[0m \u001b[32m━━━━━━━━━━━━━━━━━━━━\u001b[0m\u001b[37m\u001b[0m \u001b[1m65s\u001b[0m 1s/step - loss: 0.7554 - mae: 0.6721 - val_loss: 2.9197 - val_mae: 1.1473\n",
      "Epoch 156/300\n",
      "\u001b[1m58/58\u001b[0m \u001b[32m━━━━━━━━━━━━━━━━━━━━\u001b[0m\u001b[37m\u001b[0m \u001b[1m0s\u001b[0m 1s/step - loss: 0.7360 - mae: 0.6646\n",
      "Epoch 156: saving model to model_checkpoint.keras\n",
      "\u001b[1m58/58\u001b[0m \u001b[32m━━━━━━━━━━━━━━━━━━━━\u001b[0m\u001b[37m\u001b[0m \u001b[1m66s\u001b[0m 1s/step - loss: 0.7360 - mae: 0.6646 - val_loss: 3.2661 - val_mae: 1.2584\n",
      "Epoch 157/300\n",
      "\u001b[1m58/58\u001b[0m \u001b[32m━━━━━━━━━━━━━━━━━━━━\u001b[0m\u001b[37m\u001b[0m \u001b[1m0s\u001b[0m 1s/step - loss: 0.8585 - mae: 0.6981\n",
      "Epoch 157: saving model to model_checkpoint.keras\n",
      "\u001b[1m58/58\u001b[0m \u001b[32m━━━━━━━━━━━━━━━━━━━━\u001b[0m\u001b[37m\u001b[0m \u001b[1m67s\u001b[0m 1s/step - loss: 0.8580 - mae: 0.6980 - val_loss: 3.0680 - val_mae: 1.1922\n",
      "Epoch 158/300\n",
      "\u001b[1m58/58\u001b[0m \u001b[32m━━━━━━━━━━━━━━━━━━━━\u001b[0m\u001b[37m\u001b[0m \u001b[1m0s\u001b[0m 1s/step - loss: 0.8328 - mae: 0.6892\n",
      "Epoch 158: saving model to model_checkpoint.keras\n",
      "\u001b[1m58/58\u001b[0m \u001b[32m━━━━━━━━━━━━━━━━━━━━\u001b[0m\u001b[37m\u001b[0m \u001b[1m66s\u001b[0m 1s/step - loss: 0.8322 - mae: 0.6891 - val_loss: 3.0843 - val_mae: 1.2170\n",
      "Epoch 159/300\n",
      "\u001b[1m58/58\u001b[0m \u001b[32m━━━━━━━━━━━━━━━━━━━━\u001b[0m\u001b[37m\u001b[0m \u001b[1m0s\u001b[0m 1s/step - loss: 0.7894 - mae: 0.6922\n",
      "Epoch 159: saving model to model_checkpoint.keras\n",
      "\u001b[1m58/58\u001b[0m \u001b[32m━━━━━━━━━━━━━━━━━━━━\u001b[0m\u001b[37m\u001b[0m \u001b[1m66s\u001b[0m 1s/step - loss: 0.7896 - mae: 0.6922 - val_loss: 3.1576 - val_mae: 1.1935\n",
      "Epoch 160/300\n",
      "\u001b[1m58/58\u001b[0m \u001b[32m━━━━━━━━━━━━━━━━━━━━\u001b[0m\u001b[37m\u001b[0m \u001b[1m0s\u001b[0m 1s/step - loss: 0.7605 - mae: 0.6709\n",
      "Epoch 160: saving model to model_checkpoint.keras\n",
      "\u001b[1m58/58\u001b[0m \u001b[32m━━━━━━━━━━━━━━━━━━━━\u001b[0m\u001b[37m\u001b[0m \u001b[1m66s\u001b[0m 1s/step - loss: 0.7620 - mae: 0.6715 - val_loss: 4.2834 - val_mae: 1.3766\n",
      "Epoch 161/300\n",
      "\u001b[1m58/58\u001b[0m \u001b[32m━━━━━━━━━━━━━━━━━━━━\u001b[0m\u001b[37m\u001b[0m \u001b[1m0s\u001b[0m 1s/step - loss: 0.9543 - mae: 0.7337\n",
      "Epoch 161: saving model to model_checkpoint.keras\n",
      "\u001b[1m58/58\u001b[0m \u001b[32m━━━━━━━━━━━━━━━━━━━━\u001b[0m\u001b[37m\u001b[0m \u001b[1m66s\u001b[0m 1s/step - loss: 0.9521 - mae: 0.7331 - val_loss: 3.0841 - val_mae: 1.2047\n",
      "Epoch 162/300\n",
      "\u001b[1m58/58\u001b[0m \u001b[32m━━━━━━━━━━━━━━━━━━━━\u001b[0m\u001b[37m\u001b[0m \u001b[1m0s\u001b[0m 1s/step - loss: 0.7678 - mae: 0.6816\n",
      "Epoch 162: saving model to model_checkpoint.keras\n",
      "\u001b[1m58/58\u001b[0m \u001b[32m━━━━━━━━━━━━━━━━━━━━\u001b[0m\u001b[37m\u001b[0m \u001b[1m65s\u001b[0m 1s/step - loss: 0.7678 - mae: 0.6813 - val_loss: 3.4749 - val_mae: 1.2577\n",
      "Epoch 163/300\n",
      "\u001b[1m58/58\u001b[0m \u001b[32m━━━━━━━━━━━━━━━━━━━━\u001b[0m\u001b[37m\u001b[0m \u001b[1m0s\u001b[0m 1s/step - loss: 0.8262 - mae: 0.6787\n",
      "Epoch 163: saving model to model_checkpoint.keras\n",
      "\u001b[1m58/58\u001b[0m \u001b[32m━━━━━━━━━━━━━━━━━━━━\u001b[0m\u001b[37m\u001b[0m \u001b[1m65s\u001b[0m 1s/step - loss: 0.8247 - mae: 0.6787 - val_loss: 3.0804 - val_mae: 1.2329\n",
      "Epoch 164/300\n",
      "\u001b[1m58/58\u001b[0m \u001b[32m━━━━━━━━━━━━━━━━━━━━\u001b[0m\u001b[37m\u001b[0m \u001b[1m0s\u001b[0m 1s/step - loss: 0.7510 - mae: 0.6656\n",
      "Epoch 164: saving model to model_checkpoint.keras\n",
      "\u001b[1m58/58\u001b[0m \u001b[32m━━━━━━━━━━━━━━━━━━━━\u001b[0m\u001b[37m\u001b[0m \u001b[1m66s\u001b[0m 1s/step - loss: 0.7509 - mae: 0.6656 - val_loss: 3.8839 - val_mae: 1.3266\n",
      "Epoch 165/300\n",
      "\u001b[1m58/58\u001b[0m \u001b[32m━━━━━━━━━━━━━━━━━━━━\u001b[0m\u001b[37m\u001b[0m \u001b[1m0s\u001b[0m 1s/step - loss: 0.8293 - mae: 0.6925\n",
      "Epoch 165: saving model to model_checkpoint.keras\n",
      "\u001b[1m58/58\u001b[0m \u001b[32m━━━━━━━━━━━━━━━━━━━━\u001b[0m\u001b[37m\u001b[0m \u001b[1m66s\u001b[0m 1s/step - loss: 0.8291 - mae: 0.6922 - val_loss: 3.3706 - val_mae: 1.2399\n",
      "Epoch 166/300\n",
      "\u001b[1m58/58\u001b[0m \u001b[32m━━━━━━━━━━━━━━━━━━━━\u001b[0m\u001b[37m\u001b[0m \u001b[1m0s\u001b[0m 1s/step - loss: 0.6959 - mae: 0.6369\n",
      "Epoch 166: saving model to model_checkpoint.keras\n",
      "\u001b[1m58/58\u001b[0m \u001b[32m━━━━━━━━━━━━━━━━━━━━\u001b[0m\u001b[37m\u001b[0m \u001b[1m66s\u001b[0m 1s/step - loss: 0.6962 - mae: 0.6373 - val_loss: 3.1173 - val_mae: 1.2048\n",
      "Epoch 167/300\n",
      "\u001b[1m58/58\u001b[0m \u001b[32m━━━━━━━━━━━━━━━━━━━━\u001b[0m\u001b[37m\u001b[0m \u001b[1m0s\u001b[0m 1s/step - loss: 0.7070 - mae: 0.6611\n",
      "Epoch 167: saving model to model_checkpoint.keras\n",
      "\u001b[1m58/58\u001b[0m \u001b[32m━━━━━━━━━━━━━━━━━━━━\u001b[0m\u001b[37m\u001b[0m \u001b[1m66s\u001b[0m 1s/step - loss: 0.7063 - mae: 0.6608 - val_loss: 3.2722 - val_mae: 1.2153\n",
      "Epoch 168/300\n",
      "\u001b[1m58/58\u001b[0m \u001b[32m━━━━━━━━━━━━━━━━━━━━\u001b[0m\u001b[37m\u001b[0m \u001b[1m0s\u001b[0m 1s/step - loss: 0.7999 - mae: 0.6823\n",
      "Epoch 168: saving model to model_checkpoint.keras\n",
      "\u001b[1m58/58\u001b[0m \u001b[32m━━━━━━━━━━━━━━━━━━━━\u001b[0m\u001b[37m\u001b[0m \u001b[1m65s\u001b[0m 1s/step - loss: 0.7986 - mae: 0.6819 - val_loss: 3.2282 - val_mae: 1.2100\n",
      "Epoch 169/300\n",
      "\u001b[1m58/58\u001b[0m \u001b[32m━━━━━━━━━━━━━━━━━━━━\u001b[0m\u001b[37m\u001b[0m \u001b[1m0s\u001b[0m 1s/step - loss: 0.7235 - mae: 0.6504\n",
      "Epoch 169: saving model to model_checkpoint.keras\n",
      "\u001b[1m58/58\u001b[0m \u001b[32m━━━━━━━━━━━━━━━━━━━━\u001b[0m\u001b[37m\u001b[0m \u001b[1m65s\u001b[0m 1s/step - loss: 0.7240 - mae: 0.6506 - val_loss: 3.9036 - val_mae: 1.3495\n",
      "Epoch 170/300\n",
      "\u001b[1m58/58\u001b[0m \u001b[32m━━━━━━━━━━━━━━━━━━━━\u001b[0m\u001b[37m\u001b[0m \u001b[1m0s\u001b[0m 1s/step - loss: 0.6888 - mae: 0.6427\n",
      "Epoch 170: saving model to model_checkpoint.keras\n",
      "\u001b[1m58/58\u001b[0m \u001b[32m━━━━━━━━━━━━━━━━━━━━\u001b[0m\u001b[37m\u001b[0m \u001b[1m65s\u001b[0m 1s/step - loss: 0.6881 - mae: 0.6424 - val_loss: 3.4652 - val_mae: 1.2461\n",
      "Epoch 171/300\n",
      "\u001b[1m58/58\u001b[0m \u001b[32m━━━━━━━━━━━━━━━━━━━━\u001b[0m\u001b[37m\u001b[0m \u001b[1m0s\u001b[0m 1s/step - loss: 0.7250 - mae: 0.6513\n",
      "Epoch 171: saving model to model_checkpoint.keras\n",
      "\u001b[1m58/58\u001b[0m \u001b[32m━━━━━━━━━━━━━━━━━━━━\u001b[0m\u001b[37m\u001b[0m \u001b[1m66s\u001b[0m 1s/step - loss: 0.7247 - mae: 0.6511 - val_loss: 3.4830 - val_mae: 1.3475\n",
      "Epoch 172/300\n",
      "\u001b[1m58/58\u001b[0m \u001b[32m━━━━━━━━━━━━━━━━━━━━\u001b[0m\u001b[37m\u001b[0m \u001b[1m0s\u001b[0m 1s/step - loss: 0.7920 - mae: 0.6943\n",
      "Epoch 172: saving model to model_checkpoint.keras\n",
      "\u001b[1m58/58\u001b[0m \u001b[32m━━━━━━━━━━━━━━━━━━━━\u001b[0m\u001b[37m\u001b[0m \u001b[1m66s\u001b[0m 1s/step - loss: 0.7914 - mae: 0.6938 - val_loss: 3.2078 - val_mae: 1.2277\n",
      "Epoch 173/300\n",
      "\u001b[1m58/58\u001b[0m \u001b[32m━━━━━━━━━━━━━━━━━━━━\u001b[0m\u001b[37m\u001b[0m \u001b[1m0s\u001b[0m 1s/step - loss: 0.6918 - mae: 0.6484\n",
      "Epoch 173: saving model to model_checkpoint.keras\n",
      "\u001b[1m58/58\u001b[0m \u001b[32m━━━━━━━━━━━━━━━━━━━━\u001b[0m\u001b[37m\u001b[0m \u001b[1m65s\u001b[0m 1s/step - loss: 0.6914 - mae: 0.6482 - val_loss: 3.1933 - val_mae: 1.2220\n",
      "Epoch 174/300\n",
      "\u001b[1m58/58\u001b[0m \u001b[32m━━━━━━━━━━━━━━━━━━━━\u001b[0m\u001b[37m\u001b[0m \u001b[1m0s\u001b[0m 1s/step - loss: 0.8013 - mae: 0.6887\n",
      "Epoch 174: saving model to model_checkpoint.keras\n",
      "\u001b[1m58/58\u001b[0m \u001b[32m━━━━━━━━━━━━━━━━━━━━\u001b[0m\u001b[37m\u001b[0m \u001b[1m66s\u001b[0m 1s/step - loss: 0.8002 - mae: 0.6883 - val_loss: 3.3729 - val_mae: 1.2135\n",
      "Epoch 175/300\n",
      "\u001b[1m58/58\u001b[0m \u001b[32m━━━━━━━━━━━━━━━━━━━━\u001b[0m\u001b[37m\u001b[0m \u001b[1m0s\u001b[0m 1s/step - loss: 0.7256 - mae: 0.6430\n",
      "Epoch 175: saving model to model_checkpoint.keras\n",
      "\u001b[1m58/58\u001b[0m \u001b[32m━━━━━━━━━━━━━━━━━━━━\u001b[0m\u001b[37m\u001b[0m \u001b[1m66s\u001b[0m 1s/step - loss: 0.7261 - mae: 0.6434 - val_loss: 3.4612 - val_mae: 1.2041\n",
      "Epoch 176/300\n",
      "\u001b[1m58/58\u001b[0m \u001b[32m━━━━━━━━━━━━━━━━━━━━\u001b[0m\u001b[37m\u001b[0m \u001b[1m0s\u001b[0m 1s/step - loss: 0.6494 - mae: 0.6246\n",
      "Epoch 176: saving model to model_checkpoint.keras\n",
      "\u001b[1m58/58\u001b[0m \u001b[32m━━━━━━━━━━━━━━━━━━━━\u001b[0m\u001b[37m\u001b[0m \u001b[1m66s\u001b[0m 1s/step - loss: 0.6501 - mae: 0.6249 - val_loss: 3.5379 - val_mae: 1.2615\n",
      "Epoch 177/300\n",
      "\u001b[1m58/58\u001b[0m \u001b[32m━━━━━━━━━━━━━━━━━━━━\u001b[0m\u001b[37m\u001b[0m \u001b[1m0s\u001b[0m 1s/step - loss: 0.6674 - mae: 0.6291\n",
      "Epoch 177: saving model to model_checkpoint.keras\n",
      "\u001b[1m58/58\u001b[0m \u001b[32m━━━━━━━━━━━━━━━━━━━━\u001b[0m\u001b[37m\u001b[0m \u001b[1m66s\u001b[0m 1s/step - loss: 0.6673 - mae: 0.6290 - val_loss: 3.1599 - val_mae: 1.2166\n",
      "Epoch 178/300\n",
      "\u001b[1m58/58\u001b[0m \u001b[32m━━━━━━━━━━━━━━━━━━━━\u001b[0m\u001b[37m\u001b[0m \u001b[1m0s\u001b[0m 1s/step - loss: 0.6388 - mae: 0.6153\n",
      "Epoch 178: saving model to model_checkpoint.keras\n",
      "\u001b[1m58/58\u001b[0m \u001b[32m━━━━━━━━━━━━━━━━━━━━\u001b[0m\u001b[37m\u001b[0m \u001b[1m65s\u001b[0m 1s/step - loss: 0.6394 - mae: 0.6157 - val_loss: 3.3647 - val_mae: 1.2008\n",
      "Epoch 179/300\n",
      "\u001b[1m58/58\u001b[0m \u001b[32m━━━━━━━━━━━━━━━━━━━━\u001b[0m\u001b[37m\u001b[0m \u001b[1m0s\u001b[0m 1s/step - loss: 0.7024 - mae: 0.6430\n",
      "Epoch 179: saving model to model_checkpoint.keras\n",
      "\u001b[1m58/58\u001b[0m \u001b[32m━━━━━━━━━━━━━━━━━━━━\u001b[0m\u001b[37m\u001b[0m \u001b[1m65s\u001b[0m 1s/step - loss: 0.7029 - mae: 0.6434 - val_loss: 3.1366 - val_mae: 1.1963\n",
      "Epoch 180/300\n",
      "\u001b[1m58/58\u001b[0m \u001b[32m━━━━━━━━━━━━━━━━━━━━\u001b[0m\u001b[37m\u001b[0m \u001b[1m0s\u001b[0m 1s/step - loss: 0.7143 - mae: 0.6473\n",
      "Epoch 180: saving model to model_checkpoint.keras\n",
      "\u001b[1m58/58\u001b[0m \u001b[32m━━━━━━━━━━━━━━━━━━━━\u001b[0m\u001b[37m\u001b[0m \u001b[1m66s\u001b[0m 1s/step - loss: 0.7145 - mae: 0.6474 - val_loss: 3.2084 - val_mae: 1.2007\n",
      "Epoch 181/300\n",
      "\u001b[1m58/58\u001b[0m \u001b[32m━━━━━━━━━━━━━━━━━━━━\u001b[0m\u001b[37m\u001b[0m \u001b[1m0s\u001b[0m 1s/step - loss: 0.7328 - mae: 0.6588\n",
      "Epoch 181: saving model to model_checkpoint.keras\n",
      "\u001b[1m58/58\u001b[0m \u001b[32m━━━━━━━━━━━━━━━━━━━━\u001b[0m\u001b[37m\u001b[0m \u001b[1m66s\u001b[0m 1s/step - loss: 0.7327 - mae: 0.6587 - val_loss: 3.3936 - val_mae: 1.2468\n",
      "Epoch 182/300\n",
      "\u001b[1m58/58\u001b[0m \u001b[32m━━━━━━━━━━━━━━━━━━━━\u001b[0m\u001b[37m\u001b[0m \u001b[1m0s\u001b[0m 1s/step - loss: 0.8255 - mae: 0.6861\n",
      "Epoch 182: saving model to model_checkpoint.keras\n",
      "\u001b[1m58/58\u001b[0m \u001b[32m━━━━━━━━━━━━━━━━━━━━\u001b[0m\u001b[37m\u001b[0m \u001b[1m67s\u001b[0m 1s/step - loss: 0.8269 - mae: 0.6867 - val_loss: 3.5079 - val_mae: 1.3469\n",
      "Epoch 183/300\n",
      "\u001b[1m58/58\u001b[0m \u001b[32m━━━━━━━━━━━━━━━━━━━━\u001b[0m\u001b[37m\u001b[0m \u001b[1m0s\u001b[0m 1s/step - loss: 0.9850 - mae: 0.7454\n",
      "Epoch 183: saving model to model_checkpoint.keras\n",
      "\u001b[1m58/58\u001b[0m \u001b[32m━━━━━━━━━━━━━━━━━━━━\u001b[0m\u001b[37m\u001b[0m \u001b[1m65s\u001b[0m 1s/step - loss: 0.9829 - mae: 0.7446 - val_loss: 3.1781 - val_mae: 1.1851\n",
      "Epoch 184/300\n",
      "\u001b[1m58/58\u001b[0m \u001b[32m━━━━━━━━━━━━━━━━━━━━\u001b[0m\u001b[37m\u001b[0m \u001b[1m0s\u001b[0m 1s/step - loss: 0.6862 - mae: 0.6319\n",
      "Epoch 184: saving model to model_checkpoint.keras\n",
      "\u001b[1m58/58\u001b[0m \u001b[32m━━━━━━━━━━━━━━━━━━━━\u001b[0m\u001b[37m\u001b[0m \u001b[1m66s\u001b[0m 1s/step - loss: 0.6868 - mae: 0.6325 - val_loss: 3.5026 - val_mae: 1.2447\n",
      "Epoch 185/300\n",
      "\u001b[1m58/58\u001b[0m \u001b[32m━━━━━━━━━━━━━━━━━━━━\u001b[0m\u001b[37m\u001b[0m \u001b[1m0s\u001b[0m 1s/step - loss: 0.8430 - mae: 0.7047\n",
      "Epoch 185: saving model to model_checkpoint.keras\n",
      "\u001b[1m58/58\u001b[0m \u001b[32m━━━━━━━━━━━━━━━━━━━━\u001b[0m\u001b[37m\u001b[0m \u001b[1m66s\u001b[0m 1s/step - loss: 0.8432 - mae: 0.7046 - val_loss: 3.2202 - val_mae: 1.2298\n",
      "Epoch 186/300\n",
      "\u001b[1m58/58\u001b[0m \u001b[32m━━━━━━━━━━━━━━━━━━━━\u001b[0m\u001b[37m\u001b[0m \u001b[1m0s\u001b[0m 1s/step - loss: 0.6701 - mae: 0.6383\n",
      "Epoch 186: saving model to model_checkpoint.keras\n",
      "\u001b[1m58/58\u001b[0m \u001b[32m━━━━━━━━━━━━━━━━━━━━\u001b[0m\u001b[37m\u001b[0m \u001b[1m65s\u001b[0m 1s/step - loss: 0.6711 - mae: 0.6389 - val_loss: 3.2116 - val_mae: 1.2300\n",
      "Epoch 187/300\n",
      "\u001b[1m58/58\u001b[0m \u001b[32m━━━━━━━━━━━━━━━━━━━━\u001b[0m\u001b[37m\u001b[0m \u001b[1m0s\u001b[0m 1s/step - loss: 0.7128 - mae: 0.6424\n",
      "Epoch 187: saving model to model_checkpoint.keras\n",
      "\u001b[1m58/58\u001b[0m \u001b[32m━━━━━━━━━━━━━━━━━━━━\u001b[0m\u001b[37m\u001b[0m \u001b[1m65s\u001b[0m 1s/step - loss: 0.7138 - mae: 0.6428 - val_loss: 3.4248 - val_mae: 1.2166\n",
      "Epoch 188/300\n",
      "\u001b[1m58/58\u001b[0m \u001b[32m━━━━━━━━━━━━━━━━━━━━\u001b[0m\u001b[37m\u001b[0m \u001b[1m0s\u001b[0m 1s/step - loss: 0.7888 - mae: 0.6721\n",
      "Epoch 188: saving model to model_checkpoint.keras\n",
      "\u001b[1m58/58\u001b[0m \u001b[32m━━━━━━━━━━━━━━━━━━━━\u001b[0m\u001b[37m\u001b[0m \u001b[1m66s\u001b[0m 1s/step - loss: 0.7899 - mae: 0.6727 - val_loss: 3.2117 - val_mae: 1.2662\n",
      "Epoch 189/300\n",
      "\u001b[1m58/58\u001b[0m \u001b[32m━━━━━━━━━━━━━━━━━━━━\u001b[0m\u001b[37m\u001b[0m \u001b[1m0s\u001b[0m 1s/step - loss: 0.7132 - mae: 0.6522\n",
      "Epoch 189: saving model to model_checkpoint.keras\n",
      "\u001b[1m58/58\u001b[0m \u001b[32m━━━━━━━━━━━━━━━━━━━━\u001b[0m\u001b[37m\u001b[0m \u001b[1m66s\u001b[0m 1s/step - loss: 0.7130 - mae: 0.6522 - val_loss: 3.4895 - val_mae: 1.2478\n",
      "Epoch 190/300\n",
      "\u001b[1m58/58\u001b[0m \u001b[32m━━━━━━━━━━━━━━━━━━━━\u001b[0m\u001b[37m\u001b[0m \u001b[1m0s\u001b[0m 1s/step - loss: 0.6618 - mae: 0.6277\n",
      "Epoch 190: saving model to model_checkpoint.keras\n",
      "\u001b[1m58/58\u001b[0m \u001b[32m━━━━━━━━━━━━━━━━━━━━\u001b[0m\u001b[37m\u001b[0m \u001b[1m66s\u001b[0m 1s/step - loss: 0.6618 - mae: 0.6279 - val_loss: 3.0283 - val_mae: 1.1701\n",
      "Epoch 191/300\n",
      "\u001b[1m58/58\u001b[0m \u001b[32m━━━━━━━━━━━━━━━━━━━━\u001b[0m\u001b[37m\u001b[0m \u001b[1m0s\u001b[0m 1s/step - loss: 0.6878 - mae: 0.6441\n",
      "Epoch 191: saving model to model_checkpoint.keras\n",
      "\u001b[1m58/58\u001b[0m \u001b[32m━━━━━━━━━━━━━━━━━━━━\u001b[0m\u001b[37m\u001b[0m \u001b[1m66s\u001b[0m 1s/step - loss: 0.6874 - mae: 0.6439 - val_loss: 3.4657 - val_mae: 1.2541\n",
      "Epoch 192/300\n",
      "\u001b[1m58/58\u001b[0m \u001b[32m━━━━━━━━━━━━━━━━━━━━\u001b[0m\u001b[37m\u001b[0m \u001b[1m0s\u001b[0m 1s/step - loss: 0.7879 - mae: 0.6739\n",
      "Epoch 192: saving model to model_checkpoint.keras\n",
      "\u001b[1m58/58\u001b[0m \u001b[32m━━━━━━━━━━━━━━━━━━━━\u001b[0m\u001b[37m\u001b[0m \u001b[1m66s\u001b[0m 1s/step - loss: 0.7873 - mae: 0.6736 - val_loss: 3.3690 - val_mae: 1.2532\n",
      "Epoch 193/300\n",
      "\u001b[1m58/58\u001b[0m \u001b[32m━━━━━━━━━━━━━━━━━━━━\u001b[0m\u001b[37m\u001b[0m \u001b[1m0s\u001b[0m 1s/step - loss: 0.7029 - mae: 0.6552\n",
      "Epoch 193: saving model to model_checkpoint.keras\n",
      "\u001b[1m58/58\u001b[0m \u001b[32m━━━━━━━━━━━━━━━━━━━━\u001b[0m\u001b[37m\u001b[0m \u001b[1m65s\u001b[0m 1s/step - loss: 0.7025 - mae: 0.6550 - val_loss: 3.2524 - val_mae: 1.2015\n",
      "Epoch 194/300\n",
      "\u001b[1m58/58\u001b[0m \u001b[32m━━━━━━━━━━━━━━━━━━━━\u001b[0m\u001b[37m\u001b[0m \u001b[1m0s\u001b[0m 1s/step - loss: 0.6402 - mae: 0.6158\n",
      "Epoch 194: saving model to model_checkpoint.keras\n",
      "\u001b[1m58/58\u001b[0m \u001b[32m━━━━━━━━━━━━━━━━━━━━\u001b[0m\u001b[37m\u001b[0m \u001b[1m65s\u001b[0m 1s/step - loss: 0.6417 - mae: 0.6166 - val_loss: 3.3504 - val_mae: 1.3101\n",
      "Epoch 195/300\n",
      "\u001b[1m58/58\u001b[0m \u001b[32m━━━━━━━━━━━━━━━━━━━━\u001b[0m\u001b[37m\u001b[0m \u001b[1m0s\u001b[0m 1s/step - loss: 0.7214 - mae: 0.6413\n",
      "Epoch 195: saving model to model_checkpoint.keras\n",
      "\u001b[1m58/58\u001b[0m \u001b[32m━━━━━━━━━━━━━━━━━━━━\u001b[0m\u001b[37m\u001b[0m \u001b[1m65s\u001b[0m 1s/step - loss: 0.7218 - mae: 0.6415 - val_loss: 3.4846 - val_mae: 1.2293\n",
      "Epoch 196/300\n",
      "\u001b[1m58/58\u001b[0m \u001b[32m━━━━━━━━━━━━━━━━━━━━\u001b[0m\u001b[37m\u001b[0m \u001b[1m0s\u001b[0m 1s/step - loss: 0.7483 - mae: 0.6694\n",
      "Epoch 196: saving model to model_checkpoint.keras\n",
      "\u001b[1m58/58\u001b[0m \u001b[32m━━━━━━━━━━━━━━━━━━━━\u001b[0m\u001b[37m\u001b[0m \u001b[1m65s\u001b[0m 1s/step - loss: 0.7483 - mae: 0.6695 - val_loss: 3.2085 - val_mae: 1.2450\n",
      "Epoch 197/300\n",
      "\u001b[1m58/58\u001b[0m \u001b[32m━━━━━━━━━━━━━━━━━━━━\u001b[0m\u001b[37m\u001b[0m \u001b[1m0s\u001b[0m 1s/step - loss: 0.8270 - mae: 0.6942\n",
      "Epoch 197: saving model to model_checkpoint.keras\n",
      "\u001b[1m58/58\u001b[0m \u001b[32m━━━━━━━━━━━━━━━━━━━━\u001b[0m\u001b[37m\u001b[0m \u001b[1m65s\u001b[0m 1s/step - loss: 0.8251 - mae: 0.6935 - val_loss: 3.1580 - val_mae: 1.2203\n",
      "Epoch 198/300\n",
      "\u001b[1m58/58\u001b[0m \u001b[32m━━━━━━━━━━━━━━━━━━━━\u001b[0m\u001b[37m\u001b[0m \u001b[1m0s\u001b[0m 1s/step - loss: 0.6947 - mae: 0.6420\n",
      "Epoch 198: saving model to model_checkpoint.keras\n",
      "\u001b[1m58/58\u001b[0m \u001b[32m━━━━━━━━━━━━━━━━━━━━\u001b[0m\u001b[37m\u001b[0m \u001b[1m65s\u001b[0m 1s/step - loss: 0.6952 - mae: 0.6422 - val_loss: 3.4758 - val_mae: 1.2672\n",
      "Epoch 199/300\n",
      "\u001b[1m58/58\u001b[0m \u001b[32m━━━━━━━━━━━━━━━━━━━━\u001b[0m\u001b[37m\u001b[0m \u001b[1m0s\u001b[0m 1s/step - loss: 0.7309 - mae: 0.6546\n",
      "Epoch 199: saving model to model_checkpoint.keras\n",
      "\u001b[1m58/58\u001b[0m \u001b[32m━━━━━━━━━━━━━━━━━━━━\u001b[0m\u001b[37m\u001b[0m \u001b[1m66s\u001b[0m 1s/step - loss: 0.7314 - mae: 0.6549 - val_loss: 3.1228 - val_mae: 1.2059\n",
      "Epoch 200/300\n",
      "\u001b[1m58/58\u001b[0m \u001b[32m━━━━━━━━━━━━━━━━━━━━\u001b[0m\u001b[37m\u001b[0m \u001b[1m0s\u001b[0m 1s/step - loss: 0.7736 - mae: 0.6808\n",
      "Epoch 200: saving model to model_checkpoint.keras\n",
      "\u001b[1m58/58\u001b[0m \u001b[32m━━━━━━━━━━━━━━━━━━━━\u001b[0m\u001b[37m\u001b[0m \u001b[1m65s\u001b[0m 1s/step - loss: 0.7744 - mae: 0.6810 - val_loss: 3.1558 - val_mae: 1.2602\n",
      "Epoch 201/300\n",
      "\u001b[1m58/58\u001b[0m \u001b[32m━━━━━━━━━━━━━━━━━━━━\u001b[0m\u001b[37m\u001b[0m \u001b[1m0s\u001b[0m 1s/step - loss: 0.7238 - mae: 0.6408\n",
      "Epoch 201: saving model to model_checkpoint.keras\n",
      "\u001b[1m58/58\u001b[0m \u001b[32m━━━━━━━━━━━━━━━━━━━━\u001b[0m\u001b[37m\u001b[0m \u001b[1m66s\u001b[0m 1s/step - loss: 0.7244 - mae: 0.6411 - val_loss: 3.1126 - val_mae: 1.1792\n",
      "Epoch 202/300\n",
      "\u001b[1m58/58\u001b[0m \u001b[32m━━━━━━━━━━━━━━━━━━━━\u001b[0m\u001b[37m\u001b[0m \u001b[1m0s\u001b[0m 1s/step - loss: 0.7600 - mae: 0.6572\n",
      "Epoch 202: saving model to model_checkpoint.keras\n",
      "\u001b[1m58/58\u001b[0m \u001b[32m━━━━━━━━━━━━━━━━━━━━\u001b[0m\u001b[37m\u001b[0m \u001b[1m66s\u001b[0m 1s/step - loss: 0.7610 - mae: 0.6576 - val_loss: 3.2181 - val_mae: 1.2184\n",
      "Epoch 203/300\n",
      "\u001b[1m58/58\u001b[0m \u001b[32m━━━━━━━━━━━━━━━━━━━━\u001b[0m\u001b[37m\u001b[0m \u001b[1m0s\u001b[0m 1s/step - loss: 0.7009 - mae: 0.6378\n",
      "Epoch 203: saving model to model_checkpoint.keras\n",
      "\u001b[1m58/58\u001b[0m \u001b[32m━━━━━━━━━━━━━━━━━━━━\u001b[0m\u001b[37m\u001b[0m \u001b[1m65s\u001b[0m 1s/step - loss: 0.7028 - mae: 0.6385 - val_loss: 3.2025 - val_mae: 1.2137\n",
      "Epoch 204/300\n",
      "\u001b[1m58/58\u001b[0m \u001b[32m━━━━━━━━━━━━━━━━━━━━\u001b[0m\u001b[37m\u001b[0m \u001b[1m0s\u001b[0m 1s/step - loss: 0.6911 - mae: 0.6347\n",
      "Epoch 204: saving model to model_checkpoint.keras\n",
      "\u001b[1m58/58\u001b[0m \u001b[32m━━━━━━━━━━━━━━━━━━━━\u001b[0m\u001b[37m\u001b[0m \u001b[1m66s\u001b[0m 1s/step - loss: 0.6909 - mae: 0.6347 - val_loss: 3.2807 - val_mae: 1.2364\n",
      "Epoch 205/300\n",
      "\u001b[1m58/58\u001b[0m \u001b[32m━━━━━━━━━━━━━━━━━━━━\u001b[0m\u001b[37m\u001b[0m \u001b[1m0s\u001b[0m 1s/step - loss: 0.6981 - mae: 0.6413\n",
      "Epoch 205: saving model to model_checkpoint.keras\n",
      "\u001b[1m58/58\u001b[0m \u001b[32m━━━━━━━━━━━━━━━━━━━━\u001b[0m\u001b[37m\u001b[0m \u001b[1m66s\u001b[0m 1s/step - loss: 0.6973 - mae: 0.6409 - val_loss: 3.4199 - val_mae: 1.1966\n",
      "Epoch 206/300\n",
      "\u001b[1m58/58\u001b[0m \u001b[32m━━━━━━━━━━━━━━━━━━━━\u001b[0m\u001b[37m\u001b[0m \u001b[1m0s\u001b[0m 1s/step - loss: 0.6369 - mae: 0.6233\n",
      "Epoch 206: saving model to model_checkpoint.keras\n",
      "\u001b[1m58/58\u001b[0m \u001b[32m━━━━━━━━━━━━━━━━━━━━\u001b[0m\u001b[37m\u001b[0m \u001b[1m66s\u001b[0m 1s/step - loss: 0.6371 - mae: 0.6234 - val_loss: 3.3866 - val_mae: 1.2630\n",
      "Epoch 207/300\n",
      "\u001b[1m58/58\u001b[0m \u001b[32m━━━━━━━━━━━━━━━━━━━━\u001b[0m\u001b[37m\u001b[0m \u001b[1m0s\u001b[0m 1s/step - loss: 0.7487 - mae: 0.6606\n",
      "Epoch 207: saving model to model_checkpoint.keras\n",
      "\u001b[1m58/58\u001b[0m \u001b[32m━━━━━━━━━━━━━━━━━━━━\u001b[0m\u001b[37m\u001b[0m \u001b[1m65s\u001b[0m 1s/step - loss: 0.7487 - mae: 0.6607 - val_loss: 3.3986 - val_mae: 1.2945\n",
      "Epoch 208/300\n",
      "\u001b[1m58/58\u001b[0m \u001b[32m━━━━━━━━━━━━━━━━━━━━\u001b[0m\u001b[37m\u001b[0m \u001b[1m0s\u001b[0m 1s/step - loss: 0.7418 - mae: 0.6553\n",
      "Epoch 208: saving model to model_checkpoint.keras\n",
      "\u001b[1m58/58\u001b[0m \u001b[32m━━━━━━━━━━━━━━━━━━━━\u001b[0m\u001b[37m\u001b[0m \u001b[1m66s\u001b[0m 1s/step - loss: 0.7407 - mae: 0.6549 - val_loss: 3.3114 - val_mae: 1.2297\n"
     ]
    }
   ],
   "source": [
    "\n",
    "\n",
    "\n",
    "# Continue training for an additional 300 epochs\n",
    "history_additional = model_loaded.fit(\n",
    "    X_train_final,\n",
    "    y_train,\n",
    "    validation_data=(X_test_final, y_test),\n",
    "    epochs=300,  # Train for 300 more epochs\n",
    "    batch_size=32,\n",
    "    callbacks=callbacks,\n",
    "    verbose=1\n",
    ")\n"
   ]
  }
 ],
 "metadata": {
  "kaggle": {
   "accelerator": "nvidiaTeslaT4",
   "dataSources": [
    {
     "datasetId": 6637708,
     "sourceId": 10709822,
     "sourceType": "datasetVersion"
    },
    {
     "isSourceIdPinned": true,
     "modelId": 242327,
     "modelInstanceId": 220548,
     "sourceId": 258062,
     "sourceType": "modelInstanceVersion"
    }
   ],
   "dockerImageVersionId": 30887,
   "isGpuEnabled": true,
   "isInternetEnabled": true,
   "language": "python",
   "sourceType": "notebook"
  },
  "kernelspec": {
   "display_name": "Python 3",
   "language": "python",
   "name": "python3"
  },
  "language_info": {
   "codemirror_mode": {
    "name": "ipython",
    "version": 3
   },
   "file_extension": ".py",
   "mimetype": "text/x-python",
   "name": "python",
   "nbconvert_exporter": "python",
   "pygments_lexer": "ipython3",
   "version": "3.10.12"
  },
  "papermill": {
   "default_parameters": {},
   "duration": 13673.403874,
   "end_time": "2025-02-15T15:32:14.730748",
   "environment_variables": {},
   "exception": null,
   "input_path": "__notebook__.ipynb",
   "output_path": "__notebook__.ipynb",
   "parameters": {},
   "start_time": "2025-02-15T11:44:21.326874",
   "version": "2.6.0"
  }
 },
 "nbformat": 4,
 "nbformat_minor": 5
}
