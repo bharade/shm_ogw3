{
 "cells": [
  {
   "cell_type": "code",
   "execution_count": 1,
   "id": "fc8943a9",
   "metadata": {
    "_cell_guid": "b1076dfc-b9ad-4769-8c92-a6c4dae69d19",
    "_uuid": "8f2839f25d086af736a60e9eeb907d3b93b6e0e5",
    "execution": {
     "iopub.execute_input": "2025-02-13T02:45:25.946780Z",
     "iopub.status.busy": "2025-02-13T02:45:25.946353Z",
     "iopub.status.idle": "2025-02-13T02:45:27.308841Z",
     "shell.execute_reply": "2025-02-13T02:45:27.307757Z"
    },
    "papermill": {
     "duration": 1.371496,
     "end_time": "2025-02-13T02:45:27.310426",
     "exception": false,
     "start_time": "2025-02-13T02:45:25.938930",
     "status": "completed"
    },
    "tags": []
   },
   "outputs": [
    {
     "name": "stdout",
     "output_type": "stream",
     "text": [
      "/kaggle/input/ogw3-augmented/X_damage_augmented.npy\n",
      "/kaggle/input/ogw3-augmented/X_freq_augmented.npy\n",
      "/kaggle/input/ogw3-augmented/X_signals_augmented.npy\n",
      "/kaggle/input/trained_500/keras/default/1/model_checkpoint_2.keras\n"
     ]
    }
   ],
   "source": [
    "# This Python 3 environment comes with many helpful analytics libraries installed\n",
    "# It is defined by the kaggle/python Docker image: https://github.com/kaggle/docker-python\n",
    "# For example, here's several helpful packages to load\n",
    "\n",
    "import numpy as np # linear algebra\n",
    "import pandas as pd # data processing, CSV file I/O (e.g. pd.read_csv)\n",
    "\n",
    "# Input data files are available in the read-only \"../input/\" directory\n",
    "# For example, running this (by clicking run or pressing Shift+Enter) will list all files under the input directory\n",
    "\n",
    "import os\n",
    "for dirname, _, filenames in os.walk('/kaggle/input'):\n",
    "    for filename in filenames:\n",
    "        print(os.path.join(dirname, filename))\n",
    "\n",
    "# You can write up to 20GB to the current directory (/kaggle/working/) that gets preserved as output when you create a version using \"Save & Run All\" \n",
    "# You can also write temporary files to /kaggle/temp/, but they won't be saved outside of the current session"
   ]
  },
  {
   "cell_type": "markdown",
   "id": "8d9e875d",
   "metadata": {
    "papermill": {
     "duration": 0.005689,
     "end_time": "2025-02-13T02:45:27.322595",
     "exception": false,
     "start_time": "2025-02-13T02:45:27.316906",
     "status": "completed"
    },
    "tags": []
   },
   "source": [
    "# 1.5) loading augmented data"
   ]
  },
  {
   "cell_type": "code",
   "execution_count": 2,
   "id": "654d74d3",
   "metadata": {
    "execution": {
     "iopub.execute_input": "2025-02-13T02:45:27.335460Z",
     "iopub.status.busy": "2025-02-13T02:45:27.335098Z",
     "iopub.status.idle": "2025-02-13T02:45:27.340677Z",
     "shell.execute_reply": "2025-02-13T02:45:27.339804Z"
    },
    "papermill": {
     "duration": 0.013595,
     "end_time": "2025-02-13T02:45:27.342096",
     "exception": false,
     "start_time": "2025-02-13T02:45:27.328501",
     "status": "completed"
    },
    "tags": []
   },
   "outputs": [
    {
     "data": {
      "text/plain": [
       "'/kaggle/working'"
      ]
     },
     "execution_count": 2,
     "metadata": {},
     "output_type": "execute_result"
    }
   ],
   "source": [
    "%pwd\n"
   ]
  },
  {
   "cell_type": "code",
   "execution_count": 3,
   "id": "17c6fc2f",
   "metadata": {
    "execution": {
     "iopub.execute_input": "2025-02-13T02:45:27.354665Z",
     "iopub.status.busy": "2025-02-13T02:45:27.354333Z",
     "iopub.status.idle": "2025-02-13T02:45:27.357953Z",
     "shell.execute_reply": "2025-02-13T02:45:27.356988Z"
    },
    "papermill": {
     "duration": 0.0114,
     "end_time": "2025-02-13T02:45:27.359344",
     "exception": false,
     "start_time": "2025-02-13T02:45:27.347944",
     "status": "completed"
    },
    "tags": []
   },
   "outputs": [],
   "source": [
    "import os"
   ]
  },
  {
   "cell_type": "code",
   "execution_count": 4,
   "id": "fbbcbca8",
   "metadata": {
    "execution": {
     "iopub.execute_input": "2025-02-13T02:45:27.372658Z",
     "iopub.status.busy": "2025-02-13T02:45:27.372314Z",
     "iopub.status.idle": "2025-02-13T02:45:27.376127Z",
     "shell.execute_reply": "2025-02-13T02:45:27.375240Z"
    },
    "papermill": {
     "duration": 0.011968,
     "end_time": "2025-02-13T02:45:27.377608",
     "exception": false,
     "start_time": "2025-02-13T02:45:27.365640",
     "status": "completed"
    },
    "tags": []
   },
   "outputs": [],
   "source": [
    "os.chdir(\"..\")\n",
    "os.chdir(\"input\")"
   ]
  },
  {
   "cell_type": "code",
   "execution_count": 5,
   "id": "ef2f69b3",
   "metadata": {
    "execution": {
     "iopub.execute_input": "2025-02-13T02:45:27.390472Z",
     "iopub.status.busy": "2025-02-13T02:45:27.390236Z",
     "iopub.status.idle": "2025-02-13T02:45:28.276226Z",
     "shell.execute_reply": "2025-02-13T02:45:28.275507Z"
    },
    "papermill": {
     "duration": 0.893899,
     "end_time": "2025-02-13T02:45:28.277720",
     "exception": false,
     "start_time": "2025-02-13T02:45:27.383821",
     "status": "completed"
    },
    "tags": []
   },
   "outputs": [],
   "source": [
    "X_signals_augmented = np.load('ogw3-augmented/X_signals_augmented.npy')\n",
    "X_damage_augmented = np.load('ogw3-augmented/X_damage_augmented.npy')\n",
    "X_freq_augmented = np.load('ogw3-augmented/X_freq_augmented.npy')\n"
   ]
  },
  {
   "cell_type": "code",
   "execution_count": 6,
   "id": "3ad91ffe",
   "metadata": {
    "execution": {
     "iopub.execute_input": "2025-02-13T02:45:28.291024Z",
     "iopub.status.busy": "2025-02-13T02:45:28.290749Z",
     "iopub.status.idle": "2025-02-13T02:45:28.295169Z",
     "shell.execute_reply": "2025-02-13T02:45:28.294396Z"
    },
    "papermill": {
     "duration": 0.01269,
     "end_time": "2025-02-13T02:45:28.296597",
     "exception": false,
     "start_time": "2025-02-13T02:45:28.283907",
     "status": "completed"
    },
    "tags": []
   },
   "outputs": [
    {
     "name": "stdout",
     "output_type": "stream",
     "text": [
      "X_signals shape:(2040, 4369, 1)\n",
      "X_signals shape:(2040, 14)\n",
      "X_signals shape:(2040, 12)\n"
     ]
    }
   ],
   "source": [
    "print(f\"X_signals shape:{X_signals_augmented.shape}\")\n",
    "print(f\"X_signals shape:{X_damage_augmented.shape}\")\n",
    "print(f\"X_signals shape:{X_freq_augmented.shape}\")"
   ]
  },
  {
   "cell_type": "code",
   "execution_count": 7,
   "id": "9d030f4c",
   "metadata": {
    "execution": {
     "iopub.execute_input": "2025-02-13T02:45:28.309219Z",
     "iopub.status.busy": "2025-02-13T02:45:28.308980Z",
     "iopub.status.idle": "2025-02-13T02:45:28.428491Z",
     "shell.execute_reply": "2025-02-13T02:45:28.427289Z"
    },
    "papermill": {
     "duration": 0.127188,
     "end_time": "2025-02-13T02:45:28.429965",
     "exception": false,
     "start_time": "2025-02-13T02:45:28.302777",
     "status": "completed"
    },
    "tags": []
   },
   "outputs": [
    {
     "name": "stdout",
     "output_type": "stream",
     "text": [
      "Summary for X_signals_augmented:\n",
      "Mean: [[-0.00808563]\n",
      " [-0.03676917]\n",
      " [ 0.00793156]\n",
      " ...\n",
      " [ 0.43494834]\n",
      " [ 0.47826858]\n",
      " [ 0.47794448]]\n",
      "Variance: [[0.04756828]\n",
      " [0.05728288]\n",
      " [0.05182533]\n",
      " ...\n",
      " [0.11266843]\n",
      " [0.11778735]\n",
      " [0.1192308 ]]\n",
      "Min: [[-1.]\n",
      " [-1.]\n",
      " [-1.]\n",
      " ...\n",
      " [-1.]\n",
      " [-1.]\n",
      " [-1.]]\n",
      "Max: [[1.]\n",
      " [1.]\n",
      " [1.]\n",
      " ...\n",
      " [1.]\n",
      " [1.]\n",
      " [1.]]\n",
      "--------------------------------------------------\n",
      "Summary for X_freq_augmented:\n",
      "Mean: [0.08333333 0.08333333 0.08333333 0.08333333 0.08333333 0.08333333\n",
      " 0.08333333 0.08333333 0.08333333 0.08333333 0.08333333 0.08333333]\n",
      "Variance: [0.07638889 0.07638889 0.07638889 0.07638889 0.07638889 0.07638889\n",
      " 0.07638889 0.07638889 0.07638889 0.07638889 0.07638889 0.07638889]\n",
      "Min: [0. 0. 0. 0. 0. 0. 0. 0. 0. 0. 0. 0.]\n",
      "Max: [1. 1. 1. 1. 1. 1. 1. 1. 1. 1. 1. 1.]\n",
      "--------------------------------------------------\n"
     ]
    }
   ],
   "source": [
    "import numpy as np\n",
    "\n",
    "def summarize_data(X, name):\n",
    "    print(f\"Summary for {name}:\")\n",
    "    print(\"Mean:\", np.mean(X, axis=0))\n",
    "    print(\"Variance:\", np.var(X, axis=0))\n",
    "    print(\"Min:\", np.min(X, axis=0))\n",
    "    print(\"Max:\", np.max(X, axis=0))\n",
    "    print(\"-\" * 50)\n",
    "\n",
    "summarize_data(X_signals_augmented, \"X_signals_augmented\")\n",
    "summarize_data(X_freq_augmented, \"X_freq_augmented\")\n"
   ]
  },
  {
   "cell_type": "code",
   "execution_count": 8,
   "id": "76511a47",
   "metadata": {
    "execution": {
     "iopub.execute_input": "2025-02-13T02:45:28.443469Z",
     "iopub.status.busy": "2025-02-13T02:45:28.443182Z",
     "iopub.status.idle": "2025-02-13T02:45:28.468706Z",
     "shell.execute_reply": "2025-02-13T02:45:28.467835Z"
    },
    "papermill": {
     "duration": 0.033829,
     "end_time": "2025-02-13T02:45:28.470125",
     "exception": false,
     "start_time": "2025-02-13T02:45:28.436296",
     "status": "completed"
    },
    "tags": []
   },
   "outputs": [
    {
     "name": "stdout",
     "output_type": "stream",
     "text": [
      "Damage Condition Counts:\n",
      " 0.0    26520\n",
      "1.0     2040\n",
      "Name: count, dtype: int64\n"
     ]
    }
   ],
   "source": [
    "import pandas as pd\n",
    "\n",
    "damage_counts = pd.Series(X_damage_augmented.flatten()).value_counts()\n",
    "print(\"Damage Condition Counts:\\n\", damage_counts)\n"
   ]
  },
  {
   "cell_type": "markdown",
   "id": "f19df1d5",
   "metadata": {
    "papermill": {
     "duration": 0.005586,
     "end_time": "2025-02-13T02:45:28.481763",
     "exception": false,
     "start_time": "2025-02-13T02:45:28.476177",
     "status": "completed"
    },
    "tags": []
   },
   "source": [
    "# 2. Execution and model Training\n",
    "This is where the actual execution starts"
   ]
  },
  {
   "cell_type": "code",
   "execution_count": 9,
   "id": "30937d0e",
   "metadata": {
    "execution": {
     "iopub.execute_input": "2025-02-13T02:45:28.494510Z",
     "iopub.status.busy": "2025-02-13T02:45:28.494268Z",
     "iopub.status.idle": "2025-02-13T02:45:28.497708Z",
     "shell.execute_reply": "2025-02-13T02:45:28.496884Z"
    },
    "papermill": {
     "duration": 0.011256,
     "end_time": "2025-02-13T02:45:28.499030",
     "exception": false,
     "start_time": "2025-02-13T02:45:28.487774",
     "status": "completed"
    },
    "tags": []
   },
   "outputs": [],
   "source": [
    "import numpy as np\n",
    "import pandas as pd\n",
    "import pickle\n",
    "import matplotlib.pyplot as plt\n",
    "import os"
   ]
  },
  {
   "cell_type": "code",
   "execution_count": 10,
   "id": "0ed10bcb",
   "metadata": {
    "execution": {
     "iopub.execute_input": "2025-02-13T02:45:28.511647Z",
     "iopub.status.busy": "2025-02-13T02:45:28.511374Z",
     "iopub.status.idle": "2025-02-13T02:45:30.791243Z",
     "shell.execute_reply": "2025-02-13T02:45:30.790478Z"
    },
    "papermill": {
     "duration": 2.287915,
     "end_time": "2025-02-13T02:45:30.792932",
     "exception": false,
     "start_time": "2025-02-13T02:45:28.505017",
     "status": "completed"
    },
    "tags": []
   },
   "outputs": [],
   "source": [
    "import numpy as np\n",
    "from sklearn.model_selection import train_test_split\n",
    "\n",
    "# ----------------------------------------------------------------------\n",
    "# Step 1: Convert one-hot encoded damage labels to scalar values.\n",
    "# ----------------------------------------------------------------------\n",
    "# Each sample in X_damage_augmented is a one-hot vector. We convert it to the\n",
    "# corresponding class index (i.e., 0 for undamaged, 1-13 for damage levels).\n",
    "y_augmented = np.argmax(X_damage_augmented, axis=1).astype(np.float32)\n",
    "# y_augmented now has shape (num_samples,)"
   ]
  },
  {
   "cell_type": "code",
   "execution_count": 11,
   "id": "13119891",
   "metadata": {
    "execution": {
     "iopub.execute_input": "2025-02-13T02:45:30.806877Z",
     "iopub.status.busy": "2025-02-13T02:45:30.806444Z",
     "iopub.status.idle": "2025-02-13T02:45:30.811309Z",
     "shell.execute_reply": "2025-02-13T02:45:30.810591Z"
    },
    "papermill": {
     "duration": 0.012892,
     "end_time": "2025-02-13T02:45:30.812573",
     "exception": false,
     "start_time": "2025-02-13T02:45:30.799681",
     "status": "completed"
    },
    "tags": []
   },
   "outputs": [
    {
     "data": {
      "text/plain": [
       "0.0"
      ]
     },
     "execution_count": 11,
     "metadata": {},
     "output_type": "execute_result"
    }
   ],
   "source": [
    "y_augmented.min()"
   ]
  },
  {
   "cell_type": "code",
   "execution_count": 12,
   "id": "5de0273c",
   "metadata": {
    "execution": {
     "iopub.execute_input": "2025-02-13T02:45:30.825433Z",
     "iopub.status.busy": "2025-02-13T02:45:30.825205Z",
     "iopub.status.idle": "2025-02-13T02:45:30.828339Z",
     "shell.execute_reply": "2025-02-13T02:45:30.827669Z"
    },
    "papermill": {
     "duration": 0.011096,
     "end_time": "2025-02-13T02:45:30.829676",
     "exception": false,
     "start_time": "2025-02-13T02:45:30.818580",
     "status": "completed"
    },
    "tags": []
   },
   "outputs": [],
   "source": [
    "# ----------------------------------------------------------------------\n",
    "# Step 2: Define the features.\n",
    "# ----------------------------------------------------------------------\n",
    "# For this regression task, we use the guided wave signals as the features.\n",
    "# (If you wish to include frequency information as additional features, you might\n",
    "# concatenate or process X_freq_augmented separately; here we assume only the signal is used.)\n",
    "X_augmented = X_signals_augmented  # shape: (num_samples, 4369, 1)"
   ]
  },
  {
   "cell_type": "code",
   "execution_count": 13,
   "id": "fb70e47b",
   "metadata": {
    "execution": {
     "iopub.execute_input": "2025-02-13T02:45:30.842592Z",
     "iopub.status.busy": "2025-02-13T02:45:30.842335Z",
     "iopub.status.idle": "2025-02-13T02:45:30.873614Z",
     "shell.execute_reply": "2025-02-13T02:45:30.872888Z"
    },
    "papermill": {
     "duration": 0.039396,
     "end_time": "2025-02-13T02:45:30.875163",
     "exception": false,
     "start_time": "2025-02-13T02:45:30.835767",
     "status": "completed"
    },
    "tags": []
   },
   "outputs": [],
   "source": [
    "# ----------------------------------------------------------------------\n",
    "# Step 3: Split the data into training and test sets.\n",
    "# ----------------------------------------------------------------------\n",
    "# Here we use 80% of the data for training and 20% for testing.\n",
    "X_train, X_test, y_train, y_test = train_test_split(\n",
    "    X_augmented, y_augmented, test_size=0.1, random_state=42\n",
    ")\n"
   ]
  },
  {
   "cell_type": "code",
   "execution_count": 14,
   "id": "25eceaa6",
   "metadata": {
    "execution": {
     "iopub.execute_input": "2025-02-13T02:45:30.888491Z",
     "iopub.status.busy": "2025-02-13T02:45:30.888243Z",
     "iopub.status.idle": "2025-02-13T02:45:30.893257Z",
     "shell.execute_reply": "2025-02-13T02:45:30.892595Z"
    },
    "papermill": {
     "duration": 0.012894,
     "end_time": "2025-02-13T02:45:30.894437",
     "exception": false,
     "start_time": "2025-02-13T02:45:30.881543",
     "status": "completed"
    },
    "tags": []
   },
   "outputs": [
    {
     "name": "stdout",
     "output_type": "stream",
     "text": [
      "Training data shape: (1836, 4369, 1)\n",
      "Training labels shape: (1836,)\n",
      "Test data shape: (204, 4369, 1)\n",
      "Test labels shape: (204,)\n"
     ]
    }
   ],
   "source": [
    "# ----------------------------------------------------------------------\n",
    "# Step 4: Verify the shapes of the datasets.\n",
    "# ----------------------------------------------------------------------\n",
    "print(f\"Training data shape: {X_train.shape}\")  # Expected: (num_train_samples, 4369, 1)\n",
    "print(f\"Training labels shape: {y_train.shape}\")  # Expected: (num_train_samples,)\n",
    "print(f\"Test data shape: {X_test.shape}\")         # Expected: (num_test_samples, 4369, 1)\n",
    "print(f\"Test labels shape: {y_test.shape}\")         # Expected: (num_test_samples,)\n"
   ]
  },
  {
   "cell_type": "code",
   "execution_count": 15,
   "id": "f303d73c",
   "metadata": {
    "execution": {
     "iopub.execute_input": "2025-02-13T02:45:30.908249Z",
     "iopub.status.busy": "2025-02-13T02:45:30.907964Z",
     "iopub.status.idle": "2025-02-13T02:45:30.912315Z",
     "shell.execute_reply": "2025-02-13T02:45:30.911637Z"
    },
    "papermill": {
     "duration": 0.012781,
     "end_time": "2025-02-13T02:45:30.913741",
     "exception": false,
     "start_time": "2025-02-13T02:45:30.900960",
     "status": "completed"
    },
    "tags": []
   },
   "outputs": [],
   "source": [
    "def print_label_distribution(y, set_name):\n",
    "    \"\"\"Print the distribution of labels in a dataset.\"\"\"\n",
    "    print(f\"\\n{set_name} label distribution:\")\n",
    "    print(f\"- Baseline samples (0): {np.sum(y == 0)}\")\n",
    "    for damage_size in range(1, 14):\n",
    "        print(f\"- Damage size {damage_size}: {np.sum(y == damage_size)}\")"
   ]
  },
  {
   "cell_type": "code",
   "execution_count": 16,
   "id": "adb0a513",
   "metadata": {
    "execution": {
     "iopub.execute_input": "2025-02-13T02:45:30.927156Z",
     "iopub.status.busy": "2025-02-13T02:45:30.926902Z",
     "iopub.status.idle": "2025-02-13T02:45:30.934899Z",
     "shell.execute_reply": "2025-02-13T02:45:30.933935Z"
    },
    "papermill": {
     "duration": 0.016126,
     "end_time": "2025-02-13T02:45:30.936361",
     "exception": false,
     "start_time": "2025-02-13T02:45:30.920235",
     "status": "completed"
    },
    "tags": []
   },
   "outputs": [
    {
     "name": "stdout",
     "output_type": "stream",
     "text": [
      "\n",
      "Training set label distribution:\n",
      "- Baseline samples (0): 433\n",
      "- Damage size 1: 107\n",
      "- Damage size 2: 107\n",
      "- Damage size 3: 105\n",
      "- Damage size 4: 106\n",
      "- Damage size 5: 105\n",
      "- Damage size 6: 107\n",
      "- Damage size 7: 115\n",
      "- Damage size 8: 109\n",
      "- Damage size 9: 107\n",
      "- Damage size 10: 111\n",
      "- Damage size 11: 109\n",
      "- Damage size 12: 111\n",
      "- Damage size 13: 104\n",
      "\n",
      "Test set label distribution:\n",
      "- Baseline samples (0): 47\n",
      "- Damage size 1: 13\n",
      "- Damage size 2: 13\n",
      "- Damage size 3: 15\n",
      "- Damage size 4: 14\n",
      "- Damage size 5: 15\n",
      "- Damage size 6: 13\n",
      "- Damage size 7: 5\n",
      "- Damage size 8: 11\n",
      "- Damage size 9: 13\n",
      "- Damage size 10: 9\n",
      "- Damage size 11: 11\n",
      "- Damage size 12: 9\n",
      "- Damage size 13: 16\n"
     ]
    }
   ],
   "source": [
    "# Print label distribution for training and test sets\n",
    "print_label_distribution(y_train, \"Training set\")\n",
    "print_label_distribution(y_test, \"Test set\")"
   ]
  },
  {
   "cell_type": "code",
   "execution_count": 17,
   "id": "51572a56",
   "metadata": {
    "execution": {
     "iopub.execute_input": "2025-02-13T02:45:30.950001Z",
     "iopub.status.busy": "2025-02-13T02:45:30.949725Z",
     "iopub.status.idle": "2025-02-13T02:45:30.971330Z",
     "shell.execute_reply": "2025-02-13T02:45:30.970605Z"
    },
    "papermill": {
     "duration": 0.030163,
     "end_time": "2025-02-13T02:45:30.972975",
     "exception": false,
     "start_time": "2025-02-13T02:45:30.942812",
     "status": "completed"
    },
    "tags": []
   },
   "outputs": [],
   "source": [
    "# Convert input data to float32\n",
    "X_train = X_train.astype('float32')\n",
    "X_test = X_test.astype('float32')"
   ]
  },
  {
   "cell_type": "code",
   "execution_count": 18,
   "id": "f3e4154a",
   "metadata": {
    "execution": {
     "iopub.execute_input": "2025-02-13T02:45:30.986669Z",
     "iopub.status.busy": "2025-02-13T02:45:30.986385Z",
     "iopub.status.idle": "2025-02-13T02:45:30.990002Z",
     "shell.execute_reply": "2025-02-13T02:45:30.988951Z"
    },
    "papermill": {
     "duration": 0.01206,
     "end_time": "2025-02-13T02:45:30.991742",
     "exception": false,
     "start_time": "2025-02-13T02:45:30.979682",
     "status": "completed"
    },
    "tags": []
   },
   "outputs": [],
   "source": [
    "y_train = y_train.astype('int32')\n",
    "y_test = y_test.astype('int32')"
   ]
  },
  {
   "cell_type": "code",
   "execution_count": 19,
   "id": "57f5e7ed",
   "metadata": {
    "execution": {
     "iopub.execute_input": "2025-02-13T02:45:31.005718Z",
     "iopub.status.busy": "2025-02-13T02:45:31.005420Z",
     "iopub.status.idle": "2025-02-13T02:45:31.023403Z",
     "shell.execute_reply": "2025-02-13T02:45:31.022593Z"
    },
    "papermill": {
     "duration": 0.026167,
     "end_time": "2025-02-13T02:45:31.024626",
     "exception": false,
     "start_time": "2025-02-13T02:45:30.998459",
     "status": "completed"
    },
    "tags": []
   },
   "outputs": [
    {
     "name": "stdout",
     "output_type": "stream",
     "text": [
      "Min values after scaling: [-1.040155  -0.9812768 -1.        ... -1.        -0.9722817 -0.9399686]\n",
      "Max values after scaling: [1.0318567  0.94322634 1.         ... 1.         0.9312466  1.0010613 ]\n"
     ]
    }
   ],
   "source": [
    "print(\"Min values after scaling:\", np.min(X_train, axis=(1,2)))\n",
    "print(\"Max values after scaling:\", np.max(X_train, axis=(1,2)))"
   ]
  },
  {
   "cell_type": "code",
   "execution_count": 20,
   "id": "a70f13ef",
   "metadata": {
    "execution": {
     "iopub.execute_input": "2025-02-13T02:45:31.037991Z",
     "iopub.status.busy": "2025-02-13T02:45:31.037752Z",
     "iopub.status.idle": "2025-02-13T02:45:31.041922Z",
     "shell.execute_reply": "2025-02-13T02:45:31.041064Z"
    },
    "papermill": {
     "duration": 0.012343,
     "end_time": "2025-02-13T02:45:31.043202",
     "exception": false,
     "start_time": "2025-02-13T02:45:31.030859",
     "status": "completed"
    },
    "tags": []
   },
   "outputs": [
    {
     "name": "stdout",
     "output_type": "stream",
     "text": [
      "X_train dtype: float32\n",
      "y_train dtype: int32\n"
     ]
    }
   ],
   "source": [
    "print(\"X_train dtype:\", X_train.dtype)  # Should print float32\n",
    "print(\"y_train dtype:\", y_train.dtype)  # Should print float32"
   ]
  },
  {
   "cell_type": "markdown",
   "id": "b313ebd9",
   "metadata": {
    "papermill": {
     "duration": 0.006072,
     "end_time": "2025-02-13T02:45:31.055398",
     "exception": false,
     "start_time": "2025-02-13T02:45:31.049326",
     "status": "completed"
    },
    "tags": []
   },
   "source": [
    "# 3. Model Architecture"
   ]
  },
  {
   "cell_type": "code",
   "execution_count": 21,
   "id": "47a6ad56",
   "metadata": {
    "execution": {
     "iopub.execute_input": "2025-02-13T02:45:31.069249Z",
     "iopub.status.busy": "2025-02-13T02:45:31.068987Z",
     "iopub.status.idle": "2025-02-13T02:45:49.080583Z",
     "shell.execute_reply": "2025-02-13T02:45:49.079765Z"
    },
    "papermill": {
     "duration": 18.02033,
     "end_time": "2025-02-13T02:45:49.082167",
     "exception": false,
     "start_time": "2025-02-13T02:45:31.061837",
     "status": "completed"
    },
    "tags": []
   },
   "outputs": [],
   "source": [
    "import tensorflow as tf\n",
    "from tensorflow import keras\n",
    "from tensorflow.keras import layers, models\n",
    "from tensorflow.keras.models import load_model"
   ]
  },
  {
   "cell_type": "code",
   "execution_count": 22,
   "id": "269f0fd9",
   "metadata": {
    "execution": {
     "iopub.execute_input": "2025-02-13T02:45:49.096767Z",
     "iopub.status.busy": "2025-02-13T02:45:49.096195Z",
     "iopub.status.idle": "2025-02-13T02:45:49.100007Z",
     "shell.execute_reply": "2025-02-13T02:45:49.099301Z"
    },
    "papermill": {
     "duration": 0.01234,
     "end_time": "2025-02-13T02:45:49.101264",
     "exception": false,
     "start_time": "2025-02-13T02:45:49.088924",
     "status": "completed"
    },
    "tags": []
   },
   "outputs": [],
   "source": [
    "tf.keras.backend.set_floatx('float32')"
   ]
  },
  {
   "cell_type": "code",
   "execution_count": 23,
   "id": "27caac9c",
   "metadata": {
    "execution": {
     "iopub.execute_input": "2025-02-13T02:45:49.115160Z",
     "iopub.status.busy": "2025-02-13T02:45:49.114902Z",
     "iopub.status.idle": "2025-02-13T02:45:50.834397Z",
     "shell.execute_reply": "2025-02-13T02:45:50.833467Z"
    },
    "papermill": {
     "duration": 1.727926,
     "end_time": "2025-02-13T02:45:50.835814",
     "exception": false,
     "start_time": "2025-02-13T02:45:49.107888",
     "status": "completed"
    },
    "tags": []
   },
   "outputs": [],
   "source": [
    "# Multi-GPU setup\n",
    "strategy = tf.distribute.MirroredStrategy()"
   ]
  },
  {
   "cell_type": "code",
   "execution_count": 24,
   "id": "7a1c7be1",
   "metadata": {
    "execution": {
     "iopub.execute_input": "2025-02-13T02:45:50.849248Z",
     "iopub.status.busy": "2025-02-13T02:45:50.848997Z",
     "iopub.status.idle": "2025-02-13T02:45:50.853400Z",
     "shell.execute_reply": "2025-02-13T02:45:50.852764Z"
    },
    "papermill": {
     "duration": 0.012313,
     "end_time": "2025-02-13T02:45:50.854647",
     "exception": false,
     "start_time": "2025-02-13T02:45:50.842334",
     "status": "completed"
    },
    "tags": []
   },
   "outputs": [
    {
     "data": {
      "text/plain": [
       "'/kaggle/input'"
      ]
     },
     "execution_count": 24,
     "metadata": {},
     "output_type": "execute_result"
    }
   ],
   "source": [
    "%pwd"
   ]
  },
  {
   "cell_type": "code",
   "execution_count": 25,
   "id": "2ff9622b",
   "metadata": {
    "execution": {
     "iopub.execute_input": "2025-02-13T02:45:50.867772Z",
     "iopub.status.busy": "2025-02-13T02:45:50.867509Z",
     "iopub.status.idle": "2025-02-13T02:45:50.881484Z",
     "shell.execute_reply": "2025-02-13T02:45:50.880804Z"
    },
    "papermill": {
     "duration": 0.02223,
     "end_time": "2025-02-13T02:45:50.882983",
     "exception": false,
     "start_time": "2025-02-13T02:45:50.860753",
     "status": "completed"
    },
    "tags": []
   },
   "outputs": [],
   "source": [
    "# Assume X_train has the shape (num_samples, 4369, 1)\n",
    "num_samples, original_length, channels = X_train.shape\n",
    "\n",
    "# Calculate padding length so that the length becomes divisible by 5.\n",
    "pad_len = 1\n",
    "\n",
    "# Pad along the sequence axis (axis=1) with -np.inf so that the max operation is not affected.\n",
    "X_train_padded = np.pad(\n",
    "    X_train,\n",
    "    pad_width=((0, 0), (0, pad_len), (0, 0)),\n",
    "    mode='constant',\n",
    "    constant_values=-np.inf\n",
    ")\n",
    "\n",
    "# Now X_train_padded has the shape (num_samples, 4370, 1).\n"
   ]
  },
  {
   "cell_type": "code",
   "execution_count": 26,
   "id": "b34b6076",
   "metadata": {
    "execution": {
     "iopub.execute_input": "2025-02-13T02:45:50.896699Z",
     "iopub.status.busy": "2025-02-13T02:45:50.896429Z",
     "iopub.status.idle": "2025-02-13T02:45:50.900838Z",
     "shell.execute_reply": "2025-02-13T02:45:50.900193Z"
    },
    "papermill": {
     "duration": 0.012367,
     "end_time": "2025-02-13T02:45:50.902058",
     "exception": false,
     "start_time": "2025-02-13T02:45:50.889691",
     "status": "completed"
    },
    "tags": []
   },
   "outputs": [
    {
     "data": {
      "text/plain": [
       "(1836, 4370, 1)"
      ]
     },
     "execution_count": 26,
     "metadata": {},
     "output_type": "execute_result"
    }
   ],
   "source": [
    "X_train_padded.shape"
   ]
  },
  {
   "cell_type": "code",
   "execution_count": 27,
   "id": "5d64f036",
   "metadata": {
    "execution": {
     "iopub.execute_input": "2025-02-13T02:45:50.915799Z",
     "iopub.status.busy": "2025-02-13T02:45:50.915515Z",
     "iopub.status.idle": "2025-02-13T02:45:51.112106Z",
     "shell.execute_reply": "2025-02-13T02:45:51.111271Z"
    },
    "papermill": {
     "duration": 0.205148,
     "end_time": "2025-02-13T02:45:51.113635",
     "exception": false,
     "start_time": "2025-02-13T02:45:50.908487",
     "status": "completed"
    },
    "tags": []
   },
   "outputs": [
    {
     "name": "stdout",
     "output_type": "stream",
     "text": [
      "Shape after max-pooling and reshaping: (1836, 874)\n"
     ]
    }
   ],
   "source": [
    "\n",
    "# Reshape to group every 5 consecutive elements:\n",
    "# New shape will be (num_samples, 874, 5, 1)\n",
    "grouped_length = X_train_padded.shape[1] // 5  # Should be 874\n",
    "X_train_grouped = X_train_padded.reshape(num_samples, grouped_length, 5, channels)\n",
    "\n",
    "# Take the max over the 5 elements for each group (axis=2)\n",
    "# Resulting shape is (num_samples, 874, 1)\n",
    "X_train_max = np.max(X_train_grouped, axis=2)\n",
    "\n",
    "# Optionally, if your model expects inputs of shape (num_samples, 874),\n",
    "# reshape the array from (num_samples, 874, 1) to (num_samples, 874)\n",
    "X_train_final = X_train_max.reshape(num_samples, grouped_length)\n",
    "\n",
    "# Check the resulting shape\n",
    "print(\"Shape after max-pooling and reshaping:\", X_train_final.shape)\n"
   ]
  },
  {
   "cell_type": "code",
   "execution_count": 28,
   "id": "1d3f66f2",
   "metadata": {
    "execution": {
     "iopub.execute_input": "2025-02-13T02:45:51.127560Z",
     "iopub.status.busy": "2025-02-13T02:45:51.127299Z",
     "iopub.status.idle": "2025-02-13T02:45:51.158021Z",
     "shell.execute_reply": "2025-02-13T02:45:51.157172Z"
    },
    "papermill": {
     "duration": 0.038929,
     "end_time": "2025-02-13T02:45:51.159340",
     "exception": false,
     "start_time": "2025-02-13T02:45:51.120411",
     "status": "completed"
    },
    "tags": []
   },
   "outputs": [
    {
     "name": "stdout",
     "output_type": "stream",
     "text": [
      "Shape after max-pooling and reshaping: (204, 874)\n"
     ]
    }
   ],
   "source": [
    "# Assume X_train has the shape (num_samples, 4369, 1)\n",
    "num_samples, original_length, channels = X_test.shape\n",
    "\n",
    "# Calculate padding length so that the length becomes divisible by 5.\n",
    "pad_len = 1\n",
    "\n",
    "# Pad along the sequence axis (axis=1) with -np.inf so that the max operation is not affected.\n",
    "X_test_padded = np.pad(\n",
    "    X_test,\n",
    "    pad_width=((0, 0), (0, pad_len), (0, 0)),\n",
    "    mode='constant',\n",
    "    constant_values=-np.inf\n",
    ")\n",
    "\n",
    "# Now X_train_padded has the shape (num_samples, 4370, 1).\n",
    "\n",
    "# Reshape to group every 5 consecutive elements:\n",
    "# New shape will be (num_samples, 874, 5, 1)\n",
    "grouped_length = X_test_padded.shape[1] // 5  # Should be 874\n",
    "X_test_grouped = X_test_padded.reshape(num_samples, grouped_length, 5, channels)\n",
    "\n",
    "# Take the max over the 5 elements for each group (axis=2)\n",
    "# Resulting shape is (num_samples, 874, 1)\n",
    "X_test_max = np.max(X_test_grouped, axis=2)\n",
    "\n",
    "# Optionally, if your model expects inputs of shape (num_samples, 874),\n",
    "# reshape the array from (num_samples, 874, 1) to (num_samples, 874)\n",
    "X_test_final = X_test_max.reshape(num_samples, grouped_length)\n",
    "\n",
    "# Check the resulting shape\n",
    "print(\"Shape after max-pooling and reshaping:\", X_test_final.shape)\n"
   ]
  },
  {
   "cell_type": "code",
   "execution_count": 29,
   "id": "a6bf5aea",
   "metadata": {
    "execution": {
     "iopub.execute_input": "2025-02-13T02:45:51.173398Z",
     "iopub.status.busy": "2025-02-13T02:45:51.173171Z",
     "iopub.status.idle": "2025-02-13T02:45:51.181170Z",
     "shell.execute_reply": "2025-02-13T02:45:51.180584Z"
    },
    "papermill": {
     "duration": 0.016242,
     "end_time": "2025-02-13T02:45:51.182403",
     "exception": false,
     "start_time": "2025-02-13T02:45:51.166161",
     "status": "completed"
    },
    "tags": []
   },
   "outputs": [],
   "source": [
    "from tensorflow.keras.callbacks import ModelCheckpoint\n",
    "\n",
    "# Define the checkpoint callback to save every epoch\n",
    "checkpoint_callback = ModelCheckpoint(\n",
    "    filepath='model_checkpoint.keras',  # Save file with epoch number and .keras extension\n",
    "    save_weights_only=False,  # Save the full model\n",
    "    save_freq='epoch',  # Save at the end of each epoch\n",
    "    verbose=1  # To print a message when the model is saved\n",
    ")\n",
    "\n",
    "# Modify the callbacks list to include the checkpoint callback \n",
    "callbacks = [\n",
    "    keras.callbacks.EarlyStopping(patience=100, restore_best_weights=True),\n",
    "    checkpoint_callback\n",
    "]\n"
   ]
  },
  {
   "cell_type": "code",
   "execution_count": 30,
   "id": "1dbb57cd",
   "metadata": {
    "execution": {
     "iopub.execute_input": "2025-02-13T02:45:51.196401Z",
     "iopub.status.busy": "2025-02-13T02:45:51.196183Z",
     "iopub.status.idle": "2025-02-13T02:45:51.200663Z",
     "shell.execute_reply": "2025-02-13T02:45:51.199799Z"
    },
    "papermill": {
     "duration": 0.012912,
     "end_time": "2025-02-13T02:45:51.202020",
     "exception": false,
     "start_time": "2025-02-13T02:45:51.189108",
     "status": "completed"
    },
    "tags": []
   },
   "outputs": [
    {
     "data": {
      "text/plain": [
       "'/kaggle/input'"
      ]
     },
     "execution_count": 30,
     "metadata": {},
     "output_type": "execute_result"
    }
   ],
   "source": [
    "%pwd"
   ]
  },
  {
   "cell_type": "code",
   "execution_count": 31,
   "id": "623868ec",
   "metadata": {
    "execution": {
     "iopub.execute_input": "2025-02-13T02:45:51.215474Z",
     "iopub.status.busy": "2025-02-13T02:45:51.215250Z",
     "iopub.status.idle": "2025-02-13T02:45:54.476317Z",
     "shell.execute_reply": "2025-02-13T02:45:54.475593Z"
    },
    "papermill": {
     "duration": 3.269716,
     "end_time": "2025-02-13T02:45:54.478030",
     "exception": false,
     "start_time": "2025-02-13T02:45:51.208314",
     "status": "completed"
    },
    "tags": []
   },
   "outputs": [],
   "source": [
    "\n",
    "# Load the model within the strategy scope\n",
    "with strategy.scope():\n",
    "    model_loaded = load_model('trained_500/keras/default/1/model_checkpoint_2.keras')"
   ]
  },
  {
   "cell_type": "code",
   "execution_count": 32,
   "id": "3f1280c0",
   "metadata": {
    "execution": {
     "iopub.execute_input": "2025-02-13T02:45:54.494171Z",
     "iopub.status.busy": "2025-02-13T02:45:54.493905Z",
     "iopub.status.idle": "2025-02-13T02:45:54.497396Z",
     "shell.execute_reply": "2025-02-13T02:45:54.496715Z"
    },
    "papermill": {
     "duration": 0.012854,
     "end_time": "2025-02-13T02:45:54.498585",
     "exception": false,
     "start_time": "2025-02-13T02:45:54.485731",
     "status": "completed"
    },
    "tags": []
   },
   "outputs": [],
   "source": [
    "os.chdir(\"..\")\n",
    "os.chdir(\"working\")"
   ]
  },
  {
   "cell_type": "code",
   "execution_count": 33,
   "id": "a4950ef3",
   "metadata": {
    "execution": {
     "iopub.execute_input": "2025-02-13T02:45:54.513228Z",
     "iopub.status.busy": "2025-02-13T02:45:54.512957Z",
     "iopub.status.idle": "2025-02-13T02:45:54.517709Z",
     "shell.execute_reply": "2025-02-13T02:45:54.517031Z"
    },
    "papermill": {
     "duration": 0.013586,
     "end_time": "2025-02-13T02:45:54.519020",
     "exception": false,
     "start_time": "2025-02-13T02:45:54.505434",
     "status": "completed"
    },
    "tags": []
   },
   "outputs": [
    {
     "data": {
      "text/plain": [
       "'/kaggle/working'"
      ]
     },
     "execution_count": 33,
     "metadata": {},
     "output_type": "execute_result"
    }
   ],
   "source": [
    "%pwd"
   ]
  },
  {
   "cell_type": "code",
   "execution_count": 34,
   "id": "af44a908",
   "metadata": {
    "execution": {
     "iopub.execute_input": "2025-02-13T02:45:54.533682Z",
     "iopub.status.busy": "2025-02-13T02:45:54.533364Z",
     "iopub.status.idle": "2025-02-13T04:54:42.435541Z",
     "shell.execute_reply": "2025-02-13T04:54:42.434611Z"
    },
    "papermill": {
     "duration": 7727.981923,
     "end_time": "2025-02-13T04:54:42.507888",
     "exception": false,
     "start_time": "2025-02-13T02:45:54.525965",
     "status": "completed"
    },
    "tags": []
   },
   "outputs": [
    {
     "name": "stdout",
     "output_type": "stream",
     "text": [
      "Epoch 1/300\n",
      "\u001b[1m58/58\u001b[0m \u001b[32m━━━━━━━━━━━━━━━━━━━━\u001b[0m\u001b[37m\u001b[0m \u001b[1m0s\u001b[0m 937ms/step - accuracy: 0.9625 - loss: 0.3204\n",
      "Epoch 1: saving model to model_checkpoint.keras\n",
      "\u001b[1m58/58\u001b[0m \u001b[32m━━━━━━━━━━━━━━━━━━━━\u001b[0m\u001b[37m\u001b[0m \u001b[1m77s\u001b[0m 1s/step - accuracy: 0.9626 - loss: 0.3203 - val_accuracy: 0.6667 - val_loss: 1.6006\n",
      "Epoch 2/300\n",
      "\u001b[1m58/58\u001b[0m \u001b[32m━━━━━━━━━━━━━━━━━━━━\u001b[0m\u001b[37m\u001b[0m \u001b[1m0s\u001b[0m 1s/step - accuracy: 0.9567 - loss: 0.3394\n",
      "Epoch 2: saving model to model_checkpoint.keras\n",
      "\u001b[1m58/58\u001b[0m \u001b[32m━━━━━━━━━━━━━━━━━━━━\u001b[0m\u001b[37m\u001b[0m \u001b[1m63s\u001b[0m 1s/step - accuracy: 0.9568 - loss: 0.3392 - val_accuracy: 0.6667 - val_loss: 1.6369\n",
      "Epoch 3/300\n",
      "\u001b[1m58/58\u001b[0m \u001b[32m━━━━━━━━━━━━━━━━━━━━\u001b[0m\u001b[37m\u001b[0m \u001b[1m0s\u001b[0m 1s/step - accuracy: 0.9681 - loss: 0.3017\n",
      "Epoch 3: saving model to model_checkpoint.keras\n",
      "\u001b[1m58/58\u001b[0m \u001b[32m━━━━━━━━━━━━━━━━━━━━\u001b[0m\u001b[37m\u001b[0m \u001b[1m63s\u001b[0m 1s/step - accuracy: 0.9681 - loss: 0.3018 - val_accuracy: 0.6471 - val_loss: 1.6219\n",
      "Epoch 4/300\n",
      "\u001b[1m58/58\u001b[0m \u001b[32m━━━━━━━━━━━━━━━━━━━━\u001b[0m\u001b[37m\u001b[0m \u001b[1m0s\u001b[0m 1s/step - accuracy: 0.9652 - loss: 0.3034\n",
      "Epoch 4: saving model to model_checkpoint.keras\n",
      "\u001b[1m58/58\u001b[0m \u001b[32m━━━━━━━━━━━━━━━━━━━━\u001b[0m\u001b[37m\u001b[0m \u001b[1m63s\u001b[0m 1s/step - accuracy: 0.9651 - loss: 0.3038 - val_accuracy: 0.6667 - val_loss: 1.6247\n",
      "Epoch 5/300\n",
      "\u001b[1m58/58\u001b[0m \u001b[32m━━━━━━━━━━━━━━━━━━━━\u001b[0m\u001b[37m\u001b[0m \u001b[1m0s\u001b[0m 1s/step - accuracy: 0.9580 - loss: 0.3118\n",
      "Epoch 5: saving model to model_checkpoint.keras\n",
      "\u001b[1m58/58\u001b[0m \u001b[32m━━━━━━━━━━━━━━━━━━━━\u001b[0m\u001b[37m\u001b[0m \u001b[1m64s\u001b[0m 1s/step - accuracy: 0.9580 - loss: 0.3121 - val_accuracy: 0.6569 - val_loss: 1.6076\n",
      "Epoch 6/300\n",
      "\u001b[1m58/58\u001b[0m \u001b[32m━━━━━━━━━━━━━━━━━━━━\u001b[0m\u001b[37m\u001b[0m \u001b[1m0s\u001b[0m 1s/step - accuracy: 0.9747 - loss: 0.3169\n",
      "Epoch 6: saving model to model_checkpoint.keras\n",
      "\u001b[1m58/58\u001b[0m \u001b[32m━━━━━━━━━━━━━━━━━━━━\u001b[0m\u001b[37m\u001b[0m \u001b[1m63s\u001b[0m 1s/step - accuracy: 0.9746 - loss: 0.3167 - val_accuracy: 0.6863 - val_loss: 1.5721\n",
      "Epoch 7/300\n",
      "\u001b[1m58/58\u001b[0m \u001b[32m━━━━━━━━━━━━━━━━━━━━\u001b[0m\u001b[37m\u001b[0m \u001b[1m0s\u001b[0m 1s/step - accuracy: 0.9624 - loss: 0.3176\n",
      "Epoch 7: saving model to model_checkpoint.keras\n",
      "\u001b[1m58/58\u001b[0m \u001b[32m━━━━━━━━━━━━━━━━━━━━\u001b[0m\u001b[37m\u001b[0m \u001b[1m63s\u001b[0m 1s/step - accuracy: 0.9624 - loss: 0.3176 - val_accuracy: 0.6667 - val_loss: 1.5727\n",
      "Epoch 8/300\n",
      "\u001b[1m58/58\u001b[0m \u001b[32m━━━━━━━━━━━━━━━━━━━━\u001b[0m\u001b[37m\u001b[0m \u001b[1m0s\u001b[0m 1s/step - accuracy: 0.9555 - loss: 0.3030\n",
      "Epoch 8: saving model to model_checkpoint.keras\n",
      "\u001b[1m58/58\u001b[0m \u001b[32m━━━━━━━━━━━━━━━━━━━━\u001b[0m\u001b[37m\u001b[0m \u001b[1m64s\u001b[0m 1s/step - accuracy: 0.9555 - loss: 0.3031 - val_accuracy: 0.6471 - val_loss: 1.6075\n",
      "Epoch 9/300\n",
      "\u001b[1m58/58\u001b[0m \u001b[32m━━━━━━━━━━━━━━━━━━━━\u001b[0m\u001b[37m\u001b[0m \u001b[1m0s\u001b[0m 1s/step - accuracy: 0.9612 - loss: 0.3088\n",
      "Epoch 9: saving model to model_checkpoint.keras\n",
      "\u001b[1m58/58\u001b[0m \u001b[32m━━━━━━━━━━━━━━━━━━━━\u001b[0m\u001b[37m\u001b[0m \u001b[1m63s\u001b[0m 1s/step - accuracy: 0.9612 - loss: 0.3090 - val_accuracy: 0.6569 - val_loss: 1.5686\n",
      "Epoch 10/300\n",
      "\u001b[1m58/58\u001b[0m \u001b[32m━━━━━━━━━━━━━━━━━━━━\u001b[0m\u001b[37m\u001b[0m \u001b[1m0s\u001b[0m 1s/step - accuracy: 0.9634 - loss: 0.3175\n",
      "Epoch 10: saving model to model_checkpoint.keras\n",
      "\u001b[1m58/58\u001b[0m \u001b[32m━━━━━━━━━━━━━━━━━━━━\u001b[0m\u001b[37m\u001b[0m \u001b[1m63s\u001b[0m 1s/step - accuracy: 0.9634 - loss: 0.3175 - val_accuracy: 0.6569 - val_loss: 1.6271\n",
      "Epoch 11/300\n",
      "\u001b[1m58/58\u001b[0m \u001b[32m━━━━━━━━━━━━━━━━━━━━\u001b[0m\u001b[37m\u001b[0m \u001b[1m0s\u001b[0m 1s/step - accuracy: 0.9612 - loss: 0.2950\n",
      "Epoch 11: saving model to model_checkpoint.keras\n",
      "\u001b[1m58/58\u001b[0m \u001b[32m━━━━━━━━━━━━━━━━━━━━\u001b[0m\u001b[37m\u001b[0m \u001b[1m64s\u001b[0m 1s/step - accuracy: 0.9612 - loss: 0.2953 - val_accuracy: 0.6471 - val_loss: 1.5670\n",
      "Epoch 12/300\n",
      "\u001b[1m58/58\u001b[0m \u001b[32m━━━━━━━━━━━━━━━━━━━━\u001b[0m\u001b[37m\u001b[0m \u001b[1m0s\u001b[0m 1s/step - accuracy: 0.9656 - loss: 0.2969\n",
      "Epoch 12: saving model to model_checkpoint.keras\n",
      "\u001b[1m58/58\u001b[0m \u001b[32m━━━━━━━━━━━━━━━━━━━━\u001b[0m\u001b[37m\u001b[0m \u001b[1m64s\u001b[0m 1s/step - accuracy: 0.9655 - loss: 0.2969 - val_accuracy: 0.6569 - val_loss: 1.5975\n",
      "Epoch 13/300\n",
      "\u001b[1m58/58\u001b[0m \u001b[32m━━━━━━━━━━━━━━━━━━━━\u001b[0m\u001b[37m\u001b[0m \u001b[1m0s\u001b[0m 1s/step - accuracy: 0.9671 - loss: 0.3207\n",
      "Epoch 13: saving model to model_checkpoint.keras\n",
      "\u001b[1m58/58\u001b[0m \u001b[32m━━━━━━━━━━━━━━━━━━━━\u001b[0m\u001b[37m\u001b[0m \u001b[1m64s\u001b[0m 1s/step - accuracy: 0.9669 - loss: 0.3208 - val_accuracy: 0.6765 - val_loss: 1.5680\n",
      "Epoch 14/300\n",
      "\u001b[1m58/58\u001b[0m \u001b[32m━━━━━━━━━━━━━━━━━━━━\u001b[0m\u001b[37m\u001b[0m \u001b[1m0s\u001b[0m 1s/step - accuracy: 0.9617 - loss: 0.3010\n",
      "Epoch 14: saving model to model_checkpoint.keras\n",
      "\u001b[1m58/58\u001b[0m \u001b[32m━━━━━━━━━━━━━━━━━━━━\u001b[0m\u001b[37m\u001b[0m \u001b[1m63s\u001b[0m 1s/step - accuracy: 0.9617 - loss: 0.3010 - val_accuracy: 0.6863 - val_loss: 1.5765\n",
      "Epoch 15/300\n",
      "\u001b[1m58/58\u001b[0m \u001b[32m━━━━━━━━━━━━━━━━━━━━\u001b[0m\u001b[37m\u001b[0m \u001b[1m0s\u001b[0m 1s/step - accuracy: 0.9668 - loss: 0.3005\n",
      "Epoch 15: saving model to model_checkpoint.keras\n",
      "\u001b[1m58/58\u001b[0m \u001b[32m━━━━━━━━━━━━━━━━━━━━\u001b[0m\u001b[37m\u001b[0m \u001b[1m63s\u001b[0m 1s/step - accuracy: 0.9667 - loss: 0.3003 - val_accuracy: 0.6667 - val_loss: 1.5926\n",
      "Epoch 16/300\n",
      "\u001b[1m58/58\u001b[0m \u001b[32m━━━━━━━━━━━━━━━━━━━━\u001b[0m\u001b[37m\u001b[0m \u001b[1m0s\u001b[0m 1s/step - accuracy: 0.9608 - loss: 0.3019\n",
      "Epoch 16: saving model to model_checkpoint.keras\n",
      "\u001b[1m58/58\u001b[0m \u001b[32m━━━━━━━━━━━━━━━━━━━━\u001b[0m\u001b[37m\u001b[0m \u001b[1m63s\u001b[0m 1s/step - accuracy: 0.9607 - loss: 0.3017 - val_accuracy: 0.6569 - val_loss: 1.5574\n",
      "Epoch 17/300\n",
      "\u001b[1m58/58\u001b[0m \u001b[32m━━━━━━━━━━━━━━━━━━━━\u001b[0m\u001b[37m\u001b[0m \u001b[1m0s\u001b[0m 1s/step - accuracy: 0.9700 - loss: 0.2942\n",
      "Epoch 17: saving model to model_checkpoint.keras\n",
      "\u001b[1m58/58\u001b[0m \u001b[32m━━━━━━━━━━━━━━━━━━━━\u001b[0m\u001b[37m\u001b[0m \u001b[1m63s\u001b[0m 1s/step - accuracy: 0.9699 - loss: 0.2945 - val_accuracy: 0.6765 - val_loss: 1.5596\n",
      "Epoch 18/300\n",
      "\u001b[1m58/58\u001b[0m \u001b[32m━━━━━━━━━━━━━━━━━━━━\u001b[0m\u001b[37m\u001b[0m \u001b[1m0s\u001b[0m 1s/step - accuracy: 0.9664 - loss: 0.2960\n",
      "Epoch 18: saving model to model_checkpoint.keras\n",
      "\u001b[1m58/58\u001b[0m \u001b[32m━━━━━━━━━━━━━━━━━━━━\u001b[0m\u001b[37m\u001b[0m \u001b[1m63s\u001b[0m 1s/step - accuracy: 0.9664 - loss: 0.2960 - val_accuracy: 0.6667 - val_loss: 1.5650\n",
      "Epoch 19/300\n",
      "\u001b[1m58/58\u001b[0m \u001b[32m━━━━━━━━━━━━━━━━━━━━\u001b[0m\u001b[37m\u001b[0m \u001b[1m0s\u001b[0m 1s/step - accuracy: 0.9696 - loss: 0.2828\n",
      "Epoch 19: saving model to model_checkpoint.keras\n",
      "\u001b[1m58/58\u001b[0m \u001b[32m━━━━━━━━━━━━━━━━━━━━\u001b[0m\u001b[37m\u001b[0m \u001b[1m64s\u001b[0m 1s/step - accuracy: 0.9694 - loss: 0.2832 - val_accuracy: 0.6471 - val_loss: 1.5930\n",
      "Epoch 20/300\n",
      "\u001b[1m58/58\u001b[0m \u001b[32m━━━━━━━━━━━━━━━━━━━━\u001b[0m\u001b[37m\u001b[0m \u001b[1m0s\u001b[0m 1s/step - accuracy: 0.9646 - loss: 0.3096\n",
      "Epoch 20: saving model to model_checkpoint.keras\n",
      "\u001b[1m58/58\u001b[0m \u001b[32m━━━━━━━━━━━━━━━━━━━━\u001b[0m\u001b[37m\u001b[0m \u001b[1m63s\u001b[0m 1s/step - accuracy: 0.9646 - loss: 0.3094 - val_accuracy: 0.6863 - val_loss: 1.5816\n",
      "Epoch 21/300\n",
      "\u001b[1m58/58\u001b[0m \u001b[32m━━━━━━━━━━━━━━━━━━━━\u001b[0m\u001b[37m\u001b[0m \u001b[1m0s\u001b[0m 1s/step - accuracy: 0.9717 - loss: 0.2828\n",
      "Epoch 21: saving model to model_checkpoint.keras\n",
      "\u001b[1m58/58\u001b[0m \u001b[32m━━━━━━━━━━━━━━━━━━━━\u001b[0m\u001b[37m\u001b[0m \u001b[1m64s\u001b[0m 1s/step - accuracy: 0.9716 - loss: 0.2827 - val_accuracy: 0.6765 - val_loss: 1.5852\n",
      "Epoch 22/300\n",
      "\u001b[1m58/58\u001b[0m \u001b[32m━━━━━━━━━━━━━━━━━━━━\u001b[0m\u001b[37m\u001b[0m \u001b[1m0s\u001b[0m 1s/step - accuracy: 0.9656 - loss: 0.2838\n",
      "Epoch 22: saving model to model_checkpoint.keras\n",
      "\u001b[1m58/58\u001b[0m \u001b[32m━━━━━━━━━━━━━━━━━━━━\u001b[0m\u001b[37m\u001b[0m \u001b[1m64s\u001b[0m 1s/step - accuracy: 0.9656 - loss: 0.2840 - val_accuracy: 0.6667 - val_loss: 1.5482\n",
      "Epoch 23/300\n",
      "\u001b[1m58/58\u001b[0m \u001b[32m━━━━━━━━━━━━━━━━━━━━\u001b[0m\u001b[37m\u001b[0m \u001b[1m0s\u001b[0m 1s/step - accuracy: 0.9682 - loss: 0.2980\n",
      "Epoch 23: saving model to model_checkpoint.keras\n",
      "\u001b[1m58/58\u001b[0m \u001b[32m━━━━━━━━━━━━━━━━━━━━\u001b[0m\u001b[37m\u001b[0m \u001b[1m64s\u001b[0m 1s/step - accuracy: 0.9682 - loss: 0.2978 - val_accuracy: 0.6667 - val_loss: 1.5637\n",
      "Epoch 24/300\n",
      "\u001b[1m58/58\u001b[0m \u001b[32m━━━━━━━━━━━━━━━━━━━━\u001b[0m\u001b[37m\u001b[0m \u001b[1m0s\u001b[0m 1s/step - accuracy: 0.9645 - loss: 0.2921\n",
      "Epoch 24: saving model to model_checkpoint.keras\n",
      "\u001b[1m58/58\u001b[0m \u001b[32m━━━━━━━━━━━━━━━━━━━━\u001b[0m\u001b[37m\u001b[0m \u001b[1m63s\u001b[0m 1s/step - accuracy: 0.9647 - loss: 0.2918 - val_accuracy: 0.6863 - val_loss: 1.6038\n",
      "Epoch 25/300\n",
      "\u001b[1m58/58\u001b[0m \u001b[32m━━━━━━━━━━━━━━━━━━━━\u001b[0m\u001b[37m\u001b[0m \u001b[1m0s\u001b[0m 1s/step - accuracy: 0.9613 - loss: 0.3133\n",
      "Epoch 25: saving model to model_checkpoint.keras\n",
      "\u001b[1m58/58\u001b[0m \u001b[32m━━━━━━━━━━━━━━━━━━━━\u001b[0m\u001b[37m\u001b[0m \u001b[1m63s\u001b[0m 1s/step - accuracy: 0.9613 - loss: 0.3131 - val_accuracy: 0.6471 - val_loss: 1.5835\n",
      "Epoch 26/300\n",
      "\u001b[1m58/58\u001b[0m \u001b[32m━━━━━━━━━━━━━━━━━━━━\u001b[0m\u001b[37m\u001b[0m \u001b[1m0s\u001b[0m 1s/step - accuracy: 0.9699 - loss: 0.2825\n",
      "Epoch 26: saving model to model_checkpoint.keras\n",
      "\u001b[1m58/58\u001b[0m \u001b[32m━━━━━━━━━━━━━━━━━━━━\u001b[0m\u001b[37m\u001b[0m \u001b[1m63s\u001b[0m 1s/step - accuracy: 0.9699 - loss: 0.2825 - val_accuracy: 0.6765 - val_loss: 1.5982\n",
      "Epoch 27/300\n",
      "\u001b[1m58/58\u001b[0m \u001b[32m━━━━━━━━━━━━━━━━━━━━\u001b[0m\u001b[37m\u001b[0m \u001b[1m0s\u001b[0m 1s/step - accuracy: 0.9685 - loss: 0.2804\n",
      "Epoch 27: saving model to model_checkpoint.keras\n",
      "\u001b[1m58/58\u001b[0m \u001b[32m━━━━━━━━━━━━━━━━━━━━\u001b[0m\u001b[37m\u001b[0m \u001b[1m63s\u001b[0m 1s/step - accuracy: 0.9685 - loss: 0.2802 - val_accuracy: 0.6373 - val_loss: 1.6491\n",
      "Epoch 28/300\n",
      "\u001b[1m58/58\u001b[0m \u001b[32m━━━━━━━━━━━━━━━━━━━━\u001b[0m\u001b[37m\u001b[0m \u001b[1m0s\u001b[0m 1s/step - accuracy: 0.9653 - loss: 0.2948\n",
      "Epoch 28: saving model to model_checkpoint.keras\n",
      "\u001b[1m58/58\u001b[0m \u001b[32m━━━━━━━━━━━━━━━━━━━━\u001b[0m\u001b[37m\u001b[0m \u001b[1m63s\u001b[0m 1s/step - accuracy: 0.9652 - loss: 0.2948 - val_accuracy: 0.6667 - val_loss: 1.5773\n",
      "Epoch 29/300\n",
      "\u001b[1m58/58\u001b[0m \u001b[32m━━━━━━━━━━━━━━━━━━━━\u001b[0m\u001b[37m\u001b[0m \u001b[1m0s\u001b[0m 1s/step - accuracy: 0.9667 - loss: 0.2829\n",
      "Epoch 29: saving model to model_checkpoint.keras\n",
      "\u001b[1m58/58\u001b[0m \u001b[32m━━━━━━━━━━━━━━━━━━━━\u001b[0m\u001b[37m\u001b[0m \u001b[1m63s\u001b[0m 1s/step - accuracy: 0.9666 - loss: 0.2833 - val_accuracy: 0.6765 - val_loss: 1.6021\n",
      "Epoch 30/300\n",
      "\u001b[1m58/58\u001b[0m \u001b[32m━━━━━━━━━━━━━━━━━━━━\u001b[0m\u001b[37m\u001b[0m \u001b[1m0s\u001b[0m 1s/step - accuracy: 0.9632 - loss: 0.2818\n",
      "Epoch 30: saving model to model_checkpoint.keras\n",
      "\u001b[1m58/58\u001b[0m \u001b[32m━━━━━━━━━━━━━━━━━━━━\u001b[0m\u001b[37m\u001b[0m \u001b[1m63s\u001b[0m 1s/step - accuracy: 0.9631 - loss: 0.2820 - val_accuracy: 0.6667 - val_loss: 1.5987\n",
      "Epoch 31/300\n",
      "\u001b[1m58/58\u001b[0m \u001b[32m━━━━━━━━━━━━━━━━━━━━\u001b[0m\u001b[37m\u001b[0m \u001b[1m0s\u001b[0m 1s/step - accuracy: 0.9587 - loss: 0.2843\n",
      "Epoch 31: saving model to model_checkpoint.keras\n",
      "\u001b[1m58/58\u001b[0m \u001b[32m━━━━━━━━━━━━━━━━━━━━\u001b[0m\u001b[37m\u001b[0m \u001b[1m64s\u001b[0m 1s/step - accuracy: 0.9588 - loss: 0.2841 - val_accuracy: 0.6471 - val_loss: 1.5541\n",
      "Epoch 32/300\n",
      "\u001b[1m58/58\u001b[0m \u001b[32m━━━━━━━━━━━━━━━━━━━━\u001b[0m\u001b[37m\u001b[0m \u001b[1m0s\u001b[0m 1s/step - accuracy: 0.9571 - loss: 0.2855\n",
      "Epoch 32: saving model to model_checkpoint.keras\n",
      "\u001b[1m58/58\u001b[0m \u001b[32m━━━━━━━━━━━━━━━━━━━━\u001b[0m\u001b[37m\u001b[0m \u001b[1m63s\u001b[0m 1s/step - accuracy: 0.9573 - loss: 0.2854 - val_accuracy: 0.6765 - val_loss: 1.5880\n",
      "Epoch 33/300\n",
      "\u001b[1m58/58\u001b[0m \u001b[32m━━━━━━━━━━━━━━━━━━━━\u001b[0m\u001b[37m\u001b[0m \u001b[1m0s\u001b[0m 1s/step - accuracy: 0.9710 - loss: 0.2660\n",
      "Epoch 33: saving model to model_checkpoint.keras\n",
      "\u001b[1m58/58\u001b[0m \u001b[32m━━━━━━━━━━━━━━━━━━━━\u001b[0m\u001b[37m\u001b[0m \u001b[1m63s\u001b[0m 1s/step - accuracy: 0.9710 - loss: 0.2660 - val_accuracy: 0.6667 - val_loss: 1.6028\n",
      "Epoch 34/300\n",
      "\u001b[1m58/58\u001b[0m \u001b[32m━━━━━━━━━━━━━━━━━━━━\u001b[0m\u001b[37m\u001b[0m \u001b[1m0s\u001b[0m 1s/step - accuracy: 0.9663 - loss: 0.2712\n",
      "Epoch 34: saving model to model_checkpoint.keras\n",
      "\u001b[1m58/58\u001b[0m \u001b[32m━━━━━━━━━━━━━━━━━━━━\u001b[0m\u001b[37m\u001b[0m \u001b[1m63s\u001b[0m 1s/step - accuracy: 0.9662 - loss: 0.2715 - val_accuracy: 0.6765 - val_loss: 1.6000\n",
      "Epoch 35/300\n",
      "\u001b[1m58/58\u001b[0m \u001b[32m━━━━━━━━━━━━━━━━━━━━\u001b[0m\u001b[37m\u001b[0m \u001b[1m0s\u001b[0m 1s/step - accuracy: 0.9649 - loss: 0.2724\n",
      "Epoch 35: saving model to model_checkpoint.keras\n",
      "\u001b[1m58/58\u001b[0m \u001b[32m━━━━━━━━━━━━━━━━━━━━\u001b[0m\u001b[37m\u001b[0m \u001b[1m63s\u001b[0m 1s/step - accuracy: 0.9650 - loss: 0.2721 - val_accuracy: 0.6863 - val_loss: 1.5915\n",
      "Epoch 36/300\n",
      "\u001b[1m58/58\u001b[0m \u001b[32m━━━━━━━━━━━━━━━━━━━━\u001b[0m\u001b[37m\u001b[0m \u001b[1m0s\u001b[0m 1s/step - accuracy: 0.9690 - loss: 0.2711\n",
      "Epoch 36: saving model to model_checkpoint.keras\n",
      "\u001b[1m58/58\u001b[0m \u001b[32m━━━━━━━━━━━━━━━━━━━━\u001b[0m\u001b[37m\u001b[0m \u001b[1m63s\u001b[0m 1s/step - accuracy: 0.9689 - loss: 0.2713 - val_accuracy: 0.6863 - val_loss: 1.5626\n",
      "Epoch 37/300\n",
      "\u001b[1m58/58\u001b[0m \u001b[32m━━━━━━━━━━━━━━━━━━━━\u001b[0m\u001b[37m\u001b[0m \u001b[1m0s\u001b[0m 1s/step - accuracy: 0.9744 - loss: 0.2691\n",
      "Epoch 37: saving model to model_checkpoint.keras\n",
      "\u001b[1m58/58\u001b[0m \u001b[32m━━━━━━━━━━━━━━━━━━━━\u001b[0m\u001b[37m\u001b[0m \u001b[1m63s\u001b[0m 1s/step - accuracy: 0.9743 - loss: 0.2693 - val_accuracy: 0.6667 - val_loss: 1.6216\n",
      "Epoch 38/300\n",
      "\u001b[1m58/58\u001b[0m \u001b[32m━━━━━━━━━━━━━━━━━━━━\u001b[0m\u001b[37m\u001b[0m \u001b[1m0s\u001b[0m 1s/step - accuracy: 0.9605 - loss: 0.2932\n",
      "Epoch 38: saving model to model_checkpoint.keras\n",
      "\u001b[1m58/58\u001b[0m \u001b[32m━━━━━━━━━━━━━━━━━━━━\u001b[0m\u001b[37m\u001b[0m \u001b[1m63s\u001b[0m 1s/step - accuracy: 0.9606 - loss: 0.2931 - val_accuracy: 0.6863 - val_loss: 1.5782\n",
      "Epoch 39/300\n",
      "\u001b[1m58/58\u001b[0m \u001b[32m━━━━━━━━━━━━━━━━━━━━\u001b[0m\u001b[37m\u001b[0m \u001b[1m0s\u001b[0m 1s/step - accuracy: 0.9666 - loss: 0.2721\n",
      "Epoch 39: saving model to model_checkpoint.keras\n",
      "\u001b[1m58/58\u001b[0m \u001b[32m━━━━━━━━━━━━━━━━━━━━\u001b[0m\u001b[37m\u001b[0m \u001b[1m62s\u001b[0m 1s/step - accuracy: 0.9665 - loss: 0.2722 - val_accuracy: 0.6667 - val_loss: 1.5921\n",
      "Epoch 40/300\n",
      "\u001b[1m58/58\u001b[0m \u001b[32m━━━━━━━━━━━━━━━━━━━━\u001b[0m\u001b[37m\u001b[0m \u001b[1m0s\u001b[0m 1s/step - accuracy: 0.9722 - loss: 0.2763\n",
      "Epoch 40: saving model to model_checkpoint.keras\n",
      "\u001b[1m58/58\u001b[0m \u001b[32m━━━━━━━━━━━━━━━━━━━━\u001b[0m\u001b[37m\u001b[0m \u001b[1m63s\u001b[0m 1s/step - accuracy: 0.9722 - loss: 0.2761 - val_accuracy: 0.6765 - val_loss: 1.6176\n",
      "Epoch 41/300\n",
      "\u001b[1m58/58\u001b[0m \u001b[32m━━━━━━━━━━━━━━━━━━━━\u001b[0m\u001b[37m\u001b[0m \u001b[1m0s\u001b[0m 1s/step - accuracy: 0.9684 - loss: 0.2535\n",
      "Epoch 41: saving model to model_checkpoint.keras\n",
      "\u001b[1m58/58\u001b[0m \u001b[32m━━━━━━━━━━━━━━━━━━━━\u001b[0m\u001b[37m\u001b[0m \u001b[1m63s\u001b[0m 1s/step - accuracy: 0.9685 - loss: 0.2535 - val_accuracy: 0.6569 - val_loss: 1.5901\n",
      "Epoch 42/300\n",
      "\u001b[1m58/58\u001b[0m \u001b[32m━━━━━━━━━━━━━━━━━━━━\u001b[0m\u001b[37m\u001b[0m \u001b[1m0s\u001b[0m 1s/step - accuracy: 0.9639 - loss: 0.2660\n",
      "Epoch 42: saving model to model_checkpoint.keras\n",
      "\u001b[1m58/58\u001b[0m \u001b[32m━━━━━━━━━━━━━━━━━━━━\u001b[0m\u001b[37m\u001b[0m \u001b[1m63s\u001b[0m 1s/step - accuracy: 0.9640 - loss: 0.2660 - val_accuracy: 0.6471 - val_loss: 1.6215\n",
      "Epoch 43/300\n",
      "\u001b[1m58/58\u001b[0m \u001b[32m━━━━━━━━━━━━━━━━━━━━\u001b[0m\u001b[37m\u001b[0m \u001b[1m0s\u001b[0m 1s/step - accuracy: 0.9729 - loss: 0.2525\n",
      "Epoch 43: saving model to model_checkpoint.keras\n",
      "\u001b[1m58/58\u001b[0m \u001b[32m━━━━━━━━━━━━━━━━━━━━\u001b[0m\u001b[37m\u001b[0m \u001b[1m64s\u001b[0m 1s/step - accuracy: 0.9729 - loss: 0.2528 - val_accuracy: 0.6471 - val_loss: 1.5819\n",
      "Epoch 44/300\n",
      "\u001b[1m58/58\u001b[0m \u001b[32m━━━━━━━━━━━━━━━━━━━━\u001b[0m\u001b[37m\u001b[0m \u001b[1m0s\u001b[0m 1s/step - accuracy: 0.9653 - loss: 0.2766\n",
      "Epoch 44: saving model to model_checkpoint.keras\n",
      "\u001b[1m58/58\u001b[0m \u001b[32m━━━━━━━━━━━━━━━━━━━━\u001b[0m\u001b[37m\u001b[0m \u001b[1m63s\u001b[0m 1s/step - accuracy: 0.9653 - loss: 0.2765 - val_accuracy: 0.6569 - val_loss: 1.6135\n",
      "Epoch 45/300\n",
      "\u001b[1m58/58\u001b[0m \u001b[32m━━━━━━━━━━━━━━━━━━━━\u001b[0m\u001b[37m\u001b[0m \u001b[1m0s\u001b[0m 1s/step - accuracy: 0.9757 - loss: 0.2623\n",
      "Epoch 45: saving model to model_checkpoint.keras\n",
      "\u001b[1m58/58\u001b[0m \u001b[32m━━━━━━━━━━━━━━━━━━━━\u001b[0m\u001b[37m\u001b[0m \u001b[1m63s\u001b[0m 1s/step - accuracy: 0.9755 - loss: 0.2624 - val_accuracy: 0.6667 - val_loss: 1.6116\n",
      "Epoch 46/300\n",
      "\u001b[1m58/58\u001b[0m \u001b[32m━━━━━━━━━━━━━━━━━━━━\u001b[0m\u001b[37m\u001b[0m \u001b[1m0s\u001b[0m 1s/step - accuracy: 0.9657 - loss: 0.2567\n",
      "Epoch 46: saving model to model_checkpoint.keras\n",
      "\u001b[1m58/58\u001b[0m \u001b[32m━━━━━━━━━━━━━━━━━━━━\u001b[0m\u001b[37m\u001b[0m \u001b[1m63s\u001b[0m 1s/step - accuracy: 0.9657 - loss: 0.2569 - val_accuracy: 0.6863 - val_loss: 1.5754\n",
      "Epoch 47/300\n",
      "\u001b[1m58/58\u001b[0m \u001b[32m━━━━━━━━━━━━━━━━━━━━\u001b[0m\u001b[37m\u001b[0m \u001b[1m0s\u001b[0m 1s/step - accuracy: 0.9644 - loss: 0.2589\n",
      "Epoch 47: saving model to model_checkpoint.keras\n",
      "\u001b[1m58/58\u001b[0m \u001b[32m━━━━━━━━━━━━━━━━━━━━\u001b[0m\u001b[37m\u001b[0m \u001b[1m63s\u001b[0m 1s/step - accuracy: 0.9644 - loss: 0.2589 - val_accuracy: 0.6765 - val_loss: 1.6233\n",
      "Epoch 48/300\n",
      "\u001b[1m58/58\u001b[0m \u001b[32m━━━━━━━━━━━━━━━━━━━━\u001b[0m\u001b[37m\u001b[0m \u001b[1m0s\u001b[0m 1s/step - accuracy: 0.9670 - loss: 0.2570\n",
      "Epoch 48: saving model to model_checkpoint.keras\n",
      "\u001b[1m58/58\u001b[0m \u001b[32m━━━━━━━━━━━━━━━━━━━━\u001b[0m\u001b[37m\u001b[0m \u001b[1m62s\u001b[0m 1s/step - accuracy: 0.9669 - loss: 0.2570 - val_accuracy: 0.6863 - val_loss: 1.5977\n",
      "Epoch 49/300\n",
      "\u001b[1m58/58\u001b[0m \u001b[32m━━━━━━━━━━━━━━━━━━━━\u001b[0m\u001b[37m\u001b[0m \u001b[1m0s\u001b[0m 1s/step - accuracy: 0.9773 - loss: 0.2627\n",
      "Epoch 49: saving model to model_checkpoint.keras\n",
      "\u001b[1m58/58\u001b[0m \u001b[32m━━━━━━━━━━━━━━━━━━━━\u001b[0m\u001b[37m\u001b[0m \u001b[1m63s\u001b[0m 1s/step - accuracy: 0.9773 - loss: 0.2627 - val_accuracy: 0.6765 - val_loss: 1.5874\n",
      "Epoch 50/300\n",
      "\u001b[1m58/58\u001b[0m \u001b[32m━━━━━━━━━━━━━━━━━━━━\u001b[0m\u001b[37m\u001b[0m \u001b[1m0s\u001b[0m 1s/step - accuracy: 0.9695 - loss: 0.2641\n",
      "Epoch 50: saving model to model_checkpoint.keras\n",
      "\u001b[1m58/58\u001b[0m \u001b[32m━━━━━━━━━━━━━━━━━━━━\u001b[0m\u001b[37m\u001b[0m \u001b[1m63s\u001b[0m 1s/step - accuracy: 0.9696 - loss: 0.2639 - val_accuracy: 0.6667 - val_loss: 1.6227\n",
      "Epoch 51/300\n",
      "\u001b[1m58/58\u001b[0m \u001b[32m━━━━━━━━━━━━━━━━━━━━\u001b[0m\u001b[37m\u001b[0m \u001b[1m0s\u001b[0m 1s/step - accuracy: 0.9629 - loss: 0.2565\n",
      "Epoch 51: saving model to model_checkpoint.keras\n",
      "\u001b[1m58/58\u001b[0m \u001b[32m━━━━━━━━━━━━━━━━━━━━\u001b[0m\u001b[37m\u001b[0m \u001b[1m63s\u001b[0m 1s/step - accuracy: 0.9630 - loss: 0.2566 - val_accuracy: 0.6863 - val_loss: 1.6409\n",
      "Epoch 52/300\n",
      "\u001b[1m58/58\u001b[0m \u001b[32m━━━━━━━━━━━━━━━━━━━━\u001b[0m\u001b[37m\u001b[0m \u001b[1m0s\u001b[0m 1s/step - accuracy: 0.9689 - loss: 0.2728\n",
      "Epoch 52: saving model to model_checkpoint.keras\n",
      "\u001b[1m58/58\u001b[0m \u001b[32m━━━━━━━━━━━━━━━━━━━━\u001b[0m\u001b[37m\u001b[0m \u001b[1m63s\u001b[0m 1s/step - accuracy: 0.9690 - loss: 0.2726 - val_accuracy: 0.6765 - val_loss: 1.6541\n",
      "Epoch 53/300\n",
      "\u001b[1m58/58\u001b[0m \u001b[32m━━━━━━━━━━━━━━━━━━━━\u001b[0m\u001b[37m\u001b[0m \u001b[1m0s\u001b[0m 1s/step - accuracy: 0.9670 - loss: 0.2707\n",
      "Epoch 53: saving model to model_checkpoint.keras\n",
      "\u001b[1m58/58\u001b[0m \u001b[32m━━━━━━━━━━━━━━━━━━━━\u001b[0m\u001b[37m\u001b[0m \u001b[1m64s\u001b[0m 1s/step - accuracy: 0.9670 - loss: 0.2703 - val_accuracy: 0.6765 - val_loss: 1.5647\n",
      "Epoch 54/300\n",
      "\u001b[1m58/58\u001b[0m \u001b[32m━━━━━━━━━━━━━━━━━━━━\u001b[0m\u001b[37m\u001b[0m \u001b[1m0s\u001b[0m 1s/step - accuracy: 0.9642 - loss: 0.2749\n",
      "Epoch 54: saving model to model_checkpoint.keras\n",
      "\u001b[1m58/58\u001b[0m \u001b[32m━━━━━━━━━━━━━━━━━━━━\u001b[0m\u001b[37m\u001b[0m \u001b[1m62s\u001b[0m 1s/step - accuracy: 0.9644 - loss: 0.2745 - val_accuracy: 0.6765 - val_loss: 1.6056\n",
      "Epoch 55/300\n",
      "\u001b[1m58/58\u001b[0m \u001b[32m━━━━━━━━━━━━━━━━━━━━\u001b[0m\u001b[37m\u001b[0m \u001b[1m0s\u001b[0m 1s/step - accuracy: 0.9654 - loss: 0.2486\n",
      "Epoch 55: saving model to model_checkpoint.keras\n",
      "\u001b[1m58/58\u001b[0m \u001b[32m━━━━━━━━━━━━━━━━━━━━\u001b[0m\u001b[37m\u001b[0m \u001b[1m63s\u001b[0m 1s/step - accuracy: 0.9653 - loss: 0.2491 - val_accuracy: 0.6765 - val_loss: 1.5777\n",
      "Epoch 56/300\n",
      "\u001b[1m58/58\u001b[0m \u001b[32m━━━━━━━━━━━━━━━━━━━━\u001b[0m\u001b[37m\u001b[0m \u001b[1m0s\u001b[0m 1s/step - accuracy: 0.9724 - loss: 0.2430\n",
      "Epoch 56: saving model to model_checkpoint.keras\n",
      "\u001b[1m58/58\u001b[0m \u001b[32m━━━━━━━━━━━━━━━━━━━━\u001b[0m\u001b[37m\u001b[0m \u001b[1m63s\u001b[0m 1s/step - accuracy: 0.9724 - loss: 0.2434 - val_accuracy: 0.6569 - val_loss: 1.6538\n",
      "Epoch 57/300\n",
      "\u001b[1m58/58\u001b[0m \u001b[32m━━━━━━━━━━━━━━━━━━━━\u001b[0m\u001b[37m\u001b[0m \u001b[1m0s\u001b[0m 1s/step - accuracy: 0.9754 - loss: 0.2493\n",
      "Epoch 57: saving model to model_checkpoint.keras\n",
      "\u001b[1m58/58\u001b[0m \u001b[32m━━━━━━━━━━━━━━━━━━━━\u001b[0m\u001b[37m\u001b[0m \u001b[1m63s\u001b[0m 1s/step - accuracy: 0.9752 - loss: 0.2496 - val_accuracy: 0.6275 - val_loss: 1.6035\n",
      "Epoch 58/300\n",
      "\u001b[1m58/58\u001b[0m \u001b[32m━━━━━━━━━━━━━━━━━━━━\u001b[0m\u001b[37m\u001b[0m \u001b[1m0s\u001b[0m 1s/step - accuracy: 0.9761 - loss: 0.2365\n",
      "Epoch 58: saving model to model_checkpoint.keras\n",
      "\u001b[1m58/58\u001b[0m \u001b[32m━━━━━━━━━━━━━━━━━━━━\u001b[0m\u001b[37m\u001b[0m \u001b[1m63s\u001b[0m 1s/step - accuracy: 0.9762 - loss: 0.2366 - val_accuracy: 0.6667 - val_loss: 1.5895\n",
      "Epoch 59/300\n",
      "\u001b[1m58/58\u001b[0m \u001b[32m━━━━━━━━━━━━━━━━━━━━\u001b[0m\u001b[37m\u001b[0m \u001b[1m0s\u001b[0m 1s/step - accuracy: 0.9661 - loss: 0.2609\n",
      "Epoch 59: saving model to model_checkpoint.keras\n",
      "\u001b[1m58/58\u001b[0m \u001b[32m━━━━━━━━━━━━━━━━━━━━\u001b[0m\u001b[37m\u001b[0m \u001b[1m63s\u001b[0m 1s/step - accuracy: 0.9659 - loss: 0.2612 - val_accuracy: 0.6667 - val_loss: 1.5917\n",
      "Epoch 60/300\n",
      "\u001b[1m58/58\u001b[0m \u001b[32m━━━━━━━━━━━━━━━━━━━━\u001b[0m\u001b[37m\u001b[0m \u001b[1m0s\u001b[0m 1s/step - accuracy: 0.9730 - loss: 0.2510\n",
      "Epoch 60: saving model to model_checkpoint.keras\n",
      "\u001b[1m58/58\u001b[0m \u001b[32m━━━━━━━━━━━━━━━━━━━━\u001b[0m\u001b[37m\u001b[0m \u001b[1m63s\u001b[0m 1s/step - accuracy: 0.9727 - loss: 0.2514 - val_accuracy: 0.6863 - val_loss: 1.5805\n",
      "Epoch 61/300\n",
      "\u001b[1m58/58\u001b[0m \u001b[32m━━━━━━━━━━━━━━━━━━━━\u001b[0m\u001b[37m\u001b[0m \u001b[1m0s\u001b[0m 1s/step - accuracy: 0.9790 - loss: 0.2396\n",
      "Epoch 61: saving model to model_checkpoint.keras\n",
      "\u001b[1m58/58\u001b[0m \u001b[32m━━━━━━━━━━━━━━━━━━━━\u001b[0m\u001b[37m\u001b[0m \u001b[1m63s\u001b[0m 1s/step - accuracy: 0.9790 - loss: 0.2397 - val_accuracy: 0.6765 - val_loss: 1.5977\n",
      "Epoch 62/300\n",
      "\u001b[1m58/58\u001b[0m \u001b[32m━━━━━━━━━━━━━━━━━━━━\u001b[0m\u001b[37m\u001b[0m \u001b[1m0s\u001b[0m 1s/step - accuracy: 0.9697 - loss: 0.2475\n",
      "Epoch 62: saving model to model_checkpoint.keras\n",
      "\u001b[1m58/58\u001b[0m \u001b[32m━━━━━━━━━━━━━━━━━━━━\u001b[0m\u001b[37m\u001b[0m \u001b[1m63s\u001b[0m 1s/step - accuracy: 0.9697 - loss: 0.2475 - val_accuracy: 0.6765 - val_loss: 1.5865\n",
      "Epoch 63/300\n",
      "\u001b[1m58/58\u001b[0m \u001b[32m━━━━━━━━━━━━━━━━━━━━\u001b[0m\u001b[37m\u001b[0m \u001b[1m0s\u001b[0m 1s/step - accuracy: 0.9684 - loss: 0.2439\n",
      "Epoch 63: saving model to model_checkpoint.keras\n",
      "\u001b[1m58/58\u001b[0m \u001b[32m━━━━━━━━━━━━━━━━━━━━\u001b[0m\u001b[37m\u001b[0m \u001b[1m64s\u001b[0m 1s/step - accuracy: 0.9685 - loss: 0.2441 - val_accuracy: 0.6667 - val_loss: 1.5888\n",
      "Epoch 64/300\n",
      "\u001b[1m58/58\u001b[0m \u001b[32m━━━━━━━━━━━━━━━━━━━━\u001b[0m\u001b[37m\u001b[0m \u001b[1m0s\u001b[0m 1s/step - accuracy: 0.9806 - loss: 0.2336\n",
      "Epoch 64: saving model to model_checkpoint.keras\n",
      "\u001b[1m58/58\u001b[0m \u001b[32m━━━━━━━━━━━━━━━━━━━━\u001b[0m\u001b[37m\u001b[0m \u001b[1m63s\u001b[0m 1s/step - accuracy: 0.9806 - loss: 0.2334 - val_accuracy: 0.6765 - val_loss: 1.6658\n",
      "Epoch 65/300\n",
      "\u001b[1m58/58\u001b[0m \u001b[32m━━━━━━━━━━━━━━━━━━━━\u001b[0m\u001b[37m\u001b[0m \u001b[1m0s\u001b[0m 1s/step - accuracy: 0.9606 - loss: 0.2552\n",
      "Epoch 65: saving model to model_checkpoint.keras\n",
      "\u001b[1m58/58\u001b[0m \u001b[32m━━━━━━━━━━━━━━━━━━━━\u001b[0m\u001b[37m\u001b[0m \u001b[1m63s\u001b[0m 1s/step - accuracy: 0.9607 - loss: 0.2554 - val_accuracy: 0.6667 - val_loss: 1.6173\n",
      "Epoch 66/300\n",
      "\u001b[1m58/58\u001b[0m \u001b[32m━━━━━━━━━━━━━━━━━━━━\u001b[0m\u001b[37m\u001b[0m \u001b[1m0s\u001b[0m 1s/step - accuracy: 0.9639 - loss: 0.2473\n",
      "Epoch 66: saving model to model_checkpoint.keras\n",
      "\u001b[1m58/58\u001b[0m \u001b[32m━━━━━━━━━━━━━━━━━━━━\u001b[0m\u001b[37m\u001b[0m \u001b[1m64s\u001b[0m 1s/step - accuracy: 0.9639 - loss: 0.2473 - val_accuracy: 0.6863 - val_loss: 1.6071\n",
      "Epoch 67/300\n",
      "\u001b[1m58/58\u001b[0m \u001b[32m━━━━━━━━━━━━━━━━━━━━\u001b[0m\u001b[37m\u001b[0m \u001b[1m0s\u001b[0m 1s/step - accuracy: 0.9798 - loss: 0.2470\n",
      "Epoch 67: saving model to model_checkpoint.keras\n",
      "\u001b[1m58/58\u001b[0m \u001b[32m━━━━━━━━━━━━━━━━━━━━\u001b[0m\u001b[37m\u001b[0m \u001b[1m63s\u001b[0m 1s/step - accuracy: 0.9797 - loss: 0.2469 - val_accuracy: 0.6667 - val_loss: 1.6514\n",
      "Epoch 68/300\n",
      "\u001b[1m58/58\u001b[0m \u001b[32m━━━━━━━━━━━━━━━━━━━━\u001b[0m\u001b[37m\u001b[0m \u001b[1m0s\u001b[0m 1s/step - accuracy: 0.9770 - loss: 0.2347\n",
      "Epoch 68: saving model to model_checkpoint.keras\n",
      "\u001b[1m58/58\u001b[0m \u001b[32m━━━━━━━━━━━━━━━━━━━━\u001b[0m\u001b[37m\u001b[0m \u001b[1m64s\u001b[0m 1s/step - accuracy: 0.9769 - loss: 0.2349 - val_accuracy: 0.6765 - val_loss: 1.6485\n",
      "Epoch 69/300\n",
      "\u001b[1m58/58\u001b[0m \u001b[32m━━━━━━━━━━━━━━━━━━━━\u001b[0m\u001b[37m\u001b[0m \u001b[1m0s\u001b[0m 1s/step - accuracy: 0.9775 - loss: 0.2301\n",
      "Epoch 69: saving model to model_checkpoint.keras\n",
      "\u001b[1m58/58\u001b[0m \u001b[32m━━━━━━━━━━━━━━━━━━━━\u001b[0m\u001b[37m\u001b[0m \u001b[1m63s\u001b[0m 1s/step - accuracy: 0.9775 - loss: 0.2300 - val_accuracy: 0.6765 - val_loss: 1.6639\n",
      "Epoch 70/300\n",
      "\u001b[1m58/58\u001b[0m \u001b[32m━━━━━━━━━━━━━━━━━━━━\u001b[0m\u001b[37m\u001b[0m \u001b[1m0s\u001b[0m 1s/step - accuracy: 0.9776 - loss: 0.2387\n",
      "Epoch 70: saving model to model_checkpoint.keras\n",
      "\u001b[1m58/58\u001b[0m \u001b[32m━━━━━━━━━━━━━━━━━━━━\u001b[0m\u001b[37m\u001b[0m \u001b[1m63s\u001b[0m 1s/step - accuracy: 0.9775 - loss: 0.2387 - val_accuracy: 0.6569 - val_loss: 1.6423\n",
      "Epoch 71/300\n",
      "\u001b[1m58/58\u001b[0m \u001b[32m━━━━━━━━━━━━━━━━━━━━\u001b[0m\u001b[37m\u001b[0m \u001b[1m0s\u001b[0m 1s/step - accuracy: 0.9664 - loss: 0.2440\n",
      "Epoch 71: saving model to model_checkpoint.keras\n",
      "\u001b[1m58/58\u001b[0m \u001b[32m━━━━━━━━━━━━━━━━━━━━\u001b[0m\u001b[37m\u001b[0m \u001b[1m64s\u001b[0m 1s/step - accuracy: 0.9666 - loss: 0.2437 - val_accuracy: 0.6569 - val_loss: 1.6625\n",
      "Epoch 72/300\n",
      "\u001b[1m58/58\u001b[0m \u001b[32m━━━━━━━━━━━━━━━━━━━━\u001b[0m\u001b[37m\u001b[0m \u001b[1m0s\u001b[0m 1s/step - accuracy: 0.9756 - loss: 0.2308\n",
      "Epoch 72: saving model to model_checkpoint.keras\n",
      "\u001b[1m58/58\u001b[0m \u001b[32m━━━━━━━━━━━━━━━━━━━━\u001b[0m\u001b[37m\u001b[0m \u001b[1m64s\u001b[0m 1s/step - accuracy: 0.9755 - loss: 0.2310 - val_accuracy: 0.6667 - val_loss: 1.6193\n",
      "Epoch 73/300\n",
      "\u001b[1m58/58\u001b[0m \u001b[32m━━━━━━━━━━━━━━━━━━━━\u001b[0m\u001b[37m\u001b[0m \u001b[1m0s\u001b[0m 1s/step - accuracy: 0.9805 - loss: 0.2324\n",
      "Epoch 73: saving model to model_checkpoint.keras\n",
      "\u001b[1m58/58\u001b[0m \u001b[32m━━━━━━━━━━━━━━━━━━━━\u001b[0m\u001b[37m\u001b[0m \u001b[1m63s\u001b[0m 1s/step - accuracy: 0.9805 - loss: 0.2322 - val_accuracy: 0.6765 - val_loss: 1.6030\n",
      "Epoch 74/300\n",
      "\u001b[1m58/58\u001b[0m \u001b[32m━━━━━━━━━━━━━━━━━━━━\u001b[0m\u001b[37m\u001b[0m \u001b[1m0s\u001b[0m 1s/step - accuracy: 0.9666 - loss: 0.2329\n",
      "Epoch 74: saving model to model_checkpoint.keras\n",
      "\u001b[1m58/58\u001b[0m \u001b[32m━━━━━━━━━━━━━━━━━━━━\u001b[0m\u001b[37m\u001b[0m \u001b[1m63s\u001b[0m 1s/step - accuracy: 0.9667 - loss: 0.2330 - val_accuracy: 0.6667 - val_loss: 1.6523\n",
      "Epoch 75/300\n",
      "\u001b[1m58/58\u001b[0m \u001b[32m━━━━━━━━━━━━━━━━━━━━\u001b[0m\u001b[37m\u001b[0m \u001b[1m0s\u001b[0m 1s/step - accuracy: 0.9709 - loss: 0.2475\n",
      "Epoch 75: saving model to model_checkpoint.keras\n",
      "\u001b[1m58/58\u001b[0m \u001b[32m━━━━━━━━━━━━━━━━━━━━\u001b[0m\u001b[37m\u001b[0m \u001b[1m63s\u001b[0m 1s/step - accuracy: 0.9711 - loss: 0.2471 - val_accuracy: 0.6765 - val_loss: 1.6456\n",
      "Epoch 76/300\n",
      "\u001b[1m58/58\u001b[0m \u001b[32m━━━━━━━━━━━━━━━━━━━━\u001b[0m\u001b[37m\u001b[0m \u001b[1m0s\u001b[0m 1s/step - accuracy: 0.9733 - loss: 0.2239\n",
      "Epoch 76: saving model to model_checkpoint.keras\n",
      "\u001b[1m58/58\u001b[0m \u001b[32m━━━━━━━━━━━━━━━━━━━━\u001b[0m\u001b[37m\u001b[0m \u001b[1m63s\u001b[0m 1s/step - accuracy: 0.9732 - loss: 0.2244 - val_accuracy: 0.6667 - val_loss: 1.6276\n",
      "Epoch 77/300\n",
      "\u001b[1m58/58\u001b[0m \u001b[32m━━━━━━━━━━━━━━━━━━━━\u001b[0m\u001b[37m\u001b[0m \u001b[1m0s\u001b[0m 1s/step - accuracy: 0.9762 - loss: 0.2171\n",
      "Epoch 77: saving model to model_checkpoint.keras\n",
      "\u001b[1m58/58\u001b[0m \u001b[32m━━━━━━━━━━━━━━━━━━━━\u001b[0m\u001b[37m\u001b[0m \u001b[1m63s\u001b[0m 1s/step - accuracy: 0.9761 - loss: 0.2176 - val_accuracy: 0.6569 - val_loss: 1.6300\n",
      "Epoch 78/300\n",
      "\u001b[1m58/58\u001b[0m \u001b[32m━━━━━━━━━━━━━━━━━━━━\u001b[0m\u001b[37m\u001b[0m \u001b[1m0s\u001b[0m 1s/step - accuracy: 0.9803 - loss: 0.2246\n",
      "Epoch 78: saving model to model_checkpoint.keras\n",
      "\u001b[1m58/58\u001b[0m \u001b[32m━━━━━━━━━━━━━━━━━━━━\u001b[0m\u001b[37m\u001b[0m \u001b[1m63s\u001b[0m 1s/step - accuracy: 0.9803 - loss: 0.2247 - val_accuracy: 0.6667 - val_loss: 1.6464\n",
      "Epoch 79/300\n",
      "\u001b[1m58/58\u001b[0m \u001b[32m━━━━━━━━━━━━━━━━━━━━\u001b[0m\u001b[37m\u001b[0m \u001b[1m0s\u001b[0m 1s/step - accuracy: 0.9745 - loss: 0.2287\n",
      "Epoch 79: saving model to model_checkpoint.keras\n",
      "\u001b[1m58/58\u001b[0m \u001b[32m━━━━━━━━━━━━━━━━━━━━\u001b[0m\u001b[37m\u001b[0m \u001b[1m64s\u001b[0m 1s/step - accuracy: 0.9747 - loss: 0.2285 - val_accuracy: 0.6569 - val_loss: 1.6790\n",
      "Epoch 80/300\n",
      "\u001b[1m58/58\u001b[0m \u001b[32m━━━━━━━━━━━━━━━━━━━━\u001b[0m\u001b[37m\u001b[0m \u001b[1m0s\u001b[0m 1s/step - accuracy: 0.9732 - loss: 0.2362\n",
      "Epoch 80: saving model to model_checkpoint.keras\n",
      "\u001b[1m58/58\u001b[0m \u001b[32m━━━━━━━━━━━━━━━━━━━━\u001b[0m\u001b[37m\u001b[0m \u001b[1m63s\u001b[0m 1s/step - accuracy: 0.9732 - loss: 0.2362 - val_accuracy: 0.6569 - val_loss: 1.6398\n",
      "Epoch 81/300\n",
      "\u001b[1m58/58\u001b[0m \u001b[32m━━━━━━━━━━━━━━━━━━━━\u001b[0m\u001b[37m\u001b[0m \u001b[1m0s\u001b[0m 1s/step - accuracy: 0.9768 - loss: 0.2306\n",
      "Epoch 81: saving model to model_checkpoint.keras\n",
      "\u001b[1m58/58\u001b[0m \u001b[32m━━━━━━━━━━━━━━━━━━━━\u001b[0m\u001b[37m\u001b[0m \u001b[1m63s\u001b[0m 1s/step - accuracy: 0.9768 - loss: 0.2306 - val_accuracy: 0.6863 - val_loss: 1.6183\n",
      "Epoch 82/300\n",
      "\u001b[1m58/58\u001b[0m \u001b[32m━━━━━━━━━━━━━━━━━━━━\u001b[0m\u001b[37m\u001b[0m \u001b[1m0s\u001b[0m 1s/step - accuracy: 0.9752 - loss: 0.2353\n",
      "Epoch 82: saving model to model_checkpoint.keras\n",
      "\u001b[1m58/58\u001b[0m \u001b[32m━━━━━━━━━━━━━━━━━━━━\u001b[0m\u001b[37m\u001b[0m \u001b[1m63s\u001b[0m 1s/step - accuracy: 0.9751 - loss: 0.2354 - val_accuracy: 0.6765 - val_loss: 1.6179\n",
      "Epoch 83/300\n",
      "\u001b[1m58/58\u001b[0m \u001b[32m━━━━━━━━━━━━━━━━━━━━\u001b[0m\u001b[37m\u001b[0m \u001b[1m0s\u001b[0m 1s/step - accuracy: 0.9781 - loss: 0.2276\n",
      "Epoch 83: saving model to model_checkpoint.keras\n",
      "\u001b[1m58/58\u001b[0m \u001b[32m━━━━━━━━━━━━━━━━━━━━\u001b[0m\u001b[37m\u001b[0m \u001b[1m64s\u001b[0m 1s/step - accuracy: 0.9784 - loss: 0.2273 - val_accuracy: 0.6471 - val_loss: 1.6374\n",
      "Epoch 84/300\n",
      "\u001b[1m58/58\u001b[0m \u001b[32m━━━━━━━━━━━━━━━━━━━━\u001b[0m\u001b[37m\u001b[0m \u001b[1m0s\u001b[0m 1s/step - accuracy: 0.9837 - loss: 0.2106\n",
      "Epoch 84: saving model to model_checkpoint.keras\n",
      "\u001b[1m58/58\u001b[0m \u001b[32m━━━━━━━━━━━━━━━━━━━━\u001b[0m\u001b[37m\u001b[0m \u001b[1m63s\u001b[0m 1s/step - accuracy: 0.9836 - loss: 0.2108 - val_accuracy: 0.6765 - val_loss: 1.6167\n",
      "Epoch 85/300\n",
      "\u001b[1m58/58\u001b[0m \u001b[32m━━━━━━━━━━━━━━━━━━━━\u001b[0m\u001b[37m\u001b[0m \u001b[1m0s\u001b[0m 1s/step - accuracy: 0.9759 - loss: 0.2244\n",
      "Epoch 85: saving model to model_checkpoint.keras\n",
      "\u001b[1m58/58\u001b[0m \u001b[32m━━━━━━━━━━━━━━━━━━━━\u001b[0m\u001b[37m\u001b[0m \u001b[1m64s\u001b[0m 1s/step - accuracy: 0.9759 - loss: 0.2241 - val_accuracy: 0.6863 - val_loss: 1.5995\n",
      "Epoch 86/300\n",
      "\u001b[1m58/58\u001b[0m \u001b[32m━━━━━━━━━━━━━━━━━━━━\u001b[0m\u001b[37m\u001b[0m \u001b[1m0s\u001b[0m 1s/step - accuracy: 0.9803 - loss: 0.2100\n",
      "Epoch 86: saving model to model_checkpoint.keras\n",
      "\u001b[1m58/58\u001b[0m \u001b[32m━━━━━━━━━━━━━━━━━━━━\u001b[0m\u001b[37m\u001b[0m \u001b[1m63s\u001b[0m 1s/step - accuracy: 0.9802 - loss: 0.2102 - val_accuracy: 0.6667 - val_loss: 1.6142\n",
      "Epoch 87/300\n",
      "\u001b[1m58/58\u001b[0m \u001b[32m━━━━━━━━━━━━━━━━━━━━\u001b[0m\u001b[37m\u001b[0m \u001b[1m0s\u001b[0m 1s/step - accuracy: 0.9838 - loss: 0.2072\n",
      "Epoch 87: saving model to model_checkpoint.keras\n",
      "\u001b[1m58/58\u001b[0m \u001b[32m━━━━━━━━━━━━━━━━━━━━\u001b[0m\u001b[37m\u001b[0m \u001b[1m63s\u001b[0m 1s/step - accuracy: 0.9838 - loss: 0.2072 - val_accuracy: 0.6765 - val_loss: 1.6041\n",
      "Epoch 88/300\n",
      "\u001b[1m58/58\u001b[0m \u001b[32m━━━━━━━━━━━━━━━━━━━━\u001b[0m\u001b[37m\u001b[0m \u001b[1m0s\u001b[0m 1s/step - accuracy: 0.9769 - loss: 0.2146\n",
      "Epoch 88: saving model to model_checkpoint.keras\n",
      "\u001b[1m58/58\u001b[0m \u001b[32m━━━━━━━━━━━━━━━━━━━━\u001b[0m\u001b[37m\u001b[0m \u001b[1m63s\u001b[0m 1s/step - accuracy: 0.9768 - loss: 0.2148 - val_accuracy: 0.6765 - val_loss: 1.6062\n",
      "Epoch 89/300\n",
      "\u001b[1m58/58\u001b[0m \u001b[32m━━━━━━━━━━━━━━━━━━━━\u001b[0m\u001b[37m\u001b[0m \u001b[1m0s\u001b[0m 1s/step - accuracy: 0.9814 - loss: 0.2108\n",
      "Epoch 89: saving model to model_checkpoint.keras\n",
      "\u001b[1m58/58\u001b[0m \u001b[32m━━━━━━━━━━━━━━━━━━━━\u001b[0m\u001b[37m\u001b[0m \u001b[1m63s\u001b[0m 1s/step - accuracy: 0.9814 - loss: 0.2107 - val_accuracy: 0.6569 - val_loss: 1.6206\n",
      "Epoch 90/300\n",
      "\u001b[1m58/58\u001b[0m \u001b[32m━━━━━━━━━━━━━━━━━━━━\u001b[0m\u001b[37m\u001b[0m \u001b[1m0s\u001b[0m 1s/step - accuracy: 0.9812 - loss: 0.2013\n",
      "Epoch 90: saving model to model_checkpoint.keras\n",
      "\u001b[1m58/58\u001b[0m \u001b[32m━━━━━━━━━━━━━━━━━━━━\u001b[0m\u001b[37m\u001b[0m \u001b[1m63s\u001b[0m 1s/step - accuracy: 0.9812 - loss: 0.2017 - val_accuracy: 0.6961 - val_loss: 1.5578\n",
      "Epoch 91/300\n",
      "\u001b[1m58/58\u001b[0m \u001b[32m━━━━━━━━━━━━━━━━━━━━\u001b[0m\u001b[37m\u001b[0m \u001b[1m0s\u001b[0m 1s/step - accuracy: 0.9742 - loss: 0.2297\n",
      "Epoch 91: saving model to model_checkpoint.keras\n",
      "\u001b[1m58/58\u001b[0m \u001b[32m━━━━━━━━━━━━━━━━━━━━\u001b[0m\u001b[37m\u001b[0m \u001b[1m63s\u001b[0m 1s/step - accuracy: 0.9743 - loss: 0.2296 - val_accuracy: 0.6765 - val_loss: 1.6185\n",
      "Epoch 92/300\n",
      "\u001b[1m58/58\u001b[0m \u001b[32m━━━━━━━━━━━━━━━━━━━━\u001b[0m\u001b[37m\u001b[0m \u001b[1m0s\u001b[0m 1s/step - accuracy: 0.9681 - loss: 0.2272\n",
      "Epoch 92: saving model to model_checkpoint.keras\n",
      "\u001b[1m58/58\u001b[0m \u001b[32m━━━━━━━━━━━━━━━━━━━━\u001b[0m\u001b[37m\u001b[0m \u001b[1m63s\u001b[0m 1s/step - accuracy: 0.9680 - loss: 0.2273 - val_accuracy: 0.6765 - val_loss: 1.6104\n",
      "Epoch 93/300\n",
      "\u001b[1m58/58\u001b[0m \u001b[32m━━━━━━━━━━━━━━━━━━━━\u001b[0m\u001b[37m\u001b[0m \u001b[1m0s\u001b[0m 1s/step - accuracy: 0.9862 - loss: 0.2288\n",
      "Epoch 93: saving model to model_checkpoint.keras\n",
      "\u001b[1m58/58\u001b[0m \u001b[32m━━━━━━━━━━━━━━━━━━━━\u001b[0m\u001b[37m\u001b[0m \u001b[1m63s\u001b[0m 1s/step - accuracy: 0.9861 - loss: 0.2289 - val_accuracy: 0.6863 - val_loss: 1.6480\n",
      "Epoch 94/300\n",
      "\u001b[1m58/58\u001b[0m \u001b[32m━━━━━━━━━━━━━━━━━━━━\u001b[0m\u001b[37m\u001b[0m \u001b[1m0s\u001b[0m 1s/step - accuracy: 0.9765 - loss: 0.2200\n",
      "Epoch 94: saving model to model_checkpoint.keras\n",
      "\u001b[1m58/58\u001b[0m \u001b[32m━━━━━━━━━━━━━━━━━━━━\u001b[0m\u001b[37m\u001b[0m \u001b[1m63s\u001b[0m 1s/step - accuracy: 0.9764 - loss: 0.2203 - val_accuracy: 0.6569 - val_loss: 1.5874\n",
      "Epoch 95/300\n",
      "\u001b[1m58/58\u001b[0m \u001b[32m━━━━━━━━━━━━━━━━━━━━\u001b[0m\u001b[37m\u001b[0m \u001b[1m0s\u001b[0m 1s/step - accuracy: 0.9831 - loss: 0.1982\n",
      "Epoch 95: saving model to model_checkpoint.keras\n",
      "\u001b[1m58/58\u001b[0m \u001b[32m━━━━━━━━━━━━━━━━━━━━\u001b[0m\u001b[37m\u001b[0m \u001b[1m63s\u001b[0m 1s/step - accuracy: 0.9830 - loss: 0.1987 - val_accuracy: 0.6765 - val_loss: 1.5921\n",
      "Epoch 96/300\n",
      "\u001b[1m58/58\u001b[0m \u001b[32m━━━━━━━━━━━━━━━━━━━━\u001b[0m\u001b[37m\u001b[0m \u001b[1m0s\u001b[0m 1s/step - accuracy: 0.9754 - loss: 0.2208\n",
      "Epoch 96: saving model to model_checkpoint.keras\n",
      "\u001b[1m58/58\u001b[0m \u001b[32m━━━━━━━━━━━━━━━━━━━━\u001b[0m\u001b[37m\u001b[0m \u001b[1m64s\u001b[0m 1s/step - accuracy: 0.9753 - loss: 0.2209 - val_accuracy: 0.6863 - val_loss: 1.5759\n",
      "Epoch 97/300\n",
      "\u001b[1m58/58\u001b[0m \u001b[32m━━━━━━━━━━━━━━━━━━━━\u001b[0m\u001b[37m\u001b[0m \u001b[1m0s\u001b[0m 1s/step - accuracy: 0.9842 - loss: 0.2153\n",
      "Epoch 97: saving model to model_checkpoint.keras\n",
      "\u001b[1m58/58\u001b[0m \u001b[32m━━━━━━━━━━━━━━━━━━━━\u001b[0m\u001b[37m\u001b[0m \u001b[1m64s\u001b[0m 1s/step - accuracy: 0.9842 - loss: 0.2153 - val_accuracy: 0.6765 - val_loss: 1.5948\n",
      "Epoch 98/300\n",
      "\u001b[1m58/58\u001b[0m \u001b[32m━━━━━━━━━━━━━━━━━━━━\u001b[0m\u001b[37m\u001b[0m \u001b[1m0s\u001b[0m 1s/step - accuracy: 0.9772 - loss: 0.2142\n",
      "Epoch 98: saving model to model_checkpoint.keras\n",
      "\u001b[1m58/58\u001b[0m \u001b[32m━━━━━━━━━━━━━━━━━━━━\u001b[0m\u001b[37m\u001b[0m \u001b[1m63s\u001b[0m 1s/step - accuracy: 0.9771 - loss: 0.2142 - val_accuracy: 0.6863 - val_loss: 1.6072\n",
      "Epoch 99/300\n",
      "\u001b[1m58/58\u001b[0m \u001b[32m━━━━━━━━━━━━━━━━━━━━\u001b[0m\u001b[37m\u001b[0m \u001b[1m0s\u001b[0m 1s/step - accuracy: 0.9788 - loss: 0.2088\n",
      "Epoch 99: saving model to model_checkpoint.keras\n",
      "\u001b[1m58/58\u001b[0m \u001b[32m━━━━━━━━━━━━━━━━━━━━\u001b[0m\u001b[37m\u001b[0m \u001b[1m63s\u001b[0m 1s/step - accuracy: 0.9788 - loss: 0.2088 - val_accuracy: 0.6863 - val_loss: 1.5990\n",
      "Epoch 100/300\n",
      "\u001b[1m58/58\u001b[0m \u001b[32m━━━━━━━━━━━━━━━━━━━━\u001b[0m\u001b[37m\u001b[0m \u001b[1m0s\u001b[0m 1s/step - accuracy: 0.9798 - loss: 0.2067\n",
      "Epoch 100: saving model to model_checkpoint.keras\n",
      "\u001b[1m58/58\u001b[0m \u001b[32m━━━━━━━━━━━━━━━━━━━━\u001b[0m\u001b[37m\u001b[0m \u001b[1m63s\u001b[0m 1s/step - accuracy: 0.9798 - loss: 0.2070 - val_accuracy: 0.6863 - val_loss: 1.6303\n",
      "Epoch 101/300\n",
      "\u001b[1m58/58\u001b[0m \u001b[32m━━━━━━━━━━━━━━━━━━━━\u001b[0m\u001b[37m\u001b[0m \u001b[1m0s\u001b[0m 1s/step - accuracy: 0.9815 - loss: 0.2030\n",
      "Epoch 101: saving model to model_checkpoint.keras\n",
      "\u001b[1m58/58\u001b[0m \u001b[32m━━━━━━━━━━━━━━━━━━━━\u001b[0m\u001b[37m\u001b[0m \u001b[1m63s\u001b[0m 1s/step - accuracy: 0.9816 - loss: 0.2031 - val_accuracy: 0.6569 - val_loss: 1.6174\n",
      "Epoch 102/300\n",
      "\u001b[1m58/58\u001b[0m \u001b[32m━━━━━━━━━━━━━━━━━━━━\u001b[0m\u001b[37m\u001b[0m \u001b[1m0s\u001b[0m 1s/step - accuracy: 0.9854 - loss: 0.2013\n",
      "Epoch 102: saving model to model_checkpoint.keras\n",
      "\u001b[1m58/58\u001b[0m \u001b[32m━━━━━━━━━━━━━━━━━━━━\u001b[0m\u001b[37m\u001b[0m \u001b[1m63s\u001b[0m 1s/step - accuracy: 0.9854 - loss: 0.2012 - val_accuracy: 0.6569 - val_loss: 1.6765\n",
      "Epoch 103/300\n",
      "\u001b[1m58/58\u001b[0m \u001b[32m━━━━━━━━━━━━━━━━━━━━\u001b[0m\u001b[37m\u001b[0m \u001b[1m0s\u001b[0m 1s/step - accuracy: 0.9786 - loss: 0.2015\n",
      "Epoch 103: saving model to model_checkpoint.keras\n",
      "\u001b[1m58/58\u001b[0m \u001b[32m━━━━━━━━━━━━━━━━━━━━\u001b[0m\u001b[37m\u001b[0m \u001b[1m63s\u001b[0m 1s/step - accuracy: 0.9784 - loss: 0.2018 - val_accuracy: 0.6863 - val_loss: 1.5995\n",
      "Epoch 104/300\n",
      "\u001b[1m58/58\u001b[0m \u001b[32m━━━━━━━━━━━━━━━━━━━━\u001b[0m\u001b[37m\u001b[0m \u001b[1m0s\u001b[0m 1s/step - accuracy: 0.9814 - loss: 0.1895\n",
      "Epoch 104: saving model to model_checkpoint.keras\n",
      "\u001b[1m58/58\u001b[0m \u001b[32m━━━━━━━━━━━━━━━━━━━━\u001b[0m\u001b[37m\u001b[0m \u001b[1m62s\u001b[0m 1s/step - accuracy: 0.9813 - loss: 0.1898 - val_accuracy: 0.6765 - val_loss: 1.6106\n",
      "Epoch 105/300\n",
      "\u001b[1m58/58\u001b[0m \u001b[32m━━━━━━━━━━━━━━━━━━━━\u001b[0m\u001b[37m\u001b[0m \u001b[1m0s\u001b[0m 1s/step - accuracy: 0.9789 - loss: 0.1993\n",
      "Epoch 105: saving model to model_checkpoint.keras\n",
      "\u001b[1m58/58\u001b[0m \u001b[32m━━━━━━━━━━━━━━━━━━━━\u001b[0m\u001b[37m\u001b[0m \u001b[1m64s\u001b[0m 1s/step - accuracy: 0.9790 - loss: 0.1991 - val_accuracy: 0.6765 - val_loss: 1.6283\n",
      "Epoch 106/300\n",
      "\u001b[1m58/58\u001b[0m \u001b[32m━━━━━━━━━━━━━━━━━━━━\u001b[0m\u001b[37m\u001b[0m \u001b[1m0s\u001b[0m 1s/step - accuracy: 0.9706 - loss: 0.2256\n",
      "Epoch 106: saving model to model_checkpoint.keras\n",
      "\u001b[1m58/58\u001b[0m \u001b[32m━━━━━━━━━━━━━━━━━━━━\u001b[0m\u001b[37m\u001b[0m \u001b[1m62s\u001b[0m 1s/step - accuracy: 0.9705 - loss: 0.2255 - val_accuracy: 0.6961 - val_loss: 1.6301\n",
      "Epoch 107/300\n",
      "\u001b[1m58/58\u001b[0m \u001b[32m━━━━━━━━━━━━━━━━━━━━\u001b[0m\u001b[37m\u001b[0m \u001b[1m0s\u001b[0m 1s/step - accuracy: 0.9769 - loss: 0.2086\n",
      "Epoch 107: saving model to model_checkpoint.keras\n",
      "\u001b[1m58/58\u001b[0m \u001b[32m━━━━━━━━━━━━━━━━━━━━\u001b[0m\u001b[37m\u001b[0m \u001b[1m63s\u001b[0m 1s/step - accuracy: 0.9770 - loss: 0.2088 - val_accuracy: 0.6667 - val_loss: 1.6141\n",
      "Epoch 108/300\n",
      "\u001b[1m58/58\u001b[0m \u001b[32m━━━━━━━━━━━━━━━━━━━━\u001b[0m\u001b[37m\u001b[0m \u001b[1m0s\u001b[0m 1s/step - accuracy: 0.9844 - loss: 0.1931\n",
      "Epoch 108: saving model to model_checkpoint.keras\n",
      "\u001b[1m58/58\u001b[0m \u001b[32m━━━━━━━━━━━━━━━━━━━━\u001b[0m\u001b[37m\u001b[0m \u001b[1m63s\u001b[0m 1s/step - accuracy: 0.9843 - loss: 0.1932 - val_accuracy: 0.6765 - val_loss: 1.6301\n",
      "Epoch 109/300\n",
      "\u001b[1m58/58\u001b[0m \u001b[32m━━━━━━━━━━━━━━━━━━━━\u001b[0m\u001b[37m\u001b[0m \u001b[1m0s\u001b[0m 1s/step - accuracy: 0.9768 - loss: 0.2089\n",
      "Epoch 109: saving model to model_checkpoint.keras\n",
      "\u001b[1m58/58\u001b[0m \u001b[32m━━━━━━━━━━━━━━━━━━━━\u001b[0m\u001b[37m\u001b[0m \u001b[1m63s\u001b[0m 1s/step - accuracy: 0.9767 - loss: 0.2090 - val_accuracy: 0.6863 - val_loss: 1.6226\n",
      "Epoch 110/300\n",
      "\u001b[1m58/58\u001b[0m \u001b[32m━━━━━━━━━━━━━━━━━━━━\u001b[0m\u001b[37m\u001b[0m \u001b[1m0s\u001b[0m 1s/step - accuracy: 0.9787 - loss: 0.2074\n",
      "Epoch 110: saving model to model_checkpoint.keras\n",
      "\u001b[1m58/58\u001b[0m \u001b[32m━━━━━━━━━━━━━━━━━━━━\u001b[0m\u001b[37m\u001b[0m \u001b[1m64s\u001b[0m 1s/step - accuracy: 0.9787 - loss: 0.2076 - val_accuracy: 0.6667 - val_loss: 1.6356\n",
      "Epoch 111/300\n",
      "\u001b[1m58/58\u001b[0m \u001b[32m━━━━━━━━━━━━━━━━━━━━\u001b[0m\u001b[37m\u001b[0m \u001b[1m0s\u001b[0m 1s/step - accuracy: 0.9821 - loss: 0.1951\n",
      "Epoch 111: saving model to model_checkpoint.keras\n",
      "\u001b[1m58/58\u001b[0m \u001b[32m━━━━━━━━━━━━━━━━━━━━\u001b[0m\u001b[37m\u001b[0m \u001b[1m63s\u001b[0m 1s/step - accuracy: 0.9821 - loss: 0.1952 - val_accuracy: 0.6765 - val_loss: 1.6930\n",
      "Epoch 112/300\n",
      "\u001b[1m58/58\u001b[0m \u001b[32m━━━━━━━━━━━━━━━━━━━━\u001b[0m\u001b[37m\u001b[0m \u001b[1m0s\u001b[0m 1s/step - accuracy: 0.9701 - loss: 0.2137\n",
      "Epoch 112: saving model to model_checkpoint.keras\n",
      "\u001b[1m58/58\u001b[0m \u001b[32m━━━━━━━━━━━━━━━━━━━━\u001b[0m\u001b[37m\u001b[0m \u001b[1m63s\u001b[0m 1s/step - accuracy: 0.9702 - loss: 0.2139 - val_accuracy: 0.6765 - val_loss: 1.6111\n",
      "Epoch 113/300\n",
      "\u001b[1m58/58\u001b[0m \u001b[32m━━━━━━━━━━━━━━━━━━━━\u001b[0m\u001b[37m\u001b[0m \u001b[1m0s\u001b[0m 1s/step - accuracy: 0.9875 - loss: 0.1969\n",
      "Epoch 113: saving model to model_checkpoint.keras\n",
      "\u001b[1m58/58\u001b[0m \u001b[32m━━━━━━━━━━━━━━━━━━━━\u001b[0m\u001b[37m\u001b[0m \u001b[1m64s\u001b[0m 1s/step - accuracy: 0.9874 - loss: 0.1970 - val_accuracy: 0.6863 - val_loss: 1.6224\n",
      "Epoch 114/300\n",
      "\u001b[1m58/58\u001b[0m \u001b[32m━━━━━━━━━━━━━━━━━━━━\u001b[0m\u001b[37m\u001b[0m \u001b[1m0s\u001b[0m 1s/step - accuracy: 0.9796 - loss: 0.2051\n",
      "Epoch 114: saving model to model_checkpoint.keras\n",
      "\u001b[1m58/58\u001b[0m \u001b[32m━━━━━━━━━━━━━━━━━━━━\u001b[0m\u001b[37m\u001b[0m \u001b[1m64s\u001b[0m 1s/step - accuracy: 0.9796 - loss: 0.2049 - val_accuracy: 0.6765 - val_loss: 1.6044\n",
      "Epoch 115/300\n",
      "\u001b[1m58/58\u001b[0m \u001b[32m━━━━━━━━━━━━━━━━━━━━\u001b[0m\u001b[37m\u001b[0m \u001b[1m0s\u001b[0m 1s/step - accuracy: 0.9790 - loss: 0.1898\n",
      "Epoch 115: saving model to model_checkpoint.keras\n",
      "\u001b[1m58/58\u001b[0m \u001b[32m━━━━━━━━━━━━━━━━━━━━\u001b[0m\u001b[37m\u001b[0m \u001b[1m63s\u001b[0m 1s/step - accuracy: 0.9790 - loss: 0.1900 - val_accuracy: 0.6863 - val_loss: 1.6470\n",
      "Epoch 116/300\n",
      "\u001b[1m58/58\u001b[0m \u001b[32m━━━━━━━━━━━━━━━━━━━━\u001b[0m\u001b[37m\u001b[0m \u001b[1m0s\u001b[0m 1s/step - accuracy: 0.9761 - loss: 0.2032\n",
      "Epoch 116: saving model to model_checkpoint.keras\n",
      "\u001b[1m58/58\u001b[0m \u001b[32m━━━━━━━━━━━━━━━━━━━━\u001b[0m\u001b[37m\u001b[0m \u001b[1m63s\u001b[0m 1s/step - accuracy: 0.9761 - loss: 0.2033 - val_accuracy: 0.6863 - val_loss: 1.6010\n",
      "Epoch 117/300\n",
      "\u001b[1m58/58\u001b[0m \u001b[32m━━━━━━━━━━━━━━━━━━━━\u001b[0m\u001b[37m\u001b[0m \u001b[1m0s\u001b[0m 1s/step - accuracy: 0.9829 - loss: 0.1925\n",
      "Epoch 117: saving model to model_checkpoint.keras\n",
      "\u001b[1m58/58\u001b[0m \u001b[32m━━━━━━━━━━━━━━━━━━━━\u001b[0m\u001b[37m\u001b[0m \u001b[1m63s\u001b[0m 1s/step - accuracy: 0.9830 - loss: 0.1925 - val_accuracy: 0.6863 - val_loss: 1.6269\n",
      "Epoch 118/300\n",
      "\u001b[1m58/58\u001b[0m \u001b[32m━━━━━━━━━━━━━━━━━━━━\u001b[0m\u001b[37m\u001b[0m \u001b[1m0s\u001b[0m 1s/step - accuracy: 0.9720 - loss: 0.2025\n",
      "Epoch 118: saving model to model_checkpoint.keras\n",
      "\u001b[1m58/58\u001b[0m \u001b[32m━━━━━━━━━━━━━━━━━━━━\u001b[0m\u001b[37m\u001b[0m \u001b[1m62s\u001b[0m 1s/step - accuracy: 0.9720 - loss: 0.2024 - val_accuracy: 0.6667 - val_loss: 1.6506\n",
      "Epoch 119/300\n",
      "\u001b[1m58/58\u001b[0m \u001b[32m━━━━━━━━━━━━━━━━━━━━\u001b[0m\u001b[37m\u001b[0m \u001b[1m0s\u001b[0m 1s/step - accuracy: 0.9754 - loss: 0.2040\n",
      "Epoch 119: saving model to model_checkpoint.keras\n",
      "\u001b[1m58/58\u001b[0m \u001b[32m━━━━━━━━━━━━━━━━━━━━\u001b[0m\u001b[37m\u001b[0m \u001b[1m63s\u001b[0m 1s/step - accuracy: 0.9753 - loss: 0.2041 - val_accuracy: 0.6373 - val_loss: 1.6449\n",
      "Epoch 120/300\n",
      "\u001b[1m58/58\u001b[0m \u001b[32m━━━━━━━━━━━━━━━━━━━━\u001b[0m\u001b[37m\u001b[0m \u001b[1m0s\u001b[0m 1s/step - accuracy: 0.9785 - loss: 0.1890\n",
      "Epoch 120: saving model to model_checkpoint.keras\n",
      "\u001b[1m58/58\u001b[0m \u001b[32m━━━━━━━━━━━━━━━━━━━━\u001b[0m\u001b[37m\u001b[0m \u001b[1m63s\u001b[0m 1s/step - accuracy: 0.9786 - loss: 0.1889 - val_accuracy: 0.6765 - val_loss: 1.5954\n",
      "Epoch 121/300\n",
      "\u001b[1m58/58\u001b[0m \u001b[32m━━━━━━━━━━━━━━━━━━━━\u001b[0m\u001b[37m\u001b[0m \u001b[1m0s\u001b[0m 1s/step - accuracy: 0.9810 - loss: 0.1878\n",
      "Epoch 121: saving model to model_checkpoint.keras\n",
      "\u001b[1m58/58\u001b[0m \u001b[32m━━━━━━━━━━━━━━━━━━━━\u001b[0m\u001b[37m\u001b[0m \u001b[1m63s\u001b[0m 1s/step - accuracy: 0.9810 - loss: 0.1876 - val_accuracy: 0.6765 - val_loss: 1.5915\n",
      "Epoch 122/300\n",
      "\u001b[1m58/58\u001b[0m \u001b[32m━━━━━━━━━━━━━━━━━━━━\u001b[0m\u001b[37m\u001b[0m \u001b[1m0s\u001b[0m 1s/step - accuracy: 0.9755 - loss: 0.1998\n",
      "Epoch 122: saving model to model_checkpoint.keras\n",
      "\u001b[1m58/58\u001b[0m \u001b[32m━━━━━━━━━━━━━━━━━━━━\u001b[0m\u001b[37m\u001b[0m \u001b[1m64s\u001b[0m 1s/step - accuracy: 0.9754 - loss: 0.1998 - val_accuracy: 0.6667 - val_loss: 1.6411\n"
     ]
    }
   ],
   "source": [
    "\n",
    "\n",
    "\n",
    "# Continue training for an additional 300 epochs\n",
    "history_additional = model_loaded.fit(\n",
    "    X_train_final,\n",
    "    y_train,\n",
    "    validation_data=(X_test_final, y_test),\n",
    "    epochs=300,  # Train for 300 more epochs\n",
    "    batch_size=32,\n",
    "    callbacks=callbacks,\n",
    "    verbose=1\n",
    ")\n"
   ]
  }
 ],
 "metadata": {
  "kaggle": {
   "accelerator": "nvidiaTeslaT4",
   "dataSources": [
    {
     "datasetId": 6637708,
     "sourceId": 10709822,
     "sourceType": "datasetVersion"
    },
    {
     "isSourceIdPinned": true,
     "modelId": 241387,
     "modelInstanceId": 219627,
     "sourceId": 256940,
     "sourceType": "modelInstanceVersion"
    }
   ],
   "dockerImageVersionId": 30887,
   "isGpuEnabled": true,
   "isInternetEnabled": true,
   "language": "python",
   "sourceType": "notebook"
  },
  "kernelspec": {
   "display_name": "Python 3",
   "language": "python",
   "name": "python3"
  },
  "language_info": {
   "codemirror_mode": {
    "name": "ipython",
    "version": 3
   },
   "file_extension": ".py",
   "mimetype": "text/x-python",
   "name": "python",
   "nbconvert_exporter": "python",
   "pygments_lexer": "ipython3",
   "version": "3.10.12"
  },
  "papermill": {
   "default_parameters": {},
   "duration": 7764.45164,
   "end_time": "2025-02-13T04:54:46.480235",
   "environment_variables": {},
   "exception": null,
   "input_path": "__notebook__.ipynb",
   "output_path": "__notebook__.ipynb",
   "parameters": {},
   "start_time": "2025-02-13T02:45:22.028595",
   "version": "2.6.0"
  }
 },
 "nbformat": 4,
 "nbformat_minor": 5
}
