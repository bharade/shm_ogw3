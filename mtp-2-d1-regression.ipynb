{
 "cells": [
  {
   "cell_type": "code",
   "execution_count": 1,
   "id": "1c03ce72",
   "metadata": {
    "_cell_guid": "b1076dfc-b9ad-4769-8c92-a6c4dae69d19",
    "_uuid": "8f2839f25d086af736a60e9eeb907d3b93b6e0e5",
    "execution": {
     "iopub.execute_input": "2025-02-14T02:46:17.091184Z",
     "iopub.status.busy": "2025-02-14T02:46:17.090839Z",
     "iopub.status.idle": "2025-02-14T02:46:18.522307Z",
     "shell.execute_reply": "2025-02-14T02:46:18.521247Z"
    },
    "papermill": {
     "duration": 1.442191,
     "end_time": "2025-02-14T02:46:18.524247",
     "exception": false,
     "start_time": "2025-02-14T02:46:17.082056",
     "status": "completed"
    },
    "tags": []
   },
   "outputs": [
    {
     "name": "stdout",
     "output_type": "stream",
     "text": [
      "/kaggle/input/ogw3-train-test/test_dataset.npz\n",
      "/kaggle/input/ogw3-train-test/train_dataset.npz\n",
      "/kaggle/input/ogw3-loaded/data_frames_ogw3.pkl\n",
      "/kaggle/input/ogw3-augmented/X_damage_augmented.npy\n",
      "/kaggle/input/ogw3-augmented/X_freq_augmented.npy\n",
      "/kaggle/input/ogw3-augmented/X_signals_augmented.npy\n"
     ]
    }
   ],
   "source": [
    "# This Python 3 environment comes with many helpful analytics libraries installed\n",
    "# It is defined by the kaggle/python Docker image: https://github.com/kaggle/docker-python\n",
    "# For example, here's several helpful packages to load\n",
    "\n",
    "import numpy as np # linear algebra\n",
    "import pandas as pd # data processing, CSV file I/O (e.g. pd.read_csv)\n",
    "\n",
    "# Input data files are available in the read-only \"../input/\" directory\n",
    "# For example, running this (by clicking run or pressing Shift+Enter) will list all files under the input directory\n",
    "\n",
    "import os\n",
    "for dirname, _, filenames in os.walk('/kaggle/input'):\n",
    "    for filename in filenames:\n",
    "        print(os.path.join(dirname, filename))\n",
    "\n",
    "# You can write up to 20GB to the current directory (/kaggle/working/) that gets preserved as output when you create a version using \"Save & Run All\" \n",
    "# You can also write temporary files to /kaggle/temp/, but they won't be saved outside of the current session"
   ]
  },
  {
   "cell_type": "markdown",
   "id": "369e7930",
   "metadata": {
    "papermill": {
     "duration": 0.007386,
     "end_time": "2025-02-14T02:46:18.540252",
     "exception": false,
     "start_time": "2025-02-14T02:46:18.532866",
     "status": "completed"
    },
    "tags": []
   },
   "source": [
    "# 1.5) loading augmented data"
   ]
  },
  {
   "cell_type": "code",
   "execution_count": 2,
   "id": "5f85f3bb",
   "metadata": {
    "execution": {
     "iopub.execute_input": "2025-02-14T02:46:18.555517Z",
     "iopub.status.busy": "2025-02-14T02:46:18.555148Z",
     "iopub.status.idle": "2025-02-14T02:46:18.558605Z",
     "shell.execute_reply": "2025-02-14T02:46:18.557802Z"
    },
    "papermill": {
     "duration": 0.01218,
     "end_time": "2025-02-14T02:46:18.559904",
     "exception": false,
     "start_time": "2025-02-14T02:46:18.547724",
     "status": "completed"
    },
    "tags": []
   },
   "outputs": [],
   "source": [
    "import os\n",
    "import matplotlib.pyplot as plt"
   ]
  },
  {
   "cell_type": "code",
   "execution_count": 3,
   "id": "9f92f435",
   "metadata": {
    "execution": {
     "iopub.execute_input": "2025-02-14T02:46:18.574555Z",
     "iopub.status.busy": "2025-02-14T02:46:18.574311Z",
     "iopub.status.idle": "2025-02-14T02:46:18.579414Z",
     "shell.execute_reply": "2025-02-14T02:46:18.578752Z"
    },
    "papermill": {
     "duration": 0.013828,
     "end_time": "2025-02-14T02:46:18.580662",
     "exception": false,
     "start_time": "2025-02-14T02:46:18.566834",
     "status": "completed"
    },
    "tags": []
   },
   "outputs": [
    {
     "data": {
      "text/plain": [
       "'/kaggle/working'"
      ]
     },
     "execution_count": 3,
     "metadata": {},
     "output_type": "execute_result"
    }
   ],
   "source": [
    "%pwd\n"
   ]
  },
  {
   "cell_type": "code",
   "execution_count": 4,
   "id": "f778a920",
   "metadata": {
    "execution": {
     "iopub.execute_input": "2025-02-14T02:46:18.595199Z",
     "iopub.status.busy": "2025-02-14T02:46:18.594961Z",
     "iopub.status.idle": "2025-02-14T02:46:18.597733Z",
     "shell.execute_reply": "2025-02-14T02:46:18.597165Z"
    },
    "papermill": {
     "duration": 0.011287,
     "end_time": "2025-02-14T02:46:18.598973",
     "exception": false,
     "start_time": "2025-02-14T02:46:18.587686",
     "status": "completed"
    },
    "tags": []
   },
   "outputs": [],
   "source": [
    "os.chdir(\"..\")\n",
    "os.chdir(\"input\")"
   ]
  },
  {
   "cell_type": "code",
   "execution_count": 5,
   "id": "cc36b5b6",
   "metadata": {
    "execution": {
     "iopub.execute_input": "2025-02-14T02:46:18.613355Z",
     "iopub.status.busy": "2025-02-14T02:46:18.613105Z",
     "iopub.status.idle": "2025-02-14T02:46:19.850779Z",
     "shell.execute_reply": "2025-02-14T02:46:19.850034Z"
    },
    "papermill": {
     "duration": 1.246468,
     "end_time": "2025-02-14T02:46:19.852314",
     "exception": false,
     "start_time": "2025-02-14T02:46:18.605846",
     "status": "completed"
    },
    "tags": []
   },
   "outputs": [],
   "source": [
    "X_signals_augmented = np.load('ogw3-augmented/X_signals_augmented.npy')\n",
    "X_damage_augmented = np.load('ogw3-augmented/X_damage_augmented.npy')\n",
    "X_freq_augmented = np.load('ogw3-augmented/X_freq_augmented.npy')\n"
   ]
  },
  {
   "cell_type": "code",
   "execution_count": 6,
   "id": "ceb02331",
   "metadata": {
    "execution": {
     "iopub.execute_input": "2025-02-14T02:46:19.867754Z",
     "iopub.status.busy": "2025-02-14T02:46:19.867526Z",
     "iopub.status.idle": "2025-02-14T02:46:19.871899Z",
     "shell.execute_reply": "2025-02-14T02:46:19.871027Z"
    },
    "papermill": {
     "duration": 0.01338,
     "end_time": "2025-02-14T02:46:19.873251",
     "exception": false,
     "start_time": "2025-02-14T02:46:19.859871",
     "status": "completed"
    },
    "tags": []
   },
   "outputs": [
    {
     "name": "stdout",
     "output_type": "stream",
     "text": [
      "X_signals shape:(2040, 4369, 1)\n",
      "X_signals shape:(2040, 14)\n",
      "X_signals shape:(2040, 12)\n"
     ]
    }
   ],
   "source": [
    "print(f\"X_signals shape:{X_signals_augmented.shape}\")\n",
    "print(f\"X_signals shape:{X_damage_augmented.shape}\")\n",
    "print(f\"X_signals shape:{X_freq_augmented.shape}\")"
   ]
  },
  {
   "cell_type": "code",
   "execution_count": 7,
   "id": "3f57dec6",
   "metadata": {
    "execution": {
     "iopub.execute_input": "2025-02-14T02:46:19.887842Z",
     "iopub.status.busy": "2025-02-14T02:46:19.887634Z",
     "iopub.status.idle": "2025-02-14T02:46:20.007173Z",
     "shell.execute_reply": "2025-02-14T02:46:20.006282Z"
    },
    "papermill": {
     "duration": 0.128516,
     "end_time": "2025-02-14T02:46:20.008575",
     "exception": false,
     "start_time": "2025-02-14T02:46:19.880059",
     "status": "completed"
    },
    "tags": []
   },
   "outputs": [
    {
     "name": "stdout",
     "output_type": "stream",
     "text": [
      "Summary for X_signals_augmented:\n",
      "Mean: [[-0.00808563]\n",
      " [-0.03676917]\n",
      " [ 0.00793156]\n",
      " ...\n",
      " [ 0.43494834]\n",
      " [ 0.47826858]\n",
      " [ 0.47794448]]\n",
      "Variance: [[0.04756828]\n",
      " [0.05728288]\n",
      " [0.05182533]\n",
      " ...\n",
      " [0.11266843]\n",
      " [0.11778735]\n",
      " [0.1192308 ]]\n",
      "Min: [[-1.]\n",
      " [-1.]\n",
      " [-1.]\n",
      " ...\n",
      " [-1.]\n",
      " [-1.]\n",
      " [-1.]]\n",
      "Max: [[1.]\n",
      " [1.]\n",
      " [1.]\n",
      " ...\n",
      " [1.]\n",
      " [1.]\n",
      " [1.]]\n",
      "--------------------------------------------------\n",
      "Summary for X_freq_augmented:\n",
      "Mean: [0.08333333 0.08333333 0.08333333 0.08333333 0.08333333 0.08333333\n",
      " 0.08333333 0.08333333 0.08333333 0.08333333 0.08333333 0.08333333]\n",
      "Variance: [0.07638889 0.07638889 0.07638889 0.07638889 0.07638889 0.07638889\n",
      " 0.07638889 0.07638889 0.07638889 0.07638889 0.07638889 0.07638889]\n",
      "Min: [0. 0. 0. 0. 0. 0. 0. 0. 0. 0. 0. 0.]\n",
      "Max: [1. 1. 1. 1. 1. 1. 1. 1. 1. 1. 1. 1.]\n",
      "--------------------------------------------------\n"
     ]
    }
   ],
   "source": [
    "import numpy as np\n",
    "\n",
    "def summarize_data(X, name):\n",
    "    print(f\"Summary for {name}:\")\n",
    "    print(\"Mean:\", np.mean(X, axis=0))\n",
    "    print(\"Variance:\", np.var(X, axis=0))\n",
    "    print(\"Min:\", np.min(X, axis=0))\n",
    "    print(\"Max:\", np.max(X, axis=0))\n",
    "    print(\"-\" * 50)\n",
    "\n",
    "summarize_data(X_signals_augmented, \"X_signals_augmented\")\n",
    "summarize_data(X_freq_augmented, \"X_freq_augmented\")\n"
   ]
  },
  {
   "cell_type": "code",
   "execution_count": 8,
   "id": "6aa5cd15",
   "metadata": {
    "execution": {
     "iopub.execute_input": "2025-02-14T02:46:20.024025Z",
     "iopub.status.busy": "2025-02-14T02:46:20.023774Z",
     "iopub.status.idle": "2025-02-14T02:46:20.045948Z",
     "shell.execute_reply": "2025-02-14T02:46:20.045284Z"
    },
    "papermill": {
     "duration": 0.031244,
     "end_time": "2025-02-14T02:46:20.047348",
     "exception": false,
     "start_time": "2025-02-14T02:46:20.016104",
     "status": "completed"
    },
    "tags": []
   },
   "outputs": [
    {
     "name": "stdout",
     "output_type": "stream",
     "text": [
      "Damage Condition Counts:\n",
      " 0.0    26520\n",
      "1.0     2040\n",
      "Name: count, dtype: int64\n"
     ]
    }
   ],
   "source": [
    "import pandas as pd\n",
    "\n",
    "damage_counts = pd.Series(X_damage_augmented.flatten()).value_counts()\n",
    "print(\"Damage Condition Counts:\\n\", damage_counts)\n"
   ]
  },
  {
   "cell_type": "markdown",
   "id": "598e845d",
   "metadata": {
    "papermill": {
     "duration": 0.00735,
     "end_time": "2025-02-14T02:46:20.061629",
     "exception": false,
     "start_time": "2025-02-14T02:46:20.054279",
     "status": "completed"
    },
    "tags": []
   },
   "source": [
    "# 2. Execution and model Training\n",
    "This is where the actual execution starts"
   ]
  },
  {
   "cell_type": "code",
   "execution_count": 9,
   "id": "8937c342",
   "metadata": {
    "execution": {
     "iopub.execute_input": "2025-02-14T02:46:20.077644Z",
     "iopub.status.busy": "2025-02-14T02:46:20.077419Z",
     "iopub.status.idle": "2025-02-14T02:46:20.080734Z",
     "shell.execute_reply": "2025-02-14T02:46:20.079975Z"
    },
    "papermill": {
     "duration": 0.012797,
     "end_time": "2025-02-14T02:46:20.081957",
     "exception": false,
     "start_time": "2025-02-14T02:46:20.069160",
     "status": "completed"
    },
    "tags": []
   },
   "outputs": [],
   "source": [
    "import numpy as np\n",
    "import pandas as pd\n",
    "import pickle\n",
    "import matplotlib.pyplot as plt\n",
    "import os"
   ]
  },
  {
   "cell_type": "code",
   "execution_count": 10,
   "id": "ba84144d",
   "metadata": {
    "execution": {
     "iopub.execute_input": "2025-02-14T02:46:20.097683Z",
     "iopub.status.busy": "2025-02-14T02:46:20.097446Z",
     "iopub.status.idle": "2025-02-14T02:46:20.100480Z",
     "shell.execute_reply": "2025-02-14T02:46:20.099814Z"
    },
    "papermill": {
     "duration": 0.012295,
     "end_time": "2025-02-14T02:46:20.101802",
     "exception": false,
     "start_time": "2025-02-14T02:46:20.089507",
     "status": "completed"
    },
    "tags": []
   },
   "outputs": [],
   "source": [
    "os.chdir(\"..\")\n",
    "os.chdir(\"working\")"
   ]
  },
  {
   "cell_type": "code",
   "execution_count": 11,
   "id": "e2561ec0",
   "metadata": {
    "execution": {
     "iopub.execute_input": "2025-02-14T02:46:20.116855Z",
     "iopub.status.busy": "2025-02-14T02:46:20.116661Z",
     "iopub.status.idle": "2025-02-14T02:46:20.121293Z",
     "shell.execute_reply": "2025-02-14T02:46:20.120461Z"
    },
    "papermill": {
     "duration": 0.013609,
     "end_time": "2025-02-14T02:46:20.122591",
     "exception": false,
     "start_time": "2025-02-14T02:46:20.108982",
     "status": "completed"
    },
    "tags": []
   },
   "outputs": [
    {
     "data": {
      "text/plain": [
       "'/kaggle'"
      ]
     },
     "execution_count": 11,
     "metadata": {},
     "output_type": "execute_result"
    }
   ],
   "source": [
    "os.chdir(\"..\")\n",
    "%pwd"
   ]
  },
  {
   "cell_type": "code",
   "execution_count": 12,
   "id": "a74f25ce",
   "metadata": {
    "execution": {
     "iopub.execute_input": "2025-02-14T02:46:20.137548Z",
     "iopub.status.busy": "2025-02-14T02:46:20.137341Z",
     "iopub.status.idle": "2025-02-14T02:46:22.655812Z",
     "shell.execute_reply": "2025-02-14T02:46:22.655107Z"
    },
    "papermill": {
     "duration": 2.527722,
     "end_time": "2025-02-14T02:46:22.657365",
     "exception": false,
     "start_time": "2025-02-14T02:46:20.129643",
     "status": "completed"
    },
    "tags": []
   },
   "outputs": [],
   "source": [
    "import numpy as np\n",
    "from sklearn.model_selection import train_test_split\n",
    "\n",
    "# ----------------------------------------------------------------------\n",
    "# Step 1: Convert one-hot encoded damage labels to scalar values.\n",
    "# ----------------------------------------------------------------------\n",
    "# Each sample in X_damage_augmented is a one-hot vector. We convert it to the\n",
    "# corresponding class index (i.e., 0 for undamaged, 1-13 for damage levels).\n",
    "y_augmented = np.argmax(X_damage_augmented, axis=1).astype(np.float32)\n",
    "# y_augmented now has shape (num_samples,)"
   ]
  },
  {
   "cell_type": "code",
   "execution_count": 13,
   "id": "0020bb39",
   "metadata": {
    "execution": {
     "iopub.execute_input": "2025-02-14T02:46:22.673280Z",
     "iopub.status.busy": "2025-02-14T02:46:22.672907Z",
     "iopub.status.idle": "2025-02-14T02:46:22.677642Z",
     "shell.execute_reply": "2025-02-14T02:46:22.676862Z"
    },
    "papermill": {
     "duration": 0.013707,
     "end_time": "2025-02-14T02:46:22.678823",
     "exception": false,
     "start_time": "2025-02-14T02:46:22.665116",
     "status": "completed"
    },
    "tags": []
   },
   "outputs": [
    {
     "data": {
      "text/plain": [
       "0.0"
      ]
     },
     "execution_count": 13,
     "metadata": {},
     "output_type": "execute_result"
    }
   ],
   "source": [
    "y_augmented.min()"
   ]
  },
  {
   "cell_type": "code",
   "execution_count": 14,
   "id": "6e75117e",
   "metadata": {
    "execution": {
     "iopub.execute_input": "2025-02-14T02:46:22.693950Z",
     "iopub.status.busy": "2025-02-14T02:46:22.693697Z",
     "iopub.status.idle": "2025-02-14T02:46:22.696936Z",
     "shell.execute_reply": "2025-02-14T02:46:22.696186Z"
    },
    "papermill": {
     "duration": 0.012234,
     "end_time": "2025-02-14T02:46:22.698257",
     "exception": false,
     "start_time": "2025-02-14T02:46:22.686023",
     "status": "completed"
    },
    "tags": []
   },
   "outputs": [],
   "source": [
    "# ----------------------------------------------------------------------\n",
    "# Step 2: Define the features.\n",
    "# ----------------------------------------------------------------------\n",
    "# For this regression task, we use the guided wave signals as the features.\n",
    "# (If you wish to include frequency information as additional features, you might\n",
    "# concatenate or process X_freq_augmented separately; here we assume only the signal is used.)\n",
    "X_augmented = X_signals_augmented  # shape: (num_samples, 4369, 1)"
   ]
  },
  {
   "cell_type": "code",
   "execution_count": 15,
   "id": "f84e6255",
   "metadata": {
    "execution": {
     "iopub.execute_input": "2025-02-14T02:46:22.713852Z",
     "iopub.status.busy": "2025-02-14T02:46:22.713635Z",
     "iopub.status.idle": "2025-02-14T02:46:22.743805Z",
     "shell.execute_reply": "2025-02-14T02:46:22.743106Z"
    },
    "papermill": {
     "duration": 0.039609,
     "end_time": "2025-02-14T02:46:22.745474",
     "exception": false,
     "start_time": "2025-02-14T02:46:22.705865",
     "status": "completed"
    },
    "tags": []
   },
   "outputs": [],
   "source": [
    "# ----------------------------------------------------------------------\n",
    "# Step 3: Split the data into training and test sets.\n",
    "# ----------------------------------------------------------------------\n",
    "# Here we use 80% of the data for training and 20% for testing.\n",
    "X_train, X_test, y_train, y_test = train_test_split(\n",
    "    X_augmented, y_augmented, test_size=0.1, random_state=42\n",
    ")\n"
   ]
  },
  {
   "cell_type": "code",
   "execution_count": 16,
   "id": "3cb624dc",
   "metadata": {
    "execution": {
     "iopub.execute_input": "2025-02-14T02:46:22.761399Z",
     "iopub.status.busy": "2025-02-14T02:46:22.761153Z",
     "iopub.status.idle": "2025-02-14T02:46:22.765484Z",
     "shell.execute_reply": "2025-02-14T02:46:22.764594Z"
    },
    "papermill": {
     "duration": 0.013756,
     "end_time": "2025-02-14T02:46:22.766717",
     "exception": false,
     "start_time": "2025-02-14T02:46:22.752961",
     "status": "completed"
    },
    "tags": []
   },
   "outputs": [
    {
     "name": "stdout",
     "output_type": "stream",
     "text": [
      "Training data shape: (1836, 4369, 1)\n",
      "Training labels shape: (1836,)\n",
      "Test data shape: (204, 4369, 1)\n",
      "Test labels shape: (204,)\n"
     ]
    }
   ],
   "source": [
    "\n",
    "\n",
    "\n",
    "# ----------------------------------------------------------------------\n",
    "# Step 4: Verify the shapes of the datasets.\n",
    "# ----------------------------------------------------------------------\n",
    "print(f\"Training data shape: {X_train.shape}\")  # Expected: (num_train_samples, 4369, 1)\n",
    "print(f\"Training labels shape: {y_train.shape}\")  # Expected: (num_train_samples,)\n",
    "print(f\"Test data shape: {X_test.shape}\")         # Expected: (num_test_samples, 4369, 1)\n",
    "print(f\"Test labels shape: {y_test.shape}\")         # Expected: (num_test_samples,)\n"
   ]
  },
  {
   "cell_type": "code",
   "execution_count": 17,
   "id": "5b9e5736",
   "metadata": {
    "execution": {
     "iopub.execute_input": "2025-02-14T02:46:22.781774Z",
     "iopub.status.busy": "2025-02-14T02:46:22.781572Z",
     "iopub.status.idle": "2025-02-14T02:46:22.785386Z",
     "shell.execute_reply": "2025-02-14T02:46:22.784737Z"
    },
    "papermill": {
     "duration": 0.012607,
     "end_time": "2025-02-14T02:46:22.786677",
     "exception": false,
     "start_time": "2025-02-14T02:46:22.774070",
     "status": "completed"
    },
    "tags": []
   },
   "outputs": [],
   "source": [
    "def print_label_distribution(y, set_name):\n",
    "    \"\"\"Print the distribution of labels in a dataset.\"\"\"\n",
    "    print(f\"\\n{set_name} label distribution:\")\n",
    "    print(f\"- Baseline samples (0): {np.sum(y == 0)}\")\n",
    "    for damage_size in range(1, 14):\n",
    "        print(f\"- Damage size {damage_size}: {np.sum(y == damage_size)}\")"
   ]
  },
  {
   "cell_type": "code",
   "execution_count": 18,
   "id": "513ed374",
   "metadata": {
    "execution": {
     "iopub.execute_input": "2025-02-14T02:46:22.801667Z",
     "iopub.status.busy": "2025-02-14T02:46:22.801470Z",
     "iopub.status.idle": "2025-02-14T02:46:22.811452Z",
     "shell.execute_reply": "2025-02-14T02:46:22.810842Z"
    },
    "papermill": {
     "duration": 0.018923,
     "end_time": "2025-02-14T02:46:22.812716",
     "exception": false,
     "start_time": "2025-02-14T02:46:22.793793",
     "status": "completed"
    },
    "tags": []
   },
   "outputs": [
    {
     "name": "stdout",
     "output_type": "stream",
     "text": [
      "\n",
      "Training set label distribution:\n",
      "- Baseline samples (0): 433\n",
      "- Damage size 1: 107\n",
      "- Damage size 2: 107\n",
      "- Damage size 3: 105\n",
      "- Damage size 4: 106\n",
      "- Damage size 5: 105\n",
      "- Damage size 6: 107\n",
      "- Damage size 7: 115\n",
      "- Damage size 8: 109\n",
      "- Damage size 9: 107\n",
      "- Damage size 10: 111\n",
      "- Damage size 11: 109\n",
      "- Damage size 12: 111\n",
      "- Damage size 13: 104\n",
      "\n",
      "Test set label distribution:\n",
      "- Baseline samples (0): 47\n",
      "- Damage size 1: 13\n",
      "- Damage size 2: 13\n",
      "- Damage size 3: 15\n",
      "- Damage size 4: 14\n",
      "- Damage size 5: 15\n",
      "- Damage size 6: 13\n",
      "- Damage size 7: 5\n",
      "- Damage size 8: 11\n",
      "- Damage size 9: 13\n",
      "- Damage size 10: 9\n",
      "- Damage size 11: 11\n",
      "- Damage size 12: 9\n",
      "- Damage size 13: 16\n"
     ]
    }
   ],
   "source": [
    "# Print label distribution for training and test sets\n",
    "print_label_distribution(y_train, \"Training set\")\n",
    "print_label_distribution(y_test, \"Test set\")"
   ]
  },
  {
   "cell_type": "code",
   "execution_count": 19,
   "id": "c64c592b",
   "metadata": {
    "execution": {
     "iopub.execute_input": "2025-02-14T02:46:22.828645Z",
     "iopub.status.busy": "2025-02-14T02:46:22.828443Z",
     "iopub.status.idle": "2025-02-14T02:46:22.847953Z",
     "shell.execute_reply": "2025-02-14T02:46:22.847305Z"
    },
    "papermill": {
     "duration": 0.028973,
     "end_time": "2025-02-14T02:46:22.849222",
     "exception": false,
     "start_time": "2025-02-14T02:46:22.820249",
     "status": "completed"
    },
    "tags": []
   },
   "outputs": [],
   "source": [
    "# Convert input data to float32\n",
    "X_train = X_train.astype('float32')\n",
    "X_test = X_test.astype('float32')"
   ]
  },
  {
   "cell_type": "code",
   "execution_count": 20,
   "id": "901e628c",
   "metadata": {
    "execution": {
     "iopub.execute_input": "2025-02-14T02:46:22.864876Z",
     "iopub.status.busy": "2025-02-14T02:46:22.864621Z",
     "iopub.status.idle": "2025-02-14T02:46:22.868070Z",
     "shell.execute_reply": "2025-02-14T02:46:22.867434Z"
    },
    "papermill": {
     "duration": 0.01234,
     "end_time": "2025-02-14T02:46:22.869214",
     "exception": false,
     "start_time": "2025-02-14T02:46:22.856874",
     "status": "completed"
    },
    "tags": []
   },
   "outputs": [],
   "source": [
    "y_train = y_train.astype('float32')\n",
    "y_test = y_test.astype('float32')"
   ]
  },
  {
   "cell_type": "code",
   "execution_count": 21,
   "id": "fd6cad32",
   "metadata": {
    "execution": {
     "iopub.execute_input": "2025-02-14T02:46:22.884418Z",
     "iopub.status.busy": "2025-02-14T02:46:22.884124Z",
     "iopub.status.idle": "2025-02-14T02:46:22.901697Z",
     "shell.execute_reply": "2025-02-14T02:46:22.900876Z"
    },
    "papermill": {
     "duration": 0.026339,
     "end_time": "2025-02-14T02:46:22.902981",
     "exception": false,
     "start_time": "2025-02-14T02:46:22.876642",
     "status": "completed"
    },
    "tags": []
   },
   "outputs": [
    {
     "name": "stdout",
     "output_type": "stream",
     "text": [
      "Min values after scaling: [-1.040155  -0.9812768 -1.        ... -1.        -0.9722817 -0.9399686]\n",
      "Max values after scaling: [1.0318567  0.94322634 1.         ... 1.         0.9312466  1.0010613 ]\n"
     ]
    }
   ],
   "source": [
    "print(\"Min values after scaling:\", np.min(X_train, axis=(1,2)))\n",
    "print(\"Max values after scaling:\", np.max(X_train, axis=(1,2)))"
   ]
  },
  {
   "cell_type": "code",
   "execution_count": 22,
   "id": "bfde454d",
   "metadata": {
    "execution": {
     "iopub.execute_input": "2025-02-14T02:46:22.918690Z",
     "iopub.status.busy": "2025-02-14T02:46:22.918469Z",
     "iopub.status.idle": "2025-02-14T02:46:22.923033Z",
     "shell.execute_reply": "2025-02-14T02:46:22.922258Z"
    },
    "papermill": {
     "duration": 0.013576,
     "end_time": "2025-02-14T02:46:22.924241",
     "exception": false,
     "start_time": "2025-02-14T02:46:22.910665",
     "status": "completed"
    },
    "tags": []
   },
   "outputs": [
    {
     "name": "stdout",
     "output_type": "stream",
     "text": [
      "X_train dtype: float32\n",
      "y_train dtype: float32\n"
     ]
    }
   ],
   "source": [
    "print(\"X_train dtype:\", X_train.dtype)  # Should print float32\n",
    "print(\"y_train dtype:\", y_train.dtype)  # Should print float32"
   ]
  },
  {
   "cell_type": "code",
   "execution_count": 23,
   "id": "3e52f623",
   "metadata": {
    "execution": {
     "iopub.execute_input": "2025-02-14T02:46:22.939742Z",
     "iopub.status.busy": "2025-02-14T02:46:22.939479Z",
     "iopub.status.idle": "2025-02-14T02:46:22.946804Z",
     "shell.execute_reply": "2025-02-14T02:46:22.946093Z"
    },
    "papermill": {
     "duration": 0.016341,
     "end_time": "2025-02-14T02:46:22.948033",
     "exception": false,
     "start_time": "2025-02-14T02:46:22.931692",
     "status": "completed"
    },
    "tags": []
   },
   "outputs": [
    {
     "name": "stdout",
     "output_type": "stream",
     "text": [
      "Before Normalizing training targets (first 5): [ 5.  3. 13.  1. 10.]\n",
      "Before Normalizing test targets (first 5): [7. 0. 6. 1. 8.]\n",
      "Normalized training targets (first 5): [0.3846154  0.23076923 1.         0.07692308 0.7692308 ]\n",
      "Normalized test targets (first 5): [0.53846157 0.         0.46153846 0.07692308 0.61538464]\n"
     ]
    }
   ],
   "source": [
    "import numpy as np\n",
    "\n",
    "# Compute the minimum and maximum values from the training targets.\n",
    "y_min = np.min(y_train)\n",
    "y_max = np.max(y_train)\n",
    "\n",
    "# Normalize the training and test targets.\n",
    "y_train_norm = (y_train - y_min) / (y_max - y_min)\n",
    "y_test_norm = (y_test - y_min) / (y_max - y_min)\n",
    "\n",
    "\n",
    "print(\"Before Normalizing training targets (first 5):\", y_train[:5])\n",
    "print(\"Before Normalizing test targets (first 5):\", y_test[:5])\n",
    "\n",
    "print(\"Normalized training targets (first 5):\", y_train_norm[:5])\n",
    "print(\"Normalized test targets (first 5):\", y_test_norm[:5])\n"
   ]
  },
  {
   "cell_type": "markdown",
   "id": "9e9faa25",
   "metadata": {
    "papermill": {
     "duration": 0.007061,
     "end_time": "2025-02-14T02:46:22.962564",
     "exception": false,
     "start_time": "2025-02-14T02:46:22.955503",
     "status": "completed"
    },
    "tags": []
   },
   "source": [
    "# 3. Model Architecture"
   ]
  },
  {
   "cell_type": "code",
   "execution_count": 24,
   "id": "8b7e8c96",
   "metadata": {
    "execution": {
     "iopub.execute_input": "2025-02-14T02:46:22.978457Z",
     "iopub.status.busy": "2025-02-14T02:46:22.978218Z",
     "iopub.status.idle": "2025-02-14T02:46:42.169631Z",
     "shell.execute_reply": "2025-02-14T02:46:42.168661Z"
    },
    "papermill": {
     "duration": 19.201077,
     "end_time": "2025-02-14T02:46:42.171359",
     "exception": false,
     "start_time": "2025-02-14T02:46:22.970282",
     "status": "completed"
    },
    "tags": []
   },
   "outputs": [],
   "source": [
    "import tensorflow as tf\n",
    "from tensorflow.keras import layers, models"
   ]
  },
  {
   "cell_type": "code",
   "execution_count": 25,
   "id": "a84c7c4e",
   "metadata": {
    "execution": {
     "iopub.execute_input": "2025-02-14T02:46:42.187526Z",
     "iopub.status.busy": "2025-02-14T02:46:42.187034Z",
     "iopub.status.idle": "2025-02-14T02:46:42.190284Z",
     "shell.execute_reply": "2025-02-14T02:46:42.189652Z"
    },
    "papermill": {
     "duration": 0.012395,
     "end_time": "2025-02-14T02:46:42.191569",
     "exception": false,
     "start_time": "2025-02-14T02:46:42.179174",
     "status": "completed"
    },
    "tags": []
   },
   "outputs": [],
   "source": [
    "tf.keras.backend.set_floatx('float32')"
   ]
  },
  {
   "cell_type": "code",
   "execution_count": 26,
   "id": "ee7b58fc",
   "metadata": {
    "execution": {
     "iopub.execute_input": "2025-02-14T02:46:42.207010Z",
     "iopub.status.busy": "2025-02-14T02:46:42.206784Z",
     "iopub.status.idle": "2025-02-14T02:46:42.210048Z",
     "shell.execute_reply": "2025-02-14T02:46:42.209289Z"
    },
    "papermill": {
     "duration": 0.012545,
     "end_time": "2025-02-14T02:46:42.211435",
     "exception": false,
     "start_time": "2025-02-14T02:46:42.198890",
     "status": "completed"
    },
    "tags": []
   },
   "outputs": [],
   "source": [
    "import tensorflow as tf\n",
    "from tensorflow import keras\n",
    "from tensorflow.keras import layers"
   ]
  },
  {
   "cell_type": "code",
   "execution_count": 27,
   "id": "ea7bfe75",
   "metadata": {
    "execution": {
     "iopub.execute_input": "2025-02-14T02:46:42.226955Z",
     "iopub.status.busy": "2025-02-14T02:46:42.226733Z",
     "iopub.status.idle": "2025-02-14T02:46:44.294999Z",
     "shell.execute_reply": "2025-02-14T02:46:44.294086Z"
    },
    "papermill": {
     "duration": 2.077717,
     "end_time": "2025-02-14T02:46:44.296479",
     "exception": false,
     "start_time": "2025-02-14T02:46:42.218762",
     "status": "completed"
    },
    "tags": []
   },
   "outputs": [],
   "source": [
    "# Multi-GPU setup\n",
    "strategy = tf.distribute.MirroredStrategy()"
   ]
  },
  {
   "cell_type": "code",
   "execution_count": 28,
   "id": "2885277c",
   "metadata": {
    "execution": {
     "iopub.execute_input": "2025-02-14T02:46:44.312622Z",
     "iopub.status.busy": "2025-02-14T02:46:44.312389Z",
     "iopub.status.idle": "2025-02-14T02:46:44.317285Z",
     "shell.execute_reply": "2025-02-14T02:46:44.316540Z"
    },
    "papermill": {
     "duration": 0.014362,
     "end_time": "2025-02-14T02:46:44.318501",
     "exception": false,
     "start_time": "2025-02-14T02:46:44.304139",
     "status": "completed"
    },
    "tags": []
   },
   "outputs": [],
   "source": [
    "# Transformer Encoder block definition remains unchanged\n",
    "def transformer_encoder(inputs, head_size, num_heads, ff_dim, dropout=0):\n",
    "    # Attention and Normalization\n",
    "    x = layers.MultiHeadAttention(\n",
    "        key_dim=head_size, num_heads=num_heads, dropout=dropout\n",
    "    )(inputs, inputs)\n",
    "    x = layers.Dropout(dropout)(x)\n",
    "    x = layers.LayerNormalization(epsilon=1e-6)(x)\n",
    "    res = x + inputs\n",
    "\n",
    "    # Feed Forward part\n",
    "    x = layers.Conv1D(filters=ff_dim, kernel_size=1, activation=\"relu\")(res)\n",
    "    x = layers.Dropout(dropout)(x)\n",
    "    x = layers.Conv1D(filters=inputs.shape[-1], kernel_size=1)(x)\n",
    "    x = layers.LayerNormalization(epsilon=1e-6)(x)\n",
    "    return x + res\n"
   ]
  },
  {
   "cell_type": "code",
   "execution_count": 29,
   "id": "d461d47b",
   "metadata": {
    "execution": {
     "iopub.execute_input": "2025-02-14T02:46:44.333682Z",
     "iopub.status.busy": "2025-02-14T02:46:44.333470Z",
     "iopub.status.idle": "2025-02-14T02:46:44.337922Z",
     "shell.execute_reply": "2025-02-14T02:46:44.337370Z"
    },
    "papermill": {
     "duration": 0.01325,
     "end_time": "2025-02-14T02:46:44.338974",
     "exception": false,
     "start_time": "2025-02-14T02:46:44.325724",
     "status": "completed"
    },
    "tags": []
   },
   "outputs": [],
   "source": [
    "# Model building function adapted for regression\n",
    "def build_regression_model(\n",
    "    input_shape,\n",
    "    head_size,\n",
    "    num_heads,\n",
    "    ff_dim,\n",
    "    num_transformer_blocks,\n",
    "    mlp_units,\n",
    "    dropout=0,\n",
    "    mlp_dropout=0,\n",
    "):\n",
    "    inputs = keras.Input(shape=input_shape)\n",
    "    # Reshape the input to 3D (batch_size, 874, 1)\n",
    "    x = layers.Reshape((input_shape[0], 1))(inputs)\n",
    "    \n",
    "    # Apply multiple Transformer Encoder blocks\n",
    "    for _ in range(num_transformer_blocks):\n",
    "        x = transformer_encoder(x, head_size, num_heads, ff_dim, dropout)\n",
    "\n",
    "    # Flatten the tensor for the MLP part\n",
    "    x = layers.Flatten()(x)\n",
    "    \n",
    "    # MLP layers\n",
    "    for dim in mlp_units:\n",
    "        x = layers.Dense(dim, activation=\"relu\")(x)\n",
    "        x = layers.Dropout(mlp_dropout)(x)\n",
    "    \n",
    "    # Output layer for regression: Predict a single value.\n",
    "    # Using a sigmoid activation and scaling by 13 ensures outputs in [0, 13].\n",
    "    dense = layers.Dense(1, activation=\"sigmoid\")(x)\n",
    "    outputs = layers.Lambda(lambda x: 13 * x)(dense)\n",
    "    \n",
    "    return keras.Model(inputs, outputs)\n"
   ]
  },
  {
   "cell_type": "code",
   "execution_count": 30,
   "id": "7b42ae18",
   "metadata": {
    "execution": {
     "iopub.execute_input": "2025-02-14T02:46:44.355448Z",
     "iopub.status.busy": "2025-02-14T02:46:44.355165Z",
     "iopub.status.idle": "2025-02-14T02:46:46.750929Z",
     "shell.execute_reply": "2025-02-14T02:46:46.750063Z"
    },
    "papermill": {
     "duration": 2.405777,
     "end_time": "2025-02-14T02:46:46.752187",
     "exception": false,
     "start_time": "2025-02-14T02:46:44.346410",
     "status": "completed"
    },
    "tags": []
   },
   "outputs": [
    {
     "data": {
      "text/html": [
       "<pre style=\"white-space:pre;overflow-x:auto;line-height:normal;font-family:Menlo,'DejaVu Sans Mono',consolas,'Courier New',monospace\"><span style=\"font-weight: bold\">Model: \"functional\"</span>\n",
       "</pre>\n"
      ],
      "text/plain": [
       "\u001b[1mModel: \"functional\"\u001b[0m\n"
      ]
     },
     "metadata": {},
     "output_type": "display_data"
    },
    {
     "data": {
      "text/html": [
       "<pre style=\"white-space:pre;overflow-x:auto;line-height:normal;font-family:Menlo,'DejaVu Sans Mono',consolas,'Courier New',monospace\">┏━━━━━━━━━━━━━━━━━━━━━━━━━━━┳━━━━━━━━━━━━━━━━━━━━━━━━┳━━━━━━━━━━━━━━━━┳━━━━━━━━━━━━━━━━━━━━━━━━┓\n",
       "┃<span style=\"font-weight: bold\"> Layer (type)              </span>┃<span style=\"font-weight: bold\"> Output Shape           </span>┃<span style=\"font-weight: bold\">        Param # </span>┃<span style=\"font-weight: bold\"> Connected to           </span>┃\n",
       "┡━━━━━━━━━━━━━━━━━━━━━━━━━━━╇━━━━━━━━━━━━━━━━━━━━━━━━╇━━━━━━━━━━━━━━━━╇━━━━━━━━━━━━━━━━━━━━━━━━┩\n",
       "│ input_layer (<span style=\"color: #0087ff; text-decoration-color: #0087ff\">InputLayer</span>)  │ (<span style=\"color: #00d7ff; text-decoration-color: #00d7ff\">None</span>, <span style=\"color: #00af00; text-decoration-color: #00af00\">874</span>)            │              <span style=\"color: #00af00; text-decoration-color: #00af00\">0</span> │ -                      │\n",
       "├───────────────────────────┼────────────────────────┼────────────────┼────────────────────────┤\n",
       "│ reshape (<span style=\"color: #0087ff; text-decoration-color: #0087ff\">Reshape</span>)         │ (<span style=\"color: #00d7ff; text-decoration-color: #00d7ff\">None</span>, <span style=\"color: #00af00; text-decoration-color: #00af00\">874</span>, <span style=\"color: #00af00; text-decoration-color: #00af00\">1</span>)         │              <span style=\"color: #00af00; text-decoration-color: #00af00\">0</span> │ input_layer[<span style=\"color: #00af00; text-decoration-color: #00af00\">0</span>][<span style=\"color: #00af00; text-decoration-color: #00af00\">0</span>]      │\n",
       "├───────────────────────────┼────────────────────────┼────────────────┼────────────────────────┤\n",
       "│ multi_head_attention      │ (<span style=\"color: #00d7ff; text-decoration-color: #00d7ff\">None</span>, <span style=\"color: #00af00; text-decoration-color: #00af00\">874</span>, <span style=\"color: #00af00; text-decoration-color: #00af00\">1</span>)         │         <span style=\"color: #00af00; text-decoration-color: #00af00\">28,673</span> │ reshape[<span style=\"color: #00af00; text-decoration-color: #00af00\">0</span>][<span style=\"color: #00af00; text-decoration-color: #00af00\">0</span>],         │\n",
       "│ (<span style=\"color: #0087ff; text-decoration-color: #0087ff\">MultiHeadAttention</span>)      │                        │                │ reshape[<span style=\"color: #00af00; text-decoration-color: #00af00\">0</span>][<span style=\"color: #00af00; text-decoration-color: #00af00\">0</span>]          │\n",
       "├───────────────────────────┼────────────────────────┼────────────────┼────────────────────────┤\n",
       "│ dropout_1 (<span style=\"color: #0087ff; text-decoration-color: #0087ff\">Dropout</span>)       │ (<span style=\"color: #00d7ff; text-decoration-color: #00d7ff\">None</span>, <span style=\"color: #00af00; text-decoration-color: #00af00\">874</span>, <span style=\"color: #00af00; text-decoration-color: #00af00\">1</span>)         │              <span style=\"color: #00af00; text-decoration-color: #00af00\">0</span> │ multi_head_attention[<span style=\"color: #00af00; text-decoration-color: #00af00\">…</span> │\n",
       "├───────────────────────────┼────────────────────────┼────────────────┼────────────────────────┤\n",
       "│ layer_normalization       │ (<span style=\"color: #00d7ff; text-decoration-color: #00d7ff\">None</span>, <span style=\"color: #00af00; text-decoration-color: #00af00\">874</span>, <span style=\"color: #00af00; text-decoration-color: #00af00\">1</span>)         │              <span style=\"color: #00af00; text-decoration-color: #00af00\">2</span> │ dropout_1[<span style=\"color: #00af00; text-decoration-color: #00af00\">0</span>][<span style=\"color: #00af00; text-decoration-color: #00af00\">0</span>]        │\n",
       "│ (<span style=\"color: #0087ff; text-decoration-color: #0087ff\">LayerNormalization</span>)      │                        │                │                        │\n",
       "├───────────────────────────┼────────────────────────┼────────────────┼────────────────────────┤\n",
       "│ add (<span style=\"color: #0087ff; text-decoration-color: #0087ff\">Add</span>)                 │ (<span style=\"color: #00d7ff; text-decoration-color: #00d7ff\">None</span>, <span style=\"color: #00af00; text-decoration-color: #00af00\">874</span>, <span style=\"color: #00af00; text-decoration-color: #00af00\">1</span>)         │              <span style=\"color: #00af00; text-decoration-color: #00af00\">0</span> │ layer_normalization[<span style=\"color: #00af00; text-decoration-color: #00af00\">0</span>… │\n",
       "│                           │                        │                │ reshape[<span style=\"color: #00af00; text-decoration-color: #00af00\">0</span>][<span style=\"color: #00af00; text-decoration-color: #00af00\">0</span>]          │\n",
       "├───────────────────────────┼────────────────────────┼────────────────┼────────────────────────┤\n",
       "│ conv1d (<span style=\"color: #0087ff; text-decoration-color: #0087ff\">Conv1D</span>)           │ (<span style=\"color: #00d7ff; text-decoration-color: #00d7ff\">None</span>, <span style=\"color: #00af00; text-decoration-color: #00af00\">874</span>, <span style=\"color: #00af00; text-decoration-color: #00af00\">128</span>)       │            <span style=\"color: #00af00; text-decoration-color: #00af00\">256</span> │ add[<span style=\"color: #00af00; text-decoration-color: #00af00\">0</span>][<span style=\"color: #00af00; text-decoration-color: #00af00\">0</span>]              │\n",
       "├───────────────────────────┼────────────────────────┼────────────────┼────────────────────────┤\n",
       "│ dropout_2 (<span style=\"color: #0087ff; text-decoration-color: #0087ff\">Dropout</span>)       │ (<span style=\"color: #00d7ff; text-decoration-color: #00d7ff\">None</span>, <span style=\"color: #00af00; text-decoration-color: #00af00\">874</span>, <span style=\"color: #00af00; text-decoration-color: #00af00\">128</span>)       │              <span style=\"color: #00af00; text-decoration-color: #00af00\">0</span> │ conv1d[<span style=\"color: #00af00; text-decoration-color: #00af00\">0</span>][<span style=\"color: #00af00; text-decoration-color: #00af00\">0</span>]           │\n",
       "├───────────────────────────┼────────────────────────┼────────────────┼────────────────────────┤\n",
       "│ conv1d_1 (<span style=\"color: #0087ff; text-decoration-color: #0087ff\">Conv1D</span>)         │ (<span style=\"color: #00d7ff; text-decoration-color: #00d7ff\">None</span>, <span style=\"color: #00af00; text-decoration-color: #00af00\">874</span>, <span style=\"color: #00af00; text-decoration-color: #00af00\">1</span>)         │            <span style=\"color: #00af00; text-decoration-color: #00af00\">129</span> │ dropout_2[<span style=\"color: #00af00; text-decoration-color: #00af00\">0</span>][<span style=\"color: #00af00; text-decoration-color: #00af00\">0</span>]        │\n",
       "├───────────────────────────┼────────────────────────┼────────────────┼────────────────────────┤\n",
       "│ layer_normalization_1     │ (<span style=\"color: #00d7ff; text-decoration-color: #00d7ff\">None</span>, <span style=\"color: #00af00; text-decoration-color: #00af00\">874</span>, <span style=\"color: #00af00; text-decoration-color: #00af00\">1</span>)         │              <span style=\"color: #00af00; text-decoration-color: #00af00\">2</span> │ conv1d_1[<span style=\"color: #00af00; text-decoration-color: #00af00\">0</span>][<span style=\"color: #00af00; text-decoration-color: #00af00\">0</span>]         │\n",
       "│ (<span style=\"color: #0087ff; text-decoration-color: #0087ff\">LayerNormalization</span>)      │                        │                │                        │\n",
       "├───────────────────────────┼────────────────────────┼────────────────┼────────────────────────┤\n",
       "│ add_1 (<span style=\"color: #0087ff; text-decoration-color: #0087ff\">Add</span>)               │ (<span style=\"color: #00d7ff; text-decoration-color: #00d7ff\">None</span>, <span style=\"color: #00af00; text-decoration-color: #00af00\">874</span>, <span style=\"color: #00af00; text-decoration-color: #00af00\">1</span>)         │              <span style=\"color: #00af00; text-decoration-color: #00af00\">0</span> │ layer_normalization_1… │\n",
       "│                           │                        │                │ add[<span style=\"color: #00af00; text-decoration-color: #00af00\">0</span>][<span style=\"color: #00af00; text-decoration-color: #00af00\">0</span>]              │\n",
       "├───────────────────────────┼────────────────────────┼────────────────┼────────────────────────┤\n",
       "│ multi_head_attention_1    │ (<span style=\"color: #00d7ff; text-decoration-color: #00d7ff\">None</span>, <span style=\"color: #00af00; text-decoration-color: #00af00\">874</span>, <span style=\"color: #00af00; text-decoration-color: #00af00\">1</span>)         │         <span style=\"color: #00af00; text-decoration-color: #00af00\">28,673</span> │ add_1[<span style=\"color: #00af00; text-decoration-color: #00af00\">0</span>][<span style=\"color: #00af00; text-decoration-color: #00af00\">0</span>],           │\n",
       "│ (<span style=\"color: #0087ff; text-decoration-color: #0087ff\">MultiHeadAttention</span>)      │                        │                │ add_1[<span style=\"color: #00af00; text-decoration-color: #00af00\">0</span>][<span style=\"color: #00af00; text-decoration-color: #00af00\">0</span>]            │\n",
       "├───────────────────────────┼────────────────────────┼────────────────┼────────────────────────┤\n",
       "│ dropout_4 (<span style=\"color: #0087ff; text-decoration-color: #0087ff\">Dropout</span>)       │ (<span style=\"color: #00d7ff; text-decoration-color: #00d7ff\">None</span>, <span style=\"color: #00af00; text-decoration-color: #00af00\">874</span>, <span style=\"color: #00af00; text-decoration-color: #00af00\">1</span>)         │              <span style=\"color: #00af00; text-decoration-color: #00af00\">0</span> │ multi_head_attention_… │\n",
       "├───────────────────────────┼────────────────────────┼────────────────┼────────────────────────┤\n",
       "│ layer_normalization_2     │ (<span style=\"color: #00d7ff; text-decoration-color: #00d7ff\">None</span>, <span style=\"color: #00af00; text-decoration-color: #00af00\">874</span>, <span style=\"color: #00af00; text-decoration-color: #00af00\">1</span>)         │              <span style=\"color: #00af00; text-decoration-color: #00af00\">2</span> │ dropout_4[<span style=\"color: #00af00; text-decoration-color: #00af00\">0</span>][<span style=\"color: #00af00; text-decoration-color: #00af00\">0</span>]        │\n",
       "│ (<span style=\"color: #0087ff; text-decoration-color: #0087ff\">LayerNormalization</span>)      │                        │                │                        │\n",
       "├───────────────────────────┼────────────────────────┼────────────────┼────────────────────────┤\n",
       "│ add_2 (<span style=\"color: #0087ff; text-decoration-color: #0087ff\">Add</span>)               │ (<span style=\"color: #00d7ff; text-decoration-color: #00d7ff\">None</span>, <span style=\"color: #00af00; text-decoration-color: #00af00\">874</span>, <span style=\"color: #00af00; text-decoration-color: #00af00\">1</span>)         │              <span style=\"color: #00af00; text-decoration-color: #00af00\">0</span> │ layer_normalization_2… │\n",
       "│                           │                        │                │ add_1[<span style=\"color: #00af00; text-decoration-color: #00af00\">0</span>][<span style=\"color: #00af00; text-decoration-color: #00af00\">0</span>]            │\n",
       "├───────────────────────────┼────────────────────────┼────────────────┼────────────────────────┤\n",
       "│ conv1d_2 (<span style=\"color: #0087ff; text-decoration-color: #0087ff\">Conv1D</span>)         │ (<span style=\"color: #00d7ff; text-decoration-color: #00d7ff\">None</span>, <span style=\"color: #00af00; text-decoration-color: #00af00\">874</span>, <span style=\"color: #00af00; text-decoration-color: #00af00\">128</span>)       │            <span style=\"color: #00af00; text-decoration-color: #00af00\">256</span> │ add_2[<span style=\"color: #00af00; text-decoration-color: #00af00\">0</span>][<span style=\"color: #00af00; text-decoration-color: #00af00\">0</span>]            │\n",
       "├───────────────────────────┼────────────────────────┼────────────────┼────────────────────────┤\n",
       "│ dropout_5 (<span style=\"color: #0087ff; text-decoration-color: #0087ff\">Dropout</span>)       │ (<span style=\"color: #00d7ff; text-decoration-color: #00d7ff\">None</span>, <span style=\"color: #00af00; text-decoration-color: #00af00\">874</span>, <span style=\"color: #00af00; text-decoration-color: #00af00\">128</span>)       │              <span style=\"color: #00af00; text-decoration-color: #00af00\">0</span> │ conv1d_2[<span style=\"color: #00af00; text-decoration-color: #00af00\">0</span>][<span style=\"color: #00af00; text-decoration-color: #00af00\">0</span>]         │\n",
       "├───────────────────────────┼────────────────────────┼────────────────┼────────────────────────┤\n",
       "│ conv1d_3 (<span style=\"color: #0087ff; text-decoration-color: #0087ff\">Conv1D</span>)         │ (<span style=\"color: #00d7ff; text-decoration-color: #00d7ff\">None</span>, <span style=\"color: #00af00; text-decoration-color: #00af00\">874</span>, <span style=\"color: #00af00; text-decoration-color: #00af00\">1</span>)         │            <span style=\"color: #00af00; text-decoration-color: #00af00\">129</span> │ dropout_5[<span style=\"color: #00af00; text-decoration-color: #00af00\">0</span>][<span style=\"color: #00af00; text-decoration-color: #00af00\">0</span>]        │\n",
       "├───────────────────────────┼────────────────────────┼────────────────┼────────────────────────┤\n",
       "│ layer_normalization_3     │ (<span style=\"color: #00d7ff; text-decoration-color: #00d7ff\">None</span>, <span style=\"color: #00af00; text-decoration-color: #00af00\">874</span>, <span style=\"color: #00af00; text-decoration-color: #00af00\">1</span>)         │              <span style=\"color: #00af00; text-decoration-color: #00af00\">2</span> │ conv1d_3[<span style=\"color: #00af00; text-decoration-color: #00af00\">0</span>][<span style=\"color: #00af00; text-decoration-color: #00af00\">0</span>]         │\n",
       "│ (<span style=\"color: #0087ff; text-decoration-color: #0087ff\">LayerNormalization</span>)      │                        │                │                        │\n",
       "├───────────────────────────┼────────────────────────┼────────────────┼────────────────────────┤\n",
       "│ add_3 (<span style=\"color: #0087ff; text-decoration-color: #0087ff\">Add</span>)               │ (<span style=\"color: #00d7ff; text-decoration-color: #00d7ff\">None</span>, <span style=\"color: #00af00; text-decoration-color: #00af00\">874</span>, <span style=\"color: #00af00; text-decoration-color: #00af00\">1</span>)         │              <span style=\"color: #00af00; text-decoration-color: #00af00\">0</span> │ layer_normalization_3… │\n",
       "│                           │                        │                │ add_2[<span style=\"color: #00af00; text-decoration-color: #00af00\">0</span>][<span style=\"color: #00af00; text-decoration-color: #00af00\">0</span>]            │\n",
       "├───────────────────────────┼────────────────────────┼────────────────┼────────────────────────┤\n",
       "│ multi_head_attention_2    │ (<span style=\"color: #00d7ff; text-decoration-color: #00d7ff\">None</span>, <span style=\"color: #00af00; text-decoration-color: #00af00\">874</span>, <span style=\"color: #00af00; text-decoration-color: #00af00\">1</span>)         │         <span style=\"color: #00af00; text-decoration-color: #00af00\">28,673</span> │ add_3[<span style=\"color: #00af00; text-decoration-color: #00af00\">0</span>][<span style=\"color: #00af00; text-decoration-color: #00af00\">0</span>],           │\n",
       "│ (<span style=\"color: #0087ff; text-decoration-color: #0087ff\">MultiHeadAttention</span>)      │                        │                │ add_3[<span style=\"color: #00af00; text-decoration-color: #00af00\">0</span>][<span style=\"color: #00af00; text-decoration-color: #00af00\">0</span>]            │\n",
       "├───────────────────────────┼────────────────────────┼────────────────┼────────────────────────┤\n",
       "│ dropout_7 (<span style=\"color: #0087ff; text-decoration-color: #0087ff\">Dropout</span>)       │ (<span style=\"color: #00d7ff; text-decoration-color: #00d7ff\">None</span>, <span style=\"color: #00af00; text-decoration-color: #00af00\">874</span>, <span style=\"color: #00af00; text-decoration-color: #00af00\">1</span>)         │              <span style=\"color: #00af00; text-decoration-color: #00af00\">0</span> │ multi_head_attention_… │\n",
       "├───────────────────────────┼────────────────────────┼────────────────┼────────────────────────┤\n",
       "│ layer_normalization_4     │ (<span style=\"color: #00d7ff; text-decoration-color: #00d7ff\">None</span>, <span style=\"color: #00af00; text-decoration-color: #00af00\">874</span>, <span style=\"color: #00af00; text-decoration-color: #00af00\">1</span>)         │              <span style=\"color: #00af00; text-decoration-color: #00af00\">2</span> │ dropout_7[<span style=\"color: #00af00; text-decoration-color: #00af00\">0</span>][<span style=\"color: #00af00; text-decoration-color: #00af00\">0</span>]        │\n",
       "│ (<span style=\"color: #0087ff; text-decoration-color: #0087ff\">LayerNormalization</span>)      │                        │                │                        │\n",
       "├───────────────────────────┼────────────────────────┼────────────────┼────────────────────────┤\n",
       "│ add_4 (<span style=\"color: #0087ff; text-decoration-color: #0087ff\">Add</span>)               │ (<span style=\"color: #00d7ff; text-decoration-color: #00d7ff\">None</span>, <span style=\"color: #00af00; text-decoration-color: #00af00\">874</span>, <span style=\"color: #00af00; text-decoration-color: #00af00\">1</span>)         │              <span style=\"color: #00af00; text-decoration-color: #00af00\">0</span> │ layer_normalization_4… │\n",
       "│                           │                        │                │ add_3[<span style=\"color: #00af00; text-decoration-color: #00af00\">0</span>][<span style=\"color: #00af00; text-decoration-color: #00af00\">0</span>]            │\n",
       "├───────────────────────────┼────────────────────────┼────────────────┼────────────────────────┤\n",
       "│ conv1d_4 (<span style=\"color: #0087ff; text-decoration-color: #0087ff\">Conv1D</span>)         │ (<span style=\"color: #00d7ff; text-decoration-color: #00d7ff\">None</span>, <span style=\"color: #00af00; text-decoration-color: #00af00\">874</span>, <span style=\"color: #00af00; text-decoration-color: #00af00\">128</span>)       │            <span style=\"color: #00af00; text-decoration-color: #00af00\">256</span> │ add_4[<span style=\"color: #00af00; text-decoration-color: #00af00\">0</span>][<span style=\"color: #00af00; text-decoration-color: #00af00\">0</span>]            │\n",
       "├───────────────────────────┼────────────────────────┼────────────────┼────────────────────────┤\n",
       "│ dropout_8 (<span style=\"color: #0087ff; text-decoration-color: #0087ff\">Dropout</span>)       │ (<span style=\"color: #00d7ff; text-decoration-color: #00d7ff\">None</span>, <span style=\"color: #00af00; text-decoration-color: #00af00\">874</span>, <span style=\"color: #00af00; text-decoration-color: #00af00\">128</span>)       │              <span style=\"color: #00af00; text-decoration-color: #00af00\">0</span> │ conv1d_4[<span style=\"color: #00af00; text-decoration-color: #00af00\">0</span>][<span style=\"color: #00af00; text-decoration-color: #00af00\">0</span>]         │\n",
       "├───────────────────────────┼────────────────────────┼────────────────┼────────────────────────┤\n",
       "│ conv1d_5 (<span style=\"color: #0087ff; text-decoration-color: #0087ff\">Conv1D</span>)         │ (<span style=\"color: #00d7ff; text-decoration-color: #00d7ff\">None</span>, <span style=\"color: #00af00; text-decoration-color: #00af00\">874</span>, <span style=\"color: #00af00; text-decoration-color: #00af00\">1</span>)         │            <span style=\"color: #00af00; text-decoration-color: #00af00\">129</span> │ dropout_8[<span style=\"color: #00af00; text-decoration-color: #00af00\">0</span>][<span style=\"color: #00af00; text-decoration-color: #00af00\">0</span>]        │\n",
       "├───────────────────────────┼────────────────────────┼────────────────┼────────────────────────┤\n",
       "│ layer_normalization_5     │ (<span style=\"color: #00d7ff; text-decoration-color: #00d7ff\">None</span>, <span style=\"color: #00af00; text-decoration-color: #00af00\">874</span>, <span style=\"color: #00af00; text-decoration-color: #00af00\">1</span>)         │              <span style=\"color: #00af00; text-decoration-color: #00af00\">2</span> │ conv1d_5[<span style=\"color: #00af00; text-decoration-color: #00af00\">0</span>][<span style=\"color: #00af00; text-decoration-color: #00af00\">0</span>]         │\n",
       "│ (<span style=\"color: #0087ff; text-decoration-color: #0087ff\">LayerNormalization</span>)      │                        │                │                        │\n",
       "├───────────────────────────┼────────────────────────┼────────────────┼────────────────────────┤\n",
       "│ add_5 (<span style=\"color: #0087ff; text-decoration-color: #0087ff\">Add</span>)               │ (<span style=\"color: #00d7ff; text-decoration-color: #00d7ff\">None</span>, <span style=\"color: #00af00; text-decoration-color: #00af00\">874</span>, <span style=\"color: #00af00; text-decoration-color: #00af00\">1</span>)         │              <span style=\"color: #00af00; text-decoration-color: #00af00\">0</span> │ layer_normalization_5… │\n",
       "│                           │                        │                │ add_4[<span style=\"color: #00af00; text-decoration-color: #00af00\">0</span>][<span style=\"color: #00af00; text-decoration-color: #00af00\">0</span>]            │\n",
       "├───────────────────────────┼────────────────────────┼────────────────┼────────────────────────┤\n",
       "│ multi_head_attention_3    │ (<span style=\"color: #00d7ff; text-decoration-color: #00d7ff\">None</span>, <span style=\"color: #00af00; text-decoration-color: #00af00\">874</span>, <span style=\"color: #00af00; text-decoration-color: #00af00\">1</span>)         │         <span style=\"color: #00af00; text-decoration-color: #00af00\">28,673</span> │ add_5[<span style=\"color: #00af00; text-decoration-color: #00af00\">0</span>][<span style=\"color: #00af00; text-decoration-color: #00af00\">0</span>],           │\n",
       "│ (<span style=\"color: #0087ff; text-decoration-color: #0087ff\">MultiHeadAttention</span>)      │                        │                │ add_5[<span style=\"color: #00af00; text-decoration-color: #00af00\">0</span>][<span style=\"color: #00af00; text-decoration-color: #00af00\">0</span>]            │\n",
       "├───────────────────────────┼────────────────────────┼────────────────┼────────────────────────┤\n",
       "│ dropout_10 (<span style=\"color: #0087ff; text-decoration-color: #0087ff\">Dropout</span>)      │ (<span style=\"color: #00d7ff; text-decoration-color: #00d7ff\">None</span>, <span style=\"color: #00af00; text-decoration-color: #00af00\">874</span>, <span style=\"color: #00af00; text-decoration-color: #00af00\">1</span>)         │              <span style=\"color: #00af00; text-decoration-color: #00af00\">0</span> │ multi_head_attention_… │\n",
       "├───────────────────────────┼────────────────────────┼────────────────┼────────────────────────┤\n",
       "│ layer_normalization_6     │ (<span style=\"color: #00d7ff; text-decoration-color: #00d7ff\">None</span>, <span style=\"color: #00af00; text-decoration-color: #00af00\">874</span>, <span style=\"color: #00af00; text-decoration-color: #00af00\">1</span>)         │              <span style=\"color: #00af00; text-decoration-color: #00af00\">2</span> │ dropout_10[<span style=\"color: #00af00; text-decoration-color: #00af00\">0</span>][<span style=\"color: #00af00; text-decoration-color: #00af00\">0</span>]       │\n",
       "│ (<span style=\"color: #0087ff; text-decoration-color: #0087ff\">LayerNormalization</span>)      │                        │                │                        │\n",
       "├───────────────────────────┼────────────────────────┼────────────────┼────────────────────────┤\n",
       "│ add_6 (<span style=\"color: #0087ff; text-decoration-color: #0087ff\">Add</span>)               │ (<span style=\"color: #00d7ff; text-decoration-color: #00d7ff\">None</span>, <span style=\"color: #00af00; text-decoration-color: #00af00\">874</span>, <span style=\"color: #00af00; text-decoration-color: #00af00\">1</span>)         │              <span style=\"color: #00af00; text-decoration-color: #00af00\">0</span> │ layer_normalization_6… │\n",
       "│                           │                        │                │ add_5[<span style=\"color: #00af00; text-decoration-color: #00af00\">0</span>][<span style=\"color: #00af00; text-decoration-color: #00af00\">0</span>]            │\n",
       "├───────────────────────────┼────────────────────────┼────────────────┼────────────────────────┤\n",
       "│ conv1d_6 (<span style=\"color: #0087ff; text-decoration-color: #0087ff\">Conv1D</span>)         │ (<span style=\"color: #00d7ff; text-decoration-color: #00d7ff\">None</span>, <span style=\"color: #00af00; text-decoration-color: #00af00\">874</span>, <span style=\"color: #00af00; text-decoration-color: #00af00\">128</span>)       │            <span style=\"color: #00af00; text-decoration-color: #00af00\">256</span> │ add_6[<span style=\"color: #00af00; text-decoration-color: #00af00\">0</span>][<span style=\"color: #00af00; text-decoration-color: #00af00\">0</span>]            │\n",
       "├───────────────────────────┼────────────────────────┼────────────────┼────────────────────────┤\n",
       "│ dropout_11 (<span style=\"color: #0087ff; text-decoration-color: #0087ff\">Dropout</span>)      │ (<span style=\"color: #00d7ff; text-decoration-color: #00d7ff\">None</span>, <span style=\"color: #00af00; text-decoration-color: #00af00\">874</span>, <span style=\"color: #00af00; text-decoration-color: #00af00\">128</span>)       │              <span style=\"color: #00af00; text-decoration-color: #00af00\">0</span> │ conv1d_6[<span style=\"color: #00af00; text-decoration-color: #00af00\">0</span>][<span style=\"color: #00af00; text-decoration-color: #00af00\">0</span>]         │\n",
       "├───────────────────────────┼────────────────────────┼────────────────┼────────────────────────┤\n",
       "│ conv1d_7 (<span style=\"color: #0087ff; text-decoration-color: #0087ff\">Conv1D</span>)         │ (<span style=\"color: #00d7ff; text-decoration-color: #00d7ff\">None</span>, <span style=\"color: #00af00; text-decoration-color: #00af00\">874</span>, <span style=\"color: #00af00; text-decoration-color: #00af00\">1</span>)         │            <span style=\"color: #00af00; text-decoration-color: #00af00\">129</span> │ dropout_11[<span style=\"color: #00af00; text-decoration-color: #00af00\">0</span>][<span style=\"color: #00af00; text-decoration-color: #00af00\">0</span>]       │\n",
       "├───────────────────────────┼────────────────────────┼────────────────┼────────────────────────┤\n",
       "│ layer_normalization_7     │ (<span style=\"color: #00d7ff; text-decoration-color: #00d7ff\">None</span>, <span style=\"color: #00af00; text-decoration-color: #00af00\">874</span>, <span style=\"color: #00af00; text-decoration-color: #00af00\">1</span>)         │              <span style=\"color: #00af00; text-decoration-color: #00af00\">2</span> │ conv1d_7[<span style=\"color: #00af00; text-decoration-color: #00af00\">0</span>][<span style=\"color: #00af00; text-decoration-color: #00af00\">0</span>]         │\n",
       "│ (<span style=\"color: #0087ff; text-decoration-color: #0087ff\">LayerNormalization</span>)      │                        │                │                        │\n",
       "├───────────────────────────┼────────────────────────┼────────────────┼────────────────────────┤\n",
       "│ add_7 (<span style=\"color: #0087ff; text-decoration-color: #0087ff\">Add</span>)               │ (<span style=\"color: #00d7ff; text-decoration-color: #00d7ff\">None</span>, <span style=\"color: #00af00; text-decoration-color: #00af00\">874</span>, <span style=\"color: #00af00; text-decoration-color: #00af00\">1</span>)         │              <span style=\"color: #00af00; text-decoration-color: #00af00\">0</span> │ layer_normalization_7… │\n",
       "│                           │                        │                │ add_6[<span style=\"color: #00af00; text-decoration-color: #00af00\">0</span>][<span style=\"color: #00af00; text-decoration-color: #00af00\">0</span>]            │\n",
       "├───────────────────────────┼────────────────────────┼────────────────┼────────────────────────┤\n",
       "│ flatten (<span style=\"color: #0087ff; text-decoration-color: #0087ff\">Flatten</span>)         │ (<span style=\"color: #00d7ff; text-decoration-color: #00d7ff\">None</span>, <span style=\"color: #00af00; text-decoration-color: #00af00\">874</span>)            │              <span style=\"color: #00af00; text-decoration-color: #00af00\">0</span> │ add_7[<span style=\"color: #00af00; text-decoration-color: #00af00\">0</span>][<span style=\"color: #00af00; text-decoration-color: #00af00\">0</span>]            │\n",
       "├───────────────────────────┼────────────────────────┼────────────────┼────────────────────────┤\n",
       "│ dense (<span style=\"color: #0087ff; text-decoration-color: #0087ff\">Dense</span>)             │ (<span style=\"color: #00d7ff; text-decoration-color: #00d7ff\">None</span>, <span style=\"color: #00af00; text-decoration-color: #00af00\">256</span>)            │        <span style=\"color: #00af00; text-decoration-color: #00af00\">224,000</span> │ flatten[<span style=\"color: #00af00; text-decoration-color: #00af00\">0</span>][<span style=\"color: #00af00; text-decoration-color: #00af00\">0</span>]          │\n",
       "├───────────────────────────┼────────────────────────┼────────────────┼────────────────────────┤\n",
       "│ dropout_12 (<span style=\"color: #0087ff; text-decoration-color: #0087ff\">Dropout</span>)      │ (<span style=\"color: #00d7ff; text-decoration-color: #00d7ff\">None</span>, <span style=\"color: #00af00; text-decoration-color: #00af00\">256</span>)            │              <span style=\"color: #00af00; text-decoration-color: #00af00\">0</span> │ dense[<span style=\"color: #00af00; text-decoration-color: #00af00\">0</span>][<span style=\"color: #00af00; text-decoration-color: #00af00\">0</span>]            │\n",
       "├───────────────────────────┼────────────────────────┼────────────────┼────────────────────────┤\n",
       "│ dense_1 (<span style=\"color: #0087ff; text-decoration-color: #0087ff\">Dense</span>)           │ (<span style=\"color: #00d7ff; text-decoration-color: #00d7ff\">None</span>, <span style=\"color: #00af00; text-decoration-color: #00af00\">1</span>)              │            <span style=\"color: #00af00; text-decoration-color: #00af00\">257</span> │ dropout_12[<span style=\"color: #00af00; text-decoration-color: #00af00\">0</span>][<span style=\"color: #00af00; text-decoration-color: #00af00\">0</span>]       │\n",
       "├───────────────────────────┼────────────────────────┼────────────────┼────────────────────────┤\n",
       "│ lambda (<span style=\"color: #0087ff; text-decoration-color: #0087ff\">Lambda</span>)           │ (<span style=\"color: #00d7ff; text-decoration-color: #00d7ff\">None</span>, <span style=\"color: #00af00; text-decoration-color: #00af00\">1</span>)              │              <span style=\"color: #00af00; text-decoration-color: #00af00\">0</span> │ dense_1[<span style=\"color: #00af00; text-decoration-color: #00af00\">0</span>][<span style=\"color: #00af00; text-decoration-color: #00af00\">0</span>]          │\n",
       "└───────────────────────────┴────────────────────────┴────────────────┴────────────────────────┘\n",
       "</pre>\n"
      ],
      "text/plain": [
       "┏━━━━━━━━━━━━━━━━━━━━━━━━━━━┳━━━━━━━━━━━━━━━━━━━━━━━━┳━━━━━━━━━━━━━━━━┳━━━━━━━━━━━━━━━━━━━━━━━━┓\n",
       "┃\u001b[1m \u001b[0m\u001b[1mLayer (type)             \u001b[0m\u001b[1m \u001b[0m┃\u001b[1m \u001b[0m\u001b[1mOutput Shape          \u001b[0m\u001b[1m \u001b[0m┃\u001b[1m \u001b[0m\u001b[1m       Param #\u001b[0m\u001b[1m \u001b[0m┃\u001b[1m \u001b[0m\u001b[1mConnected to          \u001b[0m\u001b[1m \u001b[0m┃\n",
       "┡━━━━━━━━━━━━━━━━━━━━━━━━━━━╇━━━━━━━━━━━━━━━━━━━━━━━━╇━━━━━━━━━━━━━━━━╇━━━━━━━━━━━━━━━━━━━━━━━━┩\n",
       "│ input_layer (\u001b[38;5;33mInputLayer\u001b[0m)  │ (\u001b[38;5;45mNone\u001b[0m, \u001b[38;5;34m874\u001b[0m)            │              \u001b[38;5;34m0\u001b[0m │ -                      │\n",
       "├───────────────────────────┼────────────────────────┼────────────────┼────────────────────────┤\n",
       "│ reshape (\u001b[38;5;33mReshape\u001b[0m)         │ (\u001b[38;5;45mNone\u001b[0m, \u001b[38;5;34m874\u001b[0m, \u001b[38;5;34m1\u001b[0m)         │              \u001b[38;5;34m0\u001b[0m │ input_layer[\u001b[38;5;34m0\u001b[0m][\u001b[38;5;34m0\u001b[0m]      │\n",
       "├───────────────────────────┼────────────────────────┼────────────────┼────────────────────────┤\n",
       "│ multi_head_attention      │ (\u001b[38;5;45mNone\u001b[0m, \u001b[38;5;34m874\u001b[0m, \u001b[38;5;34m1\u001b[0m)         │         \u001b[38;5;34m28,673\u001b[0m │ reshape[\u001b[38;5;34m0\u001b[0m][\u001b[38;5;34m0\u001b[0m],         │\n",
       "│ (\u001b[38;5;33mMultiHeadAttention\u001b[0m)      │                        │                │ reshape[\u001b[38;5;34m0\u001b[0m][\u001b[38;5;34m0\u001b[0m]          │\n",
       "├───────────────────────────┼────────────────────────┼────────────────┼────────────────────────┤\n",
       "│ dropout_1 (\u001b[38;5;33mDropout\u001b[0m)       │ (\u001b[38;5;45mNone\u001b[0m, \u001b[38;5;34m874\u001b[0m, \u001b[38;5;34m1\u001b[0m)         │              \u001b[38;5;34m0\u001b[0m │ multi_head_attention[\u001b[38;5;34m…\u001b[0m │\n",
       "├───────────────────────────┼────────────────────────┼────────────────┼────────────────────────┤\n",
       "│ layer_normalization       │ (\u001b[38;5;45mNone\u001b[0m, \u001b[38;5;34m874\u001b[0m, \u001b[38;5;34m1\u001b[0m)         │              \u001b[38;5;34m2\u001b[0m │ dropout_1[\u001b[38;5;34m0\u001b[0m][\u001b[38;5;34m0\u001b[0m]        │\n",
       "│ (\u001b[38;5;33mLayerNormalization\u001b[0m)      │                        │                │                        │\n",
       "├───────────────────────────┼────────────────────────┼────────────────┼────────────────────────┤\n",
       "│ add (\u001b[38;5;33mAdd\u001b[0m)                 │ (\u001b[38;5;45mNone\u001b[0m, \u001b[38;5;34m874\u001b[0m, \u001b[38;5;34m1\u001b[0m)         │              \u001b[38;5;34m0\u001b[0m │ layer_normalization[\u001b[38;5;34m0\u001b[0m… │\n",
       "│                           │                        │                │ reshape[\u001b[38;5;34m0\u001b[0m][\u001b[38;5;34m0\u001b[0m]          │\n",
       "├───────────────────────────┼────────────────────────┼────────────────┼────────────────────────┤\n",
       "│ conv1d (\u001b[38;5;33mConv1D\u001b[0m)           │ (\u001b[38;5;45mNone\u001b[0m, \u001b[38;5;34m874\u001b[0m, \u001b[38;5;34m128\u001b[0m)       │            \u001b[38;5;34m256\u001b[0m │ add[\u001b[38;5;34m0\u001b[0m][\u001b[38;5;34m0\u001b[0m]              │\n",
       "├───────────────────────────┼────────────────────────┼────────────────┼────────────────────────┤\n",
       "│ dropout_2 (\u001b[38;5;33mDropout\u001b[0m)       │ (\u001b[38;5;45mNone\u001b[0m, \u001b[38;5;34m874\u001b[0m, \u001b[38;5;34m128\u001b[0m)       │              \u001b[38;5;34m0\u001b[0m │ conv1d[\u001b[38;5;34m0\u001b[0m][\u001b[38;5;34m0\u001b[0m]           │\n",
       "├───────────────────────────┼────────────────────────┼────────────────┼────────────────────────┤\n",
       "│ conv1d_1 (\u001b[38;5;33mConv1D\u001b[0m)         │ (\u001b[38;5;45mNone\u001b[0m, \u001b[38;5;34m874\u001b[0m, \u001b[38;5;34m1\u001b[0m)         │            \u001b[38;5;34m129\u001b[0m │ dropout_2[\u001b[38;5;34m0\u001b[0m][\u001b[38;5;34m0\u001b[0m]        │\n",
       "├───────────────────────────┼────────────────────────┼────────────────┼────────────────────────┤\n",
       "│ layer_normalization_1     │ (\u001b[38;5;45mNone\u001b[0m, \u001b[38;5;34m874\u001b[0m, \u001b[38;5;34m1\u001b[0m)         │              \u001b[38;5;34m2\u001b[0m │ conv1d_1[\u001b[38;5;34m0\u001b[0m][\u001b[38;5;34m0\u001b[0m]         │\n",
       "│ (\u001b[38;5;33mLayerNormalization\u001b[0m)      │                        │                │                        │\n",
       "├───────────────────────────┼────────────────────────┼────────────────┼────────────────────────┤\n",
       "│ add_1 (\u001b[38;5;33mAdd\u001b[0m)               │ (\u001b[38;5;45mNone\u001b[0m, \u001b[38;5;34m874\u001b[0m, \u001b[38;5;34m1\u001b[0m)         │              \u001b[38;5;34m0\u001b[0m │ layer_normalization_1… │\n",
       "│                           │                        │                │ add[\u001b[38;5;34m0\u001b[0m][\u001b[38;5;34m0\u001b[0m]              │\n",
       "├───────────────────────────┼────────────────────────┼────────────────┼────────────────────────┤\n",
       "│ multi_head_attention_1    │ (\u001b[38;5;45mNone\u001b[0m, \u001b[38;5;34m874\u001b[0m, \u001b[38;5;34m1\u001b[0m)         │         \u001b[38;5;34m28,673\u001b[0m │ add_1[\u001b[38;5;34m0\u001b[0m][\u001b[38;5;34m0\u001b[0m],           │\n",
       "│ (\u001b[38;5;33mMultiHeadAttention\u001b[0m)      │                        │                │ add_1[\u001b[38;5;34m0\u001b[0m][\u001b[38;5;34m0\u001b[0m]            │\n",
       "├───────────────────────────┼────────────────────────┼────────────────┼────────────────────────┤\n",
       "│ dropout_4 (\u001b[38;5;33mDropout\u001b[0m)       │ (\u001b[38;5;45mNone\u001b[0m, \u001b[38;5;34m874\u001b[0m, \u001b[38;5;34m1\u001b[0m)         │              \u001b[38;5;34m0\u001b[0m │ multi_head_attention_… │\n",
       "├───────────────────────────┼────────────────────────┼────────────────┼────────────────────────┤\n",
       "│ layer_normalization_2     │ (\u001b[38;5;45mNone\u001b[0m, \u001b[38;5;34m874\u001b[0m, \u001b[38;5;34m1\u001b[0m)         │              \u001b[38;5;34m2\u001b[0m │ dropout_4[\u001b[38;5;34m0\u001b[0m][\u001b[38;5;34m0\u001b[0m]        │\n",
       "│ (\u001b[38;5;33mLayerNormalization\u001b[0m)      │                        │                │                        │\n",
       "├───────────────────────────┼────────────────────────┼────────────────┼────────────────────────┤\n",
       "│ add_2 (\u001b[38;5;33mAdd\u001b[0m)               │ (\u001b[38;5;45mNone\u001b[0m, \u001b[38;5;34m874\u001b[0m, \u001b[38;5;34m1\u001b[0m)         │              \u001b[38;5;34m0\u001b[0m │ layer_normalization_2… │\n",
       "│                           │                        │                │ add_1[\u001b[38;5;34m0\u001b[0m][\u001b[38;5;34m0\u001b[0m]            │\n",
       "├───────────────────────────┼────────────────────────┼────────────────┼────────────────────────┤\n",
       "│ conv1d_2 (\u001b[38;5;33mConv1D\u001b[0m)         │ (\u001b[38;5;45mNone\u001b[0m, \u001b[38;5;34m874\u001b[0m, \u001b[38;5;34m128\u001b[0m)       │            \u001b[38;5;34m256\u001b[0m │ add_2[\u001b[38;5;34m0\u001b[0m][\u001b[38;5;34m0\u001b[0m]            │\n",
       "├───────────────────────────┼────────────────────────┼────────────────┼────────────────────────┤\n",
       "│ dropout_5 (\u001b[38;5;33mDropout\u001b[0m)       │ (\u001b[38;5;45mNone\u001b[0m, \u001b[38;5;34m874\u001b[0m, \u001b[38;5;34m128\u001b[0m)       │              \u001b[38;5;34m0\u001b[0m │ conv1d_2[\u001b[38;5;34m0\u001b[0m][\u001b[38;5;34m0\u001b[0m]         │\n",
       "├───────────────────────────┼────────────────────────┼────────────────┼────────────────────────┤\n",
       "│ conv1d_3 (\u001b[38;5;33mConv1D\u001b[0m)         │ (\u001b[38;5;45mNone\u001b[0m, \u001b[38;5;34m874\u001b[0m, \u001b[38;5;34m1\u001b[0m)         │            \u001b[38;5;34m129\u001b[0m │ dropout_5[\u001b[38;5;34m0\u001b[0m][\u001b[38;5;34m0\u001b[0m]        │\n",
       "├───────────────────────────┼────────────────────────┼────────────────┼────────────────────────┤\n",
       "│ layer_normalization_3     │ (\u001b[38;5;45mNone\u001b[0m, \u001b[38;5;34m874\u001b[0m, \u001b[38;5;34m1\u001b[0m)         │              \u001b[38;5;34m2\u001b[0m │ conv1d_3[\u001b[38;5;34m0\u001b[0m][\u001b[38;5;34m0\u001b[0m]         │\n",
       "│ (\u001b[38;5;33mLayerNormalization\u001b[0m)      │                        │                │                        │\n",
       "├───────────────────────────┼────────────────────────┼────────────────┼────────────────────────┤\n",
       "│ add_3 (\u001b[38;5;33mAdd\u001b[0m)               │ (\u001b[38;5;45mNone\u001b[0m, \u001b[38;5;34m874\u001b[0m, \u001b[38;5;34m1\u001b[0m)         │              \u001b[38;5;34m0\u001b[0m │ layer_normalization_3… │\n",
       "│                           │                        │                │ add_2[\u001b[38;5;34m0\u001b[0m][\u001b[38;5;34m0\u001b[0m]            │\n",
       "├───────────────────────────┼────────────────────────┼────────────────┼────────────────────────┤\n",
       "│ multi_head_attention_2    │ (\u001b[38;5;45mNone\u001b[0m, \u001b[38;5;34m874\u001b[0m, \u001b[38;5;34m1\u001b[0m)         │         \u001b[38;5;34m28,673\u001b[0m │ add_3[\u001b[38;5;34m0\u001b[0m][\u001b[38;5;34m0\u001b[0m],           │\n",
       "│ (\u001b[38;5;33mMultiHeadAttention\u001b[0m)      │                        │                │ add_3[\u001b[38;5;34m0\u001b[0m][\u001b[38;5;34m0\u001b[0m]            │\n",
       "├───────────────────────────┼────────────────────────┼────────────────┼────────────────────────┤\n",
       "│ dropout_7 (\u001b[38;5;33mDropout\u001b[0m)       │ (\u001b[38;5;45mNone\u001b[0m, \u001b[38;5;34m874\u001b[0m, \u001b[38;5;34m1\u001b[0m)         │              \u001b[38;5;34m0\u001b[0m │ multi_head_attention_… │\n",
       "├───────────────────────────┼────────────────────────┼────────────────┼────────────────────────┤\n",
       "│ layer_normalization_4     │ (\u001b[38;5;45mNone\u001b[0m, \u001b[38;5;34m874\u001b[0m, \u001b[38;5;34m1\u001b[0m)         │              \u001b[38;5;34m2\u001b[0m │ dropout_7[\u001b[38;5;34m0\u001b[0m][\u001b[38;5;34m0\u001b[0m]        │\n",
       "│ (\u001b[38;5;33mLayerNormalization\u001b[0m)      │                        │                │                        │\n",
       "├───────────────────────────┼────────────────────────┼────────────────┼────────────────────────┤\n",
       "│ add_4 (\u001b[38;5;33mAdd\u001b[0m)               │ (\u001b[38;5;45mNone\u001b[0m, \u001b[38;5;34m874\u001b[0m, \u001b[38;5;34m1\u001b[0m)         │              \u001b[38;5;34m0\u001b[0m │ layer_normalization_4… │\n",
       "│                           │                        │                │ add_3[\u001b[38;5;34m0\u001b[0m][\u001b[38;5;34m0\u001b[0m]            │\n",
       "├───────────────────────────┼────────────────────────┼────────────────┼────────────────────────┤\n",
       "│ conv1d_4 (\u001b[38;5;33mConv1D\u001b[0m)         │ (\u001b[38;5;45mNone\u001b[0m, \u001b[38;5;34m874\u001b[0m, \u001b[38;5;34m128\u001b[0m)       │            \u001b[38;5;34m256\u001b[0m │ add_4[\u001b[38;5;34m0\u001b[0m][\u001b[38;5;34m0\u001b[0m]            │\n",
       "├───────────────────────────┼────────────────────────┼────────────────┼────────────────────────┤\n",
       "│ dropout_8 (\u001b[38;5;33mDropout\u001b[0m)       │ (\u001b[38;5;45mNone\u001b[0m, \u001b[38;5;34m874\u001b[0m, \u001b[38;5;34m128\u001b[0m)       │              \u001b[38;5;34m0\u001b[0m │ conv1d_4[\u001b[38;5;34m0\u001b[0m][\u001b[38;5;34m0\u001b[0m]         │\n",
       "├───────────────────────────┼────────────────────────┼────────────────┼────────────────────────┤\n",
       "│ conv1d_5 (\u001b[38;5;33mConv1D\u001b[0m)         │ (\u001b[38;5;45mNone\u001b[0m, \u001b[38;5;34m874\u001b[0m, \u001b[38;5;34m1\u001b[0m)         │            \u001b[38;5;34m129\u001b[0m │ dropout_8[\u001b[38;5;34m0\u001b[0m][\u001b[38;5;34m0\u001b[0m]        │\n",
       "├───────────────────────────┼────────────────────────┼────────────────┼────────────────────────┤\n",
       "│ layer_normalization_5     │ (\u001b[38;5;45mNone\u001b[0m, \u001b[38;5;34m874\u001b[0m, \u001b[38;5;34m1\u001b[0m)         │              \u001b[38;5;34m2\u001b[0m │ conv1d_5[\u001b[38;5;34m0\u001b[0m][\u001b[38;5;34m0\u001b[0m]         │\n",
       "│ (\u001b[38;5;33mLayerNormalization\u001b[0m)      │                        │                │                        │\n",
       "├───────────────────────────┼────────────────────────┼────────────────┼────────────────────────┤\n",
       "│ add_5 (\u001b[38;5;33mAdd\u001b[0m)               │ (\u001b[38;5;45mNone\u001b[0m, \u001b[38;5;34m874\u001b[0m, \u001b[38;5;34m1\u001b[0m)         │              \u001b[38;5;34m0\u001b[0m │ layer_normalization_5… │\n",
       "│                           │                        │                │ add_4[\u001b[38;5;34m0\u001b[0m][\u001b[38;5;34m0\u001b[0m]            │\n",
       "├───────────────────────────┼────────────────────────┼────────────────┼────────────────────────┤\n",
       "│ multi_head_attention_3    │ (\u001b[38;5;45mNone\u001b[0m, \u001b[38;5;34m874\u001b[0m, \u001b[38;5;34m1\u001b[0m)         │         \u001b[38;5;34m28,673\u001b[0m │ add_5[\u001b[38;5;34m0\u001b[0m][\u001b[38;5;34m0\u001b[0m],           │\n",
       "│ (\u001b[38;5;33mMultiHeadAttention\u001b[0m)      │                        │                │ add_5[\u001b[38;5;34m0\u001b[0m][\u001b[38;5;34m0\u001b[0m]            │\n",
       "├───────────────────────────┼────────────────────────┼────────────────┼────────────────────────┤\n",
       "│ dropout_10 (\u001b[38;5;33mDropout\u001b[0m)      │ (\u001b[38;5;45mNone\u001b[0m, \u001b[38;5;34m874\u001b[0m, \u001b[38;5;34m1\u001b[0m)         │              \u001b[38;5;34m0\u001b[0m │ multi_head_attention_… │\n",
       "├───────────────────────────┼────────────────────────┼────────────────┼────────────────────────┤\n",
       "│ layer_normalization_6     │ (\u001b[38;5;45mNone\u001b[0m, \u001b[38;5;34m874\u001b[0m, \u001b[38;5;34m1\u001b[0m)         │              \u001b[38;5;34m2\u001b[0m │ dropout_10[\u001b[38;5;34m0\u001b[0m][\u001b[38;5;34m0\u001b[0m]       │\n",
       "│ (\u001b[38;5;33mLayerNormalization\u001b[0m)      │                        │                │                        │\n",
       "├───────────────────────────┼────────────────────────┼────────────────┼────────────────────────┤\n",
       "│ add_6 (\u001b[38;5;33mAdd\u001b[0m)               │ (\u001b[38;5;45mNone\u001b[0m, \u001b[38;5;34m874\u001b[0m, \u001b[38;5;34m1\u001b[0m)         │              \u001b[38;5;34m0\u001b[0m │ layer_normalization_6… │\n",
       "│                           │                        │                │ add_5[\u001b[38;5;34m0\u001b[0m][\u001b[38;5;34m0\u001b[0m]            │\n",
       "├───────────────────────────┼────────────────────────┼────────────────┼────────────────────────┤\n",
       "│ conv1d_6 (\u001b[38;5;33mConv1D\u001b[0m)         │ (\u001b[38;5;45mNone\u001b[0m, \u001b[38;5;34m874\u001b[0m, \u001b[38;5;34m128\u001b[0m)       │            \u001b[38;5;34m256\u001b[0m │ add_6[\u001b[38;5;34m0\u001b[0m][\u001b[38;5;34m0\u001b[0m]            │\n",
       "├───────────────────────────┼────────────────────────┼────────────────┼────────────────────────┤\n",
       "│ dropout_11 (\u001b[38;5;33mDropout\u001b[0m)      │ (\u001b[38;5;45mNone\u001b[0m, \u001b[38;5;34m874\u001b[0m, \u001b[38;5;34m128\u001b[0m)       │              \u001b[38;5;34m0\u001b[0m │ conv1d_6[\u001b[38;5;34m0\u001b[0m][\u001b[38;5;34m0\u001b[0m]         │\n",
       "├───────────────────────────┼────────────────────────┼────────────────┼────────────────────────┤\n",
       "│ conv1d_7 (\u001b[38;5;33mConv1D\u001b[0m)         │ (\u001b[38;5;45mNone\u001b[0m, \u001b[38;5;34m874\u001b[0m, \u001b[38;5;34m1\u001b[0m)         │            \u001b[38;5;34m129\u001b[0m │ dropout_11[\u001b[38;5;34m0\u001b[0m][\u001b[38;5;34m0\u001b[0m]       │\n",
       "├───────────────────────────┼────────────────────────┼────────────────┼────────────────────────┤\n",
       "│ layer_normalization_7     │ (\u001b[38;5;45mNone\u001b[0m, \u001b[38;5;34m874\u001b[0m, \u001b[38;5;34m1\u001b[0m)         │              \u001b[38;5;34m2\u001b[0m │ conv1d_7[\u001b[38;5;34m0\u001b[0m][\u001b[38;5;34m0\u001b[0m]         │\n",
       "│ (\u001b[38;5;33mLayerNormalization\u001b[0m)      │                        │                │                        │\n",
       "├───────────────────────────┼────────────────────────┼────────────────┼────────────────────────┤\n",
       "│ add_7 (\u001b[38;5;33mAdd\u001b[0m)               │ (\u001b[38;5;45mNone\u001b[0m, \u001b[38;5;34m874\u001b[0m, \u001b[38;5;34m1\u001b[0m)         │              \u001b[38;5;34m0\u001b[0m │ layer_normalization_7… │\n",
       "│                           │                        │                │ add_6[\u001b[38;5;34m0\u001b[0m][\u001b[38;5;34m0\u001b[0m]            │\n",
       "├───────────────────────────┼────────────────────────┼────────────────┼────────────────────────┤\n",
       "│ flatten (\u001b[38;5;33mFlatten\u001b[0m)         │ (\u001b[38;5;45mNone\u001b[0m, \u001b[38;5;34m874\u001b[0m)            │              \u001b[38;5;34m0\u001b[0m │ add_7[\u001b[38;5;34m0\u001b[0m][\u001b[38;5;34m0\u001b[0m]            │\n",
       "├───────────────────────────┼────────────────────────┼────────────────┼────────────────────────┤\n",
       "│ dense (\u001b[38;5;33mDense\u001b[0m)             │ (\u001b[38;5;45mNone\u001b[0m, \u001b[38;5;34m256\u001b[0m)            │        \u001b[38;5;34m224,000\u001b[0m │ flatten[\u001b[38;5;34m0\u001b[0m][\u001b[38;5;34m0\u001b[0m]          │\n",
       "├───────────────────────────┼────────────────────────┼────────────────┼────────────────────────┤\n",
       "│ dropout_12 (\u001b[38;5;33mDropout\u001b[0m)      │ (\u001b[38;5;45mNone\u001b[0m, \u001b[38;5;34m256\u001b[0m)            │              \u001b[38;5;34m0\u001b[0m │ dense[\u001b[38;5;34m0\u001b[0m][\u001b[38;5;34m0\u001b[0m]            │\n",
       "├───────────────────────────┼────────────────────────┼────────────────┼────────────────────────┤\n",
       "│ dense_1 (\u001b[38;5;33mDense\u001b[0m)           │ (\u001b[38;5;45mNone\u001b[0m, \u001b[38;5;34m1\u001b[0m)              │            \u001b[38;5;34m257\u001b[0m │ dropout_12[\u001b[38;5;34m0\u001b[0m][\u001b[38;5;34m0\u001b[0m]       │\n",
       "├───────────────────────────┼────────────────────────┼────────────────┼────────────────────────┤\n",
       "│ lambda (\u001b[38;5;33mLambda\u001b[0m)           │ (\u001b[38;5;45mNone\u001b[0m, \u001b[38;5;34m1\u001b[0m)              │              \u001b[38;5;34m0\u001b[0m │ dense_1[\u001b[38;5;34m0\u001b[0m][\u001b[38;5;34m0\u001b[0m]          │\n",
       "└───────────────────────────┴────────────────────────┴────────────────┴────────────────────────┘\n"
      ]
     },
     "metadata": {},
     "output_type": "display_data"
    },
    {
     "data": {
      "text/html": [
       "<pre style=\"white-space:pre;overflow-x:auto;line-height:normal;font-family:Menlo,'DejaVu Sans Mono',consolas,'Courier New',monospace\"><span style=\"font-weight: bold\"> Total params: </span><span style=\"color: #00af00; text-decoration-color: #00af00\">340,505</span> (1.30 MB)\n",
       "</pre>\n"
      ],
      "text/plain": [
       "\u001b[1m Total params: \u001b[0m\u001b[38;5;34m340,505\u001b[0m (1.30 MB)\n"
      ]
     },
     "metadata": {},
     "output_type": "display_data"
    },
    {
     "data": {
      "text/html": [
       "<pre style=\"white-space:pre;overflow-x:auto;line-height:normal;font-family:Menlo,'DejaVu Sans Mono',consolas,'Courier New',monospace\"><span style=\"font-weight: bold\"> Trainable params: </span><span style=\"color: #00af00; text-decoration-color: #00af00\">340,505</span> (1.30 MB)\n",
       "</pre>\n"
      ],
      "text/plain": [
       "\u001b[1m Trainable params: \u001b[0m\u001b[38;5;34m340,505\u001b[0m (1.30 MB)\n"
      ]
     },
     "metadata": {},
     "output_type": "display_data"
    },
    {
     "data": {
      "text/html": [
       "<pre style=\"white-space:pre;overflow-x:auto;line-height:normal;font-family:Menlo,'DejaVu Sans Mono',consolas,'Courier New',monospace\"><span style=\"font-weight: bold\"> Non-trainable params: </span><span style=\"color: #00af00; text-decoration-color: #00af00\">0</span> (0.00 B)\n",
       "</pre>\n"
      ],
      "text/plain": [
       "\u001b[1m Non-trainable params: \u001b[0m\u001b[38;5;34m0\u001b[0m (0.00 B)\n"
      ]
     },
     "metadata": {},
     "output_type": "display_data"
    }
   ],
   "source": [
    "# Multi-GPU strategy scope\n",
    "strategy = tf.distribute.MirroredStrategy()\n",
    "with strategy.scope():\n",
    "    input_shape = (874,)  # Adjusted input shape\n",
    "\n",
    "    model = build_regression_model(\n",
    "        input_shape,\n",
    "        head_size=512,\n",
    "        num_heads=8,\n",
    "        ff_dim=128,\n",
    "        num_transformer_blocks=4,\n",
    "        mlp_units=[256],\n",
    "        mlp_dropout=0.4,\n",
    "        dropout=0.3,\n",
    "    )\n",
    "\n",
    "    # Compile with a regression loss (mean squared error) and a regression metric (MAE)\n",
    "    model.compile(\n",
    "        loss=\"mse\",  # Mean Squared Error loss for regression\n",
    "        optimizer=keras.optimizers.Adam(learning_rate=1e-4),\n",
    "        metrics=[\"mae\"],  # Mean Absolute Error as an additional metric\n",
    "    )\n",
    "\n",
    "model.summary()\n"
   ]
  },
  {
   "cell_type": "code",
   "execution_count": 31,
   "id": "032b6e87",
   "metadata": {
    "execution": {
     "iopub.execute_input": "2025-02-14T02:46:46.770431Z",
     "iopub.status.busy": "2025-02-14T02:46:46.770183Z",
     "iopub.status.idle": "2025-02-14T02:46:46.777708Z",
     "shell.execute_reply": "2025-02-14T02:46:46.776859Z"
    },
    "papermill": {
     "duration": 0.017788,
     "end_time": "2025-02-14T02:46:46.778819",
     "exception": false,
     "start_time": "2025-02-14T02:46:46.761031",
     "status": "completed"
    },
    "tags": []
   },
   "outputs": [],
   "source": [
    "from tensorflow.keras.callbacks import ModelCheckpoint\n",
    "\n",
    "# Define the checkpoint callback to save the model after each epoch\n",
    "checkpoint_callback = ModelCheckpoint(\n",
    "    filepath='model_checkpoint.keras',  # Save file with .keras extension\n",
    "    save_weights_only=False,  # Save the full model\n",
    "    save_freq='epoch',  # Save at the end of each epoch\n",
    "    verbose=1  # To print a message when the model is saved\n",
    ")\n",
    "\n",
    "# Modify the callbacks list to include the checkpoint callback \n",
    "callbacks = [\n",
    "    keras.callbacks.EarlyStopping(patience=100, restore_best_weights=True),\n",
    "    checkpoint_callback\n",
    "]"
   ]
  },
  {
   "cell_type": "code",
   "execution_count": 32,
   "id": "9a8a050e",
   "metadata": {
    "execution": {
     "iopub.execute_input": "2025-02-14T02:46:46.796466Z",
     "iopub.status.busy": "2025-02-14T02:46:46.796208Z",
     "iopub.status.idle": "2025-02-14T02:46:46.800588Z",
     "shell.execute_reply": "2025-02-14T02:46:46.799805Z"
    },
    "papermill": {
     "duration": 0.014386,
     "end_time": "2025-02-14T02:46:46.801792",
     "exception": false,
     "start_time": "2025-02-14T02:46:46.787406",
     "status": "completed"
    },
    "tags": []
   },
   "outputs": [
    {
     "data": {
      "text/plain": [
       "(1836, 4369, 1)"
      ]
     },
     "execution_count": 32,
     "metadata": {},
     "output_type": "execute_result"
    }
   ],
   "source": [
    "X_train.shape"
   ]
  },
  {
   "cell_type": "code",
   "execution_count": 33,
   "id": "469260ae",
   "metadata": {
    "execution": {
     "iopub.execute_input": "2025-02-14T02:46:46.819744Z",
     "iopub.status.busy": "2025-02-14T02:46:46.819522Z",
     "iopub.status.idle": "2025-02-14T02:46:46.823666Z",
     "shell.execute_reply": "2025-02-14T02:46:46.822878Z"
    },
    "papermill": {
     "duration": 0.014368,
     "end_time": "2025-02-14T02:46:46.824894",
     "exception": false,
     "start_time": "2025-02-14T02:46:46.810526",
     "status": "completed"
    },
    "tags": []
   },
   "outputs": [
    {
     "data": {
      "text/plain": [
       "(1836,)"
      ]
     },
     "execution_count": 33,
     "metadata": {},
     "output_type": "execute_result"
    }
   ],
   "source": [
    "y_train.shape"
   ]
  },
  {
   "cell_type": "code",
   "execution_count": 34,
   "id": "d658f861",
   "metadata": {
    "execution": {
     "iopub.execute_input": "2025-02-14T02:46:46.842714Z",
     "iopub.status.busy": "2025-02-14T02:46:46.842493Z",
     "iopub.status.idle": "2025-02-14T02:46:46.848036Z",
     "shell.execute_reply": "2025-02-14T02:46:46.847390Z"
    },
    "papermill": {
     "duration": 0.015791,
     "end_time": "2025-02-14T02:46:46.849321",
     "exception": false,
     "start_time": "2025-02-14T02:46:46.833530",
     "status": "completed"
    },
    "tags": []
   },
   "outputs": [
    {
     "data": {
      "text/plain": [
       "(array([ 5.,  3., 13., ...,  0.,  4.,  6.], dtype=float32),\n",
       " array([ 7.,  0.,  6.,  1.,  8.,  4.,  0.,  4.,  0.,  1.,  4.,  9.,  9.,\n",
       "        12.,  3., 13.,  5.,  5.,  2.,  9.,  0.,  0., 12.,  8.,  3.,  0.,\n",
       "         0.,  4.,  0.,  1.,  3.,  0.,  7.,  5.,  5.,  9., 10., 10.,  4.,\n",
       "         0.,  0.,  3.,  5., 10., 13., 12.,  7.,  2.,  0.,  0.,  0.,  0.,\n",
       "         0., 11.,  6.,  6., 12.,  0.,  4.,  0.,  0.,  3.,  4.,  6.,  9.,\n",
       "         0.,  6.,  8.,  5.,  0.,  6., 12.,  0.,  5.,  3., 13.,  1.,  0.,\n",
       "         9., 11.,  6.,  6.,  9.,  0.,  8.,  4.,  5.,  0., 13., 12.,  1.,\n",
       "         2.,  3.,  0.,  3.,  0.,  4.,  8.,  8.,  5.,  5.,  3., 12., 13.,\n",
       "        13.,  5.,  0.,  6.,  0., 11., 11.,  1.,  0.,  1.,  8.,  0.,  0.,\n",
       "         0., 13.,  0.,  2., 12.,  0., 11.,  6., 13.,  5., 10., 10.,  4.,\n",
       "         2., 13.,  9.,  2.,  2.,  4.,  0.,  1.,  9.,  3.,  0.,  7., 11.,\n",
       "         1.,  0.,  5.,  8.,  1.,  9., 10.,  5., 12.,  1.,  0.,  2.,  3.,\n",
       "        13.,  5.,  2.,  0.,  2.,  4.,  4.,  0., 11.,  0., 10., 13., 10.,\n",
       "         4.,  3., 10.,  9., 13.,  2.,  0.,  8.,  6.,  3.,  9.,  6.,  0.,\n",
       "         6.,  9., 11., 11.,  3., 13.,  8.,  0., 11., 13.,  1.,  8.,  7.,\n",
       "         2., 13., 13.,  0.,  3.,  1., 11.,  2.,  0.], dtype=float32))"
      ]
     },
     "execution_count": 34,
     "metadata": {},
     "output_type": "execute_result"
    }
   ],
   "source": [
    "y_train,y_test"
   ]
  },
  {
   "cell_type": "code",
   "execution_count": 35,
   "id": "3e50a1cf",
   "metadata": {
    "execution": {
     "iopub.execute_input": "2025-02-14T02:46:46.903514Z",
     "iopub.status.busy": "2025-02-14T02:46:46.903222Z",
     "iopub.status.idle": "2025-02-14T02:46:46.918569Z",
     "shell.execute_reply": "2025-02-14T02:46:46.917592Z"
    },
    "papermill": {
     "duration": 0.026276,
     "end_time": "2025-02-14T02:46:46.920084",
     "exception": false,
     "start_time": "2025-02-14T02:46:46.893808",
     "status": "completed"
    },
    "tags": []
   },
   "outputs": [],
   "source": [
    "# Assume X_train has the shape (num_samples, 4369, 1)\n",
    "num_samples, original_length, channels = X_train.shape\n",
    "\n",
    "# Calculate padding length so that the length becomes divisible by 5.\n",
    "pad_len = 1\n",
    "\n",
    "# Pad along the sequence axis (axis=1) with -np.inf so that the max operation is not affected.\n",
    "X_train_padded = np.pad(\n",
    "    X_train,\n",
    "    pad_width=((0, 0), (0, pad_len), (0, 0)),\n",
    "    mode='constant',\n",
    "    constant_values=-np.inf\n",
    ")\n",
    "\n",
    "# Now X_train_padded has the shape (num_samples, 4370, 1).\n"
   ]
  },
  {
   "cell_type": "code",
   "execution_count": 36,
   "id": "37cd242d",
   "metadata": {
    "execution": {
     "iopub.execute_input": "2025-02-14T02:46:46.939374Z",
     "iopub.status.busy": "2025-02-14T02:46:46.939108Z",
     "iopub.status.idle": "2025-02-14T02:46:46.943341Z",
     "shell.execute_reply": "2025-02-14T02:46:46.942681Z"
    },
    "papermill": {
     "duration": 0.015041,
     "end_time": "2025-02-14T02:46:46.944574",
     "exception": false,
     "start_time": "2025-02-14T02:46:46.929533",
     "status": "completed"
    },
    "tags": []
   },
   "outputs": [
    {
     "data": {
      "text/plain": [
       "(1836, 4370, 1)"
      ]
     },
     "execution_count": 36,
     "metadata": {},
     "output_type": "execute_result"
    }
   ],
   "source": [
    "X_train_padded.shape"
   ]
  },
  {
   "cell_type": "code",
   "execution_count": 37,
   "id": "502d2b55",
   "metadata": {
    "execution": {
     "iopub.execute_input": "2025-02-14T02:46:46.962755Z",
     "iopub.status.busy": "2025-02-14T02:46:46.962540Z",
     "iopub.status.idle": "2025-02-14T02:46:47.153754Z",
     "shell.execute_reply": "2025-02-14T02:46:47.152882Z"
    },
    "papermill": {
     "duration": 0.201896,
     "end_time": "2025-02-14T02:46:47.155178",
     "exception": false,
     "start_time": "2025-02-14T02:46:46.953282",
     "status": "completed"
    },
    "tags": []
   },
   "outputs": [
    {
     "name": "stdout",
     "output_type": "stream",
     "text": [
      "Shape after max-pooling and reshaping: (1836, 874)\n"
     ]
    }
   ],
   "source": [
    "\n",
    "# Reshape to group every 5 consecutive elements:\n",
    "# New shape will be (num_samples, 874, 5, 1)\n",
    "grouped_length = X_train_padded.shape[1] // 5  # Should be 874\n",
    "X_train_grouped = X_train_padded.reshape(num_samples, grouped_length, 5, channels)\n",
    "\n",
    "# Take the max over the 5 elements for each group (axis=2)\n",
    "# Resulting shape is (num_samples, 874, 1)\n",
    "X_train_max = np.max(X_train_grouped, axis=2)\n",
    "\n",
    "# Optionally, if your model expects inputs of shape (num_samples, 874),\n",
    "# reshape the array from (num_samples, 874, 1) to (num_samples, 874)\n",
    "X_train_final = X_train_max.reshape(num_samples, grouped_length)\n",
    "\n",
    "# Check the resulting shape\n",
    "print(\"Shape after max-pooling and reshaping:\", X_train_final.shape)\n"
   ]
  },
  {
   "cell_type": "code",
   "execution_count": 38,
   "id": "c053498e",
   "metadata": {
    "execution": {
     "iopub.execute_input": "2025-02-14T02:46:47.174356Z",
     "iopub.status.busy": "2025-02-14T02:46:47.174071Z",
     "iopub.status.idle": "2025-02-14T02:46:47.203077Z",
     "shell.execute_reply": "2025-02-14T02:46:47.202373Z"
    },
    "papermill": {
     "duration": 0.039696,
     "end_time": "2025-02-14T02:46:47.204268",
     "exception": false,
     "start_time": "2025-02-14T02:46:47.164572",
     "status": "completed"
    },
    "tags": []
   },
   "outputs": [
    {
     "name": "stdout",
     "output_type": "stream",
     "text": [
      "Shape after max-pooling and reshaping: (204, 874)\n"
     ]
    }
   ],
   "source": [
    "# Assume X_train has the shape (num_samples, 4369, 1)\n",
    "num_samples, original_length, channels = X_test.shape\n",
    "\n",
    "# Calculate padding length so that the length becomes divisible by 5.\n",
    "pad_len = 1\n",
    "\n",
    "# Pad along the sequence axis (axis=1) with -np.inf so that the max operation is not affected.\n",
    "X_test_padded = np.pad(\n",
    "    X_test,\n",
    "    pad_width=((0, 0), (0, pad_len), (0, 0)),\n",
    "    mode='constant',\n",
    "    constant_values=-np.inf\n",
    ")\n",
    "\n",
    "# Now X_train_padded has the shape (num_samples, 4370, 1).\n",
    "\n",
    "# Reshape to group every 5 consecutive elements:\n",
    "# New shape will be (num_samples, 874, 5, 1)\n",
    "grouped_length = X_test_padded.shape[1] // 5  # Should be 874\n",
    "X_test_grouped = X_test_padded.reshape(num_samples, grouped_length, 5, channels)\n",
    "\n",
    "# Take the max over the 5 elements for each group (axis=2)\n",
    "# Resulting shape is (num_samples, 874, 1)\n",
    "X_test_max = np.max(X_test_grouped, axis=2)\n",
    "\n",
    "# Optionally, if your model expects inputs of shape (num_samples, 874),\n",
    "# reshape the array from (num_samples, 874, 1) to (num_samples, 874)\n",
    "X_test_final = X_test_max.reshape(num_samples, grouped_length)\n",
    "\n",
    "# Check the resulting shape\n",
    "print(\"Shape after max-pooling and reshaping:\", X_test_final.shape)\n"
   ]
  },
  {
   "cell_type": "code",
   "execution_count": null,
   "id": "1608ff18",
   "metadata": {
    "papermill": {
     "duration": 0.008894,
     "end_time": "2025-02-14T02:46:47.222201",
     "exception": false,
     "start_time": "2025-02-14T02:46:47.213307",
     "status": "completed"
    },
    "tags": []
   },
   "outputs": [],
   "source": []
  },
  {
   "cell_type": "code",
   "execution_count": 39,
   "id": "db6f3fc0",
   "metadata": {
    "execution": {
     "iopub.execute_input": "2025-02-14T02:46:47.240678Z",
     "iopub.status.busy": "2025-02-14T02:46:47.240470Z",
     "iopub.status.idle": "2025-02-14T02:46:47.244814Z",
     "shell.execute_reply": "2025-02-14T02:46:47.244184Z"
    },
    "papermill": {
     "duration": 0.014685,
     "end_time": "2025-02-14T02:46:47.245891",
     "exception": false,
     "start_time": "2025-02-14T02:46:47.231206",
     "status": "completed"
    },
    "tags": []
   },
   "outputs": [
    {
     "data": {
      "text/plain": [
       "'/kaggle'"
      ]
     },
     "execution_count": 39,
     "metadata": {},
     "output_type": "execute_result"
    }
   ],
   "source": [
    "%pwd"
   ]
  },
  {
   "cell_type": "code",
   "execution_count": 40,
   "id": "39aea10e",
   "metadata": {
    "execution": {
     "iopub.execute_input": "2025-02-14T02:46:47.264352Z",
     "iopub.status.busy": "2025-02-14T02:46:47.264151Z",
     "iopub.status.idle": "2025-02-14T02:46:47.267020Z",
     "shell.execute_reply": "2025-02-14T02:46:47.266355Z"
    },
    "papermill": {
     "duration": 0.013615,
     "end_time": "2025-02-14T02:46:47.268357",
     "exception": false,
     "start_time": "2025-02-14T02:46:47.254742",
     "status": "completed"
    },
    "tags": []
   },
   "outputs": [],
   "source": [
    "os.chdir(\"working\")"
   ]
  },
  {
   "cell_type": "code",
   "execution_count": 41,
   "id": "34966ed1",
   "metadata": {
    "execution": {
     "iopub.execute_input": "2025-02-14T02:46:47.287392Z",
     "iopub.status.busy": "2025-02-14T02:46:47.287160Z",
     "iopub.status.idle": "2025-02-14T06:12:08.165973Z",
     "shell.execute_reply": "2025-02-14T06:12:08.164329Z"
    },
    "papermill": {
     "duration": 12320.890374,
     "end_time": "2025-02-14T06:12:08.167961",
     "exception": false,
     "start_time": "2025-02-14T02:46:47.277587",
     "status": "completed"
    },
    "tags": []
   },
   "outputs": [
    {
     "name": "stdout",
     "output_type": "stream",
     "text": [
      "Epoch 1/200\n",
      "\u001b[1m58/58\u001b[0m \u001b[32m━━━━━━━━━━━━━━━━━━━━\u001b[0m\u001b[37m\u001b[0m \u001b[1m0s\u001b[0m 882ms/step - loss: 22.1733 - mae: 4.0344\n",
      "Epoch 1: saving model to model_checkpoint.keras\n",
      "\u001b[1m58/58\u001b[0m \u001b[32m━━━━━━━━━━━━━━━━━━━━\u001b[0m\u001b[37m\u001b[0m \u001b[1m73s\u001b[0m 968ms/step - loss: 22.1562 - mae: 4.0327 - val_loss: 16.6399 - val_mae: 3.4201\n",
      "Epoch 2/200\n",
      "\u001b[1m58/58\u001b[0m \u001b[32m━━━━━━━━━━━━━━━━━━━━\u001b[0m\u001b[37m\u001b[0m \u001b[1m0s\u001b[0m 936ms/step - loss: 18.2873 - mae: 3.6480\n",
      "Epoch 2: saving model to model_checkpoint.keras\n",
      "\u001b[1m58/58\u001b[0m \u001b[32m━━━━━━━━━━━━━━━━━━━━\u001b[0m\u001b[37m\u001b[0m \u001b[1m58s\u001b[0m 995ms/step - loss: 18.3011 - mae: 3.6491 - val_loss: 15.5534 - val_mae: 3.2656\n",
      "Epoch 3/200\n",
      "\u001b[1m58/58\u001b[0m \u001b[32m━━━━━━━━━━━━━━━━━━━━\u001b[0m\u001b[37m\u001b[0m \u001b[1m0s\u001b[0m 1s/step - loss: 17.7457 - mae: 3.5459\n",
      "Epoch 3: saving model to model_checkpoint.keras\n",
      "\u001b[1m58/58\u001b[0m \u001b[32m━━━━━━━━━━━━━━━━━━━━\u001b[0m\u001b[37m\u001b[0m \u001b[1m62s\u001b[0m 1s/step - loss: 17.7342 - mae: 3.5446 - val_loss: 14.7205 - val_mae: 3.1138\n",
      "Epoch 4/200\n",
      "\u001b[1m58/58\u001b[0m \u001b[32m━━━━━━━━━━━━━━━━━━━━\u001b[0m\u001b[37m\u001b[0m \u001b[1m0s\u001b[0m 991ms/step - loss: 17.2628 - mae: 3.4938\n",
      "Epoch 4: saving model to model_checkpoint.keras\n",
      "\u001b[1m58/58\u001b[0m \u001b[32m━━━━━━━━━━━━━━━━━━━━\u001b[0m\u001b[37m\u001b[0m \u001b[1m61s\u001b[0m 1s/step - loss: 17.2571 - mae: 3.4932 - val_loss: 14.0925 - val_mae: 3.0484\n",
      "Epoch 5/200\n",
      "\u001b[1m58/58\u001b[0m \u001b[32m━━━━━━━━━━━━━━━━━━━━\u001b[0m\u001b[37m\u001b[0m \u001b[1m0s\u001b[0m 991ms/step - loss: 16.4529 - mae: 3.3835\n",
      "Epoch 5: saving model to model_checkpoint.keras\n",
      "\u001b[1m58/58\u001b[0m \u001b[32m━━━━━━━━━━━━━━━━━━━━\u001b[0m\u001b[37m\u001b[0m \u001b[1m61s\u001b[0m 1s/step - loss: 16.4497 - mae: 3.3834 - val_loss: 14.9614 - val_mae: 3.0852\n",
      "Epoch 6/200\n",
      "\u001b[1m58/58\u001b[0m \u001b[32m━━━━━━━━━━━━━━━━━━━━\u001b[0m\u001b[37m\u001b[0m \u001b[1m0s\u001b[0m 998ms/step - loss: 16.6398 - mae: 3.4264\n",
      "Epoch 6: saving model to model_checkpoint.keras\n",
      "\u001b[1m58/58\u001b[0m \u001b[32m━━━━━━━━━━━━━━━━━━━━\u001b[0m\u001b[37m\u001b[0m \u001b[1m62s\u001b[0m 1s/step - loss: 16.6386 - mae: 3.4265 - val_loss: 14.5404 - val_mae: 3.0243\n",
      "Epoch 7/200\n",
      "\u001b[1m58/58\u001b[0m \u001b[32m━━━━━━━━━━━━━━━━━━━━\u001b[0m\u001b[37m\u001b[0m \u001b[1m0s\u001b[0m 1s/step - loss: 16.1663 - mae: 3.3746\n",
      "Epoch 7: saving model to model_checkpoint.keras\n",
      "\u001b[1m58/58\u001b[0m \u001b[32m━━━━━━━━━━━━━━━━━━━━\u001b[0m\u001b[37m\u001b[0m \u001b[1m62s\u001b[0m 1s/step - loss: 16.1691 - mae: 3.3752 - val_loss: 14.1562 - val_mae: 3.0015\n",
      "Epoch 8/200\n",
      "\u001b[1m58/58\u001b[0m \u001b[32m━━━━━━━━━━━━━━━━━━━━\u001b[0m\u001b[37m\u001b[0m \u001b[1m0s\u001b[0m 996ms/step - loss: 15.8951 - mae: 3.3481\n",
      "Epoch 8: saving model to model_checkpoint.keras\n",
      "\u001b[1m58/58\u001b[0m \u001b[32m━━━━━━━━━━━━━━━━━━━━\u001b[0m\u001b[37m\u001b[0m \u001b[1m61s\u001b[0m 1s/step - loss: 15.8932 - mae: 3.3477 - val_loss: 13.5321 - val_mae: 2.9980\n",
      "Epoch 9/200\n",
      "\u001b[1m58/58\u001b[0m \u001b[32m━━━━━━━━━━━━━━━━━━━━\u001b[0m\u001b[37m\u001b[0m \u001b[1m0s\u001b[0m 999ms/step - loss: 15.5049 - mae: 3.3309\n",
      "Epoch 9: saving model to model_checkpoint.keras\n",
      "\u001b[1m58/58\u001b[0m \u001b[32m━━━━━━━━━━━━━━━━━━━━\u001b[0m\u001b[37m\u001b[0m \u001b[1m61s\u001b[0m 1s/step - loss: 15.5065 - mae: 3.3310 - val_loss: 13.1784 - val_mae: 2.9402\n",
      "Epoch 10/200\n",
      "\u001b[1m58/58\u001b[0m \u001b[32m━━━━━━━━━━━━━━━━━━━━\u001b[0m\u001b[37m\u001b[0m \u001b[1m0s\u001b[0m 995ms/step - loss: 16.2698 - mae: 3.3861\n",
      "Epoch 10: saving model to model_checkpoint.keras\n",
      "\u001b[1m58/58\u001b[0m \u001b[32m━━━━━━━━━━━━━━━━━━━━\u001b[0m\u001b[37m\u001b[0m \u001b[1m62s\u001b[0m 1s/step - loss: 16.2550 - mae: 3.3847 - val_loss: 13.6607 - val_mae: 2.9089\n",
      "Epoch 11/200\n",
      "\u001b[1m58/58\u001b[0m \u001b[32m━━━━━━━━━━━━━━━━━━━━\u001b[0m\u001b[37m\u001b[0m \u001b[1m0s\u001b[0m 996ms/step - loss: 15.0383 - mae: 3.2571\n",
      "Epoch 11: saving model to model_checkpoint.keras\n",
      "\u001b[1m58/58\u001b[0m \u001b[32m━━━━━━━━━━━━━━━━━━━━\u001b[0m\u001b[37m\u001b[0m \u001b[1m61s\u001b[0m 1s/step - loss: 15.0419 - mae: 3.2574 - val_loss: 13.3323 - val_mae: 2.8913\n",
      "Epoch 12/200\n",
      "\u001b[1m58/58\u001b[0m \u001b[32m━━━━━━━━━━━━━━━━━━━━\u001b[0m\u001b[37m\u001b[0m \u001b[1m0s\u001b[0m 991ms/step - loss: 14.5819 - mae: 3.1722\n",
      "Epoch 12: saving model to model_checkpoint.keras\n",
      "\u001b[1m58/58\u001b[0m \u001b[32m━━━━━━━━━━━━━━━━━━━━\u001b[0m\u001b[37m\u001b[0m \u001b[1m62s\u001b[0m 1s/step - loss: 14.5867 - mae: 3.1730 - val_loss: 13.7743 - val_mae: 2.9413\n",
      "Epoch 13/200\n",
      "\u001b[1m58/58\u001b[0m \u001b[32m━━━━━━━━━━━━━━━━━━━━\u001b[0m\u001b[37m\u001b[0m \u001b[1m0s\u001b[0m 995ms/step - loss: 14.8776 - mae: 3.2392\n",
      "Epoch 13: saving model to model_checkpoint.keras\n",
      "\u001b[1m58/58\u001b[0m \u001b[32m━━━━━━━━━━━━━━━━━━━━\u001b[0m\u001b[37m\u001b[0m \u001b[1m61s\u001b[0m 1s/step - loss: 14.8783 - mae: 3.2391 - val_loss: 12.8145 - val_mae: 2.8522\n",
      "Epoch 14/200\n",
      "\u001b[1m58/58\u001b[0m \u001b[32m━━━━━━━━━━━━━━━━━━━━\u001b[0m\u001b[37m\u001b[0m \u001b[1m0s\u001b[0m 1s/step - loss: 14.1924 - mae: 3.1487\n",
      "Epoch 14: saving model to model_checkpoint.keras\n",
      "\u001b[1m58/58\u001b[0m \u001b[32m━━━━━━━━━━━━━━━━━━━━\u001b[0m\u001b[37m\u001b[0m \u001b[1m62s\u001b[0m 1s/step - loss: 14.2011 - mae: 3.1500 - val_loss: 12.7912 - val_mae: 2.8683\n",
      "Epoch 15/200\n",
      "\u001b[1m58/58\u001b[0m \u001b[32m━━━━━━━━━━━━━━━━━━━━\u001b[0m\u001b[37m\u001b[0m \u001b[1m0s\u001b[0m 989ms/step - loss: 14.5547 - mae: 3.2057\n",
      "Epoch 15: saving model to model_checkpoint.keras\n",
      "\u001b[1m58/58\u001b[0m \u001b[32m━━━━━━━━━━━━━━━━━━━━\u001b[0m\u001b[37m\u001b[0m \u001b[1m61s\u001b[0m 1s/step - loss: 14.5464 - mae: 3.2041 - val_loss: 12.7255 - val_mae: 2.8322\n",
      "Epoch 16/200\n",
      "\u001b[1m58/58\u001b[0m \u001b[32m━━━━━━━━━━━━━━━━━━━━\u001b[0m\u001b[37m\u001b[0m \u001b[1m0s\u001b[0m 990ms/step - loss: 14.5760 - mae: 3.1758\n",
      "Epoch 16: saving model to model_checkpoint.keras\n",
      "\u001b[1m58/58\u001b[0m \u001b[32m━━━━━━━━━━━━━━━━━━━━\u001b[0m\u001b[37m\u001b[0m \u001b[1m61s\u001b[0m 1s/step - loss: 14.5760 - mae: 3.1759 - val_loss: 11.9418 - val_mae: 2.7192\n",
      "Epoch 17/200\n",
      "\u001b[1m58/58\u001b[0m \u001b[32m━━━━━━━━━━━━━━━━━━━━\u001b[0m\u001b[37m\u001b[0m \u001b[1m0s\u001b[0m 1s/step - loss: 14.0084 - mae: 3.1198\n",
      "Epoch 17: saving model to model_checkpoint.keras\n",
      "\u001b[1m58/58\u001b[0m \u001b[32m━━━━━━━━━━━━━━━━━━━━\u001b[0m\u001b[37m\u001b[0m \u001b[1m61s\u001b[0m 1s/step - loss: 14.0139 - mae: 3.1204 - val_loss: 12.2643 - val_mae: 2.8088\n",
      "Epoch 18/200\n",
      "\u001b[1m58/58\u001b[0m \u001b[32m━━━━━━━━━━━━━━━━━━━━\u001b[0m\u001b[37m\u001b[0m \u001b[1m0s\u001b[0m 998ms/step - loss: 14.5761 - mae: 3.1803\n",
      "Epoch 18: saving model to model_checkpoint.keras\n",
      "\u001b[1m58/58\u001b[0m \u001b[32m━━━━━━━━━━━━━━━━━━━━\u001b[0m\u001b[37m\u001b[0m \u001b[1m61s\u001b[0m 1s/step - loss: 14.5527 - mae: 3.1775 - val_loss: 12.2822 - val_mae: 2.8127\n",
      "Epoch 19/200\n",
      "\u001b[1m58/58\u001b[0m \u001b[32m━━━━━━━━━━━━━━━━━━━━\u001b[0m\u001b[37m\u001b[0m \u001b[1m0s\u001b[0m 998ms/step - loss: 14.0713 - mae: 3.1161\n",
      "Epoch 19: saving model to model_checkpoint.keras\n",
      "\u001b[1m58/58\u001b[0m \u001b[32m━━━━━━━━━━━━━━━━━━━━\u001b[0m\u001b[37m\u001b[0m \u001b[1m61s\u001b[0m 1s/step - loss: 14.0718 - mae: 3.1160 - val_loss: 11.5684 - val_mae: 2.6669\n",
      "Epoch 20/200\n",
      "\u001b[1m58/58\u001b[0m \u001b[32m━━━━━━━━━━━━━━━━━━━━\u001b[0m\u001b[37m\u001b[0m \u001b[1m0s\u001b[0m 996ms/step - loss: 13.7101 - mae: 3.0614\n",
      "Epoch 20: saving model to model_checkpoint.keras\n",
      "\u001b[1m58/58\u001b[0m \u001b[32m━━━━━━━━━━━━━━━━━━━━\u001b[0m\u001b[37m\u001b[0m \u001b[1m62s\u001b[0m 1s/step - loss: 13.7127 - mae: 3.0614 - val_loss: 11.2483 - val_mae: 2.6515\n",
      "Epoch 21/200\n",
      "\u001b[1m58/58\u001b[0m \u001b[32m━━━━━━━━━━━━━━━━━━━━\u001b[0m\u001b[37m\u001b[0m \u001b[1m0s\u001b[0m 1000ms/step - loss: 13.5755 - mae: 3.0523\n",
      "Epoch 21: saving model to model_checkpoint.keras\n",
      "\u001b[1m58/58\u001b[0m \u001b[32m━━━━━━━━━━━━━━━━━━━━\u001b[0m\u001b[37m\u001b[0m \u001b[1m61s\u001b[0m 1s/step - loss: 13.5811 - mae: 3.0535 - val_loss: 12.0608 - val_mae: 2.7688\n",
      "Epoch 22/200\n",
      "\u001b[1m58/58\u001b[0m \u001b[32m━━━━━━━━━━━━━━━━━━━━\u001b[0m\u001b[37m\u001b[0m \u001b[1m0s\u001b[0m 995ms/step - loss: 14.1212 - mae: 3.1364\n",
      "Epoch 22: saving model to model_checkpoint.keras\n",
      "\u001b[1m58/58\u001b[0m \u001b[32m━━━━━━━━━━━━━━━━━━━━\u001b[0m\u001b[37m\u001b[0m \u001b[1m61s\u001b[0m 1s/step - loss: 14.1098 - mae: 3.1345 - val_loss: 11.8987 - val_mae: 2.7390\n",
      "Epoch 23/200\n",
      "\u001b[1m58/58\u001b[0m \u001b[32m━━━━━━━━━━━━━━━━━━━━\u001b[0m\u001b[37m\u001b[0m \u001b[1m0s\u001b[0m 999ms/step - loss: 13.6283 - mae: 3.0427\n",
      "Epoch 23: saving model to model_checkpoint.keras\n",
      "\u001b[1m58/58\u001b[0m \u001b[32m━━━━━━━━━━━━━━━━━━━━\u001b[0m\u001b[37m\u001b[0m \u001b[1m62s\u001b[0m 1s/step - loss: 13.6332 - mae: 3.0433 - val_loss: 11.5774 - val_mae: 2.6750\n",
      "Epoch 24/200\n",
      "\u001b[1m58/58\u001b[0m \u001b[32m━━━━━━━━━━━━━━━━━━━━\u001b[0m\u001b[37m\u001b[0m \u001b[1m0s\u001b[0m 1s/step - loss: 12.0801 - mae: 2.8413\n",
      "Epoch 24: saving model to model_checkpoint.keras\n",
      "\u001b[1m58/58\u001b[0m \u001b[32m━━━━━━━━━━━━━━━━━━━━\u001b[0m\u001b[37m\u001b[0m \u001b[1m62s\u001b[0m 1s/step - loss: 12.0921 - mae: 2.8430 - val_loss: 11.4808 - val_mae: 2.6587\n",
      "Epoch 25/200\n",
      "\u001b[1m58/58\u001b[0m \u001b[32m━━━━━━━━━━━━━━━━━━━━\u001b[0m\u001b[37m\u001b[0m \u001b[1m0s\u001b[0m 995ms/step - loss: 12.6317 - mae: 2.9285\n",
      "Epoch 25: saving model to model_checkpoint.keras\n",
      "\u001b[1m58/58\u001b[0m \u001b[32m━━━━━━━━━━━━━━━━━━━━\u001b[0m\u001b[37m\u001b[0m \u001b[1m61s\u001b[0m 1s/step - loss: 12.6268 - mae: 2.9274 - val_loss: 10.7116 - val_mae: 2.5591\n",
      "Epoch 26/200\n",
      "\u001b[1m58/58\u001b[0m \u001b[32m━━━━━━━━━━━━━━━━━━━━\u001b[0m\u001b[37m\u001b[0m \u001b[1m0s\u001b[0m 997ms/step - loss: 13.1641 - mae: 2.9910\n",
      "Epoch 26: saving model to model_checkpoint.keras\n",
      "\u001b[1m58/58\u001b[0m \u001b[32m━━━━━━━━━━━━━━━━━━━━\u001b[0m\u001b[37m\u001b[0m \u001b[1m62s\u001b[0m 1s/step - loss: 13.1501 - mae: 2.9892 - val_loss: 11.7135 - val_mae: 2.6926\n",
      "Epoch 27/200\n",
      "\u001b[1m58/58\u001b[0m \u001b[32m━━━━━━━━━━━━━━━━━━━━\u001b[0m\u001b[37m\u001b[0m \u001b[1m0s\u001b[0m 1s/step - loss: 12.6229 - mae: 2.9352\n",
      "Epoch 27: saving model to model_checkpoint.keras\n",
      "\u001b[1m58/58\u001b[0m \u001b[32m━━━━━━━━━━━━━━━━━━━━\u001b[0m\u001b[37m\u001b[0m \u001b[1m62s\u001b[0m 1s/step - loss: 12.6309 - mae: 2.9362 - val_loss: 11.3506 - val_mae: 2.6137\n",
      "Epoch 28/200\n",
      "\u001b[1m58/58\u001b[0m \u001b[32m━━━━━━━━━━━━━━━━━━━━\u001b[0m\u001b[37m\u001b[0m \u001b[1m0s\u001b[0m 1s/step - loss: 12.6350 - mae: 2.9183\n",
      "Epoch 28: saving model to model_checkpoint.keras\n",
      "\u001b[1m58/58\u001b[0m \u001b[32m━━━━━━━━━━━━━━━━━━━━\u001b[0m\u001b[37m\u001b[0m \u001b[1m62s\u001b[0m 1s/step - loss: 12.6452 - mae: 2.9196 - val_loss: 10.6640 - val_mae: 2.5687\n",
      "Epoch 29/200\n",
      "\u001b[1m58/58\u001b[0m \u001b[32m━━━━━━━━━━━━━━━━━━━━\u001b[0m\u001b[37m\u001b[0m \u001b[1m0s\u001b[0m 1s/step - loss: 12.5969 - mae: 2.9419\n",
      "Epoch 29: saving model to model_checkpoint.keras\n",
      "\u001b[1m58/58\u001b[0m \u001b[32m━━━━━━━━━━━━━━━━━━━━\u001b[0m\u001b[37m\u001b[0m \u001b[1m61s\u001b[0m 1s/step - loss: 12.5973 - mae: 2.9413 - val_loss: 10.8597 - val_mae: 2.6146\n",
      "Epoch 30/200\n",
      "\u001b[1m58/58\u001b[0m \u001b[32m━━━━━━━━━━━━━━━━━━━━\u001b[0m\u001b[37m\u001b[0m \u001b[1m0s\u001b[0m 998ms/step - loss: 12.0958 - mae: 2.8601\n",
      "Epoch 30: saving model to model_checkpoint.keras\n",
      "\u001b[1m58/58\u001b[0m \u001b[32m━━━━━━━━━━━━━━━━━━━━\u001b[0m\u001b[37m\u001b[0m \u001b[1m61s\u001b[0m 1s/step - loss: 12.0954 - mae: 2.8602 - val_loss: 11.2374 - val_mae: 2.5955\n",
      "Epoch 31/200\n",
      "\u001b[1m58/58\u001b[0m \u001b[32m━━━━━━━━━━━━━━━━━━━━\u001b[0m\u001b[37m\u001b[0m \u001b[1m0s\u001b[0m 995ms/step - loss: 12.8846 - mae: 2.9328\n",
      "Epoch 31: saving model to model_checkpoint.keras\n",
      "\u001b[1m58/58\u001b[0m \u001b[32m━━━━━━━━━━━━━━━━━━━━\u001b[0m\u001b[37m\u001b[0m \u001b[1m61s\u001b[0m 1s/step - loss: 12.8804 - mae: 2.9325 - val_loss: 10.7289 - val_mae: 2.5694\n",
      "Epoch 32/200\n",
      "\u001b[1m58/58\u001b[0m \u001b[32m━━━━━━━━━━━━━━━━━━━━\u001b[0m\u001b[37m\u001b[0m \u001b[1m0s\u001b[0m 996ms/step - loss: 12.0089 - mae: 2.8343\n",
      "Epoch 32: saving model to model_checkpoint.keras\n",
      "\u001b[1m58/58\u001b[0m \u001b[32m━━━━━━━━━━━━━━━━━━━━\u001b[0m\u001b[37m\u001b[0m \u001b[1m61s\u001b[0m 1s/step - loss: 12.0110 - mae: 2.8345 - val_loss: 10.5758 - val_mae: 2.5476\n",
      "Epoch 33/200\n",
      "\u001b[1m58/58\u001b[0m \u001b[32m━━━━━━━━━━━━━━━━━━━━\u001b[0m\u001b[37m\u001b[0m \u001b[1m0s\u001b[0m 1s/step - loss: 11.8803 - mae: 2.8082\n",
      "Epoch 33: saving model to model_checkpoint.keras\n",
      "\u001b[1m58/58\u001b[0m \u001b[32m━━━━━━━━━━━━━━━━━━━━\u001b[0m\u001b[37m\u001b[0m \u001b[1m62s\u001b[0m 1s/step - loss: 11.8805 - mae: 2.8080 - val_loss: 9.9441 - val_mae: 2.4698\n",
      "Epoch 34/200\n",
      "\u001b[1m58/58\u001b[0m \u001b[32m━━━━━━━━━━━━━━━━━━━━\u001b[0m\u001b[37m\u001b[0m \u001b[1m0s\u001b[0m 1s/step - loss: 11.3487 - mae: 2.7481\n",
      "Epoch 34: saving model to model_checkpoint.keras\n",
      "\u001b[1m58/58\u001b[0m \u001b[32m━━━━━━━━━━━━━━━━━━━━\u001b[0m\u001b[37m\u001b[0m \u001b[1m61s\u001b[0m 1s/step - loss: 11.3574 - mae: 2.7490 - val_loss: 10.0428 - val_mae: 2.4396\n",
      "Epoch 35/200\n",
      "\u001b[1m58/58\u001b[0m \u001b[32m━━━━━━━━━━━━━━━━━━━━\u001b[0m\u001b[37m\u001b[0m \u001b[1m0s\u001b[0m 1s/step - loss: 11.7026 - mae: 2.8307\n",
      "Epoch 35: saving model to model_checkpoint.keras\n",
      "\u001b[1m58/58\u001b[0m \u001b[32m━━━━━━━━━━━━━━━━━━━━\u001b[0m\u001b[37m\u001b[0m \u001b[1m62s\u001b[0m 1s/step - loss: 11.7039 - mae: 2.8308 - val_loss: 10.2488 - val_mae: 2.5154\n",
      "Epoch 36/200\n",
      "\u001b[1m58/58\u001b[0m \u001b[32m━━━━━━━━━━━━━━━━━━━━\u001b[0m\u001b[37m\u001b[0m \u001b[1m0s\u001b[0m 998ms/step - loss: 11.3941 - mae: 2.7425\n",
      "Epoch 36: saving model to model_checkpoint.keras\n",
      "\u001b[1m58/58\u001b[0m \u001b[32m━━━━━━━━━━━━━━━━━━━━\u001b[0m\u001b[37m\u001b[0m \u001b[1m62s\u001b[0m 1s/step - loss: 11.3930 - mae: 2.7428 - val_loss: 10.9154 - val_mae: 2.5692\n",
      "Epoch 37/200\n",
      "\u001b[1m58/58\u001b[0m \u001b[32m━━━━━━━━━━━━━━━━━━━━\u001b[0m\u001b[37m\u001b[0m \u001b[1m0s\u001b[0m 1s/step - loss: 11.3423 - mae: 2.7557\n",
      "Epoch 37: saving model to model_checkpoint.keras\n",
      "\u001b[1m58/58\u001b[0m \u001b[32m━━━━━━━━━━━━━━━━━━━━\u001b[0m\u001b[37m\u001b[0m \u001b[1m62s\u001b[0m 1s/step - loss: 11.3359 - mae: 2.7549 - val_loss: 9.3780 - val_mae: 2.3662\n",
      "Epoch 38/200\n",
      "\u001b[1m58/58\u001b[0m \u001b[32m━━━━━━━━━━━━━━━━━━━━\u001b[0m\u001b[37m\u001b[0m \u001b[1m0s\u001b[0m 1s/step - loss: 10.9274 - mae: 2.6978\n",
      "Epoch 38: saving model to model_checkpoint.keras\n",
      "\u001b[1m58/58\u001b[0m \u001b[32m━━━━━━━━━━━━━━━━━━━━\u001b[0m\u001b[37m\u001b[0m \u001b[1m62s\u001b[0m 1s/step - loss: 10.9382 - mae: 2.6993 - val_loss: 10.1198 - val_mae: 2.4808\n",
      "Epoch 39/200\n",
      "\u001b[1m58/58\u001b[0m \u001b[32m━━━━━━━━━━━━━━━━━━━━\u001b[0m\u001b[37m\u001b[0m \u001b[1m0s\u001b[0m 1s/step - loss: 10.8723 - mae: 2.7136\n",
      "Epoch 39: saving model to model_checkpoint.keras\n",
      "\u001b[1m58/58\u001b[0m \u001b[32m━━━━━━━━━━━━━━━━━━━━\u001b[0m\u001b[37m\u001b[0m \u001b[1m62s\u001b[0m 1s/step - loss: 10.8669 - mae: 2.7125 - val_loss: 9.6257 - val_mae: 2.4266\n",
      "Epoch 40/200\n",
      "\u001b[1m58/58\u001b[0m \u001b[32m━━━━━━━━━━━━━━━━━━━━\u001b[0m\u001b[37m\u001b[0m \u001b[1m0s\u001b[0m 996ms/step - loss: 10.9064 - mae: 2.6975\n",
      "Epoch 40: saving model to model_checkpoint.keras\n",
      "\u001b[1m58/58\u001b[0m \u001b[32m━━━━━━━━━━━━━━━━━━━━\u001b[0m\u001b[37m\u001b[0m \u001b[1m62s\u001b[0m 1s/step - loss: 10.8996 - mae: 2.6960 - val_loss: 9.4205 - val_mae: 2.3357\n",
      "Epoch 41/200\n",
      "\u001b[1m58/58\u001b[0m \u001b[32m━━━━━━━━━━━━━━━━━━━━\u001b[0m\u001b[37m\u001b[0m \u001b[1m0s\u001b[0m 999ms/step - loss: 10.9529 - mae: 2.6834\n",
      "Epoch 41: saving model to model_checkpoint.keras\n",
      "\u001b[1m58/58\u001b[0m \u001b[32m━━━━━━━━━━━━━━━━━━━━\u001b[0m\u001b[37m\u001b[0m \u001b[1m62s\u001b[0m 1s/step - loss: 10.9497 - mae: 2.6833 - val_loss: 9.4219 - val_mae: 2.3500\n",
      "Epoch 42/200\n",
      "\u001b[1m58/58\u001b[0m \u001b[32m━━━━━━━━━━━━━━━━━━━━\u001b[0m\u001b[37m\u001b[0m \u001b[1m0s\u001b[0m 998ms/step - loss: 10.2310 - mae: 2.5857\n",
      "Epoch 42: saving model to model_checkpoint.keras\n",
      "\u001b[1m58/58\u001b[0m \u001b[32m━━━━━━━━━━━━━━━━━━━━\u001b[0m\u001b[37m\u001b[0m \u001b[1m61s\u001b[0m 1s/step - loss: 10.2442 - mae: 2.5876 - val_loss: 9.8307 - val_mae: 2.4430\n",
      "Epoch 43/200\n",
      "\u001b[1m58/58\u001b[0m \u001b[32m━━━━━━━━━━━━━━━━━━━━\u001b[0m\u001b[37m\u001b[0m \u001b[1m0s\u001b[0m 1000ms/step - loss: 10.8329 - mae: 2.6698\n",
      "Epoch 43: saving model to model_checkpoint.keras\n",
      "\u001b[1m58/58\u001b[0m \u001b[32m━━━━━━━━━━━━━━━━━━━━\u001b[0m\u001b[37m\u001b[0m \u001b[1m62s\u001b[0m 1s/step - loss: 10.8256 - mae: 2.6688 - val_loss: 9.1757 - val_mae: 2.3043\n",
      "Epoch 44/200\n",
      "\u001b[1m58/58\u001b[0m \u001b[32m━━━━━━━━━━━━━━━━━━━━\u001b[0m\u001b[37m\u001b[0m \u001b[1m0s\u001b[0m 1s/step - loss: 10.6906 - mae: 2.6478\n",
      "Epoch 44: saving model to model_checkpoint.keras\n",
      "\u001b[1m58/58\u001b[0m \u001b[32m━━━━━━━━━━━━━━━━━━━━\u001b[0m\u001b[37m\u001b[0m \u001b[1m62s\u001b[0m 1s/step - loss: 10.6778 - mae: 2.6460 - val_loss: 9.6503 - val_mae: 2.4229\n",
      "Epoch 45/200\n",
      "\u001b[1m58/58\u001b[0m \u001b[32m━━━━━━━━━━━━━━━━━━━━\u001b[0m\u001b[37m\u001b[0m \u001b[1m0s\u001b[0m 997ms/step - loss: 10.5709 - mae: 2.6222\n",
      "Epoch 45: saving model to model_checkpoint.keras\n",
      "\u001b[1m58/58\u001b[0m \u001b[32m━━━━━━━━━━━━━━━━━━━━\u001b[0m\u001b[37m\u001b[0m \u001b[1m61s\u001b[0m 1s/step - loss: 10.5688 - mae: 2.6222 - val_loss: 8.8841 - val_mae: 2.2963\n",
      "Epoch 46/200\n",
      "\u001b[1m58/58\u001b[0m \u001b[32m━━━━━━━━━━━━━━━━━━━━\u001b[0m\u001b[37m\u001b[0m \u001b[1m0s\u001b[0m 999ms/step - loss: 10.1872 - mae: 2.5779\n",
      "Epoch 46: saving model to model_checkpoint.keras\n",
      "\u001b[1m58/58\u001b[0m \u001b[32m━━━━━━━━━━━━━━━━━━━━\u001b[0m\u001b[37m\u001b[0m \u001b[1m62s\u001b[0m 1s/step - loss: 10.1874 - mae: 2.5781 - val_loss: 9.4099 - val_mae: 2.3329\n",
      "Epoch 47/200\n",
      "\u001b[1m58/58\u001b[0m \u001b[32m━━━━━━━━━━━━━━━━━━━━\u001b[0m\u001b[37m\u001b[0m \u001b[1m0s\u001b[0m 1s/step - loss: 10.1257 - mae: 2.5861\n",
      "Epoch 47: saving model to model_checkpoint.keras\n",
      "\u001b[1m58/58\u001b[0m \u001b[32m━━━━━━━━━━━━━━━━━━━━\u001b[0m\u001b[37m\u001b[0m \u001b[1m62s\u001b[0m 1s/step - loss: 10.1260 - mae: 2.5860 - val_loss: 9.3254 - val_mae: 2.3636\n",
      "Epoch 48/200\n",
      "\u001b[1m58/58\u001b[0m \u001b[32m━━━━━━━━━━━━━━━━━━━━\u001b[0m\u001b[37m\u001b[0m \u001b[1m0s\u001b[0m 998ms/step - loss: 9.7473 - mae: 2.5452\n",
      "Epoch 48: saving model to model_checkpoint.keras\n",
      "\u001b[1m58/58\u001b[0m \u001b[32m━━━━━━━━━━━━━━━━━━━━\u001b[0m\u001b[37m\u001b[0m \u001b[1m62s\u001b[0m 1s/step - loss: 9.7613 - mae: 2.5472 - val_loss: 8.7166 - val_mae: 2.2913\n",
      "Epoch 49/200\n",
      "\u001b[1m58/58\u001b[0m \u001b[32m━━━━━━━━━━━━━━━━━━━━\u001b[0m\u001b[37m\u001b[0m \u001b[1m0s\u001b[0m 998ms/step - loss: 9.8061 - mae: 2.5274\n",
      "Epoch 49: saving model to model_checkpoint.keras\n",
      "\u001b[1m58/58\u001b[0m \u001b[32m━━━━━━━━━━━━━━━━━━━━\u001b[0m\u001b[37m\u001b[0m \u001b[1m62s\u001b[0m 1s/step - loss: 9.8076 - mae: 2.5270 - val_loss: 8.9155 - val_mae: 2.3093\n",
      "Epoch 50/200\n",
      "\u001b[1m58/58\u001b[0m \u001b[32m━━━━━━━━━━━━━━━━━━━━\u001b[0m\u001b[37m\u001b[0m \u001b[1m0s\u001b[0m 1000ms/step - loss: 9.7626 - mae: 2.5222\n",
      "Epoch 50: saving model to model_checkpoint.keras\n",
      "\u001b[1m58/58\u001b[0m \u001b[32m━━━━━━━━━━━━━━━━━━━━\u001b[0m\u001b[37m\u001b[0m \u001b[1m61s\u001b[0m 1s/step - loss: 9.7548 - mae: 2.5215 - val_loss: 8.6648 - val_mae: 2.2103\n",
      "Epoch 51/200\n",
      "\u001b[1m58/58\u001b[0m \u001b[32m━━━━━━━━━━━━━━━━━━━━\u001b[0m\u001b[37m\u001b[0m \u001b[1m0s\u001b[0m 998ms/step - loss: 9.8786 - mae: 2.5446\n",
      "Epoch 51: saving model to model_checkpoint.keras\n",
      "\u001b[1m58/58\u001b[0m \u001b[32m━━━━━━━━━━━━━━━━━━━━\u001b[0m\u001b[37m\u001b[0m \u001b[1m62s\u001b[0m 1s/step - loss: 9.8755 - mae: 2.5442 - val_loss: 8.3477 - val_mae: 2.2074\n",
      "Epoch 52/200\n",
      "\u001b[1m58/58\u001b[0m \u001b[32m━━━━━━━━━━━━━━━━━━━━\u001b[0m\u001b[37m\u001b[0m \u001b[1m0s\u001b[0m 996ms/step - loss: 9.0513 - mae: 2.4063\n",
      "Epoch 52: saving model to model_checkpoint.keras\n",
      "\u001b[1m58/58\u001b[0m \u001b[32m━━━━━━━━━━━━━━━━━━━━\u001b[0m\u001b[37m\u001b[0m \u001b[1m61s\u001b[0m 1s/step - loss: 9.0563 - mae: 2.4070 - val_loss: 8.4347 - val_mae: 2.2411\n",
      "Epoch 53/200\n",
      "\u001b[1m58/58\u001b[0m \u001b[32m━━━━━━━━━━━━━━━━━━━━\u001b[0m\u001b[37m\u001b[0m \u001b[1m0s\u001b[0m 1000ms/step - loss: 8.9407 - mae: 2.4048\n",
      "Epoch 53: saving model to model_checkpoint.keras\n",
      "\u001b[1m58/58\u001b[0m \u001b[32m━━━━━━━━━━━━━━━━━━━━\u001b[0m\u001b[37m\u001b[0m \u001b[1m61s\u001b[0m 1s/step - loss: 8.9425 - mae: 2.4049 - val_loss: 8.5267 - val_mae: 2.2320\n",
      "Epoch 54/200\n",
      "\u001b[1m58/58\u001b[0m \u001b[32m━━━━━━━━━━━━━━━━━━━━\u001b[0m\u001b[37m\u001b[0m \u001b[1m0s\u001b[0m 1s/step - loss: 9.0178 - mae: 2.3959\n",
      "Epoch 54: saving model to model_checkpoint.keras\n",
      "\u001b[1m58/58\u001b[0m \u001b[32m━━━━━━━━━━━━━━━━━━━━\u001b[0m\u001b[37m\u001b[0m \u001b[1m62s\u001b[0m 1s/step - loss: 9.0137 - mae: 2.3953 - val_loss: 9.0219 - val_mae: 2.2904\n",
      "Epoch 55/200\n",
      "\u001b[1m58/58\u001b[0m \u001b[32m━━━━━━━━━━━━━━━━━━━━\u001b[0m\u001b[37m\u001b[0m \u001b[1m0s\u001b[0m 995ms/step - loss: 9.1382 - mae: 2.4429\n",
      "Epoch 55: saving model to model_checkpoint.keras\n",
      "\u001b[1m58/58\u001b[0m \u001b[32m━━━━━━━━━━━━━━━━━━━━\u001b[0m\u001b[37m\u001b[0m \u001b[1m62s\u001b[0m 1s/step - loss: 9.1345 - mae: 2.4425 - val_loss: 8.2451 - val_mae: 2.1892\n",
      "Epoch 56/200\n",
      "\u001b[1m58/58\u001b[0m \u001b[32m━━━━━━━━━━━━━━━━━━━━\u001b[0m\u001b[37m\u001b[0m \u001b[1m0s\u001b[0m 1s/step - loss: 8.8470 - mae: 2.3985\n",
      "Epoch 56: saving model to model_checkpoint.keras\n",
      "\u001b[1m58/58\u001b[0m \u001b[32m━━━━━━━━━━━━━━━━━━━━\u001b[0m\u001b[37m\u001b[0m \u001b[1m62s\u001b[0m 1s/step - loss: 8.8567 - mae: 2.3998 - val_loss: 7.9753 - val_mae: 2.1816\n",
      "Epoch 57/200\n",
      "\u001b[1m58/58\u001b[0m \u001b[32m━━━━━━━━━━━━━━━━━━━━\u001b[0m\u001b[37m\u001b[0m \u001b[1m0s\u001b[0m 995ms/step - loss: 8.2694 - mae: 2.2960\n",
      "Epoch 57: saving model to model_checkpoint.keras\n",
      "\u001b[1m58/58\u001b[0m \u001b[32m━━━━━━━━━━━━━━━━━━━━\u001b[0m\u001b[37m\u001b[0m \u001b[1m61s\u001b[0m 1s/step - loss: 8.2708 - mae: 2.2961 - val_loss: 7.8130 - val_mae: 2.1263\n",
      "Epoch 58/200\n",
      "\u001b[1m58/58\u001b[0m \u001b[32m━━━━━━━━━━━━━━━━━━━━\u001b[0m\u001b[37m\u001b[0m \u001b[1m0s\u001b[0m 998ms/step - loss: 8.9842 - mae: 2.3940\n",
      "Epoch 58: saving model to model_checkpoint.keras\n",
      "\u001b[1m58/58\u001b[0m \u001b[32m━━━━━━━━━━━━━━━━━━━━\u001b[0m\u001b[37m\u001b[0m \u001b[1m62s\u001b[0m 1s/step - loss: 8.9712 - mae: 2.3923 - val_loss: 7.8116 - val_mae: 2.1730\n",
      "Epoch 59/200\n",
      "\u001b[1m58/58\u001b[0m \u001b[32m━━━━━━━━━━━━━━━━━━━━\u001b[0m\u001b[37m\u001b[0m \u001b[1m0s\u001b[0m 999ms/step - loss: 8.1118 - mae: 2.2683\n",
      "Epoch 59: saving model to model_checkpoint.keras\n",
      "\u001b[1m58/58\u001b[0m \u001b[32m━━━━━━━━━━━━━━━━━━━━\u001b[0m\u001b[37m\u001b[0m \u001b[1m62s\u001b[0m 1s/step - loss: 8.1128 - mae: 2.2686 - val_loss: 7.8458 - val_mae: 2.1764\n",
      "Epoch 60/200\n",
      "\u001b[1m58/58\u001b[0m \u001b[32m━━━━━━━━━━━━━━━━━━━━\u001b[0m\u001b[37m\u001b[0m \u001b[1m0s\u001b[0m 1s/step - loss: 8.3787 - mae: 2.2783\n",
      "Epoch 60: saving model to model_checkpoint.keras\n",
      "\u001b[1m58/58\u001b[0m \u001b[32m━━━━━━━━━━━━━━━━━━━━\u001b[0m\u001b[37m\u001b[0m \u001b[1m61s\u001b[0m 1s/step - loss: 8.3872 - mae: 2.2801 - val_loss: 7.5410 - val_mae: 2.0787\n",
      "Epoch 61/200\n",
      "\u001b[1m58/58\u001b[0m \u001b[32m━━━━━━━━━━━━━━━━━━━━\u001b[0m\u001b[37m\u001b[0m \u001b[1m0s\u001b[0m 999ms/step - loss: 8.1685 - mae: 2.2626\n",
      "Epoch 61: saving model to model_checkpoint.keras\n",
      "\u001b[1m58/58\u001b[0m \u001b[32m━━━━━━━━━━━━━━━━━━━━\u001b[0m\u001b[37m\u001b[0m \u001b[1m62s\u001b[0m 1s/step - loss: 8.1661 - mae: 2.2630 - val_loss: 7.5337 - val_mae: 2.0951\n",
      "Epoch 62/200\n",
      "\u001b[1m58/58\u001b[0m \u001b[32m━━━━━━━━━━━━━━━━━━━━\u001b[0m\u001b[37m\u001b[0m \u001b[1m0s\u001b[0m 998ms/step - loss: 8.6352 - mae: 2.3572\n",
      "Epoch 62: saving model to model_checkpoint.keras\n",
      "\u001b[1m58/58\u001b[0m \u001b[32m━━━━━━━━━━━━━━━━━━━━\u001b[0m\u001b[37m\u001b[0m \u001b[1m61s\u001b[0m 1s/step - loss: 8.6291 - mae: 2.3562 - val_loss: 7.5381 - val_mae: 2.1140\n",
      "Epoch 63/200\n",
      "\u001b[1m58/58\u001b[0m \u001b[32m━━━━━━━━━━━━━━━━━━━━\u001b[0m\u001b[37m\u001b[0m \u001b[1m0s\u001b[0m 1000ms/step - loss: 7.8782 - mae: 2.2167\n",
      "Epoch 63: saving model to model_checkpoint.keras\n",
      "\u001b[1m58/58\u001b[0m \u001b[32m━━━━━━━━━━━━━━━━━━━━\u001b[0m\u001b[37m\u001b[0m \u001b[1m61s\u001b[0m 1s/step - loss: 7.8814 - mae: 2.2175 - val_loss: 7.5235 - val_mae: 2.1245\n",
      "Epoch 64/200\n",
      "\u001b[1m58/58\u001b[0m \u001b[32m━━━━━━━━━━━━━━━━━━━━\u001b[0m\u001b[37m\u001b[0m \u001b[1m0s\u001b[0m 1000ms/step - loss: 7.9003 - mae: 2.2548\n",
      "Epoch 64: saving model to model_checkpoint.keras\n",
      "\u001b[1m58/58\u001b[0m \u001b[32m━━━━━━━━━━━━━━━━━━━━\u001b[0m\u001b[37m\u001b[0m \u001b[1m61s\u001b[0m 1s/step - loss: 7.9070 - mae: 2.2560 - val_loss: 7.0019 - val_mae: 2.0379\n",
      "Epoch 65/200\n",
      "\u001b[1m58/58\u001b[0m \u001b[32m━━━━━━━━━━━━━━━━━━━━\u001b[0m\u001b[37m\u001b[0m \u001b[1m0s\u001b[0m 1s/step - loss: 7.8905 - mae: 2.2422\n",
      "Epoch 65: saving model to model_checkpoint.keras\n",
      "\u001b[1m58/58\u001b[0m \u001b[32m━━━━━━━━━━━━━━━━━━━━\u001b[0m\u001b[37m\u001b[0m \u001b[1m62s\u001b[0m 1s/step - loss: 7.8851 - mae: 2.2412 - val_loss: 7.4856 - val_mae: 2.0486\n",
      "Epoch 66/200\n",
      "\u001b[1m58/58\u001b[0m \u001b[32m━━━━━━━━━━━━━━━━━━━━\u001b[0m\u001b[37m\u001b[0m \u001b[1m0s\u001b[0m 1s/step - loss: 7.2050 - mae: 2.1449\n",
      "Epoch 66: saving model to model_checkpoint.keras\n",
      "\u001b[1m58/58\u001b[0m \u001b[32m━━━━━━━━━━━━━━━━━━━━\u001b[0m\u001b[37m\u001b[0m \u001b[1m62s\u001b[0m 1s/step - loss: 7.2130 - mae: 2.1461 - val_loss: 7.0826 - val_mae: 2.0388\n",
      "Epoch 67/200\n",
      "\u001b[1m58/58\u001b[0m \u001b[32m━━━━━━━━━━━━━━━━━━━━\u001b[0m\u001b[37m\u001b[0m \u001b[1m0s\u001b[0m 1s/step - loss: 7.5419 - mae: 2.1842\n",
      "Epoch 67: saving model to model_checkpoint.keras\n",
      "\u001b[1m58/58\u001b[0m \u001b[32m━━━━━━━━━━━━━━━━━━━━\u001b[0m\u001b[37m\u001b[0m \u001b[1m62s\u001b[0m 1s/step - loss: 7.5445 - mae: 2.1848 - val_loss: 7.1561 - val_mae: 2.0594\n",
      "Epoch 68/200\n",
      "\u001b[1m58/58\u001b[0m \u001b[32m━━━━━━━━━━━━━━━━━━━━\u001b[0m\u001b[37m\u001b[0m \u001b[1m0s\u001b[0m 997ms/step - loss: 7.3256 - mae: 2.1753\n",
      "Epoch 68: saving model to model_checkpoint.keras\n",
      "\u001b[1m58/58\u001b[0m \u001b[32m━━━━━━━━━━━━━━━━━━━━\u001b[0m\u001b[37m\u001b[0m \u001b[1m62s\u001b[0m 1s/step - loss: 7.3289 - mae: 2.1757 - val_loss: 7.2754 - val_mae: 2.0450\n",
      "Epoch 69/200\n",
      "\u001b[1m58/58\u001b[0m \u001b[32m━━━━━━━━━━━━━━━━━━━━\u001b[0m\u001b[37m\u001b[0m \u001b[1m0s\u001b[0m 1s/step - loss: 7.1897 - mae: 2.1419\n",
      "Epoch 69: saving model to model_checkpoint.keras\n",
      "\u001b[1m58/58\u001b[0m \u001b[32m━━━━━━━━━━━━━━━━━━━━\u001b[0m\u001b[37m\u001b[0m \u001b[1m61s\u001b[0m 1s/step - loss: 7.1928 - mae: 2.1425 - val_loss: 6.8147 - val_mae: 2.0098\n",
      "Epoch 70/200\n",
      "\u001b[1m58/58\u001b[0m \u001b[32m━━━━━━━━━━━━━━━━━━━━\u001b[0m\u001b[37m\u001b[0m \u001b[1m0s\u001b[0m 998ms/step - loss: 7.1988 - mae: 2.1172\n",
      "Epoch 70: saving model to model_checkpoint.keras\n",
      "\u001b[1m58/58\u001b[0m \u001b[32m━━━━━━━━━━━━━━━━━━━━\u001b[0m\u001b[37m\u001b[0m \u001b[1m61s\u001b[0m 1s/step - loss: 7.1938 - mae: 2.1167 - val_loss: 6.6873 - val_mae: 1.9724\n",
      "Epoch 71/200\n",
      "\u001b[1m58/58\u001b[0m \u001b[32m━━━━━━━━━━━━━━━━━━━━\u001b[0m\u001b[37m\u001b[0m \u001b[1m0s\u001b[0m 999ms/step - loss: 7.2218 - mae: 2.1358\n",
      "Epoch 71: saving model to model_checkpoint.keras\n",
      "\u001b[1m58/58\u001b[0m \u001b[32m━━━━━━━━━━━━━━━━━━━━\u001b[0m\u001b[37m\u001b[0m \u001b[1m62s\u001b[0m 1s/step - loss: 7.2220 - mae: 2.1361 - val_loss: 7.0215 - val_mae: 1.9984\n",
      "Epoch 72/200\n",
      "\u001b[1m58/58\u001b[0m \u001b[32m━━━━━━━━━━━━━━━━━━━━\u001b[0m\u001b[37m\u001b[0m \u001b[1m0s\u001b[0m 997ms/step - loss: 7.2275 - mae: 2.1339\n",
      "Epoch 72: saving model to model_checkpoint.keras\n",
      "\u001b[1m58/58\u001b[0m \u001b[32m━━━━━━━━━━━━━━━━━━━━\u001b[0m\u001b[37m\u001b[0m \u001b[1m61s\u001b[0m 1s/step - loss: 7.2270 - mae: 2.1335 - val_loss: 6.6469 - val_mae: 1.9435\n",
      "Epoch 73/200\n",
      "\u001b[1m58/58\u001b[0m \u001b[32m━━━━━━━━━━━━━━━━━━━━\u001b[0m\u001b[37m\u001b[0m \u001b[1m0s\u001b[0m 994ms/step - loss: 6.8692 - mae: 2.0899\n",
      "Epoch 73: saving model to model_checkpoint.keras\n",
      "\u001b[1m58/58\u001b[0m \u001b[32m━━━━━━━━━━━━━━━━━━━━\u001b[0m\u001b[37m\u001b[0m \u001b[1m61s\u001b[0m 1s/step - loss: 6.8662 - mae: 2.0894 - val_loss: 6.9581 - val_mae: 1.9549\n",
      "Epoch 74/200\n",
      "\u001b[1m58/58\u001b[0m \u001b[32m━━━━━━━━━━━━━━━━━━━━\u001b[0m\u001b[37m\u001b[0m \u001b[1m0s\u001b[0m 1s/step - loss: 6.5414 - mae: 1.9906\n",
      "Epoch 74: saving model to model_checkpoint.keras\n",
      "\u001b[1m58/58\u001b[0m \u001b[32m━━━━━━━━━━━━━━━━━━━━\u001b[0m\u001b[37m\u001b[0m \u001b[1m61s\u001b[0m 1s/step - loss: 6.5431 - mae: 1.9910 - val_loss: 6.8082 - val_mae: 2.0002\n",
      "Epoch 75/200\n",
      "\u001b[1m58/58\u001b[0m \u001b[32m━━━━━━━━━━━━━━━━━━━━\u001b[0m\u001b[37m\u001b[0m \u001b[1m0s\u001b[0m 1s/step - loss: 6.6010 - mae: 2.0150\n",
      "Epoch 75: saving model to model_checkpoint.keras\n",
      "\u001b[1m58/58\u001b[0m \u001b[32m━━━━━━━━━━━━━━━━━━━━\u001b[0m\u001b[37m\u001b[0m \u001b[1m62s\u001b[0m 1s/step - loss: 6.6061 - mae: 2.0160 - val_loss: 6.4084 - val_mae: 1.9101\n",
      "Epoch 76/200\n",
      "\u001b[1m58/58\u001b[0m \u001b[32m━━━━━━━━━━━━━━━━━━━━\u001b[0m\u001b[37m\u001b[0m \u001b[1m0s\u001b[0m 1s/step - loss: 6.5099 - mae: 2.0128\n",
      "Epoch 76: saving model to model_checkpoint.keras\n",
      "\u001b[1m58/58\u001b[0m \u001b[32m━━━━━━━━━━━━━━━━━━━━\u001b[0m\u001b[37m\u001b[0m \u001b[1m62s\u001b[0m 1s/step - loss: 6.5133 - mae: 2.0131 - val_loss: 6.1413 - val_mae: 1.8795\n",
      "Epoch 77/200\n",
      "\u001b[1m58/58\u001b[0m \u001b[32m━━━━━━━━━━━━━━━━━━━━\u001b[0m\u001b[37m\u001b[0m \u001b[1m0s\u001b[0m 997ms/step - loss: 6.7872 - mae: 2.0633\n",
      "Epoch 77: saving model to model_checkpoint.keras\n",
      "\u001b[1m58/58\u001b[0m \u001b[32m━━━━━━━━━━━━━━━━━━━━\u001b[0m\u001b[37m\u001b[0m \u001b[1m61s\u001b[0m 1s/step - loss: 6.7790 - mae: 2.0616 - val_loss: 6.2770 - val_mae: 1.9267\n",
      "Epoch 78/200\n",
      "\u001b[1m58/58\u001b[0m \u001b[32m━━━━━━━━━━━━━━━━━━━━\u001b[0m\u001b[37m\u001b[0m \u001b[1m0s\u001b[0m 997ms/step - loss: 6.2512 - mae: 1.9724\n",
      "Epoch 78: saving model to model_checkpoint.keras\n",
      "\u001b[1m58/58\u001b[0m \u001b[32m━━━━━━━━━━━━━━━━━━━━\u001b[0m\u001b[37m\u001b[0m \u001b[1m61s\u001b[0m 1s/step - loss: 6.2570 - mae: 1.9734 - val_loss: 6.6928 - val_mae: 1.9819\n",
      "Epoch 79/200\n",
      "\u001b[1m58/58\u001b[0m \u001b[32m━━━━━━━━━━━━━━━━━━━━\u001b[0m\u001b[37m\u001b[0m \u001b[1m0s\u001b[0m 996ms/step - loss: 6.3385 - mae: 1.9795\n",
      "Epoch 79: saving model to model_checkpoint.keras\n",
      "\u001b[1m58/58\u001b[0m \u001b[32m━━━━━━━━━━━━━━━━━━━━\u001b[0m\u001b[37m\u001b[0m \u001b[1m61s\u001b[0m 1s/step - loss: 6.3442 - mae: 1.9804 - val_loss: 5.9722 - val_mae: 1.8390\n",
      "Epoch 80/200\n",
      "\u001b[1m58/58\u001b[0m \u001b[32m━━━━━━━━━━━━━━━━━━━━\u001b[0m\u001b[37m\u001b[0m \u001b[1m0s\u001b[0m 992ms/step - loss: 6.1484 - mae: 1.9492\n",
      "Epoch 80: saving model to model_checkpoint.keras\n",
      "\u001b[1m58/58\u001b[0m \u001b[32m━━━━━━━━━━━━━━━━━━━━\u001b[0m\u001b[37m\u001b[0m \u001b[1m61s\u001b[0m 1s/step - loss: 6.1499 - mae: 1.9502 - val_loss: 6.0821 - val_mae: 1.9048\n",
      "Epoch 81/200\n",
      "\u001b[1m58/58\u001b[0m \u001b[32m━━━━━━━━━━━━━━━━━━━━\u001b[0m\u001b[37m\u001b[0m \u001b[1m0s\u001b[0m 993ms/step - loss: 6.3720 - mae: 1.9636\n",
      "Epoch 81: saving model to model_checkpoint.keras\n",
      "\u001b[1m58/58\u001b[0m \u001b[32m━━━━━━━━━━━━━━━━━━━━\u001b[0m\u001b[37m\u001b[0m \u001b[1m61s\u001b[0m 1s/step - loss: 6.3739 - mae: 1.9640 - val_loss: 6.1120 - val_mae: 1.8438\n",
      "Epoch 82/200\n",
      "\u001b[1m58/58\u001b[0m \u001b[32m━━━━━━━━━━━━━━━━━━━━\u001b[0m\u001b[37m\u001b[0m \u001b[1m0s\u001b[0m 997ms/step - loss: 5.9500 - mae: 1.9342\n",
      "Epoch 82: saving model to model_checkpoint.keras\n",
      "\u001b[1m58/58\u001b[0m \u001b[32m━━━━━━━━━━━━━━━━━━━━\u001b[0m\u001b[37m\u001b[0m \u001b[1m61s\u001b[0m 1s/step - loss: 5.9500 - mae: 1.9339 - val_loss: 6.0758 - val_mae: 1.8359\n",
      "Epoch 83/200\n",
      "\u001b[1m58/58\u001b[0m \u001b[32m━━━━━━━━━━━━━━━━━━━━\u001b[0m\u001b[37m\u001b[0m \u001b[1m0s\u001b[0m 1s/step - loss: 6.1236 - mae: 1.9515\n",
      "Epoch 83: saving model to model_checkpoint.keras\n",
      "\u001b[1m58/58\u001b[0m \u001b[32m━━━━━━━━━━━━━━━━━━━━\u001b[0m\u001b[37m\u001b[0m \u001b[1m61s\u001b[0m 1s/step - loss: 6.1145 - mae: 1.9495 - val_loss: 6.1195 - val_mae: 1.8166\n",
      "Epoch 84/200\n",
      "\u001b[1m58/58\u001b[0m \u001b[32m━━━━━━━━━━━━━━━━━━━━\u001b[0m\u001b[37m\u001b[0m \u001b[1m0s\u001b[0m 1s/step - loss: 6.6520 - mae: 2.0268\n",
      "Epoch 84: saving model to model_checkpoint.keras\n",
      "\u001b[1m58/58\u001b[0m \u001b[32m━━━━━━━━━━━━━━━━━━━━\u001b[0m\u001b[37m\u001b[0m \u001b[1m62s\u001b[0m 1s/step - loss: 6.6394 - mae: 2.0249 - val_loss: 5.7262 - val_mae: 1.7862\n",
      "Epoch 85/200\n",
      "\u001b[1m58/58\u001b[0m \u001b[32m━━━━━━━━━━━━━━━━━━━━\u001b[0m\u001b[37m\u001b[0m \u001b[1m0s\u001b[0m 992ms/step - loss: 5.8742 - mae: 1.9190\n",
      "Epoch 85: saving model to model_checkpoint.keras\n",
      "\u001b[1m58/58\u001b[0m \u001b[32m━━━━━━━━━━━━━━━━━━━━\u001b[0m\u001b[37m\u001b[0m \u001b[1m61s\u001b[0m 1s/step - loss: 5.8701 - mae: 1.9181 - val_loss: 6.2465 - val_mae: 1.8683\n",
      "Epoch 86/200\n",
      "\u001b[1m58/58\u001b[0m \u001b[32m━━━━━━━━━━━━━━━━━━━━\u001b[0m\u001b[37m\u001b[0m \u001b[1m0s\u001b[0m 998ms/step - loss: 6.0179 - mae: 1.9091\n",
      "Epoch 86: saving model to model_checkpoint.keras\n",
      "\u001b[1m58/58\u001b[0m \u001b[32m━━━━━━━━━━━━━━━━━━━━\u001b[0m\u001b[37m\u001b[0m \u001b[1m61s\u001b[0m 1s/step - loss: 6.0144 - mae: 1.9086 - val_loss: 5.5513 - val_mae: 1.7826\n",
      "Epoch 87/200\n",
      "\u001b[1m58/58\u001b[0m \u001b[32m━━━━━━━━━━━━━━━━━━━━\u001b[0m\u001b[37m\u001b[0m \u001b[1m0s\u001b[0m 999ms/step - loss: 5.6679 - mae: 1.8854\n",
      "Epoch 87: saving model to model_checkpoint.keras\n",
      "\u001b[1m58/58\u001b[0m \u001b[32m━━━━━━━━━━━━━━━━━━━━\u001b[0m\u001b[37m\u001b[0m \u001b[1m62s\u001b[0m 1s/step - loss: 5.6638 - mae: 1.8849 - val_loss: 5.8958 - val_mae: 1.8438\n",
      "Epoch 88/200\n",
      "\u001b[1m58/58\u001b[0m \u001b[32m━━━━━━━━━━━━━━━━━━━━\u001b[0m\u001b[37m\u001b[0m \u001b[1m0s\u001b[0m 1s/step - loss: 5.4983 - mae: 1.8598\n",
      "Epoch 88: saving model to model_checkpoint.keras\n",
      "\u001b[1m58/58\u001b[0m \u001b[32m━━━━━━━━━━━━━━━━━━━━\u001b[0m\u001b[37m\u001b[0m \u001b[1m62s\u001b[0m 1s/step - loss: 5.5000 - mae: 1.8597 - val_loss: 5.6081 - val_mae: 1.7492\n",
      "Epoch 89/200\n",
      "\u001b[1m58/58\u001b[0m \u001b[32m━━━━━━━━━━━━━━━━━━━━\u001b[0m\u001b[37m\u001b[0m \u001b[1m0s\u001b[0m 998ms/step - loss: 5.5577 - mae: 1.8471\n",
      "Epoch 89: saving model to model_checkpoint.keras\n",
      "\u001b[1m58/58\u001b[0m \u001b[32m━━━━━━━━━━━━━━━━━━━━\u001b[0m\u001b[37m\u001b[0m \u001b[1m62s\u001b[0m 1s/step - loss: 5.5570 - mae: 1.8468 - val_loss: 5.4119 - val_mae: 1.7470\n",
      "Epoch 90/200\n",
      "\u001b[1m58/58\u001b[0m \u001b[32m━━━━━━━━━━━━━━━━━━━━\u001b[0m\u001b[37m\u001b[0m \u001b[1m0s\u001b[0m 998ms/step - loss: 5.4917 - mae: 1.8196\n",
      "Epoch 90: saving model to model_checkpoint.keras\n",
      "\u001b[1m58/58\u001b[0m \u001b[32m━━━━━━━━━━━━━━━━━━━━\u001b[0m\u001b[37m\u001b[0m \u001b[1m61s\u001b[0m 1s/step - loss: 5.4912 - mae: 1.8197 - val_loss: 5.3106 - val_mae: 1.7327\n",
      "Epoch 91/200\n",
      "\u001b[1m58/58\u001b[0m \u001b[32m━━━━━━━━━━━━━━━━━━━━\u001b[0m\u001b[37m\u001b[0m \u001b[1m0s\u001b[0m 997ms/step - loss: 5.0455 - mae: 1.7577\n",
      "Epoch 91: saving model to model_checkpoint.keras\n",
      "\u001b[1m58/58\u001b[0m \u001b[32m━━━━━━━━━━━━━━━━━━━━\u001b[0m\u001b[37m\u001b[0m \u001b[1m61s\u001b[0m 1s/step - loss: 5.0497 - mae: 1.7583 - val_loss: 5.3546 - val_mae: 1.7661\n",
      "Epoch 92/200\n",
      "\u001b[1m58/58\u001b[0m \u001b[32m━━━━━━━━━━━━━━━━━━━━\u001b[0m\u001b[37m\u001b[0m \u001b[1m0s\u001b[0m 1s/step - loss: 5.2689 - mae: 1.8088\n",
      "Epoch 92: saving model to model_checkpoint.keras\n",
      "\u001b[1m58/58\u001b[0m \u001b[32m━━━━━━━━━━━━━━━━━━━━\u001b[0m\u001b[37m\u001b[0m \u001b[1m62s\u001b[0m 1s/step - loss: 5.2683 - mae: 1.8085 - val_loss: 5.5307 - val_mae: 1.7586\n",
      "Epoch 93/200\n",
      "\u001b[1m58/58\u001b[0m \u001b[32m━━━━━━━━━━━━━━━━━━━━\u001b[0m\u001b[37m\u001b[0m \u001b[1m0s\u001b[0m 997ms/step - loss: 4.9275 - mae: 1.7485\n",
      "Epoch 93: saving model to model_checkpoint.keras\n",
      "\u001b[1m58/58\u001b[0m \u001b[32m━━━━━━━━━━━━━━━━━━━━\u001b[0m\u001b[37m\u001b[0m \u001b[1m61s\u001b[0m 1s/step - loss: 4.9297 - mae: 1.7489 - val_loss: 5.3967 - val_mae: 1.7661\n",
      "Epoch 94/200\n",
      "\u001b[1m58/58\u001b[0m \u001b[32m━━━━━━━━━━━━━━━━━━━━\u001b[0m\u001b[37m\u001b[0m \u001b[1m0s\u001b[0m 995ms/step - loss: 4.9838 - mae: 1.7400\n",
      "Epoch 94: saving model to model_checkpoint.keras\n",
      "\u001b[1m58/58\u001b[0m \u001b[32m━━━━━━━━━━━━━━━━━━━━\u001b[0m\u001b[37m\u001b[0m \u001b[1m61s\u001b[0m 1s/step - loss: 4.9858 - mae: 1.7403 - val_loss: 6.3989 - val_mae: 1.8327\n",
      "Epoch 95/200\n",
      "\u001b[1m58/58\u001b[0m \u001b[32m━━━━━━━━━━━━━━━━━━━━\u001b[0m\u001b[37m\u001b[0m \u001b[1m0s\u001b[0m 999ms/step - loss: 4.9329 - mae: 1.7518\n",
      "Epoch 95: saving model to model_checkpoint.keras\n",
      "\u001b[1m58/58\u001b[0m \u001b[32m━━━━━━━━━━━━━━━━━━━━\u001b[0m\u001b[37m\u001b[0m \u001b[1m62s\u001b[0m 1s/step - loss: 4.9283 - mae: 1.7508 - val_loss: 5.6702 - val_mae: 1.7579\n",
      "Epoch 96/200\n",
      "\u001b[1m58/58\u001b[0m \u001b[32m━━━━━━━━━━━━━━━━━━━━\u001b[0m\u001b[37m\u001b[0m \u001b[1m0s\u001b[0m 994ms/step - loss: 5.0927 - mae: 1.7615\n",
      "Epoch 96: saving model to model_checkpoint.keras\n",
      "\u001b[1m58/58\u001b[0m \u001b[32m━━━━━━━━━━━━━━━━━━━━\u001b[0m\u001b[37m\u001b[0m \u001b[1m62s\u001b[0m 1s/step - loss: 5.0882 - mae: 1.7606 - val_loss: 5.3058 - val_mae: 1.7563\n",
      "Epoch 97/200\n",
      "\u001b[1m58/58\u001b[0m \u001b[32m━━━━━━━━━━━━━━━━━━━━\u001b[0m\u001b[37m\u001b[0m \u001b[1m0s\u001b[0m 997ms/step - loss: 4.7752 - mae: 1.6983\n",
      "Epoch 97: saving model to model_checkpoint.keras\n",
      "\u001b[1m58/58\u001b[0m \u001b[32m━━━━━━━━━━━━━━━━━━━━\u001b[0m\u001b[37m\u001b[0m \u001b[1m61s\u001b[0m 1s/step - loss: 4.7746 - mae: 1.6986 - val_loss: 5.0309 - val_mae: 1.6792\n",
      "Epoch 98/200\n",
      "\u001b[1m58/58\u001b[0m \u001b[32m━━━━━━━━━━━━━━━━━━━━\u001b[0m\u001b[37m\u001b[0m \u001b[1m0s\u001b[0m 995ms/step - loss: 4.7493 - mae: 1.7105\n",
      "Epoch 98: saving model to model_checkpoint.keras\n",
      "\u001b[1m58/58\u001b[0m \u001b[32m━━━━━━━━━━━━━━━━━━━━\u001b[0m\u001b[37m\u001b[0m \u001b[1m61s\u001b[0m 1s/step - loss: 4.7546 - mae: 1.7112 - val_loss: 5.6956 - val_mae: 1.7627\n",
      "Epoch 99/200\n",
      "\u001b[1m58/58\u001b[0m \u001b[32m━━━━━━━━━━━━━━━━━━━━\u001b[0m\u001b[37m\u001b[0m \u001b[1m0s\u001b[0m 1000ms/step - loss: 4.8761 - mae: 1.7175\n",
      "Epoch 99: saving model to model_checkpoint.keras\n",
      "\u001b[1m58/58\u001b[0m \u001b[32m━━━━━━━━━━━━━━━━━━━━\u001b[0m\u001b[37m\u001b[0m \u001b[1m62s\u001b[0m 1s/step - loss: 4.8750 - mae: 1.7176 - val_loss: 4.9902 - val_mae: 1.6613\n",
      "Epoch 100/200\n",
      "\u001b[1m58/58\u001b[0m \u001b[32m━━━━━━━━━━━━━━━━━━━━\u001b[0m\u001b[37m\u001b[0m \u001b[1m0s\u001b[0m 1000ms/step - loss: 4.8613 - mae: 1.7063\n",
      "Epoch 100: saving model to model_checkpoint.keras\n",
      "\u001b[1m58/58\u001b[0m \u001b[32m━━━━━━━━━━━━━━━━━━━━\u001b[0m\u001b[37m\u001b[0m \u001b[1m62s\u001b[0m 1s/step - loss: 4.8615 - mae: 1.7063 - val_loss: 4.9514 - val_mae: 1.6482\n",
      "Epoch 101/200\n",
      "\u001b[1m58/58\u001b[0m \u001b[32m━━━━━━━━━━━━━━━━━━━━\u001b[0m\u001b[37m\u001b[0m \u001b[1m0s\u001b[0m 1000ms/step - loss: 4.7325 - mae: 1.7056\n",
      "Epoch 101: saving model to model_checkpoint.keras\n",
      "\u001b[1m58/58\u001b[0m \u001b[32m━━━━━━━━━━━━━━━━━━━━\u001b[0m\u001b[37m\u001b[0m \u001b[1m62s\u001b[0m 1s/step - loss: 4.7316 - mae: 1.7058 - val_loss: 4.9942 - val_mae: 1.6505\n",
      "Epoch 102/200\n",
      "\u001b[1m58/58\u001b[0m \u001b[32m━━━━━━━━━━━━━━━━━━━━\u001b[0m\u001b[37m\u001b[0m \u001b[1m0s\u001b[0m 998ms/step - loss: 4.0511 - mae: 1.5798\n",
      "Epoch 102: saving model to model_checkpoint.keras\n",
      "\u001b[1m58/58\u001b[0m \u001b[32m━━━━━━━━━━━━━━━━━━━━\u001b[0m\u001b[37m\u001b[0m \u001b[1m62s\u001b[0m 1s/step - loss: 4.0537 - mae: 1.5805 - val_loss: 4.9493 - val_mae: 1.6404\n",
      "Epoch 103/200\n",
      "\u001b[1m58/58\u001b[0m \u001b[32m━━━━━━━━━━━━━━━━━━━━\u001b[0m\u001b[37m\u001b[0m \u001b[1m0s\u001b[0m 1s/step - loss: 4.4971 - mae: 1.6410\n",
      "Epoch 103: saving model to model_checkpoint.keras\n",
      "\u001b[1m58/58\u001b[0m \u001b[32m━━━━━━━━━━━━━━━━━━━━\u001b[0m\u001b[37m\u001b[0m \u001b[1m62s\u001b[0m 1s/step - loss: 4.4930 - mae: 1.6405 - val_loss: 4.7996 - val_mae: 1.6475\n",
      "Epoch 104/200\n",
      "\u001b[1m58/58\u001b[0m \u001b[32m━━━━━━━━━━━━━━━━━━━━\u001b[0m\u001b[37m\u001b[0m \u001b[1m0s\u001b[0m 1s/step - loss: 4.5628 - mae: 1.6664\n",
      "Epoch 104: saving model to model_checkpoint.keras\n",
      "\u001b[1m58/58\u001b[0m \u001b[32m━━━━━━━━━━━━━━━━━━━━\u001b[0m\u001b[37m\u001b[0m \u001b[1m63s\u001b[0m 1s/step - loss: 4.5652 - mae: 1.6669 - val_loss: 5.7215 - val_mae: 1.7236\n",
      "Epoch 105/200\n",
      "\u001b[1m58/58\u001b[0m \u001b[32m━━━━━━━━━━━━━━━━━━━━\u001b[0m\u001b[37m\u001b[0m \u001b[1m0s\u001b[0m 999ms/step - loss: 4.3589 - mae: 1.6203\n",
      "Epoch 105: saving model to model_checkpoint.keras\n",
      "\u001b[1m58/58\u001b[0m \u001b[32m━━━━━━━━━━━━━━━━━━━━\u001b[0m\u001b[37m\u001b[0m \u001b[1m61s\u001b[0m 1s/step - loss: 4.3600 - mae: 1.6206 - val_loss: 5.2968 - val_mae: 1.6903\n",
      "Epoch 106/200\n",
      "\u001b[1m58/58\u001b[0m \u001b[32m━━━━━━━━━━━━━━━━━━━━\u001b[0m\u001b[37m\u001b[0m \u001b[1m0s\u001b[0m 996ms/step - loss: 4.1916 - mae: 1.6038\n",
      "Epoch 106: saving model to model_checkpoint.keras\n",
      "\u001b[1m58/58\u001b[0m \u001b[32m━━━━━━━━━━━━━━━━━━━━\u001b[0m\u001b[37m\u001b[0m \u001b[1m61s\u001b[0m 1s/step - loss: 4.1912 - mae: 1.6035 - val_loss: 4.7087 - val_mae: 1.6392\n",
      "Epoch 107/200\n",
      "\u001b[1m58/58\u001b[0m \u001b[32m━━━━━━━━━━━━━━━━━━━━\u001b[0m\u001b[37m\u001b[0m \u001b[1m0s\u001b[0m 995ms/step - loss: 4.2804 - mae: 1.6042\n",
      "Epoch 107: saving model to model_checkpoint.keras\n",
      "\u001b[1m58/58\u001b[0m \u001b[32m━━━━━━━━━━━━━━━━━━━━\u001b[0m\u001b[37m\u001b[0m \u001b[1m61s\u001b[0m 1s/step - loss: 4.2820 - mae: 1.6045 - val_loss: 4.9393 - val_mae: 1.6323\n",
      "Epoch 108/200\n",
      "\u001b[1m58/58\u001b[0m \u001b[32m━━━━━━━━━━━━━━━━━━━━\u001b[0m\u001b[37m\u001b[0m \u001b[1m0s\u001b[0m 1s/step - loss: 4.0185 - mae: 1.5592\n",
      "Epoch 108: saving model to model_checkpoint.keras\n",
      "\u001b[1m58/58\u001b[0m \u001b[32m━━━━━━━━━━━━━━━━━━━━\u001b[0m\u001b[37m\u001b[0m \u001b[1m62s\u001b[0m 1s/step - loss: 4.0197 - mae: 1.5589 - val_loss: 4.7344 - val_mae: 1.6324\n",
      "Epoch 109/200\n",
      "\u001b[1m58/58\u001b[0m \u001b[32m━━━━━━━━━━━━━━━━━━━━\u001b[0m\u001b[37m\u001b[0m \u001b[1m0s\u001b[0m 994ms/step - loss: 4.0780 - mae: 1.5744\n",
      "Epoch 109: saving model to model_checkpoint.keras\n",
      "\u001b[1m58/58\u001b[0m \u001b[32m━━━━━━━━━━━━━━━━━━━━\u001b[0m\u001b[37m\u001b[0m \u001b[1m61s\u001b[0m 1s/step - loss: 4.0806 - mae: 1.5747 - val_loss: 4.6048 - val_mae: 1.6059\n",
      "Epoch 110/200\n",
      "\u001b[1m58/58\u001b[0m \u001b[32m━━━━━━━━━━━━━━━━━━━━\u001b[0m\u001b[37m\u001b[0m \u001b[1m0s\u001b[0m 1s/step - loss: 4.2110 - mae: 1.5713\n",
      "Epoch 110: saving model to model_checkpoint.keras\n",
      "\u001b[1m58/58\u001b[0m \u001b[32m━━━━━━━━━━━━━━━━━━━━\u001b[0m\u001b[37m\u001b[0m \u001b[1m61s\u001b[0m 1s/step - loss: 4.2106 - mae: 1.5718 - val_loss: 4.8789 - val_mae: 1.6617\n",
      "Epoch 111/200\n",
      "\u001b[1m58/58\u001b[0m \u001b[32m━━━━━━━━━━━━━━━━━━━━\u001b[0m\u001b[37m\u001b[0m \u001b[1m0s\u001b[0m 995ms/step - loss: 4.2154 - mae: 1.6054\n",
      "Epoch 111: saving model to model_checkpoint.keras\n",
      "\u001b[1m58/58\u001b[0m \u001b[32m━━━━━━━━━━━━━━━━━━━━\u001b[0m\u001b[37m\u001b[0m \u001b[1m61s\u001b[0m 1s/step - loss: 4.2126 - mae: 1.6047 - val_loss: 4.6897 - val_mae: 1.5752\n",
      "Epoch 112/200\n",
      "\u001b[1m58/58\u001b[0m \u001b[32m━━━━━━━━━━━━━━━━━━━━\u001b[0m\u001b[37m\u001b[0m \u001b[1m0s\u001b[0m 1s/step - loss: 4.0287 - mae: 1.5819\n",
      "Epoch 112: saving model to model_checkpoint.keras\n",
      "\u001b[1m58/58\u001b[0m \u001b[32m━━━━━━━━━━━━━━━━━━━━\u001b[0m\u001b[37m\u001b[0m \u001b[1m62s\u001b[0m 1s/step - loss: 4.0344 - mae: 1.5824 - val_loss: 4.7845 - val_mae: 1.6276\n",
      "Epoch 113/200\n",
      "\u001b[1m58/58\u001b[0m \u001b[32m━━━━━━━━━━━━━━━━━━━━\u001b[0m\u001b[37m\u001b[0m \u001b[1m0s\u001b[0m 991ms/step - loss: 4.0125 - mae: 1.5257\n",
      "Epoch 113: saving model to model_checkpoint.keras\n",
      "\u001b[1m58/58\u001b[0m \u001b[32m━━━━━━━━━━━━━━━━━━━━\u001b[0m\u001b[37m\u001b[0m \u001b[1m61s\u001b[0m 1s/step - loss: 4.0115 - mae: 1.5258 - val_loss: 4.4654 - val_mae: 1.5831\n",
      "Epoch 114/200\n",
      "\u001b[1m58/58\u001b[0m \u001b[32m━━━━━━━━━━━━━━━━━━━━\u001b[0m\u001b[37m\u001b[0m \u001b[1m0s\u001b[0m 991ms/step - loss: 3.6572 - mae: 1.4902\n",
      "Epoch 114: saving model to model_checkpoint.keras\n",
      "\u001b[1m58/58\u001b[0m \u001b[32m━━━━━━━━━━━━━━━━━━━━\u001b[0m\u001b[37m\u001b[0m \u001b[1m61s\u001b[0m 1s/step - loss: 3.6606 - mae: 1.4908 - val_loss: 4.8366 - val_mae: 1.6644\n",
      "Epoch 115/200\n",
      "\u001b[1m58/58\u001b[0m \u001b[32m━━━━━━━━━━━━━━━━━━━━\u001b[0m\u001b[37m\u001b[0m \u001b[1m0s\u001b[0m 998ms/step - loss: 3.5786 - mae: 1.4497\n",
      "Epoch 115: saving model to model_checkpoint.keras\n",
      "\u001b[1m58/58\u001b[0m \u001b[32m━━━━━━━━━━━━━━━━━━━━\u001b[0m\u001b[37m\u001b[0m \u001b[1m61s\u001b[0m 1s/step - loss: 3.5781 - mae: 1.4497 - val_loss: 4.7334 - val_mae: 1.5975\n",
      "Epoch 116/200\n",
      "\u001b[1m58/58\u001b[0m \u001b[32m━━━━━━━━━━━━━━━━━━━━\u001b[0m\u001b[37m\u001b[0m \u001b[1m0s\u001b[0m 995ms/step - loss: 3.7219 - mae: 1.4852\n",
      "Epoch 116: saving model to model_checkpoint.keras\n",
      "\u001b[1m58/58\u001b[0m \u001b[32m━━━━━━━━━━━━━━━━━━━━\u001b[0m\u001b[37m\u001b[0m \u001b[1m62s\u001b[0m 1s/step - loss: 3.7193 - mae: 1.4849 - val_loss: 4.4435 - val_mae: 1.5653\n",
      "Epoch 117/200\n",
      "\u001b[1m58/58\u001b[0m \u001b[32m━━━━━━━━━━━━━━━━━━━━\u001b[0m\u001b[37m\u001b[0m \u001b[1m0s\u001b[0m 1s/step - loss: 3.5777 - mae: 1.4550\n",
      "Epoch 117: saving model to model_checkpoint.keras\n",
      "\u001b[1m58/58\u001b[0m \u001b[32m━━━━━━━━━━━━━━━━━━━━\u001b[0m\u001b[37m\u001b[0m \u001b[1m62s\u001b[0m 1s/step - loss: 3.5817 - mae: 1.4555 - val_loss: 4.6629 - val_mae: 1.6742\n",
      "Epoch 118/200\n",
      "\u001b[1m58/58\u001b[0m \u001b[32m━━━━━━━━━━━━━━━━━━━━\u001b[0m\u001b[37m\u001b[0m \u001b[1m0s\u001b[0m 1s/step - loss: 3.6971 - mae: 1.4843\n",
      "Epoch 118: saving model to model_checkpoint.keras\n",
      "\u001b[1m58/58\u001b[0m \u001b[32m━━━━━━━━━━━━━━━━━━━━\u001b[0m\u001b[37m\u001b[0m \u001b[1m62s\u001b[0m 1s/step - loss: 3.6976 - mae: 1.4842 - val_loss: 4.8611 - val_mae: 1.6191\n",
      "Epoch 119/200\n",
      "\u001b[1m58/58\u001b[0m \u001b[32m━━━━━━━━━━━━━━━━━━━━\u001b[0m\u001b[37m\u001b[0m \u001b[1m0s\u001b[0m 1s/step - loss: 4.0492 - mae: 1.5317\n",
      "Epoch 119: saving model to model_checkpoint.keras\n",
      "\u001b[1m58/58\u001b[0m \u001b[32m━━━━━━━━━━━━━━━━━━━━\u001b[0m\u001b[37m\u001b[0m \u001b[1m62s\u001b[0m 1s/step - loss: 4.0445 - mae: 1.5307 - val_loss: 4.5854 - val_mae: 1.5977\n",
      "Epoch 120/200\n",
      "\u001b[1m58/58\u001b[0m \u001b[32m━━━━━━━━━━━━━━━━━━━━\u001b[0m\u001b[37m\u001b[0m \u001b[1m0s\u001b[0m 1s/step - loss: 3.4488 - mae: 1.4348\n",
      "Epoch 120: saving model to model_checkpoint.keras\n",
      "\u001b[1m58/58\u001b[0m \u001b[32m━━━━━━━━━━━━━━━━━━━━\u001b[0m\u001b[37m\u001b[0m \u001b[1m62s\u001b[0m 1s/step - loss: 3.4465 - mae: 1.4344 - val_loss: 4.1023 - val_mae: 1.5111\n",
      "Epoch 121/200\n",
      "\u001b[1m58/58\u001b[0m \u001b[32m━━━━━━━━━━━━━━━━━━━━\u001b[0m\u001b[37m\u001b[0m \u001b[1m0s\u001b[0m 1000ms/step - loss: 3.3363 - mae: 1.4160\n",
      "Epoch 121: saving model to model_checkpoint.keras\n",
      "\u001b[1m58/58\u001b[0m \u001b[32m━━━━━━━━━━━━━━━━━━━━\u001b[0m\u001b[37m\u001b[0m \u001b[1m61s\u001b[0m 1s/step - loss: 3.3404 - mae: 1.4164 - val_loss: 4.3995 - val_mae: 1.5836\n",
      "Epoch 122/200\n",
      "\u001b[1m58/58\u001b[0m \u001b[32m━━━━━━━━━━━━━━━━━━━━\u001b[0m\u001b[37m\u001b[0m \u001b[1m0s\u001b[0m 996ms/step - loss: 3.2721 - mae: 1.4030\n",
      "Epoch 122: saving model to model_checkpoint.keras\n",
      "\u001b[1m58/58\u001b[0m \u001b[32m━━━━━━━━━━━━━━━━━━━━\u001b[0m\u001b[37m\u001b[0m \u001b[1m61s\u001b[0m 1s/step - loss: 3.2727 - mae: 1.4035 - val_loss: 4.5578 - val_mae: 1.5510\n",
      "Epoch 123/200\n",
      "\u001b[1m58/58\u001b[0m \u001b[32m━━━━━━━━━━━━━━━━━━━━\u001b[0m\u001b[37m\u001b[0m \u001b[1m0s\u001b[0m 998ms/step - loss: 3.3770 - mae: 1.4375\n",
      "Epoch 123: saving model to model_checkpoint.keras\n",
      "\u001b[1m58/58\u001b[0m \u001b[32m━━━━━━━━━━━━━━━━━━━━\u001b[0m\u001b[37m\u001b[0m \u001b[1m61s\u001b[0m 1s/step - loss: 3.3760 - mae: 1.4373 - val_loss: 4.7728 - val_mae: 1.7130\n",
      "Epoch 124/200\n",
      "\u001b[1m58/58\u001b[0m \u001b[32m━━━━━━━━━━━━━━━━━━━━\u001b[0m\u001b[37m\u001b[0m \u001b[1m0s\u001b[0m 1s/step - loss: 3.5870 - mae: 1.4377\n",
      "Epoch 124: saving model to model_checkpoint.keras\n",
      "\u001b[1m58/58\u001b[0m \u001b[32m━━━━━━━━━━━━━━━━━━━━\u001b[0m\u001b[37m\u001b[0m \u001b[1m62s\u001b[0m 1s/step - loss: 3.5856 - mae: 1.4378 - val_loss: 4.2922 - val_mae: 1.5743\n",
      "Epoch 125/200\n",
      "\u001b[1m58/58\u001b[0m \u001b[32m━━━━━━━━━━━━━━━━━━━━\u001b[0m\u001b[37m\u001b[0m \u001b[1m0s\u001b[0m 1s/step - loss: 3.3746 - mae: 1.4252\n",
      "Epoch 125: saving model to model_checkpoint.keras\n",
      "\u001b[1m58/58\u001b[0m \u001b[32m━━━━━━━━━━━━━━━━━━━━\u001b[0m\u001b[37m\u001b[0m \u001b[1m62s\u001b[0m 1s/step - loss: 3.3760 - mae: 1.4253 - val_loss: 4.6297 - val_mae: 1.5692\n",
      "Epoch 126/200\n",
      "\u001b[1m58/58\u001b[0m \u001b[32m━━━━━━━━━━━━━━━━━━━━\u001b[0m\u001b[37m\u001b[0m \u001b[1m0s\u001b[0m 1s/step - loss: 3.1094 - mae: 1.3926\n",
      "Epoch 126: saving model to model_checkpoint.keras\n",
      "\u001b[1m58/58\u001b[0m \u001b[32m━━━━━━━━━━━━━━━━━━━━\u001b[0m\u001b[37m\u001b[0m \u001b[1m62s\u001b[0m 1s/step - loss: 3.1090 - mae: 1.3922 - val_loss: 4.4359 - val_mae: 1.5374\n",
      "Epoch 127/200\n",
      "\u001b[1m58/58\u001b[0m \u001b[32m━━━━━━━━━━━━━━━━━━━━\u001b[0m\u001b[37m\u001b[0m \u001b[1m0s\u001b[0m 1s/step - loss: 3.2508 - mae: 1.3871\n",
      "Epoch 127: saving model to model_checkpoint.keras\n",
      "\u001b[1m58/58\u001b[0m \u001b[32m━━━━━━━━━━━━━━━━━━━━\u001b[0m\u001b[37m\u001b[0m \u001b[1m61s\u001b[0m 1s/step - loss: 3.2507 - mae: 1.3870 - val_loss: 4.3139 - val_mae: 1.5770\n",
      "Epoch 128/200\n",
      "\u001b[1m58/58\u001b[0m \u001b[32m━━━━━━━━━━━━━━━━━━━━\u001b[0m\u001b[37m\u001b[0m \u001b[1m0s\u001b[0m 1s/step - loss: 3.3557 - mae: 1.4258\n",
      "Epoch 128: saving model to model_checkpoint.keras\n",
      "\u001b[1m58/58\u001b[0m \u001b[32m━━━━━━━━━━━━━━━━━━━━\u001b[0m\u001b[37m\u001b[0m \u001b[1m62s\u001b[0m 1s/step - loss: 3.3530 - mae: 1.4250 - val_loss: 4.2243 - val_mae: 1.5349\n",
      "Epoch 129/200\n",
      "\u001b[1m58/58\u001b[0m \u001b[32m━━━━━━━━━━━━━━━━━━━━\u001b[0m\u001b[37m\u001b[0m \u001b[1m0s\u001b[0m 1s/step - loss: 2.9869 - mae: 1.3380\n",
      "Epoch 129: saving model to model_checkpoint.keras\n",
      "\u001b[1m58/58\u001b[0m \u001b[32m━━━━━━━━━━━━━━━━━━━━\u001b[0m\u001b[37m\u001b[0m \u001b[1m63s\u001b[0m 1s/step - loss: 2.9883 - mae: 1.3379 - val_loss: 4.7853 - val_mae: 1.6097\n",
      "Epoch 130/200\n",
      "\u001b[1m58/58\u001b[0m \u001b[32m━━━━━━━━━━━━━━━━━━━━\u001b[0m\u001b[37m\u001b[0m \u001b[1m0s\u001b[0m 1s/step - loss: 3.0983 - mae: 1.3374\n",
      "Epoch 130: saving model to model_checkpoint.keras\n",
      "\u001b[1m58/58\u001b[0m \u001b[32m━━━━━━━━━━━━━━━━━━━━\u001b[0m\u001b[37m\u001b[0m \u001b[1m61s\u001b[0m 1s/step - loss: 3.0993 - mae: 1.3375 - val_loss: 3.9513 - val_mae: 1.4920\n",
      "Epoch 131/200\n",
      "\u001b[1m58/58\u001b[0m \u001b[32m━━━━━━━━━━━━━━━━━━━━\u001b[0m\u001b[37m\u001b[0m \u001b[1m0s\u001b[0m 996ms/step - loss: 3.0755 - mae: 1.3555\n",
      "Epoch 131: saving model to model_checkpoint.keras\n",
      "\u001b[1m58/58\u001b[0m \u001b[32m━━━━━━━━━━━━━━━━━━━━\u001b[0m\u001b[37m\u001b[0m \u001b[1m62s\u001b[0m 1s/step - loss: 3.0756 - mae: 1.3555 - val_loss: 4.3359 - val_mae: 1.5081\n",
      "Epoch 132/200\n",
      "\u001b[1m58/58\u001b[0m \u001b[32m━━━━━━━━━━━━━━━━━━━━\u001b[0m\u001b[37m\u001b[0m \u001b[1m0s\u001b[0m 999ms/step - loss: 2.9421 - mae: 1.3332\n",
      "Epoch 132: saving model to model_checkpoint.keras\n",
      "\u001b[1m58/58\u001b[0m \u001b[32m━━━━━━━━━━━━━━━━━━━━\u001b[0m\u001b[37m\u001b[0m \u001b[1m61s\u001b[0m 1s/step - loss: 2.9433 - mae: 1.3332 - val_loss: 4.0243 - val_mae: 1.5287\n",
      "Epoch 133/200\n",
      "\u001b[1m58/58\u001b[0m \u001b[32m━━━━━━━━━━━━━━━━━━━━\u001b[0m\u001b[37m\u001b[0m \u001b[1m0s\u001b[0m 1s/step - loss: 3.0646 - mae: 1.3513\n",
      "Epoch 133: saving model to model_checkpoint.keras\n",
      "\u001b[1m58/58\u001b[0m \u001b[32m━━━━━━━━━━━━━━━━━━━━\u001b[0m\u001b[37m\u001b[0m \u001b[1m62s\u001b[0m 1s/step - loss: 3.0668 - mae: 1.3516 - val_loss: 4.0652 - val_mae: 1.4775\n",
      "Epoch 134/200\n",
      "\u001b[1m58/58\u001b[0m \u001b[32m━━━━━━━━━━━━━━━━━━━━\u001b[0m\u001b[37m\u001b[0m \u001b[1m0s\u001b[0m 998ms/step - loss: 3.1104 - mae: 1.3409\n",
      "Epoch 134: saving model to model_checkpoint.keras\n",
      "\u001b[1m58/58\u001b[0m \u001b[32m━━━━━━━━━━━━━━━━━━━━\u001b[0m\u001b[37m\u001b[0m \u001b[1m62s\u001b[0m 1s/step - loss: 3.1081 - mae: 1.3406 - val_loss: 4.0059 - val_mae: 1.5016\n",
      "Epoch 135/200\n",
      "\u001b[1m58/58\u001b[0m \u001b[32m━━━━━━━━━━━━━━━━━━━━\u001b[0m\u001b[37m\u001b[0m \u001b[1m0s\u001b[0m 1s/step - loss: 3.1434 - mae: 1.3676\n",
      "Epoch 135: saving model to model_checkpoint.keras\n",
      "\u001b[1m58/58\u001b[0m \u001b[32m━━━━━━━━━━━━━━━━━━━━\u001b[0m\u001b[37m\u001b[0m \u001b[1m62s\u001b[0m 1s/step - loss: 3.1452 - mae: 1.3678 - val_loss: 4.1059 - val_mae: 1.5253\n",
      "Epoch 136/200\n",
      "\u001b[1m58/58\u001b[0m \u001b[32m━━━━━━━━━━━━━━━━━━━━\u001b[0m\u001b[37m\u001b[0m \u001b[1m0s\u001b[0m 998ms/step - loss: 2.8486 - mae: 1.2921\n",
      "Epoch 136: saving model to model_checkpoint.keras\n",
      "\u001b[1m58/58\u001b[0m \u001b[32m━━━━━━━━━━━━━━━━━━━━\u001b[0m\u001b[37m\u001b[0m \u001b[1m62s\u001b[0m 1s/step - loss: 2.8490 - mae: 1.2920 - val_loss: 4.3363 - val_mae: 1.4936\n",
      "Epoch 137/200\n",
      "\u001b[1m58/58\u001b[0m \u001b[32m━━━━━━━━━━━━━━━━━━━━\u001b[0m\u001b[37m\u001b[0m \u001b[1m0s\u001b[0m 997ms/step - loss: 2.8849 - mae: 1.2948\n",
      "Epoch 137: saving model to model_checkpoint.keras\n",
      "\u001b[1m58/58\u001b[0m \u001b[32m━━━━━━━━━━━━━━━━━━━━\u001b[0m\u001b[37m\u001b[0m \u001b[1m62s\u001b[0m 1s/step - loss: 2.8875 - mae: 1.2953 - val_loss: 4.0417 - val_mae: 1.5032\n",
      "Epoch 138/200\n",
      "\u001b[1m58/58\u001b[0m \u001b[32m━━━━━━━━━━━━━━━━━━━━\u001b[0m\u001b[37m\u001b[0m \u001b[1m0s\u001b[0m 998ms/step - loss: 3.0457 - mae: 1.3281\n",
      "Epoch 138: saving model to model_checkpoint.keras\n",
      "\u001b[1m58/58\u001b[0m \u001b[32m━━━━━━━━━━━━━━━━━━━━\u001b[0m\u001b[37m\u001b[0m \u001b[1m61s\u001b[0m 1s/step - loss: 3.0426 - mae: 1.3276 - val_loss: 4.2394 - val_mae: 1.4717\n",
      "Epoch 139/200\n",
      "\u001b[1m58/58\u001b[0m \u001b[32m━━━━━━━━━━━━━━━━━━━━\u001b[0m\u001b[37m\u001b[0m \u001b[1m0s\u001b[0m 1s/step - loss: 2.8454 - mae: 1.2856\n",
      "Epoch 139: saving model to model_checkpoint.keras\n",
      "\u001b[1m58/58\u001b[0m \u001b[32m━━━━━━━━━━━━━━━━━━━━\u001b[0m\u001b[37m\u001b[0m \u001b[1m61s\u001b[0m 1s/step - loss: 2.8428 - mae: 1.2854 - val_loss: 4.0929 - val_mae: 1.5160\n",
      "Epoch 140/200\n",
      "\u001b[1m58/58\u001b[0m \u001b[32m━━━━━━━━━━━━━━━━━━━━\u001b[0m\u001b[37m\u001b[0m \u001b[1m0s\u001b[0m 998ms/step - loss: 2.7961 - mae: 1.2593\n",
      "Epoch 140: saving model to model_checkpoint.keras\n",
      "\u001b[1m58/58\u001b[0m \u001b[32m━━━━━━━━━━━━━━━━━━━━\u001b[0m\u001b[37m\u001b[0m \u001b[1m61s\u001b[0m 1s/step - loss: 2.7938 - mae: 1.2591 - val_loss: 3.9183 - val_mae: 1.4300\n",
      "Epoch 141/200\n",
      "\u001b[1m58/58\u001b[0m \u001b[32m━━━━━━━━━━━━━━━━━━━━\u001b[0m\u001b[37m\u001b[0m \u001b[1m0s\u001b[0m 1000ms/step - loss: 2.4640 - mae: 1.2065\n",
      "Epoch 141: saving model to model_checkpoint.keras\n",
      "\u001b[1m58/58\u001b[0m \u001b[32m━━━━━━━━━━━━━━━━━━━━\u001b[0m\u001b[37m\u001b[0m \u001b[1m61s\u001b[0m 1s/step - loss: 2.4657 - mae: 1.2070 - val_loss: 3.9961 - val_mae: 1.4580\n",
      "Epoch 142/200\n",
      "\u001b[1m58/58\u001b[0m \u001b[32m━━━━━━━━━━━━━━━━━━━━\u001b[0m\u001b[37m\u001b[0m \u001b[1m0s\u001b[0m 998ms/step - loss: 2.7012 - mae: 1.2596\n",
      "Epoch 142: saving model to model_checkpoint.keras\n",
      "\u001b[1m58/58\u001b[0m \u001b[32m━━━━━━━━━━━━━━━━━━━━\u001b[0m\u001b[37m\u001b[0m \u001b[1m61s\u001b[0m 1s/step - loss: 2.7045 - mae: 1.2605 - val_loss: 4.0428 - val_mae: 1.4292\n",
      "Epoch 143/200\n",
      "\u001b[1m58/58\u001b[0m \u001b[32m━━━━━━━━━━━━━━━━━━━━\u001b[0m\u001b[37m\u001b[0m \u001b[1m0s\u001b[0m 996ms/step - loss: 2.5261 - mae: 1.2399\n",
      "Epoch 143: saving model to model_checkpoint.keras\n",
      "\u001b[1m58/58\u001b[0m \u001b[32m━━━━━━━━━━━━━━━━━━━━\u001b[0m\u001b[37m\u001b[0m \u001b[1m61s\u001b[0m 1s/step - loss: 2.5236 - mae: 1.2391 - val_loss: 3.8800 - val_mae: 1.4552\n",
      "Epoch 144/200\n",
      "\u001b[1m58/58\u001b[0m \u001b[32m━━━━━━━━━━━━━━━━━━━━\u001b[0m\u001b[37m\u001b[0m \u001b[1m0s\u001b[0m 1s/step - loss: 2.5231 - mae: 1.2125\n",
      "Epoch 144: saving model to model_checkpoint.keras\n",
      "\u001b[1m58/58\u001b[0m \u001b[32m━━━━━━━━━━━━━━━━━━━━\u001b[0m\u001b[37m\u001b[0m \u001b[1m62s\u001b[0m 1s/step - loss: 2.5265 - mae: 1.2137 - val_loss: 4.0030 - val_mae: 1.4522\n",
      "Epoch 145/200\n",
      "\u001b[1m58/58\u001b[0m \u001b[32m━━━━━━━━━━━━━━━━━━━━\u001b[0m\u001b[37m\u001b[0m \u001b[1m0s\u001b[0m 1s/step - loss: 2.5899 - mae: 1.2531\n",
      "Epoch 145: saving model to model_checkpoint.keras\n",
      "\u001b[1m58/58\u001b[0m \u001b[32m━━━━━━━━━━━━━━━━━━━━\u001b[0m\u001b[37m\u001b[0m \u001b[1m61s\u001b[0m 1s/step - loss: 2.5899 - mae: 1.2528 - val_loss: 3.9683 - val_mae: 1.4825\n",
      "Epoch 146/200\n",
      "\u001b[1m58/58\u001b[0m \u001b[32m━━━━━━━━━━━━━━━━━━━━\u001b[0m\u001b[37m\u001b[0m \u001b[1m0s\u001b[0m 1s/step - loss: 2.6778 - mae: 1.2791\n",
      "Epoch 146: saving model to model_checkpoint.keras\n",
      "\u001b[1m58/58\u001b[0m \u001b[32m━━━━━━━━━━━━━━━━━━━━\u001b[0m\u001b[37m\u001b[0m \u001b[1m62s\u001b[0m 1s/step - loss: 2.6764 - mae: 1.2786 - val_loss: 3.7777 - val_mae: 1.4241\n",
      "Epoch 147/200\n",
      "\u001b[1m58/58\u001b[0m \u001b[32m━━━━━━━━━━━━━━━━━━━━\u001b[0m\u001b[37m\u001b[0m \u001b[1m0s\u001b[0m 1s/step - loss: 2.4394 - mae: 1.2090\n",
      "Epoch 147: saving model to model_checkpoint.keras\n",
      "\u001b[1m58/58\u001b[0m \u001b[32m━━━━━━━━━━━━━━━━━━━━\u001b[0m\u001b[37m\u001b[0m \u001b[1m62s\u001b[0m 1s/step - loss: 2.4423 - mae: 1.2096 - val_loss: 3.7763 - val_mae: 1.3943\n",
      "Epoch 148/200\n",
      "\u001b[1m58/58\u001b[0m \u001b[32m━━━━━━━━━━━━━━━━━━━━\u001b[0m\u001b[37m\u001b[0m \u001b[1m0s\u001b[0m 1s/step - loss: 2.3271 - mae: 1.1760\n",
      "Epoch 148: saving model to model_checkpoint.keras\n",
      "\u001b[1m58/58\u001b[0m \u001b[32m━━━━━━━━━━━━━━━━━━━━\u001b[0m\u001b[37m\u001b[0m \u001b[1m62s\u001b[0m 1s/step - loss: 2.3294 - mae: 1.1766 - val_loss: 4.5397 - val_mae: 1.6497\n",
      "Epoch 149/200\n",
      "\u001b[1m58/58\u001b[0m \u001b[32m━━━━━━━━━━━━━━━━━━━━\u001b[0m\u001b[37m\u001b[0m \u001b[1m0s\u001b[0m 1s/step - loss: 2.8590 - mae: 1.2751\n",
      "Epoch 149: saving model to model_checkpoint.keras\n",
      "\u001b[1m58/58\u001b[0m \u001b[32m━━━━━━━━━━━━━━━━━━━━\u001b[0m\u001b[37m\u001b[0m \u001b[1m62s\u001b[0m 1s/step - loss: 2.8570 - mae: 1.2750 - val_loss: 4.1404 - val_mae: 1.4791\n",
      "Epoch 150/200\n",
      "\u001b[1m58/58\u001b[0m \u001b[32m━━━━━━━━━━━━━━━━━━━━\u001b[0m\u001b[37m\u001b[0m \u001b[1m0s\u001b[0m 1s/step - loss: 2.5485 - mae: 1.2018\n",
      "Epoch 150: saving model to model_checkpoint.keras\n",
      "\u001b[1m58/58\u001b[0m \u001b[32m━━━━━━━━━━━━━━━━━━━━\u001b[0m\u001b[37m\u001b[0m \u001b[1m62s\u001b[0m 1s/step - loss: 2.5464 - mae: 1.2017 - val_loss: 3.6547 - val_mae: 1.4133\n",
      "Epoch 151/200\n",
      "\u001b[1m58/58\u001b[0m \u001b[32m━━━━━━━━━━━━━━━━━━━━\u001b[0m\u001b[37m\u001b[0m \u001b[1m0s\u001b[0m 1s/step - loss: 2.2419 - mae: 1.1511\n",
      "Epoch 151: saving model to model_checkpoint.keras\n",
      "\u001b[1m58/58\u001b[0m \u001b[32m━━━━━━━━━━━━━━━━━━━━\u001b[0m\u001b[37m\u001b[0m \u001b[1m61s\u001b[0m 1s/step - loss: 2.2441 - mae: 1.1518 - val_loss: 4.4739 - val_mae: 1.5346\n",
      "Epoch 152/200\n",
      "\u001b[1m58/58\u001b[0m \u001b[32m━━━━━━━━━━━━━━━━━━━━\u001b[0m\u001b[37m\u001b[0m \u001b[1m0s\u001b[0m 993ms/step - loss: 2.4383 - mae: 1.1808\n",
      "Epoch 152: saving model to model_checkpoint.keras\n",
      "\u001b[1m58/58\u001b[0m \u001b[32m━━━━━━━━━━━━━━━━━━━━\u001b[0m\u001b[37m\u001b[0m \u001b[1m61s\u001b[0m 1s/step - loss: 2.4387 - mae: 1.1812 - val_loss: 3.7198 - val_mae: 1.4096\n",
      "Epoch 153/200\n",
      "\u001b[1m58/58\u001b[0m \u001b[32m━━━━━━━━━━━━━━━━━━━━\u001b[0m\u001b[37m\u001b[0m \u001b[1m0s\u001b[0m 1s/step - loss: 2.3354 - mae: 1.1666\n",
      "Epoch 153: saving model to model_checkpoint.keras\n",
      "\u001b[1m58/58\u001b[0m \u001b[32m━━━━━━━━━━━━━━━━━━━━\u001b[0m\u001b[37m\u001b[0m \u001b[1m62s\u001b[0m 1s/step - loss: 2.3372 - mae: 1.1669 - val_loss: 3.7325 - val_mae: 1.4329\n",
      "Epoch 154/200\n",
      "\u001b[1m58/58\u001b[0m \u001b[32m━━━━━━━━━━━━━━━━━━━━\u001b[0m\u001b[37m\u001b[0m \u001b[1m0s\u001b[0m 1s/step - loss: 2.4523 - mae: 1.1990\n",
      "Epoch 154: saving model to model_checkpoint.keras\n",
      "\u001b[1m58/58\u001b[0m \u001b[32m━━━━━━━━━━━━━━━━━━━━\u001b[0m\u001b[37m\u001b[0m \u001b[1m61s\u001b[0m 1s/step - loss: 2.4531 - mae: 1.1992 - val_loss: 3.7361 - val_mae: 1.3990\n",
      "Epoch 155/200\n",
      "\u001b[1m58/58\u001b[0m \u001b[32m━━━━━━━━━━━━━━━━━━━━\u001b[0m\u001b[37m\u001b[0m \u001b[1m0s\u001b[0m 994ms/step - loss: 2.2513 - mae: 1.1676\n",
      "Epoch 155: saving model to model_checkpoint.keras\n",
      "\u001b[1m58/58\u001b[0m \u001b[32m━━━━━━━━━━━━━━━━━━━━\u001b[0m\u001b[37m\u001b[0m \u001b[1m61s\u001b[0m 1s/step - loss: 2.2528 - mae: 1.1682 - val_loss: 4.1594 - val_mae: 1.6263\n",
      "Epoch 156/200\n",
      "\u001b[1m58/58\u001b[0m \u001b[32m━━━━━━━━━━━━━━━━━━━━\u001b[0m\u001b[37m\u001b[0m \u001b[1m0s\u001b[0m 1s/step - loss: 2.5897 - mae: 1.2231\n",
      "Epoch 156: saving model to model_checkpoint.keras\n",
      "\u001b[1m58/58\u001b[0m \u001b[32m━━━━━━━━━━━━━━━━━━━━\u001b[0m\u001b[37m\u001b[0m \u001b[1m62s\u001b[0m 1s/step - loss: 2.5877 - mae: 1.2231 - val_loss: 3.5127 - val_mae: 1.3568\n",
      "Epoch 157/200\n",
      "\u001b[1m58/58\u001b[0m \u001b[32m━━━━━━━━━━━━━━━━━━━━\u001b[0m\u001b[37m\u001b[0m \u001b[1m0s\u001b[0m 1s/step - loss: 2.3929 - mae: 1.1908\n",
      "Epoch 157: saving model to model_checkpoint.keras\n",
      "\u001b[1m58/58\u001b[0m \u001b[32m━━━━━━━━━━━━━━━━━━━━\u001b[0m\u001b[37m\u001b[0m \u001b[1m61s\u001b[0m 1s/step - loss: 2.3896 - mae: 1.1900 - val_loss: 3.6977 - val_mae: 1.4398\n",
      "Epoch 158/200\n",
      "\u001b[1m58/58\u001b[0m \u001b[32m━━━━━━━━━━━━━━━━━━━━\u001b[0m\u001b[37m\u001b[0m \u001b[1m0s\u001b[0m 1s/step - loss: 2.1700 - mae: 1.1418\n",
      "Epoch 158: saving model to model_checkpoint.keras\n",
      "\u001b[1m58/58\u001b[0m \u001b[32m━━━━━━━━━━━━━━━━━━━━\u001b[0m\u001b[37m\u001b[0m \u001b[1m63s\u001b[0m 1s/step - loss: 2.1706 - mae: 1.1417 - val_loss: 4.7038 - val_mae: 1.6869\n",
      "Epoch 159/200\n",
      "\u001b[1m58/58\u001b[0m \u001b[32m━━━━━━━━━━━━━━━━━━━━\u001b[0m\u001b[37m\u001b[0m \u001b[1m0s\u001b[0m 992ms/step - loss: 2.2993 - mae: 1.1578\n",
      "Epoch 159: saving model to model_checkpoint.keras\n",
      "\u001b[1m58/58\u001b[0m \u001b[32m━━━━━━━━━━━━━━━━━━━━\u001b[0m\u001b[37m\u001b[0m \u001b[1m62s\u001b[0m 1s/step - loss: 2.2971 - mae: 1.1576 - val_loss: 3.7929 - val_mae: 1.3953\n",
      "Epoch 160/200\n",
      "\u001b[1m58/58\u001b[0m \u001b[32m━━━━━━━━━━━━━━━━━━━━\u001b[0m\u001b[37m\u001b[0m \u001b[1m0s\u001b[0m 1s/step - loss: 2.1506 - mae: 1.1232\n",
      "Epoch 160: saving model to model_checkpoint.keras\n",
      "\u001b[1m58/58\u001b[0m \u001b[32m━━━━━━━━━━━━━━━━━━━━\u001b[0m\u001b[37m\u001b[0m \u001b[1m63s\u001b[0m 1s/step - loss: 2.1536 - mae: 1.1242 - val_loss: 3.8736 - val_mae: 1.4927\n",
      "Epoch 161/200\n",
      "\u001b[1m58/58\u001b[0m \u001b[32m━━━━━━━━━━━━━━━━━━━━\u001b[0m\u001b[37m\u001b[0m \u001b[1m0s\u001b[0m 1s/step - loss: 2.2846 - mae: 1.1671\n",
      "Epoch 161: saving model to model_checkpoint.keras\n",
      "\u001b[1m58/58\u001b[0m \u001b[32m━━━━━━━━━━━━━━━━━━━━\u001b[0m\u001b[37m\u001b[0m \u001b[1m62s\u001b[0m 1s/step - loss: 2.2832 - mae: 1.1666 - val_loss: 3.6582 - val_mae: 1.4137\n",
      "Epoch 162/200\n",
      "\u001b[1m58/58\u001b[0m \u001b[32m━━━━━━━━━━━━━━━━━━━━\u001b[0m\u001b[37m\u001b[0m \u001b[1m0s\u001b[0m 998ms/step - loss: 2.0762 - mae: 1.1193\n",
      "Epoch 162: saving model to model_checkpoint.keras\n",
      "\u001b[1m58/58\u001b[0m \u001b[32m━━━━━━━━━━━━━━━━━━━━\u001b[0m\u001b[37m\u001b[0m \u001b[1m62s\u001b[0m 1s/step - loss: 2.0782 - mae: 1.1197 - val_loss: 3.7726 - val_mae: 1.4267\n",
      "Epoch 163/200\n",
      "\u001b[1m58/58\u001b[0m \u001b[32m━━━━━━━━━━━━━━━━━━━━\u001b[0m\u001b[37m\u001b[0m \u001b[1m0s\u001b[0m 997ms/step - loss: 2.2925 - mae: 1.1320\n",
      "Epoch 163: saving model to model_checkpoint.keras\n",
      "\u001b[1m58/58\u001b[0m \u001b[32m━━━━━━━━━━━━━━━━━━━━\u001b[0m\u001b[37m\u001b[0m \u001b[1m62s\u001b[0m 1s/step - loss: 2.2924 - mae: 1.1321 - val_loss: 3.5048 - val_mae: 1.4078\n",
      "Epoch 164/200\n",
      "\u001b[1m58/58\u001b[0m \u001b[32m━━━━━━━━━━━━━━━━━━━━\u001b[0m\u001b[37m\u001b[0m \u001b[1m0s\u001b[0m 1s/step - loss: 2.1966 - mae: 1.1388\n",
      "Epoch 164: saving model to model_checkpoint.keras\n",
      "\u001b[1m58/58\u001b[0m \u001b[32m━━━━━━━━━━━━━━━━━━━━\u001b[0m\u001b[37m\u001b[0m \u001b[1m62s\u001b[0m 1s/step - loss: 2.1945 - mae: 1.1382 - val_loss: 3.5820 - val_mae: 1.4212\n",
      "Epoch 165/200\n",
      "\u001b[1m58/58\u001b[0m \u001b[32m━━━━━━━━━━━━━━━━━━━━\u001b[0m\u001b[37m\u001b[0m \u001b[1m0s\u001b[0m 1s/step - loss: 2.0069 - mae: 1.0874\n",
      "Epoch 165: saving model to model_checkpoint.keras\n",
      "\u001b[1m58/58\u001b[0m \u001b[32m━━━━━━━━━━━━━━━━━━━━\u001b[0m\u001b[37m\u001b[0m \u001b[1m62s\u001b[0m 1s/step - loss: 2.0052 - mae: 1.0870 - val_loss: 3.6049 - val_mae: 1.3927\n",
      "Epoch 166/200\n",
      "\u001b[1m58/58\u001b[0m \u001b[32m━━━━━━━━━━━━━━━━━━━━\u001b[0m\u001b[37m\u001b[0m \u001b[1m0s\u001b[0m 1s/step - loss: 2.1051 - mae: 1.1080\n",
      "Epoch 166: saving model to model_checkpoint.keras\n",
      "\u001b[1m58/58\u001b[0m \u001b[32m━━━━━━━━━━━━━━━━━━━━\u001b[0m\u001b[37m\u001b[0m \u001b[1m62s\u001b[0m 1s/step - loss: 2.1036 - mae: 1.1074 - val_loss: 3.7104 - val_mae: 1.3849\n",
      "Epoch 167/200\n",
      "\u001b[1m58/58\u001b[0m \u001b[32m━━━━━━━━━━━━━━━━━━━━\u001b[0m\u001b[37m\u001b[0m \u001b[1m0s\u001b[0m 1s/step - loss: 2.0684 - mae: 1.1008\n",
      "Epoch 167: saving model to model_checkpoint.keras\n",
      "\u001b[1m58/58\u001b[0m \u001b[32m━━━━━━━━━━━━━━━━━━━━\u001b[0m\u001b[37m\u001b[0m \u001b[1m61s\u001b[0m 1s/step - loss: 2.0715 - mae: 1.1015 - val_loss: 3.5060 - val_mae: 1.3492\n",
      "Epoch 168/200\n",
      "\u001b[1m58/58\u001b[0m \u001b[32m━━━━━━━━━━━━━━━━━━━━\u001b[0m\u001b[37m\u001b[0m \u001b[1m0s\u001b[0m 997ms/step - loss: 1.9723 - mae: 1.0759\n",
      "Epoch 168: saving model to model_checkpoint.keras\n",
      "\u001b[1m58/58\u001b[0m \u001b[32m━━━━━━━━━━━━━━━━━━━━\u001b[0m\u001b[37m\u001b[0m \u001b[1m61s\u001b[0m 1s/step - loss: 1.9743 - mae: 1.0764 - val_loss: 3.9951 - val_mae: 1.4645\n",
      "Epoch 169/200\n",
      "\u001b[1m58/58\u001b[0m \u001b[32m━━━━━━━━━━━━━━━━━━━━\u001b[0m\u001b[37m\u001b[0m \u001b[1m0s\u001b[0m 998ms/step - loss: 1.9182 - mae: 1.0701\n",
      "Epoch 169: saving model to model_checkpoint.keras\n",
      "\u001b[1m58/58\u001b[0m \u001b[32m━━━━━━━━━━━━━━━━━━━━\u001b[0m\u001b[37m\u001b[0m \u001b[1m62s\u001b[0m 1s/step - loss: 1.9188 - mae: 1.0702 - val_loss: 3.5910 - val_mae: 1.3881\n",
      "Epoch 170/200\n",
      "\u001b[1m58/58\u001b[0m \u001b[32m━━━━━━━━━━━━━━━━━━━━\u001b[0m\u001b[37m\u001b[0m \u001b[1m0s\u001b[0m 999ms/step - loss: 1.7992 - mae: 1.0351\n",
      "Epoch 170: saving model to model_checkpoint.keras\n",
      "\u001b[1m58/58\u001b[0m \u001b[32m━━━━━━━━━━━━━━━━━━━━\u001b[0m\u001b[37m\u001b[0m \u001b[1m62s\u001b[0m 1s/step - loss: 1.8027 - mae: 1.0360 - val_loss: 4.2177 - val_mae: 1.4818\n",
      "Epoch 171/200\n",
      "\u001b[1m58/58\u001b[0m \u001b[32m━━━━━━━━━━━━━━━━━━━━\u001b[0m\u001b[37m\u001b[0m \u001b[1m0s\u001b[0m 998ms/step - loss: 2.0009 - mae: 1.1031\n",
      "Epoch 171: saving model to model_checkpoint.keras\n",
      "\u001b[1m58/58\u001b[0m \u001b[32m━━━━━━━━━━━━━━━━━━━━\u001b[0m\u001b[37m\u001b[0m \u001b[1m61s\u001b[0m 1s/step - loss: 1.9992 - mae: 1.1023 - val_loss: 3.4816 - val_mae: 1.3575\n",
      "Epoch 172/200\n",
      "\u001b[1m58/58\u001b[0m \u001b[32m━━━━━━━━━━━━━━━━━━━━\u001b[0m\u001b[37m\u001b[0m \u001b[1m0s\u001b[0m 1s/step - loss: 1.9215 - mae: 1.0669\n",
      "Epoch 172: saving model to model_checkpoint.keras\n",
      "\u001b[1m58/58\u001b[0m \u001b[32m━━━━━━━━━━━━━━━━━━━━\u001b[0m\u001b[37m\u001b[0m \u001b[1m62s\u001b[0m 1s/step - loss: 1.9232 - mae: 1.0673 - val_loss: 3.6742 - val_mae: 1.3556\n",
      "Epoch 173/200\n",
      "\u001b[1m58/58\u001b[0m \u001b[32m━━━━━━━━━━━━━━━━━━━━\u001b[0m\u001b[37m\u001b[0m \u001b[1m0s\u001b[0m 1s/step - loss: 1.8245 - mae: 1.0270\n",
      "Epoch 173: saving model to model_checkpoint.keras\n",
      "\u001b[1m58/58\u001b[0m \u001b[32m━━━━━━━━━━━━━━━━━━━━\u001b[0m\u001b[37m\u001b[0m \u001b[1m62s\u001b[0m 1s/step - loss: 1.8268 - mae: 1.0277 - val_loss: 3.6398 - val_mae: 1.4316\n",
      "Epoch 174/200\n",
      "\u001b[1m58/58\u001b[0m \u001b[32m━━━━━━━━━━━━━━━━━━━━\u001b[0m\u001b[37m\u001b[0m \u001b[1m0s\u001b[0m 998ms/step - loss: 2.0133 - mae: 1.0877\n",
      "Epoch 174: saving model to model_checkpoint.keras\n",
      "\u001b[1m58/58\u001b[0m \u001b[32m━━━━━━━━━━━━━━━━━━━━\u001b[0m\u001b[37m\u001b[0m \u001b[1m62s\u001b[0m 1s/step - loss: 2.0121 - mae: 1.0873 - val_loss: 3.4483 - val_mae: 1.3642\n",
      "Epoch 175/200\n",
      "\u001b[1m58/58\u001b[0m \u001b[32m━━━━━━━━━━━━━━━━━━━━\u001b[0m\u001b[37m\u001b[0m \u001b[1m0s\u001b[0m 998ms/step - loss: 1.8212 - mae: 1.0374\n",
      "Epoch 175: saving model to model_checkpoint.keras\n",
      "\u001b[1m58/58\u001b[0m \u001b[32m━━━━━━━━━━━━━━━━━━━━\u001b[0m\u001b[37m\u001b[0m \u001b[1m62s\u001b[0m 1s/step - loss: 1.8212 - mae: 1.0377 - val_loss: 3.5142 - val_mae: 1.3346\n",
      "Epoch 176/200\n",
      "\u001b[1m58/58\u001b[0m \u001b[32m━━━━━━━━━━━━━━━━━━━━\u001b[0m\u001b[37m\u001b[0m \u001b[1m0s\u001b[0m 1s/step - loss: 1.9151 - mae: 1.0527\n",
      "Epoch 176: saving model to model_checkpoint.keras\n",
      "\u001b[1m58/58\u001b[0m \u001b[32m━━━━━━━━━━━━━━━━━━━━\u001b[0m\u001b[37m\u001b[0m \u001b[1m61s\u001b[0m 1s/step - loss: 1.9162 - mae: 1.0536 - val_loss: 3.7948 - val_mae: 1.3818\n",
      "Epoch 177/200\n",
      "\u001b[1m58/58\u001b[0m \u001b[32m━━━━━━━━━━━━━━━━━━━━\u001b[0m\u001b[37m\u001b[0m \u001b[1m0s\u001b[0m 996ms/step - loss: 1.6599 - mae: 1.0019\n",
      "Epoch 177: saving model to model_checkpoint.keras\n",
      "\u001b[1m58/58\u001b[0m \u001b[32m━━━━━━━━━━━━━━━━━━━━\u001b[0m\u001b[37m\u001b[0m \u001b[1m62s\u001b[0m 1s/step - loss: 1.6609 - mae: 1.0020 - val_loss: 3.5925 - val_mae: 1.3576\n",
      "Epoch 178/200\n",
      "\u001b[1m58/58\u001b[0m \u001b[32m━━━━━━━━━━━━━━━━━━━━\u001b[0m\u001b[37m\u001b[0m \u001b[1m0s\u001b[0m 1s/step - loss: 1.7886 - mae: 1.0190\n",
      "Epoch 178: saving model to model_checkpoint.keras\n",
      "\u001b[1m58/58\u001b[0m \u001b[32m━━━━━━━━━━━━━━━━━━━━\u001b[0m\u001b[37m\u001b[0m \u001b[1m62s\u001b[0m 1s/step - loss: 1.7868 - mae: 1.0185 - val_loss: 3.2690 - val_mae: 1.3120\n",
      "Epoch 179/200\n",
      "\u001b[1m58/58\u001b[0m \u001b[32m━━━━━━━━━━━━━━━━━━━━\u001b[0m\u001b[37m\u001b[0m \u001b[1m0s\u001b[0m 997ms/step - loss: 1.7456 - mae: 1.0206\n",
      "Epoch 179: saving model to model_checkpoint.keras\n",
      "\u001b[1m58/58\u001b[0m \u001b[32m━━━━━━━━━━━━━━━━━━━━\u001b[0m\u001b[37m\u001b[0m \u001b[1m61s\u001b[0m 1s/step - loss: 1.7456 - mae: 1.0206 - val_loss: 3.2904 - val_mae: 1.3205\n",
      "Epoch 180/200\n",
      "\u001b[1m58/58\u001b[0m \u001b[32m━━━━━━━━━━━━━━━━━━━━\u001b[0m\u001b[37m\u001b[0m \u001b[1m0s\u001b[0m 997ms/step - loss: 1.7688 - mae: 1.0243\n",
      "Epoch 180: saving model to model_checkpoint.keras\n",
      "\u001b[1m58/58\u001b[0m \u001b[32m━━━━━━━━━━━━━━━━━━━━\u001b[0m\u001b[37m\u001b[0m \u001b[1m62s\u001b[0m 1s/step - loss: 1.7689 - mae: 1.0242 - val_loss: 3.4309 - val_mae: 1.3137\n",
      "Epoch 181/200\n",
      "\u001b[1m58/58\u001b[0m \u001b[32m━━━━━━━━━━━━━━━━━━━━\u001b[0m\u001b[37m\u001b[0m \u001b[1m0s\u001b[0m 995ms/step - loss: 1.7269 - mae: 1.0135\n",
      "Epoch 181: saving model to model_checkpoint.keras\n",
      "\u001b[1m58/58\u001b[0m \u001b[32m━━━━━━━━━━━━━━━━━━━━\u001b[0m\u001b[37m\u001b[0m \u001b[1m61s\u001b[0m 1s/step - loss: 1.7280 - mae: 1.0137 - val_loss: 3.7280 - val_mae: 1.3707\n",
      "Epoch 182/200\n",
      "\u001b[1m58/58\u001b[0m \u001b[32m━━━━━━━━━━━━━━━━━━━━\u001b[0m\u001b[37m\u001b[0m \u001b[1m0s\u001b[0m 1s/step - loss: 1.8850 - mae: 1.0411\n",
      "Epoch 182: saving model to model_checkpoint.keras\n",
      "\u001b[1m58/58\u001b[0m \u001b[32m━━━━━━━━━━━━━━━━━━━━\u001b[0m\u001b[37m\u001b[0m \u001b[1m62s\u001b[0m 1s/step - loss: 1.8840 - mae: 1.0410 - val_loss: 3.5132 - val_mae: 1.4098\n",
      "Epoch 183/200\n",
      "\u001b[1m58/58\u001b[0m \u001b[32m━━━━━━━━━━━━━━━━━━━━\u001b[0m\u001b[37m\u001b[0m \u001b[1m0s\u001b[0m 1000ms/step - loss: 1.6072 - mae: 0.9680\n",
      "Epoch 183: saving model to model_checkpoint.keras\n",
      "\u001b[1m58/58\u001b[0m \u001b[32m━━━━━━━━━━━━━━━━━━━━\u001b[0m\u001b[37m\u001b[0m \u001b[1m61s\u001b[0m 1s/step - loss: 1.6091 - mae: 0.9686 - val_loss: 3.6870 - val_mae: 1.3643\n",
      "Epoch 184/200\n",
      "\u001b[1m58/58\u001b[0m \u001b[32m━━━━━━━━━━━━━━━━━━━━\u001b[0m\u001b[37m\u001b[0m \u001b[1m0s\u001b[0m 999ms/step - loss: 1.6225 - mae: 0.9939\n",
      "Epoch 184: saving model to model_checkpoint.keras\n",
      "\u001b[1m58/58\u001b[0m \u001b[32m━━━━━━━━━━━━━━━━━━━━\u001b[0m\u001b[37m\u001b[0m \u001b[1m61s\u001b[0m 1s/step - loss: 1.6228 - mae: 0.9940 - val_loss: 3.4248 - val_mae: 1.3524\n",
      "Epoch 185/200\n",
      "\u001b[1m58/58\u001b[0m \u001b[32m━━━━━━━━━━━━━━━━━━━━\u001b[0m\u001b[37m\u001b[0m \u001b[1m0s\u001b[0m 1000ms/step - loss: 1.6338 - mae: 0.9753\n",
      "Epoch 185: saving model to model_checkpoint.keras\n",
      "\u001b[1m58/58\u001b[0m \u001b[32m━━━━━━━━━━━━━━━━━━━━\u001b[0m\u001b[37m\u001b[0m \u001b[1m61s\u001b[0m 1s/step - loss: 1.6366 - mae: 0.9761 - val_loss: 3.4230 - val_mae: 1.3251\n",
      "Epoch 186/200\n",
      "\u001b[1m58/58\u001b[0m \u001b[32m━━━━━━━━━━━━━━━━━━━━\u001b[0m\u001b[37m\u001b[0m \u001b[1m0s\u001b[0m 1s/step - loss: 1.6956 - mae: 1.0118\n",
      "Epoch 186: saving model to model_checkpoint.keras\n",
      "\u001b[1m58/58\u001b[0m \u001b[32m━━━━━━━━━━━━━━━━━━━━\u001b[0m\u001b[37m\u001b[0m \u001b[1m62s\u001b[0m 1s/step - loss: 1.6973 - mae: 1.0118 - val_loss: 3.5205 - val_mae: 1.3856\n",
      "Epoch 187/200\n",
      "\u001b[1m58/58\u001b[0m \u001b[32m━━━━━━━━━━━━━━━━━━━━\u001b[0m\u001b[37m\u001b[0m \u001b[1m0s\u001b[0m 1s/step - loss: 1.6203 - mae: 0.9822\n",
      "Epoch 187: saving model to model_checkpoint.keras\n",
      "\u001b[1m58/58\u001b[0m \u001b[32m━━━━━━━━━━━━━━━━━━━━\u001b[0m\u001b[37m\u001b[0m \u001b[1m62s\u001b[0m 1s/step - loss: 1.6205 - mae: 0.9822 - val_loss: 3.2989 - val_mae: 1.2983\n",
      "Epoch 188/200\n",
      "\u001b[1m58/58\u001b[0m \u001b[32m━━━━━━━━━━━━━━━━━━━━\u001b[0m\u001b[37m\u001b[0m \u001b[1m0s\u001b[0m 998ms/step - loss: 1.4930 - mae: 0.9596\n",
      "Epoch 188: saving model to model_checkpoint.keras\n",
      "\u001b[1m58/58\u001b[0m \u001b[32m━━━━━━━━━━━━━━━━━━━━\u001b[0m\u001b[37m\u001b[0m \u001b[1m61s\u001b[0m 1s/step - loss: 1.4933 - mae: 0.9597 - val_loss: 3.5508 - val_mae: 1.3514\n",
      "Epoch 189/200\n",
      "\u001b[1m58/58\u001b[0m \u001b[32m━━━━━━━━━━━━━━━━━━━━\u001b[0m\u001b[37m\u001b[0m \u001b[1m0s\u001b[0m 994ms/step - loss: 1.6303 - mae: 0.9713\n",
      "Epoch 189: saving model to model_checkpoint.keras\n",
      "\u001b[1m58/58\u001b[0m \u001b[32m━━━━━━━━━━━━━━━━━━━━\u001b[0m\u001b[37m\u001b[0m \u001b[1m62s\u001b[0m 1s/step - loss: 1.6308 - mae: 0.9716 - val_loss: 3.8140 - val_mae: 1.4059\n",
      "Epoch 190/200\n",
      "\u001b[1m58/58\u001b[0m \u001b[32m━━━━━━━━━━━━━━━━━━━━\u001b[0m\u001b[37m\u001b[0m \u001b[1m0s\u001b[0m 999ms/step - loss: 1.7577 - mae: 1.0370\n",
      "Epoch 190: saving model to model_checkpoint.keras\n",
      "\u001b[1m58/58\u001b[0m \u001b[32m━━━━━━━━━━━━━━━━━━━━\u001b[0m\u001b[37m\u001b[0m \u001b[1m62s\u001b[0m 1s/step - loss: 1.7593 - mae: 1.0372 - val_loss: 3.2886 - val_mae: 1.3058\n",
      "Epoch 191/200\n",
      "\u001b[1m58/58\u001b[0m \u001b[32m━━━━━━━━━━━━━━━━━━━━\u001b[0m\u001b[37m\u001b[0m \u001b[1m0s\u001b[0m 1s/step - loss: 1.6143 - mae: 0.9893\n",
      "Epoch 191: saving model to model_checkpoint.keras\n",
      "\u001b[1m58/58\u001b[0m \u001b[32m━━━━━━━━━━━━━━━━━━━━\u001b[0m\u001b[37m\u001b[0m \u001b[1m62s\u001b[0m 1s/step - loss: 1.6135 - mae: 0.9892 - val_loss: 3.4928 - val_mae: 1.3535\n",
      "Epoch 192/200\n",
      "\u001b[1m58/58\u001b[0m \u001b[32m━━━━━━━━━━━━━━━━━━━━\u001b[0m\u001b[37m\u001b[0m \u001b[1m0s\u001b[0m 999ms/step - loss: 1.5277 - mae: 0.9340\n",
      "Epoch 192: saving model to model_checkpoint.keras\n",
      "\u001b[1m58/58\u001b[0m \u001b[32m━━━━━━━━━━━━━━━━━━━━\u001b[0m\u001b[37m\u001b[0m \u001b[1m62s\u001b[0m 1s/step - loss: 1.5299 - mae: 0.9349 - val_loss: 3.2352 - val_mae: 1.3045\n",
      "Epoch 193/200\n",
      "\u001b[1m58/58\u001b[0m \u001b[32m━━━━━━━━━━━━━━━━━━━━\u001b[0m\u001b[37m\u001b[0m \u001b[1m0s\u001b[0m 992ms/step - loss: 1.5371 - mae: 0.9484\n",
      "Epoch 193: saving model to model_checkpoint.keras\n",
      "\u001b[1m58/58\u001b[0m \u001b[32m━━━━━━━━━━━━━━━━━━━━\u001b[0m\u001b[37m\u001b[0m \u001b[1m61s\u001b[0m 1s/step - loss: 1.5391 - mae: 0.9490 - val_loss: 3.3668 - val_mae: 1.3212\n",
      "Epoch 194/200\n",
      "\u001b[1m58/58\u001b[0m \u001b[32m━━━━━━━━━━━━━━━━━━━━\u001b[0m\u001b[37m\u001b[0m \u001b[1m0s\u001b[0m 996ms/step - loss: 1.5636 - mae: 0.9753\n",
      "Epoch 194: saving model to model_checkpoint.keras\n",
      "\u001b[1m58/58\u001b[0m \u001b[32m━━━━━━━━━━━━━━━━━━━━\u001b[0m\u001b[37m\u001b[0m \u001b[1m61s\u001b[0m 1s/step - loss: 1.5649 - mae: 0.9757 - val_loss: 3.2878 - val_mae: 1.3325\n",
      "Epoch 195/200\n",
      "\u001b[1m58/58\u001b[0m \u001b[32m━━━━━━━━━━━━━━━━━━━━\u001b[0m\u001b[37m\u001b[0m \u001b[1m0s\u001b[0m 997ms/step - loss: 1.5000 - mae: 0.9548\n",
      "Epoch 195: saving model to model_checkpoint.keras\n",
      "\u001b[1m58/58\u001b[0m \u001b[32m━━━━━━━━━━━━━━━━━━━━\u001b[0m\u001b[37m\u001b[0m \u001b[1m61s\u001b[0m 1s/step - loss: 1.4996 - mae: 0.9547 - val_loss: 3.4642 - val_mae: 1.3429\n",
      "Epoch 196/200\n",
      "\u001b[1m58/58\u001b[0m \u001b[32m━━━━━━━━━━━━━━━━━━━━\u001b[0m\u001b[37m\u001b[0m \u001b[1m0s\u001b[0m 1s/step - loss: 1.4041 - mae: 0.9255\n",
      "Epoch 196: saving model to model_checkpoint.keras\n",
      "\u001b[1m58/58\u001b[0m \u001b[32m━━━━━━━━━━━━━━━━━━━━\u001b[0m\u001b[37m\u001b[0m \u001b[1m62s\u001b[0m 1s/step - loss: 1.4050 - mae: 0.9258 - val_loss: 3.3767 - val_mae: 1.3500\n",
      "Epoch 197/200\n",
      "\u001b[1m58/58\u001b[0m \u001b[32m━━━━━━━━━━━━━━━━━━━━\u001b[0m\u001b[37m\u001b[0m \u001b[1m0s\u001b[0m 1s/step - loss: 1.6113 - mae: 0.9764\n",
      "Epoch 197: saving model to model_checkpoint.keras\n",
      "\u001b[1m58/58\u001b[0m \u001b[32m━━━━━━━━━━━━━━━━━━━━\u001b[0m\u001b[37m\u001b[0m \u001b[1m62s\u001b[0m 1s/step - loss: 1.6116 - mae: 0.9765 - val_loss: 3.3364 - val_mae: 1.3433\n",
      "Epoch 198/200\n",
      "\u001b[1m58/58\u001b[0m \u001b[32m━━━━━━━━━━━━━━━━━━━━\u001b[0m\u001b[37m\u001b[0m \u001b[1m0s\u001b[0m 1000ms/step - loss: 1.5434 - mae: 0.9452\n",
      "Epoch 198: saving model to model_checkpoint.keras\n",
      "\u001b[1m58/58\u001b[0m \u001b[32m━━━━━━━━━━━━━━━━━━━━\u001b[0m\u001b[37m\u001b[0m \u001b[1m62s\u001b[0m 1s/step - loss: 1.5422 - mae: 0.9449 - val_loss: 3.5816 - val_mae: 1.3697\n",
      "Epoch 199/200\n",
      "\u001b[1m58/58\u001b[0m \u001b[32m━━━━━━━━━━━━━━━━━━━━\u001b[0m\u001b[37m\u001b[0m \u001b[1m0s\u001b[0m 995ms/step - loss: 1.6235 - mae: 0.9622\n",
      "Epoch 199: saving model to model_checkpoint.keras\n",
      "\u001b[1m58/58\u001b[0m \u001b[32m━━━━━━━━━━━━━━━━━━━━\u001b[0m\u001b[37m\u001b[0m \u001b[1m61s\u001b[0m 1s/step - loss: 1.6229 - mae: 0.9624 - val_loss: 3.3688 - val_mae: 1.3117\n",
      "Epoch 200/200\n",
      "\u001b[1m58/58\u001b[0m \u001b[32m━━━━━━━━━━━━━━━━━━━━\u001b[0m\u001b[37m\u001b[0m \u001b[1m0s\u001b[0m 994ms/step - loss: 1.5115 - mae: 0.9542\n",
      "Epoch 200: saving model to model_checkpoint.keras\n",
      "\u001b[1m58/58\u001b[0m \u001b[32m━━━━━━━━━━━━━━━━━━━━\u001b[0m\u001b[37m\u001b[0m \u001b[1m61s\u001b[0m 1s/step - loss: 1.5098 - mae: 0.9535 - val_loss: 3.4549 - val_mae: 1.3545\n"
     ]
    }
   ],
   "source": [
    "# Train the model.\n",
    "# Note: y_train and y_test should now contain continuous values between 0.0 and 13.0.\n",
    "history = model.fit(\n",
    "    X_train_final,\n",
    "    y_train,\n",
    "    validation_data=(X_test_final, y_test),\n",
    "    epochs=200,\n",
    "    batch_size=32,\n",
    "    callbacks=callbacks,\n",
    "    verbose=1\n",
    ")\n"
   ]
  },
  {
   "cell_type": "code",
   "execution_count": null,
   "id": "9b3130b7",
   "metadata": {
    "papermill": {
     "duration": 0.647083,
     "end_time": "2025-02-14T06:12:09.452781",
     "exception": false,
     "start_time": "2025-02-14T06:12:08.805698",
     "status": "completed"
    },
    "tags": []
   },
   "outputs": [],
   "source": []
  }
 ],
 "metadata": {
  "kaggle": {
   "accelerator": "nvidiaTeslaT4",
   "dataSources": [
    {
     "datasetId": 6577343,
     "sourceId": 10622934,
     "sourceType": "datasetVersion"
    },
    {
     "datasetId": 6579869,
     "sourceId": 10627200,
     "sourceType": "datasetVersion"
    },
    {
     "datasetId": 6637708,
     "sourceId": 10709822,
     "sourceType": "datasetVersion"
    }
   ],
   "dockerImageVersionId": 30887,
   "isGpuEnabled": true,
   "isInternetEnabled": true,
   "language": "python",
   "sourceType": "notebook"
  },
  "kernelspec": {
   "display_name": "Python 3",
   "language": "python",
   "name": "python3"
  },
  "language_info": {
   "codemirror_mode": {
    "name": "ipython",
    "version": 3
   },
   "file_extension": ".py",
   "mimetype": "text/x-python",
   "name": "python",
   "nbconvert_exporter": "python",
   "pygments_lexer": "ipython3",
   "version": "3.10.12"
  },
  "papermill": {
   "default_parameters": {},
   "duration": 12359.996887,
   "end_time": "2025-02-14T06:12:13.237048",
   "environment_variables": {},
   "exception": null,
   "input_path": "__notebook__.ipynb",
   "output_path": "__notebook__.ipynb",
   "parameters": {},
   "start_time": "2025-02-14T02:46:13.240161",
   "version": "2.6.0"
  }
 },
 "nbformat": 4,
 "nbformat_minor": 5
}
