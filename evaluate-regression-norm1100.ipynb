{
 "cells": [
  {
   "cell_type": "code",
   "execution_count": 1,
   "id": "cc46c7da",
   "metadata": {
    "_cell_guid": "b1076dfc-b9ad-4769-8c92-a6c4dae69d19",
    "_uuid": "8f2839f25d086af736a60e9eeb907d3b93b6e0e5",
    "execution": {
     "iopub.execute_input": "2025-03-05T10:31:12.369902Z",
     "iopub.status.busy": "2025-03-05T10:31:12.369651Z",
     "iopub.status.idle": "2025-03-05T10:31:13.822171Z",
     "shell.execute_reply": "2025-03-05T10:31:13.820903Z"
    },
    "papermill": {
     "duration": 1.464209,
     "end_time": "2025-03-05T10:31:13.823649",
     "exception": false,
     "start_time": "2025-03-05T10:31:12.359440",
     "status": "completed"
    },
    "tags": []
   },
   "outputs": [
    {
     "name": "stdout",
     "output_type": "stream",
     "text": [
      "/kaggle/input/damage-only-norm-300/keras/default/1/model_checkpoint (1).keras\n",
      "/kaggle/input/regressionv1/keras/default/1/model_checkpoint_regression.keras\n",
      "/kaggle/input/regression_norm_800/keras/default/1/model_checkpoint (2).keras\n",
      "/kaggle/input/ogw3-augmented/X_damage_augmented.npy\n",
      "/kaggle/input/ogw3-augmented/X_freq_augmented.npy\n",
      "/kaggle/input/ogw3-augmented/X_signals_augmented.npy\n",
      "/kaggle/input/regression_norm_500/keras/default/1/model_regression_norm_500.keras\n",
      "/kaggle/input/regression_norm_1103/keras/default/1/model_checkpoint (4).keras\n",
      "/kaggle/input/regression_norm/keras/default/1/model_regression_norm.keras\n",
      "/kaggle/input/damage-only-300/keras/default/1/model_checkpoint.keras\n",
      "/kaggle/input/500epoh_regression/keras/default/1/model_regression_500.keras\n"
     ]
    }
   ],
   "source": [
    "# This Python 3 environment comes with many helpful analytics libraries installed\n",
    "# It is defined by the kaggle/python Docker image: https://github.com/kaggle/docker-python\n",
    "# For example, here's several helpful packages to load\n",
    "\n",
    "import numpy as np # linear algebra\n",
    "import pandas as pd # data processing, CSV file I/O (e.g. pd.read_csv)\n",
    "\n",
    "# Input data files are available in the read-only \"../input/\" directory\n",
    "# For example, running this (by clicking run or pressing Shift+Enter) will list all files under the input directory\n",
    "\n",
    "import os\n",
    "for dirname, _, filenames in os.walk('/kaggle/input'):\n",
    "    for filename in filenames:\n",
    "        print(os.path.join(dirname, filename))\n",
    "\n",
    "# You can write up to 20GB to the current directory (/kaggle/working/) that gets preserved as output when you create a version using \"Save & Run All\" \n",
    "# You can also write temporary files to /kaggle/temp/, but they won't be saved outside of the current session"
   ]
  },
  {
   "cell_type": "markdown",
   "id": "582e0b06",
   "metadata": {
    "papermill": {
     "duration": 0.008493,
     "end_time": "2025-03-05T10:31:13.847934",
     "exception": false,
     "start_time": "2025-03-05T10:31:13.839441",
     "status": "completed"
    },
    "tags": []
   },
   "source": [
    "# 1.5) loading augmented data"
   ]
  },
  {
   "cell_type": "code",
   "execution_count": 2,
   "id": "c961171d",
   "metadata": {
    "execution": {
     "iopub.execute_input": "2025-03-05T10:31:13.865167Z",
     "iopub.status.busy": "2025-03-05T10:31:13.864802Z",
     "iopub.status.idle": "2025-03-05T10:31:13.868167Z",
     "shell.execute_reply": "2025-03-05T10:31:13.867416Z"
    },
    "papermill": {
     "duration": 0.01365,
     "end_time": "2025-03-05T10:31:13.869710",
     "exception": false,
     "start_time": "2025-03-05T10:31:13.856060",
     "status": "completed"
    },
    "tags": []
   },
   "outputs": [],
   "source": [
    "import os\n",
    "import matplotlib.pyplot as plt"
   ]
  },
  {
   "cell_type": "code",
   "execution_count": 3,
   "id": "2d6f55c6",
   "metadata": {
    "execution": {
     "iopub.execute_input": "2025-03-05T10:31:13.887331Z",
     "iopub.status.busy": "2025-03-05T10:31:13.886960Z",
     "iopub.status.idle": "2025-03-05T10:31:13.893591Z",
     "shell.execute_reply": "2025-03-05T10:31:13.892816Z"
    },
    "papermill": {
     "duration": 0.016976,
     "end_time": "2025-03-05T10:31:13.894821",
     "exception": false,
     "start_time": "2025-03-05T10:31:13.877845",
     "status": "completed"
    },
    "tags": []
   },
   "outputs": [
    {
     "data": {
      "text/plain": [
       "'/kaggle/working'"
      ]
     },
     "execution_count": 3,
     "metadata": {},
     "output_type": "execute_result"
    }
   ],
   "source": [
    "%pwd\n"
   ]
  },
  {
   "cell_type": "code",
   "execution_count": 4,
   "id": "1d23e256",
   "metadata": {
    "execution": {
     "iopub.execute_input": "2025-03-05T10:31:13.912820Z",
     "iopub.status.busy": "2025-03-05T10:31:13.912512Z",
     "iopub.status.idle": "2025-03-05T10:31:13.916094Z",
     "shell.execute_reply": "2025-03-05T10:31:13.915376Z"
    },
    "papermill": {
     "duration": 0.014958,
     "end_time": "2025-03-05T10:31:13.918162",
     "exception": false,
     "start_time": "2025-03-05T10:31:13.903204",
     "status": "completed"
    },
    "tags": []
   },
   "outputs": [],
   "source": [
    "os.chdir(\"..\")\n",
    "os.chdir(\"input\")"
   ]
  },
  {
   "cell_type": "code",
   "execution_count": 5,
   "id": "a0c67d60",
   "metadata": {
    "execution": {
     "iopub.execute_input": "2025-03-05T10:31:13.935386Z",
     "iopub.status.busy": "2025-03-05T10:31:13.935064Z",
     "iopub.status.idle": "2025-03-05T10:31:15.076178Z",
     "shell.execute_reply": "2025-03-05T10:31:15.075510Z"
    },
    "papermill": {
     "duration": 1.151481,
     "end_time": "2025-03-05T10:31:15.077823",
     "exception": false,
     "start_time": "2025-03-05T10:31:13.926342",
     "status": "completed"
    },
    "tags": []
   },
   "outputs": [],
   "source": [
    "X_signals_augmented = np.load('ogw3-augmented/X_signals_augmented.npy')\n",
    "X_damage_augmented = np.load('ogw3-augmented/X_damage_augmented.npy')\n",
    "X_freq_augmented = np.load('ogw3-augmented/X_freq_augmented.npy')\n"
   ]
  },
  {
   "cell_type": "code",
   "execution_count": 6,
   "id": "2cf91fdd",
   "metadata": {
    "execution": {
     "iopub.execute_input": "2025-03-05T10:31:15.095444Z",
     "iopub.status.busy": "2025-03-05T10:31:15.095181Z",
     "iopub.status.idle": "2025-03-05T10:31:15.098877Z",
     "shell.execute_reply": "2025-03-05T10:31:15.097986Z"
    },
    "papermill": {
     "duration": 0.013718,
     "end_time": "2025-03-05T10:31:15.100244",
     "exception": false,
     "start_time": "2025-03-05T10:31:15.086526",
     "status": "completed"
    },
    "tags": []
   },
   "outputs": [
    {
     "name": "stdout",
     "output_type": "stream",
     "text": [
      "X_signals shape:(2040, 4369, 1)\n",
      "X_signals shape:(2040, 14)\n",
      "X_signals shape:(2040, 12)\n"
     ]
    }
   ],
   "source": [
    "print(f\"X_signals shape:{X_signals_augmented.shape}\")\n",
    "print(f\"X_signals shape:{X_damage_augmented.shape}\")\n",
    "print(f\"X_signals shape:{X_freq_augmented.shape}\")"
   ]
  },
  {
   "cell_type": "code",
   "execution_count": 7,
   "id": "a3455b4e",
   "metadata": {
    "execution": {
     "iopub.execute_input": "2025-03-05T10:31:15.117218Z",
     "iopub.status.busy": "2025-03-05T10:31:15.117022Z",
     "iopub.status.idle": "2025-03-05T10:31:15.247689Z",
     "shell.execute_reply": "2025-03-05T10:31:15.246705Z"
    },
    "papermill": {
     "duration": 0.140549,
     "end_time": "2025-03-05T10:31:15.249135",
     "exception": false,
     "start_time": "2025-03-05T10:31:15.108586",
     "status": "completed"
    },
    "tags": []
   },
   "outputs": [
    {
     "name": "stdout",
     "output_type": "stream",
     "text": [
      "Summary for X_signals_augmented:\n",
      "Mean: [[-0.00808563]\n",
      " [-0.03676917]\n",
      " [ 0.00793156]\n",
      " ...\n",
      " [ 0.43494834]\n",
      " [ 0.47826858]\n",
      " [ 0.47794448]]\n",
      "Variance: [[0.04756828]\n",
      " [0.05728288]\n",
      " [0.05182533]\n",
      " ...\n",
      " [0.11266843]\n",
      " [0.11778735]\n",
      " [0.1192308 ]]\n",
      "Min: [[-1.]\n",
      " [-1.]\n",
      " [-1.]\n",
      " ...\n",
      " [-1.]\n",
      " [-1.]\n",
      " [-1.]]\n",
      "Max: [[1.]\n",
      " [1.]\n",
      " [1.]\n",
      " ...\n",
      " [1.]\n",
      " [1.]\n",
      " [1.]]\n",
      "--------------------------------------------------\n",
      "Summary for X_freq_augmented:\n",
      "Mean: [0.08333333 0.08333333 0.08333333 0.08333333 0.08333333 0.08333333\n",
      " 0.08333333 0.08333333 0.08333333 0.08333333 0.08333333 0.08333333]\n",
      "Variance: [0.07638889 0.07638889 0.07638889 0.07638889 0.07638889 0.07638889\n",
      " 0.07638889 0.07638889 0.07638889 0.07638889 0.07638889 0.07638889]\n",
      "Min: [0. 0. 0. 0. 0. 0. 0. 0. 0. 0. 0. 0.]\n",
      "Max: [1. 1. 1. 1. 1. 1. 1. 1. 1. 1. 1. 1.]\n",
      "--------------------------------------------------\n"
     ]
    }
   ],
   "source": [
    "import numpy as np\n",
    "\n",
    "def summarize_data(X, name):\n",
    "    print(f\"Summary for {name}:\")\n",
    "    print(\"Mean:\", np.mean(X, axis=0))\n",
    "    print(\"Variance:\", np.var(X, axis=0))\n",
    "    print(\"Min:\", np.min(X, axis=0))\n",
    "    print(\"Max:\", np.max(X, axis=0))\n",
    "    print(\"-\" * 50)\n",
    "\n",
    "summarize_data(X_signals_augmented, \"X_signals_augmented\")\n",
    "summarize_data(X_freq_augmented, \"X_freq_augmented\")\n"
   ]
  },
  {
   "cell_type": "code",
   "execution_count": 8,
   "id": "3ece6d3d",
   "metadata": {
    "execution": {
     "iopub.execute_input": "2025-03-05T10:31:15.267511Z",
     "iopub.status.busy": "2025-03-05T10:31:15.267226Z",
     "iopub.status.idle": "2025-03-05T10:31:15.288799Z",
     "shell.execute_reply": "2025-03-05T10:31:15.287926Z"
    },
    "papermill": {
     "duration": 0.032056,
     "end_time": "2025-03-05T10:31:15.290075",
     "exception": false,
     "start_time": "2025-03-05T10:31:15.258019",
     "status": "completed"
    },
    "tags": []
   },
   "outputs": [
    {
     "name": "stdout",
     "output_type": "stream",
     "text": [
      "Damage Condition Counts:\n",
      " 0.0    26520\n",
      "1.0     2040\n",
      "Name: count, dtype: int64\n"
     ]
    }
   ],
   "source": [
    "import pandas as pd\n",
    "\n",
    "damage_counts = pd.Series(X_damage_augmented.flatten()).value_counts()\n",
    "print(\"Damage Condition Counts:\\n\", damage_counts)\n"
   ]
  },
  {
   "cell_type": "markdown",
   "id": "c2ac84bb",
   "metadata": {
    "papermill": {
     "duration": 0.008099,
     "end_time": "2025-03-05T10:31:15.306609",
     "exception": false,
     "start_time": "2025-03-05T10:31:15.298510",
     "status": "completed"
    },
    "tags": []
   },
   "source": [
    "# 2. Execution and model Training\n",
    "This is where the actual execution starts"
   ]
  },
  {
   "cell_type": "code",
   "execution_count": 9,
   "id": "a9d23344",
   "metadata": {
    "execution": {
     "iopub.execute_input": "2025-03-05T10:31:15.323436Z",
     "iopub.status.busy": "2025-03-05T10:31:15.323190Z",
     "iopub.status.idle": "2025-03-05T10:31:15.326442Z",
     "shell.execute_reply": "2025-03-05T10:31:15.325683Z"
    },
    "papermill": {
     "duration": 0.012897,
     "end_time": "2025-03-05T10:31:15.327599",
     "exception": false,
     "start_time": "2025-03-05T10:31:15.314702",
     "status": "completed"
    },
    "tags": []
   },
   "outputs": [],
   "source": [
    "import numpy as np\n",
    "import pandas as pd\n",
    "import pickle\n",
    "import matplotlib.pyplot as plt\n",
    "import os"
   ]
  },
  {
   "cell_type": "code",
   "execution_count": 10,
   "id": "17d398e9",
   "metadata": {
    "execution": {
     "iopub.execute_input": "2025-03-05T10:31:15.344630Z",
     "iopub.status.busy": "2025-03-05T10:31:15.344399Z",
     "iopub.status.idle": "2025-03-05T10:31:15.347516Z",
     "shell.execute_reply": "2025-03-05T10:31:15.346758Z"
    },
    "papermill": {
     "duration": 0.0131,
     "end_time": "2025-03-05T10:31:15.348772",
     "exception": false,
     "start_time": "2025-03-05T10:31:15.335672",
     "status": "completed"
    },
    "tags": []
   },
   "outputs": [],
   "source": [
    "os.chdir(\"..\")\n",
    "os.chdir(\"working\")"
   ]
  },
  {
   "cell_type": "code",
   "execution_count": 11,
   "id": "ff389758",
   "metadata": {
    "execution": {
     "iopub.execute_input": "2025-03-05T10:31:15.365874Z",
     "iopub.status.busy": "2025-03-05T10:31:15.365681Z",
     "iopub.status.idle": "2025-03-05T10:31:15.370022Z",
     "shell.execute_reply": "2025-03-05T10:31:15.369189Z"
    },
    "papermill": {
     "duration": 0.014174,
     "end_time": "2025-03-05T10:31:15.371187",
     "exception": false,
     "start_time": "2025-03-05T10:31:15.357013",
     "status": "completed"
    },
    "tags": []
   },
   "outputs": [
    {
     "data": {
      "text/plain": [
       "'/kaggle'"
      ]
     },
     "execution_count": 11,
     "metadata": {},
     "output_type": "execute_result"
    }
   ],
   "source": [
    "os.chdir(\"..\")\n",
    "%pwd"
   ]
  },
  {
   "cell_type": "code",
   "execution_count": 12,
   "id": "1f826d6c",
   "metadata": {
    "execution": {
     "iopub.execute_input": "2025-03-05T10:31:15.388776Z",
     "iopub.status.busy": "2025-03-05T10:31:15.388559Z",
     "iopub.status.idle": "2025-03-05T10:31:17.756574Z",
     "shell.execute_reply": "2025-03-05T10:31:17.755440Z"
    },
    "papermill": {
     "duration": 2.378557,
     "end_time": "2025-03-05T10:31:17.758380",
     "exception": false,
     "start_time": "2025-03-05T10:31:15.379823",
     "status": "completed"
    },
    "tags": []
   },
   "outputs": [],
   "source": [
    "import numpy as np\n",
    "from sklearn.model_selection import train_test_split\n",
    "\n",
    "# ----------------------------------------------------------------------\n",
    "# Step 1: Convert one-hot encoded damage labels to scalar values.\n",
    "# ----------------------------------------------------------------------\n",
    "# Each sample in X_damage_augmented is a one-hot vector. We convert it to the\n",
    "# corresponding class index (i.e., 0 for undamaged, 1-13 for damage levels).\n",
    "y_augmented = np.argmax(X_damage_augmented, axis=1).astype(np.float32)\n",
    "# y_augmented now has shape (num_samples,)"
   ]
  },
  {
   "cell_type": "code",
   "execution_count": 13,
   "id": "7643fd1f",
   "metadata": {
    "execution": {
     "iopub.execute_input": "2025-03-05T10:31:17.781868Z",
     "iopub.status.busy": "2025-03-05T10:31:17.781496Z",
     "iopub.status.idle": "2025-03-05T10:31:17.786249Z",
     "shell.execute_reply": "2025-03-05T10:31:17.785499Z"
    },
    "papermill": {
     "duration": 0.019468,
     "end_time": "2025-03-05T10:31:17.787878",
     "exception": false,
     "start_time": "2025-03-05T10:31:17.768410",
     "status": "completed"
    },
    "tags": []
   },
   "outputs": [
    {
     "data": {
      "text/plain": [
       "0.0"
      ]
     },
     "execution_count": 13,
     "metadata": {},
     "output_type": "execute_result"
    }
   ],
   "source": [
    "y_augmented.min()"
   ]
  },
  {
   "cell_type": "code",
   "execution_count": 14,
   "id": "8a4a8d2d",
   "metadata": {
    "execution": {
     "iopub.execute_input": "2025-03-05T10:31:17.808005Z",
     "iopub.status.busy": "2025-03-05T10:31:17.807797Z",
     "iopub.status.idle": "2025-03-05T10:31:17.810730Z",
     "shell.execute_reply": "2025-03-05T10:31:17.810147Z"
    },
    "papermill": {
     "duration": 0.013455,
     "end_time": "2025-03-05T10:31:17.811949",
     "exception": false,
     "start_time": "2025-03-05T10:31:17.798494",
     "status": "completed"
    },
    "tags": []
   },
   "outputs": [],
   "source": [
    "# ----------------------------------------------------------------------\n",
    "# Step 2: Define the features.\n",
    "# ----------------------------------------------------------------------\n",
    "# For this regression task, we use the guided wave signals as the features.\n",
    "# (If you wish to include frequency information as additional features, you might\n",
    "# concatenate or process X_freq_augmented separately; here we assume only the signal is used.)\n",
    "X_augmented = X_signals_augmented  # shape: (num_samples, 4369, 1)"
   ]
  },
  {
   "cell_type": "code",
   "execution_count": 15,
   "id": "cf912663",
   "metadata": {
    "execution": {
     "iopub.execute_input": "2025-03-05T10:31:17.829605Z",
     "iopub.status.busy": "2025-03-05T10:31:17.829373Z",
     "iopub.status.idle": "2025-03-05T10:31:17.860181Z",
     "shell.execute_reply": "2025-03-05T10:31:17.859476Z"
    },
    "papermill": {
     "duration": 0.041143,
     "end_time": "2025-03-05T10:31:17.861793",
     "exception": false,
     "start_time": "2025-03-05T10:31:17.820650",
     "status": "completed"
    },
    "tags": []
   },
   "outputs": [],
   "source": [
    "# ----------------------------------------------------------------------\n",
    "# Step 3: Split the data into training and test sets.\n",
    "# ----------------------------------------------------------------------\n",
    "# Here we use 80% of the data for training and 20% for testing.\n",
    "X_train, X_test, y_train, y_test = train_test_split(\n",
    "    X_augmented, y_augmented, test_size=0.1, random_state=42\n",
    ")\n"
   ]
  },
  {
   "cell_type": "code",
   "execution_count": 16,
   "id": "43cea62c",
   "metadata": {
    "execution": {
     "iopub.execute_input": "2025-03-05T10:31:17.889513Z",
     "iopub.status.busy": "2025-03-05T10:31:17.889200Z",
     "iopub.status.idle": "2025-03-05T10:31:17.893985Z",
     "shell.execute_reply": "2025-03-05T10:31:17.893011Z"
    },
    "papermill": {
     "duration": 0.017805,
     "end_time": "2025-03-05T10:31:17.895513",
     "exception": false,
     "start_time": "2025-03-05T10:31:17.877708",
     "status": "completed"
    },
    "tags": []
   },
   "outputs": [
    {
     "name": "stdout",
     "output_type": "stream",
     "text": [
      "Training data shape: (1836, 4369, 1)\n",
      "Training labels shape: (1836,)\n",
      "Test data shape: (204, 4369, 1)\n",
      "Test labels shape: (204,)\n"
     ]
    }
   ],
   "source": [
    "\n",
    "\n",
    "\n",
    "# ----------------------------------------------------------------------\n",
    "# Step 4: Verify the shapes of the datasets.\n",
    "# ----------------------------------------------------------------------\n",
    "print(f\"Training data shape: {X_train.shape}\")  # Expected: (num_train_samples, 4369, 1)\n",
    "print(f\"Training labels shape: {y_train.shape}\")  # Expected: (num_train_samples,)\n",
    "print(f\"Test data shape: {X_test.shape}\")         # Expected: (num_test_samples, 4369, 1)\n",
    "print(f\"Test labels shape: {y_test.shape}\")         # Expected: (num_test_samples,)\n"
   ]
  },
  {
   "cell_type": "code",
   "execution_count": 17,
   "id": "0c4c7ae7",
   "metadata": {
    "execution": {
     "iopub.execute_input": "2025-03-05T10:31:17.923953Z",
     "iopub.status.busy": "2025-03-05T10:31:17.923488Z",
     "iopub.status.idle": "2025-03-05T10:31:17.927621Z",
     "shell.execute_reply": "2025-03-05T10:31:17.926979Z"
    },
    "papermill": {
     "duration": 0.018333,
     "end_time": "2025-03-05T10:31:17.928829",
     "exception": false,
     "start_time": "2025-03-05T10:31:17.910496",
     "status": "completed"
    },
    "tags": []
   },
   "outputs": [],
   "source": [
    "# # Identify indices where labels are not zero\n",
    "# non_zero_indices = y_train != 0\n",
    "\n",
    "# # Filter training data and labels\n",
    "# X_train = X_train[non_zero_indices]\n",
    "# y_train = y_train[non_zero_indices]\n",
    "\n",
    "# # Identify indices where test labels are not zero\n",
    "# non_zero_indices_test = y_test != 0\n",
    "\n",
    "# # Filter test data and labels\n",
    "# X_test = X_test[non_zero_indices_test]\n",
    "# y_test = y_test[non_zero_indices_test]\n",
    "\n",
    "# # Verify the new shapes\n",
    "# print(f\"Filtered Training data shape: {X_train.shape}\")\n",
    "# print(f\"Filtered Training labels shape: {y_train.shape}\")\n",
    "# print(f\"Filtered Test data shape: {X_test.shape}\")\n",
    "# print(f\"Filtered Test labels shape: {y_test.shape}\")"
   ]
  },
  {
   "cell_type": "code",
   "execution_count": 18,
   "id": "f82da7bd",
   "metadata": {
    "execution": {
     "iopub.execute_input": "2025-03-05T10:31:17.956776Z",
     "iopub.status.busy": "2025-03-05T10:31:17.956542Z",
     "iopub.status.idle": "2025-03-05T10:31:17.960755Z",
     "shell.execute_reply": "2025-03-05T10:31:17.960122Z"
    },
    "papermill": {
     "duration": 0.017516,
     "end_time": "2025-03-05T10:31:17.961929",
     "exception": false,
     "start_time": "2025-03-05T10:31:17.944413",
     "status": "completed"
    },
    "tags": []
   },
   "outputs": [],
   "source": [
    "def print_label_distribution(y, set_name):\n",
    "    \"\"\"Print the distribution of labels in a dataset.\"\"\"\n",
    "    print(f\"\\n{set_name} label distribution:\")\n",
    "    print(f\"- Baseline samples (0): {np.sum(y == 0)}\")\n",
    "    for damage_size in range(1, 14):\n",
    "        print(f\"- Damage size {damage_size}: {np.sum(y == damage_size)}\")"
   ]
  },
  {
   "cell_type": "code",
   "execution_count": 19,
   "id": "5f0300b4",
   "metadata": {
    "execution": {
     "iopub.execute_input": "2025-03-05T10:31:17.979910Z",
     "iopub.status.busy": "2025-03-05T10:31:17.979681Z",
     "iopub.status.idle": "2025-03-05T10:31:17.987940Z",
     "shell.execute_reply": "2025-03-05T10:31:17.987039Z"
    },
    "papermill": {
     "duration": 0.018622,
     "end_time": "2025-03-05T10:31:17.989114",
     "exception": false,
     "start_time": "2025-03-05T10:31:17.970492",
     "status": "completed"
    },
    "tags": []
   },
   "outputs": [
    {
     "name": "stdout",
     "output_type": "stream",
     "text": [
      "\n",
      "Training set label distribution:\n",
      "- Baseline samples (0): 433\n",
      "- Damage size 1: 107\n",
      "- Damage size 2: 107\n",
      "- Damage size 3: 105\n",
      "- Damage size 4: 106\n",
      "- Damage size 5: 105\n",
      "- Damage size 6: 107\n",
      "- Damage size 7: 115\n",
      "- Damage size 8: 109\n",
      "- Damage size 9: 107\n",
      "- Damage size 10: 111\n",
      "- Damage size 11: 109\n",
      "- Damage size 12: 111\n",
      "- Damage size 13: 104\n",
      "\n",
      "Test set label distribution:\n",
      "- Baseline samples (0): 47\n",
      "- Damage size 1: 13\n",
      "- Damage size 2: 13\n",
      "- Damage size 3: 15\n",
      "- Damage size 4: 14\n",
      "- Damage size 5: 15\n",
      "- Damage size 6: 13\n",
      "- Damage size 7: 5\n",
      "- Damage size 8: 11\n",
      "- Damage size 9: 13\n",
      "- Damage size 10: 9\n",
      "- Damage size 11: 11\n",
      "- Damage size 12: 9\n",
      "- Damage size 13: 16\n"
     ]
    }
   ],
   "source": [
    "# Print label distribution for training and test sets\n",
    "print_label_distribution(y_train, \"Training set\")\n",
    "print_label_distribution(y_test, \"Test set\")"
   ]
  },
  {
   "cell_type": "code",
   "execution_count": 20,
   "id": "8a5069d8",
   "metadata": {
    "execution": {
     "iopub.execute_input": "2025-03-05T10:31:18.006897Z",
     "iopub.status.busy": "2025-03-05T10:31:18.006701Z",
     "iopub.status.idle": "2025-03-05T10:31:18.025759Z",
     "shell.execute_reply": "2025-03-05T10:31:18.025110Z"
    },
    "papermill": {
     "duration": 0.029412,
     "end_time": "2025-03-05T10:31:18.027124",
     "exception": false,
     "start_time": "2025-03-05T10:31:17.997712",
     "status": "completed"
    },
    "tags": []
   },
   "outputs": [],
   "source": [
    "# Convert input data to float32\n",
    "X_train = X_train.astype('float32')\n",
    "X_test = X_test.astype('float32')"
   ]
  },
  {
   "cell_type": "code",
   "execution_count": 21,
   "id": "5d4b2d3f",
   "metadata": {
    "execution": {
     "iopub.execute_input": "2025-03-05T10:31:18.045224Z",
     "iopub.status.busy": "2025-03-05T10:31:18.045014Z",
     "iopub.status.idle": "2025-03-05T10:31:18.048045Z",
     "shell.execute_reply": "2025-03-05T10:31:18.047453Z"
    },
    "papermill": {
     "duration": 0.013252,
     "end_time": "2025-03-05T10:31:18.049228",
     "exception": false,
     "start_time": "2025-03-05T10:31:18.035976",
     "status": "completed"
    },
    "tags": []
   },
   "outputs": [],
   "source": [
    "y_train = y_train.astype('float32')\n",
    "y_test = y_test.astype('float32')"
   ]
  },
  {
   "cell_type": "code",
   "execution_count": 22,
   "id": "f1843325",
   "metadata": {
    "execution": {
     "iopub.execute_input": "2025-03-05T10:31:18.066776Z",
     "iopub.status.busy": "2025-03-05T10:31:18.066572Z",
     "iopub.status.idle": "2025-03-05T10:31:18.083142Z",
     "shell.execute_reply": "2025-03-05T10:31:18.082366Z"
    },
    "papermill": {
     "duration": 0.026669,
     "end_time": "2025-03-05T10:31:18.084348",
     "exception": false,
     "start_time": "2025-03-05T10:31:18.057679",
     "status": "completed"
    },
    "tags": []
   },
   "outputs": [
    {
     "name": "stdout",
     "output_type": "stream",
     "text": [
      "Min values after scaling: [-1.040155  -0.9812768 -1.        ... -1.        -0.9722817 -0.9399686]\n",
      "Max values after scaling: [1.0318567  0.94322634 1.         ... 1.         0.9312466  1.0010613 ]\n"
     ]
    }
   ],
   "source": [
    "print(\"Min values after scaling:\", np.min(X_train, axis=(1,2)))\n",
    "print(\"Max values after scaling:\", np.max(X_train, axis=(1,2)))"
   ]
  },
  {
   "cell_type": "code",
   "execution_count": 23,
   "id": "6104171e",
   "metadata": {
    "execution": {
     "iopub.execute_input": "2025-03-05T10:31:18.102186Z",
     "iopub.status.busy": "2025-03-05T10:31:18.101986Z",
     "iopub.status.idle": "2025-03-05T10:31:18.106156Z",
     "shell.execute_reply": "2025-03-05T10:31:18.105559Z"
    },
    "papermill": {
     "duration": 0.01439,
     "end_time": "2025-03-05T10:31:18.107375",
     "exception": false,
     "start_time": "2025-03-05T10:31:18.092985",
     "status": "completed"
    },
    "tags": []
   },
   "outputs": [
    {
     "name": "stdout",
     "output_type": "stream",
     "text": [
      "X_train dtype: float32\n",
      "y_train dtype: float32\n"
     ]
    }
   ],
   "source": [
    "print(\"X_train dtype:\", X_train.dtype)  # Should print float32\n",
    "print(\"y_train dtype:\", y_train.dtype)  # Should print float32"
   ]
  },
  {
   "cell_type": "code",
   "execution_count": 24,
   "id": "55dc1204",
   "metadata": {
    "execution": {
     "iopub.execute_input": "2025-03-05T10:31:18.125263Z",
     "iopub.status.busy": "2025-03-05T10:31:18.125067Z",
     "iopub.status.idle": "2025-03-05T10:31:18.131808Z",
     "shell.execute_reply": "2025-03-05T10:31:18.131184Z"
    },
    "papermill": {
     "duration": 0.016982,
     "end_time": "2025-03-05T10:31:18.132921",
     "exception": false,
     "start_time": "2025-03-05T10:31:18.115939",
     "status": "completed"
    },
    "tags": []
   },
   "outputs": [
    {
     "name": "stdout",
     "output_type": "stream",
     "text": [
      "Before Normalizing training targets (first 5): [ 5.  3. 13.  1. 10.]\n",
      "Before Normalizing test targets (first 5): [7. 0. 6. 1. 8.]\n",
      "Normalized training targets (first 5): [0.3846154  0.23076923 1.         0.07692308 0.7692308 ]\n",
      "Normalized test targets (first 5): [0.53846157 0.         0.46153846 0.07692308 0.61538464]\n"
     ]
    }
   ],
   "source": [
    "import numpy as np\n",
    "\n",
    "# Compute the minimum and maximum values from the training targets.\n",
    "y_min = np.min(y_train)\n",
    "y_max = np.max(y_train)\n",
    "\n",
    "# Normalize the training and test targets.\n",
    "y_train_norm = (y_train - y_min) / (y_max - y_min)\n",
    "y_test_norm = (y_test - y_min) / (y_max - y_min)\n",
    "\n",
    "\n",
    "print(\"Before Normalizing training targets (first 5):\", y_train[:5])\n",
    "print(\"Before Normalizing test targets (first 5):\", y_test[:5])\n",
    "\n",
    "print(\"Normalized training targets (first 5):\", y_train_norm[:5])\n",
    "print(\"Normalized test targets (first 5):\", y_test_norm[:5])\n"
   ]
  },
  {
   "cell_type": "markdown",
   "id": "d97ca5c6",
   "metadata": {
    "papermill": {
     "duration": 0.00833,
     "end_time": "2025-03-05T10:31:18.150012",
     "exception": false,
     "start_time": "2025-03-05T10:31:18.141682",
     "status": "completed"
    },
    "tags": []
   },
   "source": [
    "# 3. Model Architecture"
   ]
  },
  {
   "cell_type": "code",
   "execution_count": 25,
   "id": "d8e1971d",
   "metadata": {
    "execution": {
     "iopub.execute_input": "2025-03-05T10:31:18.167530Z",
     "iopub.status.busy": "2025-03-05T10:31:18.167271Z",
     "iopub.status.idle": "2025-03-05T10:31:37.667823Z",
     "shell.execute_reply": "2025-03-05T10:31:37.666915Z"
    },
    "papermill": {
     "duration": 19.511165,
     "end_time": "2025-03-05T10:31:37.669514",
     "exception": false,
     "start_time": "2025-03-05T10:31:18.158349",
     "status": "completed"
    },
    "tags": []
   },
   "outputs": [],
   "source": [
    "import tensorflow as tf\n",
    "from tensorflow.keras import layers, models"
   ]
  },
  {
   "cell_type": "code",
   "execution_count": 26,
   "id": "4dd998ad",
   "metadata": {
    "execution": {
     "iopub.execute_input": "2025-03-05T10:31:37.688792Z",
     "iopub.status.busy": "2025-03-05T10:31:37.688306Z",
     "iopub.status.idle": "2025-03-05T10:31:37.691966Z",
     "shell.execute_reply": "2025-03-05T10:31:37.691127Z"
    },
    "papermill": {
     "duration": 0.014326,
     "end_time": "2025-03-05T10:31:37.693272",
     "exception": false,
     "start_time": "2025-03-05T10:31:37.678946",
     "status": "completed"
    },
    "tags": []
   },
   "outputs": [],
   "source": [
    "tf.keras.backend.set_floatx('float32')"
   ]
  },
  {
   "cell_type": "code",
   "execution_count": 27,
   "id": "568ae6c5",
   "metadata": {
    "execution": {
     "iopub.execute_input": "2025-03-05T10:31:37.711457Z",
     "iopub.status.busy": "2025-03-05T10:31:37.711181Z",
     "iopub.status.idle": "2025-03-05T10:31:37.714224Z",
     "shell.execute_reply": "2025-03-05T10:31:37.713643Z"
    },
    "papermill": {
     "duration": 0.013311,
     "end_time": "2025-03-05T10:31:37.715421",
     "exception": false,
     "start_time": "2025-03-05T10:31:37.702110",
     "status": "completed"
    },
    "tags": []
   },
   "outputs": [],
   "source": [
    "import tensorflow as tf\n",
    "from tensorflow import keras\n",
    "from tensorflow.keras import layers"
   ]
  },
  {
   "cell_type": "code",
   "execution_count": 28,
   "id": "5cac0175",
   "metadata": {
    "execution": {
     "iopub.execute_input": "2025-03-05T10:31:37.733614Z",
     "iopub.status.busy": "2025-03-05T10:31:37.733406Z",
     "iopub.status.idle": "2025-03-05T10:31:39.951111Z",
     "shell.execute_reply": "2025-03-05T10:31:39.950106Z"
    },
    "papermill": {
     "duration": 2.228525,
     "end_time": "2025-03-05T10:31:39.952841",
     "exception": false,
     "start_time": "2025-03-05T10:31:37.724316",
     "status": "completed"
    },
    "tags": []
   },
   "outputs": [],
   "source": [
    "# Multi-GPU setup\n",
    "strategy = tf.distribute.MirroredStrategy()"
   ]
  },
  {
   "cell_type": "code",
   "execution_count": 29,
   "id": "f025e057",
   "metadata": {
    "execution": {
     "iopub.execute_input": "2025-03-05T10:31:39.974865Z",
     "iopub.status.busy": "2025-03-05T10:31:39.974567Z",
     "iopub.status.idle": "2025-03-05T10:31:39.979649Z",
     "shell.execute_reply": "2025-03-05T10:31:39.978892Z"
    },
    "papermill": {
     "duration": 0.016799,
     "end_time": "2025-03-05T10:31:39.981109",
     "exception": false,
     "start_time": "2025-03-05T10:31:39.964310",
     "status": "completed"
    },
    "tags": []
   },
   "outputs": [
    {
     "data": {
      "text/plain": [
       "'/kaggle'"
      ]
     },
     "execution_count": 29,
     "metadata": {},
     "output_type": "execute_result"
    }
   ],
   "source": [
    "%pwd"
   ]
  },
  {
   "cell_type": "code",
   "execution_count": 30,
   "id": "aa157839",
   "metadata": {
    "execution": {
     "iopub.execute_input": "2025-03-05T10:31:40.001046Z",
     "iopub.status.busy": "2025-03-05T10:31:40.000750Z",
     "iopub.status.idle": "2025-03-05T10:31:40.008288Z",
     "shell.execute_reply": "2025-03-05T10:31:40.007474Z"
    },
    "papermill": {
     "duration": 0.019124,
     "end_time": "2025-03-05T10:31:40.009750",
     "exception": false,
     "start_time": "2025-03-05T10:31:39.990626",
     "status": "completed"
    },
    "tags": []
   },
   "outputs": [],
   "source": [
    "from tensorflow.keras.models import load_model"
   ]
  },
  {
   "cell_type": "code",
   "execution_count": 31,
   "id": "655f75a0",
   "metadata": {
    "execution": {
     "iopub.execute_input": "2025-03-05T10:31:40.030744Z",
     "iopub.status.busy": "2025-03-05T10:31:40.030472Z",
     "iopub.status.idle": "2025-03-05T10:31:43.285196Z",
     "shell.execute_reply": "2025-03-05T10:31:43.284518Z"
    },
    "papermill": {
     "duration": 3.266349,
     "end_time": "2025-03-05T10:31:43.286788",
     "exception": false,
     "start_time": "2025-03-05T10:31:40.020439",
     "status": "completed"
    },
    "tags": []
   },
   "outputs": [],
   "source": [
    "keras.config.enable_unsafe_deserialization()\n",
    "# Load the model within the strategy scope\n",
    "with strategy.scope():\n",
    "    model_reg = load_model('/kaggle/input/regression_norm_1103/keras/default/1/model_checkpoint (4).keras')"
   ]
  },
  {
   "cell_type": "code",
   "execution_count": 32,
   "id": "3e52b74d",
   "metadata": {
    "execution": {
     "iopub.execute_input": "2025-03-05T10:31:43.306413Z",
     "iopub.status.busy": "2025-03-05T10:31:43.306140Z",
     "iopub.status.idle": "2025-03-05T10:31:43.310632Z",
     "shell.execute_reply": "2025-03-05T10:31:43.309955Z"
    },
    "papermill": {
     "duration": 0.015857,
     "end_time": "2025-03-05T10:31:43.311834",
     "exception": false,
     "start_time": "2025-03-05T10:31:43.295977",
     "status": "completed"
    },
    "tags": []
   },
   "outputs": [
    {
     "data": {
      "text/plain": [
       "(1836, 4369, 1)"
      ]
     },
     "execution_count": 32,
     "metadata": {},
     "output_type": "execute_result"
    }
   ],
   "source": [
    "X_train.shape"
   ]
  },
  {
   "cell_type": "code",
   "execution_count": 33,
   "id": "49eda33e",
   "metadata": {
    "execution": {
     "iopub.execute_input": "2025-03-05T10:31:43.366388Z",
     "iopub.status.busy": "2025-03-05T10:31:43.366106Z",
     "iopub.status.idle": "2025-03-05T10:31:43.370437Z",
     "shell.execute_reply": "2025-03-05T10:31:43.369635Z"
    },
    "papermill": {
     "duration": 0.015239,
     "end_time": "2025-03-05T10:31:43.371789",
     "exception": false,
     "start_time": "2025-03-05T10:31:43.356550",
     "status": "completed"
    },
    "tags": []
   },
   "outputs": [
    {
     "data": {
      "text/plain": [
       "(1836,)"
      ]
     },
     "execution_count": 33,
     "metadata": {},
     "output_type": "execute_result"
    }
   ],
   "source": [
    "y_train.shape"
   ]
  },
  {
   "cell_type": "code",
   "execution_count": 34,
   "id": "afc97432",
   "metadata": {
    "execution": {
     "iopub.execute_input": "2025-03-05T10:31:43.392397Z",
     "iopub.status.busy": "2025-03-05T10:31:43.392005Z",
     "iopub.status.idle": "2025-03-05T10:31:43.399261Z",
     "shell.execute_reply": "2025-03-05T10:31:43.398220Z"
    },
    "papermill": {
     "duration": 0.02005,
     "end_time": "2025-03-05T10:31:43.400996",
     "exception": false,
     "start_time": "2025-03-05T10:31:43.380946",
     "status": "completed"
    },
    "tags": []
   },
   "outputs": [
    {
     "data": {
      "text/plain": [
       "(array([ 5.,  3., 13., ...,  0.,  4.,  6.], dtype=float32),\n",
       " array([ 7.,  0.,  6.,  1.,  8.,  4.,  0.,  4.,  0.,  1.,  4.,  9.,  9.,\n",
       "        12.,  3., 13.,  5.,  5.,  2.,  9.,  0.,  0., 12.,  8.,  3.,  0.,\n",
       "         0.,  4.,  0.,  1.,  3.,  0.,  7.,  5.,  5.,  9., 10., 10.,  4.,\n",
       "         0.,  0.,  3.,  5., 10., 13., 12.,  7.,  2.,  0.,  0.,  0.,  0.,\n",
       "         0., 11.,  6.,  6., 12.,  0.,  4.,  0.,  0.,  3.,  4.,  6.,  9.,\n",
       "         0.,  6.,  8.,  5.,  0.,  6., 12.,  0.,  5.,  3., 13.,  1.,  0.,\n",
       "         9., 11.,  6.,  6.,  9.,  0.,  8.,  4.,  5.,  0., 13., 12.,  1.,\n",
       "         2.,  3.,  0.,  3.,  0.,  4.,  8.,  8.,  5.,  5.,  3., 12., 13.,\n",
       "        13.,  5.,  0.,  6.,  0., 11., 11.,  1.,  0.,  1.,  8.,  0.,  0.,\n",
       "         0., 13.,  0.,  2., 12.,  0., 11.,  6., 13.,  5., 10., 10.,  4.,\n",
       "         2., 13.,  9.,  2.,  2.,  4.,  0.,  1.,  9.,  3.,  0.,  7., 11.,\n",
       "         1.,  0.,  5.,  8.,  1.,  9., 10.,  5., 12.,  1.,  0.,  2.,  3.,\n",
       "        13.,  5.,  2.,  0.,  2.,  4.,  4.,  0., 11.,  0., 10., 13., 10.,\n",
       "         4.,  3., 10.,  9., 13.,  2.,  0.,  8.,  6.,  3.,  9.,  6.,  0.,\n",
       "         6.,  9., 11., 11.,  3., 13.,  8.,  0., 11., 13.,  1.,  8.,  7.,\n",
       "         2., 13., 13.,  0.,  3.,  1., 11.,  2.,  0.], dtype=float32))"
      ]
     },
     "execution_count": 34,
     "metadata": {},
     "output_type": "execute_result"
    }
   ],
   "source": [
    "y_train,y_test"
   ]
  },
  {
   "cell_type": "code",
   "execution_count": 35,
   "id": "9c81b4ef",
   "metadata": {
    "execution": {
     "iopub.execute_input": "2025-03-05T10:31:43.423939Z",
     "iopub.status.busy": "2025-03-05T10:31:43.423487Z",
     "iopub.status.idle": "2025-03-05T10:31:43.439909Z",
     "shell.execute_reply": "2025-03-05T10:31:43.438752Z"
    },
    "papermill": {
     "duration": 0.029843,
     "end_time": "2025-03-05T10:31:43.441773",
     "exception": false,
     "start_time": "2025-03-05T10:31:43.411930",
     "status": "completed"
    },
    "tags": []
   },
   "outputs": [],
   "source": [
    "# Assume X_train has the shape (num_samples, 4369, 1)\n",
    "num_samples, original_length, channels = X_train.shape\n",
    "\n",
    "# Calculate padding length so that the length becomes divisible by 5.\n",
    "pad_len = 1\n",
    "\n",
    "# Pad along the sequence axis (axis=1) with -np.inf so that the max operation is not affected.\n",
    "X_train_padded = np.pad(\n",
    "    X_train,\n",
    "    pad_width=((0, 0), (0, pad_len), (0, 0)),\n",
    "    mode='constant',\n",
    "    constant_values=-np.inf\n",
    ")\n",
    "\n",
    "# Now X_train_padded has the shape (num_samples, 4370, 1).\n"
   ]
  },
  {
   "cell_type": "code",
   "execution_count": 36,
   "id": "7e8a3e9e",
   "metadata": {
    "execution": {
     "iopub.execute_input": "2025-03-05T10:31:43.463121Z",
     "iopub.status.busy": "2025-03-05T10:31:43.462766Z",
     "iopub.status.idle": "2025-03-05T10:31:43.467736Z",
     "shell.execute_reply": "2025-03-05T10:31:43.466847Z"
    },
    "papermill": {
     "duration": 0.017148,
     "end_time": "2025-03-05T10:31:43.469044",
     "exception": false,
     "start_time": "2025-03-05T10:31:43.451896",
     "status": "completed"
    },
    "tags": []
   },
   "outputs": [
    {
     "data": {
      "text/plain": [
       "(1836, 4370, 1)"
      ]
     },
     "execution_count": 36,
     "metadata": {},
     "output_type": "execute_result"
    }
   ],
   "source": [
    "X_train_padded.shape"
   ]
  },
  {
   "cell_type": "code",
   "execution_count": 37,
   "id": "6ce960ff",
   "metadata": {
    "execution": {
     "iopub.execute_input": "2025-03-05T10:31:43.490459Z",
     "iopub.status.busy": "2025-03-05T10:31:43.490087Z",
     "iopub.status.idle": "2025-03-05T10:31:43.697784Z",
     "shell.execute_reply": "2025-03-05T10:31:43.696841Z"
    },
    "papermill": {
     "duration": 0.220149,
     "end_time": "2025-03-05T10:31:43.699268",
     "exception": false,
     "start_time": "2025-03-05T10:31:43.479119",
     "status": "completed"
    },
    "tags": []
   },
   "outputs": [
    {
     "name": "stdout",
     "output_type": "stream",
     "text": [
      "Shape after max-pooling and reshaping: (1836, 874)\n"
     ]
    }
   ],
   "source": [
    "\n",
    "# Reshape to group every 5 consecutive elements:\n",
    "# New shape will be (num_samples, 874, 5, 1)\n",
    "grouped_length = X_train_padded.shape[1] // 5  # Should be 874\n",
    "X_train_grouped = X_train_padded.reshape(num_samples, grouped_length, 5, channels)\n",
    "\n",
    "# Take the max over the 5 elements for each group (axis=2)\n",
    "# Resulting shape is (num_samples, 874, 1)\n",
    "X_train_max = np.max(X_train_grouped, axis=2)\n",
    "\n",
    "# Optionally, if your model expects inputs of shape (num_samples, 874),\n",
    "# reshape the array from (num_samples, 874, 1) to (num_samples, 874)\n",
    "X_train_final = X_train_max.reshape(num_samples, grouped_length)\n",
    "\n",
    "# Check the resulting shape\n",
    "print(\"Shape after max-pooling and reshaping:\", X_train_final.shape)\n"
   ]
  },
  {
   "cell_type": "code",
   "execution_count": 38,
   "id": "947949b1",
   "metadata": {
    "execution": {
     "iopub.execute_input": "2025-03-05T10:31:43.720908Z",
     "iopub.status.busy": "2025-03-05T10:31:43.720568Z",
     "iopub.status.idle": "2025-03-05T10:31:43.749575Z",
     "shell.execute_reply": "2025-03-05T10:31:43.748562Z"
    },
    "papermill": {
     "duration": 0.041526,
     "end_time": "2025-03-05T10:31:43.751028",
     "exception": false,
     "start_time": "2025-03-05T10:31:43.709502",
     "status": "completed"
    },
    "tags": []
   },
   "outputs": [
    {
     "name": "stdout",
     "output_type": "stream",
     "text": [
      "Shape after max-pooling and reshaping: (204, 874)\n"
     ]
    }
   ],
   "source": [
    "# Assume X_train has the shape (num_samples, 4369, 1)\n",
    "num_samples, original_length, channels = X_test.shape\n",
    "\n",
    "# Calculate padding length so that the length becomes divisible by 5.\n",
    "pad_len = 1\n",
    "\n",
    "# Pad along the sequence axis (axis=1) with -np.inf so that the max operation is not affected.\n",
    "X_test_padded = np.pad(\n",
    "    X_test,\n",
    "    pad_width=((0, 0), (0, pad_len), (0, 0)),\n",
    "    mode='constant',\n",
    "    constant_values=-np.inf\n",
    ")\n",
    "\n",
    "# Now X_train_padded has the shape (num_samples, 4370, 1).\n",
    "\n",
    "# Reshape to group every 5 consecutive elements:\n",
    "# New shape will be (num_samples, 874, 5, 1)\n",
    "grouped_length = X_test_padded.shape[1] // 5  # Should be 874\n",
    "X_test_grouped = X_test_padded.reshape(num_samples, grouped_length, 5, channels)\n",
    "\n",
    "# Take the max over the 5 elements for each group (axis=2)\n",
    "# Resulting shape is (num_samples, 874, 1)\n",
    "X_test_max = np.max(X_test_grouped, axis=2)\n",
    "\n",
    "# Optionally, if your model expects inputs of shape (num_samples, 874),\n",
    "# reshape the array from (num_samples, 874, 1) to (num_samples, 874)\n",
    "X_test_final = X_test_max.reshape(num_samples, grouped_length)\n",
    "\n",
    "# Check the resulting shape\n",
    "print(\"Shape after max-pooling and reshaping:\", X_test_final.shape)\n"
   ]
  },
  {
   "cell_type": "code",
   "execution_count": 39,
   "id": "815e3de5",
   "metadata": {
    "execution": {
     "iopub.execute_input": "2025-03-05T10:31:43.772516Z",
     "iopub.status.busy": "2025-03-05T10:31:43.772187Z",
     "iopub.status.idle": "2025-03-05T10:31:43.779186Z",
     "shell.execute_reply": "2025-03-05T10:31:43.778297Z"
    },
    "papermill": {
     "duration": 0.019307,
     "end_time": "2025-03-05T10:31:43.780691",
     "exception": false,
     "start_time": "2025-03-05T10:31:43.761384",
     "status": "completed"
    },
    "tags": []
   },
   "outputs": [
    {
     "name": "stdout",
     "output_type": "stream",
     "text": [
      "Before Normalizing training targets (first 5): [ 5.  3. 13.  1. 10.]\n",
      "Before Normalizing test targets (first 5): [7. 0. 6. 1. 8.]\n",
      "Normalized training targets (first 5): [0.3846154  0.23076923 1.         0.07692308 0.7692308 ]\n",
      "Normalized test targets (first 5): [0.53846157 0.         0.46153846 0.07692308 0.61538464]\n"
     ]
    }
   ],
   "source": [
    "import numpy as np\n",
    "\n",
    "# Compute the minimum and maximum values from the training targets.\n",
    "y_min = np.min(y_train)\n",
    "y_max = np.max(y_train)\n",
    "\n",
    "# Normalize the training and test targets.\n",
    "y_train_norm = (y_train - y_min) / (y_max - y_min)\n",
    "y_test_norm = (y_test - y_min) / (y_max - y_min)\n",
    "\n",
    "\n",
    "print(\"Before Normalizing training targets (first 5):\", y_train[:5])\n",
    "print(\"Before Normalizing test targets (first 5):\", y_test[:5])\n",
    "\n",
    "print(\"Normalized training targets (first 5):\", y_train_norm[:5])\n",
    "print(\"Normalized test targets (first 5):\", y_test_norm[:5])"
   ]
  },
  {
   "cell_type": "code",
   "execution_count": null,
   "id": "db69b9ba",
   "metadata": {
    "papermill": {
     "duration": 0.009589,
     "end_time": "2025-03-05T10:31:43.799932",
     "exception": false,
     "start_time": "2025-03-05T10:31:43.790343",
     "status": "completed"
    },
    "tags": []
   },
   "outputs": [],
   "source": []
  },
  {
   "cell_type": "code",
   "execution_count": 40,
   "id": "a39bc066",
   "metadata": {
    "execution": {
     "iopub.execute_input": "2025-03-05T10:31:43.821195Z",
     "iopub.status.busy": "2025-03-05T10:31:43.820909Z",
     "iopub.status.idle": "2025-03-05T10:31:43.826272Z",
     "shell.execute_reply": "2025-03-05T10:31:43.825370Z"
    },
    "papermill": {
     "duration": 0.017627,
     "end_time": "2025-03-05T10:31:43.827697",
     "exception": false,
     "start_time": "2025-03-05T10:31:43.810070",
     "status": "completed"
    },
    "tags": []
   },
   "outputs": [
    {
     "data": {
      "text/plain": [
       "'/kaggle'"
      ]
     },
     "execution_count": 40,
     "metadata": {},
     "output_type": "execute_result"
    }
   ],
   "source": [
    "%pwd"
   ]
  },
  {
   "cell_type": "code",
   "execution_count": 41,
   "id": "a30f594d",
   "metadata": {
    "execution": {
     "iopub.execute_input": "2025-03-05T10:31:43.849647Z",
     "iopub.status.busy": "2025-03-05T10:31:43.849303Z",
     "iopub.status.idle": "2025-03-05T10:31:43.853156Z",
     "shell.execute_reply": "2025-03-05T10:31:43.852324Z"
    },
    "papermill": {
     "duration": 0.016555,
     "end_time": "2025-03-05T10:31:43.854831",
     "exception": false,
     "start_time": "2025-03-05T10:31:43.838276",
     "status": "completed"
    },
    "tags": []
   },
   "outputs": [],
   "source": [
    "os.chdir(\"working\")"
   ]
  },
  {
   "cell_type": "code",
   "execution_count": 42,
   "id": "fd46ffbd",
   "metadata": {
    "execution": {
     "iopub.execute_input": "2025-03-05T10:31:43.876328Z",
     "iopub.status.busy": "2025-03-05T10:31:43.876050Z",
     "iopub.status.idle": "2025-03-05T10:31:43.879469Z",
     "shell.execute_reply": "2025-03-05T10:31:43.878763Z"
    },
    "papermill": {
     "duration": 0.015253,
     "end_time": "2025-03-05T10:31:43.880904",
     "exception": false,
     "start_time": "2025-03-05T10:31:43.865651",
     "status": "completed"
    },
    "tags": []
   },
   "outputs": [],
   "source": [
    "os.chdir(\"..\")\n",
    "os.chdir(\"input\")"
   ]
  },
  {
   "cell_type": "code",
   "execution_count": 43,
   "id": "468ad252",
   "metadata": {
    "execution": {
     "iopub.execute_input": "2025-03-05T10:31:43.901186Z",
     "iopub.status.busy": "2025-03-05T10:31:43.900931Z",
     "iopub.status.idle": "2025-03-05T10:31:43.904420Z",
     "shell.execute_reply": "2025-03-05T10:31:43.903753Z"
    },
    "papermill": {
     "duration": 0.014969,
     "end_time": "2025-03-05T10:31:43.905627",
     "exception": false,
     "start_time": "2025-03-05T10:31:43.890658",
     "status": "completed"
    },
    "tags": []
   },
   "outputs": [],
   "source": [
    "import tensorflow as tf\n",
    "from tensorflow import keras\n",
    "import numpy as np\n",
    "import matplotlib.pyplot as plt\n",
    "from sklearn.metrics import mean_squared_error, mean_absolute_error, r2_score\n"
   ]
  },
  {
   "cell_type": "code",
   "execution_count": 44,
   "id": "cc7cc769",
   "metadata": {
    "execution": {
     "iopub.execute_input": "2025-03-05T10:31:43.925137Z",
     "iopub.status.busy": "2025-03-05T10:31:43.924905Z",
     "iopub.status.idle": "2025-03-05T10:31:51.788374Z",
     "shell.execute_reply": "2025-03-05T10:31:51.787608Z"
    },
    "papermill": {
     "duration": 7.874518,
     "end_time": "2025-03-05T10:31:51.789567",
     "exception": false,
     "start_time": "2025-03-05T10:31:43.915049",
     "status": "completed"
    },
    "tags": []
   },
   "outputs": [
    {
     "name": "stdout",
     "output_type": "stream",
     "text": [
      "\u001b[1m7/7\u001b[0m \u001b[32m━━━━━━━━━━━━━━━━━━━━\u001b[0m\u001b[37m\u001b[0m \u001b[1m7s\u001b[0m 389ms/step - loss: 0.0264 - mae: 0.1063\n",
      "Test Loss (MSE): 0.01994803175330162\n",
      "Test MAE: 0.09635291248559952\n"
     ]
    }
   ],
   "source": [
    "# Evaluate the model using the built-in evaluation method.\n",
    "# This will return the loss (MSE in our case) and MAE (as we compiled with these metrics).\n",
    "loss, mae = model_reg.evaluate(X_test_final, y_test_norm, verbose=1)\n",
    "print(\"Test Loss (MSE):\", loss)\n",
    "print(\"Test MAE:\", mae)\n",
    "# CHANGE Y_TEST_NORM ACCORDINGLY, FOR THE CASE"
   ]
  },
  {
   "cell_type": "code",
   "execution_count": 45,
   "id": "28009b7d",
   "metadata": {
    "execution": {
     "iopub.execute_input": "2025-03-05T10:31:51.810820Z",
     "iopub.status.busy": "2025-03-05T10:31:51.810588Z",
     "iopub.status.idle": "2025-03-05T10:31:56.126918Z",
     "shell.execute_reply": "2025-03-05T10:31:56.126221Z"
    },
    "papermill": {
     "duration": 4.328197,
     "end_time": "2025-03-05T10:31:56.128210",
     "exception": false,
     "start_time": "2025-03-05T10:31:51.800013",
     "status": "completed"
    },
    "tags": []
   },
   "outputs": [
    {
     "name": "stdout",
     "output_type": "stream",
     "text": [
      "\u001b[1m7/7\u001b[0m \u001b[32m━━━━━━━━━━━━━━━━━━━━\u001b[0m\u001b[37m\u001b[0m \u001b[1m4s\u001b[0m 450ms/step\n"
     ]
    }
   ],
   "source": [
    "# Make predictions on the test data.\n",
    "y_pred = model_reg.predict(X_test_final)"
   ]
  },
  {
   "cell_type": "code",
   "execution_count": 46,
   "id": "aa8462f9",
   "metadata": {
    "execution": {
     "iopub.execute_input": "2025-03-05T10:31:56.150689Z",
     "iopub.status.busy": "2025-03-05T10:31:56.150450Z",
     "iopub.status.idle": "2025-03-05T10:31:56.155443Z",
     "shell.execute_reply": "2025-03-05T10:31:56.154736Z"
    },
    "papermill": {
     "duration": 0.01728,
     "end_time": "2025-03-05T10:31:56.156532",
     "exception": false,
     "start_time": "2025-03-05T10:31:56.139252",
     "status": "completed"
    },
    "tags": []
   },
   "outputs": [
    {
     "data": {
      "text/plain": [
       "(0.0005231178, 1.1097956)"
      ]
     },
     "execution_count": 46,
     "metadata": {},
     "output_type": "execute_result"
    }
   ],
   "source": [
    "y_pred.min(),y_pred.max()"
   ]
  },
  {
   "cell_type": "code",
   "execution_count": 47,
   "id": "f7ab689c",
   "metadata": {
    "execution": {
     "iopub.execute_input": "2025-03-05T10:31:56.178059Z",
     "iopub.status.busy": "2025-03-05T10:31:56.177837Z",
     "iopub.status.idle": "2025-03-05T10:31:56.180936Z",
     "shell.execute_reply": "2025-03-05T10:31:56.180360Z"
    },
    "papermill": {
     "duration": 0.015488,
     "end_time": "2025-03-05T10:31:56.182201",
     "exception": false,
     "start_time": "2025-03-05T10:31:56.166713",
     "status": "completed"
    },
    "tags": []
   },
   "outputs": [],
   "source": [
    "# Rescale predictions back to the original scale\n",
    "y_pred_original = y_pred * (y_max - y_min) + y_min\n",
    "\n",
    "# Rescale test targets back to the original scale for comparison\n",
    "y_test_original = y_test_norm * (y_max - y_min) + y_min"
   ]
  },
  {
   "cell_type": "code",
   "execution_count": 48,
   "id": "910163b2",
   "metadata": {
    "execution": {
     "iopub.execute_input": "2025-03-05T10:31:56.203500Z",
     "iopub.status.busy": "2025-03-05T10:31:56.203254Z",
     "iopub.status.idle": "2025-03-05T10:31:56.207630Z",
     "shell.execute_reply": "2025-03-05T10:31:56.206939Z"
    },
    "papermill": {
     "duration": 0.016377,
     "end_time": "2025-03-05T10:31:56.208869",
     "exception": false,
     "start_time": "2025-03-05T10:31:56.192492",
     "status": "completed"
    },
    "tags": []
   },
   "outputs": [],
   "source": [
    "# Compute additional regression metrics.\n",
    "mse = mean_squared_error(y_test_original, y_pred_original)\n",
    "rmse = np.sqrt(mse)\n",
    "mae_val = mean_absolute_error(y_test_original, y_pred_original)\n",
    "r2 = r2_score(y_test_original, y_pred_original)\n"
   ]
  },
  {
   "cell_type": "code",
   "execution_count": 49,
   "id": "098af1e8",
   "metadata": {
    "execution": {
     "iopub.execute_input": "2025-03-05T10:31:56.230832Z",
     "iopub.status.busy": "2025-03-05T10:31:56.230633Z",
     "iopub.status.idle": "2025-03-05T10:31:56.638077Z",
     "shell.execute_reply": "2025-03-05T10:31:56.637133Z"
    },
    "papermill": {
     "duration": 0.420106,
     "end_time": "2025-03-05T10:31:56.639624",
     "exception": false,
     "start_time": "2025-03-05T10:31:56.219518",
     "status": "completed"
    },
    "tags": []
   },
   "outputs": [
    {
     "name": "stdout",
     "output_type": "stream",
     "text": [
      "\n",
      "Additional Regression Metrics:\n",
      "Mean Squared Error (MSE): 4.9435687\n",
      "Root Mean Squared Error (RMSE): 2.2234137\n",
      "Mean Absolute Error (MAE): 1.4335445\n",
      "R^2 Score: 0.7473826514595283\n"
     ]
    },
    {
     "data": {
      "image/png": "[encoded data removed]",
      "text/plain": [
       "<Figure size 800x600 with 1 Axes>"
      ]
     },
     "metadata": {},
     "output_type": "display_data"
    }
   ],
   "source": [
    "\n",
    "keras.config.enable_unsafe_deserialization()\n",
    "\n",
    "\n",
    "print(\"\\nAdditional Regression Metrics:\")\n",
    "print(\"Mean Squared Error (MSE):\", mse)\n",
    "print(\"Root Mean Squared Error (RMSE):\", rmse)\n",
    "print(\"Mean Absolute Error (MAE):\", mae_val)\n",
    "print(\"R^2 Score:\", r2)\n",
    "\n",
    "# Create a scatter plot to compare true vs. predicted values.\n",
    "plt.figure(figsize=(8, 6))\n",
    "plt.scatter(y_test_original, y_pred_original, alpha=0.5, label=\"Predictions\")\n",
    "plt.plot([0, 13], [0, 13], color='red', linestyle='--', label=\"Ideal\")\n",
    "plt.xlabel(\"True Damage\")\n",
    "plt.ylabel(\"Predicted Damage\")\n",
    "plt.title(\"True vs. Predicted Damage\")\n",
    "plt.xlim(0, 13)\n",
    "plt.ylim(0, 13)\n",
    "plt.legend()\n",
    "plt.show()\n"
   ]
  },
  {
   "cell_type": "code",
   "execution_count": 50,
   "id": "e0f007ba",
   "metadata": {
    "execution": {
     "iopub.execute_input": "2025-03-05T10:31:56.664359Z",
     "iopub.status.busy": "2025-03-05T10:31:56.664095Z",
     "iopub.status.idle": "2025-03-05T10:31:56.672965Z",
     "shell.execute_reply": "2025-03-05T10:31:56.671938Z"
    },
    "papermill": {
     "duration": 0.022781,
     "end_time": "2025-03-05T10:31:56.674377",
     "exception": false,
     "start_time": "2025-03-05T10:31:56.651596",
     "status": "completed"
    },
    "tags": []
   },
   "outputs": [
    {
     "name": "stdout",
     "output_type": "stream",
     "text": [
      "Explained Variance Score: 0.7543651461601257\n",
      "Median Absolute Error: 0.90228796\n",
      "R² Score: 0.7473826514595283\n"
     ]
    }
   ],
   "source": [
    "from sklearn.metrics import explained_variance_score, median_absolute_error, mean_absolute_percentage_error\n",
    "import numpy as np\n",
    "\n",
    "# Assuming y_test contains the true values and y_pred contains your model's predictions\n",
    "\n",
    "# Explained Variance Score\n",
    "explained_variance = explained_variance_score(y_test_original, y_pred_original)\n",
    "print(\"Explained Variance Score:\", explained_variance)\n",
    "\n",
    "# Median Absolute Error\n",
    "median_ae = median_absolute_error(y_test_original, y_pred_original)\n",
    "print(\"Median Absolute Error:\", median_ae)\n",
    "\n",
    "# You can also compute the R-squared if needed (already available via r2_score)\n",
    "from sklearn.metrics import r2_score\n",
    "r2 = r2_score(y_test_original, y_pred_original)\n",
    "print(\"R² Score:\", r2)\n"
   ]
  },
  {
   "cell_type": "code",
   "execution_count": null,
   "id": "d705bfa4",
   "metadata": {
    "papermill": {
     "duration": 0.011108,
     "end_time": "2025-03-05T10:31:56.697043",
     "exception": false,
     "start_time": "2025-03-05T10:31:56.685935",
     "status": "completed"
    },
    "tags": []
   },
   "outputs": [],
   "source": []
  }
 ],
 "metadata": {
  "kaggle": {
   "accelerator": "nvidiaTeslaT4",
   "dataSources": [
    {
     "datasetId": 6637708,
     "sourceId": 10709822,
     "sourceType": "datasetVersion"
    },
    {
     "isSourceIdPinned": false,
     "modelId": 242327,
     "modelInstanceId": 220548,
     "sourceId": 258062,
     "sourceType": "modelInstanceVersion"
    },
    {
     "isSourceIdPinned": false,
     "modelId": 242542,
     "modelInstanceId": 220767,
     "sourceId": 258296,
     "sourceType": "modelInstanceVersion"
    },
    {
     "isSourceIdPinned": true,
     "modelId": 243092,
     "modelInstanceId": 221313,
     "sourceId": 258919,
     "sourceType": "modelInstanceVersion"
    },
    {
     "isSourceIdPinned": true,
     "modelId": 243537,
     "modelInstanceId": 221769,
     "sourceId": 259427,
     "sourceType": "modelInstanceVersion"
    },
    {
     "isSourceIdPinned": true,
     "modelId": 250722,
     "modelInstanceId": 228974,
     "sourceId": 267563,
     "sourceType": "modelInstanceVersion"
    },
    {
     "isSourceIdPinned": true,
     "modelId": 250854,
     "modelInstanceId": 229109,
     "sourceId": 267719,
     "sourceType": "modelInstanceVersion"
    },
    {
     "isSourceIdPinned": true,
     "modelId": 257614,
     "modelInstanceId": 235927,
     "sourceId": 275529,
     "sourceType": "modelInstanceVersion"
    },
    {
     "isSourceIdPinned": true,
     "modelId": 257967,
     "modelInstanceId": 236285,
     "sourceId": 275914,
     "sourceType": "modelInstanceVersion"
    }
   ],
   "dockerImageVersionId": 30887,
   "isGpuEnabled": true,
   "isInternetEnabled": true,
   "language": "python",
   "sourceType": "notebook"
  },
  "kernelspec": {
   "display_name": "Python 3",
   "language": "python",
   "name": "python3"
  },
  "language_info": {
   "codemirror_mode": {
    "name": "ipython",
    "version": 3
   },
   "file_extension": ".py",
   "mimetype": "text/x-python",
   "name": "python",
   "nbconvert_exporter": "python",
   "pygments_lexer": "ipython3",
   "version": "3.10.12"
  },
  "papermill": {
   "default_parameters": {},
   "duration": 51.489443,
   "end_time": "2025-03-05T10:31:59.973221",
   "environment_variables": {},
   "exception": null,
   "input_path": "__notebook__.ipynb",
   "output_path": "__notebook__.ipynb",
   "parameters": {},
   "start_time": "2025-03-05T10:31:08.483778",
   "version": "2.6.0"
  }
 },
 "nbformat": 4,
 "nbformat_minor": 5
}
