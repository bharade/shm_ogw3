{
 "cells": [
  {
   "cell_type": "code",
   "execution_count": 1,
   "id": "720494b2",
   "metadata": {
    "_cell_guid": "b1076dfc-b9ad-4769-8c92-a6c4dae69d19",
    "_uuid": "8f2839f25d086af736a60e9eeb907d3b93b6e0e5",
    "execution": {
     "iopub.execute_input": "2025-03-05T04:05:19.434818Z",
     "iopub.status.busy": "2025-03-05T04:05:19.434355Z",
     "iopub.status.idle": "2025-03-05T04:05:20.765955Z",
     "shell.execute_reply": "2025-03-05T04:05:20.764790Z"
    },
    "papermill": {
     "duration": 1.345154,
     "end_time": "2025-03-05T04:05:20.767575",
     "exception": false,
     "start_time": "2025-03-05T04:05:19.422421",
     "status": "completed"
    },
    "tags": []
   },
   "outputs": [
    {
     "name": "stdout",
     "output_type": "stream",
     "text": [
      "/kaggle/input/regressionv1/keras/default/1/model_checkpoint_regression.keras\n",
      "/kaggle/input/damage-only-norm-300/keras/default/1/model_checkpoint (1).keras\n",
      "/kaggle/input/ogw3-augmented/X_damage_augmented.npy\n",
      "/kaggle/input/ogw3-augmented/X_freq_augmented.npy\n",
      "/kaggle/input/ogw3-augmented/X_signals_augmented.npy\n",
      "/kaggle/input/500epoh_regression/keras/default/1/model_regression_500.keras\n",
      "/kaggle/input/damage-only-300/keras/default/1/model_checkpoint.keras\n",
      "/kaggle/input/regression_norm_800/keras/default/1/model_checkpoint (2).keras\n",
      "/kaggle/input/regression_norm/keras/default/1/model_regression_norm.keras\n",
      "/kaggle/input/regression_norm_500/keras/default/1/model_regression_norm_500.keras\n"
     ]
    }
   ],
   "source": [
    "# This Python 3 environment comes with many helpful analytics libraries installed\n",
    "# It is defined by the kaggle/python Docker image: https://github.com/kaggle/docker-python\n",
    "# For example, here's several helpful packages to load\n",
    "\n",
    "import numpy as np # linear algebra\n",
    "import pandas as pd # data processing, CSV file I/O (e.g. pd.read_csv)\n",
    "\n",
    "# Input data files are available in the read-only \"../input/\" directory\n",
    "# For example, running this (by clicking run or pressing Shift+Enter) will list all files under the input directory\n",
    "\n",
    "import os\n",
    "for dirname, _, filenames in os.walk('/kaggle/input'):\n",
    "    for filename in filenames:\n",
    "        print(os.path.join(dirname, filename))\n",
    "\n",
    "# You can write up to 20GB to the current directory (/kaggle/working/) that gets preserved as output when you create a version using \"Save & Run All\" \n",
    "# You can also write temporary files to /kaggle/temp/, but they won't be saved outside of the current session"
   ]
  },
  {
   "cell_type": "markdown",
   "id": "fcd48b06",
   "metadata": {
    "papermill": {
     "duration": 0.010151,
     "end_time": "2025-03-05T04:05:20.787818",
     "exception": false,
     "start_time": "2025-03-05T04:05:20.777667",
     "status": "completed"
    },
    "tags": []
   },
   "source": [
    "# 1.5) loading augmented data"
   ]
  },
  {
   "cell_type": "code",
   "execution_count": 2,
   "id": "9b733d76",
   "metadata": {
    "execution": {
     "iopub.execute_input": "2025-03-05T04:05:20.807784Z",
     "iopub.status.busy": "2025-03-05T04:05:20.807322Z",
     "iopub.status.idle": "2025-03-05T04:05:20.811244Z",
     "shell.execute_reply": "2025-03-05T04:05:20.810302Z"
    },
    "papermill": {
     "duration": 0.01557,
     "end_time": "2025-03-05T04:05:20.812760",
     "exception": false,
     "start_time": "2025-03-05T04:05:20.797190",
     "status": "completed"
    },
    "tags": []
   },
   "outputs": [],
   "source": [
    "import os\n",
    "import matplotlib.pyplot as plt"
   ]
  },
  {
   "cell_type": "code",
   "execution_count": 3,
   "id": "057d56ed",
   "metadata": {
    "execution": {
     "iopub.execute_input": "2025-03-05T04:05:20.832613Z",
     "iopub.status.busy": "2025-03-05T04:05:20.832312Z",
     "iopub.status.idle": "2025-03-05T04:05:20.838093Z",
     "shell.execute_reply": "2025-03-05T04:05:20.837355Z"
    },
    "papermill": {
     "duration": 0.017477,
     "end_time": "2025-03-05T04:05:20.839506",
     "exception": false,
     "start_time": "2025-03-05T04:05:20.822029",
     "status": "completed"
    },
    "tags": []
   },
   "outputs": [
    {
     "data": {
      "text/plain": [
       "'/kaggle/working'"
      ]
     },
     "execution_count": 3,
     "metadata": {},
     "output_type": "execute_result"
    }
   ],
   "source": [
    "%pwd\n"
   ]
  },
  {
   "cell_type": "code",
   "execution_count": 4,
   "id": "91ace596",
   "metadata": {
    "execution": {
     "iopub.execute_input": "2025-03-05T04:05:20.860962Z",
     "iopub.status.busy": "2025-03-05T04:05:20.860649Z",
     "iopub.status.idle": "2025-03-05T04:05:20.864765Z",
     "shell.execute_reply": "2025-03-05T04:05:20.863707Z"
    },
    "papermill": {
     "duration": 0.016785,
     "end_time": "2025-03-05T04:05:20.866305",
     "exception": false,
     "start_time": "2025-03-05T04:05:20.849520",
     "status": "completed"
    },
    "tags": []
   },
   "outputs": [],
   "source": [
    "os.chdir(\"..\")\n",
    "os.chdir(\"input\")"
   ]
  },
  {
   "cell_type": "code",
   "execution_count": 5,
   "id": "08ae0dd4",
   "metadata": {
    "execution": {
     "iopub.execute_input": "2025-03-05T04:05:20.886362Z",
     "iopub.status.busy": "2025-03-05T04:05:20.886019Z",
     "iopub.status.idle": "2025-03-05T04:05:21.531885Z",
     "shell.execute_reply": "2025-03-05T04:05:21.530591Z"
    },
    "papermill": {
     "duration": 0.657988,
     "end_time": "2025-03-05T04:05:21.533893",
     "exception": false,
     "start_time": "2025-03-05T04:05:20.875905",
     "status": "completed"
    },
    "tags": []
   },
   "outputs": [],
   "source": [
    "X_signals_augmented = np.load('ogw3-augmented/X_signals_augmented.npy')\n",
    "X_damage_augmented = np.load('ogw3-augmented/X_damage_augmented.npy')\n",
    "X_freq_augmented = np.load('ogw3-augmented/X_freq_augmented.npy')\n"
   ]
  },
  {
   "cell_type": "code",
   "execution_count": 6,
   "id": "4baefde4",
   "metadata": {
    "execution": {
     "iopub.execute_input": "2025-03-05T04:05:21.554296Z",
     "iopub.status.busy": "2025-03-05T04:05:21.553978Z",
     "iopub.status.idle": "2025-03-05T04:05:21.559235Z",
     "shell.execute_reply": "2025-03-05T04:05:21.558334Z"
    },
    "papermill": {
     "duration": 0.016872,
     "end_time": "2025-03-05T04:05:21.560685",
     "exception": false,
     "start_time": "2025-03-05T04:05:21.543813",
     "status": "completed"
    },
    "tags": []
   },
   "outputs": [
    {
     "name": "stdout",
     "output_type": "stream",
     "text": [
      "X_signals shape:(2040, 4369, 1)\n",
      "X_signals shape:(2040, 14)\n",
      "X_signals shape:(2040, 12)\n"
     ]
    }
   ],
   "source": [
    "print(f\"X_signals shape:{X_signals_augmented.shape}\")\n",
    "print(f\"X_signals shape:{X_damage_augmented.shape}\")\n",
    "print(f\"X_signals shape:{X_freq_augmented.shape}\")"
   ]
  },
  {
   "cell_type": "code",
   "execution_count": 7,
   "id": "fda8c9b2",
   "metadata": {
    "execution": {
     "iopub.execute_input": "2025-03-05T04:05:21.580929Z",
     "iopub.status.busy": "2025-03-05T04:05:21.580616Z",
     "iopub.status.idle": "2025-03-05T04:05:21.703596Z",
     "shell.execute_reply": "2025-03-05T04:05:21.702208Z"
    },
    "papermill": {
     "duration": 0.135003,
     "end_time": "2025-03-05T04:05:21.705556",
     "exception": false,
     "start_time": "2025-03-05T04:05:21.570553",
     "status": "completed"
    },
    "tags": []
   },
   "outputs": [
    {
     "name": "stdout",
     "output_type": "stream",
     "text": [
      "Summary for X_signals_augmented:\n",
      "Mean: [[-0.00808563]\n",
      " [-0.03676917]\n",
      " [ 0.00793156]\n",
      " ...\n",
      " [ 0.43494834]\n",
      " [ 0.47826858]\n",
      " [ 0.47794448]]\n",
      "Variance: [[0.04756828]\n",
      " [0.05728288]\n",
      " [0.05182533]\n",
      " ...\n",
      " [0.11266843]\n",
      " [0.11778735]\n",
      " [0.1192308 ]]\n",
      "Min: [[-1.]\n",
      " [-1.]\n",
      " [-1.]\n",
      " ...\n",
      " [-1.]\n",
      " [-1.]\n",
      " [-1.]]\n",
      "Max: [[1.]\n",
      " [1.]\n",
      " [1.]\n",
      " ...\n",
      " [1.]\n",
      " [1.]\n",
      " [1.]]\n",
      "--------------------------------------------------\n",
      "Summary for X_freq_augmented:\n",
      "Mean: [0.08333333 0.08333333 0.08333333 0.08333333 0.08333333 0.08333333\n",
      " 0.08333333 0.08333333 0.08333333 0.08333333 0.08333333 0.08333333]\n",
      "Variance: [0.07638889 0.07638889 0.07638889 0.07638889 0.07638889 0.07638889\n",
      " 0.07638889 0.07638889 0.07638889 0.07638889 0.07638889 0.07638889]\n",
      "Min: [0. 0. 0. 0. 0. 0. 0. 0. 0. 0. 0. 0.]\n",
      "Max: [1. 1. 1. 1. 1. 1. 1. 1. 1. 1. 1. 1.]\n",
      "--------------------------------------------------\n"
     ]
    }
   ],
   "source": [
    "import numpy as np\n",
    "\n",
    "def summarize_data(X, name):\n",
    "    print(f\"Summary for {name}:\")\n",
    "    print(\"Mean:\", np.mean(X, axis=0))\n",
    "    print(\"Variance:\", np.var(X, axis=0))\n",
    "    print(\"Min:\", np.min(X, axis=0))\n",
    "    print(\"Max:\", np.max(X, axis=0))\n",
    "    print(\"-\" * 50)\n",
    "\n",
    "summarize_data(X_signals_augmented, \"X_signals_augmented\")\n",
    "summarize_data(X_freq_augmented, \"X_freq_augmented\")\n"
   ]
  },
  {
   "cell_type": "code",
   "execution_count": 8,
   "id": "a1ee33a7",
   "metadata": {
    "execution": {
     "iopub.execute_input": "2025-03-05T04:05:21.728028Z",
     "iopub.status.busy": "2025-03-05T04:05:21.727687Z",
     "iopub.status.idle": "2025-03-05T04:05:21.751494Z",
     "shell.execute_reply": "2025-03-05T04:05:21.750317Z"
    },
    "papermill": {
     "duration": 0.035961,
     "end_time": "2025-03-05T04:05:21.753025",
     "exception": false,
     "start_time": "2025-03-05T04:05:21.717064",
     "status": "completed"
    },
    "tags": []
   },
   "outputs": [
    {
     "name": "stdout",
     "output_type": "stream",
     "text": [
      "Damage Condition Counts:\n",
      " 0.0    26520\n",
      "1.0     2040\n",
      "Name: count, dtype: int64\n"
     ]
    }
   ],
   "source": [
    "import pandas as pd\n",
    "\n",
    "damage_counts = pd.Series(X_damage_augmented.flatten()).value_counts()\n",
    "print(\"Damage Condition Counts:\\n\", damage_counts)\n"
   ]
  },
  {
   "cell_type": "markdown",
   "id": "28ee6eca",
   "metadata": {
    "papermill": {
     "duration": 0.009132,
     "end_time": "2025-03-05T04:05:21.771790",
     "exception": false,
     "start_time": "2025-03-05T04:05:21.762658",
     "status": "completed"
    },
    "tags": []
   },
   "source": [
    "# 2. Execution and model Training\n",
    "This is where the actual execution starts"
   ]
  },
  {
   "cell_type": "code",
   "execution_count": 9,
   "id": "f8b40976",
   "metadata": {
    "execution": {
     "iopub.execute_input": "2025-03-05T04:05:21.792073Z",
     "iopub.status.busy": "2025-03-05T04:05:21.791685Z",
     "iopub.status.idle": "2025-03-05T04:05:21.796079Z",
     "shell.execute_reply": "2025-03-05T04:05:21.795109Z"
    },
    "papermill": {
     "duration": 0.016235,
     "end_time": "2025-03-05T04:05:21.797527",
     "exception": false,
     "start_time": "2025-03-05T04:05:21.781292",
     "status": "completed"
    },
    "tags": []
   },
   "outputs": [],
   "source": [
    "import numpy as np\n",
    "import pandas as pd\n",
    "import pickle\n",
    "import matplotlib.pyplot as plt\n",
    "import os"
   ]
  },
  {
   "cell_type": "code",
   "execution_count": 10,
   "id": "01f40144",
   "metadata": {
    "execution": {
     "iopub.execute_input": "2025-03-05T04:05:21.817385Z",
     "iopub.status.busy": "2025-03-05T04:05:21.817052Z",
     "iopub.status.idle": "2025-03-05T04:05:21.821054Z",
     "shell.execute_reply": "2025-03-05T04:05:21.820141Z"
    },
    "papermill": {
     "duration": 0.015579,
     "end_time": "2025-03-05T04:05:21.822582",
     "exception": false,
     "start_time": "2025-03-05T04:05:21.807003",
     "status": "completed"
    },
    "tags": []
   },
   "outputs": [],
   "source": [
    "os.chdir(\"..\")\n",
    "os.chdir(\"working\")"
   ]
  },
  {
   "cell_type": "code",
   "execution_count": 11,
   "id": "9cfa1212",
   "metadata": {
    "execution": {
     "iopub.execute_input": "2025-03-05T04:05:21.842607Z",
     "iopub.status.busy": "2025-03-05T04:05:21.842324Z",
     "iopub.status.idle": "2025-03-05T04:05:21.847813Z",
     "shell.execute_reply": "2025-03-05T04:05:21.846830Z"
    },
    "papermill": {
     "duration": 0.017056,
     "end_time": "2025-03-05T04:05:21.849173",
     "exception": false,
     "start_time": "2025-03-05T04:05:21.832117",
     "status": "completed"
    },
    "tags": []
   },
   "outputs": [
    {
     "data": {
      "text/plain": [
       "'/kaggle'"
      ]
     },
     "execution_count": 11,
     "metadata": {},
     "output_type": "execute_result"
    }
   ],
   "source": [
    "os.chdir(\"..\")\n",
    "%pwd"
   ]
  },
  {
   "cell_type": "code",
   "execution_count": 12,
   "id": "a6fae955",
   "metadata": {
    "execution": {
     "iopub.execute_input": "2025-03-05T04:05:21.870374Z",
     "iopub.status.busy": "2025-03-05T04:05:21.870018Z",
     "iopub.status.idle": "2025-03-05T04:05:23.979603Z",
     "shell.execute_reply": "2025-03-05T04:05:23.978769Z"
    },
    "papermill": {
     "duration": 2.121746,
     "end_time": "2025-03-05T04:05:23.981321",
     "exception": false,
     "start_time": "2025-03-05T04:05:21.859575",
     "status": "completed"
    },
    "tags": []
   },
   "outputs": [],
   "source": [
    "import numpy as np\n",
    "from sklearn.model_selection import train_test_split\n",
    "\n",
    "# ----------------------------------------------------------------------\n",
    "# Step 1: Convert one-hot encoded damage labels to scalar values.\n",
    "# ----------------------------------------------------------------------\n",
    "# Each sample in X_damage_augmented is a one-hot vector. We convert it to the\n",
    "# corresponding class index (i.e., 0 for undamaged, 1-13 for damage levels).\n",
    "y_augmented = np.argmax(X_damage_augmented, axis=1).astype(np.float32)\n",
    "# y_augmented now has shape (num_samples,)"
   ]
  },
  {
   "cell_type": "code",
   "execution_count": 13,
   "id": "2f2d76ee",
   "metadata": {
    "execution": {
     "iopub.execute_input": "2025-03-05T04:05:24.002812Z",
     "iopub.status.busy": "2025-03-05T04:05:24.002087Z",
     "iopub.status.idle": "2025-03-05T04:05:24.008177Z",
     "shell.execute_reply": "2025-03-05T04:05:24.007211Z"
    },
    "papermill": {
     "duration": 0.018162,
     "end_time": "2025-03-05T04:05:24.009634",
     "exception": false,
     "start_time": "2025-03-05T04:05:23.991472",
     "status": "completed"
    },
    "tags": []
   },
   "outputs": [
    {
     "data": {
      "text/plain": [
       "0.0"
      ]
     },
     "execution_count": 13,
     "metadata": {},
     "output_type": "execute_result"
    }
   ],
   "source": [
    "y_augmented.min()"
   ]
  },
  {
   "cell_type": "code",
   "execution_count": 14,
   "id": "a7f22912",
   "metadata": {
    "execution": {
     "iopub.execute_input": "2025-03-05T04:05:24.030304Z",
     "iopub.status.busy": "2025-03-05T04:05:24.029929Z",
     "iopub.status.idle": "2025-03-05T04:05:24.033614Z",
     "shell.execute_reply": "2025-03-05T04:05:24.032751Z"
    },
    "papermill": {
     "duration": 0.015541,
     "end_time": "2025-03-05T04:05:24.035095",
     "exception": false,
     "start_time": "2025-03-05T04:05:24.019554",
     "status": "completed"
    },
    "tags": []
   },
   "outputs": [],
   "source": [
    "# ----------------------------------------------------------------------\n",
    "# Step 2: Define the features.\n",
    "# ----------------------------------------------------------------------\n",
    "# For this regression task, we use the guided wave signals as the features.\n",
    "# (If you wish to include frequency information as additional features, you might\n",
    "# concatenate or process X_freq_augmented separately; here we assume only the signal is used.)\n",
    "X_augmented = X_signals_augmented  # shape: (num_samples, 4369, 1)"
   ]
  },
  {
   "cell_type": "code",
   "execution_count": 15,
   "id": "7038fcc9",
   "metadata": {
    "execution": {
     "iopub.execute_input": "2025-03-05T04:05:24.056152Z",
     "iopub.status.busy": "2025-03-05T04:05:24.055844Z",
     "iopub.status.idle": "2025-03-05T04:05:24.088553Z",
     "shell.execute_reply": "2025-03-05T04:05:24.087609Z"
    },
    "papermill": {
     "duration": 0.045252,
     "end_time": "2025-03-05T04:05:24.090498",
     "exception": false,
     "start_time": "2025-03-05T04:05:24.045246",
     "status": "completed"
    },
    "tags": []
   },
   "outputs": [],
   "source": [
    "# ----------------------------------------------------------------------\n",
    "# Step 3: Split the data into training and test sets.\n",
    "# ----------------------------------------------------------------------\n",
    "# Here we use 80% of the data for training and 20% for testing.\n",
    "X_train, X_test, y_train, y_test = train_test_split(\n",
    "    X_augmented, y_augmented, test_size=0.1, random_state=42\n",
    ")\n"
   ]
  },
  {
   "cell_type": "code",
   "execution_count": 16,
   "id": "65b566e3",
   "metadata": {
    "execution": {
     "iopub.execute_input": "2025-03-05T04:05:24.111784Z",
     "iopub.status.busy": "2025-03-05T04:05:24.111459Z",
     "iopub.status.idle": "2025-03-05T04:05:24.117322Z",
     "shell.execute_reply": "2025-03-05T04:05:24.116314Z"
    },
    "papermill": {
     "duration": 0.018238,
     "end_time": "2025-03-05T04:05:24.118936",
     "exception": false,
     "start_time": "2025-03-05T04:05:24.100698",
     "status": "completed"
    },
    "tags": []
   },
   "outputs": [
    {
     "name": "stdout",
     "output_type": "stream",
     "text": [
      "Training data shape: (1836, 4369, 1)\n",
      "Training labels shape: (1836,)\n",
      "Test data shape: (204, 4369, 1)\n",
      "Test labels shape: (204,)\n"
     ]
    }
   ],
   "source": [
    "\n",
    "\n",
    "\n",
    "# ----------------------------------------------------------------------\n",
    "# Step 4: Verify the shapes of the datasets.\n",
    "# ----------------------------------------------------------------------\n",
    "print(f\"Training data shape: {X_train.shape}\")  # Expected: (num_train_samples, 4369, 1)\n",
    "print(f\"Training labels shape: {y_train.shape}\")  # Expected: (num_train_samples,)\n",
    "print(f\"Test data shape: {X_test.shape}\")         # Expected: (num_test_samples, 4369, 1)\n",
    "print(f\"Test labels shape: {y_test.shape}\")         # Expected: (num_test_samples,)\n"
   ]
  },
  {
   "cell_type": "code",
   "execution_count": 17,
   "id": "cf3691b5",
   "metadata": {
    "execution": {
     "iopub.execute_input": "2025-03-05T04:05:24.140055Z",
     "iopub.status.busy": "2025-03-05T04:05:24.139746Z",
     "iopub.status.idle": "2025-03-05T04:05:24.143716Z",
     "shell.execute_reply": "2025-03-05T04:05:24.142668Z"
    },
    "papermill": {
     "duration": 0.016465,
     "end_time": "2025-03-05T04:05:24.145346",
     "exception": false,
     "start_time": "2025-03-05T04:05:24.128881",
     "status": "completed"
    },
    "tags": []
   },
   "outputs": [],
   "source": [
    "# # Identify indices where labels are not zero\n",
    "# non_zero_indices = y_train != 0\n",
    "\n",
    "# # Filter training data and labels\n",
    "# X_train = X_train[non_zero_indices]\n",
    "# y_train = y_train[non_zero_indices]\n",
    "\n",
    "# # Identify indices where test labels are not zero\n",
    "# non_zero_indices_test = y_test != 0\n",
    "\n",
    "# # Filter test data and labels\n",
    "# X_test = X_test[non_zero_indices_test]\n",
    "# y_test = y_test[non_zero_indices_test]\n",
    "\n",
    "# # Verify the new shapes\n",
    "# print(f\"Filtered Training data shape: {X_train.shape}\")\n",
    "# print(f\"Filtered Training labels shape: {y_train.shape}\")\n",
    "# print(f\"Filtered Test data shape: {X_test.shape}\")\n",
    "# print(f\"Filtered Test labels shape: {y_test.shape}\")"
   ]
  },
  {
   "cell_type": "code",
   "execution_count": 18,
   "id": "2416cac1",
   "metadata": {
    "execution": {
     "iopub.execute_input": "2025-03-05T04:05:24.167763Z",
     "iopub.status.busy": "2025-03-05T04:05:24.167471Z",
     "iopub.status.idle": "2025-03-05T04:05:24.172407Z",
     "shell.execute_reply": "2025-03-05T04:05:24.171464Z"
    },
    "papermill": {
     "duration": 0.017142,
     "end_time": "2025-03-05T04:05:24.173966",
     "exception": false,
     "start_time": "2025-03-05T04:05:24.156824",
     "status": "completed"
    },
    "tags": []
   },
   "outputs": [],
   "source": [
    "def print_label_distribution(y, set_name):\n",
    "    \"\"\"Print the distribution of labels in a dataset.\"\"\"\n",
    "    print(f\"\\n{set_name} label distribution:\")\n",
    "    print(f\"- Baseline samples (0): {np.sum(y == 0)}\")\n",
    "    for damage_size in range(1, 14):\n",
    "        print(f\"- Damage size {damage_size}: {np.sum(y == damage_size)}\")"
   ]
  },
  {
   "cell_type": "code",
   "execution_count": 19,
   "id": "613891b9",
   "metadata": {
    "execution": {
     "iopub.execute_input": "2025-03-05T04:05:24.195151Z",
     "iopub.status.busy": "2025-03-05T04:05:24.194827Z",
     "iopub.status.idle": "2025-03-05T04:05:24.204400Z",
     "shell.execute_reply": "2025-03-05T04:05:24.203454Z"
    },
    "papermill": {
     "duration": 0.021766,
     "end_time": "2025-03-05T04:05:24.205742",
     "exception": false,
     "start_time": "2025-03-05T04:05:24.183976",
     "status": "completed"
    },
    "tags": []
   },
   "outputs": [
    {
     "name": "stdout",
     "output_type": "stream",
     "text": [
      "\n",
      "Training set label distribution:\n",
      "- Baseline samples (0): 433\n",
      "- Damage size 1: 107\n",
      "- Damage size 2: 107\n",
      "- Damage size 3: 105\n",
      "- Damage size 4: 106\n",
      "- Damage size 5: 105\n",
      "- Damage size 6: 107\n",
      "- Damage size 7: 115\n",
      "- Damage size 8: 109\n",
      "- Damage size 9: 107\n",
      "- Damage size 10: 111\n",
      "- Damage size 11: 109\n",
      "- Damage size 12: 111\n",
      "- Damage size 13: 104\n",
      "\n",
      "Test set label distribution:\n",
      "- Baseline samples (0): 47\n",
      "- Damage size 1: 13\n",
      "- Damage size 2: 13\n",
      "- Damage size 3: 15\n",
      "- Damage size 4: 14\n",
      "- Damage size 5: 15\n",
      "- Damage size 6: 13\n",
      "- Damage size 7: 5\n",
      "- Damage size 8: 11\n",
      "- Damage size 9: 13\n",
      "- Damage size 10: 9\n",
      "- Damage size 11: 11\n",
      "- Damage size 12: 9\n",
      "- Damage size 13: 16\n"
     ]
    }
   ],
   "source": [
    "# Print label distribution for training and test sets\n",
    "print_label_distribution(y_train, \"Training set\")\n",
    "print_label_distribution(y_test, \"Test set\")"
   ]
  },
  {
   "cell_type": "code",
   "execution_count": 20,
   "id": "074f0571",
   "metadata": {
    "execution": {
     "iopub.execute_input": "2025-03-05T04:05:24.226812Z",
     "iopub.status.busy": "2025-03-05T04:05:24.226515Z",
     "iopub.status.idle": "2025-03-05T04:05:24.248549Z",
     "shell.execute_reply": "2025-03-05T04:05:24.247668Z"
    },
    "papermill": {
     "duration": 0.034679,
     "end_time": "2025-03-05T04:05:24.250247",
     "exception": false,
     "start_time": "2025-03-05T04:05:24.215568",
     "status": "completed"
    },
    "tags": []
   },
   "outputs": [],
   "source": [
    "# Convert input data to float32\n",
    "X_train = X_train.astype('float32')\n",
    "X_test = X_test.astype('float32')"
   ]
  },
  {
   "cell_type": "code",
   "execution_count": 21,
   "id": "5cee2716",
   "metadata": {
    "execution": {
     "iopub.execute_input": "2025-03-05T04:05:24.271339Z",
     "iopub.status.busy": "2025-03-05T04:05:24.271027Z",
     "iopub.status.idle": "2025-03-05T04:05:24.274804Z",
     "shell.execute_reply": "2025-03-05T04:05:24.274012Z"
    },
    "papermill": {
     "duration": 0.015648,
     "end_time": "2025-03-05T04:05:24.276042",
     "exception": false,
     "start_time": "2025-03-05T04:05:24.260394",
     "status": "completed"
    },
    "tags": []
   },
   "outputs": [],
   "source": [
    "y_train = y_train.astype('float32')\n",
    "y_test = y_test.astype('float32')"
   ]
  },
  {
   "cell_type": "code",
   "execution_count": 22,
   "id": "6c5fd4d5",
   "metadata": {
    "execution": {
     "iopub.execute_input": "2025-03-05T04:05:24.296638Z",
     "iopub.status.busy": "2025-03-05T04:05:24.296340Z",
     "iopub.status.idle": "2025-03-05T04:05:24.318160Z",
     "shell.execute_reply": "2025-03-05T04:05:24.317339Z"
    },
    "papermill": {
     "duration": 0.033704,
     "end_time": "2025-03-05T04:05:24.319607",
     "exception": false,
     "start_time": "2025-03-05T04:05:24.285903",
     "status": "completed"
    },
    "tags": []
   },
   "outputs": [
    {
     "name": "stdout",
     "output_type": "stream",
     "text": [
      "Min values after scaling: [-1.040155  -0.9812768 -1.        ... -1.        -0.9722817 -0.9399686]\n",
      "Max values after scaling: [1.0318567  0.94322634 1.         ... 1.         0.9312466  1.0010613 ]\n"
     ]
    }
   ],
   "source": [
    "print(\"Min values after scaling:\", np.min(X_train, axis=(1,2)))\n",
    "print(\"Max values after scaling:\", np.max(X_train, axis=(1,2)))"
   ]
  },
  {
   "cell_type": "code",
   "execution_count": 23,
   "id": "189a4b42",
   "metadata": {
    "execution": {
     "iopub.execute_input": "2025-03-05T04:05:24.341108Z",
     "iopub.status.busy": "2025-03-05T04:05:24.340806Z",
     "iopub.status.idle": "2025-03-05T04:05:24.346373Z",
     "shell.execute_reply": "2025-03-05T04:05:24.345309Z"
    },
    "papermill": {
     "duration": 0.017878,
     "end_time": "2025-03-05T04:05:24.347816",
     "exception": false,
     "start_time": "2025-03-05T04:05:24.329938",
     "status": "completed"
    },
    "tags": []
   },
   "outputs": [
    {
     "name": "stdout",
     "output_type": "stream",
     "text": [
      "X_train dtype: float32\n",
      "y_train dtype: float32\n"
     ]
    }
   ],
   "source": [
    "print(\"X_train dtype:\", X_train.dtype)  # Should print float32\n",
    "print(\"y_train dtype:\", y_train.dtype)  # Should print float32"
   ]
  },
  {
   "cell_type": "code",
   "execution_count": 24,
   "id": "b71affeb",
   "metadata": {
    "execution": {
     "iopub.execute_input": "2025-03-05T04:05:24.369658Z",
     "iopub.status.busy": "2025-03-05T04:05:24.369322Z",
     "iopub.status.idle": "2025-03-05T04:05:24.377826Z",
     "shell.execute_reply": "2025-03-05T04:05:24.376849Z"
    },
    "papermill": {
     "duration": 0.021414,
     "end_time": "2025-03-05T04:05:24.379433",
     "exception": false,
     "start_time": "2025-03-05T04:05:24.358019",
     "status": "completed"
    },
    "tags": []
   },
   "outputs": [
    {
     "name": "stdout",
     "output_type": "stream",
     "text": [
      "Before Normalizing training targets (first 5): [ 5.  3. 13.  1. 10.]\n",
      "Before Normalizing test targets (first 5): [7. 0. 6. 1. 8.]\n",
      "Normalized training targets (first 5): [0.3846154  0.23076923 1.         0.07692308 0.7692308 ]\n",
      "Normalized test targets (first 5): [0.53846157 0.         0.46153846 0.07692308 0.61538464]\n"
     ]
    }
   ],
   "source": [
    "import numpy as np\n",
    "\n",
    "# Compute the minimum and maximum values from the training targets.\n",
    "y_min = np.min(y_train)\n",
    "y_max = np.max(y_train)\n",
    "\n",
    "# Normalize the training and test targets.\n",
    "y_train_norm = (y_train - y_min) / (y_max - y_min)\n",
    "y_test_norm = (y_test - y_min) / (y_max - y_min)\n",
    "\n",
    "\n",
    "print(\"Before Normalizing training targets (first 5):\", y_train[:5])\n",
    "print(\"Before Normalizing test targets (first 5):\", y_test[:5])\n",
    "\n",
    "print(\"Normalized training targets (first 5):\", y_train_norm[:5])\n",
    "print(\"Normalized test targets (first 5):\", y_test_norm[:5])\n"
   ]
  },
  {
   "cell_type": "markdown",
   "id": "671218d1",
   "metadata": {
    "papermill": {
     "duration": 0.010103,
     "end_time": "2025-03-05T04:05:24.399720",
     "exception": false,
     "start_time": "2025-03-05T04:05:24.389617",
     "status": "completed"
    },
    "tags": []
   },
   "source": [
    "# 3. Model Architecture"
   ]
  },
  {
   "cell_type": "code",
   "execution_count": 25,
   "id": "9134c832",
   "metadata": {
    "execution": {
     "iopub.execute_input": "2025-03-05T04:05:24.421094Z",
     "iopub.status.busy": "2025-03-05T04:05:24.420785Z",
     "iopub.status.idle": "2025-03-05T04:05:41.790371Z",
     "shell.execute_reply": "2025-03-05T04:05:41.789449Z"
    },
    "papermill": {
     "duration": 17.382248,
     "end_time": "2025-03-05T04:05:41.792154",
     "exception": false,
     "start_time": "2025-03-05T04:05:24.409906",
     "status": "completed"
    },
    "tags": []
   },
   "outputs": [],
   "source": [
    "import tensorflow as tf\n",
    "from tensorflow.keras import layers, models"
   ]
  },
  {
   "cell_type": "code",
   "execution_count": 26,
   "id": "c36d1118",
   "metadata": {
    "execution": {
     "iopub.execute_input": "2025-03-05T04:05:41.814066Z",
     "iopub.status.busy": "2025-03-05T04:05:41.813503Z",
     "iopub.status.idle": "2025-03-05T04:05:41.817452Z",
     "shell.execute_reply": "2025-03-05T04:05:41.816607Z"
    },
    "papermill": {
     "duration": 0.01632,
     "end_time": "2025-03-05T04:05:41.818941",
     "exception": false,
     "start_time": "2025-03-05T04:05:41.802621",
     "status": "completed"
    },
    "tags": []
   },
   "outputs": [],
   "source": [
    "tf.keras.backend.set_floatx('float32')"
   ]
  },
  {
   "cell_type": "code",
   "execution_count": 27,
   "id": "c7f80921",
   "metadata": {
    "execution": {
     "iopub.execute_input": "2025-03-05T04:05:41.840885Z",
     "iopub.status.busy": "2025-03-05T04:05:41.840586Z",
     "iopub.status.idle": "2025-03-05T04:05:41.844238Z",
     "shell.execute_reply": "2025-03-05T04:05:41.843494Z"
    },
    "papermill": {
     "duration": 0.016148,
     "end_time": "2025-03-05T04:05:41.845691",
     "exception": false,
     "start_time": "2025-03-05T04:05:41.829543",
     "status": "completed"
    },
    "tags": []
   },
   "outputs": [],
   "source": [
    "import tensorflow as tf\n",
    "from tensorflow import keras\n",
    "from tensorflow.keras import layers"
   ]
  },
  {
   "cell_type": "code",
   "execution_count": 28,
   "id": "e7cfae4d",
   "metadata": {
    "execution": {
     "iopub.execute_input": "2025-03-05T04:05:41.867779Z",
     "iopub.status.busy": "2025-03-05T04:05:41.867446Z",
     "iopub.status.idle": "2025-03-05T04:05:43.310466Z",
     "shell.execute_reply": "2025-03-05T04:05:43.309643Z"
    },
    "papermill": {
     "duration": 1.456301,
     "end_time": "2025-03-05T04:05:43.312097",
     "exception": false,
     "start_time": "2025-03-05T04:05:41.855796",
     "status": "completed"
    },
    "tags": []
   },
   "outputs": [],
   "source": [
    "# Multi-GPU setup\n",
    "strategy = tf.distribute.MirroredStrategy()"
   ]
  },
  {
   "cell_type": "code",
   "execution_count": 29,
   "id": "b5a8326c",
   "metadata": {
    "execution": {
     "iopub.execute_input": "2025-03-05T04:05:43.333941Z",
     "iopub.status.busy": "2025-03-05T04:05:43.333636Z",
     "iopub.status.idle": "2025-03-05T04:05:43.339175Z",
     "shell.execute_reply": "2025-03-05T04:05:43.338155Z"
    },
    "papermill": {
     "duration": 0.018086,
     "end_time": "2025-03-05T04:05:43.340697",
     "exception": false,
     "start_time": "2025-03-05T04:05:43.322611",
     "status": "completed"
    },
    "tags": []
   },
   "outputs": [
    {
     "data": {
      "text/plain": [
       "'/kaggle'"
      ]
     },
     "execution_count": 29,
     "metadata": {},
     "output_type": "execute_result"
    }
   ],
   "source": [
    "%pwd"
   ]
  },
  {
   "cell_type": "code",
   "execution_count": 30,
   "id": "1b6f4d7e",
   "metadata": {
    "execution": {
     "iopub.execute_input": "2025-03-05T04:05:43.362976Z",
     "iopub.status.busy": "2025-03-05T04:05:43.362648Z",
     "iopub.status.idle": "2025-03-05T04:05:43.370105Z",
     "shell.execute_reply": "2025-03-05T04:05:43.369103Z"
    },
    "papermill": {
     "duration": 0.020226,
     "end_time": "2025-03-05T04:05:43.371765",
     "exception": false,
     "start_time": "2025-03-05T04:05:43.351539",
     "status": "completed"
    },
    "tags": []
   },
   "outputs": [],
   "source": [
    "from tensorflow.keras.models import load_model"
   ]
  },
  {
   "cell_type": "code",
   "execution_count": 31,
   "id": "66e8c7dc",
   "metadata": {
    "execution": {
     "iopub.execute_input": "2025-03-05T04:05:43.393505Z",
     "iopub.status.busy": "2025-03-05T04:05:43.393140Z",
     "iopub.status.idle": "2025-03-05T04:05:46.685756Z",
     "shell.execute_reply": "2025-03-05T04:05:46.684902Z"
    },
    "papermill": {
     "duration": 3.305523,
     "end_time": "2025-03-05T04:05:46.687670",
     "exception": false,
     "start_time": "2025-03-05T04:05:43.382147",
     "status": "completed"
    },
    "tags": []
   },
   "outputs": [],
   "source": [
    "keras.config.enable_unsafe_deserialization()\n",
    "# Load the model within the strategy scope\n",
    "with strategy.scope():\n",
    "    model_reg = load_model('/kaggle/input/regression_norm_800/keras/default/1/model_checkpoint (2).keras')"
   ]
  },
  {
   "cell_type": "code",
   "execution_count": 32,
   "id": "565c4614",
   "metadata": {
    "execution": {
     "iopub.execute_input": "2025-03-05T04:05:46.710138Z",
     "iopub.status.busy": "2025-03-05T04:05:46.709819Z",
     "iopub.status.idle": "2025-03-05T04:05:46.715127Z",
     "shell.execute_reply": "2025-03-05T04:05:46.714174Z"
    },
    "papermill": {
     "duration": 0.01798,
     "end_time": "2025-03-05T04:05:46.716556",
     "exception": false,
     "start_time": "2025-03-05T04:05:46.698576",
     "status": "completed"
    },
    "tags": []
   },
   "outputs": [
    {
     "data": {
      "text/plain": [
       "(1836, 4369, 1)"
      ]
     },
     "execution_count": 32,
     "metadata": {},
     "output_type": "execute_result"
    }
   ],
   "source": [
    "X_train.shape"
   ]
  },
  {
   "cell_type": "code",
   "execution_count": 33,
   "id": "9456ee1c",
   "metadata": {
    "execution": {
     "iopub.execute_input": "2025-03-05T04:05:46.789555Z",
     "iopub.status.busy": "2025-03-05T04:05:46.789131Z",
     "iopub.status.idle": "2025-03-05T04:05:46.794576Z",
     "shell.execute_reply": "2025-03-05T04:05:46.793721Z"
    },
    "papermill": {
     "duration": 0.018545,
     "end_time": "2025-03-05T04:05:46.796087",
     "exception": false,
     "start_time": "2025-03-05T04:05:46.777542",
     "status": "completed"
    },
    "tags": []
   },
   "outputs": [
    {
     "data": {
      "text/plain": [
       "(1836,)"
      ]
     },
     "execution_count": 33,
     "metadata": {},
     "output_type": "execute_result"
    }
   ],
   "source": [
    "y_train.shape"
   ]
  },
  {
   "cell_type": "code",
   "execution_count": 34,
   "id": "45cc5491",
   "metadata": {
    "execution": {
     "iopub.execute_input": "2025-03-05T04:05:46.818705Z",
     "iopub.status.busy": "2025-03-05T04:05:46.818356Z",
     "iopub.status.idle": "2025-03-05T04:05:46.825551Z",
     "shell.execute_reply": "2025-03-05T04:05:46.824555Z"
    },
    "papermill": {
     "duration": 0.020164,
     "end_time": "2025-03-05T04:05:46.827082",
     "exception": false,
     "start_time": "2025-03-05T04:05:46.806918",
     "status": "completed"
    },
    "tags": []
   },
   "outputs": [
    {
     "data": {
      "text/plain": [
       "(array([ 5.,  3., 13., ...,  0.,  4.,  6.], dtype=float32),\n",
       " array([ 7.,  0.,  6.,  1.,  8.,  4.,  0.,  4.,  0.,  1.,  4.,  9.,  9.,\n",
       "        12.,  3., 13.,  5.,  5.,  2.,  9.,  0.,  0., 12.,  8.,  3.,  0.,\n",
       "         0.,  4.,  0.,  1.,  3.,  0.,  7.,  5.,  5.,  9., 10., 10.,  4.,\n",
       "         0.,  0.,  3.,  5., 10., 13., 12.,  7.,  2.,  0.,  0.,  0.,  0.,\n",
       "         0., 11.,  6.,  6., 12.,  0.,  4.,  0.,  0.,  3.,  4.,  6.,  9.,\n",
       "         0.,  6.,  8.,  5.,  0.,  6., 12.,  0.,  5.,  3., 13.,  1.,  0.,\n",
       "         9., 11.,  6.,  6.,  9.,  0.,  8.,  4.,  5.,  0., 13., 12.,  1.,\n",
       "         2.,  3.,  0.,  3.,  0.,  4.,  8.,  8.,  5.,  5.,  3., 12., 13.,\n",
       "        13.,  5.,  0.,  6.,  0., 11., 11.,  1.,  0.,  1.,  8.,  0.,  0.,\n",
       "         0., 13.,  0.,  2., 12.,  0., 11.,  6., 13.,  5., 10., 10.,  4.,\n",
       "         2., 13.,  9.,  2.,  2.,  4.,  0.,  1.,  9.,  3.,  0.,  7., 11.,\n",
       "         1.,  0.,  5.,  8.,  1.,  9., 10.,  5., 12.,  1.,  0.,  2.,  3.,\n",
       "        13.,  5.,  2.,  0.,  2.,  4.,  4.,  0., 11.,  0., 10., 13., 10.,\n",
       "         4.,  3., 10.,  9., 13.,  2.,  0.,  8.,  6.,  3.,  9.,  6.,  0.,\n",
       "         6.,  9., 11., 11.,  3., 13.,  8.,  0., 11., 13.,  1.,  8.,  7.,\n",
       "         2., 13., 13.,  0.,  3.,  1., 11.,  2.,  0.], dtype=float32))"
      ]
     },
     "execution_count": 34,
     "metadata": {},
     "output_type": "execute_result"
    }
   ],
   "source": [
    "y_train,y_test"
   ]
  },
  {
   "cell_type": "code",
   "execution_count": 35,
   "id": "2abf1347",
   "metadata": {
    "execution": {
     "iopub.execute_input": "2025-03-05T04:05:46.849491Z",
     "iopub.status.busy": "2025-03-05T04:05:46.849093Z",
     "iopub.status.idle": "2025-03-05T04:05:46.864775Z",
     "shell.execute_reply": "2025-03-05T04:05:46.863637Z"
    },
    "papermill": {
     "duration": 0.0291,
     "end_time": "2025-03-05T04:05:46.866854",
     "exception": false,
     "start_time": "2025-03-05T04:05:46.837754",
     "status": "completed"
    },
    "tags": []
   },
   "outputs": [],
   "source": [
    "# Assume X_train has the shape (num_samples, 4369, 1)\n",
    "num_samples, original_length, channels = X_train.shape\n",
    "\n",
    "# Calculate padding length so that the length becomes divisible by 5.\n",
    "pad_len = 1\n",
    "\n",
    "# Pad along the sequence axis (axis=1) with -np.inf so that the max operation is not affected.\n",
    "X_train_padded = np.pad(\n",
    "    X_train,\n",
    "    pad_width=((0, 0), (0, pad_len), (0, 0)),\n",
    "    mode='constant',\n",
    "    constant_values=-np.inf\n",
    ")\n",
    "\n",
    "# Now X_train_padded has the shape (num_samples, 4370, 1).\n"
   ]
  },
  {
   "cell_type": "code",
   "execution_count": 36,
   "id": "ddaedcab",
   "metadata": {
    "execution": {
     "iopub.execute_input": "2025-03-05T04:05:46.890674Z",
     "iopub.status.busy": "2025-03-05T04:05:46.890354Z",
     "iopub.status.idle": "2025-03-05T04:05:46.895613Z",
     "shell.execute_reply": "2025-03-05T04:05:46.894757Z"
    },
    "papermill": {
     "duration": 0.017945,
     "end_time": "2025-03-05T04:05:46.896983",
     "exception": false,
     "start_time": "2025-03-05T04:05:46.879038",
     "status": "completed"
    },
    "tags": []
   },
   "outputs": [
    {
     "data": {
      "text/plain": [
       "(1836, 4370, 1)"
      ]
     },
     "execution_count": 36,
     "metadata": {},
     "output_type": "execute_result"
    }
   ],
   "source": [
    "X_train_padded.shape"
   ]
  },
  {
   "cell_type": "code",
   "execution_count": 37,
   "id": "4c7c385b",
   "metadata": {
    "execution": {
     "iopub.execute_input": "2025-03-05T04:05:46.919009Z",
     "iopub.status.busy": "2025-03-05T04:05:46.918716Z",
     "iopub.status.idle": "2025-03-05T04:05:47.140907Z",
     "shell.execute_reply": "2025-03-05T04:05:47.139668Z"
    },
    "papermill": {
     "duration": 0.234974,
     "end_time": "2025-03-05T04:05:47.142573",
     "exception": false,
     "start_time": "2025-03-05T04:05:46.907599",
     "status": "completed"
    },
    "tags": []
   },
   "outputs": [
    {
     "name": "stdout",
     "output_type": "stream",
     "text": [
      "Shape after max-pooling and reshaping: (1836, 874)\n"
     ]
    }
   ],
   "source": [
    "\n",
    "# Reshape to group every 5 consecutive elements:\n",
    "# New shape will be (num_samples, 874, 5, 1)\n",
    "grouped_length = X_train_padded.shape[1] // 5  # Should be 874\n",
    "X_train_grouped = X_train_padded.reshape(num_samples, grouped_length, 5, channels)\n",
    "\n",
    "# Take the max over the 5 elements for each group (axis=2)\n",
    "# Resulting shape is (num_samples, 874, 1)\n",
    "X_train_max = np.max(X_train_grouped, axis=2)\n",
    "\n",
    "# Optionally, if your model expects inputs of shape (num_samples, 874),\n",
    "# reshape the array from (num_samples, 874, 1) to (num_samples, 874)\n",
    "X_train_final = X_train_max.reshape(num_samples, grouped_length)\n",
    "\n",
    "# Check the resulting shape\n",
    "print(\"Shape after max-pooling and reshaping:\", X_train_final.shape)\n"
   ]
  },
  {
   "cell_type": "code",
   "execution_count": 38,
   "id": "fb7c9b12",
   "metadata": {
    "execution": {
     "iopub.execute_input": "2025-03-05T04:05:47.165651Z",
     "iopub.status.busy": "2025-03-05T04:05:47.165323Z",
     "iopub.status.idle": "2025-03-05T04:05:47.196290Z",
     "shell.execute_reply": "2025-03-05T04:05:47.195281Z"
    },
    "papermill": {
     "duration": 0.044594,
     "end_time": "2025-03-05T04:05:47.197890",
     "exception": false,
     "start_time": "2025-03-05T04:05:47.153296",
     "status": "completed"
    },
    "tags": []
   },
   "outputs": [
    {
     "name": "stdout",
     "output_type": "stream",
     "text": [
      "Shape after max-pooling and reshaping: (204, 874)\n"
     ]
    }
   ],
   "source": [
    "# Assume X_train has the shape (num_samples, 4369, 1)\n",
    "num_samples, original_length, channels = X_test.shape\n",
    "\n",
    "# Calculate padding length so that the length becomes divisible by 5.\n",
    "pad_len = 1\n",
    "\n",
    "# Pad along the sequence axis (axis=1) with -np.inf so that the max operation is not affected.\n",
    "X_test_padded = np.pad(\n",
    "    X_test,\n",
    "    pad_width=((0, 0), (0, pad_len), (0, 0)),\n",
    "    mode='constant',\n",
    "    constant_values=-np.inf\n",
    ")\n",
    "\n",
    "# Now X_train_padded has the shape (num_samples, 4370, 1).\n",
    "\n",
    "# Reshape to group every 5 consecutive elements:\n",
    "# New shape will be (num_samples, 874, 5, 1)\n",
    "grouped_length = X_test_padded.shape[1] // 5  # Should be 874\n",
    "X_test_grouped = X_test_padded.reshape(num_samples, grouped_length, 5, channels)\n",
    "\n",
    "# Take the max over the 5 elements for each group (axis=2)\n",
    "# Resulting shape is (num_samples, 874, 1)\n",
    "X_test_max = np.max(X_test_grouped, axis=2)\n",
    "\n",
    "# Optionally, if your model expects inputs of shape (num_samples, 874),\n",
    "# reshape the array from (num_samples, 874, 1) to (num_samples, 874)\n",
    "X_test_final = X_test_max.reshape(num_samples, grouped_length)\n",
    "\n",
    "# Check the resulting shape\n",
    "print(\"Shape after max-pooling and reshaping:\", X_test_final.shape)\n"
   ]
  },
  {
   "cell_type": "code",
   "execution_count": 39,
   "id": "fbd36e49",
   "metadata": {
    "execution": {
     "iopub.execute_input": "2025-03-05T04:05:47.222515Z",
     "iopub.status.busy": "2025-03-05T04:05:47.222128Z",
     "iopub.status.idle": "2025-03-05T04:05:47.230290Z",
     "shell.execute_reply": "2025-03-05T04:05:47.229357Z"
    },
    "papermill": {
     "duration": 0.022779,
     "end_time": "2025-03-05T04:05:47.231814",
     "exception": false,
     "start_time": "2025-03-05T04:05:47.209035",
     "status": "completed"
    },
    "tags": []
   },
   "outputs": [
    {
     "name": "stdout",
     "output_type": "stream",
     "text": [
      "Before Normalizing training targets (first 5): [ 5.  3. 13.  1. 10.]\n",
      "Before Normalizing test targets (first 5): [7. 0. 6. 1. 8.]\n",
      "Normalized training targets (first 5): [0.3846154  0.23076923 1.         0.07692308 0.7692308 ]\n",
      "Normalized test targets (first 5): [0.53846157 0.         0.46153846 0.07692308 0.61538464]\n"
     ]
    }
   ],
   "source": [
    "import numpy as np\n",
    "\n",
    "# Compute the minimum and maximum values from the training targets.\n",
    "y_min = np.min(y_train)\n",
    "y_max = np.max(y_train)\n",
    "\n",
    "# Normalize the training and test targets.\n",
    "y_train_norm = (y_train - y_min) / (y_max - y_min)\n",
    "y_test_norm = (y_test - y_min) / (y_max - y_min)\n",
    "\n",
    "\n",
    "print(\"Before Normalizing training targets (first 5):\", y_train[:5])\n",
    "print(\"Before Normalizing test targets (first 5):\", y_test[:5])\n",
    "\n",
    "print(\"Normalized training targets (first 5):\", y_train_norm[:5])\n",
    "print(\"Normalized test targets (first 5):\", y_test_norm[:5])"
   ]
  },
  {
   "cell_type": "code",
   "execution_count": null,
   "id": "3f5f68b8",
   "metadata": {
    "papermill": {
     "duration": 0.015673,
     "end_time": "2025-03-05T04:05:47.260151",
     "exception": false,
     "start_time": "2025-03-05T04:05:47.244478",
     "status": "completed"
    },
    "tags": []
   },
   "outputs": [],
   "source": []
  },
  {
   "cell_type": "code",
   "execution_count": 40,
   "id": "52cd3d13",
   "metadata": {
    "execution": {
     "iopub.execute_input": "2025-03-05T04:05:47.297390Z",
     "iopub.status.busy": "2025-03-05T04:05:47.296971Z",
     "iopub.status.idle": "2025-03-05T04:05:47.303372Z",
     "shell.execute_reply": "2025-03-05T04:05:47.302218Z"
    },
    "papermill": {
     "duration": 0.030971,
     "end_time": "2025-03-05T04:05:47.305267",
     "exception": false,
     "start_time": "2025-03-05T04:05:47.274296",
     "status": "completed"
    },
    "tags": []
   },
   "outputs": [
    {
     "data": {
      "text/plain": [
       "'/kaggle'"
      ]
     },
     "execution_count": 40,
     "metadata": {},
     "output_type": "execute_result"
    }
   ],
   "source": [
    "%pwd"
   ]
  },
  {
   "cell_type": "code",
   "execution_count": 41,
   "id": "6ece9218",
   "metadata": {
    "execution": {
     "iopub.execute_input": "2025-03-05T04:05:47.338126Z",
     "iopub.status.busy": "2025-03-05T04:05:47.337795Z",
     "iopub.status.idle": "2025-03-05T04:05:47.341850Z",
     "shell.execute_reply": "2025-03-05T04:05:47.340985Z"
    },
    "papermill": {
     "duration": 0.021267,
     "end_time": "2025-03-05T04:05:47.343208",
     "exception": false,
     "start_time": "2025-03-05T04:05:47.321941",
     "status": "completed"
    },
    "tags": []
   },
   "outputs": [],
   "source": [
    "os.chdir(\"working\")"
   ]
  },
  {
   "cell_type": "code",
   "execution_count": 42,
   "id": "eea3dd12",
   "metadata": {
    "execution": {
     "iopub.execute_input": "2025-03-05T04:05:47.367363Z",
     "iopub.status.busy": "2025-03-05T04:05:47.367008Z",
     "iopub.status.idle": "2025-03-05T04:05:47.370858Z",
     "shell.execute_reply": "2025-03-05T04:05:47.370023Z"
    },
    "papermill": {
     "duration": 0.017085,
     "end_time": "2025-03-05T04:05:47.372412",
     "exception": false,
     "start_time": "2025-03-05T04:05:47.355327",
     "status": "completed"
    },
    "tags": []
   },
   "outputs": [],
   "source": [
    "os.chdir(\"..\")\n",
    "os.chdir(\"input\")"
   ]
  },
  {
   "cell_type": "code",
   "execution_count": 43,
   "id": "e94b415b",
   "metadata": {
    "execution": {
     "iopub.execute_input": "2025-03-05T04:05:47.395411Z",
     "iopub.status.busy": "2025-03-05T04:05:47.395058Z",
     "iopub.status.idle": "2025-03-05T04:05:47.399248Z",
     "shell.execute_reply": "2025-03-05T04:05:47.398442Z"
    },
    "papermill": {
     "duration": 0.017267,
     "end_time": "2025-03-05T04:05:47.400730",
     "exception": false,
     "start_time": "2025-03-05T04:05:47.383463",
     "status": "completed"
    },
    "tags": []
   },
   "outputs": [],
   "source": [
    "import tensorflow as tf\n",
    "from tensorflow import keras\n",
    "import numpy as np\n",
    "import matplotlib.pyplot as plt\n",
    "from sklearn.metrics import mean_squared_error, mean_absolute_error, r2_score\n"
   ]
  },
  {
   "cell_type": "code",
   "execution_count": 44,
   "id": "3052142d",
   "metadata": {
    "execution": {
     "iopub.execute_input": "2025-03-05T04:05:47.424076Z",
     "iopub.status.busy": "2025-03-05T04:05:47.423776Z",
     "iopub.status.idle": "2025-03-05T04:05:55.039950Z",
     "shell.execute_reply": "2025-03-05T04:05:55.039022Z"
    },
    "papermill": {
     "duration": 7.629644,
     "end_time": "2025-03-05T04:05:55.041490",
     "exception": false,
     "start_time": "2025-03-05T04:05:47.411846",
     "status": "completed"
    },
    "tags": []
   },
   "outputs": [
    {
     "name": "stdout",
     "output_type": "stream",
     "text": [
      "\u001b[1m7/7\u001b[0m \u001b[32m━━━━━━━━━━━━━━━━━━━━\u001b[0m\u001b[37m\u001b[0m \u001b[1m7s\u001b[0m 376ms/step - loss: 0.0293 - mae: 0.1173\n",
      "Test Loss (MSE): 0.026191584765911102\n",
      "Test MAE: 0.11358509957790375\n"
     ]
    }
   ],
   "source": [
    "# Evaluate the model using the built-in evaluation method.\n",
    "# This will return the loss (MSE in our case) and MAE (as we compiled with these metrics).\n",
    "loss, mae = model_reg.evaluate(X_test_final, y_test_norm, verbose=1)\n",
    "print(\"Test Loss (MSE):\", loss)\n",
    "print(\"Test MAE:\", mae)\n",
    "# CHANGE Y_TEST_NORM ACCORDINGLY, FOR THE CASE"
   ]
  },
  {
   "cell_type": "code",
   "execution_count": 45,
   "id": "ffc33dca",
   "metadata": {
    "execution": {
     "iopub.execute_input": "2025-03-05T04:05:55.066588Z",
     "iopub.status.busy": "2025-03-05T04:05:55.066201Z",
     "iopub.status.idle": "2025-03-05T04:05:59.810656Z",
     "shell.execute_reply": "2025-03-05T04:05:59.809504Z"
    },
    "papermill": {
     "duration": 4.75919,
     "end_time": "2025-03-05T04:05:59.812634",
     "exception": false,
     "start_time": "2025-03-05T04:05:55.053444",
     "status": "completed"
    },
    "tags": []
   },
   "outputs": [
    {
     "name": "stdout",
     "output_type": "stream",
     "text": [
      "\u001b[1m7/7\u001b[0m \u001b[32m━━━━━━━━━━━━━━━━━━━━\u001b[0m\u001b[37m\u001b[0m \u001b[1m5s\u001b[0m 481ms/step\n"
     ]
    }
   ],
   "source": [
    "# Make predictions on the test data.\n",
    "y_pred = model_reg.predict(X_test_final)"
   ]
  },
  {
   "cell_type": "code",
   "execution_count": 46,
   "id": "4be2c32d",
   "metadata": {
    "execution": {
     "iopub.execute_input": "2025-03-05T04:05:59.847414Z",
     "iopub.status.busy": "2025-03-05T04:05:59.846959Z",
     "iopub.status.idle": "2025-03-05T04:05:59.853168Z",
     "shell.execute_reply": "2025-03-05T04:05:59.852202Z"
    },
    "papermill": {
     "duration": 0.029354,
     "end_time": "2025-03-05T04:05:59.854698",
     "exception": false,
     "start_time": "2025-03-05T04:05:59.825344",
     "status": "completed"
    },
    "tags": []
   },
   "outputs": [
    {
     "data": {
      "text/plain": [
       "(0.0010480373, 1.0983888)"
      ]
     },
     "execution_count": 46,
     "metadata": {},
     "output_type": "execute_result"
    }
   ],
   "source": [
    "y_pred.min(),y_pred.max()"
   ]
  },
  {
   "cell_type": "code",
   "execution_count": 47,
   "id": "ec82916f",
   "metadata": {
    "execution": {
     "iopub.execute_input": "2025-03-05T04:05:59.885594Z",
     "iopub.status.busy": "2025-03-05T04:05:59.885077Z",
     "iopub.status.idle": "2025-03-05T04:05:59.890733Z",
     "shell.execute_reply": "2025-03-05T04:05:59.889559Z"
    },
    "papermill": {
     "duration": 0.024264,
     "end_time": "2025-03-05T04:05:59.892355",
     "exception": false,
     "start_time": "2025-03-05T04:05:59.868091",
     "status": "completed"
    },
    "tags": []
   },
   "outputs": [],
   "source": [
    "# Rescale predictions back to the original scale\n",
    "y_pred_original = y_pred * (y_max - y_min) + y_min\n",
    "\n",
    "# Rescale test targets back to the original scale for comparison\n",
    "y_test_original = y_test_norm * (y_max - y_min) + y_min"
   ]
  },
  {
   "cell_type": "code",
   "execution_count": 48,
   "id": "da25a88a",
   "metadata": {
    "execution": {
     "iopub.execute_input": "2025-03-05T04:05:59.925535Z",
     "iopub.status.busy": "2025-03-05T04:05:59.925129Z",
     "iopub.status.idle": "2025-03-05T04:05:59.931334Z",
     "shell.execute_reply": "2025-03-05T04:05:59.930311Z"
    },
    "papermill": {
     "duration": 0.022878,
     "end_time": "2025-03-05T04:05:59.932972",
     "exception": false,
     "start_time": "2025-03-05T04:05:59.910094",
     "status": "completed"
    },
    "tags": []
   },
   "outputs": [],
   "source": [
    "# Compute additional regression metrics.\n",
    "mse = mean_squared_error(y_test_original, y_pred_original)\n",
    "rmse = np.sqrt(mse)\n",
    "mae_val = mean_absolute_error(y_test_original, y_pred_original)\n",
    "r2 = r2_score(y_test_original, y_pred_original)\n"
   ]
  },
  {
   "cell_type": "code",
   "execution_count": 49,
   "id": "b3edf91a",
   "metadata": {
    "execution": {
     "iopub.execute_input": "2025-03-05T04:05:59.959594Z",
     "iopub.status.busy": "2025-03-05T04:05:59.959215Z",
     "iopub.status.idle": "2025-03-05T04:06:00.366181Z",
     "shell.execute_reply": "2025-03-05T04:06:00.364970Z"
    },
    "papermill": {
     "duration": 0.422423,
     "end_time": "2025-03-05T04:06:00.368489",
     "exception": false,
     "start_time": "2025-03-05T04:05:59.946066",
     "status": "completed"
    },
    "tags": []
   },
   "outputs": [
    {
     "name": "stdout",
     "output_type": "stream",
     "text": [
      "\n",
      "Additional Regression Metrics:\n",
      "Mean Squared Error (MSE): 5.4935718\n",
      "Root Mean Squared Error (RMSE): 2.343837\n",
      "Mean Absolute Error (MAE): 1.5829815\n",
      "R^2 Score: 0.7192774268790969\n"
     ]
    },
    {
     "data": {
      "image/png": "[encoded data removed]",
      "text/plain": [
       "<Figure size 800x600 with 1 Axes>"
      ]
     },
     "metadata": {},
     "output_type": "display_data"
    }
   ],
   "source": [
    "\n",
    "keras.config.enable_unsafe_deserialization()\n",
    "\n",
    "\n",
    "print(\"\\nAdditional Regression Metrics:\")\n",
    "print(\"Mean Squared Error (MSE):\", mse)\n",
    "print(\"Root Mean Squared Error (RMSE):\", rmse)\n",
    "print(\"Mean Absolute Error (MAE):\", mae_val)\n",
    "print(\"R^2 Score:\", r2)\n",
    "\n",
    "# Create a scatter plot to compare true vs. predicted values.\n",
    "plt.figure(figsize=(8, 6))\n",
    "plt.scatter(y_test_original, y_pred_original, alpha=0.5, label=\"Predictions\")\n",
    "plt.plot([0, 13], [0, 13], color='red', linestyle='--', label=\"Ideal\")\n",
    "plt.xlabel(\"True Damage\")\n",
    "plt.ylabel(\"Predicted Damage\")\n",
    "plt.title(\"True vs. Predicted Damage\")\n",
    "plt.xlim(0, 13)\n",
    "plt.ylim(0, 13)\n",
    "plt.legend()\n",
    "plt.show()\n"
   ]
  },
  {
   "cell_type": "code",
   "execution_count": 50,
   "id": "7607bc5b",
   "metadata": {
    "execution": {
     "iopub.execute_input": "2025-03-05T04:06:00.410299Z",
     "iopub.status.busy": "2025-03-05T04:06:00.409881Z",
     "iopub.status.idle": "2025-03-05T04:06:00.422013Z",
     "shell.execute_reply": "2025-03-05T04:06:00.420849Z"
    },
    "papermill": {
     "duration": 0.02998,
     "end_time": "2025-03-05T04:06:00.423792",
     "exception": false,
     "start_time": "2025-03-05T04:06:00.393812",
     "status": "completed"
    },
    "tags": []
   },
   "outputs": [
    {
     "name": "stdout",
     "output_type": "stream",
     "text": [
      "Explained Variance Score: 0.7311105132102966\n",
      "Median Absolute Error: 1.0341072\n",
      "R² Score: 0.7192774268790969\n"
     ]
    }
   ],
   "source": [
    "from sklearn.metrics import explained_variance_score, median_absolute_error, mean_absolute_percentage_error\n",
    "import numpy as np\n",
    "\n",
    "# Assuming y_test contains the true values and y_pred contains your model's predictions\n",
    "\n",
    "# Explained Variance Score\n",
    "explained_variance = explained_variance_score(y_test_original, y_pred_original)\n",
    "print(\"Explained Variance Score:\", explained_variance)\n",
    "\n",
    "# Median Absolute Error\n",
    "median_ae = median_absolute_error(y_test_original, y_pred_original)\n",
    "print(\"Median Absolute Error:\", median_ae)\n",
    "\n",
    "# You can also compute the R-squared if needed (already available via r2_score)\n",
    "from sklearn.metrics import r2_score\n",
    "r2 = r2_score(y_test_original, y_pred_original)\n",
    "print(\"R² Score:\", r2)\n"
   ]
  },
  {
   "cell_type": "code",
   "execution_count": null,
   "id": "10cd98e5",
   "metadata": {
    "papermill": {
     "duration": 0.013221,
     "end_time": "2025-03-05T04:06:00.452110",
     "exception": false,
     "start_time": "2025-03-05T04:06:00.438889",
     "status": "completed"
    },
    "tags": []
   },
   "outputs": [],
   "source": []
  }
 ],
 "metadata": {
  "kaggle": {
   "accelerator": "nvidiaTeslaT4",
   "dataSources": [
    {
     "datasetId": 6637708,
     "sourceId": 10709822,
     "sourceType": "datasetVersion"
    },
    {
     "isSourceIdPinned": false,
     "modelId": 242327,
     "modelInstanceId": 220548,
     "sourceId": 258062,
     "sourceType": "modelInstanceVersion"
    },
    {
     "isSourceIdPinned": false,
     "modelId": 242542,
     "modelInstanceId": 220767,
     "sourceId": 258296,
     "sourceType": "modelInstanceVersion"
    },
    {
     "isSourceIdPinned": true,
     "modelId": 243092,
     "modelInstanceId": 221313,
     "sourceId": 258919,
     "sourceType": "modelInstanceVersion"
    },
    {
     "isSourceIdPinned": true,
     "modelId": 243537,
     "modelInstanceId": 221769,
     "sourceId": 259427,
     "sourceType": "modelInstanceVersion"
    },
    {
     "isSourceIdPinned": true,
     "modelId": 250722,
     "modelInstanceId": 228974,
     "sourceId": 267563,
     "sourceType": "modelInstanceVersion"
    },
    {
     "isSourceIdPinned": true,
     "modelId": 250854,
     "modelInstanceId": 229109,
     "sourceId": 267719,
     "sourceType": "modelInstanceVersion"
    },
    {
     "isSourceIdPinned": true,
     "modelId": 257614,
     "modelInstanceId": 235927,
     "sourceId": 275529,
     "sourceType": "modelInstanceVersion"
    }
   ],
   "dockerImageVersionId": 30887,
   "isGpuEnabled": true,
   "isInternetEnabled": true,
   "language": "python",
   "sourceType": "notebook"
  },
  "kernelspec": {
   "display_name": "Python 3",
   "language": "python",
   "name": "python3"
  },
  "language_info": {
   "codemirror_mode": {
    "name": "ipython",
    "version": 3
   },
   "file_extension": ".py",
   "mimetype": "text/x-python",
   "name": "python",
   "nbconvert_exporter": "python",
   "pygments_lexer": "ipython3",
   "version": "3.10.12"
  },
  "papermill": {
   "default_parameters": {},
   "duration": 48.392222,
   "end_time": "2025-03-05T04:06:03.886982",
   "environment_variables": {},
   "exception": null,
   "input_path": "__notebook__.ipynb",
   "output_path": "__notebook__.ipynb",
   "parameters": {},
   "start_time": "2025-03-05T04:05:15.494760",
   "version": "2.6.0"
  }
 },
 "nbformat": 4,
 "nbformat_minor": 5
}
