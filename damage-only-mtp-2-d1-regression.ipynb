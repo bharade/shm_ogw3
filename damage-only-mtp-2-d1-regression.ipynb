{
 "cells": [
  {
   "cell_type": "code",
   "execution_count": 1,
   "id": "c7402491",
   "metadata": {
    "_cell_guid": "b1076dfc-b9ad-4769-8c92-a6c4dae69d19",
    "_uuid": "8f2839f25d086af736a60e9eeb907d3b93b6e0e5",
    "execution": {
     "iopub.execute_input": "2025-02-23T11:52:01.638256Z",
     "iopub.status.busy": "2025-02-23T11:52:01.637969Z",
     "iopub.status.idle": "2025-02-23T11:52:02.337091Z",
     "shell.execute_reply": "2025-02-23T11:52:02.336100Z"
    },
    "papermill": {
     "duration": 0.709275,
     "end_time": "2025-02-23T11:52:02.338427",
     "exception": false,
     "start_time": "2025-02-23T11:52:01.629152",
     "status": "completed"
    },
    "tags": []
   },
   "outputs": [
    {
     "name": "stdout",
     "output_type": "stream",
     "text": [
      "/kaggle/input/ogw3-train-test/test_dataset.npz\n",
      "/kaggle/input/ogw3-train-test/train_dataset.npz\n",
      "/kaggle/input/ogw3-augmented/X_damage_augmented.npy\n",
      "/kaggle/input/ogw3-augmented/X_freq_augmented.npy\n",
      "/kaggle/input/ogw3-augmented/X_signals_augmented.npy\n",
      "/kaggle/input/ogw3-loaded/data_frames_ogw3.pkl\n"
     ]
    }
   ],
   "source": [
    "# This Python 3 environment comes with many helpful analytics libraries installed\n",
    "# It is defined by the kaggle/python Docker image: https://github.com/kaggle/docker-python\n",
    "# For example, here's several helpful packages to load\n",
    "\n",
    "import numpy as np # linear algebra\n",
    "import pandas as pd # data processing, CSV file I/O (e.g. pd.read_csv)\n",
    "\n",
    "# Input data files are available in the read-only \"../input/\" directory\n",
    "# For example, running this (by clicking run or pressing Shift+Enter) will list all files under the input directory\n",
    "\n",
    "import os\n",
    "for dirname, _, filenames in os.walk('/kaggle/input'):\n",
    "    for filename in filenames:\n",
    "        print(os.path.join(dirname, filename))\n",
    "\n",
    "# You can write up to 20GB to the current directory (/kaggle/working/) that gets preserved as output when you create a version using \"Save & Run All\" \n",
    "# You can also write temporary files to /kaggle/temp/, but they won't be saved outside of the current session"
   ]
  },
  {
   "cell_type": "markdown",
   "id": "1c09486e",
   "metadata": {
    "papermill": {
     "duration": 0.00691,
     "end_time": "2025-02-23T11:52:02.352779",
     "exception": false,
     "start_time": "2025-02-23T11:52:02.345869",
     "status": "completed"
    },
    "tags": []
   },
   "source": [
    "# 1.5) loading augmented data"
   ]
  },
  {
   "cell_type": "code",
   "execution_count": 2,
   "id": "5a6bc09d",
   "metadata": {
    "execution": {
     "iopub.execute_input": "2025-02-23T11:52:02.367161Z",
     "iopub.status.busy": "2025-02-23T11:52:02.366838Z",
     "iopub.status.idle": "2025-02-23T11:52:02.369806Z",
     "shell.execute_reply": "2025-02-23T11:52:02.369154Z"
    },
    "papermill": {
     "duration": 0.011523,
     "end_time": "2025-02-23T11:52:02.371066",
     "exception": false,
     "start_time": "2025-02-23T11:52:02.359543",
     "status": "completed"
    },
    "tags": []
   },
   "outputs": [],
   "source": [
    "import os\n",
    "import matplotlib.pyplot as plt"
   ]
  },
  {
   "cell_type": "code",
   "execution_count": 3,
   "id": "237401e7",
   "metadata": {
    "execution": {
     "iopub.execute_input": "2025-02-23T11:52:02.385398Z",
     "iopub.status.busy": "2025-02-23T11:52:02.385129Z",
     "iopub.status.idle": "2025-02-23T11:52:02.390306Z",
     "shell.execute_reply": "2025-02-23T11:52:02.389680Z"
    },
    "papermill": {
     "duration": 0.013597,
     "end_time": "2025-02-23T11:52:02.391444",
     "exception": false,
     "start_time": "2025-02-23T11:52:02.377847",
     "status": "completed"
    },
    "tags": []
   },
   "outputs": [
    {
     "data": {
      "text/plain": [
       "'/kaggle/working'"
      ]
     },
     "execution_count": 3,
     "metadata": {},
     "output_type": "execute_result"
    }
   ],
   "source": [
    "%pwd\n"
   ]
  },
  {
   "cell_type": "code",
   "execution_count": 4,
   "id": "6e11afc0",
   "metadata": {
    "execution": {
     "iopub.execute_input": "2025-02-23T11:52:02.405795Z",
     "iopub.status.busy": "2025-02-23T11:52:02.405575Z",
     "iopub.status.idle": "2025-02-23T11:52:02.408358Z",
     "shell.execute_reply": "2025-02-23T11:52:02.407794Z"
    },
    "papermill": {
     "duration": 0.011328,
     "end_time": "2025-02-23T11:52:02.409597",
     "exception": false,
     "start_time": "2025-02-23T11:52:02.398269",
     "status": "completed"
    },
    "tags": []
   },
   "outputs": [],
   "source": [
    "os.chdir(\"..\")\n",
    "os.chdir(\"input\")"
   ]
  },
  {
   "cell_type": "code",
   "execution_count": 5,
   "id": "9c96a624",
   "metadata": {
    "execution": {
     "iopub.execute_input": "2025-02-23T11:52:02.424141Z",
     "iopub.status.busy": "2025-02-23T11:52:02.423942Z",
     "iopub.status.idle": "2025-02-23T11:52:02.879812Z",
     "shell.execute_reply": "2025-02-23T11:52:02.879151Z"
    },
    "papermill": {
     "duration": 0.46473,
     "end_time": "2025-02-23T11:52:02.881248",
     "exception": false,
     "start_time": "2025-02-23T11:52:02.416518",
     "status": "completed"
    },
    "tags": []
   },
   "outputs": [],
   "source": [
    "X_signals_augmented = np.load('ogw3-augmented/X_signals_augmented.npy')\n",
    "X_damage_augmented = np.load('ogw3-augmented/X_damage_augmented.npy')\n",
    "X_freq_augmented = np.load('ogw3-augmented/X_freq_augmented.npy')\n"
   ]
  },
  {
   "cell_type": "code",
   "execution_count": 6,
   "id": "ddad9c0b",
   "metadata": {
    "execution": {
     "iopub.execute_input": "2025-02-23T11:52:02.896614Z",
     "iopub.status.busy": "2025-02-23T11:52:02.896368Z",
     "iopub.status.idle": "2025-02-23T11:52:02.900767Z",
     "shell.execute_reply": "2025-02-23T11:52:02.900119Z"
    },
    "papermill": {
     "duration": 0.013145,
     "end_time": "2025-02-23T11:52:02.901845",
     "exception": false,
     "start_time": "2025-02-23T11:52:02.888700",
     "status": "completed"
    },
    "tags": []
   },
   "outputs": [
    {
     "name": "stdout",
     "output_type": "stream",
     "text": [
      "X_signals shape:(2040, 4369, 1)\n",
      "X_signals shape:(2040, 14)\n",
      "X_signals shape:(2040, 12)\n"
     ]
    }
   ],
   "source": [
    "print(f\"X_signals shape:{X_signals_augmented.shape}\")\n",
    "print(f\"X_signals shape:{X_damage_augmented.shape}\")\n",
    "print(f\"X_signals shape:{X_freq_augmented.shape}\")"
   ]
  },
  {
   "cell_type": "code",
   "execution_count": 7,
   "id": "2073d828",
   "metadata": {
    "execution": {
     "iopub.execute_input": "2025-02-23T11:52:02.916427Z",
     "iopub.status.busy": "2025-02-23T11:52:02.916193Z",
     "iopub.status.idle": "2025-02-23T11:52:03.014766Z",
     "shell.execute_reply": "2025-02-23T11:52:03.013471Z"
    },
    "papermill": {
     "duration": 0.107346,
     "end_time": "2025-02-23T11:52:03.016166",
     "exception": false,
     "start_time": "2025-02-23T11:52:02.908820",
     "status": "completed"
    },
    "tags": []
   },
   "outputs": [
    {
     "name": "stdout",
     "output_type": "stream",
     "text": [
      "Summary for X_signals_augmented:\n",
      "Mean: [[-0.00808563]\n",
      " [-0.03676917]\n",
      " [ 0.00793156]\n",
      " ...\n",
      " [ 0.43494834]\n",
      " [ 0.47826858]\n",
      " [ 0.47794448]]\n",
      "Variance: [[0.04756828]\n",
      " [0.05728288]\n",
      " [0.05182533]\n",
      " ...\n",
      " [0.11266843]\n",
      " [0.11778735]\n",
      " [0.1192308 ]]\n",
      "Min: [[-1.]\n",
      " [-1.]\n",
      " [-1.]\n",
      " ...\n",
      " [-1.]\n",
      " [-1.]\n",
      " [-1.]]\n",
      "Max: [[1.]\n",
      " [1.]\n",
      " [1.]\n",
      " ...\n",
      " [1.]\n",
      " [1.]\n",
      " [1.]]\n",
      "--------------------------------------------------\n",
      "Summary for X_freq_augmented:\n",
      "Mean: [0.08333333 0.08333333 0.08333333 0.08333333 0.08333333 0.08333333\n",
      " 0.08333333 0.08333333 0.08333333 0.08333333 0.08333333 0.08333333]\n",
      "Variance: [0.07638889 0.07638889 0.07638889 0.07638889 0.07638889 0.07638889\n",
      " 0.07638889 0.07638889 0.07638889 0.07638889 0.07638889 0.07638889]\n",
      "Min: [0. 0. 0. 0. 0. 0. 0. 0. 0. 0. 0. 0.]\n",
      "Max: [1. 1. 1. 1. 1. 1. 1. 1. 1. 1. 1. 1.]\n",
      "--------------------------------------------------\n"
     ]
    }
   ],
   "source": [
    "import numpy as np\n",
    "\n",
    "def summarize_data(X, name):\n",
    "    print(f\"Summary for {name}:\")\n",
    "    print(\"Mean:\", np.mean(X, axis=0))\n",
    "    print(\"Variance:\", np.var(X, axis=0))\n",
    "    print(\"Min:\", np.min(X, axis=0))\n",
    "    print(\"Max:\", np.max(X, axis=0))\n",
    "    print(\"-\" * 50)\n",
    "\n",
    "summarize_data(X_signals_augmented, \"X_signals_augmented\")\n",
    "summarize_data(X_freq_augmented, \"X_freq_augmented\")\n"
   ]
  },
  {
   "cell_type": "code",
   "execution_count": 8,
   "id": "a70a5abd",
   "metadata": {
    "execution": {
     "iopub.execute_input": "2025-02-23T11:52:03.031404Z",
     "iopub.status.busy": "2025-02-23T11:52:03.031119Z",
     "iopub.status.idle": "2025-02-23T11:52:03.045403Z",
     "shell.execute_reply": "2025-02-23T11:52:03.044478Z"
    },
    "papermill": {
     "duration": 0.023192,
     "end_time": "2025-02-23T11:52:03.046801",
     "exception": false,
     "start_time": "2025-02-23T11:52:03.023609",
     "status": "completed"
    },
    "tags": []
   },
   "outputs": [
    {
     "name": "stdout",
     "output_type": "stream",
     "text": [
      "Damage Condition Counts:\n",
      " 0.0    26520\n",
      "1.0     2040\n",
      "Name: count, dtype: int64\n"
     ]
    }
   ],
   "source": [
    "import pandas as pd\n",
    "\n",
    "damage_counts = pd.Series(X_damage_augmented.flatten()).value_counts()\n",
    "print(\"Damage Condition Counts:\\n\", damage_counts)\n"
   ]
  },
  {
   "cell_type": "markdown",
   "id": "b997ef1d",
   "metadata": {
    "papermill": {
     "duration": 0.006773,
     "end_time": "2025-02-23T11:52:03.060646",
     "exception": false,
     "start_time": "2025-02-23T11:52:03.053873",
     "status": "completed"
    },
    "tags": []
   },
   "source": [
    "# 2. Execution and model Training\n",
    "This is where the actual execution starts"
   ]
  },
  {
   "cell_type": "code",
   "execution_count": 9,
   "id": "6ba45ed3",
   "metadata": {
    "execution": {
     "iopub.execute_input": "2025-02-23T11:52:03.075511Z",
     "iopub.status.busy": "2025-02-23T11:52:03.075215Z",
     "iopub.status.idle": "2025-02-23T11:52:03.078812Z",
     "shell.execute_reply": "2025-02-23T11:52:03.077959Z"
    },
    "papermill": {
     "duration": 0.012549,
     "end_time": "2025-02-23T11:52:03.080158",
     "exception": false,
     "start_time": "2025-02-23T11:52:03.067609",
     "status": "completed"
    },
    "tags": []
   },
   "outputs": [],
   "source": [
    "import numpy as np\n",
    "import pandas as pd\n",
    "import pickle\n",
    "import matplotlib.pyplot as plt\n",
    "import os"
   ]
  },
  {
   "cell_type": "code",
   "execution_count": 10,
   "id": "f7a124ba",
   "metadata": {
    "execution": {
     "iopub.execute_input": "2025-02-23T11:52:03.095319Z",
     "iopub.status.busy": "2025-02-23T11:52:03.095086Z",
     "iopub.status.idle": "2025-02-23T11:52:03.098130Z",
     "shell.execute_reply": "2025-02-23T11:52:03.097537Z"
    },
    "papermill": {
     "duration": 0.012316,
     "end_time": "2025-02-23T11:52:03.099396",
     "exception": false,
     "start_time": "2025-02-23T11:52:03.087080",
     "status": "completed"
    },
    "tags": []
   },
   "outputs": [],
   "source": [
    "os.chdir(\"..\")\n",
    "os.chdir(\"working\")"
   ]
  },
  {
   "cell_type": "code",
   "execution_count": 11,
   "id": "77afb742",
   "metadata": {
    "execution": {
     "iopub.execute_input": "2025-02-23T11:52:03.114140Z",
     "iopub.status.busy": "2025-02-23T11:52:03.113932Z",
     "iopub.status.idle": "2025-02-23T11:52:03.118424Z",
     "shell.execute_reply": "2025-02-23T11:52:03.117637Z"
    },
    "papermill": {
     "duration": 0.013192,
     "end_time": "2025-02-23T11:52:03.119702",
     "exception": false,
     "start_time": "2025-02-23T11:52:03.106510",
     "status": "completed"
    },
    "tags": []
   },
   "outputs": [
    {
     "data": {
      "text/plain": [
       "'/kaggle'"
      ]
     },
     "execution_count": 11,
     "metadata": {},
     "output_type": "execute_result"
    }
   ],
   "source": [
    "os.chdir(\"..\")\n",
    "%pwd"
   ]
  },
  {
   "cell_type": "code",
   "execution_count": 12,
   "id": "c15a2baf",
   "metadata": {
    "execution": {
     "iopub.execute_input": "2025-02-23T11:52:03.134708Z",
     "iopub.status.busy": "2025-02-23T11:52:03.134461Z",
     "iopub.status.idle": "2025-02-23T11:52:04.255903Z",
     "shell.execute_reply": "2025-02-23T11:52:04.254959Z"
    },
    "papermill": {
     "duration": 1.130923,
     "end_time": "2025-02-23T11:52:04.257722",
     "exception": false,
     "start_time": "2025-02-23T11:52:03.126799",
     "status": "completed"
    },
    "tags": []
   },
   "outputs": [],
   "source": [
    "import numpy as np\n",
    "from sklearn.model_selection import train_test_split\n",
    "\n",
    "# ----------------------------------------------------------------------\n",
    "# Step 1: Convert one-hot encoded damage labels to scalar values.\n",
    "# ----------------------------------------------------------------------\n",
    "# Each sample in X_damage_augmented is a one-hot vector. We convert it to the\n",
    "# corresponding class index (i.e., 0 for undamaged, 1-13 for damage levels).\n",
    "y_augmented = np.argmax(X_damage_augmented, axis=1).astype(np.float32)\n",
    "# y_augmented now has shape (num_samples,)"
   ]
  },
  {
   "cell_type": "code",
   "execution_count": 13,
   "id": "f8f6734b",
   "metadata": {
    "execution": {
     "iopub.execute_input": "2025-02-23T11:52:04.274712Z",
     "iopub.status.busy": "2025-02-23T11:52:04.274241Z",
     "iopub.status.idle": "2025-02-23T11:52:04.279919Z",
     "shell.execute_reply": "2025-02-23T11:52:04.278977Z"
    },
    "papermill": {
     "duration": 0.015822,
     "end_time": "2025-02-23T11:52:04.281290",
     "exception": false,
     "start_time": "2025-02-23T11:52:04.265468",
     "status": "completed"
    },
    "tags": []
   },
   "outputs": [
    {
     "data": {
      "text/plain": [
       "0.0"
      ]
     },
     "execution_count": 13,
     "metadata": {},
     "output_type": "execute_result"
    }
   ],
   "source": [
    "y_augmented.min()"
   ]
  },
  {
   "cell_type": "code",
   "execution_count": 14,
   "id": "a548855a",
   "metadata": {
    "execution": {
     "iopub.execute_input": "2025-02-23T11:52:04.302579Z",
     "iopub.status.busy": "2025-02-23T11:52:04.302249Z",
     "iopub.status.idle": "2025-02-23T11:52:04.306398Z",
     "shell.execute_reply": "2025-02-23T11:52:04.305322Z"
    },
    "papermill": {
     "duration": 0.015927,
     "end_time": "2025-02-23T11:52:04.308063",
     "exception": false,
     "start_time": "2025-02-23T11:52:04.292136",
     "status": "completed"
    },
    "tags": []
   },
   "outputs": [],
   "source": [
    "# ----------------------------------------------------------------------\n",
    "# Step 2: Define the features.\n",
    "# ----------------------------------------------------------------------\n",
    "# For this regression task, we use the guided wave signals as the features.\n",
    "# (If you wish to include frequency information as additional features, you might\n",
    "# concatenate or process X_freq_augmented separately; here we assume only the signal is used.)\n",
    "X_augmented = X_signals_augmented  # shape: (num_samples, 4369, 1)"
   ]
  },
  {
   "cell_type": "code",
   "execution_count": 15,
   "id": "a4aed134",
   "metadata": {
    "execution": {
     "iopub.execute_input": "2025-02-23T11:52:04.323805Z",
     "iopub.status.busy": "2025-02-23T11:52:04.323586Z",
     "iopub.status.idle": "2025-02-23T11:52:04.352275Z",
     "shell.execute_reply": "2025-02-23T11:52:04.351414Z"
    },
    "papermill": {
     "duration": 0.038108,
     "end_time": "2025-02-23T11:52:04.353869",
     "exception": false,
     "start_time": "2025-02-23T11:52:04.315761",
     "status": "completed"
    },
    "tags": []
   },
   "outputs": [],
   "source": [
    "# ----------------------------------------------------------------------\n",
    "# Step 3: Split the data into training and test sets.\n",
    "# ----------------------------------------------------------------------\n",
    "# Here we use 80% of the data for training and 20% for testing.\n",
    "X_train, X_test, y_train, y_test = train_test_split(\n",
    "    X_augmented, y_augmented, test_size=0.1, random_state=42\n",
    ")\n"
   ]
  },
  {
   "cell_type": "code",
   "execution_count": 16,
   "id": "b5e72196",
   "metadata": {
    "execution": {
     "iopub.execute_input": "2025-02-23T11:52:04.369931Z",
     "iopub.status.busy": "2025-02-23T11:52:04.369682Z",
     "iopub.status.idle": "2025-02-23T11:52:04.374473Z",
     "shell.execute_reply": "2025-02-23T11:52:04.373645Z"
    },
    "papermill": {
     "duration": 0.01423,
     "end_time": "2025-02-23T11:52:04.375878",
     "exception": false,
     "start_time": "2025-02-23T11:52:04.361648",
     "status": "completed"
    },
    "tags": []
   },
   "outputs": [
    {
     "name": "stdout",
     "output_type": "stream",
     "text": [
      "Training data shape: (1836, 4369, 1)\n",
      "Training labels shape: (1836,)\n",
      "Test data shape: (204, 4369, 1)\n",
      "Test labels shape: (204,)\n"
     ]
    }
   ],
   "source": [
    "\n",
    "\n",
    "\n",
    "# ----------------------------------------------------------------------\n",
    "# Step 4: Verify the shapes of the datasets.\n",
    "# ----------------------------------------------------------------------\n",
    "print(f\"Training data shape: {X_train.shape}\")  # Expected: (num_train_samples, 4369, 1)\n",
    "print(f\"Training labels shape: {y_train.shape}\")  # Expected: (num_train_samples,)\n",
    "print(f\"Test data shape: {X_test.shape}\")         # Expected: (num_test_samples, 4369, 1)\n",
    "print(f\"Test labels shape: {y_test.shape}\")         # Expected: (num_test_samples,)\n"
   ]
  },
  {
   "cell_type": "code",
   "execution_count": 17,
   "id": "ab929458",
   "metadata": {
    "execution": {
     "iopub.execute_input": "2025-02-23T11:52:04.391188Z",
     "iopub.status.busy": "2025-02-23T11:52:04.390893Z",
     "iopub.status.idle": "2025-02-23T11:52:04.418663Z",
     "shell.execute_reply": "2025-02-23T11:52:04.417768Z"
    },
    "papermill": {
     "duration": 0.03696,
     "end_time": "2025-02-23T11:52:04.420001",
     "exception": false,
     "start_time": "2025-02-23T11:52:04.383041",
     "status": "completed"
    },
    "tags": []
   },
   "outputs": [
    {
     "name": "stdout",
     "output_type": "stream",
     "text": [
      "Filtered Training data shape: (1403, 4369, 1)\n",
      "Filtered Training labels shape: (1403,)\n",
      "Filtered Test data shape: (157, 4369, 1)\n",
      "Filtered Test labels shape: (157,)\n"
     ]
    }
   ],
   "source": [
    "\n",
    "# Identify indices where labels are not zero\n",
    "non_zero_indices = y_train != 0\n",
    "\n",
    "# Filter training data and labels\n",
    "X_train = X_train[non_zero_indices]\n",
    "y_train = y_train[non_zero_indices]\n",
    "\n",
    "# Identify indices where test labels are not zero\n",
    "non_zero_indices_test = y_test != 0\n",
    "\n",
    "# Filter test data and labels\n",
    "X_test = X_test[non_zero_indices_test]\n",
    "y_test = y_test[non_zero_indices_test]\n",
    "\n",
    "# Verify the new shapes\n",
    "print(f\"Filtered Training data shape: {X_train.shape}\")\n",
    "print(f\"Filtered Training labels shape: {y_train.shape}\")\n",
    "print(f\"Filtered Test data shape: {X_test.shape}\")\n",
    "print(f\"Filtered Test labels shape: {y_test.shape}\")\n"
   ]
  },
  {
   "cell_type": "code",
   "execution_count": 18,
   "id": "dc2af4f1",
   "metadata": {
    "execution": {
     "iopub.execute_input": "2025-02-23T11:52:04.435924Z",
     "iopub.status.busy": "2025-02-23T11:52:04.435620Z",
     "iopub.status.idle": "2025-02-23T11:52:04.440365Z",
     "shell.execute_reply": "2025-02-23T11:52:04.439647Z"
    },
    "papermill": {
     "duration": 0.014084,
     "end_time": "2025-02-23T11:52:04.441761",
     "exception": false,
     "start_time": "2025-02-23T11:52:04.427677",
     "status": "completed"
    },
    "tags": []
   },
   "outputs": [],
   "source": [
    "def print_label_distribution(y, set_name):\n",
    "    \"\"\"Print the distribution of labels in a dataset.\"\"\"\n",
    "    print(f\"\\n{set_name} label distribution:\")\n",
    "    print(f\"- Baseline samples (0): {np.sum(y == 0)}\")\n",
    "    for damage_size in range(1, 14):\n",
    "        print(f\"- Damage size {damage_size}: {np.sum(y == damage_size)}\")"
   ]
  },
  {
   "cell_type": "code",
   "execution_count": 19,
   "id": "07af8529",
   "metadata": {
    "execution": {
     "iopub.execute_input": "2025-02-23T11:52:04.457184Z",
     "iopub.status.busy": "2025-02-23T11:52:04.456968Z",
     "iopub.status.idle": "2025-02-23T11:52:04.465314Z",
     "shell.execute_reply": "2025-02-23T11:52:04.464639Z"
    },
    "papermill": {
     "duration": 0.017445,
     "end_time": "2025-02-23T11:52:04.466569",
     "exception": false,
     "start_time": "2025-02-23T11:52:04.449124",
     "status": "completed"
    },
    "tags": []
   },
   "outputs": [
    {
     "name": "stdout",
     "output_type": "stream",
     "text": [
      "\n",
      "Training set label distribution:\n",
      "- Baseline samples (0): 0\n",
      "- Damage size 1: 107\n",
      "- Damage size 2: 107\n",
      "- Damage size 3: 105\n",
      "- Damage size 4: 106\n",
      "- Damage size 5: 105\n",
      "- Damage size 6: 107\n",
      "- Damage size 7: 115\n",
      "- Damage size 8: 109\n",
      "- Damage size 9: 107\n",
      "- Damage size 10: 111\n",
      "- Damage size 11: 109\n",
      "- Damage size 12: 111\n",
      "- Damage size 13: 104\n",
      "\n",
      "Test set label distribution:\n",
      "- Baseline samples (0): 0\n",
      "- Damage size 1: 13\n",
      "- Damage size 2: 13\n",
      "- Damage size 3: 15\n",
      "- Damage size 4: 14\n",
      "- Damage size 5: 15\n",
      "- Damage size 6: 13\n",
      "- Damage size 7: 5\n",
      "- Damage size 8: 11\n",
      "- Damage size 9: 13\n",
      "- Damage size 10: 9\n",
      "- Damage size 11: 11\n",
      "- Damage size 12: 9\n",
      "- Damage size 13: 16\n"
     ]
    }
   ],
   "source": [
    "# Print label distribution for training and test sets\n",
    "print_label_distribution(y_train, \"Training set\")\n",
    "print_label_distribution(y_test, \"Test set\")"
   ]
  },
  {
   "cell_type": "code",
   "execution_count": 20,
   "id": "e344a3ec",
   "metadata": {
    "execution": {
     "iopub.execute_input": "2025-02-23T11:52:04.482241Z",
     "iopub.status.busy": "2025-02-23T11:52:04.481933Z",
     "iopub.status.idle": "2025-02-23T11:52:04.498045Z",
     "shell.execute_reply": "2025-02-23T11:52:04.497311Z"
    },
    "papermill": {
     "duration": 0.02551,
     "end_time": "2025-02-23T11:52:04.499529",
     "exception": false,
     "start_time": "2025-02-23T11:52:04.474019",
     "status": "completed"
    },
    "tags": []
   },
   "outputs": [],
   "source": [
    "# Convert input data to float32\n",
    "X_train = X_train.astype('float32')\n",
    "X_test = X_test.astype('float32')"
   ]
  },
  {
   "cell_type": "code",
   "execution_count": 21,
   "id": "dbf700e9",
   "metadata": {
    "execution": {
     "iopub.execute_input": "2025-02-23T11:52:04.515228Z",
     "iopub.status.busy": "2025-02-23T11:52:04.514925Z",
     "iopub.status.idle": "2025-02-23T11:52:04.519090Z",
     "shell.execute_reply": "2025-02-23T11:52:04.518366Z"
    },
    "papermill": {
     "duration": 0.013302,
     "end_time": "2025-02-23T11:52:04.520344",
     "exception": false,
     "start_time": "2025-02-23T11:52:04.507042",
     "status": "completed"
    },
    "tags": []
   },
   "outputs": [],
   "source": [
    "y_train = y_train.astype('float32')\n",
    "y_test = y_test.astype('float32')"
   ]
  },
  {
   "cell_type": "code",
   "execution_count": 22,
   "id": "6f153b74",
   "metadata": {
    "execution": {
     "iopub.execute_input": "2025-02-23T11:52:04.535796Z",
     "iopub.status.busy": "2025-02-23T11:52:04.535500Z",
     "iopub.status.idle": "2025-02-23T11:52:04.558714Z",
     "shell.execute_reply": "2025-02-23T11:52:04.557894Z"
    },
    "papermill": {
     "duration": 0.032353,
     "end_time": "2025-02-23T11:52:04.560007",
     "exception": false,
     "start_time": "2025-02-23T11:52:04.527654",
     "status": "completed"
    },
    "tags": []
   },
   "outputs": [
    {
     "name": "stdout",
     "output_type": "stream",
     "text": [
      "Min values after scaling: [-1.040155  -0.9812768 -1.        ... -0.918774  -0.9722817 -0.9399686]\n",
      "Max values after scaling: [1.0318567  0.94322634 1.         ... 0.9836663  0.9312466  1.0010613 ]\n"
     ]
    }
   ],
   "source": [
    "print(\"Min values after scaling:\", np.min(X_train, axis=(1,2)))\n",
    "print(\"Max values after scaling:\", np.max(X_train, axis=(1,2)))"
   ]
  },
  {
   "cell_type": "code",
   "execution_count": 23,
   "id": "a524cfae",
   "metadata": {
    "execution": {
     "iopub.execute_input": "2025-02-23T11:52:04.576121Z",
     "iopub.status.busy": "2025-02-23T11:52:04.575827Z",
     "iopub.status.idle": "2025-02-23T11:52:04.580681Z",
     "shell.execute_reply": "2025-02-23T11:52:04.579907Z"
    },
    "papermill": {
     "duration": 0.014321,
     "end_time": "2025-02-23T11:52:04.581891",
     "exception": false,
     "start_time": "2025-02-23T11:52:04.567570",
     "status": "completed"
    },
    "tags": []
   },
   "outputs": [
    {
     "name": "stdout",
     "output_type": "stream",
     "text": [
      "X_train dtype: float32\n",
      "y_train dtype: float32\n"
     ]
    }
   ],
   "source": [
    "print(\"X_train dtype:\", X_train.dtype)  # Should print float32\n",
    "print(\"y_train dtype:\", y_train.dtype)  # Should print float32"
   ]
  },
  {
   "cell_type": "code",
   "execution_count": 24,
   "id": "bc2dc6a5",
   "metadata": {
    "execution": {
     "iopub.execute_input": "2025-02-23T11:52:04.597619Z",
     "iopub.status.busy": "2025-02-23T11:52:04.597349Z",
     "iopub.status.idle": "2025-02-23T11:52:04.604951Z",
     "shell.execute_reply": "2025-02-23T11:52:04.604129Z"
    },
    "papermill": {
     "duration": 0.01713,
     "end_time": "2025-02-23T11:52:04.606450",
     "exception": false,
     "start_time": "2025-02-23T11:52:04.589320",
     "status": "completed"
    },
    "tags": []
   },
   "outputs": [
    {
     "name": "stdout",
     "output_type": "stream",
     "text": [
      "Before Normalizing training targets (first 5): [ 5.  3. 13.  1. 10.]\n",
      "Before Normalizing test targets (first 5): [7. 6. 1. 8. 4.]\n",
      "Normalized training targets (first 5): [0.33333334 0.16666667 1.         0.         0.75      ]\n",
      "Normalized test targets (first 5): [0.5        0.41666666 0.         0.5833333  0.25      ]\n"
     ]
    }
   ],
   "source": [
    "import numpy as np\n",
    "\n",
    "# Compute the minimum and maximum values from the training targets.\n",
    "y_min = np.min(y_train)\n",
    "y_max = np.max(y_train)\n",
    "\n",
    "# Normalize the training and test targets.\n",
    "y_train_norm = (y_train - y_min) / (y_max - y_min)\n",
    "y_test_norm = (y_test - y_min) / (y_max - y_min)\n",
    "\n",
    "\n",
    "print(\"Before Normalizing training targets (first 5):\", y_train[:5])\n",
    "print(\"Before Normalizing test targets (first 5):\", y_test[:5])\n",
    "\n",
    "print(\"Normalized training targets (first 5):\", y_train_norm[:5])\n",
    "print(\"Normalized test targets (first 5):\", y_test_norm[:5])\n"
   ]
  },
  {
   "cell_type": "markdown",
   "id": "f9e7e09b",
   "metadata": {
    "papermill": {
     "duration": 0.009415,
     "end_time": "2025-02-23T11:52:04.630244",
     "exception": false,
     "start_time": "2025-02-23T11:52:04.620829",
     "status": "completed"
    },
    "tags": []
   },
   "source": [
    "# 3. Model Architecture"
   ]
  },
  {
   "cell_type": "code",
   "execution_count": 25,
   "id": "c28d4d72",
   "metadata": {
    "execution": {
     "iopub.execute_input": "2025-02-23T11:52:04.645978Z",
     "iopub.status.busy": "2025-02-23T11:52:04.645647Z",
     "iopub.status.idle": "2025-02-23T11:52:16.016022Z",
     "shell.execute_reply": "2025-02-23T11:52:16.015022Z"
    },
    "papermill": {
     "duration": 11.380148,
     "end_time": "2025-02-23T11:52:16.017774",
     "exception": false,
     "start_time": "2025-02-23T11:52:04.637626",
     "status": "completed"
    },
    "tags": []
   },
   "outputs": [],
   "source": [
    "import tensorflow as tf\n",
    "from tensorflow.keras import layers, models"
   ]
  },
  {
   "cell_type": "code",
   "execution_count": 26,
   "id": "ee934f82",
   "metadata": {
    "execution": {
     "iopub.execute_input": "2025-02-23T11:52:16.034438Z",
     "iopub.status.busy": "2025-02-23T11:52:16.033886Z",
     "iopub.status.idle": "2025-02-23T11:52:16.037664Z",
     "shell.execute_reply": "2025-02-23T11:52:16.036978Z"
    },
    "papermill": {
     "duration": 0.013111,
     "end_time": "2025-02-23T11:52:16.038904",
     "exception": false,
     "start_time": "2025-02-23T11:52:16.025793",
     "status": "completed"
    },
    "tags": []
   },
   "outputs": [],
   "source": [
    "tf.keras.backend.set_floatx('float32')"
   ]
  },
  {
   "cell_type": "code",
   "execution_count": 27,
   "id": "4300a83e",
   "metadata": {
    "execution": {
     "iopub.execute_input": "2025-02-23T11:52:16.054811Z",
     "iopub.status.busy": "2025-02-23T11:52:16.054600Z",
     "iopub.status.idle": "2025-02-23T11:52:16.057654Z",
     "shell.execute_reply": "2025-02-23T11:52:16.057008Z"
    },
    "papermill": {
     "duration": 0.012248,
     "end_time": "2025-02-23T11:52:16.058846",
     "exception": false,
     "start_time": "2025-02-23T11:52:16.046598",
     "status": "completed"
    },
    "tags": []
   },
   "outputs": [],
   "source": [
    "import tensorflow as tf\n",
    "from tensorflow import keras\n",
    "from tensorflow.keras import layers"
   ]
  },
  {
   "cell_type": "code",
   "execution_count": 28,
   "id": "b0803ab9",
   "metadata": {
    "execution": {
     "iopub.execute_input": "2025-02-23T11:52:16.074242Z",
     "iopub.status.busy": "2025-02-23T11:52:16.074041Z",
     "iopub.status.idle": "2025-02-23T11:52:16.828682Z",
     "shell.execute_reply": "2025-02-23T11:52:16.827755Z"
    },
    "papermill": {
     "duration": 0.764016,
     "end_time": "2025-02-23T11:52:16.830221",
     "exception": false,
     "start_time": "2025-02-23T11:52:16.066205",
     "status": "completed"
    },
    "tags": []
   },
   "outputs": [],
   "source": [
    "# Multi-GPU setup\n",
    "strategy = tf.distribute.MirroredStrategy()"
   ]
  },
  {
   "cell_type": "code",
   "execution_count": 29,
   "id": "e21d0fd4",
   "metadata": {
    "execution": {
     "iopub.execute_input": "2025-02-23T11:52:16.846556Z",
     "iopub.status.busy": "2025-02-23T11:52:16.846273Z",
     "iopub.status.idle": "2025-02-23T11:52:16.850834Z",
     "shell.execute_reply": "2025-02-23T11:52:16.850187Z"
    },
    "papermill": {
     "duration": 0.013672,
     "end_time": "2025-02-23T11:52:16.851905",
     "exception": false,
     "start_time": "2025-02-23T11:52:16.838233",
     "status": "completed"
    },
    "tags": []
   },
   "outputs": [],
   "source": [
    "# Transformer Encoder block definition remains unchanged\n",
    "def transformer_encoder(inputs, head_size, num_heads, ff_dim, dropout=0):\n",
    "    # Attention and Normalization\n",
    "    x = layers.MultiHeadAttention(\n",
    "        key_dim=head_size, num_heads=num_heads, dropout=dropout\n",
    "    )(inputs, inputs)\n",
    "    x = layers.Dropout(dropout)(x)\n",
    "    x = layers.LayerNormalization(epsilon=1e-6)(x)\n",
    "    res = x + inputs\n",
    "\n",
    "    # Feed Forward part\n",
    "    x = layers.Conv1D(filters=ff_dim, kernel_size=1, activation=\"relu\")(res)\n",
    "    x = layers.Dropout(dropout)(x)\n",
    "    x = layers.Conv1D(filters=inputs.shape[-1], kernel_size=1)(x)\n",
    "    x = layers.LayerNormalization(epsilon=1e-6)(x)\n",
    "    return x + res\n"
   ]
  },
  {
   "cell_type": "code",
   "execution_count": 30,
   "id": "b4295b57",
   "metadata": {
    "execution": {
     "iopub.execute_input": "2025-02-23T11:52:16.867627Z",
     "iopub.status.busy": "2025-02-23T11:52:16.867368Z",
     "iopub.status.idle": "2025-02-23T11:52:16.872455Z",
     "shell.execute_reply": "2025-02-23T11:52:16.871831Z"
    },
    "papermill": {
     "duration": 0.014457,
     "end_time": "2025-02-23T11:52:16.873820",
     "exception": false,
     "start_time": "2025-02-23T11:52:16.859363",
     "status": "completed"
    },
    "tags": []
   },
   "outputs": [],
   "source": [
    "# Model building function adapted for regression\n",
    "def build_regression_model(\n",
    "    input_shape,\n",
    "    head_size,\n",
    "    num_heads,\n",
    "    ff_dim,\n",
    "    num_transformer_blocks,\n",
    "    mlp_units,\n",
    "    dropout=0,\n",
    "    mlp_dropout=0,\n",
    "):\n",
    "    inputs = keras.Input(shape=input_shape)\n",
    "    # Reshape the input to 3D (batch_size, 874, 1)\n",
    "    x = layers.Reshape((input_shape[0], 1))(inputs)\n",
    "    \n",
    "    # Apply multiple Transformer Encoder blocks\n",
    "    for _ in range(num_transformer_blocks):\n",
    "        x = transformer_encoder(x, head_size, num_heads, ff_dim, dropout)\n",
    "\n",
    "    # Flatten the tensor for the MLP part\n",
    "    x = layers.Flatten()(x)\n",
    "    \n",
    "    # MLP layers\n",
    "    for dim in mlp_units:\n",
    "        x = layers.Dense(dim, activation=\"relu\")(x)\n",
    "        x = layers.Dropout(mlp_dropout)(x)\n",
    "    \n",
    "    # Output layer for regression: Predict a single value.\n",
    "    # Using a sigmoid activation and scaling by 13 ensures outputs in [0, 13].\n",
    "    dense = layers.Dense(1, activation=\"sigmoid\")(x)\n",
    "    outputs = layers.Lambda(lambda x: 13 * x)(dense)\n",
    "    \n",
    "    return keras.Model(inputs, outputs)\n"
   ]
  },
  {
   "cell_type": "code",
   "execution_count": 31,
   "id": "9c8a4aa7",
   "metadata": {
    "execution": {
     "iopub.execute_input": "2025-02-23T11:52:16.889295Z",
     "iopub.status.busy": "2025-02-23T11:52:16.889091Z",
     "iopub.status.idle": "2025-02-23T11:52:18.465026Z",
     "shell.execute_reply": "2025-02-23T11:52:18.464136Z"
    },
    "papermill": {
     "duration": 1.584993,
     "end_time": "2025-02-23T11:52:18.466234",
     "exception": false,
     "start_time": "2025-02-23T11:52:16.881241",
     "status": "completed"
    },
    "tags": []
   },
   "outputs": [
    {
     "data": {
      "text/html": [
       "<pre style=\"white-space:pre;overflow-x:auto;line-height:normal;font-family:Menlo,'DejaVu Sans Mono',consolas,'Courier New',monospace\"><span style=\"font-weight: bold\">Model: \"functional\"</span>\n",
       "</pre>\n"
      ],
      "text/plain": [
       "\u001b[1mModel: \"functional\"\u001b[0m\n"
      ]
     },
     "metadata": {},
     "output_type": "display_data"
    },
    {
     "data": {
      "text/html": [
       "<pre style=\"white-space:pre;overflow-x:auto;line-height:normal;font-family:Menlo,'DejaVu Sans Mono',consolas,'Courier New',monospace\">┏━━━━━━━━━━━━━━━━━━━━━━━━━━━┳━━━━━━━━━━━━━━━━━━━━━━━━┳━━━━━━━━━━━━━━━━┳━━━━━━━━━━━━━━━━━━━━━━━━┓\n",
       "┃<span style=\"font-weight: bold\"> Layer (type)              </span>┃<span style=\"font-weight: bold\"> Output Shape           </span>┃<span style=\"font-weight: bold\">        Param # </span>┃<span style=\"font-weight: bold\"> Connected to           </span>┃\n",
       "┡━━━━━━━━━━━━━━━━━━━━━━━━━━━╇━━━━━━━━━━━━━━━━━━━━━━━━╇━━━━━━━━━━━━━━━━╇━━━━━━━━━━━━━━━━━━━━━━━━┩\n",
       "│ input_layer (<span style=\"color: #0087ff; text-decoration-color: #0087ff\">InputLayer</span>)  │ (<span style=\"color: #00d7ff; text-decoration-color: #00d7ff\">None</span>, <span style=\"color: #00af00; text-decoration-color: #00af00\">874</span>)            │              <span style=\"color: #00af00; text-decoration-color: #00af00\">0</span> │ -                      │\n",
       "├───────────────────────────┼────────────────────────┼────────────────┼────────────────────────┤\n",
       "│ reshape (<span style=\"color: #0087ff; text-decoration-color: #0087ff\">Reshape</span>)         │ (<span style=\"color: #00d7ff; text-decoration-color: #00d7ff\">None</span>, <span style=\"color: #00af00; text-decoration-color: #00af00\">874</span>, <span style=\"color: #00af00; text-decoration-color: #00af00\">1</span>)         │              <span style=\"color: #00af00; text-decoration-color: #00af00\">0</span> │ input_layer[<span style=\"color: #00af00; text-decoration-color: #00af00\">0</span>][<span style=\"color: #00af00; text-decoration-color: #00af00\">0</span>]      │\n",
       "├───────────────────────────┼────────────────────────┼────────────────┼────────────────────────┤\n",
       "│ multi_head_attention      │ (<span style=\"color: #00d7ff; text-decoration-color: #00d7ff\">None</span>, <span style=\"color: #00af00; text-decoration-color: #00af00\">874</span>, <span style=\"color: #00af00; text-decoration-color: #00af00\">1</span>)         │         <span style=\"color: #00af00; text-decoration-color: #00af00\">28,673</span> │ reshape[<span style=\"color: #00af00; text-decoration-color: #00af00\">0</span>][<span style=\"color: #00af00; text-decoration-color: #00af00\">0</span>],         │\n",
       "│ (<span style=\"color: #0087ff; text-decoration-color: #0087ff\">MultiHeadAttention</span>)      │                        │                │ reshape[<span style=\"color: #00af00; text-decoration-color: #00af00\">0</span>][<span style=\"color: #00af00; text-decoration-color: #00af00\">0</span>]          │\n",
       "├───────────────────────────┼────────────────────────┼────────────────┼────────────────────────┤\n",
       "│ dropout_1 (<span style=\"color: #0087ff; text-decoration-color: #0087ff\">Dropout</span>)       │ (<span style=\"color: #00d7ff; text-decoration-color: #00d7ff\">None</span>, <span style=\"color: #00af00; text-decoration-color: #00af00\">874</span>, <span style=\"color: #00af00; text-decoration-color: #00af00\">1</span>)         │              <span style=\"color: #00af00; text-decoration-color: #00af00\">0</span> │ multi_head_attention[<span style=\"color: #00af00; text-decoration-color: #00af00\">…</span> │\n",
       "├───────────────────────────┼────────────────────────┼────────────────┼────────────────────────┤\n",
       "│ layer_normalization       │ (<span style=\"color: #00d7ff; text-decoration-color: #00d7ff\">None</span>, <span style=\"color: #00af00; text-decoration-color: #00af00\">874</span>, <span style=\"color: #00af00; text-decoration-color: #00af00\">1</span>)         │              <span style=\"color: #00af00; text-decoration-color: #00af00\">2</span> │ dropout_1[<span style=\"color: #00af00; text-decoration-color: #00af00\">0</span>][<span style=\"color: #00af00; text-decoration-color: #00af00\">0</span>]        │\n",
       "│ (<span style=\"color: #0087ff; text-decoration-color: #0087ff\">LayerNormalization</span>)      │                        │                │                        │\n",
       "├───────────────────────────┼────────────────────────┼────────────────┼────────────────────────┤\n",
       "│ add (<span style=\"color: #0087ff; text-decoration-color: #0087ff\">Add</span>)                 │ (<span style=\"color: #00d7ff; text-decoration-color: #00d7ff\">None</span>, <span style=\"color: #00af00; text-decoration-color: #00af00\">874</span>, <span style=\"color: #00af00; text-decoration-color: #00af00\">1</span>)         │              <span style=\"color: #00af00; text-decoration-color: #00af00\">0</span> │ layer_normalization[<span style=\"color: #00af00; text-decoration-color: #00af00\">0</span>… │\n",
       "│                           │                        │                │ reshape[<span style=\"color: #00af00; text-decoration-color: #00af00\">0</span>][<span style=\"color: #00af00; text-decoration-color: #00af00\">0</span>]          │\n",
       "├───────────────────────────┼────────────────────────┼────────────────┼────────────────────────┤\n",
       "│ conv1d (<span style=\"color: #0087ff; text-decoration-color: #0087ff\">Conv1D</span>)           │ (<span style=\"color: #00d7ff; text-decoration-color: #00d7ff\">None</span>, <span style=\"color: #00af00; text-decoration-color: #00af00\">874</span>, <span style=\"color: #00af00; text-decoration-color: #00af00\">128</span>)       │            <span style=\"color: #00af00; text-decoration-color: #00af00\">256</span> │ add[<span style=\"color: #00af00; text-decoration-color: #00af00\">0</span>][<span style=\"color: #00af00; text-decoration-color: #00af00\">0</span>]              │\n",
       "├───────────────────────────┼────────────────────────┼────────────────┼────────────────────────┤\n",
       "│ dropout_2 (<span style=\"color: #0087ff; text-decoration-color: #0087ff\">Dropout</span>)       │ (<span style=\"color: #00d7ff; text-decoration-color: #00d7ff\">None</span>, <span style=\"color: #00af00; text-decoration-color: #00af00\">874</span>, <span style=\"color: #00af00; text-decoration-color: #00af00\">128</span>)       │              <span style=\"color: #00af00; text-decoration-color: #00af00\">0</span> │ conv1d[<span style=\"color: #00af00; text-decoration-color: #00af00\">0</span>][<span style=\"color: #00af00; text-decoration-color: #00af00\">0</span>]           │\n",
       "├───────────────────────────┼────────────────────────┼────────────────┼────────────────────────┤\n",
       "│ conv1d_1 (<span style=\"color: #0087ff; text-decoration-color: #0087ff\">Conv1D</span>)         │ (<span style=\"color: #00d7ff; text-decoration-color: #00d7ff\">None</span>, <span style=\"color: #00af00; text-decoration-color: #00af00\">874</span>, <span style=\"color: #00af00; text-decoration-color: #00af00\">1</span>)         │            <span style=\"color: #00af00; text-decoration-color: #00af00\">129</span> │ dropout_2[<span style=\"color: #00af00; text-decoration-color: #00af00\">0</span>][<span style=\"color: #00af00; text-decoration-color: #00af00\">0</span>]        │\n",
       "├───────────────────────────┼────────────────────────┼────────────────┼────────────────────────┤\n",
       "│ layer_normalization_1     │ (<span style=\"color: #00d7ff; text-decoration-color: #00d7ff\">None</span>, <span style=\"color: #00af00; text-decoration-color: #00af00\">874</span>, <span style=\"color: #00af00; text-decoration-color: #00af00\">1</span>)         │              <span style=\"color: #00af00; text-decoration-color: #00af00\">2</span> │ conv1d_1[<span style=\"color: #00af00; text-decoration-color: #00af00\">0</span>][<span style=\"color: #00af00; text-decoration-color: #00af00\">0</span>]         │\n",
       "│ (<span style=\"color: #0087ff; text-decoration-color: #0087ff\">LayerNormalization</span>)      │                        │                │                        │\n",
       "├───────────────────────────┼────────────────────────┼────────────────┼────────────────────────┤\n",
       "│ add_1 (<span style=\"color: #0087ff; text-decoration-color: #0087ff\">Add</span>)               │ (<span style=\"color: #00d7ff; text-decoration-color: #00d7ff\">None</span>, <span style=\"color: #00af00; text-decoration-color: #00af00\">874</span>, <span style=\"color: #00af00; text-decoration-color: #00af00\">1</span>)         │              <span style=\"color: #00af00; text-decoration-color: #00af00\">0</span> │ layer_normalization_1… │\n",
       "│                           │                        │                │ add[<span style=\"color: #00af00; text-decoration-color: #00af00\">0</span>][<span style=\"color: #00af00; text-decoration-color: #00af00\">0</span>]              │\n",
       "├───────────────────────────┼────────────────────────┼────────────────┼────────────────────────┤\n",
       "│ multi_head_attention_1    │ (<span style=\"color: #00d7ff; text-decoration-color: #00d7ff\">None</span>, <span style=\"color: #00af00; text-decoration-color: #00af00\">874</span>, <span style=\"color: #00af00; text-decoration-color: #00af00\">1</span>)         │         <span style=\"color: #00af00; text-decoration-color: #00af00\">28,673</span> │ add_1[<span style=\"color: #00af00; text-decoration-color: #00af00\">0</span>][<span style=\"color: #00af00; text-decoration-color: #00af00\">0</span>],           │\n",
       "│ (<span style=\"color: #0087ff; text-decoration-color: #0087ff\">MultiHeadAttention</span>)      │                        │                │ add_1[<span style=\"color: #00af00; text-decoration-color: #00af00\">0</span>][<span style=\"color: #00af00; text-decoration-color: #00af00\">0</span>]            │\n",
       "├───────────────────────────┼────────────────────────┼────────────────┼────────────────────────┤\n",
       "│ dropout_4 (<span style=\"color: #0087ff; text-decoration-color: #0087ff\">Dropout</span>)       │ (<span style=\"color: #00d7ff; text-decoration-color: #00d7ff\">None</span>, <span style=\"color: #00af00; text-decoration-color: #00af00\">874</span>, <span style=\"color: #00af00; text-decoration-color: #00af00\">1</span>)         │              <span style=\"color: #00af00; text-decoration-color: #00af00\">0</span> │ multi_head_attention_… │\n",
       "├───────────────────────────┼────────────────────────┼────────────────┼────────────────────────┤\n",
       "│ layer_normalization_2     │ (<span style=\"color: #00d7ff; text-decoration-color: #00d7ff\">None</span>, <span style=\"color: #00af00; text-decoration-color: #00af00\">874</span>, <span style=\"color: #00af00; text-decoration-color: #00af00\">1</span>)         │              <span style=\"color: #00af00; text-decoration-color: #00af00\">2</span> │ dropout_4[<span style=\"color: #00af00; text-decoration-color: #00af00\">0</span>][<span style=\"color: #00af00; text-decoration-color: #00af00\">0</span>]        │\n",
       "│ (<span style=\"color: #0087ff; text-decoration-color: #0087ff\">LayerNormalization</span>)      │                        │                │                        │\n",
       "├───────────────────────────┼────────────────────────┼────────────────┼────────────────────────┤\n",
       "│ add_2 (<span style=\"color: #0087ff; text-decoration-color: #0087ff\">Add</span>)               │ (<span style=\"color: #00d7ff; text-decoration-color: #00d7ff\">None</span>, <span style=\"color: #00af00; text-decoration-color: #00af00\">874</span>, <span style=\"color: #00af00; text-decoration-color: #00af00\">1</span>)         │              <span style=\"color: #00af00; text-decoration-color: #00af00\">0</span> │ layer_normalization_2… │\n",
       "│                           │                        │                │ add_1[<span style=\"color: #00af00; text-decoration-color: #00af00\">0</span>][<span style=\"color: #00af00; text-decoration-color: #00af00\">0</span>]            │\n",
       "├───────────────────────────┼────────────────────────┼────────────────┼────────────────────────┤\n",
       "│ conv1d_2 (<span style=\"color: #0087ff; text-decoration-color: #0087ff\">Conv1D</span>)         │ (<span style=\"color: #00d7ff; text-decoration-color: #00d7ff\">None</span>, <span style=\"color: #00af00; text-decoration-color: #00af00\">874</span>, <span style=\"color: #00af00; text-decoration-color: #00af00\">128</span>)       │            <span style=\"color: #00af00; text-decoration-color: #00af00\">256</span> │ add_2[<span style=\"color: #00af00; text-decoration-color: #00af00\">0</span>][<span style=\"color: #00af00; text-decoration-color: #00af00\">0</span>]            │\n",
       "├───────────────────────────┼────────────────────────┼────────────────┼────────────────────────┤\n",
       "│ dropout_5 (<span style=\"color: #0087ff; text-decoration-color: #0087ff\">Dropout</span>)       │ (<span style=\"color: #00d7ff; text-decoration-color: #00d7ff\">None</span>, <span style=\"color: #00af00; text-decoration-color: #00af00\">874</span>, <span style=\"color: #00af00; text-decoration-color: #00af00\">128</span>)       │              <span style=\"color: #00af00; text-decoration-color: #00af00\">0</span> │ conv1d_2[<span style=\"color: #00af00; text-decoration-color: #00af00\">0</span>][<span style=\"color: #00af00; text-decoration-color: #00af00\">0</span>]         │\n",
       "├───────────────────────────┼────────────────────────┼────────────────┼────────────────────────┤\n",
       "│ conv1d_3 (<span style=\"color: #0087ff; text-decoration-color: #0087ff\">Conv1D</span>)         │ (<span style=\"color: #00d7ff; text-decoration-color: #00d7ff\">None</span>, <span style=\"color: #00af00; text-decoration-color: #00af00\">874</span>, <span style=\"color: #00af00; text-decoration-color: #00af00\">1</span>)         │            <span style=\"color: #00af00; text-decoration-color: #00af00\">129</span> │ dropout_5[<span style=\"color: #00af00; text-decoration-color: #00af00\">0</span>][<span style=\"color: #00af00; text-decoration-color: #00af00\">0</span>]        │\n",
       "├───────────────────────────┼────────────────────────┼────────────────┼────────────────────────┤\n",
       "│ layer_normalization_3     │ (<span style=\"color: #00d7ff; text-decoration-color: #00d7ff\">None</span>, <span style=\"color: #00af00; text-decoration-color: #00af00\">874</span>, <span style=\"color: #00af00; text-decoration-color: #00af00\">1</span>)         │              <span style=\"color: #00af00; text-decoration-color: #00af00\">2</span> │ conv1d_3[<span style=\"color: #00af00; text-decoration-color: #00af00\">0</span>][<span style=\"color: #00af00; text-decoration-color: #00af00\">0</span>]         │\n",
       "│ (<span style=\"color: #0087ff; text-decoration-color: #0087ff\">LayerNormalization</span>)      │                        │                │                        │\n",
       "├───────────────────────────┼────────────────────────┼────────────────┼────────────────────────┤\n",
       "│ add_3 (<span style=\"color: #0087ff; text-decoration-color: #0087ff\">Add</span>)               │ (<span style=\"color: #00d7ff; text-decoration-color: #00d7ff\">None</span>, <span style=\"color: #00af00; text-decoration-color: #00af00\">874</span>, <span style=\"color: #00af00; text-decoration-color: #00af00\">1</span>)         │              <span style=\"color: #00af00; text-decoration-color: #00af00\">0</span> │ layer_normalization_3… │\n",
       "│                           │                        │                │ add_2[<span style=\"color: #00af00; text-decoration-color: #00af00\">0</span>][<span style=\"color: #00af00; text-decoration-color: #00af00\">0</span>]            │\n",
       "├───────────────────────────┼────────────────────────┼────────────────┼────────────────────────┤\n",
       "│ multi_head_attention_2    │ (<span style=\"color: #00d7ff; text-decoration-color: #00d7ff\">None</span>, <span style=\"color: #00af00; text-decoration-color: #00af00\">874</span>, <span style=\"color: #00af00; text-decoration-color: #00af00\">1</span>)         │         <span style=\"color: #00af00; text-decoration-color: #00af00\">28,673</span> │ add_3[<span style=\"color: #00af00; text-decoration-color: #00af00\">0</span>][<span style=\"color: #00af00; text-decoration-color: #00af00\">0</span>],           │\n",
       "│ (<span style=\"color: #0087ff; text-decoration-color: #0087ff\">MultiHeadAttention</span>)      │                        │                │ add_3[<span style=\"color: #00af00; text-decoration-color: #00af00\">0</span>][<span style=\"color: #00af00; text-decoration-color: #00af00\">0</span>]            │\n",
       "├───────────────────────────┼────────────────────────┼────────────────┼────────────────────────┤\n",
       "│ dropout_7 (<span style=\"color: #0087ff; text-decoration-color: #0087ff\">Dropout</span>)       │ (<span style=\"color: #00d7ff; text-decoration-color: #00d7ff\">None</span>, <span style=\"color: #00af00; text-decoration-color: #00af00\">874</span>, <span style=\"color: #00af00; text-decoration-color: #00af00\">1</span>)         │              <span style=\"color: #00af00; text-decoration-color: #00af00\">0</span> │ multi_head_attention_… │\n",
       "├───────────────────────────┼────────────────────────┼────────────────┼────────────────────────┤\n",
       "│ layer_normalization_4     │ (<span style=\"color: #00d7ff; text-decoration-color: #00d7ff\">None</span>, <span style=\"color: #00af00; text-decoration-color: #00af00\">874</span>, <span style=\"color: #00af00; text-decoration-color: #00af00\">1</span>)         │              <span style=\"color: #00af00; text-decoration-color: #00af00\">2</span> │ dropout_7[<span style=\"color: #00af00; text-decoration-color: #00af00\">0</span>][<span style=\"color: #00af00; text-decoration-color: #00af00\">0</span>]        │\n",
       "│ (<span style=\"color: #0087ff; text-decoration-color: #0087ff\">LayerNormalization</span>)      │                        │                │                        │\n",
       "├───────────────────────────┼────────────────────────┼────────────────┼────────────────────────┤\n",
       "│ add_4 (<span style=\"color: #0087ff; text-decoration-color: #0087ff\">Add</span>)               │ (<span style=\"color: #00d7ff; text-decoration-color: #00d7ff\">None</span>, <span style=\"color: #00af00; text-decoration-color: #00af00\">874</span>, <span style=\"color: #00af00; text-decoration-color: #00af00\">1</span>)         │              <span style=\"color: #00af00; text-decoration-color: #00af00\">0</span> │ layer_normalization_4… │\n",
       "│                           │                        │                │ add_3[<span style=\"color: #00af00; text-decoration-color: #00af00\">0</span>][<span style=\"color: #00af00; text-decoration-color: #00af00\">0</span>]            │\n",
       "├───────────────────────────┼────────────────────────┼────────────────┼────────────────────────┤\n",
       "│ conv1d_4 (<span style=\"color: #0087ff; text-decoration-color: #0087ff\">Conv1D</span>)         │ (<span style=\"color: #00d7ff; text-decoration-color: #00d7ff\">None</span>, <span style=\"color: #00af00; text-decoration-color: #00af00\">874</span>, <span style=\"color: #00af00; text-decoration-color: #00af00\">128</span>)       │            <span style=\"color: #00af00; text-decoration-color: #00af00\">256</span> │ add_4[<span style=\"color: #00af00; text-decoration-color: #00af00\">0</span>][<span style=\"color: #00af00; text-decoration-color: #00af00\">0</span>]            │\n",
       "├───────────────────────────┼────────────────────────┼────────────────┼────────────────────────┤\n",
       "│ dropout_8 (<span style=\"color: #0087ff; text-decoration-color: #0087ff\">Dropout</span>)       │ (<span style=\"color: #00d7ff; text-decoration-color: #00d7ff\">None</span>, <span style=\"color: #00af00; text-decoration-color: #00af00\">874</span>, <span style=\"color: #00af00; text-decoration-color: #00af00\">128</span>)       │              <span style=\"color: #00af00; text-decoration-color: #00af00\">0</span> │ conv1d_4[<span style=\"color: #00af00; text-decoration-color: #00af00\">0</span>][<span style=\"color: #00af00; text-decoration-color: #00af00\">0</span>]         │\n",
       "├───────────────────────────┼────────────────────────┼────────────────┼────────────────────────┤\n",
       "│ conv1d_5 (<span style=\"color: #0087ff; text-decoration-color: #0087ff\">Conv1D</span>)         │ (<span style=\"color: #00d7ff; text-decoration-color: #00d7ff\">None</span>, <span style=\"color: #00af00; text-decoration-color: #00af00\">874</span>, <span style=\"color: #00af00; text-decoration-color: #00af00\">1</span>)         │            <span style=\"color: #00af00; text-decoration-color: #00af00\">129</span> │ dropout_8[<span style=\"color: #00af00; text-decoration-color: #00af00\">0</span>][<span style=\"color: #00af00; text-decoration-color: #00af00\">0</span>]        │\n",
       "├───────────────────────────┼────────────────────────┼────────────────┼────────────────────────┤\n",
       "│ layer_normalization_5     │ (<span style=\"color: #00d7ff; text-decoration-color: #00d7ff\">None</span>, <span style=\"color: #00af00; text-decoration-color: #00af00\">874</span>, <span style=\"color: #00af00; text-decoration-color: #00af00\">1</span>)         │              <span style=\"color: #00af00; text-decoration-color: #00af00\">2</span> │ conv1d_5[<span style=\"color: #00af00; text-decoration-color: #00af00\">0</span>][<span style=\"color: #00af00; text-decoration-color: #00af00\">0</span>]         │\n",
       "│ (<span style=\"color: #0087ff; text-decoration-color: #0087ff\">LayerNormalization</span>)      │                        │                │                        │\n",
       "├───────────────────────────┼────────────────────────┼────────────────┼────────────────────────┤\n",
       "│ add_5 (<span style=\"color: #0087ff; text-decoration-color: #0087ff\">Add</span>)               │ (<span style=\"color: #00d7ff; text-decoration-color: #00d7ff\">None</span>, <span style=\"color: #00af00; text-decoration-color: #00af00\">874</span>, <span style=\"color: #00af00; text-decoration-color: #00af00\">1</span>)         │              <span style=\"color: #00af00; text-decoration-color: #00af00\">0</span> │ layer_normalization_5… │\n",
       "│                           │                        │                │ add_4[<span style=\"color: #00af00; text-decoration-color: #00af00\">0</span>][<span style=\"color: #00af00; text-decoration-color: #00af00\">0</span>]            │\n",
       "├───────────────────────────┼────────────────────────┼────────────────┼────────────────────────┤\n",
       "│ multi_head_attention_3    │ (<span style=\"color: #00d7ff; text-decoration-color: #00d7ff\">None</span>, <span style=\"color: #00af00; text-decoration-color: #00af00\">874</span>, <span style=\"color: #00af00; text-decoration-color: #00af00\">1</span>)         │         <span style=\"color: #00af00; text-decoration-color: #00af00\">28,673</span> │ add_5[<span style=\"color: #00af00; text-decoration-color: #00af00\">0</span>][<span style=\"color: #00af00; text-decoration-color: #00af00\">0</span>],           │\n",
       "│ (<span style=\"color: #0087ff; text-decoration-color: #0087ff\">MultiHeadAttention</span>)      │                        │                │ add_5[<span style=\"color: #00af00; text-decoration-color: #00af00\">0</span>][<span style=\"color: #00af00; text-decoration-color: #00af00\">0</span>]            │\n",
       "├───────────────────────────┼────────────────────────┼────────────────┼────────────────────────┤\n",
       "│ dropout_10 (<span style=\"color: #0087ff; text-decoration-color: #0087ff\">Dropout</span>)      │ (<span style=\"color: #00d7ff; text-decoration-color: #00d7ff\">None</span>, <span style=\"color: #00af00; text-decoration-color: #00af00\">874</span>, <span style=\"color: #00af00; text-decoration-color: #00af00\">1</span>)         │              <span style=\"color: #00af00; text-decoration-color: #00af00\">0</span> │ multi_head_attention_… │\n",
       "├───────────────────────────┼────────────────────────┼────────────────┼────────────────────────┤\n",
       "│ layer_normalization_6     │ (<span style=\"color: #00d7ff; text-decoration-color: #00d7ff\">None</span>, <span style=\"color: #00af00; text-decoration-color: #00af00\">874</span>, <span style=\"color: #00af00; text-decoration-color: #00af00\">1</span>)         │              <span style=\"color: #00af00; text-decoration-color: #00af00\">2</span> │ dropout_10[<span style=\"color: #00af00; text-decoration-color: #00af00\">0</span>][<span style=\"color: #00af00; text-decoration-color: #00af00\">0</span>]       │\n",
       "│ (<span style=\"color: #0087ff; text-decoration-color: #0087ff\">LayerNormalization</span>)      │                        │                │                        │\n",
       "├───────────────────────────┼────────────────────────┼────────────────┼────────────────────────┤\n",
       "│ add_6 (<span style=\"color: #0087ff; text-decoration-color: #0087ff\">Add</span>)               │ (<span style=\"color: #00d7ff; text-decoration-color: #00d7ff\">None</span>, <span style=\"color: #00af00; text-decoration-color: #00af00\">874</span>, <span style=\"color: #00af00; text-decoration-color: #00af00\">1</span>)         │              <span style=\"color: #00af00; text-decoration-color: #00af00\">0</span> │ layer_normalization_6… │\n",
       "│                           │                        │                │ add_5[<span style=\"color: #00af00; text-decoration-color: #00af00\">0</span>][<span style=\"color: #00af00; text-decoration-color: #00af00\">0</span>]            │\n",
       "├───────────────────────────┼────────────────────────┼────────────────┼────────────────────────┤\n",
       "│ conv1d_6 (<span style=\"color: #0087ff; text-decoration-color: #0087ff\">Conv1D</span>)         │ (<span style=\"color: #00d7ff; text-decoration-color: #00d7ff\">None</span>, <span style=\"color: #00af00; text-decoration-color: #00af00\">874</span>, <span style=\"color: #00af00; text-decoration-color: #00af00\">128</span>)       │            <span style=\"color: #00af00; text-decoration-color: #00af00\">256</span> │ add_6[<span style=\"color: #00af00; text-decoration-color: #00af00\">0</span>][<span style=\"color: #00af00; text-decoration-color: #00af00\">0</span>]            │\n",
       "├───────────────────────────┼────────────────────────┼────────────────┼────────────────────────┤\n",
       "│ dropout_11 (<span style=\"color: #0087ff; text-decoration-color: #0087ff\">Dropout</span>)      │ (<span style=\"color: #00d7ff; text-decoration-color: #00d7ff\">None</span>, <span style=\"color: #00af00; text-decoration-color: #00af00\">874</span>, <span style=\"color: #00af00; text-decoration-color: #00af00\">128</span>)       │              <span style=\"color: #00af00; text-decoration-color: #00af00\">0</span> │ conv1d_6[<span style=\"color: #00af00; text-decoration-color: #00af00\">0</span>][<span style=\"color: #00af00; text-decoration-color: #00af00\">0</span>]         │\n",
       "├───────────────────────────┼────────────────────────┼────────────────┼────────────────────────┤\n",
       "│ conv1d_7 (<span style=\"color: #0087ff; text-decoration-color: #0087ff\">Conv1D</span>)         │ (<span style=\"color: #00d7ff; text-decoration-color: #00d7ff\">None</span>, <span style=\"color: #00af00; text-decoration-color: #00af00\">874</span>, <span style=\"color: #00af00; text-decoration-color: #00af00\">1</span>)         │            <span style=\"color: #00af00; text-decoration-color: #00af00\">129</span> │ dropout_11[<span style=\"color: #00af00; text-decoration-color: #00af00\">0</span>][<span style=\"color: #00af00; text-decoration-color: #00af00\">0</span>]       │\n",
       "├───────────────────────────┼────────────────────────┼────────────────┼────────────────────────┤\n",
       "│ layer_normalization_7     │ (<span style=\"color: #00d7ff; text-decoration-color: #00d7ff\">None</span>, <span style=\"color: #00af00; text-decoration-color: #00af00\">874</span>, <span style=\"color: #00af00; text-decoration-color: #00af00\">1</span>)         │              <span style=\"color: #00af00; text-decoration-color: #00af00\">2</span> │ conv1d_7[<span style=\"color: #00af00; text-decoration-color: #00af00\">0</span>][<span style=\"color: #00af00; text-decoration-color: #00af00\">0</span>]         │\n",
       "│ (<span style=\"color: #0087ff; text-decoration-color: #0087ff\">LayerNormalization</span>)      │                        │                │                        │\n",
       "├───────────────────────────┼────────────────────────┼────────────────┼────────────────────────┤\n",
       "│ add_7 (<span style=\"color: #0087ff; text-decoration-color: #0087ff\">Add</span>)               │ (<span style=\"color: #00d7ff; text-decoration-color: #00d7ff\">None</span>, <span style=\"color: #00af00; text-decoration-color: #00af00\">874</span>, <span style=\"color: #00af00; text-decoration-color: #00af00\">1</span>)         │              <span style=\"color: #00af00; text-decoration-color: #00af00\">0</span> │ layer_normalization_7… │\n",
       "│                           │                        │                │ add_6[<span style=\"color: #00af00; text-decoration-color: #00af00\">0</span>][<span style=\"color: #00af00; text-decoration-color: #00af00\">0</span>]            │\n",
       "├───────────────────────────┼────────────────────────┼────────────────┼────────────────────────┤\n",
       "│ flatten (<span style=\"color: #0087ff; text-decoration-color: #0087ff\">Flatten</span>)         │ (<span style=\"color: #00d7ff; text-decoration-color: #00d7ff\">None</span>, <span style=\"color: #00af00; text-decoration-color: #00af00\">874</span>)            │              <span style=\"color: #00af00; text-decoration-color: #00af00\">0</span> │ add_7[<span style=\"color: #00af00; text-decoration-color: #00af00\">0</span>][<span style=\"color: #00af00; text-decoration-color: #00af00\">0</span>]            │\n",
       "├───────────────────────────┼────────────────────────┼────────────────┼────────────────────────┤\n",
       "│ dense (<span style=\"color: #0087ff; text-decoration-color: #0087ff\">Dense</span>)             │ (<span style=\"color: #00d7ff; text-decoration-color: #00d7ff\">None</span>, <span style=\"color: #00af00; text-decoration-color: #00af00\">256</span>)            │        <span style=\"color: #00af00; text-decoration-color: #00af00\">224,000</span> │ flatten[<span style=\"color: #00af00; text-decoration-color: #00af00\">0</span>][<span style=\"color: #00af00; text-decoration-color: #00af00\">0</span>]          │\n",
       "├───────────────────────────┼────────────────────────┼────────────────┼────────────────────────┤\n",
       "│ dropout_12 (<span style=\"color: #0087ff; text-decoration-color: #0087ff\">Dropout</span>)      │ (<span style=\"color: #00d7ff; text-decoration-color: #00d7ff\">None</span>, <span style=\"color: #00af00; text-decoration-color: #00af00\">256</span>)            │              <span style=\"color: #00af00; text-decoration-color: #00af00\">0</span> │ dense[<span style=\"color: #00af00; text-decoration-color: #00af00\">0</span>][<span style=\"color: #00af00; text-decoration-color: #00af00\">0</span>]            │\n",
       "├───────────────────────────┼────────────────────────┼────────────────┼────────────────────────┤\n",
       "│ dense_1 (<span style=\"color: #0087ff; text-decoration-color: #0087ff\">Dense</span>)           │ (<span style=\"color: #00d7ff; text-decoration-color: #00d7ff\">None</span>, <span style=\"color: #00af00; text-decoration-color: #00af00\">1</span>)              │            <span style=\"color: #00af00; text-decoration-color: #00af00\">257</span> │ dropout_12[<span style=\"color: #00af00; text-decoration-color: #00af00\">0</span>][<span style=\"color: #00af00; text-decoration-color: #00af00\">0</span>]       │\n",
       "├───────────────────────────┼────────────────────────┼────────────────┼────────────────────────┤\n",
       "│ lambda (<span style=\"color: #0087ff; text-decoration-color: #0087ff\">Lambda</span>)           │ (<span style=\"color: #00d7ff; text-decoration-color: #00d7ff\">None</span>, <span style=\"color: #00af00; text-decoration-color: #00af00\">1</span>)              │              <span style=\"color: #00af00; text-decoration-color: #00af00\">0</span> │ dense_1[<span style=\"color: #00af00; text-decoration-color: #00af00\">0</span>][<span style=\"color: #00af00; text-decoration-color: #00af00\">0</span>]          │\n",
       "└───────────────────────────┴────────────────────────┴────────────────┴────────────────────────┘\n",
       "</pre>\n"
      ],
      "text/plain": [
       "┏━━━━━━━━━━━━━━━━━━━━━━━━━━━┳━━━━━━━━━━━━━━━━━━━━━━━━┳━━━━━━━━━━━━━━━━┳━━━━━━━━━━━━━━━━━━━━━━━━┓\n",
       "┃\u001b[1m \u001b[0m\u001b[1mLayer (type)             \u001b[0m\u001b[1m \u001b[0m┃\u001b[1m \u001b[0m\u001b[1mOutput Shape          \u001b[0m\u001b[1m \u001b[0m┃\u001b[1m \u001b[0m\u001b[1m       Param #\u001b[0m\u001b[1m \u001b[0m┃\u001b[1m \u001b[0m\u001b[1mConnected to          \u001b[0m\u001b[1m \u001b[0m┃\n",
       "┡━━━━━━━━━━━━━━━━━━━━━━━━━━━╇━━━━━━━━━━━━━━━━━━━━━━━━╇━━━━━━━━━━━━━━━━╇━━━━━━━━━━━━━━━━━━━━━━━━┩\n",
       "│ input_layer (\u001b[38;5;33mInputLayer\u001b[0m)  │ (\u001b[38;5;45mNone\u001b[0m, \u001b[38;5;34m874\u001b[0m)            │              \u001b[38;5;34m0\u001b[0m │ -                      │\n",
       "├───────────────────────────┼────────────────────────┼────────────────┼────────────────────────┤\n",
       "│ reshape (\u001b[38;5;33mReshape\u001b[0m)         │ (\u001b[38;5;45mNone\u001b[0m, \u001b[38;5;34m874\u001b[0m, \u001b[38;5;34m1\u001b[0m)         │              \u001b[38;5;34m0\u001b[0m │ input_layer[\u001b[38;5;34m0\u001b[0m][\u001b[38;5;34m0\u001b[0m]      │\n",
       "├───────────────────────────┼────────────────────────┼────────────────┼────────────────────────┤\n",
       "│ multi_head_attention      │ (\u001b[38;5;45mNone\u001b[0m, \u001b[38;5;34m874\u001b[0m, \u001b[38;5;34m1\u001b[0m)         │         \u001b[38;5;34m28,673\u001b[0m │ reshape[\u001b[38;5;34m0\u001b[0m][\u001b[38;5;34m0\u001b[0m],         │\n",
       "│ (\u001b[38;5;33mMultiHeadAttention\u001b[0m)      │                        │                │ reshape[\u001b[38;5;34m0\u001b[0m][\u001b[38;5;34m0\u001b[0m]          │\n",
       "├───────────────────────────┼────────────────────────┼────────────────┼────────────────────────┤\n",
       "│ dropout_1 (\u001b[38;5;33mDropout\u001b[0m)       │ (\u001b[38;5;45mNone\u001b[0m, \u001b[38;5;34m874\u001b[0m, \u001b[38;5;34m1\u001b[0m)         │              \u001b[38;5;34m0\u001b[0m │ multi_head_attention[\u001b[38;5;34m…\u001b[0m │\n",
       "├───────────────────────────┼────────────────────────┼────────────────┼────────────────────────┤\n",
       "│ layer_normalization       │ (\u001b[38;5;45mNone\u001b[0m, \u001b[38;5;34m874\u001b[0m, \u001b[38;5;34m1\u001b[0m)         │              \u001b[38;5;34m2\u001b[0m │ dropout_1[\u001b[38;5;34m0\u001b[0m][\u001b[38;5;34m0\u001b[0m]        │\n",
       "│ (\u001b[38;5;33mLayerNormalization\u001b[0m)      │                        │                │                        │\n",
       "├───────────────────────────┼────────────────────────┼────────────────┼────────────────────────┤\n",
       "│ add (\u001b[38;5;33mAdd\u001b[0m)                 │ (\u001b[38;5;45mNone\u001b[0m, \u001b[38;5;34m874\u001b[0m, \u001b[38;5;34m1\u001b[0m)         │              \u001b[38;5;34m0\u001b[0m │ layer_normalization[\u001b[38;5;34m0\u001b[0m… │\n",
       "│                           │                        │                │ reshape[\u001b[38;5;34m0\u001b[0m][\u001b[38;5;34m0\u001b[0m]          │\n",
       "├───────────────────────────┼────────────────────────┼────────────────┼────────────────────────┤\n",
       "│ conv1d (\u001b[38;5;33mConv1D\u001b[0m)           │ (\u001b[38;5;45mNone\u001b[0m, \u001b[38;5;34m874\u001b[0m, \u001b[38;5;34m128\u001b[0m)       │            \u001b[38;5;34m256\u001b[0m │ add[\u001b[38;5;34m0\u001b[0m][\u001b[38;5;34m0\u001b[0m]              │\n",
       "├───────────────────────────┼────────────────────────┼────────────────┼────────────────────────┤\n",
       "│ dropout_2 (\u001b[38;5;33mDropout\u001b[0m)       │ (\u001b[38;5;45mNone\u001b[0m, \u001b[38;5;34m874\u001b[0m, \u001b[38;5;34m128\u001b[0m)       │              \u001b[38;5;34m0\u001b[0m │ conv1d[\u001b[38;5;34m0\u001b[0m][\u001b[38;5;34m0\u001b[0m]           │\n",
       "├───────────────────────────┼────────────────────────┼────────────────┼────────────────────────┤\n",
       "│ conv1d_1 (\u001b[38;5;33mConv1D\u001b[0m)         │ (\u001b[38;5;45mNone\u001b[0m, \u001b[38;5;34m874\u001b[0m, \u001b[38;5;34m1\u001b[0m)         │            \u001b[38;5;34m129\u001b[0m │ dropout_2[\u001b[38;5;34m0\u001b[0m][\u001b[38;5;34m0\u001b[0m]        │\n",
       "├───────────────────────────┼────────────────────────┼────────────────┼────────────────────────┤\n",
       "│ layer_normalization_1     │ (\u001b[38;5;45mNone\u001b[0m, \u001b[38;5;34m874\u001b[0m, \u001b[38;5;34m1\u001b[0m)         │              \u001b[38;5;34m2\u001b[0m │ conv1d_1[\u001b[38;5;34m0\u001b[0m][\u001b[38;5;34m0\u001b[0m]         │\n",
       "│ (\u001b[38;5;33mLayerNormalization\u001b[0m)      │                        │                │                        │\n",
       "├───────────────────────────┼────────────────────────┼────────────────┼────────────────────────┤\n",
       "│ add_1 (\u001b[38;5;33mAdd\u001b[0m)               │ (\u001b[38;5;45mNone\u001b[0m, \u001b[38;5;34m874\u001b[0m, \u001b[38;5;34m1\u001b[0m)         │              \u001b[38;5;34m0\u001b[0m │ layer_normalization_1… │\n",
       "│                           │                        │                │ add[\u001b[38;5;34m0\u001b[0m][\u001b[38;5;34m0\u001b[0m]              │\n",
       "├───────────────────────────┼────────────────────────┼────────────────┼────────────────────────┤\n",
       "│ multi_head_attention_1    │ (\u001b[38;5;45mNone\u001b[0m, \u001b[38;5;34m874\u001b[0m, \u001b[38;5;34m1\u001b[0m)         │         \u001b[38;5;34m28,673\u001b[0m │ add_1[\u001b[38;5;34m0\u001b[0m][\u001b[38;5;34m0\u001b[0m],           │\n",
       "│ (\u001b[38;5;33mMultiHeadAttention\u001b[0m)      │                        │                │ add_1[\u001b[38;5;34m0\u001b[0m][\u001b[38;5;34m0\u001b[0m]            │\n",
       "├───────────────────────────┼────────────────────────┼────────────────┼────────────────────────┤\n",
       "│ dropout_4 (\u001b[38;5;33mDropout\u001b[0m)       │ (\u001b[38;5;45mNone\u001b[0m, \u001b[38;5;34m874\u001b[0m, \u001b[38;5;34m1\u001b[0m)         │              \u001b[38;5;34m0\u001b[0m │ multi_head_attention_… │\n",
       "├───────────────────────────┼────────────────────────┼────────────────┼────────────────────────┤\n",
       "│ layer_normalization_2     │ (\u001b[38;5;45mNone\u001b[0m, \u001b[38;5;34m874\u001b[0m, \u001b[38;5;34m1\u001b[0m)         │              \u001b[38;5;34m2\u001b[0m │ dropout_4[\u001b[38;5;34m0\u001b[0m][\u001b[38;5;34m0\u001b[0m]        │\n",
       "│ (\u001b[38;5;33mLayerNormalization\u001b[0m)      │                        │                │                        │\n",
       "├───────────────────────────┼────────────────────────┼────────────────┼────────────────────────┤\n",
       "│ add_2 (\u001b[38;5;33mAdd\u001b[0m)               │ (\u001b[38;5;45mNone\u001b[0m, \u001b[38;5;34m874\u001b[0m, \u001b[38;5;34m1\u001b[0m)         │              \u001b[38;5;34m0\u001b[0m │ layer_normalization_2… │\n",
       "│                           │                        │                │ add_1[\u001b[38;5;34m0\u001b[0m][\u001b[38;5;34m0\u001b[0m]            │\n",
       "├───────────────────────────┼────────────────────────┼────────────────┼────────────────────────┤\n",
       "│ conv1d_2 (\u001b[38;5;33mConv1D\u001b[0m)         │ (\u001b[38;5;45mNone\u001b[0m, \u001b[38;5;34m874\u001b[0m, \u001b[38;5;34m128\u001b[0m)       │            \u001b[38;5;34m256\u001b[0m │ add_2[\u001b[38;5;34m0\u001b[0m][\u001b[38;5;34m0\u001b[0m]            │\n",
       "├───────────────────────────┼────────────────────────┼────────────────┼────────────────────────┤\n",
       "│ dropout_5 (\u001b[38;5;33mDropout\u001b[0m)       │ (\u001b[38;5;45mNone\u001b[0m, \u001b[38;5;34m874\u001b[0m, \u001b[38;5;34m128\u001b[0m)       │              \u001b[38;5;34m0\u001b[0m │ conv1d_2[\u001b[38;5;34m0\u001b[0m][\u001b[38;5;34m0\u001b[0m]         │\n",
       "├───────────────────────────┼────────────────────────┼────────────────┼────────────────────────┤\n",
       "│ conv1d_3 (\u001b[38;5;33mConv1D\u001b[0m)         │ (\u001b[38;5;45mNone\u001b[0m, \u001b[38;5;34m874\u001b[0m, \u001b[38;5;34m1\u001b[0m)         │            \u001b[38;5;34m129\u001b[0m │ dropout_5[\u001b[38;5;34m0\u001b[0m][\u001b[38;5;34m0\u001b[0m]        │\n",
       "├───────────────────────────┼────────────────────────┼────────────────┼────────────────────────┤\n",
       "│ layer_normalization_3     │ (\u001b[38;5;45mNone\u001b[0m, \u001b[38;5;34m874\u001b[0m, \u001b[38;5;34m1\u001b[0m)         │              \u001b[38;5;34m2\u001b[0m │ conv1d_3[\u001b[38;5;34m0\u001b[0m][\u001b[38;5;34m0\u001b[0m]         │\n",
       "│ (\u001b[38;5;33mLayerNormalization\u001b[0m)      │                        │                │                        │\n",
       "├───────────────────────────┼────────────────────────┼────────────────┼────────────────────────┤\n",
       "│ add_3 (\u001b[38;5;33mAdd\u001b[0m)               │ (\u001b[38;5;45mNone\u001b[0m, \u001b[38;5;34m874\u001b[0m, \u001b[38;5;34m1\u001b[0m)         │              \u001b[38;5;34m0\u001b[0m │ layer_normalization_3… │\n",
       "│                           │                        │                │ add_2[\u001b[38;5;34m0\u001b[0m][\u001b[38;5;34m0\u001b[0m]            │\n",
       "├───────────────────────────┼────────────────────────┼────────────────┼────────────────────────┤\n",
       "│ multi_head_attention_2    │ (\u001b[38;5;45mNone\u001b[0m, \u001b[38;5;34m874\u001b[0m, \u001b[38;5;34m1\u001b[0m)         │         \u001b[38;5;34m28,673\u001b[0m │ add_3[\u001b[38;5;34m0\u001b[0m][\u001b[38;5;34m0\u001b[0m],           │\n",
       "│ (\u001b[38;5;33mMultiHeadAttention\u001b[0m)      │                        │                │ add_3[\u001b[38;5;34m0\u001b[0m][\u001b[38;5;34m0\u001b[0m]            │\n",
       "├───────────────────────────┼────────────────────────┼────────────────┼────────────────────────┤\n",
       "│ dropout_7 (\u001b[38;5;33mDropout\u001b[0m)       │ (\u001b[38;5;45mNone\u001b[0m, \u001b[38;5;34m874\u001b[0m, \u001b[38;5;34m1\u001b[0m)         │              \u001b[38;5;34m0\u001b[0m │ multi_head_attention_… │\n",
       "├───────────────────────────┼────────────────────────┼────────────────┼────────────────────────┤\n",
       "│ layer_normalization_4     │ (\u001b[38;5;45mNone\u001b[0m, \u001b[38;5;34m874\u001b[0m, \u001b[38;5;34m1\u001b[0m)         │              \u001b[38;5;34m2\u001b[0m │ dropout_7[\u001b[38;5;34m0\u001b[0m][\u001b[38;5;34m0\u001b[0m]        │\n",
       "│ (\u001b[38;5;33mLayerNormalization\u001b[0m)      │                        │                │                        │\n",
       "├───────────────────────────┼────────────────────────┼────────────────┼────────────────────────┤\n",
       "│ add_4 (\u001b[38;5;33mAdd\u001b[0m)               │ (\u001b[38;5;45mNone\u001b[0m, \u001b[38;5;34m874\u001b[0m, \u001b[38;5;34m1\u001b[0m)         │              \u001b[38;5;34m0\u001b[0m │ layer_normalization_4… │\n",
       "│                           │                        │                │ add_3[\u001b[38;5;34m0\u001b[0m][\u001b[38;5;34m0\u001b[0m]            │\n",
       "├───────────────────────────┼────────────────────────┼────────────────┼────────────────────────┤\n",
       "│ conv1d_4 (\u001b[38;5;33mConv1D\u001b[0m)         │ (\u001b[38;5;45mNone\u001b[0m, \u001b[38;5;34m874\u001b[0m, \u001b[38;5;34m128\u001b[0m)       │            \u001b[38;5;34m256\u001b[0m │ add_4[\u001b[38;5;34m0\u001b[0m][\u001b[38;5;34m0\u001b[0m]            │\n",
       "├───────────────────────────┼────────────────────────┼────────────────┼────────────────────────┤\n",
       "│ dropout_8 (\u001b[38;5;33mDropout\u001b[0m)       │ (\u001b[38;5;45mNone\u001b[0m, \u001b[38;5;34m874\u001b[0m, \u001b[38;5;34m128\u001b[0m)       │              \u001b[38;5;34m0\u001b[0m │ conv1d_4[\u001b[38;5;34m0\u001b[0m][\u001b[38;5;34m0\u001b[0m]         │\n",
       "├───────────────────────────┼────────────────────────┼────────────────┼────────────────────────┤\n",
       "│ conv1d_5 (\u001b[38;5;33mConv1D\u001b[0m)         │ (\u001b[38;5;45mNone\u001b[0m, \u001b[38;5;34m874\u001b[0m, \u001b[38;5;34m1\u001b[0m)         │            \u001b[38;5;34m129\u001b[0m │ dropout_8[\u001b[38;5;34m0\u001b[0m][\u001b[38;5;34m0\u001b[0m]        │\n",
       "├───────────────────────────┼────────────────────────┼────────────────┼────────────────────────┤\n",
       "│ layer_normalization_5     │ (\u001b[38;5;45mNone\u001b[0m, \u001b[38;5;34m874\u001b[0m, \u001b[38;5;34m1\u001b[0m)         │              \u001b[38;5;34m2\u001b[0m │ conv1d_5[\u001b[38;5;34m0\u001b[0m][\u001b[38;5;34m0\u001b[0m]         │\n",
       "│ (\u001b[38;5;33mLayerNormalization\u001b[0m)      │                        │                │                        │\n",
       "├───────────────────────────┼────────────────────────┼────────────────┼────────────────────────┤\n",
       "│ add_5 (\u001b[38;5;33mAdd\u001b[0m)               │ (\u001b[38;5;45mNone\u001b[0m, \u001b[38;5;34m874\u001b[0m, \u001b[38;5;34m1\u001b[0m)         │              \u001b[38;5;34m0\u001b[0m │ layer_normalization_5… │\n",
       "│                           │                        │                │ add_4[\u001b[38;5;34m0\u001b[0m][\u001b[38;5;34m0\u001b[0m]            │\n",
       "├───────────────────────────┼────────────────────────┼────────────────┼────────────────────────┤\n",
       "│ multi_head_attention_3    │ (\u001b[38;5;45mNone\u001b[0m, \u001b[38;5;34m874\u001b[0m, \u001b[38;5;34m1\u001b[0m)         │         \u001b[38;5;34m28,673\u001b[0m │ add_5[\u001b[38;5;34m0\u001b[0m][\u001b[38;5;34m0\u001b[0m],           │\n",
       "│ (\u001b[38;5;33mMultiHeadAttention\u001b[0m)      │                        │                │ add_5[\u001b[38;5;34m0\u001b[0m][\u001b[38;5;34m0\u001b[0m]            │\n",
       "├───────────────────────────┼────────────────────────┼────────────────┼────────────────────────┤\n",
       "│ dropout_10 (\u001b[38;5;33mDropout\u001b[0m)      │ (\u001b[38;5;45mNone\u001b[0m, \u001b[38;5;34m874\u001b[0m, \u001b[38;5;34m1\u001b[0m)         │              \u001b[38;5;34m0\u001b[0m │ multi_head_attention_… │\n",
       "├───────────────────────────┼────────────────────────┼────────────────┼────────────────────────┤\n",
       "│ layer_normalization_6     │ (\u001b[38;5;45mNone\u001b[0m, \u001b[38;5;34m874\u001b[0m, \u001b[38;5;34m1\u001b[0m)         │              \u001b[38;5;34m2\u001b[0m │ dropout_10[\u001b[38;5;34m0\u001b[0m][\u001b[38;5;34m0\u001b[0m]       │\n",
       "│ (\u001b[38;5;33mLayerNormalization\u001b[0m)      │                        │                │                        │\n",
       "├───────────────────────────┼────────────────────────┼────────────────┼────────────────────────┤\n",
       "│ add_6 (\u001b[38;5;33mAdd\u001b[0m)               │ (\u001b[38;5;45mNone\u001b[0m, \u001b[38;5;34m874\u001b[0m, \u001b[38;5;34m1\u001b[0m)         │              \u001b[38;5;34m0\u001b[0m │ layer_normalization_6… │\n",
       "│                           │                        │                │ add_5[\u001b[38;5;34m0\u001b[0m][\u001b[38;5;34m0\u001b[0m]            │\n",
       "├───────────────────────────┼────────────────────────┼────────────────┼────────────────────────┤\n",
       "│ conv1d_6 (\u001b[38;5;33mConv1D\u001b[0m)         │ (\u001b[38;5;45mNone\u001b[0m, \u001b[38;5;34m874\u001b[0m, \u001b[38;5;34m128\u001b[0m)       │            \u001b[38;5;34m256\u001b[0m │ add_6[\u001b[38;5;34m0\u001b[0m][\u001b[38;5;34m0\u001b[0m]            │\n",
       "├───────────────────────────┼────────────────────────┼────────────────┼────────────────────────┤\n",
       "│ dropout_11 (\u001b[38;5;33mDropout\u001b[0m)      │ (\u001b[38;5;45mNone\u001b[0m, \u001b[38;5;34m874\u001b[0m, \u001b[38;5;34m128\u001b[0m)       │              \u001b[38;5;34m0\u001b[0m │ conv1d_6[\u001b[38;5;34m0\u001b[0m][\u001b[38;5;34m0\u001b[0m]         │\n",
       "├───────────────────────────┼────────────────────────┼────────────────┼────────────────────────┤\n",
       "│ conv1d_7 (\u001b[38;5;33mConv1D\u001b[0m)         │ (\u001b[38;5;45mNone\u001b[0m, \u001b[38;5;34m874\u001b[0m, \u001b[38;5;34m1\u001b[0m)         │            \u001b[38;5;34m129\u001b[0m │ dropout_11[\u001b[38;5;34m0\u001b[0m][\u001b[38;5;34m0\u001b[0m]       │\n",
       "├───────────────────────────┼────────────────────────┼────────────────┼────────────────────────┤\n",
       "│ layer_normalization_7     │ (\u001b[38;5;45mNone\u001b[0m, \u001b[38;5;34m874\u001b[0m, \u001b[38;5;34m1\u001b[0m)         │              \u001b[38;5;34m2\u001b[0m │ conv1d_7[\u001b[38;5;34m0\u001b[0m][\u001b[38;5;34m0\u001b[0m]         │\n",
       "│ (\u001b[38;5;33mLayerNormalization\u001b[0m)      │                        │                │                        │\n",
       "├───────────────────────────┼────────────────────────┼────────────────┼────────────────────────┤\n",
       "│ add_7 (\u001b[38;5;33mAdd\u001b[0m)               │ (\u001b[38;5;45mNone\u001b[0m, \u001b[38;5;34m874\u001b[0m, \u001b[38;5;34m1\u001b[0m)         │              \u001b[38;5;34m0\u001b[0m │ layer_normalization_7… │\n",
       "│                           │                        │                │ add_6[\u001b[38;5;34m0\u001b[0m][\u001b[38;5;34m0\u001b[0m]            │\n",
       "├───────────────────────────┼────────────────────────┼────────────────┼────────────────────────┤\n",
       "│ flatten (\u001b[38;5;33mFlatten\u001b[0m)         │ (\u001b[38;5;45mNone\u001b[0m, \u001b[38;5;34m874\u001b[0m)            │              \u001b[38;5;34m0\u001b[0m │ add_7[\u001b[38;5;34m0\u001b[0m][\u001b[38;5;34m0\u001b[0m]            │\n",
       "├───────────────────────────┼────────────────────────┼────────────────┼────────────────────────┤\n",
       "│ dense (\u001b[38;5;33mDense\u001b[0m)             │ (\u001b[38;5;45mNone\u001b[0m, \u001b[38;5;34m256\u001b[0m)            │        \u001b[38;5;34m224,000\u001b[0m │ flatten[\u001b[38;5;34m0\u001b[0m][\u001b[38;5;34m0\u001b[0m]          │\n",
       "├───────────────────────────┼────────────────────────┼────────────────┼────────────────────────┤\n",
       "│ dropout_12 (\u001b[38;5;33mDropout\u001b[0m)      │ (\u001b[38;5;45mNone\u001b[0m, \u001b[38;5;34m256\u001b[0m)            │              \u001b[38;5;34m0\u001b[0m │ dense[\u001b[38;5;34m0\u001b[0m][\u001b[38;5;34m0\u001b[0m]            │\n",
       "├───────────────────────────┼────────────────────────┼────────────────┼────────────────────────┤\n",
       "│ dense_1 (\u001b[38;5;33mDense\u001b[0m)           │ (\u001b[38;5;45mNone\u001b[0m, \u001b[38;5;34m1\u001b[0m)              │            \u001b[38;5;34m257\u001b[0m │ dropout_12[\u001b[38;5;34m0\u001b[0m][\u001b[38;5;34m0\u001b[0m]       │\n",
       "├───────────────────────────┼────────────────────────┼────────────────┼────────────────────────┤\n",
       "│ lambda (\u001b[38;5;33mLambda\u001b[0m)           │ (\u001b[38;5;45mNone\u001b[0m, \u001b[38;5;34m1\u001b[0m)              │              \u001b[38;5;34m0\u001b[0m │ dense_1[\u001b[38;5;34m0\u001b[0m][\u001b[38;5;34m0\u001b[0m]          │\n",
       "└───────────────────────────┴────────────────────────┴────────────────┴────────────────────────┘\n"
      ]
     },
     "metadata": {},
     "output_type": "display_data"
    },
    {
     "data": {
      "text/html": [
       "<pre style=\"white-space:pre;overflow-x:auto;line-height:normal;font-family:Menlo,'DejaVu Sans Mono',consolas,'Courier New',monospace\"><span style=\"font-weight: bold\"> Total params: </span><span style=\"color: #00af00; text-decoration-color: #00af00\">340,505</span> (1.30 MB)\n",
       "</pre>\n"
      ],
      "text/plain": [
       "\u001b[1m Total params: \u001b[0m\u001b[38;5;34m340,505\u001b[0m (1.30 MB)\n"
      ]
     },
     "metadata": {},
     "output_type": "display_data"
    },
    {
     "data": {
      "text/html": [
       "<pre style=\"white-space:pre;overflow-x:auto;line-height:normal;font-family:Menlo,'DejaVu Sans Mono',consolas,'Courier New',monospace\"><span style=\"font-weight: bold\"> Trainable params: </span><span style=\"color: #00af00; text-decoration-color: #00af00\">340,505</span> (1.30 MB)\n",
       "</pre>\n"
      ],
      "text/plain": [
       "\u001b[1m Trainable params: \u001b[0m\u001b[38;5;34m340,505\u001b[0m (1.30 MB)\n"
      ]
     },
     "metadata": {},
     "output_type": "display_data"
    },
    {
     "data": {
      "text/html": [
       "<pre style=\"white-space:pre;overflow-x:auto;line-height:normal;font-family:Menlo,'DejaVu Sans Mono',consolas,'Courier New',monospace\"><span style=\"font-weight: bold\"> Non-trainable params: </span><span style=\"color: #00af00; text-decoration-color: #00af00\">0</span> (0.00 B)\n",
       "</pre>\n"
      ],
      "text/plain": [
       "\u001b[1m Non-trainable params: \u001b[0m\u001b[38;5;34m0\u001b[0m (0.00 B)\n"
      ]
     },
     "metadata": {},
     "output_type": "display_data"
    }
   ],
   "source": [
    "# Multi-GPU strategy scope\n",
    "strategy = tf.distribute.MirroredStrategy()\n",
    "with strategy.scope():\n",
    "    input_shape = (874,)  # Adjusted input shape\n",
    "\n",
    "    model = build_regression_model(\n",
    "        input_shape,\n",
    "        head_size=512,\n",
    "        num_heads=8,\n",
    "        ff_dim=128,\n",
    "        num_transformer_blocks=4,\n",
    "        mlp_units=[256],\n",
    "        mlp_dropout=0.4,\n",
    "        dropout=0.3,\n",
    "    )\n",
    "\n",
    "    # Compile with a regression loss (mean squared error) and a regression metric (MAE)\n",
    "    model.compile(\n",
    "        loss=\"mse\",  # Mean Squared Error loss for regression\n",
    "        optimizer=keras.optimizers.Adam(learning_rate=1e-4),\n",
    "        metrics=[\"mae\"],  # Mean Absolute Error as an additional metric\n",
    "    )\n",
    "\n",
    "model.summary()\n"
   ]
  },
  {
   "cell_type": "code",
   "execution_count": 32,
   "id": "676d4fad",
   "metadata": {
    "execution": {
     "iopub.execute_input": "2025-02-23T11:52:18.484518Z",
     "iopub.status.busy": "2025-02-23T11:52:18.484245Z",
     "iopub.status.idle": "2025-02-23T11:52:18.490025Z",
     "shell.execute_reply": "2025-02-23T11:52:18.489421Z"
    },
    "papermill": {
     "duration": 0.016091,
     "end_time": "2025-02-23T11:52:18.491253",
     "exception": false,
     "start_time": "2025-02-23T11:52:18.475162",
     "status": "completed"
    },
    "tags": []
   },
   "outputs": [],
   "source": [
    "from tensorflow.keras.callbacks import ModelCheckpoint\n",
    "\n",
    "# Define the checkpoint callback to save the model after each epoch\n",
    "checkpoint_callback = ModelCheckpoint(\n",
    "    filepath='model_checkpoint.keras',  # Save file with .keras extension\n",
    "    save_weights_only=False,  # Save the full model\n",
    "    save_freq='epoch',  # Save at the end of each epoch\n",
    "    verbose=1  # To print a message when the model is saved\n",
    ")\n",
    "\n",
    "# Modify the callbacks list to include the checkpoint callback \n",
    "callbacks = [\n",
    "    keras.callbacks.EarlyStopping(patience=100, restore_best_weights=True),\n",
    "    checkpoint_callback\n",
    "]"
   ]
  },
  {
   "cell_type": "code",
   "execution_count": 33,
   "id": "7dd5e4d2",
   "metadata": {
    "execution": {
     "iopub.execute_input": "2025-02-23T11:52:18.509647Z",
     "iopub.status.busy": "2025-02-23T11:52:18.509405Z",
     "iopub.status.idle": "2025-02-23T11:52:18.513698Z",
     "shell.execute_reply": "2025-02-23T11:52:18.513042Z"
    },
    "papermill": {
     "duration": 0.014818,
     "end_time": "2025-02-23T11:52:18.514917",
     "exception": false,
     "start_time": "2025-02-23T11:52:18.500099",
     "status": "completed"
    },
    "tags": []
   },
   "outputs": [
    {
     "data": {
      "text/plain": [
       "(1403, 4369, 1)"
      ]
     },
     "execution_count": 33,
     "metadata": {},
     "output_type": "execute_result"
    }
   ],
   "source": [
    "X_train.shape"
   ]
  },
  {
   "cell_type": "code",
   "execution_count": 34,
   "id": "65e89c02",
   "metadata": {
    "execution": {
     "iopub.execute_input": "2025-02-23T11:52:18.570112Z",
     "iopub.status.busy": "2025-02-23T11:52:18.569850Z",
     "iopub.status.idle": "2025-02-23T11:52:18.574268Z",
     "shell.execute_reply": "2025-02-23T11:52:18.573455Z"
    },
    "papermill": {
     "duration": 0.015111,
     "end_time": "2025-02-23T11:52:18.575441",
     "exception": false,
     "start_time": "2025-02-23T11:52:18.560330",
     "status": "completed"
    },
    "tags": []
   },
   "outputs": [
    {
     "data": {
      "text/plain": [
       "(1403,)"
      ]
     },
     "execution_count": 34,
     "metadata": {},
     "output_type": "execute_result"
    }
   ],
   "source": [
    "y_train_norm.shape"
   ]
  },
  {
   "cell_type": "code",
   "execution_count": 35,
   "id": "37504a83",
   "metadata": {
    "execution": {
     "iopub.execute_input": "2025-02-23T11:52:18.593972Z",
     "iopub.status.busy": "2025-02-23T11:52:18.593729Z",
     "iopub.status.idle": "2025-02-23T11:52:18.599557Z",
     "shell.execute_reply": "2025-02-23T11:52:18.598755Z"
    },
    "papermill": {
     "duration": 0.016163,
     "end_time": "2025-02-23T11:52:18.600794",
     "exception": false,
     "start_time": "2025-02-23T11:52:18.584631",
     "status": "completed"
    },
    "tags": []
   },
   "outputs": [
    {
     "data": {
      "text/plain": [
       "(array([0.33333334, 0.16666667, 1.        , ..., 0.75      , 0.25      ,\n",
       "        0.41666666], dtype=float32),\n",
       " array([0.5       , 0.41666666, 0.        , 0.5833333 , 0.25      ,\n",
       "        0.25      , 0.        , 0.25      , 0.6666667 , 0.6666667 ,\n",
       "        0.9166667 , 0.16666667, 1.        , 0.33333334, 0.33333334,\n",
       "        0.08333334, 0.6666667 , 0.9166667 , 0.5833333 , 0.16666667,\n",
       "        0.25      , 0.        , 0.16666667, 0.5       , 0.33333334,\n",
       "        0.33333334, 0.6666667 , 0.75      , 0.75      , 0.25      ,\n",
       "        0.16666667, 0.33333334, 0.75      , 1.        , 0.9166667 ,\n",
       "        0.5       , 0.08333334, 0.8333333 , 0.41666666, 0.41666666,\n",
       "        0.9166667 , 0.25      , 0.16666667, 0.25      , 0.41666666,\n",
       "        0.6666667 , 0.41666666, 0.5833333 , 0.33333334, 0.41666666,\n",
       "        0.9166667 , 0.33333334, 0.16666667, 1.        , 0.        ,\n",
       "        0.6666667 , 0.8333333 , 0.41666666, 0.41666666, 0.6666667 ,\n",
       "        0.5833333 , 0.25      , 0.33333334, 1.        , 0.9166667 ,\n",
       "        0.        , 0.08333334, 0.16666667, 0.16666667, 0.25      ,\n",
       "        0.5833333 , 0.5833333 , 0.33333334, 0.33333334, 0.16666667,\n",
       "        0.9166667 , 1.        , 1.        , 0.33333334, 0.41666666,\n",
       "        0.8333333 , 0.8333333 , 0.        , 0.        , 0.5833333 ,\n",
       "        1.        , 0.08333334, 0.9166667 , 0.8333333 , 0.41666666,\n",
       "        1.        , 0.33333334, 0.75      , 0.75      , 0.25      ,\n",
       "        0.08333334, 1.        , 0.6666667 , 0.08333334, 0.08333334,\n",
       "        0.25      , 0.        , 0.6666667 , 0.16666667, 0.5       ,\n",
       "        0.8333333 , 0.        , 0.33333334, 0.5833333 , 0.        ,\n",
       "        0.6666667 , 0.75      , 0.33333334, 0.9166667 , 0.        ,\n",
       "        0.08333334, 0.16666667, 1.        , 0.33333334, 0.08333334,\n",
       "        0.08333334, 0.25      , 0.25      , 0.8333333 , 0.75      ,\n",
       "        1.        , 0.75      , 0.25      , 0.16666667, 0.75      ,\n",
       "        0.6666667 , 1.        , 0.08333334, 0.5833333 , 0.41666666,\n",
       "        0.16666667, 0.6666667 , 0.41666666, 0.41666666, 0.6666667 ,\n",
       "        0.8333333 , 0.8333333 , 0.16666667, 1.        , 0.5833333 ,\n",
       "        0.8333333 , 1.        , 0.        , 0.5833333 , 0.5       ,\n",
       "        0.08333334, 1.        , 1.        , 0.16666667, 0.        ,\n",
       "        0.8333333 , 0.08333334], dtype=float32))"
      ]
     },
     "execution_count": 35,
     "metadata": {},
     "output_type": "execute_result"
    }
   ],
   "source": [
    "y_train_norm,y_test_norm"
   ]
  },
  {
   "cell_type": "code",
   "execution_count": 36,
   "id": "77ffb018",
   "metadata": {
    "execution": {
     "iopub.execute_input": "2025-02-23T11:52:18.619215Z",
     "iopub.status.busy": "2025-02-23T11:52:18.619007Z",
     "iopub.status.idle": "2025-02-23T11:52:18.631336Z",
     "shell.execute_reply": "2025-02-23T11:52:18.630772Z"
    },
    "papermill": {
     "duration": 0.022854,
     "end_time": "2025-02-23T11:52:18.632546",
     "exception": false,
     "start_time": "2025-02-23T11:52:18.609692",
     "status": "completed"
    },
    "tags": []
   },
   "outputs": [],
   "source": [
    "# Assume X_train has the shape (num_samples, 4369, 1)\n",
    "num_samples, original_length, channels = X_train.shape\n",
    "\n",
    "# Calculate padding length so that the length becomes divisible by 5.\n",
    "pad_len = 1\n",
    "\n",
    "# Pad along the sequence axis (axis=1) with -np.inf so that the max operation is not affected.\n",
    "X_train_padded = np.pad(\n",
    "    X_train,\n",
    "    pad_width=((0, 0), (0, pad_len), (0, 0)),\n",
    "    mode='constant',\n",
    "    constant_values=-np.inf\n",
    ")\n",
    "\n",
    "# Now X_train_padded has the shape (num_samples, 4370, 1).\n"
   ]
  },
  {
   "cell_type": "code",
   "execution_count": 37,
   "id": "08861a6b",
   "metadata": {
    "execution": {
     "iopub.execute_input": "2025-02-23T11:52:18.651571Z",
     "iopub.status.busy": "2025-02-23T11:52:18.651297Z",
     "iopub.status.idle": "2025-02-23T11:52:18.655703Z",
     "shell.execute_reply": "2025-02-23T11:52:18.655046Z"
    },
    "papermill": {
     "duration": 0.01523,
     "end_time": "2025-02-23T11:52:18.656855",
     "exception": false,
     "start_time": "2025-02-23T11:52:18.641625",
     "status": "completed"
    },
    "tags": []
   },
   "outputs": [
    {
     "data": {
      "text/plain": [
       "(1403, 4370, 1)"
      ]
     },
     "execution_count": 37,
     "metadata": {},
     "output_type": "execute_result"
    }
   ],
   "source": [
    "X_train_padded.shape"
   ]
  },
  {
   "cell_type": "code",
   "execution_count": 38,
   "id": "de829de5",
   "metadata": {
    "execution": {
     "iopub.execute_input": "2025-02-23T11:52:18.675904Z",
     "iopub.status.busy": "2025-02-23T11:52:18.675682Z",
     "iopub.status.idle": "2025-02-23T11:52:18.822684Z",
     "shell.execute_reply": "2025-02-23T11:52:18.821710Z"
    },
    "papermill": {
     "duration": 0.158029,
     "end_time": "2025-02-23T11:52:18.824084",
     "exception": false,
     "start_time": "2025-02-23T11:52:18.666055",
     "status": "completed"
    },
    "tags": []
   },
   "outputs": [
    {
     "name": "stdout",
     "output_type": "stream",
     "text": [
      "Shape after max-pooling and reshaping: (1403, 874)\n"
     ]
    }
   ],
   "source": [
    "\n",
    "# Reshape to group every 5 consecutive elements:\n",
    "# New shape will be (num_samples, 874, 5, 1)\n",
    "grouped_length = X_train_padded.shape[1] // 5  # Should be 874\n",
    "X_train_grouped = X_train_padded.reshape(num_samples, grouped_length, 5, channels)\n",
    "\n",
    "# Take the max over the 5 elements for each group (axis=2)\n",
    "# Resulting shape is (num_samples, 874, 1)\n",
    "X_train_max = np.max(X_train_grouped, axis=2)\n",
    "\n",
    "# Optionally, if your model expects inputs of shape (num_samples, 874),\n",
    "# reshape the array from (num_samples, 874, 1) to (num_samples, 874)\n",
    "X_train_final = X_train_max.reshape(num_samples, grouped_length)\n",
    "\n",
    "# Check the resulting shape\n",
    "print(\"Shape after max-pooling and reshaping:\", X_train_final.shape)\n"
   ]
  },
  {
   "cell_type": "code",
   "execution_count": 39,
   "id": "3fe9cd61",
   "metadata": {
    "execution": {
     "iopub.execute_input": "2025-02-23T11:52:18.844074Z",
     "iopub.status.busy": "2025-02-23T11:52:18.843818Z",
     "iopub.status.idle": "2025-02-23T11:52:18.867463Z",
     "shell.execute_reply": "2025-02-23T11:52:18.866691Z"
    },
    "papermill": {
     "duration": 0.03506,
     "end_time": "2025-02-23T11:52:18.868747",
     "exception": false,
     "start_time": "2025-02-23T11:52:18.833687",
     "status": "completed"
    },
    "tags": []
   },
   "outputs": [
    {
     "name": "stdout",
     "output_type": "stream",
     "text": [
      "Shape after max-pooling and reshaping: (157, 874)\n"
     ]
    }
   ],
   "source": [
    "# Assume X_train has the shape (num_samples, 4369, 1)\n",
    "num_samples, original_length, channels = X_test.shape\n",
    "\n",
    "# Calculate padding length so that the length becomes divisible by 5.\n",
    "pad_len = 1\n",
    "\n",
    "# Pad along the sequence axis (axis=1) with -np.inf so that the max operation is not affected.\n",
    "X_test_padded = np.pad(\n",
    "    X_test,\n",
    "    pad_width=((0, 0), (0, pad_len), (0, 0)),\n",
    "    mode='constant',\n",
    "    constant_values=-np.inf\n",
    ")\n",
    "\n",
    "# Now X_train_padded has the shape (num_samples, 4370, 1).\n",
    "\n",
    "# Reshape to group every 5 consecutive elements:\n",
    "# New shape will be (num_samples, 874, 5, 1)\n",
    "grouped_length = X_test_padded.shape[1] // 5  # Should be 874\n",
    "X_test_grouped = X_test_padded.reshape(num_samples, grouped_length, 5, channels)\n",
    "\n",
    "# Take the max over the 5 elements for each group (axis=2)\n",
    "# Resulting shape is (num_samples, 874, 1)\n",
    "X_test_max = np.max(X_test_grouped, axis=2)\n",
    "\n",
    "# Optionally, if your model expects inputs of shape (num_samples, 874),\n",
    "# reshape the array from (num_samples, 874, 1) to (num_samples, 874)\n",
    "X_test_final = X_test_max.reshape(num_samples, grouped_length)\n",
    "\n",
    "# Check the resulting shape\n",
    "print(\"Shape after max-pooling and reshaping:\", X_test_final.shape)\n"
   ]
  },
  {
   "cell_type": "code",
   "execution_count": null,
   "id": "6a49f5aa",
   "metadata": {
    "papermill": {
     "duration": 0.008809,
     "end_time": "2025-02-23T11:52:18.886821",
     "exception": false,
     "start_time": "2025-02-23T11:52:18.878012",
     "status": "completed"
    },
    "tags": []
   },
   "outputs": [],
   "source": []
  },
  {
   "cell_type": "code",
   "execution_count": 40,
   "id": "f2e96f5e",
   "metadata": {
    "execution": {
     "iopub.execute_input": "2025-02-23T11:52:18.905656Z",
     "iopub.status.busy": "2025-02-23T11:52:18.905403Z",
     "iopub.status.idle": "2025-02-23T11:52:18.910058Z",
     "shell.execute_reply": "2025-02-23T11:52:18.909235Z"
    },
    "papermill": {
     "duration": 0.015385,
     "end_time": "2025-02-23T11:52:18.911246",
     "exception": false,
     "start_time": "2025-02-23T11:52:18.895861",
     "status": "completed"
    },
    "tags": []
   },
   "outputs": [
    {
     "data": {
      "text/plain": [
       "'/kaggle'"
      ]
     },
     "execution_count": 40,
     "metadata": {},
     "output_type": "execute_result"
    }
   ],
   "source": [
    "%pwd"
   ]
  },
  {
   "cell_type": "code",
   "execution_count": 41,
   "id": "d9aae3e5",
   "metadata": {
    "execution": {
     "iopub.execute_input": "2025-02-23T11:52:18.930399Z",
     "iopub.status.busy": "2025-02-23T11:52:18.930167Z",
     "iopub.status.idle": "2025-02-23T11:52:18.933063Z",
     "shell.execute_reply": "2025-02-23T11:52:18.932462Z"
    },
    "papermill": {
     "duration": 0.013824,
     "end_time": "2025-02-23T11:52:18.934183",
     "exception": false,
     "start_time": "2025-02-23T11:52:18.920359",
     "status": "completed"
    },
    "tags": []
   },
   "outputs": [],
   "source": [
    "os.chdir(\"working\")"
   ]
  },
  {
   "cell_type": "code",
   "execution_count": 42,
   "id": "f50d31ec",
   "metadata": {
    "execution": {
     "iopub.execute_input": "2025-02-23T11:52:18.953414Z",
     "iopub.status.busy": "2025-02-23T11:52:18.953178Z",
     "iopub.status.idle": "2025-02-23T15:49:58.754566Z",
     "shell.execute_reply": "2025-02-23T15:49:58.753637Z"
    },
    "papermill": {
     "duration": 14259.812705,
     "end_time": "2025-02-23T15:49:58.756214",
     "exception": false,
     "start_time": "2025-02-23T11:52:18.943509",
     "status": "completed"
    },
    "tags": []
   },
   "outputs": [
    {
     "name": "stdout",
     "output_type": "stream",
     "text": [
      "Epoch 1/300\n",
      "\u001b[1m44/44\u001b[0m \u001b[32m━━━━━━━━━━━━━━━━━━━━\u001b[0m\u001b[37m\u001b[0m \u001b[1m0s\u001b[0m 1s/step - loss: 16.3684 - mae: 3.3873\n",
      "Epoch 1: saving model to model_checkpoint.keras\n",
      "\u001b[1m44/44\u001b[0m \u001b[32m━━━━━━━━━━━━━━━━━━━━\u001b[0m\u001b[37m\u001b[0m \u001b[1m57s\u001b[0m 1s/step - loss: 16.3592 - mae: 3.3867 - val_loss: 13.1051 - val_mae: 3.1299\n",
      "Epoch 2/300\n",
      "\u001b[1m44/44\u001b[0m \u001b[32m━━━━━━━━━━━━━━━━━━━━\u001b[0m\u001b[37m\u001b[0m \u001b[1m0s\u001b[0m 1s/step - loss: 15.5687 - mae: 3.3198\n",
      "Epoch 2: saving model to model_checkpoint.keras\n",
      "\u001b[1m44/44\u001b[0m \u001b[32m━━━━━━━━━━━━━━━━━━━━\u001b[0m\u001b[37m\u001b[0m \u001b[1m48s\u001b[0m 1s/step - loss: 15.5461 - mae: 3.3170 - val_loss: 12.7784 - val_mae: 3.0390\n",
      "Epoch 3/300\n",
      "\u001b[1m44/44\u001b[0m \u001b[32m━━━━━━━━━━━━━━━━━━━━\u001b[0m\u001b[37m\u001b[0m \u001b[1m0s\u001b[0m 1s/step - loss: 13.6669 - mae: 3.0571\n",
      "Epoch 3: saving model to model_checkpoint.keras\n",
      "\u001b[1m44/44\u001b[0m \u001b[32m━━━━━━━━━━━━━━━━━━━━\u001b[0m\u001b[37m\u001b[0m \u001b[1m48s\u001b[0m 1s/step - loss: 13.6710 - mae: 3.0581 - val_loss: 12.2695 - val_mae: 2.9300\n",
      "Epoch 4/300\n",
      "\u001b[1m44/44\u001b[0m \u001b[32m━━━━━━━━━━━━━━━━━━━━\u001b[0m\u001b[37m\u001b[0m \u001b[1m0s\u001b[0m 1s/step - loss: 12.5890 - mae: 2.9630\n",
      "Epoch 4: saving model to model_checkpoint.keras\n",
      "\u001b[1m44/44\u001b[0m \u001b[32m━━━━━━━━━━━━━━━━━━━━\u001b[0m\u001b[37m\u001b[0m \u001b[1m48s\u001b[0m 1s/step - loss: 12.5896 - mae: 2.9630 - val_loss: 12.4007 - val_mae: 2.9575\n",
      "Epoch 5/300\n",
      "\u001b[1m44/44\u001b[0m \u001b[32m━━━━━━━━━━━━━━━━━━━━\u001b[0m\u001b[37m\u001b[0m \u001b[1m0s\u001b[0m 1s/step - loss: 12.1810 - mae: 2.8848\n",
      "Epoch 5: saving model to model_checkpoint.keras\n",
      "\u001b[1m44/44\u001b[0m \u001b[32m━━━━━━━━━━━━━━━━━━━━\u001b[0m\u001b[37m\u001b[0m \u001b[1m48s\u001b[0m 1s/step - loss: 12.1796 - mae: 2.8848 - val_loss: 12.1145 - val_mae: 2.9454\n",
      "Epoch 6/300\n",
      "\u001b[1m44/44\u001b[0m \u001b[32m━━━━━━━━━━━━━━━━━━━━\u001b[0m\u001b[37m\u001b[0m \u001b[1m0s\u001b[0m 1s/step - loss: 12.2551 - mae: 2.9210\n",
      "Epoch 6: saving model to model_checkpoint.keras\n",
      "\u001b[1m44/44\u001b[0m \u001b[32m━━━━━━━━━━━━━━━━━━━━\u001b[0m\u001b[37m\u001b[0m \u001b[1m48s\u001b[0m 1s/step - loss: 12.2559 - mae: 2.9210 - val_loss: 11.7925 - val_mae: 2.8364\n",
      "Epoch 7/300\n",
      "\u001b[1m44/44\u001b[0m \u001b[32m━━━━━━━━━━━━━━━━━━━━\u001b[0m\u001b[37m\u001b[0m \u001b[1m0s\u001b[0m 1s/step - loss: 11.6454 - mae: 2.8329\n",
      "Epoch 7: saving model to model_checkpoint.keras\n",
      "\u001b[1m44/44\u001b[0m \u001b[32m━━━━━━━━━━━━━━━━━━━━\u001b[0m\u001b[37m\u001b[0m \u001b[1m47s\u001b[0m 1s/step - loss: 11.6470 - mae: 2.8334 - val_loss: 12.1960 - val_mae: 2.9274\n",
      "Epoch 8/300\n",
      "\u001b[1m44/44\u001b[0m \u001b[32m━━━━━━━━━━━━━━━━━━━━\u001b[0m\u001b[37m\u001b[0m \u001b[1m0s\u001b[0m 1s/step - loss: 11.4550 - mae: 2.8237\n",
      "Epoch 8: saving model to model_checkpoint.keras\n",
      "\u001b[1m44/44\u001b[0m \u001b[32m━━━━━━━━━━━━━━━━━━━━\u001b[0m\u001b[37m\u001b[0m \u001b[1m48s\u001b[0m 1s/step - loss: 11.4619 - mae: 2.8243 - val_loss: 11.6805 - val_mae: 2.8185\n",
      "Epoch 9/300\n",
      "\u001b[1m44/44\u001b[0m \u001b[32m━━━━━━━━━━━━━━━━━━━━\u001b[0m\u001b[37m\u001b[0m \u001b[1m0s\u001b[0m 1s/step - loss: 11.3064 - mae: 2.7839\n",
      "Epoch 9: saving model to model_checkpoint.keras\n",
      "\u001b[1m44/44\u001b[0m \u001b[32m━━━━━━━━━━━━━━━━━━━━\u001b[0m\u001b[37m\u001b[0m \u001b[1m48s\u001b[0m 1s/step - loss: 11.3111 - mae: 2.7847 - val_loss: 11.4357 - val_mae: 2.8051\n",
      "Epoch 10/300\n",
      "\u001b[1m44/44\u001b[0m \u001b[32m━━━━━━━━━━━━━━━━━━━━\u001b[0m\u001b[37m\u001b[0m \u001b[1m0s\u001b[0m 1s/step - loss: 11.2645 - mae: 2.7823\n",
      "Epoch 10: saving model to model_checkpoint.keras\n",
      "\u001b[1m44/44\u001b[0m \u001b[32m━━━━━━━━━━━━━━━━━━━━\u001b[0m\u001b[37m\u001b[0m \u001b[1m48s\u001b[0m 1s/step - loss: 11.2614 - mae: 2.7818 - val_loss: 11.4375 - val_mae: 2.8037\n",
      "Epoch 11/300\n",
      "\u001b[1m44/44\u001b[0m \u001b[32m━━━━━━━━━━━━━━━━━━━━\u001b[0m\u001b[37m\u001b[0m \u001b[1m0s\u001b[0m 1s/step - loss: 11.0997 - mae: 2.7488\n",
      "Epoch 11: saving model to model_checkpoint.keras\n",
      "\u001b[1m44/44\u001b[0m \u001b[32m━━━━━━━━━━━━━━━━━━━━\u001b[0m\u001b[37m\u001b[0m \u001b[1m48s\u001b[0m 1s/step - loss: 11.1047 - mae: 2.7495 - val_loss: 11.6689 - val_mae: 2.8001\n",
      "Epoch 12/300\n",
      "\u001b[1m44/44\u001b[0m \u001b[32m━━━━━━━━━━━━━━━━━━━━\u001b[0m\u001b[37m\u001b[0m \u001b[1m0s\u001b[0m 1s/step - loss: 10.9964 - mae: 2.7352\n",
      "Epoch 12: saving model to model_checkpoint.keras\n",
      "\u001b[1m44/44\u001b[0m \u001b[32m━━━━━━━━━━━━━━━━━━━━\u001b[0m\u001b[37m\u001b[0m \u001b[1m48s\u001b[0m 1s/step - loss: 11.0030 - mae: 2.7358 - val_loss: 11.2982 - val_mae: 2.7465\n",
      "Epoch 13/300\n",
      "\u001b[1m44/44\u001b[0m \u001b[32m━━━━━━━━━━━━━━━━━━━━\u001b[0m\u001b[37m\u001b[0m \u001b[1m0s\u001b[0m 1s/step - loss: 11.5295 - mae: 2.7872\n",
      "Epoch 13: saving model to model_checkpoint.keras\n",
      "\u001b[1m44/44\u001b[0m \u001b[32m━━━━━━━━━━━━━━━━━━━━\u001b[0m\u001b[37m\u001b[0m \u001b[1m47s\u001b[0m 1s/step - loss: 11.5206 - mae: 2.7863 - val_loss: 11.6840 - val_mae: 2.8007\n",
      "Epoch 14/300\n",
      "\u001b[1m44/44\u001b[0m \u001b[32m━━━━━━━━━━━━━━━━━━━━\u001b[0m\u001b[37m\u001b[0m \u001b[1m0s\u001b[0m 1s/step - loss: 11.1906 - mae: 2.7787\n",
      "Epoch 14: saving model to model_checkpoint.keras\n",
      "\u001b[1m44/44\u001b[0m \u001b[32m━━━━━━━━━━━━━━━━━━━━\u001b[0m\u001b[37m\u001b[0m \u001b[1m48s\u001b[0m 1s/step - loss: 11.1874 - mae: 2.7781 - val_loss: 10.9816 - val_mae: 2.7087\n",
      "Epoch 15/300\n",
      "\u001b[1m44/44\u001b[0m \u001b[32m━━━━━━━━━━━━━━━━━━━━\u001b[0m\u001b[37m\u001b[0m \u001b[1m0s\u001b[0m 1s/step - loss: 10.7188 - mae: 2.6681\n",
      "Epoch 15: saving model to model_checkpoint.keras\n",
      "\u001b[1m44/44\u001b[0m \u001b[32m━━━━━━━━━━━━━━━━━━━━\u001b[0m\u001b[37m\u001b[0m \u001b[1m47s\u001b[0m 1s/step - loss: 10.7278 - mae: 2.6698 - val_loss: 11.1362 - val_mae: 2.7047\n",
      "Epoch 16/300\n",
      "\u001b[1m44/44\u001b[0m \u001b[32m━━━━━━━━━━━━━━━━━━━━\u001b[0m\u001b[37m\u001b[0m \u001b[1m0s\u001b[0m 1s/step - loss: 10.7787 - mae: 2.7224\n",
      "Epoch 16: saving model to model_checkpoint.keras\n",
      "\u001b[1m44/44\u001b[0m \u001b[32m━━━━━━━━━━━━━━━━━━━━\u001b[0m\u001b[37m\u001b[0m \u001b[1m47s\u001b[0m 1s/step - loss: 10.7818 - mae: 2.7227 - val_loss: 11.0153 - val_mae: 2.7257\n",
      "Epoch 17/300\n",
      "\u001b[1m44/44\u001b[0m \u001b[32m━━━━━━━━━━━━━━━━━━━━\u001b[0m\u001b[37m\u001b[0m \u001b[1m0s\u001b[0m 1s/step - loss: 11.0310 - mae: 2.7296\n",
      "Epoch 17: saving model to model_checkpoint.keras\n",
      "\u001b[1m44/44\u001b[0m \u001b[32m━━━━━━━━━━━━━━━━━━━━\u001b[0m\u001b[37m\u001b[0m \u001b[1m48s\u001b[0m 1s/step - loss: 11.0232 - mae: 2.7284 - val_loss: 10.8489 - val_mae: 2.6769\n",
      "Epoch 18/300\n",
      "\u001b[1m44/44\u001b[0m \u001b[32m━━━━━━━━━━━━━━━━━━━━\u001b[0m\u001b[37m\u001b[0m \u001b[1m0s\u001b[0m 1s/step - loss: 10.3361 - mae: 2.6242\n",
      "Epoch 18: saving model to model_checkpoint.keras\n",
      "\u001b[1m44/44\u001b[0m \u001b[32m━━━━━━━━━━━━━━━━━━━━\u001b[0m\u001b[37m\u001b[0m \u001b[1m48s\u001b[0m 1s/step - loss: 10.3410 - mae: 2.6251 - val_loss: 10.8298 - val_mae: 2.6982\n",
      "Epoch 19/300\n",
      "\u001b[1m44/44\u001b[0m \u001b[32m━━━━━━━━━━━━━━━━━━━━\u001b[0m\u001b[37m\u001b[0m \u001b[1m0s\u001b[0m 1s/step - loss: 9.5046 - mae: 2.4997\n",
      "Epoch 19: saving model to model_checkpoint.keras\n",
      "\u001b[1m44/44\u001b[0m \u001b[32m━━━━━━━━━━━━━━━━━━━━\u001b[0m\u001b[37m\u001b[0m \u001b[1m47s\u001b[0m 1s/step - loss: 9.5226 - mae: 2.5028 - val_loss: 10.9449 - val_mae: 2.7099\n",
      "Epoch 20/300\n",
      "\u001b[1m44/44\u001b[0m \u001b[32m━━━━━━━━━━━━━━━━━━━━\u001b[0m\u001b[37m\u001b[0m \u001b[1m0s\u001b[0m 1s/step - loss: 9.8011 - mae: 2.5650\n",
      "Epoch 20: saving model to model_checkpoint.keras\n",
      "\u001b[1m44/44\u001b[0m \u001b[32m━━━━━━━━━━━━━━━━━━━━\u001b[0m\u001b[37m\u001b[0m \u001b[1m47s\u001b[0m 1s/step - loss: 9.8128 - mae: 2.5667 - val_loss: 11.1871 - val_mae: 2.7614\n",
      "Epoch 21/300\n",
      "\u001b[1m44/44\u001b[0m \u001b[32m━━━━━━━━━━━━━━━━━━━━\u001b[0m\u001b[37m\u001b[0m \u001b[1m0s\u001b[0m 1s/step - loss: 9.6885 - mae: 2.5432\n",
      "Epoch 21: saving model to model_checkpoint.keras\n",
      "\u001b[1m44/44\u001b[0m \u001b[32m━━━━━━━━━━━━━━━━━━━━\u001b[0m\u001b[37m\u001b[0m \u001b[1m48s\u001b[0m 1s/step - loss: 9.6999 - mae: 2.5451 - val_loss: 10.5691 - val_mae: 2.6249\n",
      "Epoch 22/300\n",
      "\u001b[1m44/44\u001b[0m \u001b[32m━━━━━━━━━━━━━━━━━━━━\u001b[0m\u001b[37m\u001b[0m \u001b[1m0s\u001b[0m 1s/step - loss: 10.1121 - mae: 2.6013\n",
      "Epoch 22: saving model to model_checkpoint.keras\n",
      "\u001b[1m44/44\u001b[0m \u001b[32m━━━━━━━━━━━━━━━━━━━━\u001b[0m\u001b[37m\u001b[0m \u001b[1m47s\u001b[0m 1s/step - loss: 10.1135 - mae: 2.6018 - val_loss: 10.5967 - val_mae: 2.6456\n",
      "Epoch 23/300\n",
      "\u001b[1m44/44\u001b[0m \u001b[32m━━━━━━━━━━━━━━━━━━━━\u001b[0m\u001b[37m\u001b[0m \u001b[1m0s\u001b[0m 1s/step - loss: 10.1312 - mae: 2.6124\n",
      "Epoch 23: saving model to model_checkpoint.keras\n",
      "\u001b[1m44/44\u001b[0m \u001b[32m━━━━━━━━━━━━━━━━━━━━\u001b[0m\u001b[37m\u001b[0m \u001b[1m48s\u001b[0m 1s/step - loss: 10.1342 - mae: 2.6127 - val_loss: 10.5390 - val_mae: 2.6005\n",
      "Epoch 24/300\n",
      "\u001b[1m44/44\u001b[0m \u001b[32m━━━━━━━━━━━━━━━━━━━━\u001b[0m\u001b[37m\u001b[0m \u001b[1m0s\u001b[0m 1s/step - loss: 10.1461 - mae: 2.6009\n",
      "Epoch 24: saving model to model_checkpoint.keras\n",
      "\u001b[1m44/44\u001b[0m \u001b[32m━━━━━━━━━━━━━━━━━━━━\u001b[0m\u001b[37m\u001b[0m \u001b[1m48s\u001b[0m 1s/step - loss: 10.1395 - mae: 2.6003 - val_loss: 10.5059 - val_mae: 2.6388\n",
      "Epoch 25/300\n",
      "\u001b[1m44/44\u001b[0m \u001b[32m━━━━━━━━━━━━━━━━━━━━\u001b[0m\u001b[37m\u001b[0m \u001b[1m0s\u001b[0m 1s/step - loss: 9.7369 - mae: 2.5415\n",
      "Epoch 25: saving model to model_checkpoint.keras\n",
      "\u001b[1m44/44\u001b[0m \u001b[32m━━━━━━━━━━━━━━━━━━━━\u001b[0m\u001b[37m\u001b[0m \u001b[1m48s\u001b[0m 1s/step - loss: 9.7374 - mae: 2.5418 - val_loss: 10.2809 - val_mae: 2.5830\n",
      "Epoch 26/300\n",
      "\u001b[1m44/44\u001b[0m \u001b[32m━━━━━━━━━━━━━━━━━━━━\u001b[0m\u001b[37m\u001b[0m \u001b[1m0s\u001b[0m 1s/step - loss: 9.9433 - mae: 2.5806\n",
      "Epoch 26: saving model to model_checkpoint.keras\n",
      "\u001b[1m44/44\u001b[0m \u001b[32m━━━━━━━━━━━━━━━━━━━━\u001b[0m\u001b[37m\u001b[0m \u001b[1m47s\u001b[0m 1s/step - loss: 9.9385 - mae: 2.5797 - val_loss: 10.3960 - val_mae: 2.6048\n",
      "Epoch 27/300\n",
      "\u001b[1m44/44\u001b[0m \u001b[32m━━━━━━━━━━━━━━━━━━━━\u001b[0m\u001b[37m\u001b[0m \u001b[1m0s\u001b[0m 1s/step - loss: 10.4628 - mae: 2.6608\n",
      "Epoch 27: saving model to model_checkpoint.keras\n",
      "\u001b[1m44/44\u001b[0m \u001b[32m━━━━━━━━━━━━━━━━━━━━\u001b[0m\u001b[37m\u001b[0m \u001b[1m47s\u001b[0m 1s/step - loss: 10.4517 - mae: 2.6590 - val_loss: 10.3544 - val_mae: 2.5677\n",
      "Epoch 28/300\n",
      "\u001b[1m44/44\u001b[0m \u001b[32m━━━━━━━━━━━━━━━━━━━━\u001b[0m\u001b[37m\u001b[0m \u001b[1m0s\u001b[0m 1s/step - loss: 9.1919 - mae: 2.4558\n",
      "Epoch 28: saving model to model_checkpoint.keras\n",
      "\u001b[1m44/44\u001b[0m \u001b[32m━━━━━━━━━━━━━━━━━━━━\u001b[0m\u001b[37m\u001b[0m \u001b[1m48s\u001b[0m 1s/step - loss: 9.1977 - mae: 2.4570 - val_loss: 10.0853 - val_mae: 2.5614\n",
      "Epoch 29/300\n",
      "\u001b[1m44/44\u001b[0m \u001b[32m━━━━━━━━━━━━━━━━━━━━\u001b[0m\u001b[37m\u001b[0m \u001b[1m0s\u001b[0m 1s/step - loss: 9.9984 - mae: 2.5970 \n",
      "Epoch 29: saving model to model_checkpoint.keras\n",
      "\u001b[1m44/44\u001b[0m \u001b[32m━━━━━━━━━━━━━━━━━━━━\u001b[0m\u001b[37m\u001b[0m \u001b[1m48s\u001b[0m 1s/step - loss: 9.9875 - mae: 2.5952 - val_loss: 10.0358 - val_mae: 2.5278\n",
      "Epoch 30/300\n",
      "\u001b[1m44/44\u001b[0m \u001b[32m━━━━━━━━━━━━━━━━━━━━\u001b[0m\u001b[37m\u001b[0m \u001b[1m0s\u001b[0m 1s/step - loss: 9.1802 - mae: 2.4694\n",
      "Epoch 30: saving model to model_checkpoint.keras\n",
      "\u001b[1m44/44\u001b[0m \u001b[32m━━━━━━━━━━━━━━━━━━━━\u001b[0m\u001b[37m\u001b[0m \u001b[1m48s\u001b[0m 1s/step - loss: 9.1835 - mae: 2.4697 - val_loss: 10.0210 - val_mae: 2.5434\n",
      "Epoch 31/300\n",
      "\u001b[1m44/44\u001b[0m \u001b[32m━━━━━━━━━━━━━━━━━━━━\u001b[0m\u001b[37m\u001b[0m \u001b[1m0s\u001b[0m 1s/step - loss: 9.3469 - mae: 2.4910\n",
      "Epoch 31: saving model to model_checkpoint.keras\n",
      "\u001b[1m44/44\u001b[0m \u001b[32m━━━━━━━━━━━━━━━━━━━━\u001b[0m\u001b[37m\u001b[0m \u001b[1m47s\u001b[0m 1s/step - loss: 9.3515 - mae: 2.4916 - val_loss: 10.0508 - val_mae: 2.5399\n",
      "Epoch 32/300\n",
      "\u001b[1m44/44\u001b[0m \u001b[32m━━━━━━━━━━━━━━━━━━━━\u001b[0m\u001b[37m\u001b[0m \u001b[1m0s\u001b[0m 1s/step - loss: 9.3361 - mae: 2.4953\n",
      "Epoch 32: saving model to model_checkpoint.keras\n",
      "\u001b[1m44/44\u001b[0m \u001b[32m━━━━━━━━━━━━━━━━━━━━\u001b[0m\u001b[37m\u001b[0m \u001b[1m48s\u001b[0m 1s/step - loss: 9.3366 - mae: 2.4952 - val_loss: 9.8708 - val_mae: 2.4686\n",
      "Epoch 33/300\n",
      "\u001b[1m44/44\u001b[0m \u001b[32m━━━━━━━━━━━━━━━━━━━━\u001b[0m\u001b[37m\u001b[0m \u001b[1m0s\u001b[0m 1s/step - loss: 9.0580 - mae: 2.4603\n",
      "Epoch 33: saving model to model_checkpoint.keras\n",
      "\u001b[1m44/44\u001b[0m \u001b[32m━━━━━━━━━━━━━━━━━━━━\u001b[0m\u001b[37m\u001b[0m \u001b[1m48s\u001b[0m 1s/step - loss: 9.0601 - mae: 2.4604 - val_loss: 9.8079 - val_mae: 2.5079\n",
      "Epoch 34/300\n",
      "\u001b[1m44/44\u001b[0m \u001b[32m━━━━━━━━━━━━━━━━━━━━\u001b[0m\u001b[37m\u001b[0m \u001b[1m0s\u001b[0m 1s/step - loss: 9.0822 - mae: 2.4502\n",
      "Epoch 34: saving model to model_checkpoint.keras\n",
      "\u001b[1m44/44\u001b[0m \u001b[32m━━━━━━━━━━━━━━━━━━━━\u001b[0m\u001b[37m\u001b[0m \u001b[1m48s\u001b[0m 1s/step - loss: 9.0808 - mae: 2.4498 - val_loss: 9.6666 - val_mae: 2.4697\n",
      "Epoch 35/300\n",
      "\u001b[1m44/44\u001b[0m \u001b[32m━━━━━━━━━━━━━━━━━━━━\u001b[0m\u001b[37m\u001b[0m \u001b[1m0s\u001b[0m 1s/step - loss: 9.3565 - mae: 2.4953\n",
      "Epoch 35: saving model to model_checkpoint.keras\n",
      "\u001b[1m44/44\u001b[0m \u001b[32m━━━━━━━━━━━━━━━━━━━━\u001b[0m\u001b[37m\u001b[0m \u001b[1m48s\u001b[0m 1s/step - loss: 9.3498 - mae: 2.4942 - val_loss: 9.9946 - val_mae: 2.5403\n",
      "Epoch 36/300\n",
      "\u001b[1m44/44\u001b[0m \u001b[32m━━━━━━━━━━━━━━━━━━━━\u001b[0m\u001b[37m\u001b[0m \u001b[1m0s\u001b[0m 1s/step - loss: 9.5763 - mae: 2.5489\n",
      "Epoch 36: saving model to model_checkpoint.keras\n",
      "\u001b[1m44/44\u001b[0m \u001b[32m━━━━━━━━━━━━━━━━━━━━\u001b[0m\u001b[37m\u001b[0m \u001b[1m47s\u001b[0m 1s/step - loss: 9.5614 - mae: 2.5461 - val_loss: 9.9648 - val_mae: 2.4732\n",
      "Epoch 37/300\n",
      "\u001b[1m44/44\u001b[0m \u001b[32m━━━━━━━━━━━━━━━━━━━━\u001b[0m\u001b[37m\u001b[0m \u001b[1m0s\u001b[0m 1s/step - loss: 8.7539 - mae: 2.3777\n",
      "Epoch 37: saving model to model_checkpoint.keras\n",
      "\u001b[1m44/44\u001b[0m \u001b[32m━━━━━━━━━━━━━━━━━━━━\u001b[0m\u001b[37m\u001b[0m \u001b[1m48s\u001b[0m 1s/step - loss: 8.7556 - mae: 2.3782 - val_loss: 9.5777 - val_mae: 2.4516\n",
      "Epoch 38/300\n",
      "\u001b[1m44/44\u001b[0m \u001b[32m━━━━━━━━━━━━━━━━━━━━\u001b[0m\u001b[37m\u001b[0m \u001b[1m0s\u001b[0m 1s/step - loss: 8.6519 - mae: 2.4128\n",
      "Epoch 38: saving model to model_checkpoint.keras\n",
      "\u001b[1m44/44\u001b[0m \u001b[32m━━━━━━━━━━━━━━━━━━━━\u001b[0m\u001b[37m\u001b[0m \u001b[1m47s\u001b[0m 1s/step - loss: 8.6523 - mae: 2.4126 - val_loss: 9.6771 - val_mae: 2.4652\n",
      "Epoch 39/300\n",
      "\u001b[1m44/44\u001b[0m \u001b[32m━━━━━━━━━━━━━━━━━━━━\u001b[0m\u001b[37m\u001b[0m \u001b[1m0s\u001b[0m 1s/step - loss: 8.2834 - mae: 2.3299\n",
      "Epoch 39: saving model to model_checkpoint.keras\n",
      "\u001b[1m44/44\u001b[0m \u001b[32m━━━━━━━━━━━━━━━━━━━━\u001b[0m\u001b[37m\u001b[0m \u001b[1m48s\u001b[0m 1s/step - loss: 8.2878 - mae: 2.3304 - val_loss: 9.8973 - val_mae: 2.5012\n",
      "Epoch 40/300\n",
      "\u001b[1m44/44\u001b[0m \u001b[32m━━━━━━━━━━━━━━━━━━━━\u001b[0m\u001b[37m\u001b[0m \u001b[1m0s\u001b[0m 1s/step - loss: 8.3668 - mae: 2.3249\n",
      "Epoch 40: saving model to model_checkpoint.keras\n",
      "\u001b[1m44/44\u001b[0m \u001b[32m━━━━━━━━━━━━━━━━━━━━\u001b[0m\u001b[37m\u001b[0m \u001b[1m48s\u001b[0m 1s/step - loss: 8.3696 - mae: 2.3255 - val_loss: 9.2809 - val_mae: 2.4156\n",
      "Epoch 41/300\n",
      "\u001b[1m44/44\u001b[0m \u001b[32m━━━━━━━━━━━━━━━━━━━━\u001b[0m\u001b[37m\u001b[0m \u001b[1m0s\u001b[0m 1s/step - loss: 8.4540 - mae: 2.3416\n",
      "Epoch 41: saving model to model_checkpoint.keras\n",
      "\u001b[1m44/44\u001b[0m \u001b[32m━━━━━━━━━━━━━━━━━━━━\u001b[0m\u001b[37m\u001b[0m \u001b[1m48s\u001b[0m 1s/step - loss: 8.4567 - mae: 2.3420 - val_loss: 9.5109 - val_mae: 2.4253\n",
      "Epoch 42/300\n",
      "\u001b[1m44/44\u001b[0m \u001b[32m━━━━━━━━━━━━━━━━━━━━\u001b[0m\u001b[37m\u001b[0m \u001b[1m0s\u001b[0m 1s/step - loss: 8.5018 - mae: 2.3608\n",
      "Epoch 42: saving model to model_checkpoint.keras\n",
      "\u001b[1m44/44\u001b[0m \u001b[32m━━━━━━━━━━━━━━━━━━━━\u001b[0m\u001b[37m\u001b[0m \u001b[1m47s\u001b[0m 1s/step - loss: 8.4961 - mae: 2.3598 - val_loss: 9.5019 - val_mae: 2.4274\n",
      "Epoch 43/300\n",
      "\u001b[1m44/44\u001b[0m \u001b[32m━━━━━━━━━━━━━━━━━━━━\u001b[0m\u001b[37m\u001b[0m \u001b[1m0s\u001b[0m 1s/step - loss: 8.4189 - mae: 2.3335\n",
      "Epoch 43: saving model to model_checkpoint.keras\n",
      "\u001b[1m44/44\u001b[0m \u001b[32m━━━━━━━━━━━━━━━━━━━━\u001b[0m\u001b[37m\u001b[0m \u001b[1m48s\u001b[0m 1s/step - loss: 8.4160 - mae: 2.3333 - val_loss: 9.1531 - val_mae: 2.3687\n",
      "Epoch 44/300\n",
      "\u001b[1m44/44\u001b[0m \u001b[32m━━━━━━━━━━━━━━━━━━━━\u001b[0m\u001b[37m\u001b[0m \u001b[1m0s\u001b[0m 1s/step - loss: 7.8611 - mae: 2.2658\n",
      "Epoch 44: saving model to model_checkpoint.keras\n",
      "\u001b[1m44/44\u001b[0m \u001b[32m━━━━━━━━━━━━━━━━━━━━\u001b[0m\u001b[37m\u001b[0m \u001b[1m48s\u001b[0m 1s/step - loss: 7.8670 - mae: 2.2667 - val_loss: 9.0595 - val_mae: 2.3785\n",
      "Epoch 45/300\n",
      "\u001b[1m44/44\u001b[0m \u001b[32m━━━━━━━━━━━━━━━━━━━━\u001b[0m\u001b[37m\u001b[0m \u001b[1m0s\u001b[0m 1s/step - loss: 8.2904 - mae: 2.3188\n",
      "Epoch 45: saving model to model_checkpoint.keras\n",
      "\u001b[1m44/44\u001b[0m \u001b[32m━━━━━━━━━━━━━━━━━━━━\u001b[0m\u001b[37m\u001b[0m \u001b[1m48s\u001b[0m 1s/step - loss: 8.2860 - mae: 2.3179 - val_loss: 9.2557 - val_mae: 2.3805\n",
      "Epoch 46/300\n",
      "\u001b[1m44/44\u001b[0m \u001b[32m━━━━━━━━━━━━━━━━━━━━\u001b[0m\u001b[37m\u001b[0m \u001b[1m0s\u001b[0m 1s/step - loss: 7.8520 - mae: 2.2262\n",
      "Epoch 46: saving model to model_checkpoint.keras\n",
      "\u001b[1m44/44\u001b[0m \u001b[32m━━━━━━━━━━━━━━━━━━━━\u001b[0m\u001b[37m\u001b[0m \u001b[1m48s\u001b[0m 1s/step - loss: 7.8591 - mae: 2.2274 - val_loss: 9.0039 - val_mae: 2.3681\n",
      "Epoch 47/300\n",
      "\u001b[1m44/44\u001b[0m \u001b[32m━━━━━━━━━━━━━━━━━━━━\u001b[0m\u001b[37m\u001b[0m \u001b[1m0s\u001b[0m 1s/step - loss: 7.8782 - mae: 2.2568\n",
      "Epoch 47: saving model to model_checkpoint.keras\n",
      "\u001b[1m44/44\u001b[0m \u001b[32m━━━━━━━━━━━━━━━━━━━━\u001b[0m\u001b[37m\u001b[0m \u001b[1m47s\u001b[0m 1s/step - loss: 7.8788 - mae: 2.2570 - val_loss: 9.0306 - val_mae: 2.3614\n",
      "Epoch 48/300\n",
      "\u001b[1m44/44\u001b[0m \u001b[32m━━━━━━━━━━━━━━━━━━━━\u001b[0m\u001b[37m\u001b[0m \u001b[1m0s\u001b[0m 1s/step - loss: 7.8929 - mae: 2.2529\n",
      "Epoch 48: saving model to model_checkpoint.keras\n",
      "\u001b[1m44/44\u001b[0m \u001b[32m━━━━━━━━━━━━━━━━━━━━\u001b[0m\u001b[37m\u001b[0m \u001b[1m48s\u001b[0m 1s/step - loss: 7.8909 - mae: 2.2528 - val_loss: 8.8192 - val_mae: 2.3055\n",
      "Epoch 49/300\n",
      "\u001b[1m44/44\u001b[0m \u001b[32m━━━━━━━━━━━━━━━━━━━━\u001b[0m\u001b[37m\u001b[0m \u001b[1m0s\u001b[0m 1s/step - loss: 7.5570 - mae: 2.2194\n",
      "Epoch 49: saving model to model_checkpoint.keras\n",
      "\u001b[1m44/44\u001b[0m \u001b[32m━━━━━━━━━━━━━━━━━━━━\u001b[0m\u001b[37m\u001b[0m \u001b[1m48s\u001b[0m 1s/step - loss: 7.5616 - mae: 2.2202 - val_loss: 8.7449 - val_mae: 2.3187\n",
      "Epoch 50/300\n",
      "\u001b[1m44/44\u001b[0m \u001b[32m━━━━━━━━━━━━━━━━━━━━\u001b[0m\u001b[37m\u001b[0m \u001b[1m0s\u001b[0m 1s/step - loss: 7.0770 - mae: 2.1184\n",
      "Epoch 50: saving model to model_checkpoint.keras\n",
      "\u001b[1m44/44\u001b[0m \u001b[32m━━━━━━━━━━━━━━━━━━━━\u001b[0m\u001b[37m\u001b[0m \u001b[1m47s\u001b[0m 1s/step - loss: 7.0881 - mae: 2.1202 - val_loss: 8.7839 - val_mae: 2.2855\n",
      "Epoch 51/300\n",
      "\u001b[1m44/44\u001b[0m \u001b[32m━━━━━━━━━━━━━━━━━━━━\u001b[0m\u001b[37m\u001b[0m \u001b[1m0s\u001b[0m 1s/step - loss: 7.1887 - mae: 2.1300\n",
      "Epoch 51: saving model to model_checkpoint.keras\n",
      "\u001b[1m44/44\u001b[0m \u001b[32m━━━━━━━━━━━━━━━━━━━━\u001b[0m\u001b[37m\u001b[0m \u001b[1m48s\u001b[0m 1s/step - loss: 7.1941 - mae: 2.1309 - val_loss: 8.7241 - val_mae: 2.2895\n",
      "Epoch 52/300\n",
      "\u001b[1m44/44\u001b[0m \u001b[32m━━━━━━━━━━━━━━━━━━━━\u001b[0m\u001b[37m\u001b[0m \u001b[1m0s\u001b[0m 1s/step - loss: 7.5036 - mae: 2.1837\n",
      "Epoch 52: saving model to model_checkpoint.keras\n",
      "\u001b[1m44/44\u001b[0m \u001b[32m━━━━━━━━━━━━━━━━━━━━\u001b[0m\u001b[37m\u001b[0m \u001b[1m47s\u001b[0m 1s/step - loss: 7.5067 - mae: 2.1844 - val_loss: 8.7402 - val_mae: 2.2747\n",
      "Epoch 53/300\n",
      "\u001b[1m44/44\u001b[0m \u001b[32m━━━━━━━━━━━━━━━━━━━━\u001b[0m\u001b[37m\u001b[0m \u001b[1m0s\u001b[0m 1s/step - loss: 7.1603 - mae: 2.1411\n",
      "Epoch 53: saving model to model_checkpoint.keras\n",
      "\u001b[1m44/44\u001b[0m \u001b[32m━━━━━━━━━━━━━━━━━━━━\u001b[0m\u001b[37m\u001b[0m \u001b[1m48s\u001b[0m 1s/step - loss: 7.1636 - mae: 2.1414 - val_loss: 8.6071 - val_mae: 2.2539\n",
      "Epoch 54/300\n",
      "\u001b[1m44/44\u001b[0m \u001b[32m━━━━━━━━━━━━━━━━━━━━\u001b[0m\u001b[37m\u001b[0m \u001b[1m0s\u001b[0m 1s/step - loss: 7.3417 - mae: 2.1530\n",
      "Epoch 54: saving model to model_checkpoint.keras\n",
      "\u001b[1m44/44\u001b[0m \u001b[32m━━━━━━━━━━━━━━━━━━━━\u001b[0m\u001b[37m\u001b[0m \u001b[1m48s\u001b[0m 1s/step - loss: 7.3412 - mae: 2.1533 - val_loss: 8.4927 - val_mae: 2.2468\n",
      "Epoch 55/300\n",
      "\u001b[1m44/44\u001b[0m \u001b[32m━━━━━━━━━━━━━━━━━━━━\u001b[0m\u001b[37m\u001b[0m \u001b[1m0s\u001b[0m 1s/step - loss: 7.2595 - mae: 2.1509\n",
      "Epoch 55: saving model to model_checkpoint.keras\n",
      "\u001b[1m44/44\u001b[0m \u001b[32m━━━━━━━━━━━━━━━━━━━━\u001b[0m\u001b[37m\u001b[0m \u001b[1m48s\u001b[0m 1s/step - loss: 7.2598 - mae: 2.1510 - val_loss: 8.4427 - val_mae: 2.2367\n",
      "Epoch 56/300\n",
      "\u001b[1m44/44\u001b[0m \u001b[32m━━━━━━━━━━━━━━━━━━━━\u001b[0m\u001b[37m\u001b[0m \u001b[1m0s\u001b[0m 1s/step - loss: 6.5890 - mae: 2.0381\n",
      "Epoch 56: saving model to model_checkpoint.keras\n",
      "\u001b[1m44/44\u001b[0m \u001b[32m━━━━━━━━━━━━━━━━━━━━\u001b[0m\u001b[37m\u001b[0m \u001b[1m48s\u001b[0m 1s/step - loss: 6.5970 - mae: 2.0395 - val_loss: 8.2929 - val_mae: 2.2097\n",
      "Epoch 57/300\n",
      "\u001b[1m44/44\u001b[0m \u001b[32m━━━━━━━━━━━━━━━━━━━━\u001b[0m\u001b[37m\u001b[0m \u001b[1m0s\u001b[0m 1s/step - loss: 6.7460 - mae: 2.0690\n",
      "Epoch 57: saving model to model_checkpoint.keras\n",
      "\u001b[1m44/44\u001b[0m \u001b[32m━━━━━━━━━━━━━━━━━━━━\u001b[0m\u001b[37m\u001b[0m \u001b[1m47s\u001b[0m 1s/step - loss: 6.7516 - mae: 2.0699 - val_loss: 8.6979 - val_mae: 2.2884\n",
      "Epoch 58/300\n",
      "\u001b[1m44/44\u001b[0m \u001b[32m━━━━━━━━━━━━━━━━━━━━\u001b[0m\u001b[37m\u001b[0m \u001b[1m0s\u001b[0m 1s/step - loss: 7.4582 - mae: 2.1785\n",
      "Epoch 58: saving model to model_checkpoint.keras\n",
      "\u001b[1m44/44\u001b[0m \u001b[32m━━━━━━━━━━━━━━━━━━━━\u001b[0m\u001b[37m\u001b[0m \u001b[1m47s\u001b[0m 1s/step - loss: 7.4448 - mae: 2.1762 - val_loss: 8.4267 - val_mae: 2.2139\n",
      "Epoch 59/300\n",
      "\u001b[1m44/44\u001b[0m \u001b[32m━━━━━━━━━━━━━━━━━━━━\u001b[0m\u001b[37m\u001b[0m \u001b[1m0s\u001b[0m 1s/step - loss: 7.1881 - mae: 2.1089\n",
      "Epoch 59: saving model to model_checkpoint.keras\n",
      "\u001b[1m44/44\u001b[0m \u001b[32m━━━━━━━━━━━━━━━━━━━━\u001b[0m\u001b[37m\u001b[0m \u001b[1m48s\u001b[0m 1s/step - loss: 7.1817 - mae: 2.1083 - val_loss: 8.2375 - val_mae: 2.1915\n",
      "Epoch 60/300\n",
      "\u001b[1m44/44\u001b[0m \u001b[32m━━━━━━━━━━━━━━━━━━━━\u001b[0m\u001b[37m\u001b[0m \u001b[1m0s\u001b[0m 1s/step - loss: 7.3852 - mae: 2.1856\n",
      "Epoch 60: saving model to model_checkpoint.keras\n",
      "\u001b[1m44/44\u001b[0m \u001b[32m━━━━━━━━━━━━━━━━━━━━\u001b[0m\u001b[37m\u001b[0m \u001b[1m48s\u001b[0m 1s/step - loss: 7.3780 - mae: 2.1839 - val_loss: 8.1275 - val_mae: 2.1736\n",
      "Epoch 61/300\n",
      "\u001b[1m44/44\u001b[0m \u001b[32m━━━━━━━━━━━━━━━━━━━━\u001b[0m\u001b[37m\u001b[0m \u001b[1m0s\u001b[0m 1s/step - loss: 6.6907 - mae: 2.0525\n",
      "Epoch 61: saving model to model_checkpoint.keras\n",
      "\u001b[1m44/44\u001b[0m \u001b[32m━━━━━━━━━━━━━━━━━━━━\u001b[0m\u001b[37m\u001b[0m \u001b[1m48s\u001b[0m 1s/step - loss: 6.6916 - mae: 2.0525 - val_loss: 7.9937 - val_mae: 2.1584\n",
      "Epoch 62/300\n",
      "\u001b[1m44/44\u001b[0m \u001b[32m━━━━━━━━━━━━━━━━━━━━\u001b[0m\u001b[37m\u001b[0m \u001b[1m0s\u001b[0m 1s/step - loss: 7.0259 - mae: 2.1069\n",
      "Epoch 62: saving model to model_checkpoint.keras\n",
      "\u001b[1m44/44\u001b[0m \u001b[32m━━━━━━━━━━━━━━━━━━━━\u001b[0m\u001b[37m\u001b[0m \u001b[1m48s\u001b[0m 1s/step - loss: 7.0188 - mae: 2.1059 - val_loss: 7.8987 - val_mae: 2.1548\n",
      "Epoch 63/300\n",
      "\u001b[1m44/44\u001b[0m \u001b[32m━━━━━━━━━━━━━━━━━━━━\u001b[0m\u001b[37m\u001b[0m \u001b[1m0s\u001b[0m 1s/step - loss: 6.7408 - mae: 2.0590\n",
      "Epoch 63: saving model to model_checkpoint.keras\n",
      "\u001b[1m44/44\u001b[0m \u001b[32m━━━━━━━━━━━━━━━━━━━━\u001b[0m\u001b[37m\u001b[0m \u001b[1m47s\u001b[0m 1s/step - loss: 6.7405 - mae: 2.0592 - val_loss: 7.9189 - val_mae: 2.1441\n",
      "Epoch 64/300\n",
      "\u001b[1m44/44\u001b[0m \u001b[32m━━━━━━━━━━━━━━━━━━━━\u001b[0m\u001b[37m\u001b[0m \u001b[1m0s\u001b[0m 1s/step - loss: 6.3916 - mae: 2.0104\n",
      "Epoch 64: saving model to model_checkpoint.keras\n",
      "\u001b[1m44/44\u001b[0m \u001b[32m━━━━━━━━━━━━━━━━━━━━\u001b[0m\u001b[37m\u001b[0m \u001b[1m47s\u001b[0m 1s/step - loss: 6.3929 - mae: 2.0104 - val_loss: 8.0200 - val_mae: 2.1358\n",
      "Epoch 65/300\n",
      "\u001b[1m44/44\u001b[0m \u001b[32m━━━━━━━━━━━━━━━━━━━━\u001b[0m\u001b[37m\u001b[0m \u001b[1m0s\u001b[0m 1s/step - loss: 6.2292 - mae: 1.9838\n",
      "Epoch 65: saving model to model_checkpoint.keras\n",
      "\u001b[1m44/44\u001b[0m \u001b[32m━━━━━━━━━━━━━━━━━━━━\u001b[0m\u001b[37m\u001b[0m \u001b[1m47s\u001b[0m 1s/step - loss: 6.2300 - mae: 1.9836 - val_loss: 8.0090 - val_mae: 2.1310\n",
      "Epoch 66/300\n",
      "\u001b[1m44/44\u001b[0m \u001b[32m━━━━━━━━━━━━━━━━━━━━\u001b[0m\u001b[37m\u001b[0m \u001b[1m0s\u001b[0m 1s/step - loss: 6.6028 - mae: 2.0504\n",
      "Epoch 66: saving model to model_checkpoint.keras\n",
      "\u001b[1m44/44\u001b[0m \u001b[32m━━━━━━━━━━━━━━━━━━━━\u001b[0m\u001b[37m\u001b[0m \u001b[1m48s\u001b[0m 1s/step - loss: 6.5957 - mae: 2.0488 - val_loss: 7.7013 - val_mae: 2.1093\n",
      "Epoch 67/300\n",
      "\u001b[1m44/44\u001b[0m \u001b[32m━━━━━━━━━━━━━━━━━━━━\u001b[0m\u001b[37m\u001b[0m \u001b[1m0s\u001b[0m 1s/step - loss: 6.2659 - mae: 1.9623\n",
      "Epoch 67: saving model to model_checkpoint.keras\n",
      "\u001b[1m44/44\u001b[0m \u001b[32m━━━━━━━━━━━━━━━━━━━━\u001b[0m\u001b[37m\u001b[0m \u001b[1m47s\u001b[0m 1s/step - loss: 6.2707 - mae: 1.9632 - val_loss: 7.8897 - val_mae: 2.1229\n",
      "Epoch 68/300\n",
      "\u001b[1m44/44\u001b[0m \u001b[32m━━━━━━━━━━━━━━━━━━━━\u001b[0m\u001b[37m\u001b[0m \u001b[1m0s\u001b[0m 1s/step - loss: 6.2554 - mae: 1.9740\n",
      "Epoch 68: saving model to model_checkpoint.keras\n",
      "\u001b[1m44/44\u001b[0m \u001b[32m━━━━━━━━━━━━━━━━━━━━\u001b[0m\u001b[37m\u001b[0m \u001b[1m48s\u001b[0m 1s/step - loss: 6.2553 - mae: 1.9740 - val_loss: 7.6168 - val_mae: 2.0865\n",
      "Epoch 69/300\n",
      "\u001b[1m44/44\u001b[0m \u001b[32m━━━━━━━━━━━━━━━━━━━━\u001b[0m\u001b[37m\u001b[0m \u001b[1m0s\u001b[0m 1s/step - loss: 6.0984 - mae: 1.9530\n",
      "Epoch 69: saving model to model_checkpoint.keras\n",
      "\u001b[1m44/44\u001b[0m \u001b[32m━━━━━━━━━━━━━━━━━━━━\u001b[0m\u001b[37m\u001b[0m \u001b[1m47s\u001b[0m 1s/step - loss: 6.0976 - mae: 1.9527 - val_loss: 7.6994 - val_mae: 2.1119\n",
      "Epoch 70/300\n",
      "\u001b[1m44/44\u001b[0m \u001b[32m━━━━━━━━━━━━━━━━━━━━\u001b[0m\u001b[37m\u001b[0m \u001b[1m0s\u001b[0m 1s/step - loss: 6.2255 - mae: 1.9860\n",
      "Epoch 70: saving model to model_checkpoint.keras\n",
      "\u001b[1m44/44\u001b[0m \u001b[32m━━━━━━━━━━━━━━━━━━━━\u001b[0m\u001b[37m\u001b[0m \u001b[1m47s\u001b[0m 1s/step - loss: 6.2244 - mae: 1.9857 - val_loss: 7.6487 - val_mae: 2.0899\n",
      "Epoch 71/300\n",
      "\u001b[1m44/44\u001b[0m \u001b[32m━━━━━━━━━━━━━━━━━━━━\u001b[0m\u001b[37m\u001b[0m \u001b[1m0s\u001b[0m 1s/step - loss: 5.9400 - mae: 1.9088\n",
      "Epoch 71: saving model to model_checkpoint.keras\n",
      "\u001b[1m44/44\u001b[0m \u001b[32m━━━━━━━━━━━━━━━━━━━━\u001b[0m\u001b[37m\u001b[0m \u001b[1m47s\u001b[0m 1s/step - loss: 5.9379 - mae: 1.9087 - val_loss: 8.0895 - val_mae: 2.1780\n",
      "Epoch 72/300\n",
      "\u001b[1m44/44\u001b[0m \u001b[32m━━━━━━━━━━━━━━━━━━━━\u001b[0m\u001b[37m\u001b[0m \u001b[1m0s\u001b[0m 1s/step - loss: 6.2361 - mae: 1.9836\n",
      "Epoch 72: saving model to model_checkpoint.keras\n",
      "\u001b[1m44/44\u001b[0m \u001b[32m━━━━━━━━━━━━━━━━━━━━\u001b[0m\u001b[37m\u001b[0m \u001b[1m48s\u001b[0m 1s/step - loss: 6.2368 - mae: 1.9834 - val_loss: 7.5613 - val_mae: 2.0690\n",
      "Epoch 73/300\n",
      "\u001b[1m44/44\u001b[0m \u001b[32m━━━━━━━━━━━━━━━━━━━━\u001b[0m\u001b[37m\u001b[0m \u001b[1m0s\u001b[0m 1s/step - loss: 5.7720 - mae: 1.9092\n",
      "Epoch 73: saving model to model_checkpoint.keras\n",
      "\u001b[1m44/44\u001b[0m \u001b[32m━━━━━━━━━━━━━━━━━━━━\u001b[0m\u001b[37m\u001b[0m \u001b[1m47s\u001b[0m 1s/step - loss: 5.7750 - mae: 1.9097 - val_loss: 7.5677 - val_mae: 2.0990\n",
      "Epoch 74/300\n",
      "\u001b[1m44/44\u001b[0m \u001b[32m━━━━━━━━━━━━━━━━━━━━\u001b[0m\u001b[37m\u001b[0m \u001b[1m0s\u001b[0m 1s/step - loss: 5.8534 - mae: 1.9135\n",
      "Epoch 74: saving model to model_checkpoint.keras\n",
      "\u001b[1m44/44\u001b[0m \u001b[32m━━━━━━━━━━━━━━━━━━━━\u001b[0m\u001b[37m\u001b[0m \u001b[1m47s\u001b[0m 1s/step - loss: 5.8532 - mae: 1.9132 - val_loss: 8.3235 - val_mae: 2.1564\n",
      "Epoch 75/300\n",
      "\u001b[1m44/44\u001b[0m \u001b[32m━━━━━━━━━━━━━━━━━━━━\u001b[0m\u001b[37m\u001b[0m \u001b[1m0s\u001b[0m 1s/step - loss: 6.1368 - mae: 1.9327\n",
      "Epoch 75: saving model to model_checkpoint.keras\n",
      "\u001b[1m44/44\u001b[0m \u001b[32m━━━━━━━━━━━━━━━━━━━━\u001b[0m\u001b[37m\u001b[0m \u001b[1m47s\u001b[0m 1s/step - loss: 6.1268 - mae: 1.9311 - val_loss: 7.6452 - val_mae: 2.0627\n",
      "Epoch 76/300\n",
      "\u001b[1m44/44\u001b[0m \u001b[32m━━━━━━━━━━━━━━━━━━━━\u001b[0m\u001b[37m\u001b[0m \u001b[1m0s\u001b[0m 1s/step - loss: 5.6063 - mae: 1.8465\n",
      "Epoch 76: saving model to model_checkpoint.keras\n",
      "\u001b[1m44/44\u001b[0m \u001b[32m━━━━━━━━━━━━━━━━━━━━\u001b[0m\u001b[37m\u001b[0m \u001b[1m48s\u001b[0m 1s/step - loss: 5.6067 - mae: 1.8468 - val_loss: 7.2900 - val_mae: 2.0339\n",
      "Epoch 77/300\n",
      "\u001b[1m44/44\u001b[0m \u001b[32m━━━━━━━━━━━━━━━━━━━━\u001b[0m\u001b[37m\u001b[0m \u001b[1m0s\u001b[0m 1s/step - loss: 5.6151 - mae: 1.8722\n",
      "Epoch 77: saving model to model_checkpoint.keras\n",
      "\u001b[1m44/44\u001b[0m \u001b[32m━━━━━━━━━━━━━━━━━━━━\u001b[0m\u001b[37m\u001b[0m \u001b[1m47s\u001b[0m 1s/step - loss: 5.6176 - mae: 1.8726 - val_loss: 7.5195 - val_mae: 2.0686\n",
      "Epoch 78/300\n",
      "\u001b[1m44/44\u001b[0m \u001b[32m━━━━━━━━━━━━━━━━━━━━\u001b[0m\u001b[37m\u001b[0m \u001b[1m0s\u001b[0m 1s/step - loss: 5.4445 - mae: 1.8387\n",
      "Epoch 78: saving model to model_checkpoint.keras\n",
      "\u001b[1m44/44\u001b[0m \u001b[32m━━━━━━━━━━━━━━━━━━━━\u001b[0m\u001b[37m\u001b[0m \u001b[1m48s\u001b[0m 1s/step - loss: 5.4410 - mae: 1.8378 - val_loss: 7.2802 - val_mae: 2.0289\n",
      "Epoch 79/300\n",
      "\u001b[1m44/44\u001b[0m \u001b[32m━━━━━━━━━━━━━━━━━━━━\u001b[0m\u001b[37m\u001b[0m \u001b[1m0s\u001b[0m 1s/step - loss: 5.6432 - mae: 1.8423\n",
      "Epoch 79: saving model to model_checkpoint.keras\n",
      "\u001b[1m44/44\u001b[0m \u001b[32m━━━━━━━━━━━━━━━━━━━━\u001b[0m\u001b[37m\u001b[0m \u001b[1m48s\u001b[0m 1s/step - loss: 5.6433 - mae: 1.8424 - val_loss: 7.2777 - val_mae: 2.0197\n",
      "Epoch 80/300\n",
      "\u001b[1m44/44\u001b[0m \u001b[32m━━━━━━━━━━━━━━━━━━━━\u001b[0m\u001b[37m\u001b[0m \u001b[1m0s\u001b[0m 1s/step - loss: 5.2370 - mae: 1.7802\n",
      "Epoch 80: saving model to model_checkpoint.keras\n",
      "\u001b[1m44/44\u001b[0m \u001b[32m━━━━━━━━━━━━━━━━━━━━\u001b[0m\u001b[37m\u001b[0m \u001b[1m48s\u001b[0m 1s/step - loss: 5.2366 - mae: 1.7802 - val_loss: 7.1379 - val_mae: 2.0150\n",
      "Epoch 81/300\n",
      "\u001b[1m44/44\u001b[0m \u001b[32m━━━━━━━━━━━━━━━━━━━━\u001b[0m\u001b[37m\u001b[0m \u001b[1m0s\u001b[0m 1s/step - loss: 5.0325 - mae: 1.7607\n",
      "Epoch 81: saving model to model_checkpoint.keras\n",
      "\u001b[1m44/44\u001b[0m \u001b[32m━━━━━━━━━━━━━━━━━━━━\u001b[0m\u001b[37m\u001b[0m \u001b[1m47s\u001b[0m 1s/step - loss: 5.0388 - mae: 1.7621 - val_loss: 7.4006 - val_mae: 2.0312\n",
      "Epoch 82/300\n",
      "\u001b[1m44/44\u001b[0m \u001b[32m━━━━━━━━━━━━━━━━━━━━\u001b[0m\u001b[37m\u001b[0m \u001b[1m0s\u001b[0m 1s/step - loss: 5.1962 - mae: 1.8055\n",
      "Epoch 82: saving model to model_checkpoint.keras\n",
      "\u001b[1m44/44\u001b[0m \u001b[32m━━━━━━━━━━━━━━━━━━━━\u001b[0m\u001b[37m\u001b[0m \u001b[1m48s\u001b[0m 1s/step - loss: 5.1991 - mae: 1.8059 - val_loss: 7.3323 - val_mae: 2.0199\n",
      "Epoch 83/300\n",
      "\u001b[1m44/44\u001b[0m \u001b[32m━━━━━━━━━━━━━━━━━━━━\u001b[0m\u001b[37m\u001b[0m \u001b[1m0s\u001b[0m 1s/step - loss: 4.8600 - mae: 1.7296\n",
      "Epoch 83: saving model to model_checkpoint.keras\n",
      "\u001b[1m44/44\u001b[0m \u001b[32m━━━━━━━━━━━━━━━━━━━━\u001b[0m\u001b[37m\u001b[0m \u001b[1m47s\u001b[0m 1s/step - loss: 4.8688 - mae: 1.7312 - val_loss: 7.4711 - val_mae: 2.0479\n",
      "Epoch 84/300\n",
      "\u001b[1m44/44\u001b[0m \u001b[32m━━━━━━━━━━━━━━━━━━━━\u001b[0m\u001b[37m\u001b[0m \u001b[1m0s\u001b[0m 1s/step - loss: 5.2986 - mae: 1.8006\n",
      "Epoch 84: saving model to model_checkpoint.keras\n",
      "\u001b[1m44/44\u001b[0m \u001b[32m━━━━━━━━━━━━━━━━━━━━\u001b[0m\u001b[37m\u001b[0m \u001b[1m48s\u001b[0m 1s/step - loss: 5.2982 - mae: 1.8005 - val_loss: 7.0283 - val_mae: 1.9706\n",
      "Epoch 85/300\n",
      "\u001b[1m44/44\u001b[0m \u001b[32m━━━━━━━━━━━━━━━━━━━━\u001b[0m\u001b[37m\u001b[0m \u001b[1m0s\u001b[0m 1s/step - loss: 4.8061 - mae: 1.6999\n",
      "Epoch 85: saving model to model_checkpoint.keras\n",
      "\u001b[1m44/44\u001b[0m \u001b[32m━━━━━━━━━━━━━━━━━━━━\u001b[0m\u001b[37m\u001b[0m \u001b[1m48s\u001b[0m 1s/step - loss: 4.8097 - mae: 1.7004 - val_loss: 6.9928 - val_mae: 1.9714\n",
      "Epoch 86/300\n",
      "\u001b[1m44/44\u001b[0m \u001b[32m━━━━━━━━━━━━━━━━━━━━\u001b[0m\u001b[37m\u001b[0m \u001b[1m0s\u001b[0m 1s/step - loss: 4.7258 - mae: 1.7197\n",
      "Epoch 86: saving model to model_checkpoint.keras\n",
      "\u001b[1m44/44\u001b[0m \u001b[32m━━━━━━━━━━━━━━━━━━━━\u001b[0m\u001b[37m\u001b[0m \u001b[1m48s\u001b[0m 1s/step - loss: 4.7343 - mae: 1.7209 - val_loss: 7.0476 - val_mae: 1.9801\n",
      "Epoch 87/300\n",
      "\u001b[1m44/44\u001b[0m \u001b[32m━━━━━━━━━━━━━━━━━━━━\u001b[0m\u001b[37m\u001b[0m \u001b[1m0s\u001b[0m 1s/step - loss: 4.8313 - mae: 1.7247\n",
      "Epoch 87: saving model to model_checkpoint.keras\n",
      "\u001b[1m44/44\u001b[0m \u001b[32m━━━━━━━━━━━━━━━━━━━━\u001b[0m\u001b[37m\u001b[0m \u001b[1m47s\u001b[0m 1s/step - loss: 4.8329 - mae: 1.7247 - val_loss: 7.0626 - val_mae: 1.9883\n",
      "Epoch 88/300\n",
      "\u001b[1m44/44\u001b[0m \u001b[32m━━━━━━━━━━━━━━━━━━━━\u001b[0m\u001b[37m\u001b[0m \u001b[1m0s\u001b[0m 1s/step - loss: 4.7920 - mae: 1.7002\n",
      "Epoch 88: saving model to model_checkpoint.keras\n",
      "\u001b[1m44/44\u001b[0m \u001b[32m━━━━━━━━━━━━━━━━━━━━\u001b[0m\u001b[37m\u001b[0m \u001b[1m47s\u001b[0m 1s/step - loss: 4.7945 - mae: 1.7008 - val_loss: 7.2348 - val_mae: 2.0004\n",
      "Epoch 89/300\n",
      "\u001b[1m44/44\u001b[0m \u001b[32m━━━━━━━━━━━━━━━━━━━━\u001b[0m\u001b[37m\u001b[0m \u001b[1m0s\u001b[0m 1s/step - loss: 4.7378 - mae: 1.6992\n",
      "Epoch 89: saving model to model_checkpoint.keras\n",
      "\u001b[1m44/44\u001b[0m \u001b[32m━━━━━━━━━━━━━━━━━━━━\u001b[0m\u001b[37m\u001b[0m \u001b[1m47s\u001b[0m 1s/step - loss: 4.7401 - mae: 1.6998 - val_loss: 7.1716 - val_mae: 2.0130\n",
      "Epoch 90/300\n",
      "\u001b[1m44/44\u001b[0m \u001b[32m━━━━━━━━━━━━━━━━━━━━\u001b[0m\u001b[37m\u001b[0m \u001b[1m0s\u001b[0m 1s/step - loss: 4.3360 - mae: 1.6034\n",
      "Epoch 90: saving model to model_checkpoint.keras\n",
      "\u001b[1m44/44\u001b[0m \u001b[32m━━━━━━━━━━━━━━━━━━━━\u001b[0m\u001b[37m\u001b[0m \u001b[1m47s\u001b[0m 1s/step - loss: 4.3408 - mae: 1.6045 - val_loss: 7.5391 - val_mae: 2.0242\n",
      "Epoch 91/300\n",
      "\u001b[1m44/44\u001b[0m \u001b[32m━━━━━━━━━━━━━━━━━━━━\u001b[0m\u001b[37m\u001b[0m \u001b[1m0s\u001b[0m 1s/step - loss: 4.8389 - mae: 1.7162\n",
      "Epoch 91: saving model to model_checkpoint.keras\n",
      "\u001b[1m44/44\u001b[0m \u001b[32m━━━━━━━━━━━━━━━━━━━━\u001b[0m\u001b[37m\u001b[0m \u001b[1m48s\u001b[0m 1s/step - loss: 4.8375 - mae: 1.7158 - val_loss: 6.7122 - val_mae: 1.9248\n",
      "Epoch 92/300\n",
      "\u001b[1m44/44\u001b[0m \u001b[32m━━━━━━━━━━━━━━━━━━━━\u001b[0m\u001b[37m\u001b[0m \u001b[1m0s\u001b[0m 1s/step - loss: 4.4471 - mae: 1.6336\n",
      "Epoch 92: saving model to model_checkpoint.keras\n",
      "\u001b[1m44/44\u001b[0m \u001b[32m━━━━━━━━━━━━━━━━━━━━\u001b[0m\u001b[37m\u001b[0m \u001b[1m47s\u001b[0m 1s/step - loss: 4.4483 - mae: 1.6339 - val_loss: 6.6198 - val_mae: 1.9067\n",
      "Epoch 93/300\n",
      "\u001b[1m44/44\u001b[0m \u001b[32m━━━━━━━━━━━━━━━━━━━━\u001b[0m\u001b[37m\u001b[0m \u001b[1m0s\u001b[0m 1s/step - loss: 4.5987 - mae: 1.6483\n",
      "Epoch 93: saving model to model_checkpoint.keras\n",
      "\u001b[1m44/44\u001b[0m \u001b[32m━━━━━━━━━━━━━━━━━━━━\u001b[0m\u001b[37m\u001b[0m \u001b[1m47s\u001b[0m 1s/step - loss: 4.6020 - mae: 1.6491 - val_loss: 6.8046 - val_mae: 1.9567\n",
      "Epoch 94/300\n",
      "\u001b[1m44/44\u001b[0m \u001b[32m━━━━━━━━━━━━━━━━━━━━\u001b[0m\u001b[37m\u001b[0m \u001b[1m0s\u001b[0m 1s/step - loss: 4.6928 - mae: 1.6647\n",
      "Epoch 94: saving model to model_checkpoint.keras\n",
      "\u001b[1m44/44\u001b[0m \u001b[32m━━━━━━━━━━━━━━━━━━━━\u001b[0m\u001b[37m\u001b[0m \u001b[1m47s\u001b[0m 1s/step - loss: 4.6898 - mae: 1.6645 - val_loss: 6.6656 - val_mae: 1.9351\n",
      "Epoch 95/300\n",
      "\u001b[1m44/44\u001b[0m \u001b[32m━━━━━━━━━━━━━━━━━━━━\u001b[0m\u001b[37m\u001b[0m \u001b[1m0s\u001b[0m 1s/step - loss: 4.5595 - mae: 1.6729\n",
      "Epoch 95: saving model to model_checkpoint.keras\n",
      "\u001b[1m44/44\u001b[0m \u001b[32m━━━━━━━━━━━━━━━━━━━━\u001b[0m\u001b[37m\u001b[0m \u001b[1m47s\u001b[0m 1s/step - loss: 4.5638 - mae: 1.6738 - val_loss: 6.9353 - val_mae: 1.9708\n",
      "Epoch 96/300\n",
      "\u001b[1m44/44\u001b[0m \u001b[32m━━━━━━━━━━━━━━━━━━━━\u001b[0m\u001b[37m\u001b[0m \u001b[1m0s\u001b[0m 1s/step - loss: 4.1712 - mae: 1.5873\n",
      "Epoch 96: saving model to model_checkpoint.keras\n",
      "\u001b[1m44/44\u001b[0m \u001b[32m━━━━━━━━━━━━━━━━━━━━\u001b[0m\u001b[37m\u001b[0m \u001b[1m48s\u001b[0m 1s/step - loss: 4.1752 - mae: 1.5883 - val_loss: 6.5841 - val_mae: 1.9134\n",
      "Epoch 97/300\n",
      "\u001b[1m44/44\u001b[0m \u001b[32m━━━━━━━━━━━━━━━━━━━━\u001b[0m\u001b[37m\u001b[0m \u001b[1m0s\u001b[0m 1s/step - loss: 4.2393 - mae: 1.5895\n",
      "Epoch 97: saving model to model_checkpoint.keras\n",
      "\u001b[1m44/44\u001b[0m \u001b[32m━━━━━━━━━━━━━━━━━━━━\u001b[0m\u001b[37m\u001b[0m \u001b[1m48s\u001b[0m 1s/step - loss: 4.2459 - mae: 1.5908 - val_loss: 6.8981 - val_mae: 1.9505\n",
      "Epoch 98/300\n",
      "\u001b[1m44/44\u001b[0m \u001b[32m━━━━━━━━━━━━━━━━━━━━\u001b[0m\u001b[37m\u001b[0m \u001b[1m0s\u001b[0m 1s/step - loss: 4.9268 - mae: 1.7197\n",
      "Epoch 98: saving model to model_checkpoint.keras\n",
      "\u001b[1m44/44\u001b[0m \u001b[32m━━━━━━━━━━━━━━━━━━━━\u001b[0m\u001b[37m\u001b[0m \u001b[1m48s\u001b[0m 1s/step - loss: 4.9220 - mae: 1.7187 - val_loss: 6.4848 - val_mae: 1.9046\n",
      "Epoch 99/300\n",
      "\u001b[1m44/44\u001b[0m \u001b[32m━━━━━━━━━━━━━━━━━━━━\u001b[0m\u001b[37m\u001b[0m \u001b[1m0s\u001b[0m 1s/step - loss: 4.3411 - mae: 1.6248\n",
      "Epoch 99: saving model to model_checkpoint.keras\n",
      "\u001b[1m44/44\u001b[0m \u001b[32m━━━━━━━━━━━━━━━━━━━━\u001b[0m\u001b[37m\u001b[0m \u001b[1m48s\u001b[0m 1s/step - loss: 4.3410 - mae: 1.6246 - val_loss: 6.8809 - val_mae: 1.9456\n",
      "Epoch 100/300\n",
      "\u001b[1m44/44\u001b[0m \u001b[32m━━━━━━━━━━━━━━━━━━━━\u001b[0m\u001b[37m\u001b[0m \u001b[1m0s\u001b[0m 1s/step - loss: 4.3078 - mae: 1.6036\n",
      "Epoch 100: saving model to model_checkpoint.keras\n",
      "\u001b[1m44/44\u001b[0m \u001b[32m━━━━━━━━━━━━━━━━━━━━\u001b[0m\u001b[37m\u001b[0m \u001b[1m47s\u001b[0m 1s/step - loss: 4.3082 - mae: 1.6038 - val_loss: 6.5128 - val_mae: 1.8844\n",
      "Epoch 101/300\n",
      "\u001b[1m44/44\u001b[0m \u001b[32m━━━━━━━━━━━━━━━━━━━━\u001b[0m\u001b[37m\u001b[0m \u001b[1m0s\u001b[0m 1s/step - loss: 4.2270 - mae: 1.6090\n",
      "Epoch 101: saving model to model_checkpoint.keras\n",
      "\u001b[1m44/44\u001b[0m \u001b[32m━━━━━━━━━━━━━━━━━━━━\u001b[0m\u001b[37m\u001b[0m \u001b[1m48s\u001b[0m 1s/step - loss: 4.2267 - mae: 1.6087 - val_loss: 6.6088 - val_mae: 1.8841\n",
      "Epoch 102/300\n",
      "\u001b[1m44/44\u001b[0m \u001b[32m━━━━━━━━━━━━━━━━━━━━\u001b[0m\u001b[37m\u001b[0m \u001b[1m0s\u001b[0m 1s/step - loss: 4.0040 - mae: 1.5372\n",
      "Epoch 102: saving model to model_checkpoint.keras\n",
      "\u001b[1m44/44\u001b[0m \u001b[32m━━━━━━━━━━━━━━━━━━━━\u001b[0m\u001b[37m\u001b[0m \u001b[1m48s\u001b[0m 1s/step - loss: 4.0058 - mae: 1.5380 - val_loss: 6.4664 - val_mae: 1.8904\n",
      "Epoch 103/300\n",
      "\u001b[1m44/44\u001b[0m \u001b[32m━━━━━━━━━━━━━━━━━━━━\u001b[0m\u001b[37m\u001b[0m \u001b[1m0s\u001b[0m 1s/step - loss: 3.6468 - mae: 1.4830\n",
      "Epoch 103: saving model to model_checkpoint.keras\n",
      "\u001b[1m44/44\u001b[0m \u001b[32m━━━━━━━━━━━━━━━━━━━━\u001b[0m\u001b[37m\u001b[0m \u001b[1m48s\u001b[0m 1s/step - loss: 3.6538 - mae: 1.4844 - val_loss: 6.3329 - val_mae: 1.8719\n",
      "Epoch 104/300\n",
      "\u001b[1m44/44\u001b[0m \u001b[32m━━━━━━━━━━━━━━━━━━━━\u001b[0m\u001b[37m\u001b[0m \u001b[1m0s\u001b[0m 1s/step - loss: 4.0205 - mae: 1.5699\n",
      "Epoch 104: saving model to model_checkpoint.keras\n",
      "\u001b[1m44/44\u001b[0m \u001b[32m━━━━━━━━━━━━━━━━━━━━\u001b[0m\u001b[37m\u001b[0m \u001b[1m47s\u001b[0m 1s/step - loss: 4.0176 - mae: 1.5692 - val_loss: 6.3712 - val_mae: 1.8542\n",
      "Epoch 105/300\n",
      "\u001b[1m44/44\u001b[0m \u001b[32m━━━━━━━━━━━━━━━━━━━━\u001b[0m\u001b[37m\u001b[0m \u001b[1m0s\u001b[0m 1s/step - loss: 4.4186 - mae: 1.6265\n",
      "Epoch 105: saving model to model_checkpoint.keras\n",
      "\u001b[1m44/44\u001b[0m \u001b[32m━━━━━━━━━━━━━━━━━━━━\u001b[0m\u001b[37m\u001b[0m \u001b[1m48s\u001b[0m 1s/step - loss: 4.4124 - mae: 1.6254 - val_loss: 6.3002 - val_mae: 1.8474\n",
      "Epoch 106/300\n",
      "\u001b[1m44/44\u001b[0m \u001b[32m━━━━━━━━━━━━━━━━━━━━\u001b[0m\u001b[37m\u001b[0m \u001b[1m0s\u001b[0m 1s/step - loss: 3.9677 - mae: 1.5453\n",
      "Epoch 106: saving model to model_checkpoint.keras\n",
      "\u001b[1m44/44\u001b[0m \u001b[32m━━━━━━━━━━━━━━━━━━━━\u001b[0m\u001b[37m\u001b[0m \u001b[1m48s\u001b[0m 1s/step - loss: 3.9683 - mae: 1.5453 - val_loss: 6.2262 - val_mae: 1.8344\n",
      "Epoch 107/300\n",
      "\u001b[1m44/44\u001b[0m \u001b[32m━━━━━━━━━━━━━━━━━━━━\u001b[0m\u001b[37m\u001b[0m \u001b[1m0s\u001b[0m 1s/step - loss: 3.9683 - mae: 1.5197\n",
      "Epoch 107: saving model to model_checkpoint.keras\n",
      "\u001b[1m44/44\u001b[0m \u001b[32m━━━━━━━━━━━━━━━━━━━━\u001b[0m\u001b[37m\u001b[0m \u001b[1m47s\u001b[0m 1s/step - loss: 3.9681 - mae: 1.5198 - val_loss: 6.7546 - val_mae: 1.9131\n",
      "Epoch 108/300\n",
      "\u001b[1m44/44\u001b[0m \u001b[32m━━━━━━━━━━━━━━━━━━━━\u001b[0m\u001b[37m\u001b[0m \u001b[1m0s\u001b[0m 1s/step - loss: 3.9201 - mae: 1.5270\n",
      "Epoch 108: saving model to model_checkpoint.keras\n",
      "\u001b[1m44/44\u001b[0m \u001b[32m━━━━━━━━━━━━━━━━━━━━\u001b[0m\u001b[37m\u001b[0m \u001b[1m47s\u001b[0m 1s/step - loss: 3.9187 - mae: 1.5265 - val_loss: 6.2430 - val_mae: 1.8308\n",
      "Epoch 109/300\n",
      "\u001b[1m44/44\u001b[0m \u001b[32m━━━━━━━━━━━━━━━━━━━━\u001b[0m\u001b[37m\u001b[0m \u001b[1m0s\u001b[0m 1s/step - loss: 3.4786 - mae: 1.4383\n",
      "Epoch 109: saving model to model_checkpoint.keras\n",
      "\u001b[1m44/44\u001b[0m \u001b[32m━━━━━━━━━━━━━━━━━━━━\u001b[0m\u001b[37m\u001b[0m \u001b[1m47s\u001b[0m 1s/step - loss: 3.4853 - mae: 1.4398 - val_loss: 6.2659 - val_mae: 1.8234\n",
      "Epoch 110/300\n",
      "\u001b[1m44/44\u001b[0m \u001b[32m━━━━━━━━━━━━━━━━━━━━\u001b[0m\u001b[37m\u001b[0m \u001b[1m0s\u001b[0m 1s/step - loss: 4.0112 - mae: 1.5506\n",
      "Epoch 110: saving model to model_checkpoint.keras\n",
      "\u001b[1m44/44\u001b[0m \u001b[32m━━━━━━━━━━━━━━━━━━━━\u001b[0m\u001b[37m\u001b[0m \u001b[1m47s\u001b[0m 1s/step - loss: 4.0094 - mae: 1.5501 - val_loss: 6.2668 - val_mae: 1.8502\n",
      "Epoch 111/300\n",
      "\u001b[1m44/44\u001b[0m \u001b[32m━━━━━━━━━━━━━━━━━━━━\u001b[0m\u001b[37m\u001b[0m \u001b[1m0s\u001b[0m 1s/step - loss: 3.7632 - mae: 1.4751\n",
      "Epoch 111: saving model to model_checkpoint.keras\n",
      "\u001b[1m44/44\u001b[0m \u001b[32m━━━━━━━━━━━━━━━━━━━━\u001b[0m\u001b[37m\u001b[0m \u001b[1m48s\u001b[0m 1s/step - loss: 3.7634 - mae: 1.4754 - val_loss: 5.8759 - val_mae: 1.7665\n",
      "Epoch 112/300\n",
      "\u001b[1m44/44\u001b[0m \u001b[32m━━━━━━━━━━━━━━━━━━━━\u001b[0m\u001b[37m\u001b[0m \u001b[1m0s\u001b[0m 1s/step - loss: 3.7429 - mae: 1.5062\n",
      "Epoch 112: saving model to model_checkpoint.keras\n",
      "\u001b[1m44/44\u001b[0m \u001b[32m━━━━━━━━━━━━━━━━━━━━\u001b[0m\u001b[37m\u001b[0m \u001b[1m47s\u001b[0m 1s/step - loss: 3.7429 - mae: 1.5060 - val_loss: 5.9936 - val_mae: 1.8242\n",
      "Epoch 113/300\n",
      "\u001b[1m44/44\u001b[0m \u001b[32m━━━━━━━━━━━━━━━━━━━━\u001b[0m\u001b[37m\u001b[0m \u001b[1m0s\u001b[0m 1s/step - loss: 3.7779 - mae: 1.4934\n",
      "Epoch 113: saving model to model_checkpoint.keras\n",
      "\u001b[1m44/44\u001b[0m \u001b[32m━━━━━━━━━━━━━━━━━━━━\u001b[0m\u001b[37m\u001b[0m \u001b[1m47s\u001b[0m 1s/step - loss: 3.7747 - mae: 1.4927 - val_loss: 6.0167 - val_mae: 1.8073\n",
      "Epoch 114/300\n",
      "\u001b[1m44/44\u001b[0m \u001b[32m━━━━━━━━━━━━━━━━━━━━\u001b[0m\u001b[37m\u001b[0m \u001b[1m0s\u001b[0m 1s/step - loss: 3.4766 - mae: 1.4441\n",
      "Epoch 114: saving model to model_checkpoint.keras\n",
      "\u001b[1m44/44\u001b[0m \u001b[32m━━━━━━━━━━━━━━━━━━━━\u001b[0m\u001b[37m\u001b[0m \u001b[1m47s\u001b[0m 1s/step - loss: 3.4804 - mae: 1.4448 - val_loss: 6.2756 - val_mae: 1.8512\n",
      "Epoch 115/300\n",
      "\u001b[1m44/44\u001b[0m \u001b[32m━━━━━━━━━━━━━━━━━━━━\u001b[0m\u001b[37m\u001b[0m \u001b[1m0s\u001b[0m 1s/step - loss: 3.6640 - mae: 1.4816\n",
      "Epoch 115: saving model to model_checkpoint.keras\n",
      "\u001b[1m44/44\u001b[0m \u001b[32m━━━━━━━━━━━━━━━━━━━━\u001b[0m\u001b[37m\u001b[0m \u001b[1m47s\u001b[0m 1s/step - loss: 3.6609 - mae: 1.4808 - val_loss: 6.1140 - val_mae: 1.8262\n",
      "Epoch 116/300\n",
      "\u001b[1m44/44\u001b[0m \u001b[32m━━━━━━━━━━━━━━━━━━━━\u001b[0m\u001b[37m\u001b[0m \u001b[1m0s\u001b[0m 1s/step - loss: 3.5398 - mae: 1.4411\n",
      "Epoch 116: saving model to model_checkpoint.keras\n",
      "\u001b[1m44/44\u001b[0m \u001b[32m━━━━━━━━━━━━━━━━━━━━\u001b[0m\u001b[37m\u001b[0m \u001b[1m47s\u001b[0m 1s/step - loss: 3.5382 - mae: 1.4411 - val_loss: 6.2974 - val_mae: 1.8519\n",
      "Epoch 117/300\n",
      "\u001b[1m44/44\u001b[0m \u001b[32m━━━━━━━━━━━━━━━━━━━━\u001b[0m\u001b[37m\u001b[0m \u001b[1m0s\u001b[0m 1s/step - loss: 3.4988 - mae: 1.4251\n",
      "Epoch 117: saving model to model_checkpoint.keras\n",
      "\u001b[1m44/44\u001b[0m \u001b[32m━━━━━━━━━━━━━━━━━━━━\u001b[0m\u001b[37m\u001b[0m \u001b[1m47s\u001b[0m 1s/step - loss: 3.4982 - mae: 1.4250 - val_loss: 6.1558 - val_mae: 1.8306\n",
      "Epoch 118/300\n",
      "\u001b[1m44/44\u001b[0m \u001b[32m━━━━━━━━━━━━━━━━━━━━\u001b[0m\u001b[37m\u001b[0m \u001b[1m0s\u001b[0m 1s/step - loss: 3.4178 - mae: 1.4046\n",
      "Epoch 118: saving model to model_checkpoint.keras\n",
      "\u001b[1m44/44\u001b[0m \u001b[32m━━━━━━━━━━━━━━━━━━━━\u001b[0m\u001b[37m\u001b[0m \u001b[1m48s\u001b[0m 1s/step - loss: 3.4157 - mae: 1.4042 - val_loss: 5.7359 - val_mae: 1.7461\n",
      "Epoch 119/300\n",
      "\u001b[1m44/44\u001b[0m \u001b[32m━━━━━━━━━━━━━━━━━━━━\u001b[0m\u001b[37m\u001b[0m \u001b[1m0s\u001b[0m 1s/step - loss: 3.4283 - mae: 1.4092\n",
      "Epoch 119: saving model to model_checkpoint.keras\n",
      "\u001b[1m44/44\u001b[0m \u001b[32m━━━━━━━━━━━━━━━━━━━━\u001b[0m\u001b[37m\u001b[0m \u001b[1m47s\u001b[0m 1s/step - loss: 3.4292 - mae: 1.4094 - val_loss: 5.7333 - val_mae: 1.7438\n",
      "Epoch 120/300\n",
      "\u001b[1m44/44\u001b[0m \u001b[32m━━━━━━━━━━━━━━━━━━━━\u001b[0m\u001b[37m\u001b[0m \u001b[1m0s\u001b[0m 1s/step - loss: 3.2375 - mae: 1.3693\n",
      "Epoch 120: saving model to model_checkpoint.keras\n",
      "\u001b[1m44/44\u001b[0m \u001b[32m━━━━━━━━━━━━━━━━━━━━\u001b[0m\u001b[37m\u001b[0m \u001b[1m47s\u001b[0m 1s/step - loss: 3.2366 - mae: 1.3692 - val_loss: 5.8468 - val_mae: 1.7498\n",
      "Epoch 121/300\n",
      "\u001b[1m44/44\u001b[0m \u001b[32m━━━━━━━━━━━━━━━━━━━━\u001b[0m\u001b[37m\u001b[0m \u001b[1m0s\u001b[0m 1s/step - loss: 3.4177 - mae: 1.4142\n",
      "Epoch 121: saving model to model_checkpoint.keras\n",
      "\u001b[1m44/44\u001b[0m \u001b[32m━━━━━━━━━━━━━━━━━━━━\u001b[0m\u001b[37m\u001b[0m \u001b[1m47s\u001b[0m 1s/step - loss: 3.4162 - mae: 1.4140 - val_loss: 5.9334 - val_mae: 1.7755\n",
      "Epoch 122/300\n",
      "\u001b[1m44/44\u001b[0m \u001b[32m━━━━━━━━━━━━━━━━━━━━\u001b[0m\u001b[37m\u001b[0m \u001b[1m0s\u001b[0m 1s/step - loss: 3.2295 - mae: 1.3857\n",
      "Epoch 122: saving model to model_checkpoint.keras\n",
      "\u001b[1m44/44\u001b[0m \u001b[32m━━━━━━━━━━━━━━━━━━━━\u001b[0m\u001b[37m\u001b[0m \u001b[1m47s\u001b[0m 1s/step - loss: 3.2272 - mae: 1.3852 - val_loss: 5.6223 - val_mae: 1.7254\n",
      "Epoch 123/300\n",
      "\u001b[1m44/44\u001b[0m \u001b[32m━━━━━━━━━━━━━━━━━━━━\u001b[0m\u001b[37m\u001b[0m \u001b[1m0s\u001b[0m 1s/step - loss: 3.0458 - mae: 1.3365\n",
      "Epoch 123: saving model to model_checkpoint.keras\n",
      "\u001b[1m44/44\u001b[0m \u001b[32m━━━━━━━━━━━━━━━━━━━━\u001b[0m\u001b[37m\u001b[0m \u001b[1m47s\u001b[0m 1s/step - loss: 3.0491 - mae: 1.3373 - val_loss: 5.6737 - val_mae: 1.7423\n",
      "Epoch 124/300\n",
      "\u001b[1m44/44\u001b[0m \u001b[32m━━━━━━━━━━━━━━━━━━━━\u001b[0m\u001b[37m\u001b[0m \u001b[1m0s\u001b[0m 1s/step - loss: 3.3701 - mae: 1.3819\n",
      "Epoch 124: saving model to model_checkpoint.keras\n",
      "\u001b[1m44/44\u001b[0m \u001b[32m━━━━━━━━━━━━━━━━━━━━\u001b[0m\u001b[37m\u001b[0m \u001b[1m47s\u001b[0m 1s/step - loss: 3.3683 - mae: 1.3817 - val_loss: 6.0042 - val_mae: 1.7828\n",
      "Epoch 125/300\n",
      "\u001b[1m44/44\u001b[0m \u001b[32m━━━━━━━━━━━━━━━━━━━━\u001b[0m\u001b[37m\u001b[0m \u001b[1m0s\u001b[0m 1s/step - loss: 3.2620 - mae: 1.3617\n",
      "Epoch 125: saving model to model_checkpoint.keras\n",
      "\u001b[1m44/44\u001b[0m \u001b[32m━━━━━━━━━━━━━━━━━━━━\u001b[0m\u001b[37m\u001b[0m \u001b[1m48s\u001b[0m 1s/step - loss: 3.2599 - mae: 1.3616 - val_loss: 5.6118 - val_mae: 1.7161\n",
      "Epoch 126/300\n",
      "\u001b[1m44/44\u001b[0m \u001b[32m━━━━━━━━━━━━━━━━━━━━\u001b[0m\u001b[37m\u001b[0m \u001b[1m0s\u001b[0m 1s/step - loss: 3.0520 - mae: 1.3281\n",
      "Epoch 126: saving model to model_checkpoint.keras\n",
      "\u001b[1m44/44\u001b[0m \u001b[32m━━━━━━━━━━━━━━━━━━━━\u001b[0m\u001b[37m\u001b[0m \u001b[1m48s\u001b[0m 1s/step - loss: 3.0522 - mae: 1.3284 - val_loss: 5.6078 - val_mae: 1.7238\n",
      "Epoch 127/300\n",
      "\u001b[1m44/44\u001b[0m \u001b[32m━━━━━━━━━━━━━━━━━━━━\u001b[0m\u001b[37m\u001b[0m \u001b[1m0s\u001b[0m 1s/step - loss: 3.1303 - mae: 1.3407\n",
      "Epoch 127: saving model to model_checkpoint.keras\n",
      "\u001b[1m44/44\u001b[0m \u001b[32m━━━━━━━━━━━━━━━━━━━━\u001b[0m\u001b[37m\u001b[0m \u001b[1m47s\u001b[0m 1s/step - loss: 3.1278 - mae: 1.3403 - val_loss: 5.6930 - val_mae: 1.7330\n",
      "Epoch 128/300\n",
      "\u001b[1m44/44\u001b[0m \u001b[32m━━━━━━━━━━━━━━━━━━━━\u001b[0m\u001b[37m\u001b[0m \u001b[1m0s\u001b[0m 1s/step - loss: 2.9780 - mae: 1.3168\n",
      "Epoch 128: saving model to model_checkpoint.keras\n",
      "\u001b[1m44/44\u001b[0m \u001b[32m━━━━━━━━━━━━━━━━━━━━\u001b[0m\u001b[37m\u001b[0m \u001b[1m48s\u001b[0m 1s/step - loss: 2.9767 - mae: 1.3165 - val_loss: 5.5740 - val_mae: 1.7305\n",
      "Epoch 129/300\n",
      "\u001b[1m44/44\u001b[0m \u001b[32m━━━━━━━━━━━━━━━━━━━━\u001b[0m\u001b[37m\u001b[0m \u001b[1m0s\u001b[0m 1s/step - loss: 3.0401 - mae: 1.3363\n",
      "Epoch 129: saving model to model_checkpoint.keras\n",
      "\u001b[1m44/44\u001b[0m \u001b[32m━━━━━━━━━━━━━━━━━━━━\u001b[0m\u001b[37m\u001b[0m \u001b[1m47s\u001b[0m 1s/step - loss: 3.0386 - mae: 1.3355 - val_loss: 5.5075 - val_mae: 1.7230\n",
      "Epoch 130/300\n",
      "\u001b[1m44/44\u001b[0m \u001b[32m━━━━━━━━━━━━━━━━━━━━\u001b[0m\u001b[37m\u001b[0m \u001b[1m0s\u001b[0m 1s/step - loss: 2.9957 - mae: 1.3460\n",
      "Epoch 130: saving model to model_checkpoint.keras\n",
      "\u001b[1m44/44\u001b[0m \u001b[32m━━━━━━━━━━━━━━━━━━━━\u001b[0m\u001b[37m\u001b[0m \u001b[1m47s\u001b[0m 1s/step - loss: 2.9945 - mae: 1.3457 - val_loss: 5.6452 - val_mae: 1.7584\n",
      "Epoch 131/300\n",
      "\u001b[1m44/44\u001b[0m \u001b[32m━━━━━━━━━━━━━━━━━━━━\u001b[0m\u001b[37m\u001b[0m \u001b[1m0s\u001b[0m 1s/step - loss: 3.1374 - mae: 1.3428\n",
      "Epoch 131: saving model to model_checkpoint.keras\n",
      "\u001b[1m44/44\u001b[0m \u001b[32m━━━━━━━━━━━━━━━━━━━━\u001b[0m\u001b[37m\u001b[0m \u001b[1m47s\u001b[0m 1s/step - loss: 3.1419 - mae: 1.3438 - val_loss: 7.1984 - val_mae: 2.0101\n",
      "Epoch 132/300\n",
      "\u001b[1m44/44\u001b[0m \u001b[32m━━━━━━━━━━━━━━━━━━━━\u001b[0m\u001b[37m\u001b[0m \u001b[1m0s\u001b[0m 1s/step - loss: 3.6105 - mae: 1.4381\n",
      "Epoch 132: saving model to model_checkpoint.keras\n",
      "\u001b[1m44/44\u001b[0m \u001b[32m━━━━━━━━━━━━━━━━━━━━\u001b[0m\u001b[37m\u001b[0m \u001b[1m47s\u001b[0m 1s/step - loss: 3.6012 - mae: 1.4362 - val_loss: 5.3552 - val_mae: 1.6607\n",
      "Epoch 133/300\n",
      "\u001b[1m44/44\u001b[0m \u001b[32m━━━━━━━━━━━━━━━━━━━━\u001b[0m\u001b[37m\u001b[0m \u001b[1m0s\u001b[0m 1s/step - loss: 2.6378 - mae: 1.2470\n",
      "Epoch 133: saving model to model_checkpoint.keras\n",
      "\u001b[1m44/44\u001b[0m \u001b[32m━━━━━━━━━━━━━━━━━━━━\u001b[0m\u001b[37m\u001b[0m \u001b[1m47s\u001b[0m 1s/step - loss: 2.6405 - mae: 1.2475 - val_loss: 5.4307 - val_mae: 1.7119\n",
      "Epoch 134/300\n",
      "\u001b[1m44/44\u001b[0m \u001b[32m━━━━━━━━━━━━━━━━━━━━\u001b[0m\u001b[37m\u001b[0m \u001b[1m0s\u001b[0m 1s/step - loss: 2.7910 - mae: 1.2760\n",
      "Epoch 134: saving model to model_checkpoint.keras\n",
      "\u001b[1m44/44\u001b[0m \u001b[32m━━━━━━━━━━━━━━━━━━━━\u001b[0m\u001b[37m\u001b[0m \u001b[1m47s\u001b[0m 1s/step - loss: 2.7913 - mae: 1.2759 - val_loss: 5.4456 - val_mae: 1.6992\n",
      "Epoch 135/300\n",
      "\u001b[1m44/44\u001b[0m \u001b[32m━━━━━━━━━━━━━━━━━━━━\u001b[0m\u001b[37m\u001b[0m \u001b[1m0s\u001b[0m 1s/step - loss: 2.8397 - mae: 1.2875\n",
      "Epoch 135: saving model to model_checkpoint.keras\n",
      "\u001b[1m44/44\u001b[0m \u001b[32m━━━━━━━━━━━━━━━━━━━━\u001b[0m\u001b[37m\u001b[0m \u001b[1m47s\u001b[0m 1s/step - loss: 2.8426 - mae: 1.2882 - val_loss: 5.5918 - val_mae: 1.7105\n",
      "Epoch 136/300\n",
      "\u001b[1m44/44\u001b[0m \u001b[32m━━━━━━━━━━━━━━━━━━━━\u001b[0m\u001b[37m\u001b[0m \u001b[1m0s\u001b[0m 1s/step - loss: 2.9477 - mae: 1.3025\n",
      "Epoch 136: saving model to model_checkpoint.keras\n",
      "\u001b[1m44/44\u001b[0m \u001b[32m━━━━━━━━━━━━━━━━━━━━\u001b[0m\u001b[37m\u001b[0m \u001b[1m47s\u001b[0m 1s/step - loss: 2.9528 - mae: 1.3038 - val_loss: 5.7483 - val_mae: 1.7417\n",
      "Epoch 137/300\n",
      "\u001b[1m44/44\u001b[0m \u001b[32m━━━━━━━━━━━━━━━━━━━━\u001b[0m\u001b[37m\u001b[0m \u001b[1m0s\u001b[0m 1s/step - loss: 3.0192 - mae: 1.3033\n",
      "Epoch 137: saving model to model_checkpoint.keras\n",
      "\u001b[1m44/44\u001b[0m \u001b[32m━━━━━━━━━━━━━━━━━━━━\u001b[0m\u001b[37m\u001b[0m \u001b[1m48s\u001b[0m 1s/step - loss: 3.0118 - mae: 1.3018 - val_loss: 5.3165 - val_mae: 1.6523\n",
      "Epoch 138/300\n",
      "\u001b[1m44/44\u001b[0m \u001b[32m━━━━━━━━━━━━━━━━━━━━\u001b[0m\u001b[37m\u001b[0m \u001b[1m0s\u001b[0m 1s/step - loss: 2.7884 - mae: 1.2847\n",
      "Epoch 138: saving model to model_checkpoint.keras\n",
      "\u001b[1m44/44\u001b[0m \u001b[32m━━━━━━━━━━━━━━━━━━━━\u001b[0m\u001b[37m\u001b[0m \u001b[1m48s\u001b[0m 1s/step - loss: 2.7862 - mae: 1.2841 - val_loss: 5.4532 - val_mae: 1.6829\n",
      "Epoch 139/300\n",
      "\u001b[1m44/44\u001b[0m \u001b[32m━━━━━━━━━━━━━━━━━━━━\u001b[0m\u001b[37m\u001b[0m \u001b[1m0s\u001b[0m 1s/step - loss: 2.5478 - mae: 1.2152\n",
      "Epoch 139: saving model to model_checkpoint.keras\n",
      "\u001b[1m44/44\u001b[0m \u001b[32m━━━━━━━━━━━━━━━━━━━━\u001b[0m\u001b[37m\u001b[0m \u001b[1m47s\u001b[0m 1s/step - loss: 2.5494 - mae: 1.2157 - val_loss: 5.8757 - val_mae: 1.7653\n",
      "Epoch 140/300\n",
      "\u001b[1m44/44\u001b[0m \u001b[32m━━━━━━━━━━━━━━━━━━━━\u001b[0m\u001b[37m\u001b[0m \u001b[1m0s\u001b[0m 1s/step - loss: 2.6041 - mae: 1.2125\n",
      "Epoch 140: saving model to model_checkpoint.keras\n",
      "\u001b[1m44/44\u001b[0m \u001b[32m━━━━━━━━━━━━━━━━━━━━\u001b[0m\u001b[37m\u001b[0m \u001b[1m48s\u001b[0m 1s/step - loss: 2.6020 - mae: 1.2123 - val_loss: 5.2215 - val_mae: 1.6373\n",
      "Epoch 141/300\n",
      "\u001b[1m44/44\u001b[0m \u001b[32m━━━━━━━━━━━━━━━━━━━━\u001b[0m\u001b[37m\u001b[0m \u001b[1m0s\u001b[0m 1s/step - loss: 2.6894 - mae: 1.2352\n",
      "Epoch 141: saving model to model_checkpoint.keras\n",
      "\u001b[1m44/44\u001b[0m \u001b[32m━━━━━━━━━━━━━━━━━━━━\u001b[0m\u001b[37m\u001b[0m \u001b[1m47s\u001b[0m 1s/step - loss: 2.6893 - mae: 1.2352 - val_loss: 5.4782 - val_mae: 1.7011\n",
      "Epoch 142/300\n",
      "\u001b[1m44/44\u001b[0m \u001b[32m━━━━━━━━━━━━━━━━━━━━\u001b[0m\u001b[37m\u001b[0m \u001b[1m0s\u001b[0m 1s/step - loss: 2.6090 - mae: 1.2163\n",
      "Epoch 142: saving model to model_checkpoint.keras\n",
      "\u001b[1m44/44\u001b[0m \u001b[32m━━━━━━━━━━━━━━━━━━━━\u001b[0m\u001b[37m\u001b[0m \u001b[1m47s\u001b[0m 1s/step - loss: 2.6090 - mae: 1.2164 - val_loss: 5.4135 - val_mae: 1.6606\n",
      "Epoch 143/300\n",
      "\u001b[1m44/44\u001b[0m \u001b[32m━━━━━━━━━━━━━━━━━━━━\u001b[0m\u001b[37m\u001b[0m \u001b[1m0s\u001b[0m 1s/step - loss: 2.4915 - mae: 1.1921\n",
      "Epoch 143: saving model to model_checkpoint.keras\n",
      "\u001b[1m44/44\u001b[0m \u001b[32m━━━━━━━━━━━━━━━━━━━━\u001b[0m\u001b[37m\u001b[0m \u001b[1m47s\u001b[0m 1s/step - loss: 2.4920 - mae: 1.1923 - val_loss: 5.2302 - val_mae: 1.6503\n",
      "Epoch 144/300\n",
      "\u001b[1m44/44\u001b[0m \u001b[32m━━━━━━━━━━━━━━━━━━━━\u001b[0m\u001b[37m\u001b[0m \u001b[1m0s\u001b[0m 1s/step - loss: 2.2914 - mae: 1.1401\n",
      "Epoch 144: saving model to model_checkpoint.keras\n",
      "\u001b[1m44/44\u001b[0m \u001b[32m━━━━━━━━━━━━━━━━━━━━\u001b[0m\u001b[37m\u001b[0m \u001b[1m47s\u001b[0m 1s/step - loss: 2.2937 - mae: 1.1408 - val_loss: 5.4062 - val_mae: 1.6926\n",
      "Epoch 145/300\n",
      "\u001b[1m44/44\u001b[0m \u001b[32m━━━━━━━━━━━━━━━━━━━━\u001b[0m\u001b[37m\u001b[0m \u001b[1m0s\u001b[0m 1s/step - loss: 2.4068 - mae: 1.1942\n",
      "Epoch 145: saving model to model_checkpoint.keras\n",
      "\u001b[1m44/44\u001b[0m \u001b[32m━━━━━━━━━━━━━━━━━━━━\u001b[0m\u001b[37m\u001b[0m \u001b[1m47s\u001b[0m 1s/step - loss: 2.4081 - mae: 1.1945 - val_loss: 5.3996 - val_mae: 1.6624\n",
      "Epoch 146/300\n",
      "\u001b[1m44/44\u001b[0m \u001b[32m━━━━━━━━━━━━━━━━━━━━\u001b[0m\u001b[37m\u001b[0m \u001b[1m0s\u001b[0m 1s/step - loss: 2.4526 - mae: 1.2072\n",
      "Epoch 146: saving model to model_checkpoint.keras\n",
      "\u001b[1m44/44\u001b[0m \u001b[32m━━━━━━━━━━━━━━━━━━━━\u001b[0m\u001b[37m\u001b[0m \u001b[1m48s\u001b[0m 1s/step - loss: 2.4520 - mae: 1.2069 - val_loss: 5.3026 - val_mae: 1.6408\n",
      "Epoch 147/300\n",
      "\u001b[1m44/44\u001b[0m \u001b[32m━━━━━━━━━━━━━━━━━━━━\u001b[0m\u001b[37m\u001b[0m \u001b[1m0s\u001b[0m 1s/step - loss: 2.4296 - mae: 1.1877\n",
      "Epoch 147: saving model to model_checkpoint.keras\n",
      "\u001b[1m44/44\u001b[0m \u001b[32m━━━━━━━━━━━━━━━━━━━━\u001b[0m\u001b[37m\u001b[0m \u001b[1m47s\u001b[0m 1s/step - loss: 2.4309 - mae: 1.1880 - val_loss: 5.5479 - val_mae: 1.6948\n",
      "Epoch 148/300\n",
      "\u001b[1m44/44\u001b[0m \u001b[32m━━━━━━━━━━━━━━━━━━━━\u001b[0m\u001b[37m\u001b[0m \u001b[1m0s\u001b[0m 1s/step - loss: 2.6301 - mae: 1.2015\n",
      "Epoch 148: saving model to model_checkpoint.keras\n",
      "\u001b[1m44/44\u001b[0m \u001b[32m━━━━━━━━━━━━━━━━━━━━\u001b[0m\u001b[37m\u001b[0m \u001b[1m47s\u001b[0m 1s/step - loss: 2.6275 - mae: 1.2011 - val_loss: 5.6488 - val_mae: 1.7361\n",
      "Epoch 149/300\n",
      "\u001b[1m44/44\u001b[0m \u001b[32m━━━━━━━━━━━━━━━━━━━━\u001b[0m\u001b[37m\u001b[0m \u001b[1m0s\u001b[0m 1s/step - loss: 2.4947 - mae: 1.1903\n",
      "Epoch 149: saving model to model_checkpoint.keras\n",
      "\u001b[1m44/44\u001b[0m \u001b[32m━━━━━━━━━━━━━━━━━━━━\u001b[0m\u001b[37m\u001b[0m \u001b[1m48s\u001b[0m 1s/step - loss: 2.4931 - mae: 1.1902 - val_loss: 5.0581 - val_mae: 1.6281\n",
      "Epoch 150/300\n",
      "\u001b[1m44/44\u001b[0m \u001b[32m━━━━━━━━━━━━━━━━━━━━\u001b[0m\u001b[37m\u001b[0m \u001b[1m0s\u001b[0m 1s/step - loss: 2.1320 - mae: 1.1032\n",
      "Epoch 150: saving model to model_checkpoint.keras\n",
      "\u001b[1m44/44\u001b[0m \u001b[32m━━━━━━━━━━━━━━━━━━━━\u001b[0m\u001b[37m\u001b[0m \u001b[1m47s\u001b[0m 1s/step - loss: 2.1361 - mae: 1.1042 - val_loss: 5.0807 - val_mae: 1.6290\n",
      "Epoch 151/300\n",
      "\u001b[1m44/44\u001b[0m \u001b[32m━━━━━━━━━━━━━━━━━━━━\u001b[0m\u001b[37m\u001b[0m \u001b[1m0s\u001b[0m 1s/step - loss: 2.2281 - mae: 1.1506\n",
      "Epoch 151: saving model to model_checkpoint.keras\n",
      "\u001b[1m44/44\u001b[0m \u001b[32m━━━━━━━━━━━━━━━━━━━━\u001b[0m\u001b[37m\u001b[0m \u001b[1m47s\u001b[0m 1s/step - loss: 2.2283 - mae: 1.1503 - val_loss: 5.4441 - val_mae: 1.6920\n",
      "Epoch 152/300\n",
      "\u001b[1m44/44\u001b[0m \u001b[32m━━━━━━━━━━━━━━━━━━━━\u001b[0m\u001b[37m\u001b[0m \u001b[1m0s\u001b[0m 1s/step - loss: 2.1644 - mae: 1.1002\n",
      "Epoch 152: saving model to model_checkpoint.keras\n",
      "\u001b[1m44/44\u001b[0m \u001b[32m━━━━━━━━━━━━━━━━━━━━\u001b[0m\u001b[37m\u001b[0m \u001b[1m47s\u001b[0m 1s/step - loss: 2.1684 - mae: 1.1015 - val_loss: 5.7145 - val_mae: 1.7392\n",
      "Epoch 153/300\n",
      "\u001b[1m44/44\u001b[0m \u001b[32m━━━━━━━━━━━━━━━━━━━━\u001b[0m\u001b[37m\u001b[0m \u001b[1m0s\u001b[0m 1s/step - loss: 2.4502 - mae: 1.2011\n",
      "Epoch 153: saving model to model_checkpoint.keras\n",
      "\u001b[1m44/44\u001b[0m \u001b[32m━━━━━━━━━━━━━━━━━━━━\u001b[0m\u001b[37m\u001b[0m \u001b[1m47s\u001b[0m 1s/step - loss: 2.4470 - mae: 1.2001 - val_loss: 5.4168 - val_mae: 1.6663\n",
      "Epoch 154/300\n",
      "\u001b[1m44/44\u001b[0m \u001b[32m━━━━━━━━━━━━━━━━━━━━\u001b[0m\u001b[37m\u001b[0m \u001b[1m0s\u001b[0m 1s/step - loss: 2.3183 - mae: 1.1622\n",
      "Epoch 154: saving model to model_checkpoint.keras\n",
      "\u001b[1m44/44\u001b[0m \u001b[32m━━━━━━━━━━━━━━━━━━━━\u001b[0m\u001b[37m\u001b[0m \u001b[1m48s\u001b[0m 1s/step - loss: 2.3198 - mae: 1.1624 - val_loss: 4.8562 - val_mae: 1.5723\n",
      "Epoch 155/300\n",
      "\u001b[1m44/44\u001b[0m \u001b[32m━━━━━━━━━━━━━━━━━━━━\u001b[0m\u001b[37m\u001b[0m \u001b[1m0s\u001b[0m 1s/step - loss: 2.2824 - mae: 1.1423\n",
      "Epoch 155: saving model to model_checkpoint.keras\n",
      "\u001b[1m44/44\u001b[0m \u001b[32m━━━━━━━━━━━━━━━━━━━━\u001b[0m\u001b[37m\u001b[0m \u001b[1m47s\u001b[0m 1s/step - loss: 2.2830 - mae: 1.1426 - val_loss: 5.0501 - val_mae: 1.6007\n",
      "Epoch 156/300\n",
      "\u001b[1m44/44\u001b[0m \u001b[32m━━━━━━━━━━━━━━━━━━━━\u001b[0m\u001b[37m\u001b[0m \u001b[1m0s\u001b[0m 1s/step - loss: 2.1928 - mae: 1.1217\n",
      "Epoch 156: saving model to model_checkpoint.keras\n",
      "\u001b[1m44/44\u001b[0m \u001b[32m━━━━━━━━━━━━━━━━━━━━\u001b[0m\u001b[37m\u001b[0m \u001b[1m47s\u001b[0m 1s/step - loss: 2.1923 - mae: 1.1217 - val_loss: 5.1410 - val_mae: 1.6366\n",
      "Epoch 157/300\n",
      "\u001b[1m44/44\u001b[0m \u001b[32m━━━━━━━━━━━━━━━━━━━━\u001b[0m\u001b[37m\u001b[0m \u001b[1m0s\u001b[0m 1s/step - loss: 2.0641 - mae: 1.0806\n",
      "Epoch 157: saving model to model_checkpoint.keras\n",
      "\u001b[1m44/44\u001b[0m \u001b[32m━━━━━━━━━━━━━━━━━━━━\u001b[0m\u001b[37m\u001b[0m \u001b[1m47s\u001b[0m 1s/step - loss: 2.0669 - mae: 1.0814 - val_loss: 5.2096 - val_mae: 1.6578\n",
      "Epoch 158/300\n",
      "\u001b[1m44/44\u001b[0m \u001b[32m━━━━━━━━━━━━━━━━━━━━\u001b[0m\u001b[37m\u001b[0m \u001b[1m0s\u001b[0m 1s/step - loss: 1.9143 - mae: 1.0603\n",
      "Epoch 158: saving model to model_checkpoint.keras\n",
      "\u001b[1m44/44\u001b[0m \u001b[32m━━━━━━━━━━━━━━━━━━━━\u001b[0m\u001b[37m\u001b[0m \u001b[1m47s\u001b[0m 1s/step - loss: 1.9175 - mae: 1.0611 - val_loss: 5.0125 - val_mae: 1.5817\n",
      "Epoch 159/300\n",
      "\u001b[1m44/44\u001b[0m \u001b[32m━━━━━━━━━━━━━━━━━━━━\u001b[0m\u001b[37m\u001b[0m \u001b[1m0s\u001b[0m 1s/step - loss: 2.1484 - mae: 1.1055\n",
      "Epoch 159: saving model to model_checkpoint.keras\n",
      "\u001b[1m44/44\u001b[0m \u001b[32m━━━━━━━━━━━━━━━━━━━━\u001b[0m\u001b[37m\u001b[0m \u001b[1m47s\u001b[0m 1s/step - loss: 2.1473 - mae: 1.1053 - val_loss: 5.0989 - val_mae: 1.6108\n",
      "Epoch 160/300\n",
      "\u001b[1m44/44\u001b[0m \u001b[32m━━━━━━━━━━━━━━━━━━━━\u001b[0m\u001b[37m\u001b[0m \u001b[1m0s\u001b[0m 1s/step - loss: 2.1388 - mae: 1.1276\n",
      "Epoch 160: saving model to model_checkpoint.keras\n",
      "\u001b[1m44/44\u001b[0m \u001b[32m━━━━━━━━━━━━━━━━━━━━\u001b[0m\u001b[37m\u001b[0m \u001b[1m47s\u001b[0m 1s/step - loss: 2.1376 - mae: 1.1271 - val_loss: 5.0064 - val_mae: 1.5985\n",
      "Epoch 161/300\n",
      "\u001b[1m44/44\u001b[0m \u001b[32m━━━━━━━━━━━━━━━━━━━━\u001b[0m\u001b[37m\u001b[0m \u001b[1m0s\u001b[0m 1s/step - loss: 1.9046 - mae: 1.0406\n",
      "Epoch 161: saving model to model_checkpoint.keras\n",
      "\u001b[1m44/44\u001b[0m \u001b[32m━━━━━━━━━━━━━━━━━━━━\u001b[0m\u001b[37m\u001b[0m \u001b[1m47s\u001b[0m 1s/step - loss: 1.9059 - mae: 1.0408 - val_loss: 4.9133 - val_mae: 1.5900\n",
      "Epoch 162/300\n",
      "\u001b[1m44/44\u001b[0m \u001b[32m━━━━━━━━━━━━━━━━━━━━\u001b[0m\u001b[37m\u001b[0m \u001b[1m0s\u001b[0m 1s/step - loss: 2.0514 - mae: 1.0899\n",
      "Epoch 162: saving model to model_checkpoint.keras\n",
      "\u001b[1m44/44\u001b[0m \u001b[32m━━━━━━━━━━━━━━━━━━━━\u001b[0m\u001b[37m\u001b[0m \u001b[1m47s\u001b[0m 1s/step - loss: 2.0541 - mae: 1.0906 - val_loss: 5.0156 - val_mae: 1.5983\n",
      "Epoch 163/300\n",
      "\u001b[1m44/44\u001b[0m \u001b[32m━━━━━━━━━━━━━━━━━━━━\u001b[0m\u001b[37m\u001b[0m \u001b[1m0s\u001b[0m 1s/step - loss: 2.0963 - mae: 1.0932\n",
      "Epoch 163: saving model to model_checkpoint.keras\n",
      "\u001b[1m44/44\u001b[0m \u001b[32m━━━━━━━━━━━━━━━━━━━━\u001b[0m\u001b[37m\u001b[0m \u001b[1m47s\u001b[0m 1s/step - loss: 2.0965 - mae: 1.0933 - val_loss: 5.0805 - val_mae: 1.5996\n",
      "Epoch 164/300\n",
      "\u001b[1m44/44\u001b[0m \u001b[32m━━━━━━━━━━━━━━━━━━━━\u001b[0m\u001b[37m\u001b[0m \u001b[1m0s\u001b[0m 1s/step - loss: 2.2165 - mae: 1.1186\n",
      "Epoch 164: saving model to model_checkpoint.keras\n",
      "\u001b[1m44/44\u001b[0m \u001b[32m━━━━━━━━━━━━━━━━━━━━\u001b[0m\u001b[37m\u001b[0m \u001b[1m47s\u001b[0m 1s/step - loss: 2.2150 - mae: 1.1183 - val_loss: 5.0471 - val_mae: 1.5957\n",
      "Epoch 165/300\n",
      "\u001b[1m44/44\u001b[0m \u001b[32m━━━━━━━━━━━━━━━━━━━━\u001b[0m\u001b[37m\u001b[0m \u001b[1m0s\u001b[0m 1s/step - loss: 1.9683 - mae: 1.0491\n",
      "Epoch 165: saving model to model_checkpoint.keras\n",
      "\u001b[1m44/44\u001b[0m \u001b[32m━━━━━━━━━━━━━━━━━━━━\u001b[0m\u001b[37m\u001b[0m \u001b[1m47s\u001b[0m 1s/step - loss: 1.9687 - mae: 1.0494 - val_loss: 4.9545 - val_mae: 1.5847\n",
      "Epoch 166/300\n",
      "\u001b[1m44/44\u001b[0m \u001b[32m━━━━━━━━━━━━━━━━━━━━\u001b[0m\u001b[37m\u001b[0m \u001b[1m0s\u001b[0m 1s/step - loss: 1.8084 - mae: 1.0252\n",
      "Epoch 166: saving model to model_checkpoint.keras\n",
      "\u001b[1m44/44\u001b[0m \u001b[32m━━━━━━━━━━━━━━━━━━━━\u001b[0m\u001b[37m\u001b[0m \u001b[1m47s\u001b[0m 1s/step - loss: 1.8124 - mae: 1.0265 - val_loss: 5.1826 - val_mae: 1.6341\n",
      "Epoch 167/300\n",
      "\u001b[1m44/44\u001b[0m \u001b[32m━━━━━━━━━━━━━━━━━━━━\u001b[0m\u001b[37m\u001b[0m \u001b[1m0s\u001b[0m 1s/step - loss: 1.8761 - mae: 1.0215\n",
      "Epoch 167: saving model to model_checkpoint.keras\n",
      "\u001b[1m44/44\u001b[0m \u001b[32m━━━━━━━━━━━━━━━━━━━━\u001b[0m\u001b[37m\u001b[0m \u001b[1m47s\u001b[0m 1s/step - loss: 1.8790 - mae: 1.0224 - val_loss: 4.8269 - val_mae: 1.5502\n",
      "Epoch 168/300\n",
      "\u001b[1m44/44\u001b[0m \u001b[32m━━━━━━━━━━━━━━━━━━━━\u001b[0m\u001b[37m\u001b[0m \u001b[1m0s\u001b[0m 1s/step - loss: 2.1477 - mae: 1.1035\n",
      "Epoch 168: saving model to model_checkpoint.keras\n",
      "\u001b[1m44/44\u001b[0m \u001b[32m━━━━━━━━━━━━━━━━━━━━\u001b[0m\u001b[37m\u001b[0m \u001b[1m47s\u001b[0m 1s/step - loss: 2.1459 - mae: 1.1032 - val_loss: 5.2246 - val_mae: 1.6615\n",
      "Epoch 169/300\n",
      "\u001b[1m44/44\u001b[0m \u001b[32m━━━━━━━━━━━━━━━━━━━━\u001b[0m\u001b[37m\u001b[0m \u001b[1m0s\u001b[0m 1s/step - loss: 1.9139 - mae: 1.0518\n",
      "Epoch 169: saving model to model_checkpoint.keras\n",
      "\u001b[1m44/44\u001b[0m \u001b[32m━━━━━━━━━━━━━━━━━━━━\u001b[0m\u001b[37m\u001b[0m \u001b[1m47s\u001b[0m 1s/step - loss: 1.9154 - mae: 1.0523 - val_loss: 5.1208 - val_mae: 1.6203\n",
      "Epoch 170/300\n",
      "\u001b[1m44/44\u001b[0m \u001b[32m━━━━━━━━━━━━━━━━━━━━\u001b[0m\u001b[37m\u001b[0m \u001b[1m0s\u001b[0m 1s/step - loss: 2.0271 - mae: 1.0655\n",
      "Epoch 170: saving model to model_checkpoint.keras\n",
      "\u001b[1m44/44\u001b[0m \u001b[32m━━━━━━━━━━━━━━━━━━━━\u001b[0m\u001b[37m\u001b[0m \u001b[1m47s\u001b[0m 1s/step - loss: 2.0264 - mae: 1.0656 - val_loss: 5.0160 - val_mae: 1.5876\n",
      "Epoch 171/300\n",
      "\u001b[1m44/44\u001b[0m \u001b[32m━━━━━━━━━━━━━━━━━━━━\u001b[0m\u001b[37m\u001b[0m \u001b[1m0s\u001b[0m 1s/step - loss: 1.8061 - mae: 1.0350\n",
      "Epoch 171: saving model to model_checkpoint.keras\n",
      "\u001b[1m44/44\u001b[0m \u001b[32m━━━━━━━━━━━━━━━━━━━━\u001b[0m\u001b[37m\u001b[0m \u001b[1m47s\u001b[0m 1s/step - loss: 1.8075 - mae: 1.0353 - val_loss: 5.1527 - val_mae: 1.6322\n",
      "Epoch 172/300\n",
      "\u001b[1m44/44\u001b[0m \u001b[32m━━━━━━━━━━━━━━━━━━━━\u001b[0m\u001b[37m\u001b[0m \u001b[1m0s\u001b[0m 1s/step - loss: 1.7787 - mae: 1.0099\n",
      "Epoch 172: saving model to model_checkpoint.keras\n",
      "\u001b[1m44/44\u001b[0m \u001b[32m━━━━━━━━━━━━━━━━━━━━\u001b[0m\u001b[37m\u001b[0m \u001b[1m47s\u001b[0m 1s/step - loss: 1.7782 - mae: 1.0098 - val_loss: 4.8534 - val_mae: 1.5670\n",
      "Epoch 173/300\n",
      "\u001b[1m44/44\u001b[0m \u001b[32m━━━━━━━━━━━━━━━━━━━━\u001b[0m\u001b[37m\u001b[0m \u001b[1m0s\u001b[0m 1s/step - loss: 1.8190 - mae: 1.0182\n",
      "Epoch 173: saving model to model_checkpoint.keras\n",
      "\u001b[1m44/44\u001b[0m \u001b[32m━━━━━━━━━━━━━━━━━━━━\u001b[0m\u001b[37m\u001b[0m \u001b[1m47s\u001b[0m 1s/step - loss: 1.8209 - mae: 1.0187 - val_loss: 5.1518 - val_mae: 1.6252\n",
      "Epoch 174/300\n",
      "\u001b[1m44/44\u001b[0m \u001b[32m━━━━━━━━━━━━━━━━━━━━\u001b[0m\u001b[37m\u001b[0m \u001b[1m0s\u001b[0m 1s/step - loss: 2.0107 - mae: 1.0514\n",
      "Epoch 174: saving model to model_checkpoint.keras\n",
      "\u001b[1m44/44\u001b[0m \u001b[32m━━━━━━━━━━━━━━━━━━━━\u001b[0m\u001b[37m\u001b[0m \u001b[1m47s\u001b[0m 1s/step - loss: 2.0082 - mae: 1.0510 - val_loss: 4.9129 - val_mae: 1.6073\n",
      "Epoch 175/300\n",
      "\u001b[1m44/44\u001b[0m \u001b[32m━━━━━━━━━━━━━━━━━━━━\u001b[0m\u001b[37m\u001b[0m \u001b[1m0s\u001b[0m 1s/step - loss: 1.8357 - mae: 1.0124\n",
      "Epoch 175: saving model to model_checkpoint.keras\n",
      "\u001b[1m44/44\u001b[0m \u001b[32m━━━━━━━━━━━━━━━━━━━━\u001b[0m\u001b[37m\u001b[0m \u001b[1m47s\u001b[0m 1s/step - loss: 1.8347 - mae: 1.0126 - val_loss: 4.9393 - val_mae: 1.5969\n",
      "Epoch 176/300\n",
      "\u001b[1m44/44\u001b[0m \u001b[32m━━━━━━━━━━━━━━━━━━━━\u001b[0m\u001b[37m\u001b[0m \u001b[1m0s\u001b[0m 1s/step - loss: 1.8694 - mae: 1.0485\n",
      "Epoch 176: saving model to model_checkpoint.keras\n",
      "\u001b[1m44/44\u001b[0m \u001b[32m━━━━━━━━━━━━━━━━━━━━\u001b[0m\u001b[37m\u001b[0m \u001b[1m47s\u001b[0m 1s/step - loss: 1.8684 - mae: 1.0480 - val_loss: 4.8071 - val_mae: 1.5654\n",
      "Epoch 177/300\n",
      "\u001b[1m44/44\u001b[0m \u001b[32m━━━━━━━━━━━━━━━━━━━━\u001b[0m\u001b[37m\u001b[0m \u001b[1m0s\u001b[0m 1s/step - loss: 1.7353 - mae: 0.9945\n",
      "Epoch 177: saving model to model_checkpoint.keras\n",
      "\u001b[1m44/44\u001b[0m \u001b[32m━━━━━━━━━━━━━━━━━━━━\u001b[0m\u001b[37m\u001b[0m \u001b[1m48s\u001b[0m 1s/step - loss: 1.7351 - mae: 0.9945 - val_loss: 4.7179 - val_mae: 1.5661\n",
      "Epoch 178/300\n",
      "\u001b[1m44/44\u001b[0m \u001b[32m━━━━━━━━━━━━━━━━━━━━\u001b[0m\u001b[37m\u001b[0m \u001b[1m0s\u001b[0m 1s/step - loss: 1.8532 - mae: 1.0426\n",
      "Epoch 178: saving model to model_checkpoint.keras\n",
      "\u001b[1m44/44\u001b[0m \u001b[32m━━━━━━━━━━━━━━━━━━━━\u001b[0m\u001b[37m\u001b[0m \u001b[1m47s\u001b[0m 1s/step - loss: 1.8508 - mae: 1.0420 - val_loss: 4.7322 - val_mae: 1.5620\n",
      "Epoch 179/300\n",
      "\u001b[1m44/44\u001b[0m \u001b[32m━━━━━━━━━━━━━━━━━━━━\u001b[0m\u001b[37m\u001b[0m \u001b[1m0s\u001b[0m 1s/step - loss: 1.9914 - mae: 1.0601\n",
      "Epoch 179: saving model to model_checkpoint.keras\n",
      "\u001b[1m44/44\u001b[0m \u001b[32m━━━━━━━━━━━━━━━━━━━━\u001b[0m\u001b[37m\u001b[0m \u001b[1m47s\u001b[0m 1s/step - loss: 1.9877 - mae: 1.0591 - val_loss: 4.8482 - val_mae: 1.5523\n",
      "Epoch 180/300\n",
      "\u001b[1m44/44\u001b[0m \u001b[32m━━━━━━━━━━━━━━━━━━━━\u001b[0m\u001b[37m\u001b[0m \u001b[1m0s\u001b[0m 1s/step - loss: 1.7420 - mae: 0.9973\n",
      "Epoch 180: saving model to model_checkpoint.keras\n",
      "\u001b[1m44/44\u001b[0m \u001b[32m━━━━━━━━━━━━━━━━━━━━\u001b[0m\u001b[37m\u001b[0m \u001b[1m47s\u001b[0m 1s/step - loss: 1.7420 - mae: 0.9972 - val_loss: 5.0156 - val_mae: 1.5889\n",
      "Epoch 181/300\n",
      "\u001b[1m44/44\u001b[0m \u001b[32m━━━━━━━━━━━━━━━━━━━━\u001b[0m\u001b[37m\u001b[0m \u001b[1m0s\u001b[0m 1s/step - loss: 1.7364 - mae: 1.0242\n",
      "Epoch 181: saving model to model_checkpoint.keras\n",
      "\u001b[1m44/44\u001b[0m \u001b[32m━━━━━━━━━━━━━━━━━━━━\u001b[0m\u001b[37m\u001b[0m \u001b[1m47s\u001b[0m 1s/step - loss: 1.7367 - mae: 1.0239 - val_loss: 4.8992 - val_mae: 1.5705\n",
      "Epoch 182/300\n",
      "\u001b[1m44/44\u001b[0m \u001b[32m━━━━━━━━━━━━━━━━━━━━\u001b[0m\u001b[37m\u001b[0m \u001b[1m0s\u001b[0m 1s/step - loss: 1.6521 - mae: 0.9591\n",
      "Epoch 182: saving model to model_checkpoint.keras\n",
      "\u001b[1m44/44\u001b[0m \u001b[32m━━━━━━━━━━━━━━━━━━━━\u001b[0m\u001b[37m\u001b[0m \u001b[1m47s\u001b[0m 1s/step - loss: 1.6539 - mae: 0.9599 - val_loss: 5.2305 - val_mae: 1.6323\n",
      "Epoch 183/300\n",
      "\u001b[1m44/44\u001b[0m \u001b[32m━━━━━━━━━━━━━━━━━━━━\u001b[0m\u001b[37m\u001b[0m \u001b[1m0s\u001b[0m 1s/step - loss: 1.7275 - mae: 1.0061\n",
      "Epoch 183: saving model to model_checkpoint.keras\n",
      "\u001b[1m44/44\u001b[0m \u001b[32m━━━━━━━━━━━━━━━━━━━━\u001b[0m\u001b[37m\u001b[0m \u001b[1m48s\u001b[0m 1s/step - loss: 1.7256 - mae: 1.0052 - val_loss: 4.7002 - val_mae: 1.5658\n",
      "Epoch 184/300\n",
      "\u001b[1m44/44\u001b[0m \u001b[32m━━━━━━━━━━━━━━━━━━━━\u001b[0m\u001b[37m\u001b[0m \u001b[1m0s\u001b[0m 1s/step - loss: 1.7698 - mae: 1.0043\n",
      "Epoch 184: saving model to model_checkpoint.keras\n",
      "\u001b[1m44/44\u001b[0m \u001b[32m━━━━━━━━━━━━━━━━━━━━\u001b[0m\u001b[37m\u001b[0m \u001b[1m47s\u001b[0m 1s/step - loss: 1.7672 - mae: 1.0036 - val_loss: 4.7123 - val_mae: 1.5677\n",
      "Epoch 185/300\n",
      "\u001b[1m44/44\u001b[0m \u001b[32m━━━━━━━━━━━━━━━━━━━━\u001b[0m\u001b[37m\u001b[0m \u001b[1m0s\u001b[0m 1s/step - loss: 1.5828 - mae: 0.9639\n",
      "Epoch 185: saving model to model_checkpoint.keras\n",
      "\u001b[1m44/44\u001b[0m \u001b[32m━━━━━━━━━━━━━━━━━━━━\u001b[0m\u001b[37m\u001b[0m \u001b[1m48s\u001b[0m 1s/step - loss: 1.5841 - mae: 0.9642 - val_loss: 4.5541 - val_mae: 1.5160\n",
      "Epoch 186/300\n",
      "\u001b[1m44/44\u001b[0m \u001b[32m━━━━━━━━━━━━━━━━━━━━\u001b[0m\u001b[37m\u001b[0m \u001b[1m0s\u001b[0m 1s/step - loss: 1.5798 - mae: 0.9598\n",
      "Epoch 186: saving model to model_checkpoint.keras\n",
      "\u001b[1m44/44\u001b[0m \u001b[32m━━━━━━━━━━━━━━━━━━━━\u001b[0m\u001b[37m\u001b[0m \u001b[1m47s\u001b[0m 1s/step - loss: 1.5802 - mae: 0.9599 - val_loss: 5.1242 - val_mae: 1.6344\n",
      "Epoch 187/300\n",
      "\u001b[1m44/44\u001b[0m \u001b[32m━━━━━━━━━━━━━━━━━━━━\u001b[0m\u001b[37m\u001b[0m \u001b[1m0s\u001b[0m 1s/step - loss: 1.7956 - mae: 1.0062\n",
      "Epoch 187: saving model to model_checkpoint.keras\n",
      "\u001b[1m44/44\u001b[0m \u001b[32m━━━━━━━━━━━━━━━━━━━━\u001b[0m\u001b[37m\u001b[0m \u001b[1m47s\u001b[0m 1s/step - loss: 1.7937 - mae: 1.0057 - val_loss: 4.9558 - val_mae: 1.5905\n",
      "Epoch 188/300\n",
      "\u001b[1m44/44\u001b[0m \u001b[32m━━━━━━━━━━━━━━━━━━━━\u001b[0m\u001b[37m\u001b[0m \u001b[1m0s\u001b[0m 1s/step - loss: 1.5314 - mae: 0.9163\n",
      "Epoch 188: saving model to model_checkpoint.keras\n",
      "\u001b[1m44/44\u001b[0m \u001b[32m━━━━━━━━━━━━━━━━━━━━\u001b[0m\u001b[37m\u001b[0m \u001b[1m47s\u001b[0m 1s/step - loss: 1.5318 - mae: 0.9166 - val_loss: 4.8373 - val_mae: 1.5595\n",
      "Epoch 189/300\n",
      "\u001b[1m44/44\u001b[0m \u001b[32m━━━━━━━━━━━━━━━━━━━━\u001b[0m\u001b[37m\u001b[0m \u001b[1m0s\u001b[0m 1s/step - loss: 1.5335 - mae: 0.9312\n",
      "Epoch 189: saving model to model_checkpoint.keras\n",
      "\u001b[1m44/44\u001b[0m \u001b[32m━━━━━━━━━━━━━━━━━━━━\u001b[0m\u001b[37m\u001b[0m \u001b[1m47s\u001b[0m 1s/step - loss: 1.5346 - mae: 0.9315 - val_loss: 4.7204 - val_mae: 1.5180\n",
      "Epoch 190/300\n",
      "\u001b[1m44/44\u001b[0m \u001b[32m━━━━━━━━━━━━━━━━━━━━\u001b[0m\u001b[37m\u001b[0m \u001b[1m0s\u001b[0m 1s/step - loss: 1.5425 - mae: 0.9400\n",
      "Epoch 190: saving model to model_checkpoint.keras\n",
      "\u001b[1m44/44\u001b[0m \u001b[32m━━━━━━━━━━━━━━━━━━━━\u001b[0m\u001b[37m\u001b[0m \u001b[1m47s\u001b[0m 1s/step - loss: 1.5414 - mae: 0.9396 - val_loss: 4.8394 - val_mae: 1.5483\n",
      "Epoch 191/300\n",
      "\u001b[1m44/44\u001b[0m \u001b[32m━━━━━━━━━━━━━━━━━━━━\u001b[0m\u001b[37m\u001b[0m \u001b[1m0s\u001b[0m 1s/step - loss: 1.7009 - mae: 0.9832\n",
      "Epoch 191: saving model to model_checkpoint.keras\n",
      "\u001b[1m44/44\u001b[0m \u001b[32m━━━━━━━━━━━━━━━━━━━━\u001b[0m\u001b[37m\u001b[0m \u001b[1m47s\u001b[0m 1s/step - loss: 1.6974 - mae: 0.9822 - val_loss: 4.6605 - val_mae: 1.5030\n",
      "Epoch 192/300\n",
      "\u001b[1m44/44\u001b[0m \u001b[32m━━━━━━━━━━━━━━━━━━━━\u001b[0m\u001b[37m\u001b[0m \u001b[1m0s\u001b[0m 1s/step - loss: 1.5394 - mae: 0.9482\n",
      "Epoch 192: saving model to model_checkpoint.keras\n",
      "\u001b[1m44/44\u001b[0m \u001b[32m━━━━━━━━━━━━━━━━━━━━\u001b[0m\u001b[37m\u001b[0m \u001b[1m47s\u001b[0m 1s/step - loss: 1.5384 - mae: 0.9479 - val_loss: 4.7713 - val_mae: 1.5395\n",
      "Epoch 193/300\n",
      "\u001b[1m44/44\u001b[0m \u001b[32m━━━━━━━━━━━━━━━━━━━━\u001b[0m\u001b[37m\u001b[0m \u001b[1m0s\u001b[0m 1s/step - loss: 1.4885 - mae: 0.9198\n",
      "Epoch 193: saving model to model_checkpoint.keras\n",
      "\u001b[1m44/44\u001b[0m \u001b[32m━━━━━━━━━━━━━━━━━━━━\u001b[0m\u001b[37m\u001b[0m \u001b[1m47s\u001b[0m 1s/step - loss: 1.4904 - mae: 0.9203 - val_loss: 4.8497 - val_mae: 1.5803\n",
      "Epoch 194/300\n",
      "\u001b[1m44/44\u001b[0m \u001b[32m━━━━━━━━━━━━━━━━━━━━\u001b[0m\u001b[37m\u001b[0m \u001b[1m0s\u001b[0m 1s/step - loss: 1.4827 - mae: 0.9253\n",
      "Epoch 194: saving model to model_checkpoint.keras\n",
      "\u001b[1m44/44\u001b[0m \u001b[32m━━━━━━━━━━━━━━━━━━━━\u001b[0m\u001b[37m\u001b[0m \u001b[1m47s\u001b[0m 1s/step - loss: 1.4840 - mae: 0.9258 - val_loss: 4.7805 - val_mae: 1.5370\n",
      "Epoch 195/300\n",
      "\u001b[1m44/44\u001b[0m \u001b[32m━━━━━━━━━━━━━━━━━━━━\u001b[0m\u001b[37m\u001b[0m \u001b[1m0s\u001b[0m 1s/step - loss: 1.6918 - mae: 0.9723\n",
      "Epoch 195: saving model to model_checkpoint.keras\n",
      "\u001b[1m44/44\u001b[0m \u001b[32m━━━━━━━━━━━━━━━━━━━━\u001b[0m\u001b[37m\u001b[0m \u001b[1m48s\u001b[0m 1s/step - loss: 1.6913 - mae: 0.9724 - val_loss: 4.5493 - val_mae: 1.4848\n",
      "Epoch 196/300\n",
      "\u001b[1m44/44\u001b[0m \u001b[32m━━━━━━━━━━━━━━━━━━━━\u001b[0m\u001b[37m\u001b[0m \u001b[1m0s\u001b[0m 1s/step - loss: 1.6527 - mae: 0.9610\n",
      "Epoch 196: saving model to model_checkpoint.keras\n",
      "\u001b[1m44/44\u001b[0m \u001b[32m━━━━━━━━━━━━━━━━━━━━\u001b[0m\u001b[37m\u001b[0m \u001b[1m47s\u001b[0m 1s/step - loss: 1.6492 - mae: 0.9602 - val_loss: 4.5908 - val_mae: 1.5216\n",
      "Epoch 197/300\n",
      "\u001b[1m44/44\u001b[0m \u001b[32m━━━━━━━━━━━━━━━━━━━━\u001b[0m\u001b[37m\u001b[0m \u001b[1m0s\u001b[0m 1s/step - loss: 1.4610 - mae: 0.9076\n",
      "Epoch 197: saving model to model_checkpoint.keras\n",
      "\u001b[1m44/44\u001b[0m \u001b[32m━━━━━━━━━━━━━━━━━━━━\u001b[0m\u001b[37m\u001b[0m \u001b[1m47s\u001b[0m 1s/step - loss: 1.4607 - mae: 0.9077 - val_loss: 4.6643 - val_mae: 1.5258\n",
      "Epoch 198/300\n",
      "\u001b[1m44/44\u001b[0m \u001b[32m━━━━━━━━━━━━━━━━━━━━\u001b[0m\u001b[37m\u001b[0m \u001b[1m0s\u001b[0m 1s/step - loss: 1.4421 - mae: 0.9241\n",
      "Epoch 198: saving model to model_checkpoint.keras\n",
      "\u001b[1m44/44\u001b[0m \u001b[32m━━━━━━━━━━━━━━━━━━━━\u001b[0m\u001b[37m\u001b[0m \u001b[1m47s\u001b[0m 1s/step - loss: 1.4428 - mae: 0.9242 - val_loss: 4.6806 - val_mae: 1.5715\n",
      "Epoch 199/300\n",
      "\u001b[1m44/44\u001b[0m \u001b[32m━━━━━━━━━━━━━━━━━━━━\u001b[0m\u001b[37m\u001b[0m \u001b[1m0s\u001b[0m 1s/step - loss: 1.5467 - mae: 0.9346\n",
      "Epoch 199: saving model to model_checkpoint.keras\n",
      "\u001b[1m44/44\u001b[0m \u001b[32m━━━━━━━━━━━━━━━━━━━━\u001b[0m\u001b[37m\u001b[0m \u001b[1m47s\u001b[0m 1s/step - loss: 1.5465 - mae: 0.9347 - val_loss: 4.6676 - val_mae: 1.5066\n",
      "Epoch 200/300\n",
      "\u001b[1m44/44\u001b[0m \u001b[32m━━━━━━━━━━━━━━━━━━━━\u001b[0m\u001b[37m\u001b[0m \u001b[1m0s\u001b[0m 1s/step - loss: 1.3486 - mae: 0.8950\n",
      "Epoch 200: saving model to model_checkpoint.keras\n",
      "\u001b[1m44/44\u001b[0m \u001b[32m━━━━━━━━━━━━━━━━━━━━\u001b[0m\u001b[37m\u001b[0m \u001b[1m47s\u001b[0m 1s/step - loss: 1.3491 - mae: 0.8952 - val_loss: 4.6076 - val_mae: 1.5071\n",
      "Epoch 201/300\n",
      "\u001b[1m44/44\u001b[0m \u001b[32m━━━━━━━━━━━━━━━━━━━━\u001b[0m\u001b[37m\u001b[0m \u001b[1m0s\u001b[0m 1s/step - loss: 1.4102 - mae: 0.9144\n",
      "Epoch 201: saving model to model_checkpoint.keras\n",
      "\u001b[1m44/44\u001b[0m \u001b[32m━━━━━━━━━━━━━━━━━━━━\u001b[0m\u001b[37m\u001b[0m \u001b[1m47s\u001b[0m 1s/step - loss: 1.4089 - mae: 0.9139 - val_loss: 4.5005 - val_mae: 1.5039\n",
      "Epoch 202/300\n",
      "\u001b[1m44/44\u001b[0m \u001b[32m━━━━━━━━━━━━━━━━━━━━\u001b[0m\u001b[37m\u001b[0m \u001b[1m0s\u001b[0m 1s/step - loss: 1.4711 - mae: 0.9351\n",
      "Epoch 202: saving model to model_checkpoint.keras\n",
      "\u001b[1m44/44\u001b[0m \u001b[32m━━━━━━━━━━━━━━━━━━━━\u001b[0m\u001b[37m\u001b[0m \u001b[1m47s\u001b[0m 1s/step - loss: 1.4719 - mae: 0.9352 - val_loss: 4.5935 - val_mae: 1.4929\n",
      "Epoch 203/300\n",
      "\u001b[1m44/44\u001b[0m \u001b[32m━━━━━━━━━━━━━━━━━━━━\u001b[0m\u001b[37m\u001b[0m \u001b[1m0s\u001b[0m 1s/step - loss: 1.3260 - mae: 0.8618\n",
      "Epoch 203: saving model to model_checkpoint.keras\n",
      "\u001b[1m44/44\u001b[0m \u001b[32m━━━━━━━━━━━━━━━━━━━━\u001b[0m\u001b[37m\u001b[0m \u001b[1m47s\u001b[0m 1s/step - loss: 1.3276 - mae: 0.8625 - val_loss: 4.6315 - val_mae: 1.5016\n",
      "Epoch 204/300\n",
      "\u001b[1m44/44\u001b[0m \u001b[32m━━━━━━━━━━━━━━━━━━━━\u001b[0m\u001b[37m\u001b[0m \u001b[1m0s\u001b[0m 1s/step - loss: 1.3057 - mae: 0.8544\n",
      "Epoch 204: saving model to model_checkpoint.keras\n",
      "\u001b[1m44/44\u001b[0m \u001b[32m━━━━━━━━━━━━━━━━━━━━\u001b[0m\u001b[37m\u001b[0m \u001b[1m47s\u001b[0m 1s/step - loss: 1.3071 - mae: 0.8552 - val_loss: 5.1778 - val_mae: 1.6391\n",
      "Epoch 205/300\n",
      "\u001b[1m44/44\u001b[0m \u001b[32m━━━━━━━━━━━━━━━━━━━━\u001b[0m\u001b[37m\u001b[0m \u001b[1m0s\u001b[0m 1s/step - loss: 1.5748 - mae: 0.9542\n",
      "Epoch 205: saving model to model_checkpoint.keras\n",
      "\u001b[1m44/44\u001b[0m \u001b[32m━━━━━━━━━━━━━━━━━━━━\u001b[0m\u001b[37m\u001b[0m \u001b[1m47s\u001b[0m 1s/step - loss: 1.5717 - mae: 0.9533 - val_loss: 4.6987 - val_mae: 1.5145\n",
      "Epoch 206/300\n",
      "\u001b[1m44/44\u001b[0m \u001b[32m━━━━━━━━━━━━━━━━━━━━\u001b[0m\u001b[37m\u001b[0m \u001b[1m0s\u001b[0m 1s/step - loss: 1.3649 - mae: 0.8889\n",
      "Epoch 206: saving model to model_checkpoint.keras\n",
      "\u001b[1m44/44\u001b[0m \u001b[32m━━━━━━━━━━━━━━━━━━━━\u001b[0m\u001b[37m\u001b[0m \u001b[1m47s\u001b[0m 1s/step - loss: 1.3643 - mae: 0.8887 - val_loss: 4.7730 - val_mae: 1.5763\n",
      "Epoch 207/300\n",
      "\u001b[1m44/44\u001b[0m \u001b[32m━━━━━━━━━━━━━━━━━━━━\u001b[0m\u001b[37m\u001b[0m \u001b[1m0s\u001b[0m 1s/step - loss: 1.3282 - mae: 0.8721\n",
      "Epoch 207: saving model to model_checkpoint.keras\n",
      "\u001b[1m44/44\u001b[0m \u001b[32m━━━━━━━━━━━━━━━━━━━━\u001b[0m\u001b[37m\u001b[0m \u001b[1m47s\u001b[0m 1s/step - loss: 1.3277 - mae: 0.8719 - val_loss: 4.6861 - val_mae: 1.5446\n",
      "Epoch 208/300\n",
      "\u001b[1m44/44\u001b[0m \u001b[32m━━━━━━━━━━━━━━━━━━━━\u001b[0m\u001b[37m\u001b[0m \u001b[1m0s\u001b[0m 1s/step - loss: 1.3454 - mae: 0.8727\n",
      "Epoch 208: saving model to model_checkpoint.keras\n",
      "\u001b[1m44/44\u001b[0m \u001b[32m━━━━━━━━━━━━━━━━━━━━\u001b[0m\u001b[37m\u001b[0m \u001b[1m47s\u001b[0m 1s/step - loss: 1.3464 - mae: 0.8731 - val_loss: 4.6514 - val_mae: 1.5221\n",
      "Epoch 209/300\n",
      "\u001b[1m44/44\u001b[0m \u001b[32m━━━━━━━━━━━━━━━━━━━━\u001b[0m\u001b[37m\u001b[0m \u001b[1m0s\u001b[0m 1s/step - loss: 1.2985 - mae: 0.8636\n",
      "Epoch 209: saving model to model_checkpoint.keras\n",
      "\u001b[1m44/44\u001b[0m \u001b[32m━━━━━━━━━━━━━━━━━━━━\u001b[0m\u001b[37m\u001b[0m \u001b[1m47s\u001b[0m 1s/step - loss: 1.3011 - mae: 0.8645 - val_loss: 4.7565 - val_mae: 1.5647\n",
      "Epoch 210/300\n",
      "\u001b[1m44/44\u001b[0m \u001b[32m━━━━━━━━━━━━━━━━━━━━\u001b[0m\u001b[37m\u001b[0m \u001b[1m0s\u001b[0m 1s/step - loss: 1.4424 - mae: 0.9148\n",
      "Epoch 210: saving model to model_checkpoint.keras\n",
      "\u001b[1m44/44\u001b[0m \u001b[32m━━━━━━━━━━━━━━━━━━━━\u001b[0m\u001b[37m\u001b[0m \u001b[1m47s\u001b[0m 1s/step - loss: 1.4417 - mae: 0.9147 - val_loss: 4.7038 - val_mae: 1.5109\n",
      "Epoch 211/300\n",
      "\u001b[1m44/44\u001b[0m \u001b[32m━━━━━━━━━━━━━━━━━━━━\u001b[0m\u001b[37m\u001b[0m \u001b[1m0s\u001b[0m 1s/step - loss: 1.2948 - mae: 0.8647\n",
      "Epoch 211: saving model to model_checkpoint.keras\n",
      "\u001b[1m44/44\u001b[0m \u001b[32m━━━━━━━━━━━━━━━━━━━━\u001b[0m\u001b[37m\u001b[0m \u001b[1m48s\u001b[0m 1s/step - loss: 1.2965 - mae: 0.8652 - val_loss: 4.7215 - val_mae: 1.5525\n",
      "Epoch 212/300\n",
      "\u001b[1m44/44\u001b[0m \u001b[32m━━━━━━━━━━━━━━━━━━━━\u001b[0m\u001b[37m\u001b[0m \u001b[1m0s\u001b[0m 1s/step - loss: 1.3893 - mae: 0.8921\n",
      "Epoch 212: saving model to model_checkpoint.keras\n",
      "\u001b[1m44/44\u001b[0m \u001b[32m━━━━━━━━━━━━━━━━━━━━\u001b[0m\u001b[37m\u001b[0m \u001b[1m48s\u001b[0m 1s/step - loss: 1.3904 - mae: 0.8924 - val_loss: 4.4414 - val_mae: 1.4950\n",
      "Epoch 213/300\n",
      "\u001b[1m44/44\u001b[0m \u001b[32m━━━━━━━━━━━━━━━━━━━━\u001b[0m\u001b[37m\u001b[0m \u001b[1m0s\u001b[0m 1s/step - loss: 1.3065 - mae: 0.8570\n",
      "Epoch 213: saving model to model_checkpoint.keras\n",
      "\u001b[1m44/44\u001b[0m \u001b[32m━━━━━━━━━━━━━━━━━━━━\u001b[0m\u001b[37m\u001b[0m \u001b[1m48s\u001b[0m 1s/step - loss: 1.3062 - mae: 0.8570 - val_loss: 4.5949 - val_mae: 1.5064\n",
      "Epoch 214/300\n",
      "\u001b[1m44/44\u001b[0m \u001b[32m━━━━━━━━━━━━━━━━━━━━\u001b[0m\u001b[37m\u001b[0m \u001b[1m0s\u001b[0m 1s/step - loss: 1.3053 - mae: 0.8571\n",
      "Epoch 214: saving model to model_checkpoint.keras\n",
      "\u001b[1m44/44\u001b[0m \u001b[32m━━━━━━━━━━━━━━━━━━━━\u001b[0m\u001b[37m\u001b[0m \u001b[1m48s\u001b[0m 1s/step - loss: 1.3047 - mae: 0.8569 - val_loss: 4.4157 - val_mae: 1.4827\n",
      "Epoch 215/300\n",
      "\u001b[1m44/44\u001b[0m \u001b[32m━━━━━━━━━━━━━━━━━━━━\u001b[0m\u001b[37m\u001b[0m \u001b[1m0s\u001b[0m 1s/step - loss: 1.3048 - mae: 0.8747\n",
      "Epoch 215: saving model to model_checkpoint.keras\n",
      "\u001b[1m44/44\u001b[0m \u001b[32m━━━━━━━━━━━━━━━━━━━━\u001b[0m\u001b[37m\u001b[0m \u001b[1m47s\u001b[0m 1s/step - loss: 1.3064 - mae: 0.8753 - val_loss: 4.9797 - val_mae: 1.5967\n",
      "Epoch 216/300\n",
      "\u001b[1m44/44\u001b[0m \u001b[32m━━━━━━━━━━━━━━━━━━━━\u001b[0m\u001b[37m\u001b[0m \u001b[1m0s\u001b[0m 1s/step - loss: 1.5846 - mae: 0.9640\n",
      "Epoch 216: saving model to model_checkpoint.keras\n",
      "\u001b[1m44/44\u001b[0m \u001b[32m━━━━━━━━━━━━━━━━━━━━\u001b[0m\u001b[37m\u001b[0m \u001b[1m48s\u001b[0m 1s/step - loss: 1.5810 - mae: 0.9627 - val_loss: 4.3807 - val_mae: 1.4602\n",
      "Epoch 217/300\n",
      "\u001b[1m44/44\u001b[0m \u001b[32m━━━━━━━━━━━━━━━━━━━━\u001b[0m\u001b[37m\u001b[0m \u001b[1m0s\u001b[0m 1s/step - loss: 1.1251 - mae: 0.8158\n",
      "Epoch 217: saving model to model_checkpoint.keras\n",
      "\u001b[1m44/44\u001b[0m \u001b[32m━━━━━━━━━━━━━━━━━━━━\u001b[0m\u001b[37m\u001b[0m \u001b[1m47s\u001b[0m 1s/step - loss: 1.1262 - mae: 0.8162 - val_loss: 4.7000 - val_mae: 1.5226\n",
      "Epoch 218/300\n",
      "\u001b[1m44/44\u001b[0m \u001b[32m━━━━━━━━━━━━━━━━━━━━\u001b[0m\u001b[37m\u001b[0m \u001b[1m0s\u001b[0m 1s/step - loss: 1.2041 - mae: 0.8399\n",
      "Epoch 218: saving model to model_checkpoint.keras\n",
      "\u001b[1m44/44\u001b[0m \u001b[32m━━━━━━━━━━━━━━━━━━━━\u001b[0m\u001b[37m\u001b[0m \u001b[1m47s\u001b[0m 1s/step - loss: 1.2055 - mae: 0.8403 - val_loss: 4.4487 - val_mae: 1.4804\n",
      "Epoch 219/300\n",
      "\u001b[1m44/44\u001b[0m \u001b[32m━━━━━━━━━━━━━━━━━━━━\u001b[0m\u001b[37m\u001b[0m \u001b[1m0s\u001b[0m 1s/step - loss: 1.1514 - mae: 0.8239\n",
      "Epoch 219: saving model to model_checkpoint.keras\n",
      "\u001b[1m44/44\u001b[0m \u001b[32m━━━━━━━━━━━━━━━━━━━━\u001b[0m\u001b[37m\u001b[0m \u001b[1m47s\u001b[0m 1s/step - loss: 1.1513 - mae: 0.8238 - val_loss: 4.5326 - val_mae: 1.4820\n",
      "Epoch 220/300\n",
      "\u001b[1m44/44\u001b[0m \u001b[32m━━━━━━━━━━━━━━━━━━━━\u001b[0m\u001b[37m\u001b[0m \u001b[1m0s\u001b[0m 1s/step - loss: 1.2968 - mae: 0.8663\n",
      "Epoch 220: saving model to model_checkpoint.keras\n",
      "\u001b[1m44/44\u001b[0m \u001b[32m━━━━━━━━━━━━━━━━━━━━\u001b[0m\u001b[37m\u001b[0m \u001b[1m47s\u001b[0m 1s/step - loss: 1.2938 - mae: 0.8654 - val_loss: 4.3880 - val_mae: 1.4378\n",
      "Epoch 221/300\n",
      "\u001b[1m44/44\u001b[0m \u001b[32m━━━━━━━━━━━━━━━━━━━━\u001b[0m\u001b[37m\u001b[0m \u001b[1m0s\u001b[0m 1s/step - loss: 1.1676 - mae: 0.8155\n",
      "Epoch 221: saving model to model_checkpoint.keras\n",
      "\u001b[1m44/44\u001b[0m \u001b[32m━━━━━━━━━━━━━━━━━━━━\u001b[0m\u001b[37m\u001b[0m \u001b[1m48s\u001b[0m 1s/step - loss: 1.1677 - mae: 0.8156 - val_loss: 4.3954 - val_mae: 1.4585\n",
      "Epoch 222/300\n",
      "\u001b[1m44/44\u001b[0m \u001b[32m━━━━━━━━━━━━━━━━━━━━\u001b[0m\u001b[37m\u001b[0m \u001b[1m0s\u001b[0m 1s/step - loss: 1.1268 - mae: 0.8004\n",
      "Epoch 222: saving model to model_checkpoint.keras\n",
      "\u001b[1m44/44\u001b[0m \u001b[32m━━━━━━━━━━━━━━━━━━━━\u001b[0m\u001b[37m\u001b[0m \u001b[1m47s\u001b[0m 1s/step - loss: 1.1286 - mae: 0.8010 - val_loss: 4.6536 - val_mae: 1.5057\n",
      "Epoch 223/300\n",
      "\u001b[1m44/44\u001b[0m \u001b[32m━━━━━━━━━━━━━━━━━━━━\u001b[0m\u001b[37m\u001b[0m \u001b[1m0s\u001b[0m 1s/step - loss: 1.3331 - mae: 0.8759\n",
      "Epoch 223: saving model to model_checkpoint.keras\n",
      "\u001b[1m44/44\u001b[0m \u001b[32m━━━━━━━━━━━━━━━━━━━━\u001b[0m\u001b[37m\u001b[0m \u001b[1m47s\u001b[0m 1s/step - loss: 1.3322 - mae: 0.8755 - val_loss: 4.5196 - val_mae: 1.4686\n",
      "Epoch 224/300\n",
      "\u001b[1m44/44\u001b[0m \u001b[32m━━━━━━━━━━━━━━━━━━━━\u001b[0m\u001b[37m\u001b[0m \u001b[1m0s\u001b[0m 1s/step - loss: 1.1290 - mae: 0.8060\n",
      "Epoch 224: saving model to model_checkpoint.keras\n",
      "\u001b[1m44/44\u001b[0m \u001b[32m━━━━━━━━━━━━━━━━━━━━\u001b[0m\u001b[37m\u001b[0m \u001b[1m47s\u001b[0m 1s/step - loss: 1.1293 - mae: 0.8062 - val_loss: 4.4912 - val_mae: 1.4757\n",
      "Epoch 225/300\n",
      "\u001b[1m44/44\u001b[0m \u001b[32m━━━━━━━━━━━━━━━━━━━━\u001b[0m\u001b[37m\u001b[0m \u001b[1m0s\u001b[0m 1s/step - loss: 1.2005 - mae: 0.8555\n",
      "Epoch 225: saving model to model_checkpoint.keras\n",
      "\u001b[1m44/44\u001b[0m \u001b[32m━━━━━━━━━━━━━━━━━━━━\u001b[0m\u001b[37m\u001b[0m \u001b[1m48s\u001b[0m 1s/step - loss: 1.2013 - mae: 0.8554 - val_loss: 4.4247 - val_mae: 1.4732\n",
      "Epoch 226/300\n",
      "\u001b[1m44/44\u001b[0m \u001b[32m━━━━━━━━━━━━━━━━━━━━\u001b[0m\u001b[37m\u001b[0m \u001b[1m0s\u001b[0m 1s/step - loss: 1.1720 - mae: 0.8374\n",
      "Epoch 226: saving model to model_checkpoint.keras\n",
      "\u001b[1m44/44\u001b[0m \u001b[32m━━━━━━━━━━━━━━━━━━━━\u001b[0m\u001b[37m\u001b[0m \u001b[1m47s\u001b[0m 1s/step - loss: 1.1717 - mae: 0.8371 - val_loss: 4.4413 - val_mae: 1.4512\n",
      "Epoch 227/300\n",
      "\u001b[1m44/44\u001b[0m \u001b[32m━━━━━━━━━━━━━━━━━━━━\u001b[0m\u001b[37m\u001b[0m \u001b[1m0s\u001b[0m 1s/step - loss: 1.0789 - mae: 0.7994\n",
      "Epoch 227: saving model to model_checkpoint.keras\n",
      "\u001b[1m44/44\u001b[0m \u001b[32m━━━━━━━━━━━━━━━━━━━━\u001b[0m\u001b[37m\u001b[0m \u001b[1m48s\u001b[0m 1s/step - loss: 1.0805 - mae: 0.8000 - val_loss: 4.5107 - val_mae: 1.4643\n",
      "Epoch 228/300\n",
      "\u001b[1m44/44\u001b[0m \u001b[32m━━━━━━━━━━━━━━━━━━━━\u001b[0m\u001b[37m\u001b[0m \u001b[1m0s\u001b[0m 1s/step - loss: 1.2200 - mae: 0.8290\n",
      "Epoch 228: saving model to model_checkpoint.keras\n",
      "\u001b[1m44/44\u001b[0m \u001b[32m━━━━━━━━━━━━━━━━━━━━\u001b[0m\u001b[37m\u001b[0m \u001b[1m47s\u001b[0m 1s/step - loss: 1.2174 - mae: 0.8284 - val_loss: 4.4086 - val_mae: 1.4542\n",
      "Epoch 229/300\n",
      "\u001b[1m44/44\u001b[0m \u001b[32m━━━━━━━━━━━━━━━━━━━━\u001b[0m\u001b[37m\u001b[0m \u001b[1m0s\u001b[0m 1s/step - loss: 1.0395 - mae: 0.7854\n",
      "Epoch 229: saving model to model_checkpoint.keras\n",
      "\u001b[1m44/44\u001b[0m \u001b[32m━━━━━━━━━━━━━━━━━━━━\u001b[0m\u001b[37m\u001b[0m \u001b[1m47s\u001b[0m 1s/step - loss: 1.0405 - mae: 0.7856 - val_loss: 4.6666 - val_mae: 1.4992\n",
      "Epoch 230/300\n",
      "\u001b[1m44/44\u001b[0m \u001b[32m━━━━━━━━━━━━━━━━━━━━\u001b[0m\u001b[37m\u001b[0m \u001b[1m0s\u001b[0m 1s/step - loss: 1.1792 - mae: 0.8251\n",
      "Epoch 230: saving model to model_checkpoint.keras\n",
      "\u001b[1m44/44\u001b[0m \u001b[32m━━━━━━━━━━━━━━━━━━━━\u001b[0m\u001b[37m\u001b[0m \u001b[1m47s\u001b[0m 1s/step - loss: 1.1796 - mae: 0.8252 - val_loss: 4.4616 - val_mae: 1.4781\n",
      "Epoch 231/300\n",
      "\u001b[1m44/44\u001b[0m \u001b[32m━━━━━━━━━━━━━━━━━━━━\u001b[0m\u001b[37m\u001b[0m \u001b[1m0s\u001b[0m 1s/step - loss: 1.1209 - mae: 0.8132\n",
      "Epoch 231: saving model to model_checkpoint.keras\n",
      "\u001b[1m44/44\u001b[0m \u001b[32m━━━━━━━━━━━━━━━━━━━━\u001b[0m\u001b[37m\u001b[0m \u001b[1m47s\u001b[0m 1s/step - loss: 1.1211 - mae: 0.8133 - val_loss: 4.5447 - val_mae: 1.4747\n",
      "Epoch 232/300\n",
      "\u001b[1m44/44\u001b[0m \u001b[32m━━━━━━━━━━━━━━━━━━━━\u001b[0m\u001b[37m\u001b[0m \u001b[1m0s\u001b[0m 1s/step - loss: 1.1110 - mae: 0.7966\n",
      "Epoch 232: saving model to model_checkpoint.keras\n",
      "\u001b[1m44/44\u001b[0m \u001b[32m━━━━━━━━━━━━━━━━━━━━\u001b[0m\u001b[37m\u001b[0m \u001b[1m47s\u001b[0m 1s/step - loss: 1.1114 - mae: 0.7967 - val_loss: 4.4090 - val_mae: 1.4661\n",
      "Epoch 233/300\n",
      "\u001b[1m44/44\u001b[0m \u001b[32m━━━━━━━━━━━━━━━━━━━━\u001b[0m\u001b[37m\u001b[0m \u001b[1m0s\u001b[0m 1s/step - loss: 1.0129 - mae: 0.7791\n",
      "Epoch 233: saving model to model_checkpoint.keras\n",
      "\u001b[1m44/44\u001b[0m \u001b[32m━━━━━━━━━━━━━━━━━━━━\u001b[0m\u001b[37m\u001b[0m \u001b[1m47s\u001b[0m 1s/step - loss: 1.0134 - mae: 0.7792 - val_loss: 4.5617 - val_mae: 1.4761\n",
      "Epoch 234/300\n",
      "\u001b[1m44/44\u001b[0m \u001b[32m━━━━━━━━━━━━━━━━━━━━\u001b[0m\u001b[37m\u001b[0m \u001b[1m0s\u001b[0m 1s/step - loss: 1.0453 - mae: 0.7731\n",
      "Epoch 234: saving model to model_checkpoint.keras\n",
      "\u001b[1m44/44\u001b[0m \u001b[32m━━━━━━━━━━━━━━━━━━━━\u001b[0m\u001b[37m\u001b[0m \u001b[1m47s\u001b[0m 1s/step - loss: 1.0472 - mae: 0.7739 - val_loss: 4.6206 - val_mae: 1.4824\n",
      "Epoch 235/300\n",
      "\u001b[1m44/44\u001b[0m \u001b[32m━━━━━━━━━━━━━━━━━━━━\u001b[0m\u001b[37m\u001b[0m \u001b[1m0s\u001b[0m 1s/step - loss: 1.2917 - mae: 0.8620\n",
      "Epoch 235: saving model to model_checkpoint.keras\n",
      "\u001b[1m44/44\u001b[0m \u001b[32m━━━━━━━━━━━━━━━━━━━━\u001b[0m\u001b[37m\u001b[0m \u001b[1m47s\u001b[0m 1s/step - loss: 1.2903 - mae: 0.8617 - val_loss: 4.4382 - val_mae: 1.4655\n",
      "Epoch 236/300\n",
      "\u001b[1m44/44\u001b[0m \u001b[32m━━━━━━━━━━━━━━━━━━━━\u001b[0m\u001b[37m\u001b[0m \u001b[1m0s\u001b[0m 1s/step - loss: 1.0010 - mae: 0.7850\n",
      "Epoch 236: saving model to model_checkpoint.keras\n",
      "\u001b[1m44/44\u001b[0m \u001b[32m━━━━━━━━━━━━━━━━━━━━\u001b[0m\u001b[37m\u001b[0m \u001b[1m47s\u001b[0m 1s/step - loss: 1.0017 - mae: 0.7850 - val_loss: 4.6207 - val_mae: 1.4940\n",
      "Epoch 237/300\n",
      "\u001b[1m44/44\u001b[0m \u001b[32m━━━━━━━━━━━━━━━━━━━━\u001b[0m\u001b[37m\u001b[0m \u001b[1m0s\u001b[0m 1s/step - loss: 1.1596 - mae: 0.8289\n",
      "Epoch 237: saving model to model_checkpoint.keras\n",
      "\u001b[1m44/44\u001b[0m \u001b[32m━━━━━━━━━━━━━━━━━━━━\u001b[0m\u001b[37m\u001b[0m \u001b[1m47s\u001b[0m 1s/step - loss: 1.1592 - mae: 0.8285 - val_loss: 4.4006 - val_mae: 1.4538\n",
      "Epoch 238/300\n",
      "\u001b[1m44/44\u001b[0m \u001b[32m━━━━━━━━━━━━━━━━━━━━\u001b[0m\u001b[37m\u001b[0m \u001b[1m0s\u001b[0m 1s/step - loss: 1.0773 - mae: 0.7861\n",
      "Epoch 238: saving model to model_checkpoint.keras\n",
      "\u001b[1m44/44\u001b[0m \u001b[32m━━━━━━━━━━━━━━━━━━━━\u001b[0m\u001b[37m\u001b[0m \u001b[1m47s\u001b[0m 1s/step - loss: 1.0773 - mae: 0.7861 - val_loss: 4.3228 - val_mae: 1.4356\n",
      "Epoch 239/300\n",
      "\u001b[1m44/44\u001b[0m \u001b[32m━━━━━━━━━━━━━━━━━━━━\u001b[0m\u001b[37m\u001b[0m \u001b[1m0s\u001b[0m 1s/step - loss: 0.9933 - mae: 0.7674\n",
      "Epoch 239: saving model to model_checkpoint.keras\n",
      "\u001b[1m44/44\u001b[0m \u001b[32m━━━━━━━━━━━━━━━━━━━━\u001b[0m\u001b[37m\u001b[0m \u001b[1m47s\u001b[0m 1s/step - loss: 0.9943 - mae: 0.7678 - val_loss: 4.3971 - val_mae: 1.4410\n",
      "Epoch 240/300\n",
      "\u001b[1m44/44\u001b[0m \u001b[32m━━━━━━━━━━━━━━━━━━━━\u001b[0m\u001b[37m\u001b[0m \u001b[1m0s\u001b[0m 1s/step - loss: 1.1078 - mae: 0.8156\n",
      "Epoch 240: saving model to model_checkpoint.keras\n",
      "\u001b[1m44/44\u001b[0m \u001b[32m━━━━━━━━━━━━━━━━━━━━\u001b[0m\u001b[37m\u001b[0m \u001b[1m47s\u001b[0m 1s/step - loss: 1.1076 - mae: 0.8154 - val_loss: 4.6323 - val_mae: 1.5312\n",
      "Epoch 241/300\n",
      "\u001b[1m44/44\u001b[0m \u001b[32m━━━━━━━━━━━━━━━━━━━━\u001b[0m\u001b[37m\u001b[0m \u001b[1m0s\u001b[0m 1s/step - loss: 0.9762 - mae: 0.7423\n",
      "Epoch 241: saving model to model_checkpoint.keras\n",
      "\u001b[1m44/44\u001b[0m \u001b[32m━━━━━━━━━━━━━━━━━━━━\u001b[0m\u001b[37m\u001b[0m \u001b[1m47s\u001b[0m 1s/step - loss: 0.9774 - mae: 0.7429 - val_loss: 4.5084 - val_mae: 1.4678\n",
      "Epoch 242/300\n",
      "\u001b[1m44/44\u001b[0m \u001b[32m━━━━━━━━━━━━━━━━━━━━\u001b[0m\u001b[37m\u001b[0m \u001b[1m0s\u001b[0m 1s/step - loss: 1.0161 - mae: 0.7651\n",
      "Epoch 242: saving model to model_checkpoint.keras\n",
      "\u001b[1m44/44\u001b[0m \u001b[32m━━━━━━━━━━━━━━━━━━━━\u001b[0m\u001b[37m\u001b[0m \u001b[1m48s\u001b[0m 1s/step - loss: 1.0176 - mae: 0.7657 - val_loss: 4.3227 - val_mae: 1.4562\n",
      "Epoch 243/300\n",
      "\u001b[1m44/44\u001b[0m \u001b[32m━━━━━━━━━━━━━━━━━━━━\u001b[0m\u001b[37m\u001b[0m \u001b[1m0s\u001b[0m 1s/step - loss: 1.0629 - mae: 0.7858\n",
      "Epoch 243: saving model to model_checkpoint.keras\n",
      "\u001b[1m44/44\u001b[0m \u001b[32m━━━━━━━━━━━━━━━━━━━━\u001b[0m\u001b[37m\u001b[0m \u001b[1m47s\u001b[0m 1s/step - loss: 1.0628 - mae: 0.7858 - val_loss: 4.4396 - val_mae: 1.4534\n",
      "Epoch 244/300\n",
      "\u001b[1m44/44\u001b[0m \u001b[32m━━━━━━━━━━━━━━━━━━━━\u001b[0m\u001b[37m\u001b[0m \u001b[1m0s\u001b[0m 1s/step - loss: 1.0647 - mae: 0.8156\n",
      "Epoch 244: saving model to model_checkpoint.keras\n",
      "\u001b[1m44/44\u001b[0m \u001b[32m━━━━━━━━━━━━━━━━━━━━\u001b[0m\u001b[37m\u001b[0m \u001b[1m47s\u001b[0m 1s/step - loss: 1.0650 - mae: 0.8151 - val_loss: 5.2812 - val_mae: 1.6645\n",
      "Epoch 245/300\n",
      "\u001b[1m44/44\u001b[0m \u001b[32m━━━━━━━━━━━━━━━━━━━━\u001b[0m\u001b[37m\u001b[0m \u001b[1m0s\u001b[0m 1s/step - loss: 1.0393 - mae: 0.7721\n",
      "Epoch 245: saving model to model_checkpoint.keras\n",
      "\u001b[1m44/44\u001b[0m \u001b[32m━━━━━━━━━━━━━━━━━━━━\u001b[0m\u001b[37m\u001b[0m \u001b[1m47s\u001b[0m 1s/step - loss: 1.0395 - mae: 0.7721 - val_loss: 4.6121 - val_mae: 1.4799\n",
      "Epoch 246/300\n",
      "\u001b[1m44/44\u001b[0m \u001b[32m━━━━━━━━━━━━━━━━━━━━\u001b[0m\u001b[37m\u001b[0m \u001b[1m0s\u001b[0m 1s/step - loss: 1.0446 - mae: 0.7760\n",
      "Epoch 246: saving model to model_checkpoint.keras\n",
      "\u001b[1m44/44\u001b[0m \u001b[32m━━━━━━━━━━━━━━━━━━━━\u001b[0m\u001b[37m\u001b[0m \u001b[1m47s\u001b[0m 1s/step - loss: 1.0443 - mae: 0.7759 - val_loss: 4.3918 - val_mae: 1.4407\n",
      "Epoch 247/300\n",
      "\u001b[1m44/44\u001b[0m \u001b[32m━━━━━━━━━━━━━━━━━━━━\u001b[0m\u001b[37m\u001b[0m \u001b[1m0s\u001b[0m 1s/step - loss: 1.0583 - mae: 0.7898\n",
      "Epoch 247: saving model to model_checkpoint.keras\n",
      "\u001b[1m44/44\u001b[0m \u001b[32m━━━━━━━━━━━━━━━━━━━━\u001b[0m\u001b[37m\u001b[0m \u001b[1m47s\u001b[0m 1s/step - loss: 1.0570 - mae: 0.7894 - val_loss: 4.3202 - val_mae: 1.4272\n",
      "Epoch 248/300\n",
      "\u001b[1m44/44\u001b[0m \u001b[32m━━━━━━━━━━━━━━━━━━━━\u001b[0m\u001b[37m\u001b[0m \u001b[1m0s\u001b[0m 1s/step - loss: 0.9689 - mae: 0.7559\n",
      "Epoch 248: saving model to model_checkpoint.keras\n",
      "\u001b[1m44/44\u001b[0m \u001b[32m━━━━━━━━━━━━━━━━━━━━\u001b[0m\u001b[37m\u001b[0m \u001b[1m47s\u001b[0m 1s/step - loss: 0.9697 - mae: 0.7561 - val_loss: 4.3955 - val_mae: 1.4361\n",
      "Epoch 249/300\n",
      "\u001b[1m44/44\u001b[0m \u001b[32m━━━━━━━━━━━━━━━━━━━━\u001b[0m\u001b[37m\u001b[0m \u001b[1m0s\u001b[0m 1s/step - loss: 1.0369 - mae: 0.7696\n",
      "Epoch 249: saving model to model_checkpoint.keras\n",
      "\u001b[1m44/44\u001b[0m \u001b[32m━━━━━━━━━━━━━━━━━━━━\u001b[0m\u001b[37m\u001b[0m \u001b[1m47s\u001b[0m 1s/step - loss: 1.0366 - mae: 0.7698 - val_loss: 4.4117 - val_mae: 1.4556\n",
      "Epoch 250/300\n",
      "\u001b[1m44/44\u001b[0m \u001b[32m━━━━━━━━━━━━━━━━━━━━\u001b[0m\u001b[37m\u001b[0m \u001b[1m0s\u001b[0m 1s/step - loss: 1.0095 - mae: 0.7837\n",
      "Epoch 250: saving model to model_checkpoint.keras\n",
      "\u001b[1m44/44\u001b[0m \u001b[32m━━━━━━━━━━━━━━━━━━━━\u001b[0m\u001b[37m\u001b[0m \u001b[1m47s\u001b[0m 1s/step - loss: 1.0096 - mae: 0.7836 - val_loss: 4.3846 - val_mae: 1.4579\n",
      "Epoch 251/300\n",
      "\u001b[1m44/44\u001b[0m \u001b[32m━━━━━━━━━━━━━━━━━━━━\u001b[0m\u001b[37m\u001b[0m \u001b[1m0s\u001b[0m 1s/step - loss: 0.9632 - mae: 0.7636\n",
      "Epoch 251: saving model to model_checkpoint.keras\n",
      "\u001b[1m44/44\u001b[0m \u001b[32m━━━━━━━━━━━━━━━━━━━━\u001b[0m\u001b[37m\u001b[0m \u001b[1m47s\u001b[0m 1s/step - loss: 0.9647 - mae: 0.7640 - val_loss: 4.4369 - val_mae: 1.4574\n",
      "Epoch 252/300\n",
      "\u001b[1m44/44\u001b[0m \u001b[32m━━━━━━━━━━━━━━━━━━━━\u001b[0m\u001b[37m\u001b[0m \u001b[1m0s\u001b[0m 1s/step - loss: 0.9326 - mae: 0.7319\n",
      "Epoch 252: saving model to model_checkpoint.keras\n",
      "\u001b[1m44/44\u001b[0m \u001b[32m━━━━━━━━━━━━━━━━━━━━\u001b[0m\u001b[37m\u001b[0m \u001b[1m47s\u001b[0m 1s/step - loss: 0.9339 - mae: 0.7323 - val_loss: 4.4560 - val_mae: 1.4480\n",
      "Epoch 253/300\n",
      "\u001b[1m44/44\u001b[0m \u001b[32m━━━━━━━━━━━━━━━━━━━━\u001b[0m\u001b[37m\u001b[0m \u001b[1m0s\u001b[0m 1s/step - loss: 0.9479 - mae: 0.7474\n",
      "Epoch 253: saving model to model_checkpoint.keras\n",
      "\u001b[1m44/44\u001b[0m \u001b[32m━━━━━━━━━━━━━━━━━━━━\u001b[0m\u001b[37m\u001b[0m \u001b[1m47s\u001b[0m 1s/step - loss: 0.9491 - mae: 0.7478 - val_loss: 4.4774 - val_mae: 1.4546\n",
      "Epoch 254/300\n",
      "\u001b[1m44/44\u001b[0m \u001b[32m━━━━━━━━━━━━━━━━━━━━\u001b[0m\u001b[37m\u001b[0m \u001b[1m0s\u001b[0m 1s/step - loss: 1.2138 - mae: 0.8332\n",
      "Epoch 254: saving model to model_checkpoint.keras\n",
      "\u001b[1m44/44\u001b[0m \u001b[32m━━━━━━━━━━━━━━━━━━━━\u001b[0m\u001b[37m\u001b[0m \u001b[1m47s\u001b[0m 1s/step - loss: 1.2140 - mae: 0.8332 - val_loss: 5.2095 - val_mae: 1.6498\n",
      "Epoch 255/300\n",
      "\u001b[1m44/44\u001b[0m \u001b[32m━━━━━━━━━━━━━━━━━━━━\u001b[0m\u001b[37m\u001b[0m \u001b[1m0s\u001b[0m 1s/step - loss: 1.0393 - mae: 0.7697\n",
      "Epoch 255: saving model to model_checkpoint.keras\n",
      "\u001b[1m44/44\u001b[0m \u001b[32m━━━━━━━━━━━━━━━━━━━━\u001b[0m\u001b[37m\u001b[0m \u001b[1m47s\u001b[0m 1s/step - loss: 1.0387 - mae: 0.7696 - val_loss: 4.4815 - val_mae: 1.4548\n",
      "Epoch 256/300\n",
      "\u001b[1m44/44\u001b[0m \u001b[32m━━━━━━━━━━━━━━━━━━━━\u001b[0m\u001b[37m\u001b[0m \u001b[1m0s\u001b[0m 1s/step - loss: 1.1037 - mae: 0.7949\n",
      "Epoch 256: saving model to model_checkpoint.keras\n",
      "\u001b[1m44/44\u001b[0m \u001b[32m━━━━━━━━━━━━━━━━━━━━\u001b[0m\u001b[37m\u001b[0m \u001b[1m48s\u001b[0m 1s/step - loss: 1.1026 - mae: 0.7947 - val_loss: 4.3085 - val_mae: 1.4225\n",
      "Epoch 257/300\n",
      "\u001b[1m44/44\u001b[0m \u001b[32m━━━━━━━━━━━━━━━━━━━━\u001b[0m\u001b[37m\u001b[0m \u001b[1m0s\u001b[0m 1s/step - loss: 0.9766 - mae: 0.7422\n",
      "Epoch 257: saving model to model_checkpoint.keras\n",
      "\u001b[1m44/44\u001b[0m \u001b[32m━━━━━━━━━━━━━━━━━━━━\u001b[0m\u001b[37m\u001b[0m \u001b[1m47s\u001b[0m 1s/step - loss: 0.9758 - mae: 0.7421 - val_loss: 4.4110 - val_mae: 1.4435\n",
      "Epoch 258/300\n",
      "\u001b[1m44/44\u001b[0m \u001b[32m━━━━━━━━━━━━━━━━━━━━\u001b[0m\u001b[37m\u001b[0m \u001b[1m0s\u001b[0m 1s/step - loss: 0.9793 - mae: 0.7509\n",
      "Epoch 258: saving model to model_checkpoint.keras\n",
      "\u001b[1m44/44\u001b[0m \u001b[32m━━━━━━━━━━━━━━━━━━━━\u001b[0m\u001b[37m\u001b[0m \u001b[1m47s\u001b[0m 1s/step - loss: 0.9785 - mae: 0.7508 - val_loss: 4.3400 - val_mae: 1.4365\n",
      "Epoch 259/300\n",
      "\u001b[1m44/44\u001b[0m \u001b[32m━━━━━━━━━━━━━━━━━━━━\u001b[0m\u001b[37m\u001b[0m \u001b[1m0s\u001b[0m 1s/step - loss: 0.8950 - mae: 0.7451\n",
      "Epoch 259: saving model to model_checkpoint.keras\n",
      "\u001b[1m44/44\u001b[0m \u001b[32m━━━━━━━━━━━━━━━━━━━━\u001b[0m\u001b[37m\u001b[0m \u001b[1m48s\u001b[0m 1s/step - loss: 0.8967 - mae: 0.7456 - val_loss: 4.2920 - val_mae: 1.4165\n",
      "Epoch 260/300\n",
      "\u001b[1m44/44\u001b[0m \u001b[32m━━━━━━━━━━━━━━━━━━━━\u001b[0m\u001b[37m\u001b[0m \u001b[1m0s\u001b[0m 1s/step - loss: 0.9318 - mae: 0.7289\n",
      "Epoch 260: saving model to model_checkpoint.keras\n",
      "\u001b[1m44/44\u001b[0m \u001b[32m━━━━━━━━━━━━━━━━━━━━\u001b[0m\u001b[37m\u001b[0m \u001b[1m48s\u001b[0m 1s/step - loss: 0.9317 - mae: 0.7290 - val_loss: 4.2306 - val_mae: 1.4084\n",
      "Epoch 261/300\n",
      "\u001b[1m44/44\u001b[0m \u001b[32m━━━━━━━━━━━━━━━━━━━━\u001b[0m\u001b[37m\u001b[0m \u001b[1m0s\u001b[0m 1s/step - loss: 0.9160 - mae: 0.7288\n",
      "Epoch 261: saving model to model_checkpoint.keras\n",
      "\u001b[1m44/44\u001b[0m \u001b[32m━━━━━━━━━━━━━━━━━━━━\u001b[0m\u001b[37m\u001b[0m \u001b[1m47s\u001b[0m 1s/step - loss: 0.9162 - mae: 0.7291 - val_loss: 4.3974 - val_mae: 1.4280\n",
      "Epoch 262/300\n",
      "\u001b[1m44/44\u001b[0m \u001b[32m━━━━━━━━━━━━━━━━━━━━\u001b[0m\u001b[37m\u001b[0m \u001b[1m0s\u001b[0m 1s/step - loss: 1.0512 - mae: 0.7823\n",
      "Epoch 262: saving model to model_checkpoint.keras\n",
      "\u001b[1m44/44\u001b[0m \u001b[32m━━━━━━━━━━━━━━━━━━━━\u001b[0m\u001b[37m\u001b[0m \u001b[1m47s\u001b[0m 1s/step - loss: 1.0527 - mae: 0.7828 - val_loss: 4.2931 - val_mae: 1.4376\n",
      "Epoch 263/300\n",
      "\u001b[1m44/44\u001b[0m \u001b[32m━━━━━━━━━━━━━━━━━━━━\u001b[0m\u001b[37m\u001b[0m \u001b[1m0s\u001b[0m 1s/step - loss: 0.9135 - mae: 0.7347\n",
      "Epoch 263: saving model to model_checkpoint.keras\n",
      "\u001b[1m44/44\u001b[0m \u001b[32m━━━━━━━━━━━━━━━━━━━━\u001b[0m\u001b[37m\u001b[0m \u001b[1m47s\u001b[0m 1s/step - loss: 0.9138 - mae: 0.7347 - val_loss: 4.3199 - val_mae: 1.4131\n",
      "Epoch 264/300\n",
      "\u001b[1m44/44\u001b[0m \u001b[32m━━━━━━━━━━━━━━━━━━━━\u001b[0m\u001b[37m\u001b[0m \u001b[1m0s\u001b[0m 1s/step - loss: 0.9280 - mae: 0.7358\n",
      "Epoch 264: saving model to model_checkpoint.keras\n",
      "\u001b[1m44/44\u001b[0m \u001b[32m━━━━━━━━━━━━━━━━━━━━\u001b[0m\u001b[37m\u001b[0m \u001b[1m47s\u001b[0m 1s/step - loss: 0.9281 - mae: 0.7359 - val_loss: 4.5080 - val_mae: 1.4460\n",
      "Epoch 265/300\n",
      "\u001b[1m44/44\u001b[0m \u001b[32m━━━━━━━━━━━━━━━━━━━━\u001b[0m\u001b[37m\u001b[0m \u001b[1m0s\u001b[0m 1s/step - loss: 1.0170 - mae: 0.7744\n",
      "Epoch 265: saving model to model_checkpoint.keras\n",
      "\u001b[1m44/44\u001b[0m \u001b[32m━━━━━━━━━━━━━━━━━━━━\u001b[0m\u001b[37m\u001b[0m \u001b[1m48s\u001b[0m 1s/step - loss: 1.0163 - mae: 0.7741 - val_loss: 4.2306 - val_mae: 1.4012\n",
      "Epoch 266/300\n",
      "\u001b[1m44/44\u001b[0m \u001b[32m━━━━━━━━━━━━━━━━━━━━\u001b[0m\u001b[37m\u001b[0m \u001b[1m0s\u001b[0m 1s/step - loss: 1.0093 - mae: 0.7573\n",
      "Epoch 266: saving model to model_checkpoint.keras\n",
      "\u001b[1m44/44\u001b[0m \u001b[32m━━━━━━━━━━━━━━━━━━━━\u001b[0m\u001b[37m\u001b[0m \u001b[1m47s\u001b[0m 1s/step - loss: 1.0087 - mae: 0.7571 - val_loss: 4.3147 - val_mae: 1.4525\n",
      "Epoch 267/300\n",
      "\u001b[1m44/44\u001b[0m \u001b[32m━━━━━━━━━━━━━━━━━━━━\u001b[0m\u001b[37m\u001b[0m \u001b[1m0s\u001b[0m 1s/step - loss: 0.9215 - mae: 0.7405\n",
      "Epoch 267: saving model to model_checkpoint.keras\n",
      "\u001b[1m44/44\u001b[0m \u001b[32m━━━━━━━━━━━━━━━━━━━━\u001b[0m\u001b[37m\u001b[0m \u001b[1m47s\u001b[0m 1s/step - loss: 0.9214 - mae: 0.7404 - val_loss: 4.3869 - val_mae: 1.4400\n",
      "Epoch 268/300\n",
      "\u001b[1m44/44\u001b[0m \u001b[32m━━━━━━━━━━━━━━━━━━━━\u001b[0m\u001b[37m\u001b[0m \u001b[1m0s\u001b[0m 1s/step - loss: 1.0645 - mae: 0.7790\n",
      "Epoch 268: saving model to model_checkpoint.keras\n",
      "\u001b[1m44/44\u001b[0m \u001b[32m━━━━━━━━━━━━━━━━━━━━\u001b[0m\u001b[37m\u001b[0m \u001b[1m47s\u001b[0m 1s/step - loss: 1.0632 - mae: 0.7784 - val_loss: 4.3199 - val_mae: 1.3951\n",
      "Epoch 269/300\n",
      "\u001b[1m44/44\u001b[0m \u001b[32m━━━━━━━━━━━━━━━━━━━━\u001b[0m\u001b[37m\u001b[0m \u001b[1m0s\u001b[0m 1s/step - loss: 0.9112 - mae: 0.7404\n",
      "Epoch 269: saving model to model_checkpoint.keras\n",
      "\u001b[1m44/44\u001b[0m \u001b[32m━━━━━━━━━━━━━━━━━━━━\u001b[0m\u001b[37m\u001b[0m \u001b[1m47s\u001b[0m 1s/step - loss: 0.9107 - mae: 0.7401 - val_loss: 4.4335 - val_mae: 1.4196\n",
      "Epoch 270/300\n",
      "\u001b[1m44/44\u001b[0m \u001b[32m━━━━━━━━━━━━━━━━━━━━\u001b[0m\u001b[37m\u001b[0m \u001b[1m0s\u001b[0m 1s/step - loss: 0.9051 - mae: 0.7286\n",
      "Epoch 270: saving model to model_checkpoint.keras\n",
      "\u001b[1m44/44\u001b[0m \u001b[32m━━━━━━━━━━━━━━━━━━━━\u001b[0m\u001b[37m\u001b[0m \u001b[1m47s\u001b[0m 1s/step - loss: 0.9067 - mae: 0.7292 - val_loss: 4.6595 - val_mae: 1.5285\n",
      "Epoch 271/300\n",
      "\u001b[1m44/44\u001b[0m \u001b[32m━━━━━━━━━━━━━━━━━━━━\u001b[0m\u001b[37m\u001b[0m \u001b[1m0s\u001b[0m 1s/step - loss: 0.9389 - mae: 0.7469\n",
      "Epoch 271: saving model to model_checkpoint.keras\n",
      "\u001b[1m44/44\u001b[0m \u001b[32m━━━━━━━━━━━━━━━━━━━━\u001b[0m\u001b[37m\u001b[0m \u001b[1m47s\u001b[0m 1s/step - loss: 0.9393 - mae: 0.7470 - val_loss: 4.6414 - val_mae: 1.5326\n",
      "Epoch 272/300\n",
      "\u001b[1m44/44\u001b[0m \u001b[32m━━━━━━━━━━━━━━━━━━━━\u001b[0m\u001b[37m\u001b[0m \u001b[1m0s\u001b[0m 1s/step - loss: 1.0020 - mae: 0.7691\n",
      "Epoch 272: saving model to model_checkpoint.keras\n",
      "\u001b[1m44/44\u001b[0m \u001b[32m━━━━━━━━━━━━━━━━━━━━\u001b[0m\u001b[37m\u001b[0m \u001b[1m47s\u001b[0m 1s/step - loss: 1.0017 - mae: 0.7687 - val_loss: 4.2968 - val_mae: 1.4197\n",
      "Epoch 273/300\n",
      "\u001b[1m44/44\u001b[0m \u001b[32m━━━━━━━━━━━━━━━━━━━━\u001b[0m\u001b[37m\u001b[0m \u001b[1m0s\u001b[0m 1s/step - loss: 0.9672 - mae: 0.7429\n",
      "Epoch 273: saving model to model_checkpoint.keras\n",
      "\u001b[1m44/44\u001b[0m \u001b[32m━━━━━━━━━━━━━━━━━━━━\u001b[0m\u001b[37m\u001b[0m \u001b[1m47s\u001b[0m 1s/step - loss: 0.9675 - mae: 0.7432 - val_loss: 4.4156 - val_mae: 1.4567\n",
      "Epoch 274/300\n",
      "\u001b[1m44/44\u001b[0m \u001b[32m━━━━━━━━━━━━━━━━━━━━\u001b[0m\u001b[37m\u001b[0m \u001b[1m0s\u001b[0m 1s/step - loss: 0.9793 - mae: 0.7525\n",
      "Epoch 274: saving model to model_checkpoint.keras\n",
      "\u001b[1m44/44\u001b[0m \u001b[32m━━━━━━━━━━━━━━━━━━━━\u001b[0m\u001b[37m\u001b[0m \u001b[1m47s\u001b[0m 1s/step - loss: 0.9790 - mae: 0.7522 - val_loss: 4.3421 - val_mae: 1.4326\n",
      "Epoch 275/300\n",
      "\u001b[1m44/44\u001b[0m \u001b[32m━━━━━━━━━━━━━━━━━━━━\u001b[0m\u001b[37m\u001b[0m \u001b[1m0s\u001b[0m 1s/step - loss: 0.8759 - mae: 0.7064\n",
      "Epoch 275: saving model to model_checkpoint.keras\n",
      "\u001b[1m44/44\u001b[0m \u001b[32m━━━━━━━━━━━━━━━━━━━━\u001b[0m\u001b[37m\u001b[0m \u001b[1m47s\u001b[0m 1s/step - loss: 0.8753 - mae: 0.7063 - val_loss: 4.5198 - val_mae: 1.4793\n",
      "Epoch 276/300\n",
      "\u001b[1m44/44\u001b[0m \u001b[32m━━━━━━━━━━━━━━━━━━━━\u001b[0m\u001b[37m\u001b[0m \u001b[1m0s\u001b[0m 1s/step - loss: 0.8699 - mae: 0.7217\n",
      "Epoch 276: saving model to model_checkpoint.keras\n",
      "\u001b[1m44/44\u001b[0m \u001b[32m━━━━━━━━━━━━━━━━━━━━\u001b[0m\u001b[37m\u001b[0m \u001b[1m47s\u001b[0m 1s/step - loss: 0.8693 - mae: 0.7216 - val_loss: 4.6584 - val_mae: 1.5160\n",
      "Epoch 277/300\n",
      "\u001b[1m44/44\u001b[0m \u001b[32m━━━━━━━━━━━━━━━━━━━━\u001b[0m\u001b[37m\u001b[0m \u001b[1m0s\u001b[0m 1s/step - loss: 0.9966 - mae: 0.7561\n",
      "Epoch 277: saving model to model_checkpoint.keras\n",
      "\u001b[1m44/44\u001b[0m \u001b[32m━━━━━━━━━━━━━━━━━━━━\u001b[0m\u001b[37m\u001b[0m \u001b[1m47s\u001b[0m 1s/step - loss: 0.9979 - mae: 0.7565 - val_loss: 5.0148 - val_mae: 1.6195\n",
      "Epoch 278/300\n",
      "\u001b[1m44/44\u001b[0m \u001b[32m━━━━━━━━━━━━━━━━━━━━\u001b[0m\u001b[37m\u001b[0m \u001b[1m0s\u001b[0m 1s/step - loss: 1.0508 - mae: 0.7893\n",
      "Epoch 278: saving model to model_checkpoint.keras\n",
      "\u001b[1m44/44\u001b[0m \u001b[32m━━━━━━━━━━━━━━━━━━━━\u001b[0m\u001b[37m\u001b[0m \u001b[1m47s\u001b[0m 1s/step - loss: 1.0499 - mae: 0.7890 - val_loss: 4.4778 - val_mae: 1.4600\n",
      "Epoch 279/300\n",
      "\u001b[1m44/44\u001b[0m \u001b[32m━━━━━━━━━━━━━━━━━━━━\u001b[0m\u001b[37m\u001b[0m \u001b[1m0s\u001b[0m 1s/step - loss: 1.0091 - mae: 0.7669\n",
      "Epoch 279: saving model to model_checkpoint.keras\n",
      "\u001b[1m44/44\u001b[0m \u001b[32m━━━━━━━━━━━━━━━━━━━━\u001b[0m\u001b[37m\u001b[0m \u001b[1m47s\u001b[0m 1s/step - loss: 1.0073 - mae: 0.7664 - val_loss: 4.3584 - val_mae: 1.4322\n",
      "Epoch 280/300\n",
      "\u001b[1m44/44\u001b[0m \u001b[32m━━━━━━━━━━━━━━━━━━━━\u001b[0m\u001b[37m\u001b[0m \u001b[1m0s\u001b[0m 1s/step - loss: 0.8309 - mae: 0.7099\n",
      "Epoch 280: saving model to model_checkpoint.keras\n",
      "\u001b[1m44/44\u001b[0m \u001b[32m━━━━━━━━━━━━━━━━━━━━\u001b[0m\u001b[37m\u001b[0m \u001b[1m47s\u001b[0m 1s/step - loss: 0.8315 - mae: 0.7101 - val_loss: 4.4680 - val_mae: 1.4752\n",
      "Epoch 281/300\n",
      "\u001b[1m44/44\u001b[0m \u001b[32m━━━━━━━━━━━━━━━━━━━━\u001b[0m\u001b[37m\u001b[0m \u001b[1m0s\u001b[0m 1s/step - loss: 0.9056 - mae: 0.7342\n",
      "Epoch 281: saving model to model_checkpoint.keras\n",
      "\u001b[1m44/44\u001b[0m \u001b[32m━━━━━━━━━━━━━━━━━━━━\u001b[0m\u001b[37m\u001b[0m \u001b[1m47s\u001b[0m 1s/step - loss: 0.9051 - mae: 0.7341 - val_loss: 4.5586 - val_mae: 1.4755\n",
      "Epoch 282/300\n",
      "\u001b[1m44/44\u001b[0m \u001b[32m━━━━━━━━━━━━━━━━━━━━\u001b[0m\u001b[37m\u001b[0m \u001b[1m0s\u001b[0m 1s/step - loss: 0.9347 - mae: 0.7527\n",
      "Epoch 282: saving model to model_checkpoint.keras\n",
      "\u001b[1m44/44\u001b[0m \u001b[32m━━━━━━━━━━━━━━━━━━━━\u001b[0m\u001b[37m\u001b[0m \u001b[1m47s\u001b[0m 1s/step - loss: 0.9340 - mae: 0.7524 - val_loss: 4.2325 - val_mae: 1.4168\n",
      "Epoch 283/300\n",
      "\u001b[1m44/44\u001b[0m \u001b[32m━━━━━━━━━━━━━━━━━━━━\u001b[0m\u001b[37m\u001b[0m \u001b[1m0s\u001b[0m 1s/step - loss: 0.9047 - mae: 0.7411\n",
      "Epoch 283: saving model to model_checkpoint.keras\n",
      "\u001b[1m44/44\u001b[0m \u001b[32m━━━━━━━━━━━━━━━━━━━━\u001b[0m\u001b[37m\u001b[0m \u001b[1m47s\u001b[0m 1s/step - loss: 0.9047 - mae: 0.7410 - val_loss: 4.3777 - val_mae: 1.4374\n",
      "Epoch 284/300\n",
      "\u001b[1m44/44\u001b[0m \u001b[32m━━━━━━━━━━━━━━━━━━━━\u001b[0m\u001b[37m\u001b[0m \u001b[1m0s\u001b[0m 1s/step - loss: 0.7890 - mae: 0.6945\n",
      "Epoch 284: saving model to model_checkpoint.keras\n",
      "\u001b[1m44/44\u001b[0m \u001b[32m━━━━━━━━━━━━━━━━━━━━\u001b[0m\u001b[37m\u001b[0m \u001b[1m47s\u001b[0m 1s/step - loss: 0.7890 - mae: 0.6944 - val_loss: 4.3902 - val_mae: 1.4238\n",
      "Epoch 285/300\n",
      "\u001b[1m44/44\u001b[0m \u001b[32m━━━━━━━━━━━━━━━━━━━━\u001b[0m\u001b[37m\u001b[0m \u001b[1m0s\u001b[0m 1s/step - loss: 0.9360 - mae: 0.7484\n",
      "Epoch 285: saving model to model_checkpoint.keras\n",
      "\u001b[1m44/44\u001b[0m \u001b[32m━━━━━━━━━━━━━━━━━━━━\u001b[0m\u001b[37m\u001b[0m \u001b[1m47s\u001b[0m 1s/step - loss: 0.9353 - mae: 0.7481 - val_loss: 4.4334 - val_mae: 1.4876\n",
      "Epoch 286/300\n",
      "\u001b[1m44/44\u001b[0m \u001b[32m━━━━━━━━━━━━━━━━━━━━\u001b[0m\u001b[37m\u001b[0m \u001b[1m0s\u001b[0m 1s/step - loss: 0.7721 - mae: 0.6715\n",
      "Epoch 286: saving model to model_checkpoint.keras\n",
      "\u001b[1m44/44\u001b[0m \u001b[32m━━━━━━━━━━━━━━━━━━━━\u001b[0m\u001b[37m\u001b[0m \u001b[1m47s\u001b[0m 1s/step - loss: 0.7742 - mae: 0.6725 - val_loss: 4.2676 - val_mae: 1.4058\n",
      "Epoch 287/300\n",
      "\u001b[1m44/44\u001b[0m \u001b[32m━━━━━━━━━━━━━━━━━━━━\u001b[0m\u001b[37m\u001b[0m \u001b[1m0s\u001b[0m 1s/step - loss: 0.8893 - mae: 0.7172\n",
      "Epoch 287: saving model to model_checkpoint.keras\n",
      "\u001b[1m44/44\u001b[0m \u001b[32m━━━━━━━━━━━━━━━━━━━━\u001b[0m\u001b[37m\u001b[0m \u001b[1m47s\u001b[0m 1s/step - loss: 0.8889 - mae: 0.7171 - val_loss: 4.3171 - val_mae: 1.4356\n",
      "Epoch 288/300\n",
      "\u001b[1m44/44\u001b[0m \u001b[32m━━━━━━━━━━━━━━━━━━━━\u001b[0m\u001b[37m\u001b[0m \u001b[1m0s\u001b[0m 1s/step - loss: 0.8060 - mae: 0.6885\n",
      "Epoch 288: saving model to model_checkpoint.keras\n",
      "\u001b[1m44/44\u001b[0m \u001b[32m━━━━━━━━━━━━━━━━━━━━\u001b[0m\u001b[37m\u001b[0m \u001b[1m47s\u001b[0m 1s/step - loss: 0.8068 - mae: 0.6888 - val_loss: 4.4556 - val_mae: 1.4257\n",
      "Epoch 289/300\n",
      "\u001b[1m44/44\u001b[0m \u001b[32m━━━━━━━━━━━━━━━━━━━━\u001b[0m\u001b[37m\u001b[0m \u001b[1m0s\u001b[0m 1s/step - loss: 1.0300 - mae: 0.7501\n",
      "Epoch 289: saving model to model_checkpoint.keras\n",
      "\u001b[1m44/44\u001b[0m \u001b[32m━━━━━━━━━━━━━━━━━━━━\u001b[0m\u001b[37m\u001b[0m \u001b[1m47s\u001b[0m 1s/step - loss: 1.0287 - mae: 0.7496 - val_loss: 4.5065 - val_mae: 1.4560\n",
      "Epoch 290/300\n",
      "\u001b[1m44/44\u001b[0m \u001b[32m━━━━━━━━━━━━━━━━━━━━\u001b[0m\u001b[37m\u001b[0m \u001b[1m0s\u001b[0m 1s/step - loss: 0.8533 - mae: 0.7152\n",
      "Epoch 290: saving model to model_checkpoint.keras\n",
      "\u001b[1m44/44\u001b[0m \u001b[32m━━━━━━━━━━━━━━━━━━━━\u001b[0m\u001b[37m\u001b[0m \u001b[1m47s\u001b[0m 1s/step - loss: 0.8520 - mae: 0.7146 - val_loss: 4.3904 - val_mae: 1.4332\n",
      "Epoch 291/300\n",
      "\u001b[1m44/44\u001b[0m \u001b[32m━━━━━━━━━━━━━━━━━━━━\u001b[0m\u001b[37m\u001b[0m \u001b[1m0s\u001b[0m 1s/step - loss: 0.8256 - mae: 0.6947\n",
      "Epoch 291: saving model to model_checkpoint.keras\n",
      "\u001b[1m44/44\u001b[0m \u001b[32m━━━━━━━━━━━━━━━━━━━━\u001b[0m\u001b[37m\u001b[0m \u001b[1m47s\u001b[0m 1s/step - loss: 0.8253 - mae: 0.6946 - val_loss: 4.2953 - val_mae: 1.4069\n",
      "Epoch 292/300\n",
      "\u001b[1m44/44\u001b[0m \u001b[32m━━━━━━━━━━━━━━━━━━━━\u001b[0m\u001b[37m\u001b[0m \u001b[1m0s\u001b[0m 1s/step - loss: 0.8276 - mae: 0.6987\n",
      "Epoch 292: saving model to model_checkpoint.keras\n",
      "\u001b[1m44/44\u001b[0m \u001b[32m━━━━━━━━━━━━━━━━━━━━\u001b[0m\u001b[37m\u001b[0m \u001b[1m47s\u001b[0m 1s/step - loss: 0.8281 - mae: 0.6989 - val_loss: 4.7895 - val_mae: 1.5364\n",
      "Epoch 293/300\n",
      "\u001b[1m44/44\u001b[0m \u001b[32m━━━━━━━━━━━━━━━━━━━━\u001b[0m\u001b[37m\u001b[0m \u001b[1m0s\u001b[0m 1s/step - loss: 0.9724 - mae: 0.7540\n",
      "Epoch 293: saving model to model_checkpoint.keras\n",
      "\u001b[1m44/44\u001b[0m \u001b[32m━━━━━━━━━━━━━━━━━━━━\u001b[0m\u001b[37m\u001b[0m \u001b[1m47s\u001b[0m 1s/step - loss: 0.9710 - mae: 0.7535 - val_loss: 4.3472 - val_mae: 1.4287\n",
      "Epoch 294/300\n",
      "\u001b[1m44/44\u001b[0m \u001b[32m━━━━━━━━━━━━━━━━━━━━\u001b[0m\u001b[37m\u001b[0m \u001b[1m0s\u001b[0m 1s/step - loss: 0.7612 - mae: 0.6758\n",
      "Epoch 294: saving model to model_checkpoint.keras\n",
      "\u001b[1m44/44\u001b[0m \u001b[32m━━━━━━━━━━━━━━━━━━━━\u001b[0m\u001b[37m\u001b[0m \u001b[1m47s\u001b[0m 1s/step - loss: 0.7626 - mae: 0.6763 - val_loss: 4.4956 - val_mae: 1.4656\n",
      "Epoch 295/300\n",
      "\u001b[1m44/44\u001b[0m \u001b[32m━━━━━━━━━━━━━━━━━━━━\u001b[0m\u001b[37m\u001b[0m \u001b[1m0s\u001b[0m 1s/step - loss: 0.8739 - mae: 0.7205\n",
      "Epoch 295: saving model to model_checkpoint.keras\n",
      "\u001b[1m44/44\u001b[0m \u001b[32m━━━━━━━━━━━━━━━━━━━━\u001b[0m\u001b[37m\u001b[0m \u001b[1m47s\u001b[0m 1s/step - loss: 0.8733 - mae: 0.7202 - val_loss: 4.3074 - val_mae: 1.4089\n",
      "Epoch 296/300\n",
      "\u001b[1m44/44\u001b[0m \u001b[32m━━━━━━━━━━━━━━━━━━━━\u001b[0m\u001b[37m\u001b[0m \u001b[1m0s\u001b[0m 1s/step - loss: 0.8853 - mae: 0.7315\n",
      "Epoch 296: saving model to model_checkpoint.keras\n",
      "\u001b[1m44/44\u001b[0m \u001b[32m━━━━━━━━━━━━━━━━━━━━\u001b[0m\u001b[37m\u001b[0m \u001b[1m47s\u001b[0m 1s/step - loss: 0.8829 - mae: 0.7305 - val_loss: 4.4451 - val_mae: 1.4489\n",
      "Epoch 297/300\n",
      "\u001b[1m44/44\u001b[0m \u001b[32m━━━━━━━━━━━━━━━━━━━━\u001b[0m\u001b[37m\u001b[0m \u001b[1m0s\u001b[0m 1s/step - loss: 0.7782 - mae: 0.6811\n",
      "Epoch 297: saving model to model_checkpoint.keras\n",
      "\u001b[1m44/44\u001b[0m \u001b[32m━━━━━━━━━━━━━━━━━━━━\u001b[0m\u001b[37m\u001b[0m \u001b[1m47s\u001b[0m 1s/step - loss: 0.7794 - mae: 0.6816 - val_loss: 4.2912 - val_mae: 1.4138\n",
      "Epoch 298/300\n",
      "\u001b[1m44/44\u001b[0m \u001b[32m━━━━━━━━━━━━━━━━━━━━\u001b[0m\u001b[37m\u001b[0m \u001b[1m0s\u001b[0m 1s/step - loss: 0.8308 - mae: 0.7029\n",
      "Epoch 298: saving model to model_checkpoint.keras\n",
      "\u001b[1m44/44\u001b[0m \u001b[32m━━━━━━━━━━━━━━━━━━━━\u001b[0m\u001b[37m\u001b[0m \u001b[1m47s\u001b[0m 1s/step - loss: 0.8308 - mae: 0.7030 - val_loss: 4.4257 - val_mae: 1.4481\n",
      "Epoch 299/300\n",
      "\u001b[1m44/44\u001b[0m \u001b[32m━━━━━━━━━━━━━━━━━━━━\u001b[0m\u001b[37m\u001b[0m \u001b[1m0s\u001b[0m 1s/step - loss: 0.8645 - mae: 0.7115\n",
      "Epoch 299: saving model to model_checkpoint.keras\n",
      "\u001b[1m44/44\u001b[0m \u001b[32m━━━━━━━━━━━━━━━━━━━━\u001b[0m\u001b[37m\u001b[0m \u001b[1m47s\u001b[0m 1s/step - loss: 0.8652 - mae: 0.7118 - val_loss: 4.2872 - val_mae: 1.4191\n",
      "Epoch 300/300\n",
      "\u001b[1m44/44\u001b[0m \u001b[32m━━━━━━━━━━━━━━━━━━━━\u001b[0m\u001b[37m\u001b[0m \u001b[1m0s\u001b[0m 1s/step - loss: 0.7971 - mae: 0.6975\n",
      "Epoch 300: saving model to model_checkpoint.keras\n",
      "\u001b[1m44/44\u001b[0m \u001b[32m━━━━━━━━━━━━━━━━━━━━\u001b[0m\u001b[37m\u001b[0m \u001b[1m47s\u001b[0m 1s/step - loss: 0.7963 - mae: 0.6971 - val_loss: 4.3650 - val_mae: 1.4227\n"
     ]
    }
   ],
   "source": [
    "# Train the model.\n",
    "# Note: y_train and y_test should now contain continuous values between 0.0 and 13.0.\n",
    "history = model.fit(\n",
    "    X_train_final,\n",
    "    y_train,\n",
    "    validation_data=(X_test_final, y_test),\n",
    "    epochs=300,\n",
    "    batch_size=32,\n",
    "    callbacks=callbacks,\n",
    "    verbose=1\n",
    ")\n"
   ]
  },
  {
   "cell_type": "code",
   "execution_count": null,
   "id": "f08e772e",
   "metadata": {
    "papermill": {
     "duration": 0.692843,
     "end_time": "2025-02-23T15:50:00.126959",
     "exception": false,
     "start_time": "2025-02-23T15:49:59.434116",
     "status": "completed"
    },
    "tags": []
   },
   "outputs": [],
   "source": []
  }
 ],
 "metadata": {
  "kaggle": {
   "accelerator": "none",
   "dataSources": [
    {
     "datasetId": 6577343,
     "sourceId": 10622934,
     "sourceType": "datasetVersion"
    },
    {
     "datasetId": 6579869,
     "sourceId": 10627200,
     "sourceType": "datasetVersion"
    },
    {
     "datasetId": 6637708,
     "sourceId": 10709822,
     "sourceType": "datasetVersion"
    }
   ],
   "dockerImageVersionId": 30887,
   "isGpuEnabled": false,
   "isInternetEnabled": true,
   "language": "python",
   "sourceType": "notebook"
  },
  "kernelspec": {
   "display_name": "Python 3",
   "language": "python",
   "name": "python3"
  },
  "language_info": {
   "codemirror_mode": {
    "name": "ipython",
    "version": 3
   },
   "file_extension": ".py",
   "mimetype": "text/x-python",
   "name": "python",
   "nbconvert_exporter": "python",
   "pygments_lexer": "ipython3",
   "version": "3.10.12"
  },
  "papermill": {
   "default_parameters": {},
   "duration": 14284.37735,
   "end_time": "2025-02-23T15:50:03.395659",
   "environment_variables": {},
   "exception": null,
   "input_path": "__notebook__.ipynb",
   "output_path": "__notebook__.ipynb",
   "parameters": {},
   "start_time": "2025-02-23T11:51:59.018309",
   "version": "2.6.0"
  }
 },
 "nbformat": 4,
 "nbformat_minor": 5
}
