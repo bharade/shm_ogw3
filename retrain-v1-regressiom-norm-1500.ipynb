{
 "cells": [
  {
   "cell_type": "code",
   "execution_count": 1,
   "id": "e7a9b751",
   "metadata": {
    "_cell_guid": "b1076dfc-b9ad-4769-8c92-a6c4dae69d19",
    "_uuid": "8f2839f25d086af736a60e9eeb907d3b93b6e0e5",
    "execution": {
     "iopub.execute_input": "2025-03-05T11:28:57.578586Z",
     "iopub.status.busy": "2025-03-05T11:28:57.578216Z",
     "iopub.status.idle": "2025-03-05T11:28:58.322921Z",
     "shell.execute_reply": "2025-03-05T11:28:58.321900Z"
    },
    "papermill": {
     "duration": 0.75474,
     "end_time": "2025-03-05T11:28:58.324465",
     "exception": false,
     "start_time": "2025-03-05T11:28:57.569725",
     "status": "completed"
    },
    "tags": []
   },
   "outputs": [
    {
     "name": "stdout",
     "output_type": "stream",
     "text": [
      "/kaggle/input/regression_norm/keras/default/1/model_regression_norm.keras\n",
      "/kaggle/input/regression_norm_800/keras/default/1/model_checkpoint (2).keras\n",
      "/kaggle/input/regression_norm_500/keras/default/1/model_regression_norm_500.keras\n",
      "/kaggle/input/ogw3-augmented/X_damage_augmented.npy\n",
      "/kaggle/input/ogw3-augmented/X_freq_augmented.npy\n",
      "/kaggle/input/ogw3-augmented/X_signals_augmented.npy\n",
      "/kaggle/input/regression_norm_1100/keras/default/1/model_checkpoint (3).keras\n"
     ]
    }
   ],
   "source": [
    "# This Python 3 environment comes with many helpful analytics libraries installed\n",
    "# It is defined by the kaggle/python Docker image: https://github.com/kaggle/docker-python\n",
    "# For example, here's several helpful packages to load\n",
    "\n",
    "import numpy as np # linear algebra\n",
    "import pandas as pd # data processing, CSV file I/O (e.g. pd.read_csv)\n",
    "\n",
    "# Input data files are available in the read-only \"../input/\" directory\n",
    "# For example, running this (by clicking run or pressing Shift+Enter) will list all files under the input directory\n",
    "\n",
    "import os\n",
    "for dirname, _, filenames in os.walk('/kaggle/input'):\n",
    "    for filename in filenames:\n",
    "        print(os.path.join(dirname, filename))\n",
    "\n",
    "# You can write up to 20GB to the current directory (/kaggle/working/) that gets preserved as output when you create a version using \"Save & Run All\" \n",
    "# You can also write temporary files to /kaggle/temp/, but they won't be saved outside of the current session"
   ]
  },
  {
   "cell_type": "markdown",
   "id": "ce500bf0",
   "metadata": {
    "papermill": {
     "duration": 0.005723,
     "end_time": "2025-03-05T11:28:58.336807",
     "exception": false,
     "start_time": "2025-03-05T11:28:58.331084",
     "status": "completed"
    },
    "tags": []
   },
   "source": [
    "# 1.5) loading augmented data"
   ]
  },
  {
   "cell_type": "code",
   "execution_count": 2,
   "id": "2cb26a60",
   "metadata": {
    "execution": {
     "iopub.execute_input": "2025-03-05T11:28:58.349637Z",
     "iopub.status.busy": "2025-03-05T11:28:58.349313Z",
     "iopub.status.idle": "2025-03-05T11:28:58.354555Z",
     "shell.execute_reply": "2025-03-05T11:28:58.353729Z"
    },
    "papermill": {
     "duration": 0.013023,
     "end_time": "2025-03-05T11:28:58.355890",
     "exception": false,
     "start_time": "2025-03-05T11:28:58.342867",
     "status": "completed"
    },
    "tags": []
   },
   "outputs": [
    {
     "data": {
      "text/plain": [
       "'/kaggle/working'"
      ]
     },
     "execution_count": 2,
     "metadata": {},
     "output_type": "execute_result"
    }
   ],
   "source": [
    "%pwd\n"
   ]
  },
  {
   "cell_type": "code",
   "execution_count": 3,
   "id": "c9d4bc98",
   "metadata": {
    "execution": {
     "iopub.execute_input": "2025-03-05T11:28:58.368846Z",
     "iopub.status.busy": "2025-03-05T11:28:58.368604Z",
     "iopub.status.idle": "2025-03-05T11:28:58.371792Z",
     "shell.execute_reply": "2025-03-05T11:28:58.370973Z"
    },
    "papermill": {
     "duration": 0.011076,
     "end_time": "2025-03-05T11:28:58.373012",
     "exception": false,
     "start_time": "2025-03-05T11:28:58.361936",
     "status": "completed"
    },
    "tags": []
   },
   "outputs": [],
   "source": [
    "import os"
   ]
  },
  {
   "cell_type": "code",
   "execution_count": 4,
   "id": "429d22ba",
   "metadata": {
    "execution": {
     "iopub.execute_input": "2025-03-05T11:28:58.385474Z",
     "iopub.status.busy": "2025-03-05T11:28:58.385273Z",
     "iopub.status.idle": "2025-03-05T11:28:58.388417Z",
     "shell.execute_reply": "2025-03-05T11:28:58.387644Z"
    },
    "papermill": {
     "duration": 0.010791,
     "end_time": "2025-03-05T11:28:58.389712",
     "exception": false,
     "start_time": "2025-03-05T11:28:58.378921",
     "status": "completed"
    },
    "tags": []
   },
   "outputs": [],
   "source": [
    "os.chdir(\"..\")\n",
    "os.chdir(\"input\")"
   ]
  },
  {
   "cell_type": "code",
   "execution_count": 5,
   "id": "5c84959f",
   "metadata": {
    "execution": {
     "iopub.execute_input": "2025-03-05T11:28:58.402541Z",
     "iopub.status.busy": "2025-03-05T11:28:58.402344Z",
     "iopub.status.idle": "2025-03-05T11:28:59.246196Z",
     "shell.execute_reply": "2025-03-05T11:28:59.245134Z"
    },
    "papermill": {
     "duration": 0.852372,
     "end_time": "2025-03-05T11:28:59.247923",
     "exception": false,
     "start_time": "2025-03-05T11:28:58.395551",
     "status": "completed"
    },
    "tags": []
   },
   "outputs": [],
   "source": [
    "X_signals_augmented = np.load('ogw3-augmented/X_signals_augmented.npy')\n",
    "X_damage_augmented = np.load('ogw3-augmented/X_damage_augmented.npy')\n",
    "X_freq_augmented = np.load('ogw3-augmented/X_freq_augmented.npy')\n"
   ]
  },
  {
   "cell_type": "code",
   "execution_count": 6,
   "id": "5a9545bd",
   "metadata": {
    "execution": {
     "iopub.execute_input": "2025-03-05T11:28:59.261860Z",
     "iopub.status.busy": "2025-03-05T11:28:59.261635Z",
     "iopub.status.idle": "2025-03-05T11:28:59.265932Z",
     "shell.execute_reply": "2025-03-05T11:28:59.265158Z"
    },
    "papermill": {
     "duration": 0.01264,
     "end_time": "2025-03-05T11:28:59.267280",
     "exception": false,
     "start_time": "2025-03-05T11:28:59.254640",
     "status": "completed"
    },
    "tags": []
   },
   "outputs": [
    {
     "name": "stdout",
     "output_type": "stream",
     "text": [
      "X_signals shape:(2040, 4369, 1)\n",
      "X_signals shape:(2040, 14)\n",
      "X_signals shape:(2040, 12)\n"
     ]
    }
   ],
   "source": [
    "print(f\"X_signals shape:{X_signals_augmented.shape}\")\n",
    "print(f\"X_signals shape:{X_damage_augmented.shape}\")\n",
    "print(f\"X_signals shape:{X_freq_augmented.shape}\")"
   ]
  },
  {
   "cell_type": "code",
   "execution_count": 7,
   "id": "b9637d82",
   "metadata": {
    "execution": {
     "iopub.execute_input": "2025-03-05T11:28:59.279983Z",
     "iopub.status.busy": "2025-03-05T11:28:59.279759Z",
     "iopub.status.idle": "2025-03-05T11:28:59.379750Z",
     "shell.execute_reply": "2025-03-05T11:28:59.378584Z"
    },
    "papermill": {
     "duration": 0.107873,
     "end_time": "2025-03-05T11:28:59.381192",
     "exception": false,
     "start_time": "2025-03-05T11:28:59.273319",
     "status": "completed"
    },
    "tags": []
   },
   "outputs": [
    {
     "name": "stdout",
     "output_type": "stream",
     "text": [
      "Summary for X_signals_augmented:\n",
      "Mean: [[-0.00808563]\n",
      " [-0.03676917]\n",
      " [ 0.00793156]\n",
      " ...\n",
      " [ 0.43494834]\n",
      " [ 0.47826858]\n",
      " [ 0.47794448]]\n",
      "Variance: [[0.04756828]\n",
      " [0.05728288]\n",
      " [0.05182533]\n",
      " ...\n",
      " [0.11266843]\n",
      " [0.11778735]\n",
      " [0.1192308 ]]\n",
      "Min: [[-1.]\n",
      " [-1.]\n",
      " [-1.]\n",
      " ...\n",
      " [-1.]\n",
      " [-1.]\n",
      " [-1.]]\n",
      "Max: [[1.]\n",
      " [1.]\n",
      " [1.]\n",
      " ...\n",
      " [1.]\n",
      " [1.]\n",
      " [1.]]\n",
      "--------------------------------------------------\n",
      "Summary for X_freq_augmented:\n",
      "Mean: [0.08333333 0.08333333 0.08333333 0.08333333 0.08333333 0.08333333\n",
      " 0.08333333 0.08333333 0.08333333 0.08333333 0.08333333 0.08333333]\n",
      "Variance: [0.07638889 0.07638889 0.07638889 0.07638889 0.07638889 0.07638889\n",
      " 0.07638889 0.07638889 0.07638889 0.07638889 0.07638889 0.07638889]\n",
      "Min: [0. 0. 0. 0. 0. 0. 0. 0. 0. 0. 0. 0.]\n",
      "Max: [1. 1. 1. 1. 1. 1. 1. 1. 1. 1. 1. 1.]\n",
      "--------------------------------------------------\n"
     ]
    }
   ],
   "source": [
    "import numpy as np\n",
    "\n",
    "def summarize_data(X, name):\n",
    "    print(f\"Summary for {name}:\")\n",
    "    print(\"Mean:\", np.mean(X, axis=0))\n",
    "    print(\"Variance:\", np.var(X, axis=0))\n",
    "    print(\"Min:\", np.min(X, axis=0))\n",
    "    print(\"Max:\", np.max(X, axis=0))\n",
    "    print(\"-\" * 50)\n",
    "\n",
    "summarize_data(X_signals_augmented, \"X_signals_augmented\")\n",
    "summarize_data(X_freq_augmented, \"X_freq_augmented\")\n"
   ]
  },
  {
   "cell_type": "code",
   "execution_count": 8,
   "id": "943e15ce",
   "metadata": {
    "execution": {
     "iopub.execute_input": "2025-03-05T11:28:59.394899Z",
     "iopub.status.busy": "2025-03-05T11:28:59.394661Z",
     "iopub.status.idle": "2025-03-05T11:28:59.409858Z",
     "shell.execute_reply": "2025-03-05T11:28:59.408845Z"
    },
    "papermill": {
     "duration": 0.023456,
     "end_time": "2025-03-05T11:28:59.411258",
     "exception": false,
     "start_time": "2025-03-05T11:28:59.387802",
     "status": "completed"
    },
    "tags": []
   },
   "outputs": [
    {
     "name": "stdout",
     "output_type": "stream",
     "text": [
      "Damage Condition Counts:\n",
      " 0.0    26520\n",
      "1.0     2040\n",
      "Name: count, dtype: int64\n"
     ]
    }
   ],
   "source": [
    "import pandas as pd\n",
    "\n",
    "damage_counts = pd.Series(X_damage_augmented.flatten()).value_counts()\n",
    "print(\"Damage Condition Counts:\\n\", damage_counts)\n"
   ]
  },
  {
   "cell_type": "markdown",
   "id": "aa08d823",
   "metadata": {
    "papermill": {
     "duration": 0.005984,
     "end_time": "2025-03-05T11:28:59.423644",
     "exception": false,
     "start_time": "2025-03-05T11:28:59.417660",
     "status": "completed"
    },
    "tags": []
   },
   "source": [
    "# 2. Execution and model Training\n",
    "This is where the actual execution starts"
   ]
  },
  {
   "cell_type": "code",
   "execution_count": 9,
   "id": "b1b745d5",
   "metadata": {
    "execution": {
     "iopub.execute_input": "2025-03-05T11:28:59.436694Z",
     "iopub.status.busy": "2025-03-05T11:28:59.436450Z",
     "iopub.status.idle": "2025-03-05T11:28:59.439833Z",
     "shell.execute_reply": "2025-03-05T11:28:59.439163Z"
    },
    "papermill": {
     "duration": 0.011357,
     "end_time": "2025-03-05T11:28:59.441166",
     "exception": false,
     "start_time": "2025-03-05T11:28:59.429809",
     "status": "completed"
    },
    "tags": []
   },
   "outputs": [],
   "source": [
    "import numpy as np\n",
    "import pandas as pd\n",
    "import pickle\n",
    "import matplotlib.pyplot as plt\n",
    "import os"
   ]
  },
  {
   "cell_type": "code",
   "execution_count": 10,
   "id": "28f4e523",
   "metadata": {
    "execution": {
     "iopub.execute_input": "2025-03-05T11:28:59.454365Z",
     "iopub.status.busy": "2025-03-05T11:28:59.454149Z",
     "iopub.status.idle": "2025-03-05T11:29:00.558245Z",
     "shell.execute_reply": "2025-03-05T11:29:00.557532Z"
    },
    "papermill": {
     "duration": 1.112343,
     "end_time": "2025-03-05T11:29:00.559742",
     "exception": false,
     "start_time": "2025-03-05T11:28:59.447399",
     "status": "completed"
    },
    "tags": []
   },
   "outputs": [],
   "source": [
    "import numpy as np\n",
    "from sklearn.model_selection import train_test_split\n",
    "\n",
    "# ----------------------------------------------------------------------\n",
    "# Step 1: Convert one-hot encoded damage labels to scalar values.\n",
    "# ----------------------------------------------------------------------\n",
    "# Each sample in X_damage_augmented is a one-hot vector. We convert it to the\n",
    "# corresponding class index (i.e., 0 for undamaged, 1-13 for damage levels).\n",
    "y_augmented = np.argmax(X_damage_augmented, axis=1).astype(np.float32)\n",
    "# y_augmented now has shape (num_samples,)"
   ]
  },
  {
   "cell_type": "code",
   "execution_count": 11,
   "id": "f85e7a8c",
   "metadata": {
    "execution": {
     "iopub.execute_input": "2025-03-05T11:29:00.573146Z",
     "iopub.status.busy": "2025-03-05T11:29:00.572796Z",
     "iopub.status.idle": "2025-03-05T11:29:00.577254Z",
     "shell.execute_reply": "2025-03-05T11:29:00.576618Z"
    },
    "papermill": {
     "duration": 0.012161,
     "end_time": "2025-03-05T11:29:00.578333",
     "exception": false,
     "start_time": "2025-03-05T11:29:00.566172",
     "status": "completed"
    },
    "tags": []
   },
   "outputs": [
    {
     "data": {
      "text/plain": [
       "0.0"
      ]
     },
     "execution_count": 11,
     "metadata": {},
     "output_type": "execute_result"
    }
   ],
   "source": [
    "y_augmented.min()"
   ]
  },
  {
   "cell_type": "code",
   "execution_count": 12,
   "id": "a570a711",
   "metadata": {
    "execution": {
     "iopub.execute_input": "2025-03-05T11:29:00.594982Z",
     "iopub.status.busy": "2025-03-05T11:29:00.594743Z",
     "iopub.status.idle": "2025-03-05T11:29:00.598087Z",
     "shell.execute_reply": "2025-03-05T11:29:00.597456Z"
    },
    "papermill": {
     "duration": 0.014287,
     "end_time": "2025-03-05T11:29:00.599458",
     "exception": false,
     "start_time": "2025-03-05T11:29:00.585171",
     "status": "completed"
    },
    "tags": []
   },
   "outputs": [],
   "source": [
    "# ----------------------------------------------------------------------\n",
    "# Step 2: Define the features.\n",
    "# ----------------------------------------------------------------------\n",
    "# For this regression task, we use the guided wave signals as the features.\n",
    "# (If you wish to include frequency information as additional features, you might\n",
    "# concatenate or process X_freq_augmented separately; here we assume only the signal is used.)\n",
    "X_augmented = X_signals_augmented  # shape: (num_samples, 4369, 1)"
   ]
  },
  {
   "cell_type": "code",
   "execution_count": 13,
   "id": "4807f7a8",
   "metadata": {
    "execution": {
     "iopub.execute_input": "2025-03-05T11:29:00.619483Z",
     "iopub.status.busy": "2025-03-05T11:29:00.619175Z",
     "iopub.status.idle": "2025-03-05T11:29:00.649677Z",
     "shell.execute_reply": "2025-03-05T11:29:00.648930Z"
    },
    "papermill": {
     "duration": 0.045004,
     "end_time": "2025-03-05T11:29:00.651265",
     "exception": false,
     "start_time": "2025-03-05T11:29:00.606261",
     "status": "completed"
    },
    "tags": []
   },
   "outputs": [],
   "source": [
    "# ----------------------------------------------------------------------\n",
    "# Step 3: Split the data into training and test sets.\n",
    "# ----------------------------------------------------------------------\n",
    "# Here we use 80% of the data for training and 20% for testing.\n",
    "X_train, X_test, y_train, y_test = train_test_split(\n",
    "    X_augmented, y_augmented, test_size=0.1, random_state=42\n",
    ")\n"
   ]
  },
  {
   "cell_type": "code",
   "execution_count": 14,
   "id": "ef9a95ee",
   "metadata": {
    "execution": {
     "iopub.execute_input": "2025-03-05T11:29:00.664877Z",
     "iopub.status.busy": "2025-03-05T11:29:00.664654Z",
     "iopub.status.idle": "2025-03-05T11:29:00.669440Z",
     "shell.execute_reply": "2025-03-05T11:29:00.668805Z"
    },
    "papermill": {
     "duration": 0.012756,
     "end_time": "2025-03-05T11:29:00.670585",
     "exception": false,
     "start_time": "2025-03-05T11:29:00.657829",
     "status": "completed"
    },
    "tags": []
   },
   "outputs": [
    {
     "name": "stdout",
     "output_type": "stream",
     "text": [
      "Training data shape: (1836, 4369, 1)\n",
      "Training labels shape: (1836,)\n",
      "Test data shape: (204, 4369, 1)\n",
      "Test labels shape: (204,)\n"
     ]
    }
   ],
   "source": [
    "# ----------------------------------------------------------------------\n",
    "# Step 4: Verify the shapes of the datasets.\n",
    "# ----------------------------------------------------------------------\n",
    "print(f\"Training data shape: {X_train.shape}\")  # Expected: (num_train_samples, 4369, 1)\n",
    "print(f\"Training labels shape: {y_train.shape}\")  # Expected: (num_train_samples,)\n",
    "print(f\"Test data shape: {X_test.shape}\")         # Expected: (num_test_samples, 4369, 1)\n",
    "print(f\"Test labels shape: {y_test.shape}\")         # Expected: (num_test_samples,)\n"
   ]
  },
  {
   "cell_type": "code",
   "execution_count": 15,
   "id": "f447f8b7",
   "metadata": {
    "execution": {
     "iopub.execute_input": "2025-03-05T11:29:00.683967Z",
     "iopub.status.busy": "2025-03-05T11:29:00.683762Z",
     "iopub.status.idle": "2025-03-05T11:29:00.687772Z",
     "shell.execute_reply": "2025-03-05T11:29:00.687195Z"
    },
    "papermill": {
     "duration": 0.012293,
     "end_time": "2025-03-05T11:29:00.688969",
     "exception": false,
     "start_time": "2025-03-05T11:29:00.676676",
     "status": "completed"
    },
    "tags": []
   },
   "outputs": [],
   "source": [
    "def print_label_distribution(y, set_name):\n",
    "    \"\"\"Print the distribution of labels in a dataset.\"\"\"\n",
    "    print(f\"\\n{set_name} label distribution:\")\n",
    "    print(f\"- Baseline samples (0): {np.sum(y == 0)}\")\n",
    "    for damage_size in range(1, 14):\n",
    "        print(f\"- Damage size {damage_size}: {np.sum(y == damage_size)}\")"
   ]
  },
  {
   "cell_type": "code",
   "execution_count": 16,
   "id": "b4fcf4f2",
   "metadata": {
    "execution": {
     "iopub.execute_input": "2025-03-05T11:29:00.702237Z",
     "iopub.status.busy": "2025-03-05T11:29:00.702006Z",
     "iopub.status.idle": "2025-03-05T11:29:00.712111Z",
     "shell.execute_reply": "2025-03-05T11:29:00.711337Z"
    },
    "papermill": {
     "duration": 0.018692,
     "end_time": "2025-03-05T11:29:00.713694",
     "exception": false,
     "start_time": "2025-03-05T11:29:00.695002",
     "status": "completed"
    },
    "tags": []
   },
   "outputs": [
    {
     "name": "stdout",
     "output_type": "stream",
     "text": [
      "\n",
      "Training set label distribution:\n",
      "- Baseline samples (0): 433\n",
      "- Damage size 1: 107\n",
      "- Damage size 2: 107\n",
      "- Damage size 3: 105\n",
      "- Damage size 4: 106\n",
      "- Damage size 5: 105\n",
      "- Damage size 6: 107\n",
      "- Damage size 7: 115\n",
      "- Damage size 8: 109\n",
      "- Damage size 9: 107\n",
      "- Damage size 10: 111\n",
      "- Damage size 11: 109\n",
      "- Damage size 12: 111\n",
      "- Damage size 13: 104\n",
      "\n",
      "Test set label distribution:\n",
      "- Baseline samples (0): 47\n",
      "- Damage size 1: 13\n",
      "- Damage size 2: 13\n",
      "- Damage size 3: 15\n",
      "- Damage size 4: 14\n",
      "- Damage size 5: 15\n",
      "- Damage size 6: 13\n",
      "- Damage size 7: 5\n",
      "- Damage size 8: 11\n",
      "- Damage size 9: 13\n",
      "- Damage size 10: 9\n",
      "- Damage size 11: 11\n",
      "- Damage size 12: 9\n",
      "- Damage size 13: 16\n"
     ]
    }
   ],
   "source": [
    "# Print label distribution for training and test sets\n",
    "print_label_distribution(y_train, \"Training set\")\n",
    "print_label_distribution(y_test, \"Test set\")"
   ]
  },
  {
   "cell_type": "code",
   "execution_count": 17,
   "id": "a6217bc4",
   "metadata": {
    "execution": {
     "iopub.execute_input": "2025-03-05T11:29:00.733714Z",
     "iopub.status.busy": "2025-03-05T11:29:00.733426Z",
     "iopub.status.idle": "2025-03-05T11:29:00.758559Z",
     "shell.execute_reply": "2025-03-05T11:29:00.757729Z"
    },
    "papermill": {
     "duration": 0.03719,
     "end_time": "2025-03-05T11:29:00.760649",
     "exception": false,
     "start_time": "2025-03-05T11:29:00.723459",
     "status": "completed"
    },
    "tags": []
   },
   "outputs": [],
   "source": [
    "# Convert input data to float32\n",
    "X_train = X_train.astype('float32')\n",
    "X_test = X_test.astype('float32')"
   ]
  },
  {
   "cell_type": "code",
   "execution_count": 18,
   "id": "7e548793",
   "metadata": {
    "execution": {
     "iopub.execute_input": "2025-03-05T11:29:00.784061Z",
     "iopub.status.busy": "2025-03-05T11:29:00.783705Z",
     "iopub.status.idle": "2025-03-05T11:29:00.787973Z",
     "shell.execute_reply": "2025-03-05T11:29:00.787384Z"
    },
    "papermill": {
     "duration": 0.016136,
     "end_time": "2025-03-05T11:29:00.789410",
     "exception": false,
     "start_time": "2025-03-05T11:29:00.773274",
     "status": "completed"
    },
    "tags": []
   },
   "outputs": [],
   "source": [
    "y_train = y_train.astype('int32')\n",
    "y_test = y_test.astype('int32')"
   ]
  },
  {
   "cell_type": "code",
   "execution_count": 19,
   "id": "1e9c154f",
   "metadata": {
    "execution": {
     "iopub.execute_input": "2025-03-05T11:29:00.808462Z",
     "iopub.status.busy": "2025-03-05T11:29:00.808119Z",
     "iopub.status.idle": "2025-03-05T11:29:00.833529Z",
     "shell.execute_reply": "2025-03-05T11:29:00.832489Z"
    },
    "papermill": {
     "duration": 0.038637,
     "end_time": "2025-03-05T11:29:00.835072",
     "exception": false,
     "start_time": "2025-03-05T11:29:00.796435",
     "status": "completed"
    },
    "tags": []
   },
   "outputs": [
    {
     "name": "stdout",
     "output_type": "stream",
     "text": [
      "Min values after scaling: [-1.040155  -0.9812768 -1.        ... -1.        -0.9722817 -0.9399686]\n",
      "Max values after scaling: [1.0318567  0.94322634 1.         ... 1.         0.9312466  1.0010613 ]\n"
     ]
    }
   ],
   "source": [
    "print(\"Min values after scaling:\", np.min(X_train, axis=(1,2)))\n",
    "print(\"Max values after scaling:\", np.max(X_train, axis=(1,2)))"
   ]
  },
  {
   "cell_type": "code",
   "execution_count": 20,
   "id": "e24579e6",
   "metadata": {
    "execution": {
     "iopub.execute_input": "2025-03-05T11:29:00.850827Z",
     "iopub.status.busy": "2025-03-05T11:29:00.850614Z",
     "iopub.status.idle": "2025-03-05T11:29:00.854206Z",
     "shell.execute_reply": "2025-03-05T11:29:00.853283Z"
    },
    "papermill": {
     "duration": 0.011857,
     "end_time": "2025-03-05T11:29:00.855510",
     "exception": false,
     "start_time": "2025-03-05T11:29:00.843653",
     "status": "completed"
    },
    "tags": []
   },
   "outputs": [
    {
     "name": "stdout",
     "output_type": "stream",
     "text": [
      "X_train dtype: float32\n",
      "y_train dtype: int32\n"
     ]
    }
   ],
   "source": [
    "print(\"X_train dtype:\", X_train.dtype)  # Should print float32\n",
    "print(\"y_train dtype:\", y_train.dtype)  # Should print float32"
   ]
  },
  {
   "cell_type": "markdown",
   "id": "58f460f4",
   "metadata": {
    "papermill": {
     "duration": 0.006099,
     "end_time": "2025-03-05T11:29:00.867874",
     "exception": false,
     "start_time": "2025-03-05T11:29:00.861775",
     "status": "completed"
    },
    "tags": []
   },
   "source": [
    "# 3. Model Architecture"
   ]
  },
  {
   "cell_type": "code",
   "execution_count": 21,
   "id": "a265bd63",
   "metadata": {
    "execution": {
     "iopub.execute_input": "2025-03-05T11:29:00.881037Z",
     "iopub.status.busy": "2025-03-05T11:29:00.880782Z",
     "iopub.status.idle": "2025-03-05T11:29:11.782283Z",
     "shell.execute_reply": "2025-03-05T11:29:11.781534Z"
    },
    "papermill": {
     "duration": 10.909842,
     "end_time": "2025-03-05T11:29:11.783889",
     "exception": false,
     "start_time": "2025-03-05T11:29:00.874047",
     "status": "completed"
    },
    "tags": []
   },
   "outputs": [],
   "source": [
    "import tensorflow as tf\n",
    "from tensorflow import keras\n",
    "from tensorflow.keras import layers, models\n",
    "from tensorflow.keras.models import load_model"
   ]
  },
  {
   "cell_type": "code",
   "execution_count": 22,
   "id": "c4b19927",
   "metadata": {
    "execution": {
     "iopub.execute_input": "2025-03-05T11:29:11.798781Z",
     "iopub.status.busy": "2025-03-05T11:29:11.798325Z",
     "iopub.status.idle": "2025-03-05T11:29:11.801687Z",
     "shell.execute_reply": "2025-03-05T11:29:11.801042Z"
    },
    "papermill": {
     "duration": 0.012042,
     "end_time": "2025-03-05T11:29:11.802769",
     "exception": false,
     "start_time": "2025-03-05T11:29:11.790727",
     "status": "completed"
    },
    "tags": []
   },
   "outputs": [],
   "source": [
    "tf.keras.backend.set_floatx('float32')"
   ]
  },
  {
   "cell_type": "code",
   "execution_count": 23,
   "id": "e409df28",
   "metadata": {
    "execution": {
     "iopub.execute_input": "2025-03-05T11:29:11.816660Z",
     "iopub.status.busy": "2025-03-05T11:29:11.816412Z",
     "iopub.status.idle": "2025-03-05T11:29:12.678739Z",
     "shell.execute_reply": "2025-03-05T11:29:12.678027Z"
    },
    "papermill": {
     "duration": 0.870505,
     "end_time": "2025-03-05T11:29:12.680029",
     "exception": false,
     "start_time": "2025-03-05T11:29:11.809524",
     "status": "completed"
    },
    "tags": []
   },
   "outputs": [],
   "source": [
    "# Multi-GPU setup\n",
    "strategy = tf.distribute.MirroredStrategy()"
   ]
  },
  {
   "cell_type": "code",
   "execution_count": 24,
   "id": "6d243dab",
   "metadata": {
    "execution": {
     "iopub.execute_input": "2025-03-05T11:29:12.694131Z",
     "iopub.status.busy": "2025-03-05T11:29:12.693886Z",
     "iopub.status.idle": "2025-03-05T11:29:12.698280Z",
     "shell.execute_reply": "2025-03-05T11:29:12.697665Z"
    },
    "papermill": {
     "duration": 0.012617,
     "end_time": "2025-03-05T11:29:12.699406",
     "exception": false,
     "start_time": "2025-03-05T11:29:12.686789",
     "status": "completed"
    },
    "tags": []
   },
   "outputs": [
    {
     "data": {
      "text/plain": [
       "'/kaggle/input'"
      ]
     },
     "execution_count": 24,
     "metadata": {},
     "output_type": "execute_result"
    }
   ],
   "source": [
    "%pwd"
   ]
  },
  {
   "cell_type": "code",
   "execution_count": 25,
   "id": "c2321424",
   "metadata": {
    "execution": {
     "iopub.execute_input": "2025-03-05T11:29:12.712969Z",
     "iopub.status.busy": "2025-03-05T11:29:12.712765Z",
     "iopub.status.idle": "2025-03-05T11:29:12.726335Z",
     "shell.execute_reply": "2025-03-05T11:29:12.725719Z"
    },
    "papermill": {
     "duration": 0.021865,
     "end_time": "2025-03-05T11:29:12.727651",
     "exception": false,
     "start_time": "2025-03-05T11:29:12.705786",
     "status": "completed"
    },
    "tags": []
   },
   "outputs": [],
   "source": [
    "# Assume X_train has the shape (num_samples, 4369, 1)\n",
    "num_samples, original_length, channels = X_train.shape\n",
    "\n",
    "# Calculate padding length so that the length becomes divisible by 5.\n",
    "pad_len = 1\n",
    "\n",
    "# Pad along the sequence axis (axis=1) with -np.inf so that the max operation is not affected.\n",
    "X_train_padded = np.pad(\n",
    "    X_train,\n",
    "    pad_width=((0, 0), (0, pad_len), (0, 0)),\n",
    "    mode='constant',\n",
    "    constant_values=-np.inf\n",
    ")\n",
    "\n",
    "# Now X_train_padded has the shape (num_samples, 4370, 1).\n"
   ]
  },
  {
   "cell_type": "code",
   "execution_count": 26,
   "id": "aca722fb",
   "metadata": {
    "execution": {
     "iopub.execute_input": "2025-03-05T11:29:12.741403Z",
     "iopub.status.busy": "2025-03-05T11:29:12.741176Z",
     "iopub.status.idle": "2025-03-05T11:29:12.745357Z",
     "shell.execute_reply": "2025-03-05T11:29:12.744737Z"
    },
    "papermill": {
     "duration": 0.012245,
     "end_time": "2025-03-05T11:29:12.746727",
     "exception": false,
     "start_time": "2025-03-05T11:29:12.734482",
     "status": "completed"
    },
    "tags": []
   },
   "outputs": [
    {
     "data": {
      "text/plain": [
       "(1836, 4370, 1)"
      ]
     },
     "execution_count": 26,
     "metadata": {},
     "output_type": "execute_result"
    }
   ],
   "source": [
    "X_train_padded.shape"
   ]
  },
  {
   "cell_type": "code",
   "execution_count": 27,
   "id": "86347fc3",
   "metadata": {
    "execution": {
     "iopub.execute_input": "2025-03-05T11:29:12.760942Z",
     "iopub.status.busy": "2025-03-05T11:29:12.760710Z",
     "iopub.status.idle": "2025-03-05T11:29:12.950081Z",
     "shell.execute_reply": "2025-03-05T11:29:12.949191Z"
    },
    "papermill": {
     "duration": 0.197697,
     "end_time": "2025-03-05T11:29:12.951545",
     "exception": false,
     "start_time": "2025-03-05T11:29:12.753848",
     "status": "completed"
    },
    "tags": []
   },
   "outputs": [
    {
     "name": "stdout",
     "output_type": "stream",
     "text": [
      "Shape after max-pooling and reshaping: (1836, 874)\n"
     ]
    }
   ],
   "source": [
    "\n",
    "# Reshape to group every 5 consecutive elements:\n",
    "# New shape will be (num_samples, 874, 5, 1)\n",
    "grouped_length = X_train_padded.shape[1] // 5  # Should be 874\n",
    "X_train_grouped = X_train_padded.reshape(num_samples, grouped_length, 5, channels)\n",
    "\n",
    "# Take the max over the 5 elements for each group (axis=2)\n",
    "# Resulting shape is (num_samples, 874, 1)\n",
    "X_train_max = np.max(X_train_grouped, axis=2)\n",
    "\n",
    "# Optionally, if your model expects inputs of shape (num_samples, 874),\n",
    "# reshape the array from (num_samples, 874, 1) to (num_samples, 874)\n",
    "X_train_final = X_train_max.reshape(num_samples, grouped_length)\n",
    "\n",
    "# Check the resulting shape\n",
    "print(\"Shape after max-pooling and reshaping:\", X_train_final.shape)\n"
   ]
  },
  {
   "cell_type": "code",
   "execution_count": 28,
   "id": "c3c7eead",
   "metadata": {
    "execution": {
     "iopub.execute_input": "2025-03-05T11:29:12.965635Z",
     "iopub.status.busy": "2025-03-05T11:29:12.965417Z",
     "iopub.status.idle": "2025-03-05T11:29:12.995120Z",
     "shell.execute_reply": "2025-03-05T11:29:12.994281Z"
    },
    "papermill": {
     "duration": 0.038026,
     "end_time": "2025-03-05T11:29:12.996294",
     "exception": false,
     "start_time": "2025-03-05T11:29:12.958268",
     "status": "completed"
    },
    "tags": []
   },
   "outputs": [
    {
     "name": "stdout",
     "output_type": "stream",
     "text": [
      "Shape after max-pooling and reshaping: (204, 874)\n"
     ]
    }
   ],
   "source": [
    "# Assume X_train has the shape (num_samples, 4369, 1)\n",
    "num_samples, original_length, channels = X_test.shape\n",
    "\n",
    "# Calculate padding length so that the length becomes divisible by 5.\n",
    "pad_len = 1\n",
    "\n",
    "# Pad along the sequence axis (axis=1) with -np.inf so that the max operation is not affected.\n",
    "X_test_padded = np.pad(\n",
    "    X_test,\n",
    "    pad_width=((0, 0), (0, pad_len), (0, 0)),\n",
    "    mode='constant',\n",
    "    constant_values=-np.inf\n",
    ")\n",
    "\n",
    "# Now X_train_padded has the shape (num_samples, 4370, 1).\n",
    "\n",
    "# Reshape to group every 5 consecutive elements:\n",
    "# New shape will be (num_samples, 874, 5, 1)\n",
    "grouped_length = X_test_padded.shape[1] // 5  # Should be 874\n",
    "X_test_grouped = X_test_padded.reshape(num_samples, grouped_length, 5, channels)\n",
    "\n",
    "# Take the max over the 5 elements for each group (axis=2)\n",
    "# Resulting shape is (num_samples, 874, 1)\n",
    "X_test_max = np.max(X_test_grouped, axis=2)\n",
    "\n",
    "# Optionally, if your model expects inputs of shape (num_samples, 874),\n",
    "# reshape the array from (num_samples, 874, 1) to (num_samples, 874)\n",
    "X_test_final = X_test_max.reshape(num_samples, grouped_length)\n",
    "\n",
    "# Check the resulting shape\n",
    "print(\"Shape after max-pooling and reshaping:\", X_test_final.shape)\n"
   ]
  },
  {
   "cell_type": "code",
   "execution_count": 29,
   "id": "0a3c1f5a",
   "metadata": {
    "execution": {
     "iopub.execute_input": "2025-03-05T11:29:13.010391Z",
     "iopub.status.busy": "2025-03-05T11:29:13.010156Z",
     "iopub.status.idle": "2025-03-05T11:29:13.017083Z",
     "shell.execute_reply": "2025-03-05T11:29:13.016163Z"
    },
    "papermill": {
     "duration": 0.015476,
     "end_time": "2025-03-05T11:29:13.018341",
     "exception": false,
     "start_time": "2025-03-05T11:29:13.002865",
     "status": "completed"
    },
    "tags": []
   },
   "outputs": [
    {
     "name": "stdout",
     "output_type": "stream",
     "text": [
      "Before Normalizing training targets (first 5): [ 5  3 13  1 10]\n",
      "Before Normalizing test targets (first 5): [7 0 6 1 8]\n",
      "Normalized training targets (first 5): [0.38461538 0.23076923 1.         0.07692308 0.76923077]\n",
      "Normalized test targets (first 5): [0.53846154 0.         0.46153846 0.07692308 0.61538462]\n"
     ]
    }
   ],
   "source": [
    "import numpy as np\n",
    "\n",
    "# Compute the minimum and maximum values from the training targets.\n",
    "y_min = np.min(y_train)\n",
    "y_max = np.max(y_train)\n",
    "\n",
    "# Normalize the training and test targets.\n",
    "y_train_norm = (y_train - y_min) / (y_max - y_min)\n",
    "y_test_norm = (y_test - y_min) / (y_max - y_min)\n",
    "\n",
    "\n",
    "print(\"Before Normalizing training targets (first 5):\", y_train[:5])\n",
    "print(\"Before Normalizing test targets (first 5):\", y_test[:5])\n",
    "\n",
    "print(\"Normalized training targets (first 5):\", y_train_norm[:5])\n",
    "print(\"Normalized test targets (first 5):\", y_test_norm[:5])"
   ]
  },
  {
   "cell_type": "code",
   "execution_count": 30,
   "id": "b3b135b2",
   "metadata": {
    "execution": {
     "iopub.execute_input": "2025-03-05T11:29:13.033163Z",
     "iopub.status.busy": "2025-03-05T11:29:13.032921Z",
     "iopub.status.idle": "2025-03-05T11:29:13.038537Z",
     "shell.execute_reply": "2025-03-05T11:29:13.037787Z"
    },
    "papermill": {
     "duration": 0.014338,
     "end_time": "2025-03-05T11:29:13.039840",
     "exception": false,
     "start_time": "2025-03-05T11:29:13.025502",
     "status": "completed"
    },
    "tags": []
   },
   "outputs": [],
   "source": [
    "from tensorflow.keras.callbacks import ModelCheckpoint\n",
    "\n",
    "# Define the checkpoint callback to save every epoch\n",
    "checkpoint_callback = ModelCheckpoint(\n",
    "    filepath='model_checkpoint.keras',  # Save file with epoch number and .keras extension\n",
    "    save_weights_only=False,  # Save the full model\n",
    "    save_freq='epoch',  # Save at the end of each epoch\n",
    "    verbose=1  # To print a message when the model is saved\n",
    ")\n",
    "\n",
    "# Modify the callbacks list to include the checkpoint callback \n",
    "callbacks = [\n",
    "    keras.callbacks.EarlyStopping(patience=100, restore_best_weights=True),\n",
    "    checkpoint_callback\n",
    "]\n"
   ]
  },
  {
   "cell_type": "code",
   "execution_count": 31,
   "id": "6ef3de80",
   "metadata": {
    "execution": {
     "iopub.execute_input": "2025-03-05T11:29:13.054392Z",
     "iopub.status.busy": "2025-03-05T11:29:13.054154Z",
     "iopub.status.idle": "2025-03-05T11:29:13.058562Z",
     "shell.execute_reply": "2025-03-05T11:29:13.057919Z"
    },
    "papermill": {
     "duration": 0.013039,
     "end_time": "2025-03-05T11:29:13.059815",
     "exception": false,
     "start_time": "2025-03-05T11:29:13.046776",
     "status": "completed"
    },
    "tags": []
   },
   "outputs": [
    {
     "data": {
      "text/plain": [
       "'/kaggle/input'"
      ]
     },
     "execution_count": 31,
     "metadata": {},
     "output_type": "execute_result"
    }
   ],
   "source": [
    "%pwd"
   ]
  },
  {
   "cell_type": "code",
   "execution_count": 32,
   "id": "fb10c97b",
   "metadata": {
    "execution": {
     "iopub.execute_input": "2025-03-05T11:29:13.074177Z",
     "iopub.status.busy": "2025-03-05T11:29:13.073946Z",
     "iopub.status.idle": "2025-03-05T11:29:15.604385Z",
     "shell.execute_reply": "2025-03-05T11:29:15.603451Z"
    },
    "papermill": {
     "duration": 2.539119,
     "end_time": "2025-03-05T11:29:15.605992",
     "exception": false,
     "start_time": "2025-03-05T11:29:13.066873",
     "status": "completed"
    },
    "tags": []
   },
   "outputs": [],
   "source": [
    "keras.config.enable_unsafe_deserialization()\n",
    "# Load the model within the strategy scope\n",
    "with strategy.scope():\n",
    "    model_loaded = load_model('regression_norm_1100/keras/default/1/model_checkpoint (3).keras')"
   ]
  },
  {
   "cell_type": "code",
   "execution_count": 33,
   "id": "bd9a4f56",
   "metadata": {
    "execution": {
     "iopub.execute_input": "2025-03-05T11:29:15.627393Z",
     "iopub.status.busy": "2025-03-05T11:29:15.627069Z",
     "iopub.status.idle": "2025-03-05T11:29:15.630504Z",
     "shell.execute_reply": "2025-03-05T11:29:15.629855Z"
    },
    "papermill": {
     "duration": 0.013966,
     "end_time": "2025-03-05T11:29:15.631688",
     "exception": false,
     "start_time": "2025-03-05T11:29:15.617722",
     "status": "completed"
    },
    "tags": []
   },
   "outputs": [],
   "source": [
    "os.chdir(\"..\")\n",
    "os.chdir(\"working\")"
   ]
  },
  {
   "cell_type": "code",
   "execution_count": 34,
   "id": "6be45a8d",
   "metadata": {
    "execution": {
     "iopub.execute_input": "2025-03-05T11:29:15.645946Z",
     "iopub.status.busy": "2025-03-05T11:29:15.645746Z",
     "iopub.status.idle": "2025-03-05T11:29:15.650360Z",
     "shell.execute_reply": "2025-03-05T11:29:15.649434Z"
    },
    "papermill": {
     "duration": 0.013285,
     "end_time": "2025-03-05T11:29:15.651844",
     "exception": false,
     "start_time": "2025-03-05T11:29:15.638559",
     "status": "completed"
    },
    "tags": []
   },
   "outputs": [
    {
     "data": {
      "text/plain": [
       "'/kaggle/working'"
      ]
     },
     "execution_count": 34,
     "metadata": {},
     "output_type": "execute_result"
    }
   ],
   "source": [
    "%pwd"
   ]
  },
  {
   "cell_type": "code",
   "execution_count": 35,
   "id": "168377b7",
   "metadata": {
    "execution": {
     "iopub.execute_input": "2025-03-05T11:29:15.666205Z",
     "iopub.status.busy": "2025-03-05T11:29:15.665965Z",
     "iopub.status.idle": "2025-03-05T13:24:02.631146Z",
     "shell.execute_reply": "2025-03-05T13:24:02.630429Z"
    },
    "papermill": {
     "duration": 6886.973877,
     "end_time": "2025-03-05T13:24:02.632593",
     "exception": false,
     "start_time": "2025-03-05T11:29:15.658716",
     "status": "completed"
    },
    "tags": []
   },
   "outputs": [
    {
     "name": "stdout",
     "output_type": "stream",
     "text": [
      "Epoch 1/400\n",
      "\u001b[1m58/58\u001b[0m \u001b[32m━━━━━━━━━━━━━━━━━━━━\u001b[0m\u001b[37m\u001b[0m \u001b[1m0s\u001b[0m 868ms/step - loss: 0.0155 - mae: 0.0943\n",
      "Epoch 1: saving model to model_checkpoint.keras\n",
      "\u001b[1m58/58\u001b[0m \u001b[32m━━━━━━━━━━━━━━━━━━━━\u001b[0m\u001b[37m\u001b[0m \u001b[1m71s\u001b[0m 945ms/step - loss: 0.0155 - mae: 0.0942 - val_loss: 0.0252 - val_mae: 0.1106\n",
      "Epoch 2/400\n",
      "\u001b[1m58/58\u001b[0m \u001b[32m━━━━━━━━━━━━━━━━━━━━\u001b[0m\u001b[37m\u001b[0m \u001b[1m0s\u001b[0m 946ms/step - loss: 0.0145 - mae: 0.0913\n",
      "Epoch 2: saving model to model_checkpoint.keras\n",
      "\u001b[1m58/58\u001b[0m \u001b[32m━━━━━━━━━━━━━━━━━━━━\u001b[0m\u001b[37m\u001b[0m \u001b[1m58s\u001b[0m 1s/step - loss: 0.0145 - mae: 0.0914 - val_loss: 0.0223 - val_mae: 0.1042\n",
      "Epoch 3/400\n",
      "\u001b[1m58/58\u001b[0m \u001b[32m━━━━━━━━━━━━━━━━━━━━\u001b[0m\u001b[37m\u001b[0m \u001b[1m0s\u001b[0m 956ms/step - loss: 0.0148 - mae: 0.0919\n",
      "Epoch 3: saving model to model_checkpoint.keras\n",
      "\u001b[1m58/58\u001b[0m \u001b[32m━━━━━━━━━━━━━━━━━━━━\u001b[0m\u001b[37m\u001b[0m \u001b[1m59s\u001b[0m 1s/step - loss: 0.0148 - mae: 0.0918 - val_loss: 0.0195 - val_mae: 0.0973\n",
      "Epoch 4/400\n",
      "\u001b[1m58/58\u001b[0m \u001b[32m━━━━━━━━━━━━━━━━━━━━\u001b[0m\u001b[37m\u001b[0m \u001b[1m0s\u001b[0m 957ms/step - loss: 0.0143 - mae: 0.0920\n",
      "Epoch 4: saving model to model_checkpoint.keras\n",
      "\u001b[1m58/58\u001b[0m \u001b[32m━━━━━━━━━━━━━━━━━━━━\u001b[0m\u001b[37m\u001b[0m \u001b[1m59s\u001b[0m 1s/step - loss: 0.0143 - mae: 0.0920 - val_loss: 0.0216 - val_mae: 0.1023\n",
      "Epoch 5/400\n",
      "\u001b[1m58/58\u001b[0m \u001b[32m━━━━━━━━━━━━━━━━━━━━\u001b[0m\u001b[37m\u001b[0m \u001b[1m0s\u001b[0m 953ms/step - loss: 0.0120 - mae: 0.0845\n",
      "Epoch 5: saving model to model_checkpoint.keras\n",
      "\u001b[1m58/58\u001b[0m \u001b[32m━━━━━━━━━━━━━━━━━━━━\u001b[0m\u001b[37m\u001b[0m \u001b[1m59s\u001b[0m 1s/step - loss: 0.0120 - mae: 0.0846 - val_loss: 0.0206 - val_mae: 0.0985\n",
      "Epoch 6/400\n",
      "\u001b[1m58/58\u001b[0m \u001b[32m━━━━━━━━━━━━━━━━━━━━\u001b[0m\u001b[37m\u001b[0m \u001b[1m0s\u001b[0m 957ms/step - loss: 0.0145 - mae: 0.0926\n",
      "Epoch 6: saving model to model_checkpoint.keras\n",
      "\u001b[1m58/58\u001b[0m \u001b[32m━━━━━━━━━━━━━━━━━━━━\u001b[0m\u001b[37m\u001b[0m \u001b[1m59s\u001b[0m 1s/step - loss: 0.0145 - mae: 0.0927 - val_loss: 0.0230 - val_mae: 0.1031\n",
      "Epoch 7/400\n",
      "\u001b[1m58/58\u001b[0m \u001b[32m━━━━━━━━━━━━━━━━━━━━\u001b[0m\u001b[37m\u001b[0m \u001b[1m0s\u001b[0m 959ms/step - loss: 0.0143 - mae: 0.0913\n",
      "Epoch 7: saving model to model_checkpoint.keras\n",
      "\u001b[1m58/58\u001b[0m \u001b[32m━━━━━━━━━━━━━━━━━━━━\u001b[0m\u001b[37m\u001b[0m \u001b[1m60s\u001b[0m 1s/step - loss: 0.0143 - mae: 0.0912 - val_loss: 0.0210 - val_mae: 0.0981\n",
      "Epoch 8/400\n",
      "\u001b[1m58/58\u001b[0m \u001b[32m━━━━━━━━━━━━━━━━━━━━\u001b[0m\u001b[37m\u001b[0m \u001b[1m0s\u001b[0m 958ms/step - loss: 0.0148 - mae: 0.0926\n",
      "Epoch 8: saving model to model_checkpoint.keras\n",
      "\u001b[1m58/58\u001b[0m \u001b[32m━━━━━━━━━━━━━━━━━━━━\u001b[0m\u001b[37m\u001b[0m \u001b[1m59s\u001b[0m 1s/step - loss: 0.0148 - mae: 0.0927 - val_loss: 0.0281 - val_mae: 0.1184\n",
      "Epoch 9/400\n",
      "\u001b[1m58/58\u001b[0m \u001b[32m━━━━━━━━━━━━━━━━━━━━\u001b[0m\u001b[37m\u001b[0m \u001b[1m0s\u001b[0m 953ms/step - loss: 0.0142 - mae: 0.0911\n",
      "Epoch 9: saving model to model_checkpoint.keras\n",
      "\u001b[1m58/58\u001b[0m \u001b[32m━━━━━━━━━━━━━━━━━━━━\u001b[0m\u001b[37m\u001b[0m \u001b[1m59s\u001b[0m 1s/step - loss: 0.0142 - mae: 0.0912 - val_loss: 0.0260 - val_mae: 0.1117\n",
      "Epoch 10/400\n",
      "\u001b[1m58/58\u001b[0m \u001b[32m━━━━━━━━━━━━━━━━━━━━\u001b[0m\u001b[37m\u001b[0m \u001b[1m0s\u001b[0m 958ms/step - loss: 0.0148 - mae: 0.0920\n",
      "Epoch 10: saving model to model_checkpoint.keras\n",
      "\u001b[1m58/58\u001b[0m \u001b[32m━━━━━━━━━━━━━━━━━━━━\u001b[0m\u001b[37m\u001b[0m \u001b[1m59s\u001b[0m 1s/step - loss: 0.0148 - mae: 0.0920 - val_loss: 0.0201 - val_mae: 0.0952\n",
      "Epoch 11/400\n",
      "\u001b[1m58/58\u001b[0m \u001b[32m━━━━━━━━━━━━━━━━━━━━\u001b[0m\u001b[37m\u001b[0m \u001b[1m0s\u001b[0m 957ms/step - loss: 0.0145 - mae: 0.0917\n",
      "Epoch 11: saving model to model_checkpoint.keras\n",
      "\u001b[1m58/58\u001b[0m \u001b[32m━━━━━━━━━━━━━━━━━━━━\u001b[0m\u001b[37m\u001b[0m \u001b[1m59s\u001b[0m 1s/step - loss: 0.0145 - mae: 0.0916 - val_loss: 0.0199 - val_mae: 0.0974\n",
      "Epoch 12/400\n",
      "\u001b[1m58/58\u001b[0m \u001b[32m━━━━━━━━━━━━━━━━━━━━\u001b[0m\u001b[37m\u001b[0m \u001b[1m0s\u001b[0m 961ms/step - loss: 0.0139 - mae: 0.0900\n",
      "Epoch 12: saving model to model_checkpoint.keras\n",
      "\u001b[1m58/58\u001b[0m \u001b[32m━━━━━━━━━━━━━━━━━━━━\u001b[0m\u001b[37m\u001b[0m \u001b[1m60s\u001b[0m 1s/step - loss: 0.0139 - mae: 0.0900 - val_loss: 0.0239 - val_mae: 0.1094\n",
      "Epoch 13/400\n",
      "\u001b[1m58/58\u001b[0m \u001b[32m━━━━━━━━━━━━━━━━━━━━\u001b[0m\u001b[37m\u001b[0m \u001b[1m0s\u001b[0m 962ms/step - loss: 0.0130 - mae: 0.0884\n",
      "Epoch 13: saving model to model_checkpoint.keras\n",
      "\u001b[1m58/58\u001b[0m \u001b[32m━━━━━━━━━━━━━━━━━━━━\u001b[0m\u001b[37m\u001b[0m \u001b[1m60s\u001b[0m 1s/step - loss: 0.0130 - mae: 0.0884 - val_loss: 0.0197 - val_mae: 0.0953\n",
      "Epoch 14/400\n",
      "\u001b[1m58/58\u001b[0m \u001b[32m━━━━━━━━━━━━━━━━━━━━\u001b[0m\u001b[37m\u001b[0m \u001b[1m0s\u001b[0m 956ms/step - loss: 0.0148 - mae: 0.0906\n",
      "Epoch 14: saving model to model_checkpoint.keras\n",
      "\u001b[1m58/58\u001b[0m \u001b[32m━━━━━━━━━━━━━━━━━━━━\u001b[0m\u001b[37m\u001b[0m \u001b[1m58s\u001b[0m 1s/step - loss: 0.0147 - mae: 0.0906 - val_loss: 0.0212 - val_mae: 0.1013\n",
      "Epoch 15/400\n",
      "\u001b[1m58/58\u001b[0m \u001b[32m━━━━━━━━━━━━━━━━━━━━\u001b[0m\u001b[37m\u001b[0m \u001b[1m0s\u001b[0m 959ms/step - loss: 0.0141 - mae: 0.0903\n",
      "Epoch 15: saving model to model_checkpoint.keras\n",
      "\u001b[1m58/58\u001b[0m \u001b[32m━━━━━━━━━━━━━━━━━━━━\u001b[0m\u001b[37m\u001b[0m \u001b[1m59s\u001b[0m 1s/step - loss: 0.0141 - mae: 0.0903 - val_loss: 0.0194 - val_mae: 0.0941\n",
      "Epoch 16/400\n",
      "\u001b[1m58/58\u001b[0m \u001b[32m━━━━━━━━━━━━━━━━━━━━\u001b[0m\u001b[37m\u001b[0m \u001b[1m0s\u001b[0m 958ms/step - loss: 0.0144 - mae: 0.0924\n",
      "Epoch 16: saving model to model_checkpoint.keras\n",
      "\u001b[1m58/58\u001b[0m \u001b[32m━━━━━━━━━━━━━━━━━━━━\u001b[0m\u001b[37m\u001b[0m \u001b[1m59s\u001b[0m 1s/step - loss: 0.0144 - mae: 0.0924 - val_loss: 0.0184 - val_mae: 0.0936\n",
      "Epoch 17/400\n",
      "\u001b[1m58/58\u001b[0m \u001b[32m━━━━━━━━━━━━━━━━━━━━\u001b[0m\u001b[37m\u001b[0m \u001b[1m0s\u001b[0m 967ms/step - loss: 0.0126 - mae: 0.0867\n",
      "Epoch 17: saving model to model_checkpoint.keras\n",
      "\u001b[1m58/58\u001b[0m \u001b[32m━━━━━━━━━━━━━━━━━━━━\u001b[0m\u001b[37m\u001b[0m \u001b[1m60s\u001b[0m 1s/step - loss: 0.0126 - mae: 0.0867 - val_loss: 0.0228 - val_mae: 0.1053\n",
      "Epoch 18/400\n",
      "\u001b[1m58/58\u001b[0m \u001b[32m━━━━━━━━━━━━━━━━━━━━\u001b[0m\u001b[37m\u001b[0m \u001b[1m0s\u001b[0m 956ms/step - loss: 0.0123 - mae: 0.0840\n",
      "Epoch 18: saving model to model_checkpoint.keras\n",
      "\u001b[1m58/58\u001b[0m \u001b[32m━━━━━━━━━━━━━━━━━━━━\u001b[0m\u001b[37m\u001b[0m \u001b[1m59s\u001b[0m 1s/step - loss: 0.0124 - mae: 0.0841 - val_loss: 0.0218 - val_mae: 0.1036\n",
      "Epoch 19/400\n",
      "\u001b[1m58/58\u001b[0m \u001b[32m━━━━━━━━━━━━━━━━━━━━\u001b[0m\u001b[37m\u001b[0m \u001b[1m0s\u001b[0m 962ms/step - loss: 0.0121 - mae: 0.0840\n",
      "Epoch 19: saving model to model_checkpoint.keras\n",
      "\u001b[1m58/58\u001b[0m \u001b[32m━━━━━━━━━━━━━━━━━━━━\u001b[0m\u001b[37m\u001b[0m \u001b[1m59s\u001b[0m 1s/step - loss: 0.0121 - mae: 0.0840 - val_loss: 0.0201 - val_mae: 0.0957\n",
      "Epoch 20/400\n",
      "\u001b[1m58/58\u001b[0m \u001b[32m━━━━━━━━━━━━━━━━━━━━\u001b[0m\u001b[37m\u001b[0m \u001b[1m0s\u001b[0m 960ms/step - loss: 0.0134 - mae: 0.0877\n",
      "Epoch 20: saving model to model_checkpoint.keras\n",
      "\u001b[1m58/58\u001b[0m \u001b[32m━━━━━━━━━━━━━━━━━━━━\u001b[0m\u001b[37m\u001b[0m \u001b[1m59s\u001b[0m 1s/step - loss: 0.0134 - mae: 0.0877 - val_loss: 0.0209 - val_mae: 0.0992\n",
      "Epoch 21/400\n",
      "\u001b[1m58/58\u001b[0m \u001b[32m━━━━━━━━━━━━━━━━━━━━\u001b[0m\u001b[37m\u001b[0m \u001b[1m0s\u001b[0m 958ms/step - loss: 0.0134 - mae: 0.0886\n",
      "Epoch 21: saving model to model_checkpoint.keras\n",
      "\u001b[1m58/58\u001b[0m \u001b[32m━━━━━━━━━━━━━━━━━━━━\u001b[0m\u001b[37m\u001b[0m \u001b[1m59s\u001b[0m 1s/step - loss: 0.0134 - mae: 0.0886 - val_loss: 0.0192 - val_mae: 0.0952\n",
      "Epoch 22/400\n",
      "\u001b[1m58/58\u001b[0m \u001b[32m━━━━━━━━━━━━━━━━━━━━\u001b[0m\u001b[37m\u001b[0m \u001b[1m0s\u001b[0m 960ms/step - loss: 0.0137 - mae: 0.0895\n",
      "Epoch 22: saving model to model_checkpoint.keras\n",
      "\u001b[1m58/58\u001b[0m \u001b[32m━━━━━━━━━━━━━━━━━━━━\u001b[0m\u001b[37m\u001b[0m \u001b[1m59s\u001b[0m 1s/step - loss: 0.0137 - mae: 0.0895 - val_loss: 0.0198 - val_mae: 0.0950\n",
      "Epoch 23/400\n",
      "\u001b[1m58/58\u001b[0m \u001b[32m━━━━━━━━━━━━━━━━━━━━\u001b[0m\u001b[37m\u001b[0m \u001b[1m0s\u001b[0m 955ms/step - loss: 0.0145 - mae: 0.0926\n",
      "Epoch 23: saving model to model_checkpoint.keras\n",
      "\u001b[1m58/58\u001b[0m \u001b[32m━━━━━━━━━━━━━━━━━━━━\u001b[0m\u001b[37m\u001b[0m \u001b[1m59s\u001b[0m 1s/step - loss: 0.0145 - mae: 0.0926 - val_loss: 0.0200 - val_mae: 0.0955\n",
      "Epoch 24/400\n",
      "\u001b[1m58/58\u001b[0m \u001b[32m━━━━━━━━━━━━━━━━━━━━\u001b[0m\u001b[37m\u001b[0m \u001b[1m0s\u001b[0m 958ms/step - loss: 0.0134 - mae: 0.0891\n",
      "Epoch 24: saving model to model_checkpoint.keras\n",
      "\u001b[1m58/58\u001b[0m \u001b[32m━━━━━━━━━━━━━━━━━━━━\u001b[0m\u001b[37m\u001b[0m \u001b[1m59s\u001b[0m 1s/step - loss: 0.0134 - mae: 0.0891 - val_loss: 0.0248 - val_mae: 0.1065\n",
      "Epoch 25/400\n",
      "\u001b[1m58/58\u001b[0m \u001b[32m━━━━━━━━━━━━━━━━━━━━\u001b[0m\u001b[37m\u001b[0m \u001b[1m0s\u001b[0m 959ms/step - loss: 0.0130 - mae: 0.0888\n",
      "Epoch 25: saving model to model_checkpoint.keras\n",
      "\u001b[1m58/58\u001b[0m \u001b[32m━━━━━━━━━━━━━━━━━━━━\u001b[0m\u001b[37m\u001b[0m \u001b[1m59s\u001b[0m 1s/step - loss: 0.0130 - mae: 0.0888 - val_loss: 0.0208 - val_mae: 0.0993\n",
      "Epoch 26/400\n",
      "\u001b[1m58/58\u001b[0m \u001b[32m━━━━━━━━━━━━━━━━━━━━\u001b[0m\u001b[37m\u001b[0m \u001b[1m0s\u001b[0m 959ms/step - loss: 0.0138 - mae: 0.0907\n",
      "Epoch 26: saving model to model_checkpoint.keras\n",
      "\u001b[1m58/58\u001b[0m \u001b[32m━━━━━━━━━━━━━━━━━━━━\u001b[0m\u001b[37m\u001b[0m \u001b[1m59s\u001b[0m 1s/step - loss: 0.0138 - mae: 0.0907 - val_loss: 0.0253 - val_mae: 0.1083\n",
      "Epoch 27/400\n",
      "\u001b[1m58/58\u001b[0m \u001b[32m━━━━━━━━━━━━━━━━━━━━\u001b[0m\u001b[37m\u001b[0m \u001b[1m0s\u001b[0m 958ms/step - loss: 0.0148 - mae: 0.0928\n",
      "Epoch 27: saving model to model_checkpoint.keras\n",
      "\u001b[1m58/58\u001b[0m \u001b[32m━━━━━━━━━━━━━━━━━━━━\u001b[0m\u001b[37m\u001b[0m \u001b[1m59s\u001b[0m 1s/step - loss: 0.0148 - mae: 0.0927 - val_loss: 0.0255 - val_mae: 0.1086\n",
      "Epoch 28/400\n",
      "\u001b[1m58/58\u001b[0m \u001b[32m━━━━━━━━━━━━━━━━━━━━\u001b[0m\u001b[37m\u001b[0m \u001b[1m0s\u001b[0m 960ms/step - loss: 0.0142 - mae: 0.0895\n",
      "Epoch 28: saving model to model_checkpoint.keras\n",
      "\u001b[1m58/58\u001b[0m \u001b[32m━━━━━━━━━━━━━━━━━━━━\u001b[0m\u001b[37m\u001b[0m \u001b[1m59s\u001b[0m 1s/step - loss: 0.0142 - mae: 0.0895 - val_loss: 0.0196 - val_mae: 0.0973\n",
      "Epoch 29/400\n",
      "\u001b[1m58/58\u001b[0m \u001b[32m━━━━━━━━━━━━━━━━━━━━\u001b[0m\u001b[37m\u001b[0m \u001b[1m0s\u001b[0m 958ms/step - loss: 0.0138 - mae: 0.0907\n",
      "Epoch 29: saving model to model_checkpoint.keras\n",
      "\u001b[1m58/58\u001b[0m \u001b[32m━━━━━━━━━━━━━━━━━━━━\u001b[0m\u001b[37m\u001b[0m \u001b[1m59s\u001b[0m 1s/step - loss: 0.0138 - mae: 0.0907 - val_loss: 0.0235 - val_mae: 0.1038\n",
      "Epoch 30/400\n",
      "\u001b[1m58/58\u001b[0m \u001b[32m━━━━━━━━━━━━━━━━━━━━\u001b[0m\u001b[37m\u001b[0m \u001b[1m0s\u001b[0m 955ms/step - loss: 0.0144 - mae: 0.0907\n",
      "Epoch 30: saving model to model_checkpoint.keras\n",
      "\u001b[1m58/58\u001b[0m \u001b[32m━━━━━━━━━━━━━━━━━━━━\u001b[0m\u001b[37m\u001b[0m \u001b[1m58s\u001b[0m 1s/step - loss: 0.0144 - mae: 0.0908 - val_loss: 0.0201 - val_mae: 0.1002\n",
      "Epoch 31/400\n",
      "\u001b[1m58/58\u001b[0m \u001b[32m━━━━━━━━━━━━━━━━━━━━\u001b[0m\u001b[37m\u001b[0m \u001b[1m0s\u001b[0m 965ms/step - loss: 0.0149 - mae: 0.0930\n",
      "Epoch 31: saving model to model_checkpoint.keras\n",
      "\u001b[1m58/58\u001b[0m \u001b[32m━━━━━━━━━━━━━━━━━━━━\u001b[0m\u001b[37m\u001b[0m \u001b[1m59s\u001b[0m 1s/step - loss: 0.0149 - mae: 0.0930 - val_loss: 0.0231 - val_mae: 0.1041\n",
      "Epoch 32/400\n",
      "\u001b[1m58/58\u001b[0m \u001b[32m━━━━━━━━━━━━━━━━━━━━\u001b[0m\u001b[37m\u001b[0m \u001b[1m0s\u001b[0m 967ms/step - loss: 0.0126 - mae: 0.0880\n",
      "Epoch 32: saving model to model_checkpoint.keras\n",
      "\u001b[1m58/58\u001b[0m \u001b[32m━━━━━━━━━━━━━━━━━━━━\u001b[0m\u001b[37m\u001b[0m \u001b[1m60s\u001b[0m 1s/step - loss: 0.0126 - mae: 0.0879 - val_loss: 0.0260 - val_mae: 0.1132\n",
      "Epoch 33/400\n",
      "\u001b[1m58/58\u001b[0m \u001b[32m━━━━━━━━━━━━━━━━━━━━\u001b[0m\u001b[37m\u001b[0m \u001b[1m0s\u001b[0m 958ms/step - loss: 0.0121 - mae: 0.0840\n",
      "Epoch 33: saving model to model_checkpoint.keras\n",
      "\u001b[1m58/58\u001b[0m \u001b[32m━━━━━━━━━━━━━━━━━━━━\u001b[0m\u001b[37m\u001b[0m \u001b[1m59s\u001b[0m 1s/step - loss: 0.0121 - mae: 0.0841 - val_loss: 0.0233 - val_mae: 0.1035\n",
      "Epoch 34/400\n",
      "\u001b[1m58/58\u001b[0m \u001b[32m━━━━━━━━━━━━━━━━━━━━\u001b[0m\u001b[37m\u001b[0m \u001b[1m0s\u001b[0m 958ms/step - loss: 0.0136 - mae: 0.0889\n",
      "Epoch 34: saving model to model_checkpoint.keras\n",
      "\u001b[1m58/58\u001b[0m \u001b[32m━━━━━━━━━━━━━━━━━━━━\u001b[0m\u001b[37m\u001b[0m \u001b[1m59s\u001b[0m 1s/step - loss: 0.0136 - mae: 0.0889 - val_loss: 0.0241 - val_mae: 0.1046\n",
      "Epoch 35/400\n",
      "\u001b[1m58/58\u001b[0m \u001b[32m━━━━━━━━━━━━━━━━━━━━\u001b[0m\u001b[37m\u001b[0m \u001b[1m0s\u001b[0m 957ms/step - loss: 0.0150 - mae: 0.0940\n",
      "Epoch 35: saving model to model_checkpoint.keras\n",
      "\u001b[1m58/58\u001b[0m \u001b[32m━━━━━━━━━━━━━━━━━━━━\u001b[0m\u001b[37m\u001b[0m \u001b[1m59s\u001b[0m 1s/step - loss: 0.0150 - mae: 0.0939 - val_loss: 0.0217 - val_mae: 0.0985\n",
      "Epoch 36/400\n",
      "\u001b[1m58/58\u001b[0m \u001b[32m━━━━━━━━━━━━━━━━━━━━\u001b[0m\u001b[37m\u001b[0m \u001b[1m0s\u001b[0m 956ms/step - loss: 0.0121 - mae: 0.0840\n",
      "Epoch 36: saving model to model_checkpoint.keras\n",
      "\u001b[1m58/58\u001b[0m \u001b[32m━━━━━━━━━━━━━━━━━━━━\u001b[0m\u001b[37m\u001b[0m \u001b[1m59s\u001b[0m 1s/step - loss: 0.0121 - mae: 0.0840 - val_loss: 0.0270 - val_mae: 0.1167\n",
      "Epoch 37/400\n",
      "\u001b[1m58/58\u001b[0m \u001b[32m━━━━━━━━━━━━━━━━━━━━\u001b[0m\u001b[37m\u001b[0m \u001b[1m0s\u001b[0m 964ms/step - loss: 0.0146 - mae: 0.0930\n",
      "Epoch 37: saving model to model_checkpoint.keras\n",
      "\u001b[1m58/58\u001b[0m \u001b[32m━━━━━━━━━━━━━━━━━━━━\u001b[0m\u001b[37m\u001b[0m \u001b[1m60s\u001b[0m 1s/step - loss: 0.0146 - mae: 0.0929 - val_loss: 0.0222 - val_mae: 0.1006\n",
      "Epoch 38/400\n",
      "\u001b[1m58/58\u001b[0m \u001b[32m━━━━━━━━━━━━━━━━━━━━\u001b[0m\u001b[37m\u001b[0m \u001b[1m0s\u001b[0m 959ms/step - loss: 0.0128 - mae: 0.0871\n",
      "Epoch 38: saving model to model_checkpoint.keras\n",
      "\u001b[1m58/58\u001b[0m \u001b[32m━━━━━━━━━━━━━━━━━━━━\u001b[0m\u001b[37m\u001b[0m \u001b[1m59s\u001b[0m 1s/step - loss: 0.0128 - mae: 0.0872 - val_loss: 0.0214 - val_mae: 0.0987\n",
      "Epoch 39/400\n",
      "\u001b[1m58/58\u001b[0m \u001b[32m━━━━━━━━━━━━━━━━━━━━\u001b[0m\u001b[37m\u001b[0m \u001b[1m0s\u001b[0m 962ms/step - loss: 0.0149 - mae: 0.0924\n",
      "Epoch 39: saving model to model_checkpoint.keras\n",
      "\u001b[1m58/58\u001b[0m \u001b[32m━━━━━━━━━━━━━━━━━━━━\u001b[0m\u001b[37m\u001b[0m \u001b[1m60s\u001b[0m 1s/step - loss: 0.0149 - mae: 0.0923 - val_loss: 0.0201 - val_mae: 0.0950\n",
      "Epoch 40/400\n",
      "\u001b[1m58/58\u001b[0m \u001b[32m━━━━━━━━━━━━━━━━━━━━\u001b[0m\u001b[37m\u001b[0m \u001b[1m0s\u001b[0m 957ms/step - loss: 0.0146 - mae: 0.0920\n",
      "Epoch 40: saving model to model_checkpoint.keras\n",
      "\u001b[1m58/58\u001b[0m \u001b[32m━━━━━━━━━━━━━━━━━━━━\u001b[0m\u001b[37m\u001b[0m \u001b[1m59s\u001b[0m 1s/step - loss: 0.0146 - mae: 0.0920 - val_loss: 0.0240 - val_mae: 0.1081\n",
      "Epoch 41/400\n",
      "\u001b[1m58/58\u001b[0m \u001b[32m━━━━━━━━━━━━━━━━━━━━\u001b[0m\u001b[37m\u001b[0m \u001b[1m0s\u001b[0m 964ms/step - loss: 0.0137 - mae: 0.0894\n",
      "Epoch 41: saving model to model_checkpoint.keras\n",
      "\u001b[1m58/58\u001b[0m \u001b[32m━━━━━━━━━━━━━━━━━━━━\u001b[0m\u001b[37m\u001b[0m \u001b[1m60s\u001b[0m 1s/step - loss: 0.0137 - mae: 0.0894 - val_loss: 0.0210 - val_mae: 0.1016\n",
      "Epoch 42/400\n",
      "\u001b[1m58/58\u001b[0m \u001b[32m━━━━━━━━━━━━━━━━━━━━\u001b[0m\u001b[37m\u001b[0m \u001b[1m0s\u001b[0m 965ms/step - loss: 0.0128 - mae: 0.0865\n",
      "Epoch 42: saving model to model_checkpoint.keras\n",
      "\u001b[1m58/58\u001b[0m \u001b[32m━━━━━━━━━━━━━━━━━━━━\u001b[0m\u001b[37m\u001b[0m \u001b[1m60s\u001b[0m 1s/step - loss: 0.0128 - mae: 0.0865 - val_loss: 0.0227 - val_mae: 0.1022\n",
      "Epoch 43/400\n",
      "\u001b[1m58/58\u001b[0m \u001b[32m━━━━━━━━━━━━━━━━━━━━\u001b[0m\u001b[37m\u001b[0m \u001b[1m0s\u001b[0m 956ms/step - loss: 0.0126 - mae: 0.0859\n",
      "Epoch 43: saving model to model_checkpoint.keras\n",
      "\u001b[1m58/58\u001b[0m \u001b[32m━━━━━━━━━━━━━━━━━━━━\u001b[0m\u001b[37m\u001b[0m \u001b[1m59s\u001b[0m 1s/step - loss: 0.0126 - mae: 0.0859 - val_loss: 0.0233 - val_mae: 0.1100\n",
      "Epoch 44/400\n",
      "\u001b[1m58/58\u001b[0m \u001b[32m━━━━━━━━━━━━━━━━━━━━\u001b[0m\u001b[37m\u001b[0m \u001b[1m0s\u001b[0m 961ms/step - loss: 0.0132 - mae: 0.0855\n",
      "Epoch 44: saving model to model_checkpoint.keras\n",
      "\u001b[1m58/58\u001b[0m \u001b[32m━━━━━━━━━━━━━━━━━━━━\u001b[0m\u001b[37m\u001b[0m \u001b[1m59s\u001b[0m 1s/step - loss: 0.0132 - mae: 0.0856 - val_loss: 0.0222 - val_mae: 0.1043\n",
      "Epoch 45/400\n",
      "\u001b[1m58/58\u001b[0m \u001b[32m━━━━━━━━━━━━━━━━━━━━\u001b[0m\u001b[37m\u001b[0m \u001b[1m0s\u001b[0m 958ms/step - loss: 0.0125 - mae: 0.0853\n",
      "Epoch 45: saving model to model_checkpoint.keras\n",
      "\u001b[1m58/58\u001b[0m \u001b[32m━━━━━━━━━━━━━━━━━━━━\u001b[0m\u001b[37m\u001b[0m \u001b[1m60s\u001b[0m 1s/step - loss: 0.0125 - mae: 0.0853 - val_loss: 0.0230 - val_mae: 0.1038\n",
      "Epoch 46/400\n",
      "\u001b[1m58/58\u001b[0m \u001b[32m━━━━━━━━━━━━━━━━━━━━\u001b[0m\u001b[37m\u001b[0m \u001b[1m0s\u001b[0m 957ms/step - loss: 0.0118 - mae: 0.0838\n",
      "Epoch 46: saving model to model_checkpoint.keras\n",
      "\u001b[1m58/58\u001b[0m \u001b[32m━━━━━━━━━━━━━━━━━━━━\u001b[0m\u001b[37m\u001b[0m \u001b[1m59s\u001b[0m 1s/step - loss: 0.0118 - mae: 0.0837 - val_loss: 0.0213 - val_mae: 0.0983\n",
      "Epoch 47/400\n",
      "\u001b[1m58/58\u001b[0m \u001b[32m━━━━━━━━━━━━━━━━━━━━\u001b[0m\u001b[37m\u001b[0m \u001b[1m0s\u001b[0m 968ms/step - loss: 0.0131 - mae: 0.0894\n",
      "Epoch 47: saving model to model_checkpoint.keras\n",
      "\u001b[1m58/58\u001b[0m \u001b[32m━━━━━━━━━━━━━━━━━━━━\u001b[0m\u001b[37m\u001b[0m \u001b[1m59s\u001b[0m 1s/step - loss: 0.0131 - mae: 0.0894 - val_loss: 0.0230 - val_mae: 0.1038\n",
      "Epoch 48/400\n",
      "\u001b[1m58/58\u001b[0m \u001b[32m━━━━━━━━━━━━━━━━━━━━\u001b[0m\u001b[37m\u001b[0m \u001b[1m0s\u001b[0m 963ms/step - loss: 0.0144 - mae: 0.0913\n",
      "Epoch 48: saving model to model_checkpoint.keras\n",
      "\u001b[1m58/58\u001b[0m \u001b[32m━━━━━━━━━━━━━━━━━━━━\u001b[0m\u001b[37m\u001b[0m \u001b[1m60s\u001b[0m 1s/step - loss: 0.0144 - mae: 0.0913 - val_loss: 0.0220 - val_mae: 0.1012\n",
      "Epoch 49/400\n",
      "\u001b[1m58/58\u001b[0m \u001b[32m━━━━━━━━━━━━━━━━━━━━\u001b[0m\u001b[37m\u001b[0m \u001b[1m0s\u001b[0m 962ms/step - loss: 0.0145 - mae: 0.0909\n",
      "Epoch 49: saving model to model_checkpoint.keras\n",
      "\u001b[1m58/58\u001b[0m \u001b[32m━━━━━━━━━━━━━━━━━━━━\u001b[0m\u001b[37m\u001b[0m \u001b[1m60s\u001b[0m 1s/step - loss: 0.0144 - mae: 0.0908 - val_loss: 0.0257 - val_mae: 0.1097\n",
      "Epoch 50/400\n",
      "\u001b[1m58/58\u001b[0m \u001b[32m━━━━━━━━━━━━━━━━━━━━\u001b[0m\u001b[37m\u001b[0m \u001b[1m0s\u001b[0m 964ms/step - loss: 0.0128 - mae: 0.0864\n",
      "Epoch 50: saving model to model_checkpoint.keras\n",
      "\u001b[1m58/58\u001b[0m \u001b[32m━━━━━━━━━━━━━━━━━━━━\u001b[0m\u001b[37m\u001b[0m \u001b[1m60s\u001b[0m 1s/step - loss: 0.0128 - mae: 0.0864 - val_loss: 0.0213 - val_mae: 0.1012\n",
      "Epoch 51/400\n",
      "\u001b[1m58/58\u001b[0m \u001b[32m━━━━━━━━━━━━━━━━━━━━\u001b[0m\u001b[37m\u001b[0m \u001b[1m0s\u001b[0m 962ms/step - loss: 0.0115 - mae: 0.0820\n",
      "Epoch 51: saving model to model_checkpoint.keras\n",
      "\u001b[1m58/58\u001b[0m \u001b[32m━━━━━━━━━━━━━━━━━━━━\u001b[0m\u001b[37m\u001b[0m \u001b[1m59s\u001b[0m 1s/step - loss: 0.0115 - mae: 0.0820 - val_loss: 0.0205 - val_mae: 0.0989\n",
      "Epoch 52/400\n",
      "\u001b[1m58/58\u001b[0m \u001b[32m━━━━━━━━━━━━━━━━━━━━\u001b[0m\u001b[37m\u001b[0m \u001b[1m0s\u001b[0m 962ms/step - loss: 0.0130 - mae: 0.0879\n",
      "Epoch 52: saving model to model_checkpoint.keras\n",
      "\u001b[1m58/58\u001b[0m \u001b[32m━━━━━━━━━━━━━━━━━━━━\u001b[0m\u001b[37m\u001b[0m \u001b[1m60s\u001b[0m 1s/step - loss: 0.0130 - mae: 0.0880 - val_loss: 0.0213 - val_mae: 0.1016\n",
      "Epoch 53/400\n",
      "\u001b[1m58/58\u001b[0m \u001b[32m━━━━━━━━━━━━━━━━━━━━\u001b[0m\u001b[37m\u001b[0m \u001b[1m0s\u001b[0m 958ms/step - loss: 0.0133 - mae: 0.0886\n",
      "Epoch 53: saving model to model_checkpoint.keras\n",
      "\u001b[1m58/58\u001b[0m \u001b[32m━━━━━━━━━━━━━━━━━━━━\u001b[0m\u001b[37m\u001b[0m \u001b[1m59s\u001b[0m 1s/step - loss: 0.0133 - mae: 0.0886 - val_loss: 0.0221 - val_mae: 0.1021\n",
      "Epoch 54/400\n",
      "\u001b[1m58/58\u001b[0m \u001b[32m━━━━━━━━━━━━━━━━━━━━\u001b[0m\u001b[37m\u001b[0m \u001b[1m0s\u001b[0m 964ms/step - loss: 0.0133 - mae: 0.0894\n",
      "Epoch 54: saving model to model_checkpoint.keras\n",
      "\u001b[1m58/58\u001b[0m \u001b[32m━━━━━━━━━━━━━━━━━━━━\u001b[0m\u001b[37m\u001b[0m \u001b[1m60s\u001b[0m 1s/step - loss: 0.0133 - mae: 0.0894 - val_loss: 0.0212 - val_mae: 0.0995\n",
      "Epoch 55/400\n",
      "\u001b[1m58/58\u001b[0m \u001b[32m━━━━━━━━━━━━━━━━━━━━\u001b[0m\u001b[37m\u001b[0m \u001b[1m0s\u001b[0m 962ms/step - loss: 0.0144 - mae: 0.0905\n",
      "Epoch 55: saving model to model_checkpoint.keras\n",
      "\u001b[1m58/58\u001b[0m \u001b[32m━━━━━━━━━━━━━━━━━━━━\u001b[0m\u001b[37m\u001b[0m \u001b[1m59s\u001b[0m 1s/step - loss: 0.0144 - mae: 0.0906 - val_loss: 0.0227 - val_mae: 0.1098\n",
      "Epoch 56/400\n",
      "\u001b[1m58/58\u001b[0m \u001b[32m━━━━━━━━━━━━━━━━━━━━\u001b[0m\u001b[37m\u001b[0m \u001b[1m0s\u001b[0m 963ms/step - loss: 0.0133 - mae: 0.0861\n",
      "Epoch 56: saving model to model_checkpoint.keras\n",
      "\u001b[1m58/58\u001b[0m \u001b[32m━━━━━━━━━━━━━━━━━━━━\u001b[0m\u001b[37m\u001b[0m \u001b[1m60s\u001b[0m 1s/step - loss: 0.0133 - mae: 0.0861 - val_loss: 0.0200 - val_mae: 0.0985\n",
      "Epoch 57/400\n",
      "\u001b[1m58/58\u001b[0m \u001b[32m━━━━━━━━━━━━━━━━━━━━\u001b[0m\u001b[37m\u001b[0m \u001b[1m0s\u001b[0m 955ms/step - loss: 0.0122 - mae: 0.0852\n",
      "Epoch 57: saving model to model_checkpoint.keras\n",
      "\u001b[1m58/58\u001b[0m \u001b[32m━━━━━━━━━━━━━━━━━━━━\u001b[0m\u001b[37m\u001b[0m \u001b[1m58s\u001b[0m 1s/step - loss: 0.0122 - mae: 0.0852 - val_loss: 0.0246 - val_mae: 0.1101\n",
      "Epoch 58/400\n",
      "\u001b[1m58/58\u001b[0m \u001b[32m━━━━━━━━━━━━━━━━━━━━\u001b[0m\u001b[37m\u001b[0m \u001b[1m0s\u001b[0m 962ms/step - loss: 0.0174 - mae: 0.1005\n",
      "Epoch 58: saving model to model_checkpoint.keras\n",
      "\u001b[1m58/58\u001b[0m \u001b[32m━━━━━━━━━━━━━━━━━━━━\u001b[0m\u001b[37m\u001b[0m \u001b[1m59s\u001b[0m 1s/step - loss: 0.0174 - mae: 0.1004 - val_loss: 0.0276 - val_mae: 0.1157\n",
      "Epoch 59/400\n",
      "\u001b[1m58/58\u001b[0m \u001b[32m━━━━━━━━━━━━━━━━━━━━\u001b[0m\u001b[37m\u001b[0m \u001b[1m0s\u001b[0m 961ms/step - loss: 0.0134 - mae: 0.0900\n",
      "Epoch 59: saving model to model_checkpoint.keras\n",
      "\u001b[1m58/58\u001b[0m \u001b[32m━━━━━━━━━━━━━━━━━━━━\u001b[0m\u001b[37m\u001b[0m \u001b[1m59s\u001b[0m 1s/step - loss: 0.0134 - mae: 0.0900 - val_loss: 0.0276 - val_mae: 0.1173\n",
      "Epoch 60/400\n",
      "\u001b[1m58/58\u001b[0m \u001b[32m━━━━━━━━━━━━━━━━━━━━\u001b[0m\u001b[37m\u001b[0m \u001b[1m0s\u001b[0m 963ms/step - loss: 0.0132 - mae: 0.0871\n",
      "Epoch 60: saving model to model_checkpoint.keras\n",
      "\u001b[1m58/58\u001b[0m \u001b[32m━━━━━━━━━━━━━━━━━━━━\u001b[0m\u001b[37m\u001b[0m \u001b[1m59s\u001b[0m 1s/step - loss: 0.0132 - mae: 0.0870 - val_loss: 0.0235 - val_mae: 0.1070\n",
      "Epoch 61/400\n",
      "\u001b[1m58/58\u001b[0m \u001b[32m━━━━━━━━━━━━━━━━━━━━\u001b[0m\u001b[37m\u001b[0m \u001b[1m0s\u001b[0m 964ms/step - loss: 0.0136 - mae: 0.0878\n",
      "Epoch 61: saving model to model_checkpoint.keras\n",
      "\u001b[1m58/58\u001b[0m \u001b[32m━━━━━━━━━━━━━━━━━━━━\u001b[0m\u001b[37m\u001b[0m \u001b[1m59s\u001b[0m 1s/step - loss: 0.0136 - mae: 0.0879 - val_loss: 0.0207 - val_mae: 0.0997\n",
      "Epoch 62/400\n",
      "\u001b[1m58/58\u001b[0m \u001b[32m━━━━━━━━━━━━━━━━━━━━\u001b[0m\u001b[37m\u001b[0m \u001b[1m0s\u001b[0m 962ms/step - loss: 0.0123 - mae: 0.0839\n",
      "Epoch 62: saving model to model_checkpoint.keras\n",
      "\u001b[1m58/58\u001b[0m \u001b[32m━━━━━━━━━━━━━━━━━━━━\u001b[0m\u001b[37m\u001b[0m \u001b[1m59s\u001b[0m 1s/step - loss: 0.0123 - mae: 0.0840 - val_loss: 0.0233 - val_mae: 0.1032\n",
      "Epoch 63/400\n",
      "\u001b[1m58/58\u001b[0m \u001b[32m━━━━━━━━━━━━━━━━━━━━\u001b[0m\u001b[37m\u001b[0m \u001b[1m0s\u001b[0m 956ms/step - loss: 0.0124 - mae: 0.0845\n",
      "Epoch 63: saving model to model_checkpoint.keras\n",
      "\u001b[1m58/58\u001b[0m \u001b[32m━━━━━━━━━━━━━━━━━━━━\u001b[0m\u001b[37m\u001b[0m \u001b[1m59s\u001b[0m 1s/step - loss: 0.0123 - mae: 0.0845 - val_loss: 0.0214 - val_mae: 0.0979\n",
      "Epoch 64/400\n",
      "\u001b[1m58/58\u001b[0m \u001b[32m━━━━━━━━━━━━━━━━━━━━\u001b[0m\u001b[37m\u001b[0m \u001b[1m0s\u001b[0m 963ms/step - loss: 0.0132 - mae: 0.0869\n",
      "Epoch 64: saving model to model_checkpoint.keras\n",
      "\u001b[1m58/58\u001b[0m \u001b[32m━━━━━━━━━━━━━━━━━━━━\u001b[0m\u001b[37m\u001b[0m \u001b[1m59s\u001b[0m 1s/step - loss: 0.0133 - mae: 0.0870 - val_loss: 0.0208 - val_mae: 0.0969\n",
      "Epoch 65/400\n",
      "\u001b[1m58/58\u001b[0m \u001b[32m━━━━━━━━━━━━━━━━━━━━\u001b[0m\u001b[37m\u001b[0m \u001b[1m0s\u001b[0m 965ms/step - loss: 0.0113 - mae: 0.0817\n",
      "Epoch 65: saving model to model_checkpoint.keras\n",
      "\u001b[1m58/58\u001b[0m \u001b[32m━━━━━━━━━━━━━━━━━━━━\u001b[0m\u001b[37m\u001b[0m \u001b[1m60s\u001b[0m 1s/step - loss: 0.0113 - mae: 0.0817 - val_loss: 0.0235 - val_mae: 0.1037\n",
      "Epoch 66/400\n",
      "\u001b[1m58/58\u001b[0m \u001b[32m━━━━━━━━━━━━━━━━━━━━\u001b[0m\u001b[37m\u001b[0m \u001b[1m0s\u001b[0m 959ms/step - loss: 0.0127 - mae: 0.0870\n",
      "Epoch 66: saving model to model_checkpoint.keras\n",
      "\u001b[1m58/58\u001b[0m \u001b[32m━━━━━━━━━━━━━━━━━━━━\u001b[0m\u001b[37m\u001b[0m \u001b[1m59s\u001b[0m 1s/step - loss: 0.0127 - mae: 0.0870 - val_loss: 0.0240 - val_mae: 0.1058\n",
      "Epoch 67/400\n",
      "\u001b[1m58/58\u001b[0m \u001b[32m━━━━━━━━━━━━━━━━━━━━\u001b[0m\u001b[37m\u001b[0m \u001b[1m0s\u001b[0m 961ms/step - loss: 0.0127 - mae: 0.0867\n",
      "Epoch 67: saving model to model_checkpoint.keras\n",
      "\u001b[1m58/58\u001b[0m \u001b[32m━━━━━━━━━━━━━━━━━━━━\u001b[0m\u001b[37m\u001b[0m \u001b[1m60s\u001b[0m 1s/step - loss: 0.0127 - mae: 0.0867 - val_loss: 0.0274 - val_mae: 0.1144\n",
      "Epoch 68/400\n",
      "\u001b[1m58/58\u001b[0m \u001b[32m━━━━━━━━━━━━━━━━━━━━\u001b[0m\u001b[37m\u001b[0m \u001b[1m0s\u001b[0m 960ms/step - loss: 0.0134 - mae: 0.0883\n",
      "Epoch 68: saving model to model_checkpoint.keras\n",
      "\u001b[1m58/58\u001b[0m \u001b[32m━━━━━━━━━━━━━━━━━━━━\u001b[0m\u001b[37m\u001b[0m \u001b[1m59s\u001b[0m 1s/step - loss: 0.0134 - mae: 0.0882 - val_loss: 0.0242 - val_mae: 0.1039\n",
      "Epoch 69/400\n",
      "\u001b[1m58/58\u001b[0m \u001b[32m━━━━━━━━━━━━━━━━━━━━\u001b[0m\u001b[37m\u001b[0m \u001b[1m0s\u001b[0m 960ms/step - loss: 0.0125 - mae: 0.0861\n",
      "Epoch 69: saving model to model_checkpoint.keras\n",
      "\u001b[1m58/58\u001b[0m \u001b[32m━━━━━━━━━━━━━━━━━━━━\u001b[0m\u001b[37m\u001b[0m \u001b[1m60s\u001b[0m 1s/step - loss: 0.0125 - mae: 0.0860 - val_loss: 0.0230 - val_mae: 0.1045\n",
      "Epoch 70/400\n",
      "\u001b[1m58/58\u001b[0m \u001b[32m━━━━━━━━━━━━━━━━━━━━\u001b[0m\u001b[37m\u001b[0m \u001b[1m0s\u001b[0m 964ms/step - loss: 0.0154 - mae: 0.0950\n",
      "Epoch 70: saving model to model_checkpoint.keras\n",
      "\u001b[1m58/58\u001b[0m \u001b[32m━━━━━━━━━━━━━━━━━━━━\u001b[0m\u001b[37m\u001b[0m \u001b[1m60s\u001b[0m 1s/step - loss: 0.0154 - mae: 0.0949 - val_loss: 0.0212 - val_mae: 0.0982\n",
      "Epoch 71/400\n",
      "\u001b[1m58/58\u001b[0m \u001b[32m━━━━━━━━━━━━━━━━━━━━\u001b[0m\u001b[37m\u001b[0m \u001b[1m0s\u001b[0m 960ms/step - loss: 0.0127 - mae: 0.0847\n",
      "Epoch 71: saving model to model_checkpoint.keras\n",
      "\u001b[1m58/58\u001b[0m \u001b[32m━━━━━━━━━━━━━━━━━━━━\u001b[0m\u001b[37m\u001b[0m \u001b[1m59s\u001b[0m 1s/step - loss: 0.0127 - mae: 0.0847 - val_loss: 0.0206 - val_mae: 0.0994\n",
      "Epoch 72/400\n",
      "\u001b[1m58/58\u001b[0m \u001b[32m━━━━━━━━━━━━━━━━━━━━\u001b[0m\u001b[37m\u001b[0m \u001b[1m0s\u001b[0m 964ms/step - loss: 0.0129 - mae: 0.0879\n",
      "Epoch 72: saving model to model_checkpoint.keras\n",
      "\u001b[1m58/58\u001b[0m \u001b[32m━━━━━━━━━━━━━━━━━━━━\u001b[0m\u001b[37m\u001b[0m \u001b[1m60s\u001b[0m 1s/step - loss: 0.0129 - mae: 0.0880 - val_loss: 0.0212 - val_mae: 0.0998\n",
      "Epoch 73/400\n",
      "\u001b[1m58/58\u001b[0m \u001b[32m━━━━━━━━━━━━━━━━━━━━\u001b[0m\u001b[37m\u001b[0m \u001b[1m0s\u001b[0m 963ms/step - loss: 0.0126 - mae: 0.0861\n",
      "Epoch 73: saving model to model_checkpoint.keras\n",
      "\u001b[1m58/58\u001b[0m \u001b[32m━━━━━━━━━━━━━━━━━━━━\u001b[0m\u001b[37m\u001b[0m \u001b[1m59s\u001b[0m 1s/step - loss: 0.0126 - mae: 0.0861 - val_loss: 0.0213 - val_mae: 0.1014\n",
      "Epoch 74/400\n",
      "\u001b[1m58/58\u001b[0m \u001b[32m━━━━━━━━━━━━━━━━━━━━\u001b[0m\u001b[37m\u001b[0m \u001b[1m0s\u001b[0m 960ms/step - loss: 0.0120 - mae: 0.0827\n",
      "Epoch 74: saving model to model_checkpoint.keras\n",
      "\u001b[1m58/58\u001b[0m \u001b[32m━━━━━━━━━━━━━━━━━━━━\u001b[0m\u001b[37m\u001b[0m \u001b[1m59s\u001b[0m 1s/step - loss: 0.0120 - mae: 0.0827 - val_loss: 0.0211 - val_mae: 0.0973\n",
      "Epoch 75/400\n",
      "\u001b[1m58/58\u001b[0m \u001b[32m━━━━━━━━━━━━━━━━━━━━\u001b[0m\u001b[37m\u001b[0m \u001b[1m0s\u001b[0m 962ms/step - loss: 0.0122 - mae: 0.0839\n",
      "Epoch 75: saving model to model_checkpoint.keras\n",
      "\u001b[1m58/58\u001b[0m \u001b[32m━━━━━━━━━━━━━━━━━━━━\u001b[0m\u001b[37m\u001b[0m \u001b[1m59s\u001b[0m 1s/step - loss: 0.0122 - mae: 0.0839 - val_loss: 0.0212 - val_mae: 0.1005\n",
      "Epoch 76/400\n",
      "\u001b[1m58/58\u001b[0m \u001b[32m━━━━━━━━━━━━━━━━━━━━\u001b[0m\u001b[37m\u001b[0m \u001b[1m0s\u001b[0m 956ms/step - loss: 0.0131 - mae: 0.0855\n",
      "Epoch 76: saving model to model_checkpoint.keras\n",
      "\u001b[1m58/58\u001b[0m \u001b[32m━━━━━━━━━━━━━━━━━━━━\u001b[0m\u001b[37m\u001b[0m \u001b[1m60s\u001b[0m 1s/step - loss: 0.0131 - mae: 0.0856 - val_loss: 0.0234 - val_mae: 0.1048\n",
      "Epoch 77/400\n",
      "\u001b[1m58/58\u001b[0m \u001b[32m━━━━━━━━━━━━━━━━━━━━\u001b[0m\u001b[37m\u001b[0m \u001b[1m0s\u001b[0m 956ms/step - loss: 0.0142 - mae: 0.0894\n",
      "Epoch 77: saving model to model_checkpoint.keras\n",
      "\u001b[1m58/58\u001b[0m \u001b[32m━━━━━━━━━━━━━━━━━━━━\u001b[0m\u001b[37m\u001b[0m \u001b[1m59s\u001b[0m 1s/step - loss: 0.0142 - mae: 0.0894 - val_loss: 0.0229 - val_mae: 0.1073\n",
      "Epoch 78/400\n",
      "\u001b[1m58/58\u001b[0m \u001b[32m━━━━━━━━━━━━━━━━━━━━\u001b[0m\u001b[37m\u001b[0m \u001b[1m0s\u001b[0m 960ms/step - loss: 0.0119 - mae: 0.0839\n",
      "Epoch 78: saving model to model_checkpoint.keras\n",
      "\u001b[1m58/58\u001b[0m \u001b[32m━━━━━━━━━━━━━━━━━━━━\u001b[0m\u001b[37m\u001b[0m \u001b[1m59s\u001b[0m 1s/step - loss: 0.0119 - mae: 0.0839 - val_loss: 0.0203 - val_mae: 0.0982\n",
      "Epoch 79/400\n",
      "\u001b[1m58/58\u001b[0m \u001b[32m━━━━━━━━━━━━━━━━━━━━\u001b[0m\u001b[37m\u001b[0m \u001b[1m0s\u001b[0m 959ms/step - loss: 0.0118 - mae: 0.0840\n",
      "Epoch 79: saving model to model_checkpoint.keras\n",
      "\u001b[1m58/58\u001b[0m \u001b[32m━━━━━━━━━━━━━━━━━━━━\u001b[0m\u001b[37m\u001b[0m \u001b[1m59s\u001b[0m 1s/step - loss: 0.0118 - mae: 0.0841 - val_loss: 0.0218 - val_mae: 0.0995\n",
      "Epoch 80/400\n",
      "\u001b[1m58/58\u001b[0m \u001b[32m━━━━━━━━━━━━━━━━━━━━\u001b[0m\u001b[37m\u001b[0m \u001b[1m0s\u001b[0m 956ms/step - loss: 0.0136 - mae: 0.0881\n",
      "Epoch 80: saving model to model_checkpoint.keras\n",
      "\u001b[1m58/58\u001b[0m \u001b[32m━━━━━━━━━━━━━━━━━━━━\u001b[0m\u001b[37m\u001b[0m \u001b[1m59s\u001b[0m 1s/step - loss: 0.0136 - mae: 0.0881 - val_loss: 0.0227 - val_mae: 0.1040\n",
      "Epoch 81/400\n",
      "\u001b[1m58/58\u001b[0m \u001b[32m━━━━━━━━━━━━━━━━━━━━\u001b[0m\u001b[37m\u001b[0m \u001b[1m0s\u001b[0m 963ms/step - loss: 0.0127 - mae: 0.0856\n",
      "Epoch 81: saving model to model_checkpoint.keras\n",
      "\u001b[1m58/58\u001b[0m \u001b[32m━━━━━━━━━━━━━━━━━━━━\u001b[0m\u001b[37m\u001b[0m \u001b[1m60s\u001b[0m 1s/step - loss: 0.0127 - mae: 0.0856 - val_loss: 0.0205 - val_mae: 0.0958\n",
      "Epoch 82/400\n",
      "\u001b[1m58/58\u001b[0m \u001b[32m━━━━━━━━━━━━━━━━━━━━\u001b[0m\u001b[37m\u001b[0m \u001b[1m0s\u001b[0m 964ms/step - loss: 0.0115 - mae: 0.0825\n",
      "Epoch 82: saving model to model_checkpoint.keras\n",
      "\u001b[1m58/58\u001b[0m \u001b[32m━━━━━━━━━━━━━━━━━━━━\u001b[0m\u001b[37m\u001b[0m \u001b[1m59s\u001b[0m 1s/step - loss: 0.0115 - mae: 0.0825 - val_loss: 0.0217 - val_mae: 0.1038\n",
      "Epoch 83/400\n",
      "\u001b[1m58/58\u001b[0m \u001b[32m━━━━━━━━━━━━━━━━━━━━\u001b[0m\u001b[37m\u001b[0m \u001b[1m0s\u001b[0m 955ms/step - loss: 0.0135 - mae: 0.0892\n",
      "Epoch 83: saving model to model_checkpoint.keras\n",
      "\u001b[1m58/58\u001b[0m \u001b[32m━━━━━━━━━━━━━━━━━━━━\u001b[0m\u001b[37m\u001b[0m \u001b[1m59s\u001b[0m 1s/step - loss: 0.0135 - mae: 0.0892 - val_loss: 0.0210 - val_mae: 0.0998\n",
      "Epoch 84/400\n",
      "\u001b[1m58/58\u001b[0m \u001b[32m━━━━━━━━━━━━━━━━━━━━\u001b[0m\u001b[37m\u001b[0m \u001b[1m0s\u001b[0m 959ms/step - loss: 0.0114 - mae: 0.0814\n",
      "Epoch 84: saving model to model_checkpoint.keras\n",
      "\u001b[1m58/58\u001b[0m \u001b[32m━━━━━━━━━━━━━━━━━━━━\u001b[0m\u001b[37m\u001b[0m \u001b[1m59s\u001b[0m 1s/step - loss: 0.0114 - mae: 0.0814 - val_loss: 0.0221 - val_mae: 0.1007\n",
      "Epoch 85/400\n",
      "\u001b[1m58/58\u001b[0m \u001b[32m━━━━━━━━━━━━━━━━━━━━\u001b[0m\u001b[37m\u001b[0m \u001b[1m0s\u001b[0m 958ms/step - loss: 0.0126 - mae: 0.0857\n",
      "Epoch 85: saving model to model_checkpoint.keras\n",
      "\u001b[1m58/58\u001b[0m \u001b[32m━━━━━━━━━━━━━━━━━━━━\u001b[0m\u001b[37m\u001b[0m \u001b[1m59s\u001b[0m 1s/step - loss: 0.0126 - mae: 0.0858 - val_loss: 0.0230 - val_mae: 0.1038\n",
      "Epoch 86/400\n",
      "\u001b[1m58/58\u001b[0m \u001b[32m━━━━━━━━━━━━━━━━━━━━\u001b[0m\u001b[37m\u001b[0m \u001b[1m0s\u001b[0m 960ms/step - loss: 0.0129 - mae: 0.0887\n",
      "Epoch 86: saving model to model_checkpoint.keras\n",
      "\u001b[1m58/58\u001b[0m \u001b[32m━━━━━━━━━━━━━━━━━━━━\u001b[0m\u001b[37m\u001b[0m \u001b[1m60s\u001b[0m 1s/step - loss: 0.0129 - mae: 0.0887 - val_loss: 0.0231 - val_mae: 0.1058\n",
      "Epoch 87/400\n",
      "\u001b[1m58/58\u001b[0m \u001b[32m━━━━━━━━━━━━━━━━━━━━\u001b[0m\u001b[37m\u001b[0m \u001b[1m0s\u001b[0m 961ms/step - loss: 0.0129 - mae: 0.0866\n",
      "Epoch 87: saving model to model_checkpoint.keras\n",
      "\u001b[1m58/58\u001b[0m \u001b[32m━━━━━━━━━━━━━━━━━━━━\u001b[0m\u001b[37m\u001b[0m \u001b[1m60s\u001b[0m 1s/step - loss: 0.0129 - mae: 0.0866 - val_loss: 0.0228 - val_mae: 0.1015\n",
      "Epoch 88/400\n",
      "\u001b[1m58/58\u001b[0m \u001b[32m━━━━━━━━━━━━━━━━━━━━\u001b[0m\u001b[37m\u001b[0m \u001b[1m0s\u001b[0m 959ms/step - loss: 0.0132 - mae: 0.0887\n",
      "Epoch 88: saving model to model_checkpoint.keras\n",
      "\u001b[1m58/58\u001b[0m \u001b[32m━━━━━━━━━━━━━━━━━━━━\u001b[0m\u001b[37m\u001b[0m \u001b[1m59s\u001b[0m 1s/step - loss: 0.0132 - mae: 0.0887 - val_loss: 0.0233 - val_mae: 0.1034\n",
      "Epoch 89/400\n",
      "\u001b[1m58/58\u001b[0m \u001b[32m━━━━━━━━━━━━━━━━━━━━\u001b[0m\u001b[37m\u001b[0m \u001b[1m0s\u001b[0m 964ms/step - loss: 0.0130 - mae: 0.0864\n",
      "Epoch 89: saving model to model_checkpoint.keras\n",
      "\u001b[1m58/58\u001b[0m \u001b[32m━━━━━━━━━━━━━━━━━━━━\u001b[0m\u001b[37m\u001b[0m \u001b[1m59s\u001b[0m 1s/step - loss: 0.0130 - mae: 0.0864 - val_loss: 0.0238 - val_mae: 0.1076\n",
      "Epoch 90/400\n",
      "\u001b[1m58/58\u001b[0m \u001b[32m━━━━━━━━━━━━━━━━━━━━\u001b[0m\u001b[37m\u001b[0m \u001b[1m0s\u001b[0m 959ms/step - loss: 0.0131 - mae: 0.0884\n",
      "Epoch 90: saving model to model_checkpoint.keras\n",
      "\u001b[1m58/58\u001b[0m \u001b[32m━━━━━━━━━━━━━━━━━━━━\u001b[0m\u001b[37m\u001b[0m \u001b[1m59s\u001b[0m 1s/step - loss: 0.0131 - mae: 0.0884 - val_loss: 0.0227 - val_mae: 0.1022\n",
      "Epoch 91/400\n",
      "\u001b[1m58/58\u001b[0m \u001b[32m━━━━━━━━━━━━━━━━━━━━\u001b[0m\u001b[37m\u001b[0m \u001b[1m0s\u001b[0m 956ms/step - loss: 0.0122 - mae: 0.0850\n",
      "Epoch 91: saving model to model_checkpoint.keras\n",
      "\u001b[1m58/58\u001b[0m \u001b[32m━━━━━━━━━━━━━━━━━━━━\u001b[0m\u001b[37m\u001b[0m \u001b[1m59s\u001b[0m 1s/step - loss: 0.0122 - mae: 0.0851 - val_loss: 0.0220 - val_mae: 0.0998\n",
      "Epoch 92/400\n",
      "\u001b[1m58/58\u001b[0m \u001b[32m━━━━━━━━━━━━━━━━━━━━\u001b[0m\u001b[37m\u001b[0m \u001b[1m0s\u001b[0m 957ms/step - loss: 0.0122 - mae: 0.0858\n",
      "Epoch 92: saving model to model_checkpoint.keras\n",
      "\u001b[1m58/58\u001b[0m \u001b[32m━━━━━━━━━━━━━━━━━━━━\u001b[0m\u001b[37m\u001b[0m \u001b[1m59s\u001b[0m 1s/step - loss: 0.0123 - mae: 0.0859 - val_loss: 0.0226 - val_mae: 0.1011\n",
      "Epoch 93/400\n",
      "\u001b[1m58/58\u001b[0m \u001b[32m━━━━━━━━━━━━━━━━━━━━\u001b[0m\u001b[37m\u001b[0m \u001b[1m0s\u001b[0m 962ms/step - loss: 0.0122 - mae: 0.0861\n",
      "Epoch 93: saving model to model_checkpoint.keras\n",
      "\u001b[1m58/58\u001b[0m \u001b[32m━━━━━━━━━━━━━━━━━━━━\u001b[0m\u001b[37m\u001b[0m \u001b[1m59s\u001b[0m 1s/step - loss: 0.0122 - mae: 0.0860 - val_loss: 0.0240 - val_mae: 0.1046\n",
      "Epoch 94/400\n",
      "\u001b[1m58/58\u001b[0m \u001b[32m━━━━━━━━━━━━━━━━━━━━\u001b[0m\u001b[37m\u001b[0m \u001b[1m0s\u001b[0m 955ms/step - loss: 0.0125 - mae: 0.0857\n",
      "Epoch 94: saving model to model_checkpoint.keras\n",
      "\u001b[1m58/58\u001b[0m \u001b[32m━━━━━━━━━━━━━━━━━━━━\u001b[0m\u001b[37m\u001b[0m \u001b[1m59s\u001b[0m 1s/step - loss: 0.0125 - mae: 0.0857 - val_loss: 0.0198 - val_mae: 0.0942\n",
      "Epoch 95/400\n",
      "\u001b[1m58/58\u001b[0m \u001b[32m━━━━━━━━━━━━━━━━━━━━\u001b[0m\u001b[37m\u001b[0m \u001b[1m0s\u001b[0m 965ms/step - loss: 0.0127 - mae: 0.0877\n",
      "Epoch 95: saving model to model_checkpoint.keras\n",
      "\u001b[1m58/58\u001b[0m \u001b[32m━━━━━━━━━━━━━━━━━━━━\u001b[0m\u001b[37m\u001b[0m \u001b[1m60s\u001b[0m 1s/step - loss: 0.0127 - mae: 0.0877 - val_loss: 0.0247 - val_mae: 0.1087\n",
      "Epoch 96/400\n",
      "\u001b[1m58/58\u001b[0m \u001b[32m━━━━━━━━━━━━━━━━━━━━\u001b[0m\u001b[37m\u001b[0m \u001b[1m0s\u001b[0m 970ms/step - loss: 0.0117 - mae: 0.0814\n",
      "Epoch 96: saving model to model_checkpoint.keras\n",
      "\u001b[1m58/58\u001b[0m \u001b[32m━━━━━━━━━━━━━━━━━━━━\u001b[0m\u001b[37m\u001b[0m \u001b[1m59s\u001b[0m 1s/step - loss: 0.0117 - mae: 0.0814 - val_loss: 0.0237 - val_mae: 0.1050\n",
      "Epoch 97/400\n",
      "\u001b[1m58/58\u001b[0m \u001b[32m━━━━━━━━━━━━━━━━━━━━\u001b[0m\u001b[37m\u001b[0m \u001b[1m0s\u001b[0m 960ms/step - loss: 0.0138 - mae: 0.0881\n",
      "Epoch 97: saving model to model_checkpoint.keras\n",
      "\u001b[1m58/58\u001b[0m \u001b[32m━━━━━━━━━━━━━━━━━━━━\u001b[0m\u001b[37m\u001b[0m \u001b[1m59s\u001b[0m 1s/step - loss: 0.0138 - mae: 0.0880 - val_loss: 0.0220 - val_mae: 0.1027\n",
      "Epoch 98/400\n",
      "\u001b[1m58/58\u001b[0m \u001b[32m━━━━━━━━━━━━━━━━━━━━\u001b[0m\u001b[37m\u001b[0m \u001b[1m0s\u001b[0m 962ms/step - loss: 0.0118 - mae: 0.0843\n",
      "Epoch 98: saving model to model_checkpoint.keras\n",
      "\u001b[1m58/58\u001b[0m \u001b[32m━━━━━━━━━━━━━━━━━━━━\u001b[0m\u001b[37m\u001b[0m \u001b[1m60s\u001b[0m 1s/step - loss: 0.0119 - mae: 0.0844 - val_loss: 0.0234 - val_mae: 0.1014\n",
      "Epoch 99/400\n",
      "\u001b[1m58/58\u001b[0m \u001b[32m━━━━━━━━━━━━━━━━━━━━\u001b[0m\u001b[37m\u001b[0m \u001b[1m0s\u001b[0m 960ms/step - loss: 0.0139 - mae: 0.0898\n",
      "Epoch 99: saving model to model_checkpoint.keras\n",
      "\u001b[1m58/58\u001b[0m \u001b[32m━━━━━━━━━━━━━━━━━━━━\u001b[0m\u001b[37m\u001b[0m \u001b[1m59s\u001b[0m 1s/step - loss: 0.0139 - mae: 0.0896 - val_loss: 0.0261 - val_mae: 0.1114\n",
      "Epoch 100/400\n",
      "\u001b[1m58/58\u001b[0m \u001b[32m━━━━━━━━━━━━━━━━━━━━\u001b[0m\u001b[37m\u001b[0m \u001b[1m0s\u001b[0m 958ms/step - loss: 0.0130 - mae: 0.0868\n",
      "Epoch 100: saving model to model_checkpoint.keras\n",
      "\u001b[1m58/58\u001b[0m \u001b[32m━━━━━━━━━━━━━━━━━━━━\u001b[0m\u001b[37m\u001b[0m \u001b[1m59s\u001b[0m 1s/step - loss: 0.0130 - mae: 0.0868 - val_loss: 0.0207 - val_mae: 0.0955\n",
      "Epoch 101/400\n",
      "\u001b[1m58/58\u001b[0m \u001b[32m━━━━━━━━━━━━━━━━━━━━\u001b[0m\u001b[37m\u001b[0m \u001b[1m0s\u001b[0m 958ms/step - loss: 0.0130 - mae: 0.0872\n",
      "Epoch 101: saving model to model_checkpoint.keras\n",
      "\u001b[1m58/58\u001b[0m \u001b[32m━━━━━━━━━━━━━━━━━━━━\u001b[0m\u001b[37m\u001b[0m \u001b[1m59s\u001b[0m 1s/step - loss: 0.0130 - mae: 0.0871 - val_loss: 0.0220 - val_mae: 0.1009\n",
      "Epoch 102/400\n",
      "\u001b[1m58/58\u001b[0m \u001b[32m━━━━━━━━━━━━━━━━━━━━\u001b[0m\u001b[37m\u001b[0m \u001b[1m0s\u001b[0m 960ms/step - loss: 0.0128 - mae: 0.0846\n",
      "Epoch 102: saving model to model_checkpoint.keras\n",
      "\u001b[1m58/58\u001b[0m \u001b[32m━━━━━━━━━━━━━━━━━━━━\u001b[0m\u001b[37m\u001b[0m \u001b[1m59s\u001b[0m 1s/step - loss: 0.0128 - mae: 0.0847 - val_loss: 0.0209 - val_mae: 0.1020\n",
      "Epoch 103/400\n",
      "\u001b[1m58/58\u001b[0m \u001b[32m━━━━━━━━━━━━━━━━━━━━\u001b[0m\u001b[37m\u001b[0m \u001b[1m0s\u001b[0m 959ms/step - loss: 0.0124 - mae: 0.0857\n",
      "Epoch 103: saving model to model_checkpoint.keras\n",
      "\u001b[1m58/58\u001b[0m \u001b[32m━━━━━━━━━━━━━━━━━━━━\u001b[0m\u001b[37m\u001b[0m \u001b[1m59s\u001b[0m 1s/step - loss: 0.0124 - mae: 0.0856 - val_loss: 0.0196 - val_mae: 0.0928\n",
      "Epoch 104/400\n",
      "\u001b[1m58/58\u001b[0m \u001b[32m━━━━━━━━━━━━━━━━━━━━\u001b[0m\u001b[37m\u001b[0m \u001b[1m0s\u001b[0m 958ms/step - loss: 0.0117 - mae: 0.0826\n",
      "Epoch 104: saving model to model_checkpoint.keras\n",
      "\u001b[1m58/58\u001b[0m \u001b[32m━━━━━━━━━━━━━━━━━━━━\u001b[0m\u001b[37m\u001b[0m \u001b[1m59s\u001b[0m 1s/step - loss: 0.0117 - mae: 0.0826 - val_loss: 0.0216 - val_mae: 0.1005\n",
      "Epoch 105/400\n",
      "\u001b[1m58/58\u001b[0m \u001b[32m━━━━━━━━━━━━━━━━━━━━\u001b[0m\u001b[37m\u001b[0m \u001b[1m0s\u001b[0m 959ms/step - loss: 0.0120 - mae: 0.0834\n",
      "Epoch 105: saving model to model_checkpoint.keras\n",
      "\u001b[1m58/58\u001b[0m \u001b[32m━━━━━━━━━━━━━━━━━━━━\u001b[0m\u001b[37m\u001b[0m \u001b[1m59s\u001b[0m 1s/step - loss: 0.0120 - mae: 0.0833 - val_loss: 0.0198 - val_mae: 0.0965\n",
      "Epoch 106/400\n",
      "\u001b[1m58/58\u001b[0m \u001b[32m━━━━━━━━━━━━━━━━━━━━\u001b[0m\u001b[37m\u001b[0m \u001b[1m0s\u001b[0m 960ms/step - loss: 0.0110 - mae: 0.0805\n",
      "Epoch 106: saving model to model_checkpoint.keras\n",
      "\u001b[1m58/58\u001b[0m \u001b[32m━━━━━━━━━━━━━━━━━━━━\u001b[0m\u001b[37m\u001b[0m \u001b[1m59s\u001b[0m 1s/step - loss: 0.0110 - mae: 0.0805 - val_loss: 0.0228 - val_mae: 0.1009\n",
      "Epoch 107/400\n",
      "\u001b[1m58/58\u001b[0m \u001b[32m━━━━━━━━━━━━━━━━━━━━\u001b[0m\u001b[37m\u001b[0m \u001b[1m0s\u001b[0m 956ms/step - loss: 0.0122 - mae: 0.0846\n",
      "Epoch 107: saving model to model_checkpoint.keras\n",
      "\u001b[1m58/58\u001b[0m \u001b[32m━━━━━━━━━━━━━━━━━━━━\u001b[0m\u001b[37m\u001b[0m \u001b[1m60s\u001b[0m 1s/step - loss: 0.0122 - mae: 0.0846 - val_loss: 0.0197 - val_mae: 0.0962\n",
      "Epoch 108/400\n",
      "\u001b[1m58/58\u001b[0m \u001b[32m━━━━━━━━━━━━━━━━━━━━\u001b[0m\u001b[37m\u001b[0m \u001b[1m0s\u001b[0m 959ms/step - loss: 0.0128 - mae: 0.0878\n",
      "Epoch 108: saving model to model_checkpoint.keras\n",
      "\u001b[1m58/58\u001b[0m \u001b[32m━━━━━━━━━━━━━━━━━━━━\u001b[0m\u001b[37m\u001b[0m \u001b[1m59s\u001b[0m 1s/step - loss: 0.0128 - mae: 0.0877 - val_loss: 0.0221 - val_mae: 0.0971\n",
      "Epoch 109/400\n",
      "\u001b[1m58/58\u001b[0m \u001b[32m━━━━━━━━━━━━━━━━━━━━\u001b[0m\u001b[37m\u001b[0m \u001b[1m0s\u001b[0m 957ms/step - loss: 0.0114 - mae: 0.0805\n",
      "Epoch 109: saving model to model_checkpoint.keras\n",
      "\u001b[1m58/58\u001b[0m \u001b[32m━━━━━━━━━━━━━━━━━━━━\u001b[0m\u001b[37m\u001b[0m \u001b[1m59s\u001b[0m 1s/step - loss: 0.0114 - mae: 0.0806 - val_loss: 0.0225 - val_mae: 0.1012\n",
      "Epoch 110/400\n",
      "\u001b[1m58/58\u001b[0m \u001b[32m━━━━━━━━━━━━━━━━━━━━\u001b[0m\u001b[37m\u001b[0m \u001b[1m0s\u001b[0m 956ms/step - loss: 0.0113 - mae: 0.0811\n",
      "Epoch 110: saving model to model_checkpoint.keras\n",
      "\u001b[1m58/58\u001b[0m \u001b[32m━━━━━━━━━━━━━━━━━━━━\u001b[0m\u001b[37m\u001b[0m \u001b[1m59s\u001b[0m 1s/step - loss: 0.0113 - mae: 0.0811 - val_loss: 0.0199 - val_mae: 0.0953\n",
      "Epoch 111/400\n",
      "\u001b[1m58/58\u001b[0m \u001b[32m━━━━━━━━━━━━━━━━━━━━\u001b[0m\u001b[37m\u001b[0m \u001b[1m0s\u001b[0m 960ms/step - loss: 0.0116 - mae: 0.0830\n",
      "Epoch 111: saving model to model_checkpoint.keras\n",
      "\u001b[1m58/58\u001b[0m \u001b[32m━━━━━━━━━━━━━━━━━━━━\u001b[0m\u001b[37m\u001b[0m \u001b[1m59s\u001b[0m 1s/step - loss: 0.0116 - mae: 0.0830 - val_loss: 0.0251 - val_mae: 0.1087\n",
      "Epoch 112/400\n",
      "\u001b[1m58/58\u001b[0m \u001b[32m━━━━━━━━━━━━━━━━━━━━\u001b[0m\u001b[37m\u001b[0m \u001b[1m0s\u001b[0m 961ms/step - loss: 0.0141 - mae: 0.0901\n",
      "Epoch 112: saving model to model_checkpoint.keras\n",
      "\u001b[1m58/58\u001b[0m \u001b[32m━━━━━━━━━━━━━━━━━━━━\u001b[0m\u001b[37m\u001b[0m \u001b[1m59s\u001b[0m 1s/step - loss: 0.0140 - mae: 0.0900 - val_loss: 0.0206 - val_mae: 0.0970\n",
      "Epoch 113/400\n",
      "\u001b[1m58/58\u001b[0m \u001b[32m━━━━━━━━━━━━━━━━━━━━\u001b[0m\u001b[37m\u001b[0m \u001b[1m0s\u001b[0m 960ms/step - loss: 0.0116 - mae: 0.0833\n",
      "Epoch 113: saving model to model_checkpoint.keras\n",
      "\u001b[1m58/58\u001b[0m \u001b[32m━━━━━━━━━━━━━━━━━━━━\u001b[0m\u001b[37m\u001b[0m \u001b[1m60s\u001b[0m 1s/step - loss: 0.0116 - mae: 0.0832 - val_loss: 0.0244 - val_mae: 0.1055\n",
      "Epoch 114/400\n",
      "\u001b[1m58/58\u001b[0m \u001b[32m━━━━━━━━━━━━━━━━━━━━\u001b[0m\u001b[37m\u001b[0m \u001b[1m0s\u001b[0m 955ms/step - loss: 0.0147 - mae: 0.0916\n",
      "Epoch 114: saving model to model_checkpoint.keras\n",
      "\u001b[1m58/58\u001b[0m \u001b[32m━━━━━━━━━━━━━━━━━━━━\u001b[0m\u001b[37m\u001b[0m \u001b[1m59s\u001b[0m 1s/step - loss: 0.0147 - mae: 0.0915 - val_loss: 0.0221 - val_mae: 0.1019\n",
      "Epoch 115/400\n",
      "\u001b[1m58/58\u001b[0m \u001b[32m━━━━━━━━━━━━━━━━━━━━\u001b[0m\u001b[37m\u001b[0m \u001b[1m0s\u001b[0m 960ms/step - loss: 0.0113 - mae: 0.0827\n",
      "Epoch 115: saving model to model_checkpoint.keras\n",
      "\u001b[1m58/58\u001b[0m \u001b[32m━━━━━━━━━━━━━━━━━━━━\u001b[0m\u001b[37m\u001b[0m \u001b[1m59s\u001b[0m 1s/step - loss: 0.0113 - mae: 0.0827 - val_loss: 0.0216 - val_mae: 0.1013\n",
      "Epoch 116/400\n",
      "\u001b[1m58/58\u001b[0m \u001b[32m━━━━━━━━━━━━━━━━━━━━\u001b[0m\u001b[37m\u001b[0m \u001b[1m0s\u001b[0m 962ms/step - loss: 0.0117 - mae: 0.0833\n",
      "Epoch 116: saving model to model_checkpoint.keras\n",
      "\u001b[1m58/58\u001b[0m \u001b[32m━━━━━━━━━━━━━━━━━━━━\u001b[0m\u001b[37m\u001b[0m \u001b[1m59s\u001b[0m 1s/step - loss: 0.0117 - mae: 0.0833 - val_loss: 0.0196 - val_mae: 0.1012\n"
     ]
    }
   ],
   "source": [
    "\n",
    "\n",
    "\n",
    "# Continue training for an additional 300 epochs\n",
    "history_additional = model_loaded.fit(\n",
    "    X_train_final,\n",
    "    y_train_norm,\n",
    "    validation_data=(X_test_final, y_test_norm),\n",
    "    epochs=400,  # Train for 300 more epochs\n",
    "    batch_size=32,\n",
    "    callbacks=callbacks,\n",
    "    verbose=1\n",
    ")\n"
   ]
  },
  {
   "cell_type": "code",
   "execution_count": null,
   "id": "5c07d7b3",
   "metadata": {
    "papermill": {
     "duration": 0.38244,
     "end_time": "2025-03-05T13:24:03.352306",
     "exception": false,
     "start_time": "2025-03-05T13:24:02.969866",
     "status": "completed"
    },
    "tags": []
   },
   "outputs": [],
   "source": []
  }
 ],
 "metadata": {
  "kaggle": {
   "accelerator": "nvidiaTeslaT4",
   "dataSources": [
    {
     "datasetId": 6637708,
     "sourceId": 10709822,
     "sourceType": "datasetVersion"
    },
    {
     "isSourceIdPinned": true,
     "modelId": 242542,
     "modelInstanceId": 220767,
     "sourceId": 258296,
     "sourceType": "modelInstanceVersion"
    },
    {
     "isSourceIdPinned": true,
     "modelId": 243092,
     "modelInstanceId": 221313,
     "sourceId": 258919,
     "sourceType": "modelInstanceVersion"
    },
    {
     "isSourceIdPinned": true,
     "modelId": 257614,
     "modelInstanceId": 235927,
     "sourceId": 275529,
     "sourceType": "modelInstanceVersion"
    },
    {
     "isSourceIdPinned": true,
     "modelId": 257937,
     "modelInstanceId": 236256,
     "sourceId": 275884,
     "sourceType": "modelInstanceVersion"
    }
   ],
   "dockerImageVersionId": 30887,
   "isGpuEnabled": true,
   "isInternetEnabled": true,
   "language": "python",
   "sourceType": "notebook"
  },
  "kernelspec": {
   "display_name": "Python 3",
   "language": "python",
   "name": "python3"
  },
  "language_info": {
   "codemirror_mode": {
    "name": "ipython",
    "version": 3
   },
   "file_extension": ".py",
   "mimetype": "text/x-python",
   "name": "python",
   "nbconvert_exporter": "python",
   "pygments_lexer": "ipython3",
   "version": "3.10.12"
  },
  "papermill": {
   "default_parameters": {},
   "duration": 6911.166959,
   "end_time": "2025-03-05T13:24:06.101461",
   "environment_variables": {},
   "exception": null,
   "input_path": "__notebook__.ipynb",
   "output_path": "__notebook__.ipynb",
   "parameters": {},
   "start_time": "2025-03-05T11:28:54.934502",
   "version": "2.6.0"
  }
 },
 "nbformat": 4,
 "nbformat_minor": 5
}
