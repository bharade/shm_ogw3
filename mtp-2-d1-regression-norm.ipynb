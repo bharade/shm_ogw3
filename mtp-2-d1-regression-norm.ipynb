{
 "cells": [
  {
   "cell_type": "code",
   "execution_count": 1,
   "id": "79769d78",
   "metadata": {
    "_cell_guid": "b1076dfc-b9ad-4769-8c92-a6c4dae69d19",
    "_uuid": "8f2839f25d086af736a60e9eeb907d3b93b6e0e5",
    "execution": {
     "iopub.execute_input": "2025-02-14T07:52:00.185512Z",
     "iopub.status.busy": "2025-02-14T07:52:00.185161Z",
     "iopub.status.idle": "2025-02-14T07:52:00.909401Z",
     "shell.execute_reply": "2025-02-14T07:52:00.908437Z"
    },
    "papermill": {
     "duration": 0.734753,
     "end_time": "2025-02-14T07:52:00.910930",
     "exception": false,
     "start_time": "2025-02-14T07:52:00.176177",
     "status": "completed"
    },
    "tags": []
   },
   "outputs": [
    {
     "name": "stdout",
     "output_type": "stream",
     "text": [
      "/kaggle/input/ogw3-loaded/data_frames_ogw3.pkl\n",
      "/kaggle/input/ogw3-augmented/X_damage_augmented.npy\n",
      "/kaggle/input/ogw3-augmented/X_freq_augmented.npy\n",
      "/kaggle/input/ogw3-augmented/X_signals_augmented.npy\n",
      "/kaggle/input/ogw3-train-test/test_dataset.npz\n",
      "/kaggle/input/ogw3-train-test/train_dataset.npz\n"
     ]
    }
   ],
   "source": [
    "# This Python 3 environment comes with many helpful analytics libraries installed\n",
    "# It is defined by the kaggle/python Docker image: https://github.com/kaggle/docker-python\n",
    "# For example, here's several helpful packages to load\n",
    "\n",
    "import numpy as np # linear algebra\n",
    "import pandas as pd # data processing, CSV file I/O (e.g. pd.read_csv)\n",
    "\n",
    "# Input data files are available in the read-only \"../input/\" directory\n",
    "# For example, running this (by clicking run or pressing Shift+Enter) will list all files under the input directory\n",
    "\n",
    "import os\n",
    "for dirname, _, filenames in os.walk('/kaggle/input'):\n",
    "    for filename in filenames:\n",
    "        print(os.path.join(dirname, filename))\n",
    "\n",
    "# You can write up to 20GB to the current directory (/kaggle/working/) that gets preserved as output when you create a version using \"Save & Run All\" \n",
    "# You can also write temporary files to /kaggle/temp/, but they won't be saved outside of the current session"
   ]
  },
  {
   "cell_type": "markdown",
   "id": "5c2b5711",
   "metadata": {
    "papermill": {
     "duration": 0.006611,
     "end_time": "2025-02-14T07:52:00.924884",
     "exception": false,
     "start_time": "2025-02-14T07:52:00.918273",
     "status": "completed"
    },
    "tags": []
   },
   "source": [
    "# 1.5) loading augmented data"
   ]
  },
  {
   "cell_type": "code",
   "execution_count": 2,
   "id": "45c01e0d",
   "metadata": {
    "execution": {
     "iopub.execute_input": "2025-02-14T07:52:00.939165Z",
     "iopub.status.busy": "2025-02-14T07:52:00.938802Z",
     "iopub.status.idle": "2025-02-14T07:52:00.942126Z",
     "shell.execute_reply": "2025-02-14T07:52:00.941434Z"
    },
    "papermill": {
     "duration": 0.011795,
     "end_time": "2025-02-14T07:52:00.943329",
     "exception": false,
     "start_time": "2025-02-14T07:52:00.931534",
     "status": "completed"
    },
    "tags": []
   },
   "outputs": [],
   "source": [
    "import os\n",
    "import matplotlib.pyplot as plt"
   ]
  },
  {
   "cell_type": "code",
   "execution_count": 3,
   "id": "01aa3c62",
   "metadata": {
    "execution": {
     "iopub.execute_input": "2025-02-14T07:52:00.957858Z",
     "iopub.status.busy": "2025-02-14T07:52:00.957561Z",
     "iopub.status.idle": "2025-02-14T07:52:00.963064Z",
     "shell.execute_reply": "2025-02-14T07:52:00.962214Z"
    },
    "papermill": {
     "duration": 0.014357,
     "end_time": "2025-02-14T07:52:00.964456",
     "exception": false,
     "start_time": "2025-02-14T07:52:00.950099",
     "status": "completed"
    },
    "tags": []
   },
   "outputs": [
    {
     "data": {
      "text/plain": [
       "'/kaggle/working'"
      ]
     },
     "execution_count": 3,
     "metadata": {},
     "output_type": "execute_result"
    }
   ],
   "source": [
    "%pwd\n"
   ]
  },
  {
   "cell_type": "code",
   "execution_count": 4,
   "id": "72eee4f2",
   "metadata": {
    "execution": {
     "iopub.execute_input": "2025-02-14T07:52:00.980021Z",
     "iopub.status.busy": "2025-02-14T07:52:00.979709Z",
     "iopub.status.idle": "2025-02-14T07:52:00.983097Z",
     "shell.execute_reply": "2025-02-14T07:52:00.982413Z"
    },
    "papermill": {
     "duration": 0.012647,
     "end_time": "2025-02-14T07:52:00.984403",
     "exception": false,
     "start_time": "2025-02-14T07:52:00.971756",
     "status": "completed"
    },
    "tags": []
   },
   "outputs": [],
   "source": [
    "os.chdir(\"..\")\n",
    "os.chdir(\"input\")"
   ]
  },
  {
   "cell_type": "code",
   "execution_count": 5,
   "id": "0c02e6cb",
   "metadata": {
    "execution": {
     "iopub.execute_input": "2025-02-14T07:52:00.999542Z",
     "iopub.status.busy": "2025-02-14T07:52:00.999220Z",
     "iopub.status.idle": "2025-02-14T07:52:02.051970Z",
     "shell.execute_reply": "2025-02-14T07:52:02.051043Z"
    },
    "papermill": {
     "duration": 1.062082,
     "end_time": "2025-02-14T07:52:02.053684",
     "exception": false,
     "start_time": "2025-02-14T07:52:00.991602",
     "status": "completed"
    },
    "tags": []
   },
   "outputs": [],
   "source": [
    "X_signals_augmented = np.load('ogw3-augmented/X_signals_augmented.npy')\n",
    "X_damage_augmented = np.load('ogw3-augmented/X_damage_augmented.npy')\n",
    "X_freq_augmented = np.load('ogw3-augmented/X_freq_augmented.npy')\n"
   ]
  },
  {
   "cell_type": "code",
   "execution_count": 6,
   "id": "b84cc025",
   "metadata": {
    "execution": {
     "iopub.execute_input": "2025-02-14T07:52:02.068829Z",
     "iopub.status.busy": "2025-02-14T07:52:02.068570Z",
     "iopub.status.idle": "2025-02-14T07:52:02.073053Z",
     "shell.execute_reply": "2025-02-14T07:52:02.072319Z"
    },
    "papermill": {
     "duration": 0.013051,
     "end_time": "2025-02-14T07:52:02.074242",
     "exception": false,
     "start_time": "2025-02-14T07:52:02.061191",
     "status": "completed"
    },
    "tags": []
   },
   "outputs": [
    {
     "name": "stdout",
     "output_type": "stream",
     "text": [
      "X_signals shape:(2040, 4369, 1)\n",
      "X_signals shape:(2040, 14)\n",
      "X_signals shape:(2040, 12)\n"
     ]
    }
   ],
   "source": [
    "print(f\"X_signals shape:{X_signals_augmented.shape}\")\n",
    "print(f\"X_signals shape:{X_damage_augmented.shape}\")\n",
    "print(f\"X_signals shape:{X_freq_augmented.shape}\")"
   ]
  },
  {
   "cell_type": "code",
   "execution_count": 7,
   "id": "230db2f4",
   "metadata": {
    "execution": {
     "iopub.execute_input": "2025-02-14T07:52:02.088517Z",
     "iopub.status.busy": "2025-02-14T07:52:02.088295Z",
     "iopub.status.idle": "2025-02-14T07:52:02.186838Z",
     "shell.execute_reply": "2025-02-14T07:52:02.185975Z"
    },
    "papermill": {
     "duration": 0.107235,
     "end_time": "2025-02-14T07:52:02.188317",
     "exception": false,
     "start_time": "2025-02-14T07:52:02.081082",
     "status": "completed"
    },
    "tags": []
   },
   "outputs": [
    {
     "name": "stdout",
     "output_type": "stream",
     "text": [
      "Summary for X_signals_augmented:\n",
      "Mean: [[-0.00808563]\n",
      " [-0.03676917]\n",
      " [ 0.00793156]\n",
      " ...\n",
      " [ 0.43494834]\n",
      " [ 0.47826858]\n",
      " [ 0.47794448]]\n",
      "Variance: [[0.04756828]\n",
      " [0.05728288]\n",
      " [0.05182533]\n",
      " ...\n",
      " [0.11266843]\n",
      " [0.11778735]\n",
      " [0.1192308 ]]\n",
      "Min: [[-1.]\n",
      " [-1.]\n",
      " [-1.]\n",
      " ...\n",
      " [-1.]\n",
      " [-1.]\n",
      " [-1.]]\n",
      "Max: [[1.]\n",
      " [1.]\n",
      " [1.]\n",
      " ...\n",
      " [1.]\n",
      " [1.]\n",
      " [1.]]\n",
      "--------------------------------------------------\n",
      "Summary for X_freq_augmented:\n",
      "Mean: [0.08333333 0.08333333 0.08333333 0.08333333 0.08333333 0.08333333\n",
      " 0.08333333 0.08333333 0.08333333 0.08333333 0.08333333 0.08333333]\n",
      "Variance: [0.07638889 0.07638889 0.07638889 0.07638889 0.07638889 0.07638889\n",
      " 0.07638889 0.07638889 0.07638889 0.07638889 0.07638889 0.07638889]\n",
      "Min: [0. 0. 0. 0. 0. 0. 0. 0. 0. 0. 0. 0.]\n",
      "Max: [1. 1. 1. 1. 1. 1. 1. 1. 1. 1. 1. 1.]\n",
      "--------------------------------------------------\n"
     ]
    }
   ],
   "source": [
    "import numpy as np\n",
    "\n",
    "def summarize_data(X, name):\n",
    "    print(f\"Summary for {name}:\")\n",
    "    print(\"Mean:\", np.mean(X, axis=0))\n",
    "    print(\"Variance:\", np.var(X, axis=0))\n",
    "    print(\"Min:\", np.min(X, axis=0))\n",
    "    print(\"Max:\", np.max(X, axis=0))\n",
    "    print(\"-\" * 50)\n",
    "\n",
    "summarize_data(X_signals_augmented, \"X_signals_augmented\")\n",
    "summarize_data(X_freq_augmented, \"X_freq_augmented\")\n"
   ]
  },
  {
   "cell_type": "code",
   "execution_count": 8,
   "id": "1e22dfb8",
   "metadata": {
    "execution": {
     "iopub.execute_input": "2025-02-14T07:52:02.203521Z",
     "iopub.status.busy": "2025-02-14T07:52:02.203237Z",
     "iopub.status.idle": "2025-02-14T07:52:02.217764Z",
     "shell.execute_reply": "2025-02-14T07:52:02.216964Z"
    },
    "papermill": {
     "duration": 0.023282,
     "end_time": "2025-02-14T07:52:02.219005",
     "exception": false,
     "start_time": "2025-02-14T07:52:02.195723",
     "status": "completed"
    },
    "tags": []
   },
   "outputs": [
    {
     "name": "stdout",
     "output_type": "stream",
     "text": [
      "Damage Condition Counts:\n",
      " 0.0    26520\n",
      "1.0     2040\n",
      "Name: count, dtype: int64\n"
     ]
    }
   ],
   "source": [
    "import pandas as pd\n",
    "\n",
    "damage_counts = pd.Series(X_damage_augmented.flatten()).value_counts()\n",
    "print(\"Damage Condition Counts:\\n\", damage_counts)\n"
   ]
  },
  {
   "cell_type": "markdown",
   "id": "14452dae",
   "metadata": {
    "papermill": {
     "duration": 0.0067,
     "end_time": "2025-02-14T07:52:02.233332",
     "exception": false,
     "start_time": "2025-02-14T07:52:02.226632",
     "status": "completed"
    },
    "tags": []
   },
   "source": [
    "# 2. Execution and model Training\n",
    "This is where the actual execution starts"
   ]
  },
  {
   "cell_type": "code",
   "execution_count": 9,
   "id": "1824424e",
   "metadata": {
    "execution": {
     "iopub.execute_input": "2025-02-14T07:52:02.248636Z",
     "iopub.status.busy": "2025-02-14T07:52:02.248279Z",
     "iopub.status.idle": "2025-02-14T07:52:02.251950Z",
     "shell.execute_reply": "2025-02-14T07:52:02.251189Z"
    },
    "papermill": {
     "duration": 0.01283,
     "end_time": "2025-02-14T07:52:02.253215",
     "exception": false,
     "start_time": "2025-02-14T07:52:02.240385",
     "status": "completed"
    },
    "tags": []
   },
   "outputs": [],
   "source": [
    "import numpy as np\n",
    "import pandas as pd\n",
    "import pickle\n",
    "import matplotlib.pyplot as plt\n",
    "import os"
   ]
  },
  {
   "cell_type": "code",
   "execution_count": 10,
   "id": "478e3681",
   "metadata": {
    "execution": {
     "iopub.execute_input": "2025-02-14T07:52:02.268814Z",
     "iopub.status.busy": "2025-02-14T07:52:02.268493Z",
     "iopub.status.idle": "2025-02-14T07:52:02.272279Z",
     "shell.execute_reply": "2025-02-14T07:52:02.271445Z"
    },
    "papermill": {
     "duration": 0.013195,
     "end_time": "2025-02-14T07:52:02.273731",
     "exception": false,
     "start_time": "2025-02-14T07:52:02.260536",
     "status": "completed"
    },
    "tags": []
   },
   "outputs": [],
   "source": [
    "os.chdir(\"..\")\n",
    "os.chdir(\"working\")"
   ]
  },
  {
   "cell_type": "code",
   "execution_count": 11,
   "id": "cab2f8a6",
   "metadata": {
    "execution": {
     "iopub.execute_input": "2025-02-14T07:52:02.289703Z",
     "iopub.status.busy": "2025-02-14T07:52:02.289342Z",
     "iopub.status.idle": "2025-02-14T07:52:02.294571Z",
     "shell.execute_reply": "2025-02-14T07:52:02.293729Z"
    },
    "papermill": {
     "duration": 0.014781,
     "end_time": "2025-02-14T07:52:02.295848",
     "exception": false,
     "start_time": "2025-02-14T07:52:02.281067",
     "status": "completed"
    },
    "tags": []
   },
   "outputs": [
    {
     "data": {
      "text/plain": [
       "'/kaggle'"
      ]
     },
     "execution_count": 11,
     "metadata": {},
     "output_type": "execute_result"
    }
   ],
   "source": [
    "os.chdir(\"..\")\n",
    "%pwd"
   ]
  },
  {
   "cell_type": "code",
   "execution_count": 12,
   "id": "af7956a7",
   "metadata": {
    "execution": {
     "iopub.execute_input": "2025-02-14T07:52:02.311782Z",
     "iopub.status.busy": "2025-02-14T07:52:02.311513Z",
     "iopub.status.idle": "2025-02-14T07:52:03.418446Z",
     "shell.execute_reply": "2025-02-14T07:52:03.417426Z"
    },
    "papermill": {
     "duration": 1.117015,
     "end_time": "2025-02-14T07:52:03.420550",
     "exception": false,
     "start_time": "2025-02-14T07:52:02.303535",
     "status": "completed"
    },
    "tags": []
   },
   "outputs": [],
   "source": [
    "import numpy as np\n",
    "from sklearn.model_selection import train_test_split\n",
    "\n",
    "# ----------------------------------------------------------------------\n",
    "# Step 1: Convert one-hot encoded damage labels to scalar values.\n",
    "# ----------------------------------------------------------------------\n",
    "# Each sample in X_damage_augmented is a one-hot vector. We convert it to the\n",
    "# corresponding class index (i.e., 0 for undamaged, 1-13 for damage levels).\n",
    "y_augmented = np.argmax(X_damage_augmented, axis=1).astype(np.float32)\n",
    "# y_augmented now has shape (num_samples,)"
   ]
  },
  {
   "cell_type": "code",
   "execution_count": 13,
   "id": "06a14b3c",
   "metadata": {
    "execution": {
     "iopub.execute_input": "2025-02-14T07:52:03.436847Z",
     "iopub.status.busy": "2025-02-14T07:52:03.436459Z",
     "iopub.status.idle": "2025-02-14T07:52:03.441089Z",
     "shell.execute_reply": "2025-02-14T07:52:03.440432Z"
    },
    "papermill": {
     "duration": 0.013385,
     "end_time": "2025-02-14T07:52:03.442173",
     "exception": false,
     "start_time": "2025-02-14T07:52:03.428788",
     "status": "completed"
    },
    "tags": []
   },
   "outputs": [
    {
     "data": {
      "text/plain": [
       "0.0"
      ]
     },
     "execution_count": 13,
     "metadata": {},
     "output_type": "execute_result"
    }
   ],
   "source": [
    "y_augmented.min()"
   ]
  },
  {
   "cell_type": "code",
   "execution_count": 14,
   "id": "703f7416",
   "metadata": {
    "execution": {
     "iopub.execute_input": "2025-02-14T07:52:03.457837Z",
     "iopub.status.busy": "2025-02-14T07:52:03.457523Z",
     "iopub.status.idle": "2025-02-14T07:52:03.460993Z",
     "shell.execute_reply": "2025-02-14T07:52:03.460178Z"
    },
    "papermill": {
     "duration": 0.01305,
     "end_time": "2025-02-14T07:52:03.462430",
     "exception": false,
     "start_time": "2025-02-14T07:52:03.449380",
     "status": "completed"
    },
    "tags": []
   },
   "outputs": [],
   "source": [
    "# ----------------------------------------------------------------------\n",
    "# Step 2: Define the features.\n",
    "# ----------------------------------------------------------------------\n",
    "# For this regression task, we use the guided wave signals as the features.\n",
    "# (If you wish to include frequency information as additional features, you might\n",
    "# concatenate or process X_freq_augmented separately; here we assume only the signal is used.)\n",
    "X_augmented = X_signals_augmented  # shape: (num_samples, 4369, 1)"
   ]
  },
  {
   "cell_type": "code",
   "execution_count": 15,
   "id": "f7171093",
   "metadata": {
    "execution": {
     "iopub.execute_input": "2025-02-14T07:52:03.478629Z",
     "iopub.status.busy": "2025-02-14T07:52:03.478296Z",
     "iopub.status.idle": "2025-02-14T07:52:03.511043Z",
     "shell.execute_reply": "2025-02-14T07:52:03.509783Z"
    },
    "papermill": {
     "duration": 0.043758,
     "end_time": "2025-02-14T07:52:03.513566",
     "exception": false,
     "start_time": "2025-02-14T07:52:03.469808",
     "status": "completed"
    },
    "tags": []
   },
   "outputs": [],
   "source": [
    "# ----------------------------------------------------------------------\n",
    "# Step 3: Split the data into training and test sets.\n",
    "# ----------------------------------------------------------------------\n",
    "# Here we use 80% of the data for training and 20% for testing.\n",
    "X_train, X_test, y_train, y_test = train_test_split(\n",
    "    X_augmented, y_augmented, test_size=0.1, random_state=42\n",
    ")\n"
   ]
  },
  {
   "cell_type": "code",
   "execution_count": 16,
   "id": "68ef0c77",
   "metadata": {
    "execution": {
     "iopub.execute_input": "2025-02-14T07:52:03.540035Z",
     "iopub.status.busy": "2025-02-14T07:52:03.539506Z",
     "iopub.status.idle": "2025-02-14T07:52:03.547252Z",
     "shell.execute_reply": "2025-02-14T07:52:03.546096Z"
    },
    "papermill": {
     "duration": 0.022069,
     "end_time": "2025-02-14T07:52:03.548985",
     "exception": false,
     "start_time": "2025-02-14T07:52:03.526916",
     "status": "completed"
    },
    "tags": []
   },
   "outputs": [
    {
     "name": "stdout",
     "output_type": "stream",
     "text": [
      "Training data shape: (1836, 4369, 1)\n",
      "Training labels shape: (1836,)\n",
      "Test data shape: (204, 4369, 1)\n",
      "Test labels shape: (204,)\n"
     ]
    }
   ],
   "source": [
    "\n",
    "\n",
    "\n",
    "# ----------------------------------------------------------------------\n",
    "# Step 4: Verify the shapes of the datasets.\n",
    "# ----------------------------------------------------------------------\n",
    "print(f\"Training data shape: {X_train.shape}\")  # Expected: (num_train_samples, 4369, 1)\n",
    "print(f\"Training labels shape: {y_train.shape}\")  # Expected: (num_train_samples,)\n",
    "print(f\"Test data shape: {X_test.shape}\")         # Expected: (num_test_samples, 4369, 1)\n",
    "print(f\"Test labels shape: {y_test.shape}\")         # Expected: (num_test_samples,)\n"
   ]
  },
  {
   "cell_type": "code",
   "execution_count": 17,
   "id": "cfcc6560",
   "metadata": {
    "execution": {
     "iopub.execute_input": "2025-02-14T07:52:03.571073Z",
     "iopub.status.busy": "2025-02-14T07:52:03.570671Z",
     "iopub.status.idle": "2025-02-14T07:52:03.576483Z",
     "shell.execute_reply": "2025-02-14T07:52:03.575512Z"
    },
    "papermill": {
     "duration": 0.020569,
     "end_time": "2025-02-14T07:52:03.578258",
     "exception": false,
     "start_time": "2025-02-14T07:52:03.557689",
     "status": "completed"
    },
    "tags": []
   },
   "outputs": [],
   "source": [
    "def print_label_distribution(y, set_name):\n",
    "    \"\"\"Print the distribution of labels in a dataset.\"\"\"\n",
    "    print(f\"\\n{set_name} label distribution:\")\n",
    "    print(f\"- Baseline samples (0): {np.sum(y == 0)}\")\n",
    "    for damage_size in range(1, 14):\n",
    "        print(f\"- Damage size {damage_size}: {np.sum(y == damage_size)}\")"
   ]
  },
  {
   "cell_type": "code",
   "execution_count": 18,
   "id": "0cde7086",
   "metadata": {
    "execution": {
     "iopub.execute_input": "2025-02-14T07:52:03.602585Z",
     "iopub.status.busy": "2025-02-14T07:52:03.602208Z",
     "iopub.status.idle": "2025-02-14T07:52:03.611190Z",
     "shell.execute_reply": "2025-02-14T07:52:03.610436Z"
    },
    "papermill": {
     "duration": 0.022562,
     "end_time": "2025-02-14T07:52:03.612487",
     "exception": false,
     "start_time": "2025-02-14T07:52:03.589925",
     "status": "completed"
    },
    "tags": []
   },
   "outputs": [
    {
     "name": "stdout",
     "output_type": "stream",
     "text": [
      "\n",
      "Training set label distribution:\n",
      "- Baseline samples (0): 433\n",
      "- Damage size 1: 107\n",
      "- Damage size 2: 107\n",
      "- Damage size 3: 105\n",
      "- Damage size 4: 106\n",
      "- Damage size 5: 105\n",
      "- Damage size 6: 107\n",
      "- Damage size 7: 115\n",
      "- Damage size 8: 109\n",
      "- Damage size 9: 107\n",
      "- Damage size 10: 111\n",
      "- Damage size 11: 109\n",
      "- Damage size 12: 111\n",
      "- Damage size 13: 104\n",
      "\n",
      "Test set label distribution:\n",
      "- Baseline samples (0): 47\n",
      "- Damage size 1: 13\n",
      "- Damage size 2: 13\n",
      "- Damage size 3: 15\n",
      "- Damage size 4: 14\n",
      "- Damage size 5: 15\n",
      "- Damage size 6: 13\n",
      "- Damage size 7: 5\n",
      "- Damage size 8: 11\n",
      "- Damage size 9: 13\n",
      "- Damage size 10: 9\n",
      "- Damage size 11: 11\n",
      "- Damage size 12: 9\n",
      "- Damage size 13: 16\n"
     ]
    }
   ],
   "source": [
    "# Print label distribution for training and test sets\n",
    "print_label_distribution(y_train, \"Training set\")\n",
    "print_label_distribution(y_test, \"Test set\")"
   ]
  },
  {
   "cell_type": "code",
   "execution_count": 19,
   "id": "998b7725",
   "metadata": {
    "execution": {
     "iopub.execute_input": "2025-02-14T07:52:03.627688Z",
     "iopub.status.busy": "2025-02-14T07:52:03.627435Z",
     "iopub.status.idle": "2025-02-14T07:52:03.648085Z",
     "shell.execute_reply": "2025-02-14T07:52:03.647141Z"
    },
    "papermill": {
     "duration": 0.029956,
     "end_time": "2025-02-14T07:52:03.649712",
     "exception": false,
     "start_time": "2025-02-14T07:52:03.619756",
     "status": "completed"
    },
    "tags": []
   },
   "outputs": [],
   "source": [
    "# Convert input data to float32\n",
    "X_train = X_train.astype('float32')\n",
    "X_test = X_test.astype('float32')"
   ]
  },
  {
   "cell_type": "code",
   "execution_count": 20,
   "id": "1cf45d6c",
   "metadata": {
    "execution": {
     "iopub.execute_input": "2025-02-14T07:52:03.669557Z",
     "iopub.status.busy": "2025-02-14T07:52:03.669219Z",
     "iopub.status.idle": "2025-02-14T07:52:03.673246Z",
     "shell.execute_reply": "2025-02-14T07:52:03.672112Z"
    },
    "papermill": {
     "duration": 0.015077,
     "end_time": "2025-02-14T07:52:03.675052",
     "exception": false,
     "start_time": "2025-02-14T07:52:03.659975",
     "status": "completed"
    },
    "tags": []
   },
   "outputs": [],
   "source": [
    "y_train = y_train.astype('float32')\n",
    "y_test = y_test.astype('float32')"
   ]
  },
  {
   "cell_type": "code",
   "execution_count": 21,
   "id": "aa2954f7",
   "metadata": {
    "execution": {
     "iopub.execute_input": "2025-02-14T07:52:03.696513Z",
     "iopub.status.busy": "2025-02-14T07:52:03.696211Z",
     "iopub.status.idle": "2025-02-14T07:52:03.714257Z",
     "shell.execute_reply": "2025-02-14T07:52:03.713257Z"
    },
    "papermill": {
     "duration": 0.027306,
     "end_time": "2025-02-14T07:52:03.715629",
     "exception": false,
     "start_time": "2025-02-14T07:52:03.688323",
     "status": "completed"
    },
    "tags": []
   },
   "outputs": [
    {
     "name": "stdout",
     "output_type": "stream",
     "text": [
      "Min values after scaling: [-1.040155  -0.9812768 -1.        ... -1.        -0.9722817 -0.9399686]\n",
      "Max values after scaling: [1.0318567  0.94322634 1.         ... 1.         0.9312466  1.0010613 ]\n"
     ]
    }
   ],
   "source": [
    "print(\"Min values after scaling:\", np.min(X_train, axis=(1,2)))\n",
    "print(\"Max values after scaling:\", np.max(X_train, axis=(1,2)))"
   ]
  },
  {
   "cell_type": "code",
   "execution_count": 22,
   "id": "12296999",
   "metadata": {
    "execution": {
     "iopub.execute_input": "2025-02-14T07:52:03.731991Z",
     "iopub.status.busy": "2025-02-14T07:52:03.731748Z",
     "iopub.status.idle": "2025-02-14T07:52:03.736279Z",
     "shell.execute_reply": "2025-02-14T07:52:03.735575Z"
    },
    "papermill": {
     "duration": 0.014172,
     "end_time": "2025-02-14T07:52:03.737468",
     "exception": false,
     "start_time": "2025-02-14T07:52:03.723296",
     "status": "completed"
    },
    "tags": []
   },
   "outputs": [
    {
     "name": "stdout",
     "output_type": "stream",
     "text": [
      "X_train dtype: float32\n",
      "y_train dtype: float32\n"
     ]
    }
   ],
   "source": [
    "print(\"X_train dtype:\", X_train.dtype)  # Should print float32\n",
    "print(\"y_train dtype:\", y_train.dtype)  # Should print float32"
   ]
  },
  {
   "cell_type": "code",
   "execution_count": 23,
   "id": "be9f193e",
   "metadata": {
    "execution": {
     "iopub.execute_input": "2025-02-14T07:52:03.753029Z",
     "iopub.status.busy": "2025-02-14T07:52:03.752765Z",
     "iopub.status.idle": "2025-02-14T07:52:03.759862Z",
     "shell.execute_reply": "2025-02-14T07:52:03.759207Z"
    },
    "papermill": {
     "duration": 0.016277,
     "end_time": "2025-02-14T07:52:03.761114",
     "exception": false,
     "start_time": "2025-02-14T07:52:03.744837",
     "status": "completed"
    },
    "tags": []
   },
   "outputs": [
    {
     "name": "stdout",
     "output_type": "stream",
     "text": [
      "Before Normalizing training targets (first 5): [ 5.  3. 13.  1. 10.]\n",
      "Before Normalizing test targets (first 5): [7. 0. 6. 1. 8.]\n",
      "Normalized training targets (first 5): [0.3846154  0.23076923 1.         0.07692308 0.7692308 ]\n",
      "Normalized test targets (first 5): [0.53846157 0.         0.46153846 0.07692308 0.61538464]\n"
     ]
    }
   ],
   "source": [
    "import numpy as np\n",
    "\n",
    "# Compute the minimum and maximum values from the training targets.\n",
    "y_min = np.min(y_train)\n",
    "y_max = np.max(y_train)\n",
    "\n",
    "# Normalize the training and test targets.\n",
    "y_train_norm = (y_train - y_min) / (y_max - y_min)\n",
    "y_test_norm = (y_test - y_min) / (y_max - y_min)\n",
    "\n",
    "\n",
    "print(\"Before Normalizing training targets (first 5):\", y_train[:5])\n",
    "print(\"Before Normalizing test targets (first 5):\", y_test[:5])\n",
    "\n",
    "print(\"Normalized training targets (first 5):\", y_train_norm[:5])\n",
    "print(\"Normalized test targets (first 5):\", y_test_norm[:5])\n"
   ]
  },
  {
   "cell_type": "markdown",
   "id": "e80987da",
   "metadata": {
    "papermill": {
     "duration": 0.007014,
     "end_time": "2025-02-14T07:52:03.775418",
     "exception": false,
     "start_time": "2025-02-14T07:52:03.768404",
     "status": "completed"
    },
    "tags": []
   },
   "source": [
    "# 3. Model Architecture"
   ]
  },
  {
   "cell_type": "code",
   "execution_count": 24,
   "id": "8c345de4",
   "metadata": {
    "execution": {
     "iopub.execute_input": "2025-02-14T07:52:03.795667Z",
     "iopub.status.busy": "2025-02-14T07:52:03.795391Z",
     "iopub.status.idle": "2025-02-14T07:52:15.226714Z",
     "shell.execute_reply": "2025-02-14T07:52:15.225704Z"
    },
    "papermill": {
     "duration": 11.444657,
     "end_time": "2025-02-14T07:52:15.228410",
     "exception": false,
     "start_time": "2025-02-14T07:52:03.783753",
     "status": "completed"
    },
    "tags": []
   },
   "outputs": [],
   "source": [
    "import tensorflow as tf\n",
    "from tensorflow.keras import layers, models"
   ]
  },
  {
   "cell_type": "code",
   "execution_count": 25,
   "id": "3109c595",
   "metadata": {
    "execution": {
     "iopub.execute_input": "2025-02-14T07:52:15.244759Z",
     "iopub.status.busy": "2025-02-14T07:52:15.244086Z",
     "iopub.status.idle": "2025-02-14T07:52:15.248206Z",
     "shell.execute_reply": "2025-02-14T07:52:15.247442Z"
    },
    "papermill": {
     "duration": 0.013502,
     "end_time": "2025-02-14T07:52:15.249567",
     "exception": false,
     "start_time": "2025-02-14T07:52:15.236065",
     "status": "completed"
    },
    "tags": []
   },
   "outputs": [],
   "source": [
    "tf.keras.backend.set_floatx('float32')"
   ]
  },
  {
   "cell_type": "code",
   "execution_count": 26,
   "id": "a806790f",
   "metadata": {
    "execution": {
     "iopub.execute_input": "2025-02-14T07:52:15.265210Z",
     "iopub.status.busy": "2025-02-14T07:52:15.264888Z",
     "iopub.status.idle": "2025-02-14T07:52:15.268708Z",
     "shell.execute_reply": "2025-02-14T07:52:15.267933Z"
    },
    "papermill": {
     "duration": 0.013034,
     "end_time": "2025-02-14T07:52:15.269946",
     "exception": false,
     "start_time": "2025-02-14T07:52:15.256912",
     "status": "completed"
    },
    "tags": []
   },
   "outputs": [],
   "source": [
    "import tensorflow as tf\n",
    "from tensorflow import keras\n",
    "from tensorflow.keras import layers"
   ]
  },
  {
   "cell_type": "code",
   "execution_count": 27,
   "id": "e648dd0f",
   "metadata": {
    "execution": {
     "iopub.execute_input": "2025-02-14T07:52:15.285422Z",
     "iopub.status.busy": "2025-02-14T07:52:15.285098Z",
     "iopub.status.idle": "2025-02-14T07:52:16.078216Z",
     "shell.execute_reply": "2025-02-14T07:52:16.077293Z"
    },
    "papermill": {
     "duration": 0.802533,
     "end_time": "2025-02-14T07:52:16.079735",
     "exception": false,
     "start_time": "2025-02-14T07:52:15.277202",
     "status": "completed"
    },
    "tags": []
   },
   "outputs": [],
   "source": [
    "# Multi-GPU setup\n",
    "strategy = tf.distribute.MirroredStrategy()"
   ]
  },
  {
   "cell_type": "code",
   "execution_count": 28,
   "id": "64493ee0",
   "metadata": {
    "execution": {
     "iopub.execute_input": "2025-02-14T07:52:16.096007Z",
     "iopub.status.busy": "2025-02-14T07:52:16.095729Z",
     "iopub.status.idle": "2025-02-14T07:52:16.100441Z",
     "shell.execute_reply": "2025-02-14T07:52:16.099788Z"
    },
    "papermill": {
     "duration": 0.014084,
     "end_time": "2025-02-14T07:52:16.101622",
     "exception": false,
     "start_time": "2025-02-14T07:52:16.087538",
     "status": "completed"
    },
    "tags": []
   },
   "outputs": [],
   "source": [
    "# Transformer Encoder block definition remains unchanged\n",
    "def transformer_encoder(inputs, head_size, num_heads, ff_dim, dropout=0):\n",
    "    # Attention and Normalization\n",
    "    x = layers.MultiHeadAttention(\n",
    "        key_dim=head_size, num_heads=num_heads, dropout=dropout\n",
    "    )(inputs, inputs)\n",
    "    x = layers.Dropout(dropout)(x)\n",
    "    x = layers.LayerNormalization(epsilon=1e-6)(x)\n",
    "    res = x + inputs\n",
    "\n",
    "    # Feed Forward part\n",
    "    x = layers.Conv1D(filters=ff_dim, kernel_size=1, activation=\"relu\")(res)\n",
    "    x = layers.Dropout(dropout)(x)\n",
    "    x = layers.Conv1D(filters=inputs.shape[-1], kernel_size=1)(x)\n",
    "    x = layers.LayerNormalization(epsilon=1e-6)(x)\n",
    "    return x + res\n"
   ]
  },
  {
   "cell_type": "code",
   "execution_count": 29,
   "id": "51bf03ef",
   "metadata": {
    "execution": {
     "iopub.execute_input": "2025-02-14T07:52:16.117135Z",
     "iopub.status.busy": "2025-02-14T07:52:16.116901Z",
     "iopub.status.idle": "2025-02-14T07:52:16.121632Z",
     "shell.execute_reply": "2025-02-14T07:52:16.121022Z"
    },
    "papermill": {
     "duration": 0.013751,
     "end_time": "2025-02-14T07:52:16.122755",
     "exception": false,
     "start_time": "2025-02-14T07:52:16.109004",
     "status": "completed"
    },
    "tags": []
   },
   "outputs": [],
   "source": [
    "# Model building function adapted for regression\n",
    "def build_regression_model(\n",
    "    input_shape,\n",
    "    head_size,\n",
    "    num_heads,\n",
    "    ff_dim,\n",
    "    num_transformer_blocks,\n",
    "    mlp_units,\n",
    "    dropout=0,\n",
    "    mlp_dropout=0,\n",
    "):\n",
    "    inputs = keras.Input(shape=input_shape)\n",
    "    # Reshape the input to 3D (batch_size, 874, 1)\n",
    "    x = layers.Reshape((input_shape[0], 1))(inputs)\n",
    "    \n",
    "    # Apply multiple Transformer Encoder blocks\n",
    "    for _ in range(num_transformer_blocks):\n",
    "        x = transformer_encoder(x, head_size, num_heads, ff_dim, dropout)\n",
    "\n",
    "    # Flatten the tensor for the MLP part\n",
    "    x = layers.Flatten()(x)\n",
    "    \n",
    "    # MLP layers\n",
    "    for dim in mlp_units:\n",
    "        x = layers.Dense(dim, activation=\"relu\")(x)\n",
    "        x = layers.Dropout(mlp_dropout)(x)\n",
    "    \n",
    "    # Output layer for regression: Predict a single value.\n",
    "    # Using a sigmoid activation and scaling by 13 ensures outputs in [0, 13].\n",
    "    dense = layers.Dense(1, activation=\"sigmoid\")(x)\n",
    "    outputs = layers.Lambda(lambda x: 13 * x)(dense)\n",
    "    \n",
    "    return keras.Model(inputs, outputs)\n"
   ]
  },
  {
   "cell_type": "code",
   "execution_count": 30,
   "id": "07d29e87",
   "metadata": {
    "execution": {
     "iopub.execute_input": "2025-02-14T07:52:16.138030Z",
     "iopub.status.busy": "2025-02-14T07:52:16.137808Z",
     "iopub.status.idle": "2025-02-14T07:52:17.759933Z",
     "shell.execute_reply": "2025-02-14T07:52:17.759093Z"
    },
    "papermill": {
     "duration": 1.631079,
     "end_time": "2025-02-14T07:52:17.761118",
     "exception": false,
     "start_time": "2025-02-14T07:52:16.130039",
     "status": "completed"
    },
    "tags": []
   },
   "outputs": [
    {
     "data": {
      "text/html": [
       "<pre style=\"white-space:pre;overflow-x:auto;line-height:normal;font-family:Menlo,'DejaVu Sans Mono',consolas,'Courier New',monospace\"><span style=\"font-weight: bold\">Model: \"functional\"</span>\n",
       "</pre>\n"
      ],
      "text/plain": [
       "\u001b[1mModel: \"functional\"\u001b[0m\n"
      ]
     },
     "metadata": {},
     "output_type": "display_data"
    },
    {
     "data": {
      "text/html": [
       "<pre style=\"white-space:pre;overflow-x:auto;line-height:normal;font-family:Menlo,'DejaVu Sans Mono',consolas,'Courier New',monospace\">┏━━━━━━━━━━━━━━━━━━━━━━━━━━━┳━━━━━━━━━━━━━━━━━━━━━━━━┳━━━━━━━━━━━━━━━━┳━━━━━━━━━━━━━━━━━━━━━━━━┓\n",
       "┃<span style=\"font-weight: bold\"> Layer (type)              </span>┃<span style=\"font-weight: bold\"> Output Shape           </span>┃<span style=\"font-weight: bold\">        Param # </span>┃<span style=\"font-weight: bold\"> Connected to           </span>┃\n",
       "┡━━━━━━━━━━━━━━━━━━━━━━━━━━━╇━━━━━━━━━━━━━━━━━━━━━━━━╇━━━━━━━━━━━━━━━━╇━━━━━━━━━━━━━━━━━━━━━━━━┩\n",
       "│ input_layer (<span style=\"color: #0087ff; text-decoration-color: #0087ff\">InputLayer</span>)  │ (<span style=\"color: #00d7ff; text-decoration-color: #00d7ff\">None</span>, <span style=\"color: #00af00; text-decoration-color: #00af00\">874</span>)            │              <span style=\"color: #00af00; text-decoration-color: #00af00\">0</span> │ -                      │\n",
       "├───────────────────────────┼────────────────────────┼────────────────┼────────────────────────┤\n",
       "│ reshape (<span style=\"color: #0087ff; text-decoration-color: #0087ff\">Reshape</span>)         │ (<span style=\"color: #00d7ff; text-decoration-color: #00d7ff\">None</span>, <span style=\"color: #00af00; text-decoration-color: #00af00\">874</span>, <span style=\"color: #00af00; text-decoration-color: #00af00\">1</span>)         │              <span style=\"color: #00af00; text-decoration-color: #00af00\">0</span> │ input_layer[<span style=\"color: #00af00; text-decoration-color: #00af00\">0</span>][<span style=\"color: #00af00; text-decoration-color: #00af00\">0</span>]      │\n",
       "├───────────────────────────┼────────────────────────┼────────────────┼────────────────────────┤\n",
       "│ multi_head_attention      │ (<span style=\"color: #00d7ff; text-decoration-color: #00d7ff\">None</span>, <span style=\"color: #00af00; text-decoration-color: #00af00\">874</span>, <span style=\"color: #00af00; text-decoration-color: #00af00\">1</span>)         │         <span style=\"color: #00af00; text-decoration-color: #00af00\">28,673</span> │ reshape[<span style=\"color: #00af00; text-decoration-color: #00af00\">0</span>][<span style=\"color: #00af00; text-decoration-color: #00af00\">0</span>],         │\n",
       "│ (<span style=\"color: #0087ff; text-decoration-color: #0087ff\">MultiHeadAttention</span>)      │                        │                │ reshape[<span style=\"color: #00af00; text-decoration-color: #00af00\">0</span>][<span style=\"color: #00af00; text-decoration-color: #00af00\">0</span>]          │\n",
       "├───────────────────────────┼────────────────────────┼────────────────┼────────────────────────┤\n",
       "│ dropout_1 (<span style=\"color: #0087ff; text-decoration-color: #0087ff\">Dropout</span>)       │ (<span style=\"color: #00d7ff; text-decoration-color: #00d7ff\">None</span>, <span style=\"color: #00af00; text-decoration-color: #00af00\">874</span>, <span style=\"color: #00af00; text-decoration-color: #00af00\">1</span>)         │              <span style=\"color: #00af00; text-decoration-color: #00af00\">0</span> │ multi_head_attention[<span style=\"color: #00af00; text-decoration-color: #00af00\">…</span> │\n",
       "├───────────────────────────┼────────────────────────┼────────────────┼────────────────────────┤\n",
       "│ layer_normalization       │ (<span style=\"color: #00d7ff; text-decoration-color: #00d7ff\">None</span>, <span style=\"color: #00af00; text-decoration-color: #00af00\">874</span>, <span style=\"color: #00af00; text-decoration-color: #00af00\">1</span>)         │              <span style=\"color: #00af00; text-decoration-color: #00af00\">2</span> │ dropout_1[<span style=\"color: #00af00; text-decoration-color: #00af00\">0</span>][<span style=\"color: #00af00; text-decoration-color: #00af00\">0</span>]        │\n",
       "│ (<span style=\"color: #0087ff; text-decoration-color: #0087ff\">LayerNormalization</span>)      │                        │                │                        │\n",
       "├───────────────────────────┼────────────────────────┼────────────────┼────────────────────────┤\n",
       "│ add (<span style=\"color: #0087ff; text-decoration-color: #0087ff\">Add</span>)                 │ (<span style=\"color: #00d7ff; text-decoration-color: #00d7ff\">None</span>, <span style=\"color: #00af00; text-decoration-color: #00af00\">874</span>, <span style=\"color: #00af00; text-decoration-color: #00af00\">1</span>)         │              <span style=\"color: #00af00; text-decoration-color: #00af00\">0</span> │ layer_normalization[<span style=\"color: #00af00; text-decoration-color: #00af00\">0</span>… │\n",
       "│                           │                        │                │ reshape[<span style=\"color: #00af00; text-decoration-color: #00af00\">0</span>][<span style=\"color: #00af00; text-decoration-color: #00af00\">0</span>]          │\n",
       "├───────────────────────────┼────────────────────────┼────────────────┼────────────────────────┤\n",
       "│ conv1d (<span style=\"color: #0087ff; text-decoration-color: #0087ff\">Conv1D</span>)           │ (<span style=\"color: #00d7ff; text-decoration-color: #00d7ff\">None</span>, <span style=\"color: #00af00; text-decoration-color: #00af00\">874</span>, <span style=\"color: #00af00; text-decoration-color: #00af00\">128</span>)       │            <span style=\"color: #00af00; text-decoration-color: #00af00\">256</span> │ add[<span style=\"color: #00af00; text-decoration-color: #00af00\">0</span>][<span style=\"color: #00af00; text-decoration-color: #00af00\">0</span>]              │\n",
       "├───────────────────────────┼────────────────────────┼────────────────┼────────────────────────┤\n",
       "│ dropout_2 (<span style=\"color: #0087ff; text-decoration-color: #0087ff\">Dropout</span>)       │ (<span style=\"color: #00d7ff; text-decoration-color: #00d7ff\">None</span>, <span style=\"color: #00af00; text-decoration-color: #00af00\">874</span>, <span style=\"color: #00af00; text-decoration-color: #00af00\">128</span>)       │              <span style=\"color: #00af00; text-decoration-color: #00af00\">0</span> │ conv1d[<span style=\"color: #00af00; text-decoration-color: #00af00\">0</span>][<span style=\"color: #00af00; text-decoration-color: #00af00\">0</span>]           │\n",
       "├───────────────────────────┼────────────────────────┼────────────────┼────────────────────────┤\n",
       "│ conv1d_1 (<span style=\"color: #0087ff; text-decoration-color: #0087ff\">Conv1D</span>)         │ (<span style=\"color: #00d7ff; text-decoration-color: #00d7ff\">None</span>, <span style=\"color: #00af00; text-decoration-color: #00af00\">874</span>, <span style=\"color: #00af00; text-decoration-color: #00af00\">1</span>)         │            <span style=\"color: #00af00; text-decoration-color: #00af00\">129</span> │ dropout_2[<span style=\"color: #00af00; text-decoration-color: #00af00\">0</span>][<span style=\"color: #00af00; text-decoration-color: #00af00\">0</span>]        │\n",
       "├───────────────────────────┼────────────────────────┼────────────────┼────────────────────────┤\n",
       "│ layer_normalization_1     │ (<span style=\"color: #00d7ff; text-decoration-color: #00d7ff\">None</span>, <span style=\"color: #00af00; text-decoration-color: #00af00\">874</span>, <span style=\"color: #00af00; text-decoration-color: #00af00\">1</span>)         │              <span style=\"color: #00af00; text-decoration-color: #00af00\">2</span> │ conv1d_1[<span style=\"color: #00af00; text-decoration-color: #00af00\">0</span>][<span style=\"color: #00af00; text-decoration-color: #00af00\">0</span>]         │\n",
       "│ (<span style=\"color: #0087ff; text-decoration-color: #0087ff\">LayerNormalization</span>)      │                        │                │                        │\n",
       "├───────────────────────────┼────────────────────────┼────────────────┼────────────────────────┤\n",
       "│ add_1 (<span style=\"color: #0087ff; text-decoration-color: #0087ff\">Add</span>)               │ (<span style=\"color: #00d7ff; text-decoration-color: #00d7ff\">None</span>, <span style=\"color: #00af00; text-decoration-color: #00af00\">874</span>, <span style=\"color: #00af00; text-decoration-color: #00af00\">1</span>)         │              <span style=\"color: #00af00; text-decoration-color: #00af00\">0</span> │ layer_normalization_1… │\n",
       "│                           │                        │                │ add[<span style=\"color: #00af00; text-decoration-color: #00af00\">0</span>][<span style=\"color: #00af00; text-decoration-color: #00af00\">0</span>]              │\n",
       "├───────────────────────────┼────────────────────────┼────────────────┼────────────────────────┤\n",
       "│ multi_head_attention_1    │ (<span style=\"color: #00d7ff; text-decoration-color: #00d7ff\">None</span>, <span style=\"color: #00af00; text-decoration-color: #00af00\">874</span>, <span style=\"color: #00af00; text-decoration-color: #00af00\">1</span>)         │         <span style=\"color: #00af00; text-decoration-color: #00af00\">28,673</span> │ add_1[<span style=\"color: #00af00; text-decoration-color: #00af00\">0</span>][<span style=\"color: #00af00; text-decoration-color: #00af00\">0</span>],           │\n",
       "│ (<span style=\"color: #0087ff; text-decoration-color: #0087ff\">MultiHeadAttention</span>)      │                        │                │ add_1[<span style=\"color: #00af00; text-decoration-color: #00af00\">0</span>][<span style=\"color: #00af00; text-decoration-color: #00af00\">0</span>]            │\n",
       "├───────────────────────────┼────────────────────────┼────────────────┼────────────────────────┤\n",
       "│ dropout_4 (<span style=\"color: #0087ff; text-decoration-color: #0087ff\">Dropout</span>)       │ (<span style=\"color: #00d7ff; text-decoration-color: #00d7ff\">None</span>, <span style=\"color: #00af00; text-decoration-color: #00af00\">874</span>, <span style=\"color: #00af00; text-decoration-color: #00af00\">1</span>)         │              <span style=\"color: #00af00; text-decoration-color: #00af00\">0</span> │ multi_head_attention_… │\n",
       "├───────────────────────────┼────────────────────────┼────────────────┼────────────────────────┤\n",
       "│ layer_normalization_2     │ (<span style=\"color: #00d7ff; text-decoration-color: #00d7ff\">None</span>, <span style=\"color: #00af00; text-decoration-color: #00af00\">874</span>, <span style=\"color: #00af00; text-decoration-color: #00af00\">1</span>)         │              <span style=\"color: #00af00; text-decoration-color: #00af00\">2</span> │ dropout_4[<span style=\"color: #00af00; text-decoration-color: #00af00\">0</span>][<span style=\"color: #00af00; text-decoration-color: #00af00\">0</span>]        │\n",
       "│ (<span style=\"color: #0087ff; text-decoration-color: #0087ff\">LayerNormalization</span>)      │                        │                │                        │\n",
       "├───────────────────────────┼────────────────────────┼────────────────┼────────────────────────┤\n",
       "│ add_2 (<span style=\"color: #0087ff; text-decoration-color: #0087ff\">Add</span>)               │ (<span style=\"color: #00d7ff; text-decoration-color: #00d7ff\">None</span>, <span style=\"color: #00af00; text-decoration-color: #00af00\">874</span>, <span style=\"color: #00af00; text-decoration-color: #00af00\">1</span>)         │              <span style=\"color: #00af00; text-decoration-color: #00af00\">0</span> │ layer_normalization_2… │\n",
       "│                           │                        │                │ add_1[<span style=\"color: #00af00; text-decoration-color: #00af00\">0</span>][<span style=\"color: #00af00; text-decoration-color: #00af00\">0</span>]            │\n",
       "├───────────────────────────┼────────────────────────┼────────────────┼────────────────────────┤\n",
       "│ conv1d_2 (<span style=\"color: #0087ff; text-decoration-color: #0087ff\">Conv1D</span>)         │ (<span style=\"color: #00d7ff; text-decoration-color: #00d7ff\">None</span>, <span style=\"color: #00af00; text-decoration-color: #00af00\">874</span>, <span style=\"color: #00af00; text-decoration-color: #00af00\">128</span>)       │            <span style=\"color: #00af00; text-decoration-color: #00af00\">256</span> │ add_2[<span style=\"color: #00af00; text-decoration-color: #00af00\">0</span>][<span style=\"color: #00af00; text-decoration-color: #00af00\">0</span>]            │\n",
       "├───────────────────────────┼────────────────────────┼────────────────┼────────────────────────┤\n",
       "│ dropout_5 (<span style=\"color: #0087ff; text-decoration-color: #0087ff\">Dropout</span>)       │ (<span style=\"color: #00d7ff; text-decoration-color: #00d7ff\">None</span>, <span style=\"color: #00af00; text-decoration-color: #00af00\">874</span>, <span style=\"color: #00af00; text-decoration-color: #00af00\">128</span>)       │              <span style=\"color: #00af00; text-decoration-color: #00af00\">0</span> │ conv1d_2[<span style=\"color: #00af00; text-decoration-color: #00af00\">0</span>][<span style=\"color: #00af00; text-decoration-color: #00af00\">0</span>]         │\n",
       "├───────────────────────────┼────────────────────────┼────────────────┼────────────────────────┤\n",
       "│ conv1d_3 (<span style=\"color: #0087ff; text-decoration-color: #0087ff\">Conv1D</span>)         │ (<span style=\"color: #00d7ff; text-decoration-color: #00d7ff\">None</span>, <span style=\"color: #00af00; text-decoration-color: #00af00\">874</span>, <span style=\"color: #00af00; text-decoration-color: #00af00\">1</span>)         │            <span style=\"color: #00af00; text-decoration-color: #00af00\">129</span> │ dropout_5[<span style=\"color: #00af00; text-decoration-color: #00af00\">0</span>][<span style=\"color: #00af00; text-decoration-color: #00af00\">0</span>]        │\n",
       "├───────────────────────────┼────────────────────────┼────────────────┼────────────────────────┤\n",
       "│ layer_normalization_3     │ (<span style=\"color: #00d7ff; text-decoration-color: #00d7ff\">None</span>, <span style=\"color: #00af00; text-decoration-color: #00af00\">874</span>, <span style=\"color: #00af00; text-decoration-color: #00af00\">1</span>)         │              <span style=\"color: #00af00; text-decoration-color: #00af00\">2</span> │ conv1d_3[<span style=\"color: #00af00; text-decoration-color: #00af00\">0</span>][<span style=\"color: #00af00; text-decoration-color: #00af00\">0</span>]         │\n",
       "│ (<span style=\"color: #0087ff; text-decoration-color: #0087ff\">LayerNormalization</span>)      │                        │                │                        │\n",
       "├───────────────────────────┼────────────────────────┼────────────────┼────────────────────────┤\n",
       "│ add_3 (<span style=\"color: #0087ff; text-decoration-color: #0087ff\">Add</span>)               │ (<span style=\"color: #00d7ff; text-decoration-color: #00d7ff\">None</span>, <span style=\"color: #00af00; text-decoration-color: #00af00\">874</span>, <span style=\"color: #00af00; text-decoration-color: #00af00\">1</span>)         │              <span style=\"color: #00af00; text-decoration-color: #00af00\">0</span> │ layer_normalization_3… │\n",
       "│                           │                        │                │ add_2[<span style=\"color: #00af00; text-decoration-color: #00af00\">0</span>][<span style=\"color: #00af00; text-decoration-color: #00af00\">0</span>]            │\n",
       "├───────────────────────────┼────────────────────────┼────────────────┼────────────────────────┤\n",
       "│ multi_head_attention_2    │ (<span style=\"color: #00d7ff; text-decoration-color: #00d7ff\">None</span>, <span style=\"color: #00af00; text-decoration-color: #00af00\">874</span>, <span style=\"color: #00af00; text-decoration-color: #00af00\">1</span>)         │         <span style=\"color: #00af00; text-decoration-color: #00af00\">28,673</span> │ add_3[<span style=\"color: #00af00; text-decoration-color: #00af00\">0</span>][<span style=\"color: #00af00; text-decoration-color: #00af00\">0</span>],           │\n",
       "│ (<span style=\"color: #0087ff; text-decoration-color: #0087ff\">MultiHeadAttention</span>)      │                        │                │ add_3[<span style=\"color: #00af00; text-decoration-color: #00af00\">0</span>][<span style=\"color: #00af00; text-decoration-color: #00af00\">0</span>]            │\n",
       "├───────────────────────────┼────────────────────────┼────────────────┼────────────────────────┤\n",
       "│ dropout_7 (<span style=\"color: #0087ff; text-decoration-color: #0087ff\">Dropout</span>)       │ (<span style=\"color: #00d7ff; text-decoration-color: #00d7ff\">None</span>, <span style=\"color: #00af00; text-decoration-color: #00af00\">874</span>, <span style=\"color: #00af00; text-decoration-color: #00af00\">1</span>)         │              <span style=\"color: #00af00; text-decoration-color: #00af00\">0</span> │ multi_head_attention_… │\n",
       "├───────────────────────────┼────────────────────────┼────────────────┼────────────────────────┤\n",
       "│ layer_normalization_4     │ (<span style=\"color: #00d7ff; text-decoration-color: #00d7ff\">None</span>, <span style=\"color: #00af00; text-decoration-color: #00af00\">874</span>, <span style=\"color: #00af00; text-decoration-color: #00af00\">1</span>)         │              <span style=\"color: #00af00; text-decoration-color: #00af00\">2</span> │ dropout_7[<span style=\"color: #00af00; text-decoration-color: #00af00\">0</span>][<span style=\"color: #00af00; text-decoration-color: #00af00\">0</span>]        │\n",
       "│ (<span style=\"color: #0087ff; text-decoration-color: #0087ff\">LayerNormalization</span>)      │                        │                │                        │\n",
       "├───────────────────────────┼────────────────────────┼────────────────┼────────────────────────┤\n",
       "│ add_4 (<span style=\"color: #0087ff; text-decoration-color: #0087ff\">Add</span>)               │ (<span style=\"color: #00d7ff; text-decoration-color: #00d7ff\">None</span>, <span style=\"color: #00af00; text-decoration-color: #00af00\">874</span>, <span style=\"color: #00af00; text-decoration-color: #00af00\">1</span>)         │              <span style=\"color: #00af00; text-decoration-color: #00af00\">0</span> │ layer_normalization_4… │\n",
       "│                           │                        │                │ add_3[<span style=\"color: #00af00; text-decoration-color: #00af00\">0</span>][<span style=\"color: #00af00; text-decoration-color: #00af00\">0</span>]            │\n",
       "├───────────────────────────┼────────────────────────┼────────────────┼────────────────────────┤\n",
       "│ conv1d_4 (<span style=\"color: #0087ff; text-decoration-color: #0087ff\">Conv1D</span>)         │ (<span style=\"color: #00d7ff; text-decoration-color: #00d7ff\">None</span>, <span style=\"color: #00af00; text-decoration-color: #00af00\">874</span>, <span style=\"color: #00af00; text-decoration-color: #00af00\">128</span>)       │            <span style=\"color: #00af00; text-decoration-color: #00af00\">256</span> │ add_4[<span style=\"color: #00af00; text-decoration-color: #00af00\">0</span>][<span style=\"color: #00af00; text-decoration-color: #00af00\">0</span>]            │\n",
       "├───────────────────────────┼────────────────────────┼────────────────┼────────────────────────┤\n",
       "│ dropout_8 (<span style=\"color: #0087ff; text-decoration-color: #0087ff\">Dropout</span>)       │ (<span style=\"color: #00d7ff; text-decoration-color: #00d7ff\">None</span>, <span style=\"color: #00af00; text-decoration-color: #00af00\">874</span>, <span style=\"color: #00af00; text-decoration-color: #00af00\">128</span>)       │              <span style=\"color: #00af00; text-decoration-color: #00af00\">0</span> │ conv1d_4[<span style=\"color: #00af00; text-decoration-color: #00af00\">0</span>][<span style=\"color: #00af00; text-decoration-color: #00af00\">0</span>]         │\n",
       "├───────────────────────────┼────────────────────────┼────────────────┼────────────────────────┤\n",
       "│ conv1d_5 (<span style=\"color: #0087ff; text-decoration-color: #0087ff\">Conv1D</span>)         │ (<span style=\"color: #00d7ff; text-decoration-color: #00d7ff\">None</span>, <span style=\"color: #00af00; text-decoration-color: #00af00\">874</span>, <span style=\"color: #00af00; text-decoration-color: #00af00\">1</span>)         │            <span style=\"color: #00af00; text-decoration-color: #00af00\">129</span> │ dropout_8[<span style=\"color: #00af00; text-decoration-color: #00af00\">0</span>][<span style=\"color: #00af00; text-decoration-color: #00af00\">0</span>]        │\n",
       "├───────────────────────────┼────────────────────────┼────────────────┼────────────────────────┤\n",
       "│ layer_normalization_5     │ (<span style=\"color: #00d7ff; text-decoration-color: #00d7ff\">None</span>, <span style=\"color: #00af00; text-decoration-color: #00af00\">874</span>, <span style=\"color: #00af00; text-decoration-color: #00af00\">1</span>)         │              <span style=\"color: #00af00; text-decoration-color: #00af00\">2</span> │ conv1d_5[<span style=\"color: #00af00; text-decoration-color: #00af00\">0</span>][<span style=\"color: #00af00; text-decoration-color: #00af00\">0</span>]         │\n",
       "│ (<span style=\"color: #0087ff; text-decoration-color: #0087ff\">LayerNormalization</span>)      │                        │                │                        │\n",
       "├───────────────────────────┼────────────────────────┼────────────────┼────────────────────────┤\n",
       "│ add_5 (<span style=\"color: #0087ff; text-decoration-color: #0087ff\">Add</span>)               │ (<span style=\"color: #00d7ff; text-decoration-color: #00d7ff\">None</span>, <span style=\"color: #00af00; text-decoration-color: #00af00\">874</span>, <span style=\"color: #00af00; text-decoration-color: #00af00\">1</span>)         │              <span style=\"color: #00af00; text-decoration-color: #00af00\">0</span> │ layer_normalization_5… │\n",
       "│                           │                        │                │ add_4[<span style=\"color: #00af00; text-decoration-color: #00af00\">0</span>][<span style=\"color: #00af00; text-decoration-color: #00af00\">0</span>]            │\n",
       "├───────────────────────────┼────────────────────────┼────────────────┼────────────────────────┤\n",
       "│ multi_head_attention_3    │ (<span style=\"color: #00d7ff; text-decoration-color: #00d7ff\">None</span>, <span style=\"color: #00af00; text-decoration-color: #00af00\">874</span>, <span style=\"color: #00af00; text-decoration-color: #00af00\">1</span>)         │         <span style=\"color: #00af00; text-decoration-color: #00af00\">28,673</span> │ add_5[<span style=\"color: #00af00; text-decoration-color: #00af00\">0</span>][<span style=\"color: #00af00; text-decoration-color: #00af00\">0</span>],           │\n",
       "│ (<span style=\"color: #0087ff; text-decoration-color: #0087ff\">MultiHeadAttention</span>)      │                        │                │ add_5[<span style=\"color: #00af00; text-decoration-color: #00af00\">0</span>][<span style=\"color: #00af00; text-decoration-color: #00af00\">0</span>]            │\n",
       "├───────────────────────────┼────────────────────────┼────────────────┼────────────────────────┤\n",
       "│ dropout_10 (<span style=\"color: #0087ff; text-decoration-color: #0087ff\">Dropout</span>)      │ (<span style=\"color: #00d7ff; text-decoration-color: #00d7ff\">None</span>, <span style=\"color: #00af00; text-decoration-color: #00af00\">874</span>, <span style=\"color: #00af00; text-decoration-color: #00af00\">1</span>)         │              <span style=\"color: #00af00; text-decoration-color: #00af00\">0</span> │ multi_head_attention_… │\n",
       "├───────────────────────────┼────────────────────────┼────────────────┼────────────────────────┤\n",
       "│ layer_normalization_6     │ (<span style=\"color: #00d7ff; text-decoration-color: #00d7ff\">None</span>, <span style=\"color: #00af00; text-decoration-color: #00af00\">874</span>, <span style=\"color: #00af00; text-decoration-color: #00af00\">1</span>)         │              <span style=\"color: #00af00; text-decoration-color: #00af00\">2</span> │ dropout_10[<span style=\"color: #00af00; text-decoration-color: #00af00\">0</span>][<span style=\"color: #00af00; text-decoration-color: #00af00\">0</span>]       │\n",
       "│ (<span style=\"color: #0087ff; text-decoration-color: #0087ff\">LayerNormalization</span>)      │                        │                │                        │\n",
       "├───────────────────────────┼────────────────────────┼────────────────┼────────────────────────┤\n",
       "│ add_6 (<span style=\"color: #0087ff; text-decoration-color: #0087ff\">Add</span>)               │ (<span style=\"color: #00d7ff; text-decoration-color: #00d7ff\">None</span>, <span style=\"color: #00af00; text-decoration-color: #00af00\">874</span>, <span style=\"color: #00af00; text-decoration-color: #00af00\">1</span>)         │              <span style=\"color: #00af00; text-decoration-color: #00af00\">0</span> │ layer_normalization_6… │\n",
       "│                           │                        │                │ add_5[<span style=\"color: #00af00; text-decoration-color: #00af00\">0</span>][<span style=\"color: #00af00; text-decoration-color: #00af00\">0</span>]            │\n",
       "├───────────────────────────┼────────────────────────┼────────────────┼────────────────────────┤\n",
       "│ conv1d_6 (<span style=\"color: #0087ff; text-decoration-color: #0087ff\">Conv1D</span>)         │ (<span style=\"color: #00d7ff; text-decoration-color: #00d7ff\">None</span>, <span style=\"color: #00af00; text-decoration-color: #00af00\">874</span>, <span style=\"color: #00af00; text-decoration-color: #00af00\">128</span>)       │            <span style=\"color: #00af00; text-decoration-color: #00af00\">256</span> │ add_6[<span style=\"color: #00af00; text-decoration-color: #00af00\">0</span>][<span style=\"color: #00af00; text-decoration-color: #00af00\">0</span>]            │\n",
       "├───────────────────────────┼────────────────────────┼────────────────┼────────────────────────┤\n",
       "│ dropout_11 (<span style=\"color: #0087ff; text-decoration-color: #0087ff\">Dropout</span>)      │ (<span style=\"color: #00d7ff; text-decoration-color: #00d7ff\">None</span>, <span style=\"color: #00af00; text-decoration-color: #00af00\">874</span>, <span style=\"color: #00af00; text-decoration-color: #00af00\">128</span>)       │              <span style=\"color: #00af00; text-decoration-color: #00af00\">0</span> │ conv1d_6[<span style=\"color: #00af00; text-decoration-color: #00af00\">0</span>][<span style=\"color: #00af00; text-decoration-color: #00af00\">0</span>]         │\n",
       "├───────────────────────────┼────────────────────────┼────────────────┼────────────────────────┤\n",
       "│ conv1d_7 (<span style=\"color: #0087ff; text-decoration-color: #0087ff\">Conv1D</span>)         │ (<span style=\"color: #00d7ff; text-decoration-color: #00d7ff\">None</span>, <span style=\"color: #00af00; text-decoration-color: #00af00\">874</span>, <span style=\"color: #00af00; text-decoration-color: #00af00\">1</span>)         │            <span style=\"color: #00af00; text-decoration-color: #00af00\">129</span> │ dropout_11[<span style=\"color: #00af00; text-decoration-color: #00af00\">0</span>][<span style=\"color: #00af00; text-decoration-color: #00af00\">0</span>]       │\n",
       "├───────────────────────────┼────────────────────────┼────────────────┼────────────────────────┤\n",
       "│ layer_normalization_7     │ (<span style=\"color: #00d7ff; text-decoration-color: #00d7ff\">None</span>, <span style=\"color: #00af00; text-decoration-color: #00af00\">874</span>, <span style=\"color: #00af00; text-decoration-color: #00af00\">1</span>)         │              <span style=\"color: #00af00; text-decoration-color: #00af00\">2</span> │ conv1d_7[<span style=\"color: #00af00; text-decoration-color: #00af00\">0</span>][<span style=\"color: #00af00; text-decoration-color: #00af00\">0</span>]         │\n",
       "│ (<span style=\"color: #0087ff; text-decoration-color: #0087ff\">LayerNormalization</span>)      │                        │                │                        │\n",
       "├───────────────────────────┼────────────────────────┼────────────────┼────────────────────────┤\n",
       "│ add_7 (<span style=\"color: #0087ff; text-decoration-color: #0087ff\">Add</span>)               │ (<span style=\"color: #00d7ff; text-decoration-color: #00d7ff\">None</span>, <span style=\"color: #00af00; text-decoration-color: #00af00\">874</span>, <span style=\"color: #00af00; text-decoration-color: #00af00\">1</span>)         │              <span style=\"color: #00af00; text-decoration-color: #00af00\">0</span> │ layer_normalization_7… │\n",
       "│                           │                        │                │ add_6[<span style=\"color: #00af00; text-decoration-color: #00af00\">0</span>][<span style=\"color: #00af00; text-decoration-color: #00af00\">0</span>]            │\n",
       "├───────────────────────────┼────────────────────────┼────────────────┼────────────────────────┤\n",
       "│ flatten (<span style=\"color: #0087ff; text-decoration-color: #0087ff\">Flatten</span>)         │ (<span style=\"color: #00d7ff; text-decoration-color: #00d7ff\">None</span>, <span style=\"color: #00af00; text-decoration-color: #00af00\">874</span>)            │              <span style=\"color: #00af00; text-decoration-color: #00af00\">0</span> │ add_7[<span style=\"color: #00af00; text-decoration-color: #00af00\">0</span>][<span style=\"color: #00af00; text-decoration-color: #00af00\">0</span>]            │\n",
       "├───────────────────────────┼────────────────────────┼────────────────┼────────────────────────┤\n",
       "│ dense (<span style=\"color: #0087ff; text-decoration-color: #0087ff\">Dense</span>)             │ (<span style=\"color: #00d7ff; text-decoration-color: #00d7ff\">None</span>, <span style=\"color: #00af00; text-decoration-color: #00af00\">256</span>)            │        <span style=\"color: #00af00; text-decoration-color: #00af00\">224,000</span> │ flatten[<span style=\"color: #00af00; text-decoration-color: #00af00\">0</span>][<span style=\"color: #00af00; text-decoration-color: #00af00\">0</span>]          │\n",
       "├───────────────────────────┼────────────────────────┼────────────────┼────────────────────────┤\n",
       "│ dropout_12 (<span style=\"color: #0087ff; text-decoration-color: #0087ff\">Dropout</span>)      │ (<span style=\"color: #00d7ff; text-decoration-color: #00d7ff\">None</span>, <span style=\"color: #00af00; text-decoration-color: #00af00\">256</span>)            │              <span style=\"color: #00af00; text-decoration-color: #00af00\">0</span> │ dense[<span style=\"color: #00af00; text-decoration-color: #00af00\">0</span>][<span style=\"color: #00af00; text-decoration-color: #00af00\">0</span>]            │\n",
       "├───────────────────────────┼────────────────────────┼────────────────┼────────────────────────┤\n",
       "│ dense_1 (<span style=\"color: #0087ff; text-decoration-color: #0087ff\">Dense</span>)           │ (<span style=\"color: #00d7ff; text-decoration-color: #00d7ff\">None</span>, <span style=\"color: #00af00; text-decoration-color: #00af00\">1</span>)              │            <span style=\"color: #00af00; text-decoration-color: #00af00\">257</span> │ dropout_12[<span style=\"color: #00af00; text-decoration-color: #00af00\">0</span>][<span style=\"color: #00af00; text-decoration-color: #00af00\">0</span>]       │\n",
       "├───────────────────────────┼────────────────────────┼────────────────┼────────────────────────┤\n",
       "│ lambda (<span style=\"color: #0087ff; text-decoration-color: #0087ff\">Lambda</span>)           │ (<span style=\"color: #00d7ff; text-decoration-color: #00d7ff\">None</span>, <span style=\"color: #00af00; text-decoration-color: #00af00\">1</span>)              │              <span style=\"color: #00af00; text-decoration-color: #00af00\">0</span> │ dense_1[<span style=\"color: #00af00; text-decoration-color: #00af00\">0</span>][<span style=\"color: #00af00; text-decoration-color: #00af00\">0</span>]          │\n",
       "└───────────────────────────┴────────────────────────┴────────────────┴────────────────────────┘\n",
       "</pre>\n"
      ],
      "text/plain": [
       "┏━━━━━━━━━━━━━━━━━━━━━━━━━━━┳━━━━━━━━━━━━━━━━━━━━━━━━┳━━━━━━━━━━━━━━━━┳━━━━━━━━━━━━━━━━━━━━━━━━┓\n",
       "┃\u001b[1m \u001b[0m\u001b[1mLayer (type)             \u001b[0m\u001b[1m \u001b[0m┃\u001b[1m \u001b[0m\u001b[1mOutput Shape          \u001b[0m\u001b[1m \u001b[0m┃\u001b[1m \u001b[0m\u001b[1m       Param #\u001b[0m\u001b[1m \u001b[0m┃\u001b[1m \u001b[0m\u001b[1mConnected to          \u001b[0m\u001b[1m \u001b[0m┃\n",
       "┡━━━━━━━━━━━━━━━━━━━━━━━━━━━╇━━━━━━━━━━━━━━━━━━━━━━━━╇━━━━━━━━━━━━━━━━╇━━━━━━━━━━━━━━━━━━━━━━━━┩\n",
       "│ input_layer (\u001b[38;5;33mInputLayer\u001b[0m)  │ (\u001b[38;5;45mNone\u001b[0m, \u001b[38;5;34m874\u001b[0m)            │              \u001b[38;5;34m0\u001b[0m │ -                      │\n",
       "├───────────────────────────┼────────────────────────┼────────────────┼────────────────────────┤\n",
       "│ reshape (\u001b[38;5;33mReshape\u001b[0m)         │ (\u001b[38;5;45mNone\u001b[0m, \u001b[38;5;34m874\u001b[0m, \u001b[38;5;34m1\u001b[0m)         │              \u001b[38;5;34m0\u001b[0m │ input_layer[\u001b[38;5;34m0\u001b[0m][\u001b[38;5;34m0\u001b[0m]      │\n",
       "├───────────────────────────┼────────────────────────┼────────────────┼────────────────────────┤\n",
       "│ multi_head_attention      │ (\u001b[38;5;45mNone\u001b[0m, \u001b[38;5;34m874\u001b[0m, \u001b[38;5;34m1\u001b[0m)         │         \u001b[38;5;34m28,673\u001b[0m │ reshape[\u001b[38;5;34m0\u001b[0m][\u001b[38;5;34m0\u001b[0m],         │\n",
       "│ (\u001b[38;5;33mMultiHeadAttention\u001b[0m)      │                        │                │ reshape[\u001b[38;5;34m0\u001b[0m][\u001b[38;5;34m0\u001b[0m]          │\n",
       "├───────────────────────────┼────────────────────────┼────────────────┼────────────────────────┤\n",
       "│ dropout_1 (\u001b[38;5;33mDropout\u001b[0m)       │ (\u001b[38;5;45mNone\u001b[0m, \u001b[38;5;34m874\u001b[0m, \u001b[38;5;34m1\u001b[0m)         │              \u001b[38;5;34m0\u001b[0m │ multi_head_attention[\u001b[38;5;34m…\u001b[0m │\n",
       "├───────────────────────────┼────────────────────────┼────────────────┼────────────────────────┤\n",
       "│ layer_normalization       │ (\u001b[38;5;45mNone\u001b[0m, \u001b[38;5;34m874\u001b[0m, \u001b[38;5;34m1\u001b[0m)         │              \u001b[38;5;34m2\u001b[0m │ dropout_1[\u001b[38;5;34m0\u001b[0m][\u001b[38;5;34m0\u001b[0m]        │\n",
       "│ (\u001b[38;5;33mLayerNormalization\u001b[0m)      │                        │                │                        │\n",
       "├───────────────────────────┼────────────────────────┼────────────────┼────────────────────────┤\n",
       "│ add (\u001b[38;5;33mAdd\u001b[0m)                 │ (\u001b[38;5;45mNone\u001b[0m, \u001b[38;5;34m874\u001b[0m, \u001b[38;5;34m1\u001b[0m)         │              \u001b[38;5;34m0\u001b[0m │ layer_normalization[\u001b[38;5;34m0\u001b[0m… │\n",
       "│                           │                        │                │ reshape[\u001b[38;5;34m0\u001b[0m][\u001b[38;5;34m0\u001b[0m]          │\n",
       "├───────────────────────────┼────────────────────────┼────────────────┼────────────────────────┤\n",
       "│ conv1d (\u001b[38;5;33mConv1D\u001b[0m)           │ (\u001b[38;5;45mNone\u001b[0m, \u001b[38;5;34m874\u001b[0m, \u001b[38;5;34m128\u001b[0m)       │            \u001b[38;5;34m256\u001b[0m │ add[\u001b[38;5;34m0\u001b[0m][\u001b[38;5;34m0\u001b[0m]              │\n",
       "├───────────────────────────┼────────────────────────┼────────────────┼────────────────────────┤\n",
       "│ dropout_2 (\u001b[38;5;33mDropout\u001b[0m)       │ (\u001b[38;5;45mNone\u001b[0m, \u001b[38;5;34m874\u001b[0m, \u001b[38;5;34m128\u001b[0m)       │              \u001b[38;5;34m0\u001b[0m │ conv1d[\u001b[38;5;34m0\u001b[0m][\u001b[38;5;34m0\u001b[0m]           │\n",
       "├───────────────────────────┼────────────────────────┼────────────────┼────────────────────────┤\n",
       "│ conv1d_1 (\u001b[38;5;33mConv1D\u001b[0m)         │ (\u001b[38;5;45mNone\u001b[0m, \u001b[38;5;34m874\u001b[0m, \u001b[38;5;34m1\u001b[0m)         │            \u001b[38;5;34m129\u001b[0m │ dropout_2[\u001b[38;5;34m0\u001b[0m][\u001b[38;5;34m0\u001b[0m]        │\n",
       "├───────────────────────────┼────────────────────────┼────────────────┼────────────────────────┤\n",
       "│ layer_normalization_1     │ (\u001b[38;5;45mNone\u001b[0m, \u001b[38;5;34m874\u001b[0m, \u001b[38;5;34m1\u001b[0m)         │              \u001b[38;5;34m2\u001b[0m │ conv1d_1[\u001b[38;5;34m0\u001b[0m][\u001b[38;5;34m0\u001b[0m]         │\n",
       "│ (\u001b[38;5;33mLayerNormalization\u001b[0m)      │                        │                │                        │\n",
       "├───────────────────────────┼────────────────────────┼────────────────┼────────────────────────┤\n",
       "│ add_1 (\u001b[38;5;33mAdd\u001b[0m)               │ (\u001b[38;5;45mNone\u001b[0m, \u001b[38;5;34m874\u001b[0m, \u001b[38;5;34m1\u001b[0m)         │              \u001b[38;5;34m0\u001b[0m │ layer_normalization_1… │\n",
       "│                           │                        │                │ add[\u001b[38;5;34m0\u001b[0m][\u001b[38;5;34m0\u001b[0m]              │\n",
       "├───────────────────────────┼────────────────────────┼────────────────┼────────────────────────┤\n",
       "│ multi_head_attention_1    │ (\u001b[38;5;45mNone\u001b[0m, \u001b[38;5;34m874\u001b[0m, \u001b[38;5;34m1\u001b[0m)         │         \u001b[38;5;34m28,673\u001b[0m │ add_1[\u001b[38;5;34m0\u001b[0m][\u001b[38;5;34m0\u001b[0m],           │\n",
       "│ (\u001b[38;5;33mMultiHeadAttention\u001b[0m)      │                        │                │ add_1[\u001b[38;5;34m0\u001b[0m][\u001b[38;5;34m0\u001b[0m]            │\n",
       "├───────────────────────────┼────────────────────────┼────────────────┼────────────────────────┤\n",
       "│ dropout_4 (\u001b[38;5;33mDropout\u001b[0m)       │ (\u001b[38;5;45mNone\u001b[0m, \u001b[38;5;34m874\u001b[0m, \u001b[38;5;34m1\u001b[0m)         │              \u001b[38;5;34m0\u001b[0m │ multi_head_attention_… │\n",
       "├───────────────────────────┼────────────────────────┼────────────────┼────────────────────────┤\n",
       "│ layer_normalization_2     │ (\u001b[38;5;45mNone\u001b[0m, \u001b[38;5;34m874\u001b[0m, \u001b[38;5;34m1\u001b[0m)         │              \u001b[38;5;34m2\u001b[0m │ dropout_4[\u001b[38;5;34m0\u001b[0m][\u001b[38;5;34m0\u001b[0m]        │\n",
       "│ (\u001b[38;5;33mLayerNormalization\u001b[0m)      │                        │                │                        │\n",
       "├───────────────────────────┼────────────────────────┼────────────────┼────────────────────────┤\n",
       "│ add_2 (\u001b[38;5;33mAdd\u001b[0m)               │ (\u001b[38;5;45mNone\u001b[0m, \u001b[38;5;34m874\u001b[0m, \u001b[38;5;34m1\u001b[0m)         │              \u001b[38;5;34m0\u001b[0m │ layer_normalization_2… │\n",
       "│                           │                        │                │ add_1[\u001b[38;5;34m0\u001b[0m][\u001b[38;5;34m0\u001b[0m]            │\n",
       "├───────────────────────────┼────────────────────────┼────────────────┼────────────────────────┤\n",
       "│ conv1d_2 (\u001b[38;5;33mConv1D\u001b[0m)         │ (\u001b[38;5;45mNone\u001b[0m, \u001b[38;5;34m874\u001b[0m, \u001b[38;5;34m128\u001b[0m)       │            \u001b[38;5;34m256\u001b[0m │ add_2[\u001b[38;5;34m0\u001b[0m][\u001b[38;5;34m0\u001b[0m]            │\n",
       "├───────────────────────────┼────────────────────────┼────────────────┼────────────────────────┤\n",
       "│ dropout_5 (\u001b[38;5;33mDropout\u001b[0m)       │ (\u001b[38;5;45mNone\u001b[0m, \u001b[38;5;34m874\u001b[0m, \u001b[38;5;34m128\u001b[0m)       │              \u001b[38;5;34m0\u001b[0m │ conv1d_2[\u001b[38;5;34m0\u001b[0m][\u001b[38;5;34m0\u001b[0m]         │\n",
       "├───────────────────────────┼────────────────────────┼────────────────┼────────────────────────┤\n",
       "│ conv1d_3 (\u001b[38;5;33mConv1D\u001b[0m)         │ (\u001b[38;5;45mNone\u001b[0m, \u001b[38;5;34m874\u001b[0m, \u001b[38;5;34m1\u001b[0m)         │            \u001b[38;5;34m129\u001b[0m │ dropout_5[\u001b[38;5;34m0\u001b[0m][\u001b[38;5;34m0\u001b[0m]        │\n",
       "├───────────────────────────┼────────────────────────┼────────────────┼────────────────────────┤\n",
       "│ layer_normalization_3     │ (\u001b[38;5;45mNone\u001b[0m, \u001b[38;5;34m874\u001b[0m, \u001b[38;5;34m1\u001b[0m)         │              \u001b[38;5;34m2\u001b[0m │ conv1d_3[\u001b[38;5;34m0\u001b[0m][\u001b[38;5;34m0\u001b[0m]         │\n",
       "│ (\u001b[38;5;33mLayerNormalization\u001b[0m)      │                        │                │                        │\n",
       "├───────────────────────────┼────────────────────────┼────────────────┼────────────────────────┤\n",
       "│ add_3 (\u001b[38;5;33mAdd\u001b[0m)               │ (\u001b[38;5;45mNone\u001b[0m, \u001b[38;5;34m874\u001b[0m, \u001b[38;5;34m1\u001b[0m)         │              \u001b[38;5;34m0\u001b[0m │ layer_normalization_3… │\n",
       "│                           │                        │                │ add_2[\u001b[38;5;34m0\u001b[0m][\u001b[38;5;34m0\u001b[0m]            │\n",
       "├───────────────────────────┼────────────────────────┼────────────────┼────────────────────────┤\n",
       "│ multi_head_attention_2    │ (\u001b[38;5;45mNone\u001b[0m, \u001b[38;5;34m874\u001b[0m, \u001b[38;5;34m1\u001b[0m)         │         \u001b[38;5;34m28,673\u001b[0m │ add_3[\u001b[38;5;34m0\u001b[0m][\u001b[38;5;34m0\u001b[0m],           │\n",
       "│ (\u001b[38;5;33mMultiHeadAttention\u001b[0m)      │                        │                │ add_3[\u001b[38;5;34m0\u001b[0m][\u001b[38;5;34m0\u001b[0m]            │\n",
       "├───────────────────────────┼────────────────────────┼────────────────┼────────────────────────┤\n",
       "│ dropout_7 (\u001b[38;5;33mDropout\u001b[0m)       │ (\u001b[38;5;45mNone\u001b[0m, \u001b[38;5;34m874\u001b[0m, \u001b[38;5;34m1\u001b[0m)         │              \u001b[38;5;34m0\u001b[0m │ multi_head_attention_… │\n",
       "├───────────────────────────┼────────────────────────┼────────────────┼────────────────────────┤\n",
       "│ layer_normalization_4     │ (\u001b[38;5;45mNone\u001b[0m, \u001b[38;5;34m874\u001b[0m, \u001b[38;5;34m1\u001b[0m)         │              \u001b[38;5;34m2\u001b[0m │ dropout_7[\u001b[38;5;34m0\u001b[0m][\u001b[38;5;34m0\u001b[0m]        │\n",
       "│ (\u001b[38;5;33mLayerNormalization\u001b[0m)      │                        │                │                        │\n",
       "├───────────────────────────┼────────────────────────┼────────────────┼────────────────────────┤\n",
       "│ add_4 (\u001b[38;5;33mAdd\u001b[0m)               │ (\u001b[38;5;45mNone\u001b[0m, \u001b[38;5;34m874\u001b[0m, \u001b[38;5;34m1\u001b[0m)         │              \u001b[38;5;34m0\u001b[0m │ layer_normalization_4… │\n",
       "│                           │                        │                │ add_3[\u001b[38;5;34m0\u001b[0m][\u001b[38;5;34m0\u001b[0m]            │\n",
       "├───────────────────────────┼────────────────────────┼────────────────┼────────────────────────┤\n",
       "│ conv1d_4 (\u001b[38;5;33mConv1D\u001b[0m)         │ (\u001b[38;5;45mNone\u001b[0m, \u001b[38;5;34m874\u001b[0m, \u001b[38;5;34m128\u001b[0m)       │            \u001b[38;5;34m256\u001b[0m │ add_4[\u001b[38;5;34m0\u001b[0m][\u001b[38;5;34m0\u001b[0m]            │\n",
       "├───────────────────────────┼────────────────────────┼────────────────┼────────────────────────┤\n",
       "│ dropout_8 (\u001b[38;5;33mDropout\u001b[0m)       │ (\u001b[38;5;45mNone\u001b[0m, \u001b[38;5;34m874\u001b[0m, \u001b[38;5;34m128\u001b[0m)       │              \u001b[38;5;34m0\u001b[0m │ conv1d_4[\u001b[38;5;34m0\u001b[0m][\u001b[38;5;34m0\u001b[0m]         │\n",
       "├───────────────────────────┼────────────────────────┼────────────────┼────────────────────────┤\n",
       "│ conv1d_5 (\u001b[38;5;33mConv1D\u001b[0m)         │ (\u001b[38;5;45mNone\u001b[0m, \u001b[38;5;34m874\u001b[0m, \u001b[38;5;34m1\u001b[0m)         │            \u001b[38;5;34m129\u001b[0m │ dropout_8[\u001b[38;5;34m0\u001b[0m][\u001b[38;5;34m0\u001b[0m]        │\n",
       "├───────────────────────────┼────────────────────────┼────────────────┼────────────────────────┤\n",
       "│ layer_normalization_5     │ (\u001b[38;5;45mNone\u001b[0m, \u001b[38;5;34m874\u001b[0m, \u001b[38;5;34m1\u001b[0m)         │              \u001b[38;5;34m2\u001b[0m │ conv1d_5[\u001b[38;5;34m0\u001b[0m][\u001b[38;5;34m0\u001b[0m]         │\n",
       "│ (\u001b[38;5;33mLayerNormalization\u001b[0m)      │                        │                │                        │\n",
       "├───────────────────────────┼────────────────────────┼────────────────┼────────────────────────┤\n",
       "│ add_5 (\u001b[38;5;33mAdd\u001b[0m)               │ (\u001b[38;5;45mNone\u001b[0m, \u001b[38;5;34m874\u001b[0m, \u001b[38;5;34m1\u001b[0m)         │              \u001b[38;5;34m0\u001b[0m │ layer_normalization_5… │\n",
       "│                           │                        │                │ add_4[\u001b[38;5;34m0\u001b[0m][\u001b[38;5;34m0\u001b[0m]            │\n",
       "├───────────────────────────┼────────────────────────┼────────────────┼────────────────────────┤\n",
       "│ multi_head_attention_3    │ (\u001b[38;5;45mNone\u001b[0m, \u001b[38;5;34m874\u001b[0m, \u001b[38;5;34m1\u001b[0m)         │         \u001b[38;5;34m28,673\u001b[0m │ add_5[\u001b[38;5;34m0\u001b[0m][\u001b[38;5;34m0\u001b[0m],           │\n",
       "│ (\u001b[38;5;33mMultiHeadAttention\u001b[0m)      │                        │                │ add_5[\u001b[38;5;34m0\u001b[0m][\u001b[38;5;34m0\u001b[0m]            │\n",
       "├───────────────────────────┼────────────────────────┼────────────────┼────────────────────────┤\n",
       "│ dropout_10 (\u001b[38;5;33mDropout\u001b[0m)      │ (\u001b[38;5;45mNone\u001b[0m, \u001b[38;5;34m874\u001b[0m, \u001b[38;5;34m1\u001b[0m)         │              \u001b[38;5;34m0\u001b[0m │ multi_head_attention_… │\n",
       "├───────────────────────────┼────────────────────────┼────────────────┼────────────────────────┤\n",
       "│ layer_normalization_6     │ (\u001b[38;5;45mNone\u001b[0m, \u001b[38;5;34m874\u001b[0m, \u001b[38;5;34m1\u001b[0m)         │              \u001b[38;5;34m2\u001b[0m │ dropout_10[\u001b[38;5;34m0\u001b[0m][\u001b[38;5;34m0\u001b[0m]       │\n",
       "│ (\u001b[38;5;33mLayerNormalization\u001b[0m)      │                        │                │                        │\n",
       "├───────────────────────────┼────────────────────────┼────────────────┼────────────────────────┤\n",
       "│ add_6 (\u001b[38;5;33mAdd\u001b[0m)               │ (\u001b[38;5;45mNone\u001b[0m, \u001b[38;5;34m874\u001b[0m, \u001b[38;5;34m1\u001b[0m)         │              \u001b[38;5;34m0\u001b[0m │ layer_normalization_6… │\n",
       "│                           │                        │                │ add_5[\u001b[38;5;34m0\u001b[0m][\u001b[38;5;34m0\u001b[0m]            │\n",
       "├───────────────────────────┼────────────────────────┼────────────────┼────────────────────────┤\n",
       "│ conv1d_6 (\u001b[38;5;33mConv1D\u001b[0m)         │ (\u001b[38;5;45mNone\u001b[0m, \u001b[38;5;34m874\u001b[0m, \u001b[38;5;34m128\u001b[0m)       │            \u001b[38;5;34m256\u001b[0m │ add_6[\u001b[38;5;34m0\u001b[0m][\u001b[38;5;34m0\u001b[0m]            │\n",
       "├───────────────────────────┼────────────────────────┼────────────────┼────────────────────────┤\n",
       "│ dropout_11 (\u001b[38;5;33mDropout\u001b[0m)      │ (\u001b[38;5;45mNone\u001b[0m, \u001b[38;5;34m874\u001b[0m, \u001b[38;5;34m128\u001b[0m)       │              \u001b[38;5;34m0\u001b[0m │ conv1d_6[\u001b[38;5;34m0\u001b[0m][\u001b[38;5;34m0\u001b[0m]         │\n",
       "├───────────────────────────┼────────────────────────┼────────────────┼────────────────────────┤\n",
       "│ conv1d_7 (\u001b[38;5;33mConv1D\u001b[0m)         │ (\u001b[38;5;45mNone\u001b[0m, \u001b[38;5;34m874\u001b[0m, \u001b[38;5;34m1\u001b[0m)         │            \u001b[38;5;34m129\u001b[0m │ dropout_11[\u001b[38;5;34m0\u001b[0m][\u001b[38;5;34m0\u001b[0m]       │\n",
       "├───────────────────────────┼────────────────────────┼────────────────┼────────────────────────┤\n",
       "│ layer_normalization_7     │ (\u001b[38;5;45mNone\u001b[0m, \u001b[38;5;34m874\u001b[0m, \u001b[38;5;34m1\u001b[0m)         │              \u001b[38;5;34m2\u001b[0m │ conv1d_7[\u001b[38;5;34m0\u001b[0m][\u001b[38;5;34m0\u001b[0m]         │\n",
       "│ (\u001b[38;5;33mLayerNormalization\u001b[0m)      │                        │                │                        │\n",
       "├───────────────────────────┼────────────────────────┼────────────────┼────────────────────────┤\n",
       "│ add_7 (\u001b[38;5;33mAdd\u001b[0m)               │ (\u001b[38;5;45mNone\u001b[0m, \u001b[38;5;34m874\u001b[0m, \u001b[38;5;34m1\u001b[0m)         │              \u001b[38;5;34m0\u001b[0m │ layer_normalization_7… │\n",
       "│                           │                        │                │ add_6[\u001b[38;5;34m0\u001b[0m][\u001b[38;5;34m0\u001b[0m]            │\n",
       "├───────────────────────────┼────────────────────────┼────────────────┼────────────────────────┤\n",
       "│ flatten (\u001b[38;5;33mFlatten\u001b[0m)         │ (\u001b[38;5;45mNone\u001b[0m, \u001b[38;5;34m874\u001b[0m)            │              \u001b[38;5;34m0\u001b[0m │ add_7[\u001b[38;5;34m0\u001b[0m][\u001b[38;5;34m0\u001b[0m]            │\n",
       "├───────────────────────────┼────────────────────────┼────────────────┼────────────────────────┤\n",
       "│ dense (\u001b[38;5;33mDense\u001b[0m)             │ (\u001b[38;5;45mNone\u001b[0m, \u001b[38;5;34m256\u001b[0m)            │        \u001b[38;5;34m224,000\u001b[0m │ flatten[\u001b[38;5;34m0\u001b[0m][\u001b[38;5;34m0\u001b[0m]          │\n",
       "├───────────────────────────┼────────────────────────┼────────────────┼────────────────────────┤\n",
       "│ dropout_12 (\u001b[38;5;33mDropout\u001b[0m)      │ (\u001b[38;5;45mNone\u001b[0m, \u001b[38;5;34m256\u001b[0m)            │              \u001b[38;5;34m0\u001b[0m │ dense[\u001b[38;5;34m0\u001b[0m][\u001b[38;5;34m0\u001b[0m]            │\n",
       "├───────────────────────────┼────────────────────────┼────────────────┼────────────────────────┤\n",
       "│ dense_1 (\u001b[38;5;33mDense\u001b[0m)           │ (\u001b[38;5;45mNone\u001b[0m, \u001b[38;5;34m1\u001b[0m)              │            \u001b[38;5;34m257\u001b[0m │ dropout_12[\u001b[38;5;34m0\u001b[0m][\u001b[38;5;34m0\u001b[0m]       │\n",
       "├───────────────────────────┼────────────────────────┼────────────────┼────────────────────────┤\n",
       "│ lambda (\u001b[38;5;33mLambda\u001b[0m)           │ (\u001b[38;5;45mNone\u001b[0m, \u001b[38;5;34m1\u001b[0m)              │              \u001b[38;5;34m0\u001b[0m │ dense_1[\u001b[38;5;34m0\u001b[0m][\u001b[38;5;34m0\u001b[0m]          │\n",
       "└───────────────────────────┴────────────────────────┴────────────────┴────────────────────────┘\n"
      ]
     },
     "metadata": {},
     "output_type": "display_data"
    },
    {
     "data": {
      "text/html": [
       "<pre style=\"white-space:pre;overflow-x:auto;line-height:normal;font-family:Menlo,'DejaVu Sans Mono',consolas,'Courier New',monospace\"><span style=\"font-weight: bold\"> Total params: </span><span style=\"color: #00af00; text-decoration-color: #00af00\">340,505</span> (1.30 MB)\n",
       "</pre>\n"
      ],
      "text/plain": [
       "\u001b[1m Total params: \u001b[0m\u001b[38;5;34m340,505\u001b[0m (1.30 MB)\n"
      ]
     },
     "metadata": {},
     "output_type": "display_data"
    },
    {
     "data": {
      "text/html": [
       "<pre style=\"white-space:pre;overflow-x:auto;line-height:normal;font-family:Menlo,'DejaVu Sans Mono',consolas,'Courier New',monospace\"><span style=\"font-weight: bold\"> Trainable params: </span><span style=\"color: #00af00; text-decoration-color: #00af00\">340,505</span> (1.30 MB)\n",
       "</pre>\n"
      ],
      "text/plain": [
       "\u001b[1m Trainable params: \u001b[0m\u001b[38;5;34m340,505\u001b[0m (1.30 MB)\n"
      ]
     },
     "metadata": {},
     "output_type": "display_data"
    },
    {
     "data": {
      "text/html": [
       "<pre style=\"white-space:pre;overflow-x:auto;line-height:normal;font-family:Menlo,'DejaVu Sans Mono',consolas,'Courier New',monospace\"><span style=\"font-weight: bold\"> Non-trainable params: </span><span style=\"color: #00af00; text-decoration-color: #00af00\">0</span> (0.00 B)\n",
       "</pre>\n"
      ],
      "text/plain": [
       "\u001b[1m Non-trainable params: \u001b[0m\u001b[38;5;34m0\u001b[0m (0.00 B)\n"
      ]
     },
     "metadata": {},
     "output_type": "display_data"
    }
   ],
   "source": [
    "# Multi-GPU strategy scope\n",
    "strategy = tf.distribute.MirroredStrategy()\n",
    "with strategy.scope():\n",
    "    input_shape = (874,)  # Adjusted input shape\n",
    "\n",
    "    model = build_regression_model(\n",
    "        input_shape,\n",
    "        head_size=512,\n",
    "        num_heads=8,\n",
    "        ff_dim=128,\n",
    "        num_transformer_blocks=4,\n",
    "        mlp_units=[256],\n",
    "        mlp_dropout=0.4,\n",
    "        dropout=0.3,\n",
    "    )\n",
    "\n",
    "    # Compile with a regression loss (mean squared error) and a regression metric (MAE)\n",
    "    model.compile(\n",
    "        loss=\"mse\",  # Mean Squared Error loss for regression\n",
    "        optimizer=keras.optimizers.Adam(learning_rate=1e-4),\n",
    "        metrics=[\"mae\"],  # Mean Absolute Error as an additional metric\n",
    "    )\n",
    "\n",
    "model.summary()\n"
   ]
  },
  {
   "cell_type": "code",
   "execution_count": 31,
   "id": "0f6b698b",
   "metadata": {
    "execution": {
     "iopub.execute_input": "2025-02-14T07:52:17.779248Z",
     "iopub.status.busy": "2025-02-14T07:52:17.778972Z",
     "iopub.status.idle": "2025-02-14T07:52:17.784857Z",
     "shell.execute_reply": "2025-02-14T07:52:17.784054Z"
    },
    "papermill": {
     "duration": 0.016306,
     "end_time": "2025-02-14T07:52:17.786168",
     "exception": false,
     "start_time": "2025-02-14T07:52:17.769862",
     "status": "completed"
    },
    "tags": []
   },
   "outputs": [],
   "source": [
    "from tensorflow.keras.callbacks import ModelCheckpoint\n",
    "\n",
    "# Define the checkpoint callback to save the model after each epoch\n",
    "checkpoint_callback = ModelCheckpoint(\n",
    "    filepath='model_checkpoint.keras',  # Save file with .keras extension\n",
    "    save_weights_only=False,  # Save the full model\n",
    "    save_freq='epoch',  # Save at the end of each epoch\n",
    "    verbose=1  # To print a message when the model is saved\n",
    ")\n",
    "\n",
    "# Modify the callbacks list to include the checkpoint callback \n",
    "callbacks = [\n",
    "    keras.callbacks.EarlyStopping(patience=100, restore_best_weights=True),\n",
    "    checkpoint_callback\n",
    "]"
   ]
  },
  {
   "cell_type": "code",
   "execution_count": 32,
   "id": "09147e38",
   "metadata": {
    "execution": {
     "iopub.execute_input": "2025-02-14T07:52:17.804329Z",
     "iopub.status.busy": "2025-02-14T07:52:17.804077Z",
     "iopub.status.idle": "2025-02-14T07:52:17.808538Z",
     "shell.execute_reply": "2025-02-14T07:52:17.807758Z"
    },
    "papermill": {
     "duration": 0.015053,
     "end_time": "2025-02-14T07:52:17.809882",
     "exception": false,
     "start_time": "2025-02-14T07:52:17.794829",
     "status": "completed"
    },
    "tags": []
   },
   "outputs": [
    {
     "data": {
      "text/plain": [
       "(1836, 4369, 1)"
      ]
     },
     "execution_count": 32,
     "metadata": {},
     "output_type": "execute_result"
    }
   ],
   "source": [
    "X_train.shape"
   ]
  },
  {
   "cell_type": "code",
   "execution_count": 33,
   "id": "ff4592d9",
   "metadata": {
    "execution": {
     "iopub.execute_input": "2025-02-14T07:52:17.828081Z",
     "iopub.status.busy": "2025-02-14T07:52:17.827844Z",
     "iopub.status.idle": "2025-02-14T07:52:17.832091Z",
     "shell.execute_reply": "2025-02-14T07:52:17.831303Z"
    },
    "papermill": {
     "duration": 0.014769,
     "end_time": "2025-02-14T07:52:17.833322",
     "exception": false,
     "start_time": "2025-02-14T07:52:17.818553",
     "status": "completed"
    },
    "tags": []
   },
   "outputs": [
    {
     "data": {
      "text/plain": [
       "(1836,)"
      ]
     },
     "execution_count": 33,
     "metadata": {},
     "output_type": "execute_result"
    }
   ],
   "source": [
    "y_train_norm.shape"
   ]
  },
  {
   "cell_type": "code",
   "execution_count": 34,
   "id": "c4c7adf7",
   "metadata": {
    "execution": {
     "iopub.execute_input": "2025-02-14T07:52:17.851107Z",
     "iopub.status.busy": "2025-02-14T07:52:17.850860Z",
     "iopub.status.idle": "2025-02-14T07:52:17.856601Z",
     "shell.execute_reply": "2025-02-14T07:52:17.855814Z"
    },
    "papermill": {
     "duration": 0.016225,
     "end_time": "2025-02-14T07:52:17.858081",
     "exception": false,
     "start_time": "2025-02-14T07:52:17.841856",
     "status": "completed"
    },
    "tags": []
   },
   "outputs": [
    {
     "data": {
      "text/plain": [
       "(array([0.3846154 , 0.23076923, 1.        , ..., 0.        , 0.30769232,\n",
       "        0.46153846], dtype=float32),\n",
       " array([0.53846157, 0.        , 0.46153846, 0.07692308, 0.61538464,\n",
       "        0.30769232, 0.        , 0.30769232, 0.        , 0.07692308,\n",
       "        0.30769232, 0.6923077 , 0.6923077 , 0.9230769 , 0.23076923,\n",
       "        1.        , 0.3846154 , 0.3846154 , 0.15384616, 0.6923077 ,\n",
       "        0.        , 0.        , 0.9230769 , 0.61538464, 0.23076923,\n",
       "        0.        , 0.        , 0.30769232, 0.        , 0.07692308,\n",
       "        0.23076923, 0.        , 0.53846157, 0.3846154 , 0.3846154 ,\n",
       "        0.6923077 , 0.7692308 , 0.7692308 , 0.30769232, 0.        ,\n",
       "        0.        , 0.23076923, 0.3846154 , 0.7692308 , 1.        ,\n",
       "        0.9230769 , 0.53846157, 0.15384616, 0.        , 0.        ,\n",
       "        0.        , 0.        , 0.        , 0.84615386, 0.46153846,\n",
       "        0.46153846, 0.9230769 , 0.        , 0.30769232, 0.        ,\n",
       "        0.        , 0.23076923, 0.30769232, 0.46153846, 0.6923077 ,\n",
       "        0.        , 0.46153846, 0.61538464, 0.3846154 , 0.        ,\n",
       "        0.46153846, 0.9230769 , 0.        , 0.3846154 , 0.23076923,\n",
       "        1.        , 0.07692308, 0.        , 0.6923077 , 0.84615386,\n",
       "        0.46153846, 0.46153846, 0.6923077 , 0.        , 0.61538464,\n",
       "        0.30769232, 0.3846154 , 0.        , 1.        , 0.9230769 ,\n",
       "        0.07692308, 0.15384616, 0.23076923, 0.        , 0.23076923,\n",
       "        0.        , 0.30769232, 0.61538464, 0.61538464, 0.3846154 ,\n",
       "        0.3846154 , 0.23076923, 0.9230769 , 1.        , 1.        ,\n",
       "        0.3846154 , 0.        , 0.46153846, 0.        , 0.84615386,\n",
       "        0.84615386, 0.07692308, 0.        , 0.07692308, 0.61538464,\n",
       "        0.        , 0.        , 0.        , 1.        , 0.        ,\n",
       "        0.15384616, 0.9230769 , 0.        , 0.84615386, 0.46153846,\n",
       "        1.        , 0.3846154 , 0.7692308 , 0.7692308 , 0.30769232,\n",
       "        0.15384616, 1.        , 0.6923077 , 0.15384616, 0.15384616,\n",
       "        0.30769232, 0.        , 0.07692308, 0.6923077 , 0.23076923,\n",
       "        0.        , 0.53846157, 0.84615386, 0.07692308, 0.        ,\n",
       "        0.3846154 , 0.61538464, 0.07692308, 0.6923077 , 0.7692308 ,\n",
       "        0.3846154 , 0.9230769 , 0.07692308, 0.        , 0.15384616,\n",
       "        0.23076923, 1.        , 0.3846154 , 0.15384616, 0.        ,\n",
       "        0.15384616, 0.30769232, 0.30769232, 0.        , 0.84615386,\n",
       "        0.        , 0.7692308 , 1.        , 0.7692308 , 0.30769232,\n",
       "        0.23076923, 0.7692308 , 0.6923077 , 1.        , 0.15384616,\n",
       "        0.        , 0.61538464, 0.46153846, 0.23076923, 0.6923077 ,\n",
       "        0.46153846, 0.        , 0.46153846, 0.6923077 , 0.84615386,\n",
       "        0.84615386, 0.23076923, 1.        , 0.61538464, 0.        ,\n",
       "        0.84615386, 1.        , 0.07692308, 0.61538464, 0.53846157,\n",
       "        0.15384616, 1.        , 1.        , 0.        , 0.23076923,\n",
       "        0.07692308, 0.84615386, 0.15384616, 0.        ], dtype=float32))"
      ]
     },
     "execution_count": 34,
     "metadata": {},
     "output_type": "execute_result"
    }
   ],
   "source": [
    "y_train_norm,y_test_norm"
   ]
  },
  {
   "cell_type": "code",
   "execution_count": 35,
   "id": "ed72355e",
   "metadata": {
    "execution": {
     "iopub.execute_input": "2025-02-14T07:52:17.925982Z",
     "iopub.status.busy": "2025-02-14T07:52:17.925671Z",
     "iopub.status.idle": "2025-02-14T07:52:17.940992Z",
     "shell.execute_reply": "2025-02-14T07:52:17.940203Z"
    },
    "papermill": {
     "duration": 0.027171,
     "end_time": "2025-02-14T07:52:17.942491",
     "exception": false,
     "start_time": "2025-02-14T07:52:17.915320",
     "status": "completed"
    },
    "tags": []
   },
   "outputs": [],
   "source": [
    "# Assume X_train has the shape (num_samples, 4369, 1)\n",
    "num_samples, original_length, channels = X_train.shape\n",
    "\n",
    "# Calculate padding length so that the length becomes divisible by 5.\n",
    "pad_len = 1\n",
    "\n",
    "# Pad along the sequence axis (axis=1) with -np.inf so that the max operation is not affected.\n",
    "X_train_padded = np.pad(\n",
    "    X_train,\n",
    "    pad_width=((0, 0), (0, pad_len), (0, 0)),\n",
    "    mode='constant',\n",
    "    constant_values=-np.inf\n",
    ")\n",
    "\n",
    "# Now X_train_padded has the shape (num_samples, 4370, 1).\n"
   ]
  },
  {
   "cell_type": "code",
   "execution_count": 36,
   "id": "fecf1d6b",
   "metadata": {
    "execution": {
     "iopub.execute_input": "2025-02-14T07:52:17.961940Z",
     "iopub.status.busy": "2025-02-14T07:52:17.961665Z",
     "iopub.status.idle": "2025-02-14T07:52:17.966083Z",
     "shell.execute_reply": "2025-02-14T07:52:17.965431Z"
    },
    "papermill": {
     "duration": 0.015347,
     "end_time": "2025-02-14T07:52:17.967200",
     "exception": false,
     "start_time": "2025-02-14T07:52:17.951853",
     "status": "completed"
    },
    "tags": []
   },
   "outputs": [
    {
     "data": {
      "text/plain": [
       "(1836, 4370, 1)"
      ]
     },
     "execution_count": 36,
     "metadata": {},
     "output_type": "execute_result"
    }
   ],
   "source": [
    "X_train_padded.shape"
   ]
  },
  {
   "cell_type": "code",
   "execution_count": 37,
   "id": "7c6103fc",
   "metadata": {
    "execution": {
     "iopub.execute_input": "2025-02-14T07:52:17.986304Z",
     "iopub.status.busy": "2025-02-14T07:52:17.986024Z",
     "iopub.status.idle": "2025-02-14T07:52:18.175485Z",
     "shell.execute_reply": "2025-02-14T07:52:18.174413Z"
    },
    "papermill": {
     "duration": 0.200383,
     "end_time": "2025-02-14T07:52:18.176823",
     "exception": false,
     "start_time": "2025-02-14T07:52:17.976440",
     "status": "completed"
    },
    "tags": []
   },
   "outputs": [
    {
     "name": "stdout",
     "output_type": "stream",
     "text": [
      "Shape after max-pooling and reshaping: (1836, 874)\n"
     ]
    }
   ],
   "source": [
    "\n",
    "# Reshape to group every 5 consecutive elements:\n",
    "# New shape will be (num_samples, 874, 5, 1)\n",
    "grouped_length = X_train_padded.shape[1] // 5  # Should be 874\n",
    "X_train_grouped = X_train_padded.reshape(num_samples, grouped_length, 5, channels)\n",
    "\n",
    "# Take the max over the 5 elements for each group (axis=2)\n",
    "# Resulting shape is (num_samples, 874, 1)\n",
    "X_train_max = np.max(X_train_grouped, axis=2)\n",
    "\n",
    "# Optionally, if your model expects inputs of shape (num_samples, 874),\n",
    "# reshape the array from (num_samples, 874, 1) to (num_samples, 874)\n",
    "X_train_final = X_train_max.reshape(num_samples, grouped_length)\n",
    "\n",
    "# Check the resulting shape\n",
    "print(\"Shape after max-pooling and reshaping:\", X_train_final.shape)\n"
   ]
  },
  {
   "cell_type": "code",
   "execution_count": 38,
   "id": "bcd3f601",
   "metadata": {
    "execution": {
     "iopub.execute_input": "2025-02-14T07:52:18.196072Z",
     "iopub.status.busy": "2025-02-14T07:52:18.195791Z",
     "iopub.status.idle": "2025-02-14T07:52:18.225068Z",
     "shell.execute_reply": "2025-02-14T07:52:18.224122Z"
    },
    "papermill": {
     "duration": 0.040219,
     "end_time": "2025-02-14T07:52:18.226302",
     "exception": false,
     "start_time": "2025-02-14T07:52:18.186083",
     "status": "completed"
    },
    "tags": []
   },
   "outputs": [
    {
     "name": "stdout",
     "output_type": "stream",
     "text": [
      "Shape after max-pooling and reshaping: (204, 874)\n"
     ]
    }
   ],
   "source": [
    "# Assume X_train has the shape (num_samples, 4369, 1)\n",
    "num_samples, original_length, channels = X_test.shape\n",
    "\n",
    "# Calculate padding length so that the length becomes divisible by 5.\n",
    "pad_len = 1\n",
    "\n",
    "# Pad along the sequence axis (axis=1) with -np.inf so that the max operation is not affected.\n",
    "X_test_padded = np.pad(\n",
    "    X_test,\n",
    "    pad_width=((0, 0), (0, pad_len), (0, 0)),\n",
    "    mode='constant',\n",
    "    constant_values=-np.inf\n",
    ")\n",
    "\n",
    "# Now X_train_padded has the shape (num_samples, 4370, 1).\n",
    "\n",
    "# Reshape to group every 5 consecutive elements:\n",
    "# New shape will be (num_samples, 874, 5, 1)\n",
    "grouped_length = X_test_padded.shape[1] // 5  # Should be 874\n",
    "X_test_grouped = X_test_padded.reshape(num_samples, grouped_length, 5, channels)\n",
    "\n",
    "# Take the max over the 5 elements for each group (axis=2)\n",
    "# Resulting shape is (num_samples, 874, 1)\n",
    "X_test_max = np.max(X_test_grouped, axis=2)\n",
    "\n",
    "# Optionally, if your model expects inputs of shape (num_samples, 874),\n",
    "# reshape the array from (num_samples, 874, 1) to (num_samples, 874)\n",
    "X_test_final = X_test_max.reshape(num_samples, grouped_length)\n",
    "\n",
    "# Check the resulting shape\n",
    "print(\"Shape after max-pooling and reshaping:\", X_test_final.shape)\n"
   ]
  },
  {
   "cell_type": "code",
   "execution_count": null,
   "id": "6ea4b67d",
   "metadata": {
    "papermill": {
     "duration": 0.009138,
     "end_time": "2025-02-14T07:52:18.244991",
     "exception": false,
     "start_time": "2025-02-14T07:52:18.235853",
     "status": "completed"
    },
    "tags": []
   },
   "outputs": [],
   "source": []
  },
  {
   "cell_type": "code",
   "execution_count": 39,
   "id": "71c38190",
   "metadata": {
    "execution": {
     "iopub.execute_input": "2025-02-14T07:52:18.263851Z",
     "iopub.status.busy": "2025-02-14T07:52:18.263549Z",
     "iopub.status.idle": "2025-02-14T07:52:18.268449Z",
     "shell.execute_reply": "2025-02-14T07:52:18.267622Z"
    },
    "papermill": {
     "duration": 0.015891,
     "end_time": "2025-02-14T07:52:18.269808",
     "exception": false,
     "start_time": "2025-02-14T07:52:18.253917",
     "status": "completed"
    },
    "tags": []
   },
   "outputs": [
    {
     "data": {
      "text/plain": [
       "'/kaggle'"
      ]
     },
     "execution_count": 39,
     "metadata": {},
     "output_type": "execute_result"
    }
   ],
   "source": [
    "%pwd"
   ]
  },
  {
   "cell_type": "code",
   "execution_count": 40,
   "id": "5171721e",
   "metadata": {
    "execution": {
     "iopub.execute_input": "2025-02-14T07:52:18.288413Z",
     "iopub.status.busy": "2025-02-14T07:52:18.288161Z",
     "iopub.status.idle": "2025-02-14T07:52:18.291241Z",
     "shell.execute_reply": "2025-02-14T07:52:18.290609Z"
    },
    "papermill": {
     "duration": 0.013496,
     "end_time": "2025-02-14T07:52:18.292320",
     "exception": false,
     "start_time": "2025-02-14T07:52:18.278824",
     "status": "completed"
    },
    "tags": []
   },
   "outputs": [],
   "source": [
    "os.chdir(\"working\")"
   ]
  },
  {
   "cell_type": "code",
   "execution_count": 41,
   "id": "70ac5594",
   "metadata": {
    "execution": {
     "iopub.execute_input": "2025-02-14T07:52:18.316646Z",
     "iopub.status.busy": "2025-02-14T07:52:18.316262Z",
     "iopub.status.idle": "2025-02-14T11:19:23.081414Z",
     "shell.execute_reply": "2025-02-14T11:19:23.080483Z"
    },
    "papermill": {
     "duration": 12425.124511,
     "end_time": "2025-02-14T11:19:23.426489",
     "exception": false,
     "start_time": "2025-02-14T07:52:18.301978",
     "status": "completed"
    },
    "tags": []
   },
   "outputs": [
    {
     "name": "stdout",
     "output_type": "stream",
     "text": [
      "Epoch 1/200\n",
      "\u001b[1m58/58\u001b[0m \u001b[32m━━━━━━━━━━━━━━━━━━━━\u001b[0m\u001b[37m\u001b[0m \u001b[1m0s\u001b[0m 1s/step - loss: 6.9041 - mae: 1.7394\n",
      "Epoch 1: saving model to model_checkpoint.keras\n",
      "\u001b[1m58/58\u001b[0m \u001b[32m━━━━━━━━━━━━━━━━━━━━\u001b[0m\u001b[37m\u001b[0m \u001b[1m71s\u001b[0m 1s/step - loss: 6.8269 - mae: 1.7240 - val_loss: 0.1635 - val_mae: 0.3259\n",
      "Epoch 2/200\n",
      "\u001b[1m58/58\u001b[0m \u001b[32m━━━━━━━━━━━━━━━━━━━━\u001b[0m\u001b[37m\u001b[0m \u001b[1m0s\u001b[0m 1s/step - loss: 0.1835 - mae: 0.3421\n",
      "Epoch 2: saving model to model_checkpoint.keras\n",
      "\u001b[1m58/58\u001b[0m \u001b[32m━━━━━━━━━━━━━━━━━━━━\u001b[0m\u001b[37m\u001b[0m \u001b[1m62s\u001b[0m 1s/step - loss: 0.1834 - mae: 0.3421 - val_loss: 0.1520 - val_mae: 0.3153\n",
      "Epoch 3/200\n",
      "\u001b[1m58/58\u001b[0m \u001b[32m━━━━━━━━━━━━━━━━━━━━\u001b[0m\u001b[37m\u001b[0m \u001b[1m0s\u001b[0m 1s/step - loss: 0.1793 - mae: 0.3390\n",
      "Epoch 3: saving model to model_checkpoint.keras\n",
      "\u001b[1m58/58\u001b[0m \u001b[32m━━━━━━━━━━━━━━━━━━━━\u001b[0m\u001b[37m\u001b[0m \u001b[1m62s\u001b[0m 1s/step - loss: 0.1793 - mae: 0.3390 - val_loss: 0.1456 - val_mae: 0.3084\n",
      "Epoch 4/200\n",
      "\u001b[1m58/58\u001b[0m \u001b[32m━━━━━━━━━━━━━━━━━━━━\u001b[0m\u001b[37m\u001b[0m \u001b[1m0s\u001b[0m 1s/step - loss: 0.1650 - mae: 0.3300\n",
      "Epoch 4: saving model to model_checkpoint.keras\n",
      "\u001b[1m58/58\u001b[0m \u001b[32m━━━━━━━━━━━━━━━━━━━━\u001b[0m\u001b[37m\u001b[0m \u001b[1m62s\u001b[0m 1s/step - loss: 0.1650 - mae: 0.3301 - val_loss: 0.1398 - val_mae: 0.3031\n",
      "Epoch 5/200\n",
      "\u001b[1m58/58\u001b[0m \u001b[32m━━━━━━━━━━━━━━━━━━━━\u001b[0m\u001b[37m\u001b[0m \u001b[1m0s\u001b[0m 1s/step - loss: 0.1741 - mae: 0.3389\n",
      "Epoch 5: saving model to model_checkpoint.keras\n",
      "\u001b[1m58/58\u001b[0m \u001b[32m━━━━━━━━━━━━━━━━━━━━\u001b[0m\u001b[37m\u001b[0m \u001b[1m62s\u001b[0m 1s/step - loss: 0.1740 - mae: 0.3388 - val_loss: 0.1383 - val_mae: 0.3006\n",
      "Epoch 6/200\n",
      "\u001b[1m58/58\u001b[0m \u001b[32m━━━━━━━━━━━━━━━━━━━━\u001b[0m\u001b[37m\u001b[0m \u001b[1m0s\u001b[0m 1s/step - loss: 0.1655 - mae: 0.3251\n",
      "Epoch 6: saving model to model_checkpoint.keras\n",
      "\u001b[1m58/58\u001b[0m \u001b[32m━━━━━━━━━━━━━━━━━━━━\u001b[0m\u001b[37m\u001b[0m \u001b[1m62s\u001b[0m 1s/step - loss: 0.1655 - mae: 0.3251 - val_loss: 0.1336 - val_mae: 0.2957\n",
      "Epoch 7/200\n",
      "\u001b[1m58/58\u001b[0m \u001b[32m━━━━━━━━━━━━━━━━━━━━\u001b[0m\u001b[37m\u001b[0m \u001b[1m0s\u001b[0m 1s/step - loss: 0.1529 - mae: 0.3186\n",
      "Epoch 7: saving model to model_checkpoint.keras\n",
      "\u001b[1m58/58\u001b[0m \u001b[32m━━━━━━━━━━━━━━━━━━━━\u001b[0m\u001b[37m\u001b[0m \u001b[1m62s\u001b[0m 1s/step - loss: 0.1530 - mae: 0.3187 - val_loss: 0.1351 - val_mae: 0.2955\n",
      "Epoch 8/200\n",
      "\u001b[1m58/58\u001b[0m \u001b[32m━━━━━━━━━━━━━━━━━━━━\u001b[0m\u001b[37m\u001b[0m \u001b[1m0s\u001b[0m 1s/step - loss: 0.1534 - mae: 0.3225\n",
      "Epoch 8: saving model to model_checkpoint.keras\n",
      "\u001b[1m58/58\u001b[0m \u001b[32m━━━━━━━━━━━━━━━━━━━━\u001b[0m\u001b[37m\u001b[0m \u001b[1m62s\u001b[0m 1s/step - loss: 0.1534 - mae: 0.3225 - val_loss: 0.1306 - val_mae: 0.2906\n",
      "Epoch 9/200\n",
      "\u001b[1m58/58\u001b[0m \u001b[32m━━━━━━━━━━━━━━━━━━━━\u001b[0m\u001b[37m\u001b[0m \u001b[1m0s\u001b[0m 1s/step - loss: 0.1604 - mae: 0.3241\n",
      "Epoch 9: saving model to model_checkpoint.keras\n",
      "\u001b[1m58/58\u001b[0m \u001b[32m━━━━━━━━━━━━━━━━━━━━\u001b[0m\u001b[37m\u001b[0m \u001b[1m62s\u001b[0m 1s/step - loss: 0.1603 - mae: 0.3241 - val_loss: 0.1265 - val_mae: 0.2868\n",
      "Epoch 10/200\n",
      "\u001b[1m58/58\u001b[0m \u001b[32m━━━━━━━━━━━━━━━━━━━━\u001b[0m\u001b[37m\u001b[0m \u001b[1m0s\u001b[0m 1s/step - loss: 0.1571 - mae: 0.3287\n",
      "Epoch 10: saving model to model_checkpoint.keras\n",
      "\u001b[1m58/58\u001b[0m \u001b[32m━━━━━━━━━━━━━━━━━━━━\u001b[0m\u001b[37m\u001b[0m \u001b[1m62s\u001b[0m 1s/step - loss: 0.1571 - mae: 0.3286 - val_loss: 0.1249 - val_mae: 0.2862\n",
      "Epoch 11/200\n",
      "\u001b[1m58/58\u001b[0m \u001b[32m━━━━━━━━━━━━━━━━━━━━\u001b[0m\u001b[37m\u001b[0m \u001b[1m0s\u001b[0m 1s/step - loss: 0.1585 - mae: 0.3231\n",
      "Epoch 11: saving model to model_checkpoint.keras\n",
      "\u001b[1m58/58\u001b[0m \u001b[32m━━━━━━━━━━━━━━━━━━━━\u001b[0m\u001b[37m\u001b[0m \u001b[1m62s\u001b[0m 1s/step - loss: 0.1584 - mae: 0.3230 - val_loss: 0.1235 - val_mae: 0.2848\n",
      "Epoch 12/200\n",
      "\u001b[1m58/58\u001b[0m \u001b[32m━━━━━━━━━━━━━━━━━━━━\u001b[0m\u001b[37m\u001b[0m \u001b[1m0s\u001b[0m 1s/step - loss: 0.1544 - mae: 0.3221\n",
      "Epoch 12: saving model to model_checkpoint.keras\n",
      "\u001b[1m58/58\u001b[0m \u001b[32m━━━━━━━━━━━━━━━━━━━━\u001b[0m\u001b[37m\u001b[0m \u001b[1m62s\u001b[0m 1s/step - loss: 0.1545 - mae: 0.3222 - val_loss: 0.1254 - val_mae: 0.2857\n",
      "Epoch 13/200\n",
      "\u001b[1m58/58\u001b[0m \u001b[32m━━━━━━━━━━━━━━━━━━━━\u001b[0m\u001b[37m\u001b[0m \u001b[1m0s\u001b[0m 1s/step - loss: 0.1508 - mae: 0.3206\n",
      "Epoch 13: saving model to model_checkpoint.keras\n",
      "\u001b[1m58/58\u001b[0m \u001b[32m━━━━━━━━━━━━━━━━━━━━\u001b[0m\u001b[37m\u001b[0m \u001b[1m62s\u001b[0m 1s/step - loss: 0.1509 - mae: 0.3207 - val_loss: 0.1230 - val_mae: 0.2825\n",
      "Epoch 14/200\n",
      "\u001b[1m58/58\u001b[0m \u001b[32m━━━━━━━━━━━━━━━━━━━━\u001b[0m\u001b[37m\u001b[0m \u001b[1m0s\u001b[0m 1s/step - loss: 0.1336 - mae: 0.2984\n",
      "Epoch 14: saving model to model_checkpoint.keras\n",
      "\u001b[1m58/58\u001b[0m \u001b[32m━━━━━━━━━━━━━━━━━━━━\u001b[0m\u001b[37m\u001b[0m \u001b[1m62s\u001b[0m 1s/step - loss: 0.1338 - mae: 0.2986 - val_loss: 0.1217 - val_mae: 0.2821\n",
      "Epoch 15/200\n",
      "\u001b[1m58/58\u001b[0m \u001b[32m━━━━━━━━━━━━━━━━━━━━\u001b[0m\u001b[37m\u001b[0m \u001b[1m0s\u001b[0m 1s/step - loss: 0.1522 - mae: 0.3163\n",
      "Epoch 15: saving model to model_checkpoint.keras\n",
      "\u001b[1m58/58\u001b[0m \u001b[32m━━━━━━━━━━━━━━━━━━━━\u001b[0m\u001b[37m\u001b[0m \u001b[1m62s\u001b[0m 1s/step - loss: 0.1522 - mae: 0.3163 - val_loss: 0.1188 - val_mae: 0.2803\n",
      "Epoch 16/200\n",
      "\u001b[1m58/58\u001b[0m \u001b[32m━━━━━━━━━━━━━━━━━━━━\u001b[0m\u001b[37m\u001b[0m \u001b[1m0s\u001b[0m 1s/step - loss: 0.1403 - mae: 0.3093\n",
      "Epoch 16: saving model to model_checkpoint.keras\n",
      "\u001b[1m58/58\u001b[0m \u001b[32m━━━━━━━━━━━━━━━━━━━━\u001b[0m\u001b[37m\u001b[0m \u001b[1m62s\u001b[0m 1s/step - loss: 0.1404 - mae: 0.3094 - val_loss: 0.1176 - val_mae: 0.2783\n",
      "Epoch 17/200\n",
      "\u001b[1m58/58\u001b[0m \u001b[32m━━━━━━━━━━━━━━━━━━━━\u001b[0m\u001b[37m\u001b[0m \u001b[1m0s\u001b[0m 1s/step - loss: 0.1541 - mae: 0.3195\n",
      "Epoch 17: saving model to model_checkpoint.keras\n",
      "\u001b[1m58/58\u001b[0m \u001b[32m━━━━━━━━━━━━━━━━━━━━\u001b[0m\u001b[37m\u001b[0m \u001b[1m62s\u001b[0m 1s/step - loss: 0.1540 - mae: 0.3194 - val_loss: 0.1172 - val_mae: 0.2782\n",
      "Epoch 18/200\n",
      "\u001b[1m58/58\u001b[0m \u001b[32m━━━━━━━━━━━━━━━━━━━━\u001b[0m\u001b[37m\u001b[0m \u001b[1m0s\u001b[0m 1s/step - loss: 0.1374 - mae: 0.3058\n",
      "Epoch 18: saving model to model_checkpoint.keras\n",
      "\u001b[1m58/58\u001b[0m \u001b[32m━━━━━━━━━━━━━━━━━━━━\u001b[0m\u001b[37m\u001b[0m \u001b[1m62s\u001b[0m 1s/step - loss: 0.1374 - mae: 0.3059 - val_loss: 0.1147 - val_mae: 0.2765\n",
      "Epoch 19/200\n",
      "\u001b[1m58/58\u001b[0m \u001b[32m━━━━━━━━━━━━━━━━━━━━\u001b[0m\u001b[37m\u001b[0m \u001b[1m0s\u001b[0m 1s/step - loss: 0.1415 - mae: 0.3139\n",
      "Epoch 19: saving model to model_checkpoint.keras\n",
      "\u001b[1m58/58\u001b[0m \u001b[32m━━━━━━━━━━━━━━━━━━━━\u001b[0m\u001b[37m\u001b[0m \u001b[1m62s\u001b[0m 1s/step - loss: 0.1414 - mae: 0.3138 - val_loss: 0.1120 - val_mae: 0.2716\n",
      "Epoch 20/200\n",
      "\u001b[1m58/58\u001b[0m \u001b[32m━━━━━━━━━━━━━━━━━━━━\u001b[0m\u001b[37m\u001b[0m \u001b[1m0s\u001b[0m 1s/step - loss: 0.1496 - mae: 0.3174\n",
      "Epoch 20: saving model to model_checkpoint.keras\n",
      "\u001b[1m58/58\u001b[0m \u001b[32m━━━━━━━━━━━━━━━━━━━━\u001b[0m\u001b[37m\u001b[0m \u001b[1m62s\u001b[0m 1s/step - loss: 0.1496 - mae: 0.3174 - val_loss: 0.1132 - val_mae: 0.2755\n",
      "Epoch 21/200\n",
      "\u001b[1m58/58\u001b[0m \u001b[32m━━━━━━━━━━━━━━━━━━━━\u001b[0m\u001b[37m\u001b[0m \u001b[1m0s\u001b[0m 1s/step - loss: 0.1356 - mae: 0.3026\n",
      "Epoch 21: saving model to model_checkpoint.keras\n",
      "\u001b[1m58/58\u001b[0m \u001b[32m━━━━━━━━━━━━━━━━━━━━\u001b[0m\u001b[37m\u001b[0m \u001b[1m62s\u001b[0m 1s/step - loss: 0.1357 - mae: 0.3027 - val_loss: 0.1093 - val_mae: 0.2718\n",
      "Epoch 22/200\n",
      "\u001b[1m58/58\u001b[0m \u001b[32m━━━━━━━━━━━━━━━━━━━━\u001b[0m\u001b[37m\u001b[0m \u001b[1m0s\u001b[0m 1s/step - loss: 0.1349 - mae: 0.3024\n",
      "Epoch 22: saving model to model_checkpoint.keras\n",
      "\u001b[1m58/58\u001b[0m \u001b[32m━━━━━━━━━━━━━━━━━━━━\u001b[0m\u001b[37m\u001b[0m \u001b[1m62s\u001b[0m 1s/step - loss: 0.1349 - mae: 0.3025 - val_loss: 0.1083 - val_mae: 0.2715\n",
      "Epoch 23/200\n",
      "\u001b[1m58/58\u001b[0m \u001b[32m━━━━━━━━━━━━━━━━━━━━\u001b[0m\u001b[37m\u001b[0m \u001b[1m0s\u001b[0m 1s/step - loss: 0.1378 - mae: 0.3034\n",
      "Epoch 23: saving model to model_checkpoint.keras\n",
      "\u001b[1m58/58\u001b[0m \u001b[32m━━━━━━━━━━━━━━━━━━━━\u001b[0m\u001b[37m\u001b[0m \u001b[1m62s\u001b[0m 1s/step - loss: 0.1377 - mae: 0.3034 - val_loss: 0.1113 - val_mae: 0.2715\n",
      "Epoch 24/200\n",
      "\u001b[1m58/58\u001b[0m \u001b[32m━━━━━━━━━━━━━━━━━━━━\u001b[0m\u001b[37m\u001b[0m \u001b[1m0s\u001b[0m 1s/step - loss: 0.1383 - mae: 0.3091\n",
      "Epoch 24: saving model to model_checkpoint.keras\n",
      "\u001b[1m58/58\u001b[0m \u001b[32m━━━━━━━━━━━━━━━━━━━━\u001b[0m\u001b[37m\u001b[0m \u001b[1m62s\u001b[0m 1s/step - loss: 0.1383 - mae: 0.3090 - val_loss: 0.1044 - val_mae: 0.2663\n",
      "Epoch 25/200\n",
      "\u001b[1m58/58\u001b[0m \u001b[32m━━━━━━━━━━━━━━━━━━━━\u001b[0m\u001b[37m\u001b[0m \u001b[1m0s\u001b[0m 1s/step - loss: 0.1292 - mae: 0.2971\n",
      "Epoch 25: saving model to model_checkpoint.keras\n",
      "\u001b[1m58/58\u001b[0m \u001b[32m━━━━━━━━━━━━━━━━━━━━\u001b[0m\u001b[37m\u001b[0m \u001b[1m62s\u001b[0m 1s/step - loss: 0.1292 - mae: 0.2971 - val_loss: 0.1028 - val_mae: 0.2639\n",
      "Epoch 26/200\n",
      "\u001b[1m58/58\u001b[0m \u001b[32m━━━━━━━━━━━━━━━━━━━━\u001b[0m\u001b[37m\u001b[0m \u001b[1m0s\u001b[0m 1s/step - loss: 0.1286 - mae: 0.2990\n",
      "Epoch 26: saving model to model_checkpoint.keras\n",
      "\u001b[1m58/58\u001b[0m \u001b[32m━━━━━━━━━━━━━━━━━━━━\u001b[0m\u001b[37m\u001b[0m \u001b[1m62s\u001b[0m 1s/step - loss: 0.1285 - mae: 0.2990 - val_loss: 0.0983 - val_mae: 0.2613\n",
      "Epoch 27/200\n",
      "\u001b[1m58/58\u001b[0m \u001b[32m━━━━━━━━━━━━━━━━━━━━\u001b[0m\u001b[37m\u001b[0m \u001b[1m0s\u001b[0m 1s/step - loss: 0.1277 - mae: 0.2951\n",
      "Epoch 27: saving model to model_checkpoint.keras\n",
      "\u001b[1m58/58\u001b[0m \u001b[32m━━━━━━━━━━━━━━━━━━━━\u001b[0m\u001b[37m\u001b[0m \u001b[1m62s\u001b[0m 1s/step - loss: 0.1277 - mae: 0.2951 - val_loss: 0.1040 - val_mae: 0.2670\n",
      "Epoch 28/200\n",
      "\u001b[1m58/58\u001b[0m \u001b[32m━━━━━━━━━━━━━━━━━━━━\u001b[0m\u001b[37m\u001b[0m \u001b[1m0s\u001b[0m 1s/step - loss: 0.1232 - mae: 0.2933\n",
      "Epoch 28: saving model to model_checkpoint.keras\n",
      "\u001b[1m58/58\u001b[0m \u001b[32m━━━━━━━━━━━━━━━━━━━━\u001b[0m\u001b[37m\u001b[0m \u001b[1m62s\u001b[0m 1s/step - loss: 0.1232 - mae: 0.2933 - val_loss: 0.1009 - val_mae: 0.2617\n",
      "Epoch 29/200\n",
      "\u001b[1m58/58\u001b[0m \u001b[32m━━━━━━━━━━━━━━━━━━━━\u001b[0m\u001b[37m\u001b[0m \u001b[1m0s\u001b[0m 1s/step - loss: 0.1374 - mae: 0.3087\n",
      "Epoch 29: saving model to model_checkpoint.keras\n",
      "\u001b[1m58/58\u001b[0m \u001b[32m━━━━━━━━━━━━━━━━━━━━\u001b[0m\u001b[37m\u001b[0m \u001b[1m62s\u001b[0m 1s/step - loss: 0.1373 - mae: 0.3085 - val_loss: 0.1006 - val_mae: 0.2609\n",
      "Epoch 30/200\n",
      "\u001b[1m58/58\u001b[0m \u001b[32m━━━━━━━━━━━━━━━━━━━━\u001b[0m\u001b[37m\u001b[0m \u001b[1m0s\u001b[0m 1s/step - loss: 0.1267 - mae: 0.2975\n",
      "Epoch 30: saving model to model_checkpoint.keras\n",
      "\u001b[1m58/58\u001b[0m \u001b[32m━━━━━━━━━━━━━━━━━━━━\u001b[0m\u001b[37m\u001b[0m \u001b[1m62s\u001b[0m 1s/step - loss: 0.1267 - mae: 0.2975 - val_loss: 0.1029 - val_mae: 0.2643\n",
      "Epoch 31/200\n",
      "\u001b[1m58/58\u001b[0m \u001b[32m━━━━━━━━━━━━━━━━━━━━\u001b[0m\u001b[37m\u001b[0m \u001b[1m0s\u001b[0m 1s/step - loss: 0.1325 - mae: 0.3019\n",
      "Epoch 31: saving model to model_checkpoint.keras\n",
      "\u001b[1m58/58\u001b[0m \u001b[32m━━━━━━━━━━━━━━━━━━━━\u001b[0m\u001b[37m\u001b[0m \u001b[1m62s\u001b[0m 1s/step - loss: 0.1324 - mae: 0.3019 - val_loss: 0.0983 - val_mae: 0.2553\n",
      "Epoch 32/200\n",
      "\u001b[1m58/58\u001b[0m \u001b[32m━━━━━━━━━━━━━━━━━━━━\u001b[0m\u001b[37m\u001b[0m \u001b[1m0s\u001b[0m 1s/step - loss: 0.1321 - mae: 0.3005\n",
      "Epoch 32: saving model to model_checkpoint.keras\n",
      "\u001b[1m58/58\u001b[0m \u001b[32m━━━━━━━━━━━━━━━━━━━━\u001b[0m\u001b[37m\u001b[0m \u001b[1m62s\u001b[0m 1s/step - loss: 0.1320 - mae: 0.3004 - val_loss: 0.0990 - val_mae: 0.2599\n",
      "Epoch 33/200\n",
      "\u001b[1m58/58\u001b[0m \u001b[32m━━━━━━━━━━━━━━━━━━━━\u001b[0m\u001b[37m\u001b[0m \u001b[1m0s\u001b[0m 1s/step - loss: 0.1212 - mae: 0.2884\n",
      "Epoch 33: saving model to model_checkpoint.keras\n",
      "\u001b[1m58/58\u001b[0m \u001b[32m━━━━━━━━━━━━━━━━━━━━\u001b[0m\u001b[37m\u001b[0m \u001b[1m62s\u001b[0m 1s/step - loss: 0.1212 - mae: 0.2885 - val_loss: 0.0988 - val_mae: 0.2619\n",
      "Epoch 34/200\n",
      "\u001b[1m58/58\u001b[0m \u001b[32m━━━━━━━━━━━━━━━━━━━━\u001b[0m\u001b[37m\u001b[0m \u001b[1m0s\u001b[0m 1s/step - loss: 0.1310 - mae: 0.3026\n",
      "Epoch 34: saving model to model_checkpoint.keras\n",
      "\u001b[1m58/58\u001b[0m \u001b[32m━━━━━━━━━━━━━━━━━━━━\u001b[0m\u001b[37m\u001b[0m \u001b[1m62s\u001b[0m 1s/step - loss: 0.1310 - mae: 0.3025 - val_loss: 0.0941 - val_mae: 0.2549\n",
      "Epoch 35/200\n",
      "\u001b[1m58/58\u001b[0m \u001b[32m━━━━━━━━━━━━━━━━━━━━\u001b[0m\u001b[37m\u001b[0m \u001b[1m0s\u001b[0m 1s/step - loss: 0.1258 - mae: 0.2938\n",
      "Epoch 35: saving model to model_checkpoint.keras\n",
      "\u001b[1m58/58\u001b[0m \u001b[32m━━━━━━━━━━━━━━━━━━━━\u001b[0m\u001b[37m\u001b[0m \u001b[1m62s\u001b[0m 1s/step - loss: 0.1258 - mae: 0.2938 - val_loss: 0.0957 - val_mae: 0.2559\n",
      "Epoch 36/200\n",
      "\u001b[1m58/58\u001b[0m \u001b[32m━━━━━━━━━━━━━━━━━━━━\u001b[0m\u001b[37m\u001b[0m \u001b[1m0s\u001b[0m 1s/step - loss: 0.1190 - mae: 0.2852\n",
      "Epoch 36: saving model to model_checkpoint.keras\n",
      "\u001b[1m58/58\u001b[0m \u001b[32m━━━━━━━━━━━━━━━━━━━━\u001b[0m\u001b[37m\u001b[0m \u001b[1m62s\u001b[0m 1s/step - loss: 0.1190 - mae: 0.2852 - val_loss: 0.0952 - val_mae: 0.2544\n",
      "Epoch 37/200\n",
      "\u001b[1m58/58\u001b[0m \u001b[32m━━━━━━━━━━━━━━━━━━━━\u001b[0m\u001b[37m\u001b[0m \u001b[1m0s\u001b[0m 1s/step - loss: 0.1178 - mae: 0.2872\n",
      "Epoch 37: saving model to model_checkpoint.keras\n",
      "\u001b[1m58/58\u001b[0m \u001b[32m━━━━━━━━━━━━━━━━━━━━\u001b[0m\u001b[37m\u001b[0m \u001b[1m62s\u001b[0m 1s/step - loss: 0.1178 - mae: 0.2873 - val_loss: 0.0941 - val_mae: 0.2588\n",
      "Epoch 38/200\n",
      "\u001b[1m58/58\u001b[0m \u001b[32m━━━━━━━━━━━━━━━━━━━━\u001b[0m\u001b[37m\u001b[0m \u001b[1m0s\u001b[0m 1s/step - loss: 0.1248 - mae: 0.2921\n",
      "Epoch 38: saving model to model_checkpoint.keras\n",
      "\u001b[1m58/58\u001b[0m \u001b[32m━━━━━━━━━━━━━━━━━━━━\u001b[0m\u001b[37m\u001b[0m \u001b[1m62s\u001b[0m 1s/step - loss: 0.1248 - mae: 0.2921 - val_loss: 0.0966 - val_mae: 0.2536\n",
      "Epoch 39/200\n",
      "\u001b[1m58/58\u001b[0m \u001b[32m━━━━━━━━━━━━━━━━━━━━\u001b[0m\u001b[37m\u001b[0m \u001b[1m0s\u001b[0m 1s/step - loss: 0.1271 - mae: 0.2972\n",
      "Epoch 39: saving model to model_checkpoint.keras\n",
      "\u001b[1m58/58\u001b[0m \u001b[32m━━━━━━━━━━━━━━━━━━━━\u001b[0m\u001b[37m\u001b[0m \u001b[1m62s\u001b[0m 1s/step - loss: 0.1271 - mae: 0.2971 - val_loss: 0.0940 - val_mae: 0.2544\n",
      "Epoch 40/200\n",
      "\u001b[1m58/58\u001b[0m \u001b[32m━━━━━━━━━━━━━━━━━━━━\u001b[0m\u001b[37m\u001b[0m \u001b[1m0s\u001b[0m 1s/step - loss: 0.1203 - mae: 0.2883\n",
      "Epoch 40: saving model to model_checkpoint.keras\n",
      "\u001b[1m58/58\u001b[0m \u001b[32m━━━━━━━━━━━━━━━━━━━━\u001b[0m\u001b[37m\u001b[0m \u001b[1m62s\u001b[0m 1s/step - loss: 0.1203 - mae: 0.2883 - val_loss: 0.0940 - val_mae: 0.2514\n",
      "Epoch 41/200\n",
      "\u001b[1m58/58\u001b[0m \u001b[32m━━━━━━━━━━━━━━━━━━━━\u001b[0m\u001b[37m\u001b[0m \u001b[1m0s\u001b[0m 1s/step - loss: 0.1184 - mae: 0.2865\n",
      "Epoch 41: saving model to model_checkpoint.keras\n",
      "\u001b[1m58/58\u001b[0m \u001b[32m━━━━━━━━━━━━━━━━━━━━\u001b[0m\u001b[37m\u001b[0m \u001b[1m62s\u001b[0m 1s/step - loss: 0.1184 - mae: 0.2865 - val_loss: 0.0960 - val_mae: 0.2515\n",
      "Epoch 42/200\n",
      "\u001b[1m58/58\u001b[0m \u001b[32m━━━━━━━━━━━━━━━━━━━━\u001b[0m\u001b[37m\u001b[0m \u001b[1m0s\u001b[0m 1s/step - loss: 0.1216 - mae: 0.2901\n",
      "Epoch 42: saving model to model_checkpoint.keras\n",
      "\u001b[1m58/58\u001b[0m \u001b[32m━━━━━━━━━━━━━━━━━━━━\u001b[0m\u001b[37m\u001b[0m \u001b[1m62s\u001b[0m 1s/step - loss: 0.1216 - mae: 0.2901 - val_loss: 0.0949 - val_mae: 0.2533\n",
      "Epoch 43/200\n",
      "\u001b[1m58/58\u001b[0m \u001b[32m━━━━━━━━━━━━━━━━━━━━\u001b[0m\u001b[37m\u001b[0m \u001b[1m0s\u001b[0m 1s/step - loss: 0.1094 - mae: 0.2732\n",
      "Epoch 43: saving model to model_checkpoint.keras\n",
      "\u001b[1m58/58\u001b[0m \u001b[32m━━━━━━━━━━━━━━━━━━━━\u001b[0m\u001b[37m\u001b[0m \u001b[1m62s\u001b[0m 1s/step - loss: 0.1095 - mae: 0.2733 - val_loss: 0.0904 - val_mae: 0.2486\n",
      "Epoch 44/200\n",
      "\u001b[1m58/58\u001b[0m \u001b[32m━━━━━━━━━━━━━━━━━━━━\u001b[0m\u001b[37m\u001b[0m \u001b[1m0s\u001b[0m 1s/step - loss: 0.1148 - mae: 0.2809\n",
      "Epoch 44: saving model to model_checkpoint.keras\n",
      "\u001b[1m58/58\u001b[0m \u001b[32m━━━━━━━━━━━━━━━━━━━━\u001b[0m\u001b[37m\u001b[0m \u001b[1m62s\u001b[0m 1s/step - loss: 0.1148 - mae: 0.2809 - val_loss: 0.0919 - val_mae: 0.2496\n",
      "Epoch 45/200\n",
      "\u001b[1m58/58\u001b[0m \u001b[32m━━━━━━━━━━━━━━━━━━━━\u001b[0m\u001b[37m\u001b[0m \u001b[1m0s\u001b[0m 1s/step - loss: 0.1154 - mae: 0.2836\n",
      "Epoch 45: saving model to model_checkpoint.keras\n",
      "\u001b[1m58/58\u001b[0m \u001b[32m━━━━━━━━━━━━━━━━━━━━\u001b[0m\u001b[37m\u001b[0m \u001b[1m62s\u001b[0m 1s/step - loss: 0.1153 - mae: 0.2835 - val_loss: 0.0921 - val_mae: 0.2498\n",
      "Epoch 46/200\n",
      "\u001b[1m58/58\u001b[0m \u001b[32m━━━━━━━━━━━━━━━━━━━━\u001b[0m\u001b[37m\u001b[0m \u001b[1m0s\u001b[0m 1s/step - loss: 0.1149 - mae: 0.2793\n",
      "Epoch 46: saving model to model_checkpoint.keras\n",
      "\u001b[1m58/58\u001b[0m \u001b[32m━━━━━━━━━━━━━━━━━━━━\u001b[0m\u001b[37m\u001b[0m \u001b[1m62s\u001b[0m 1s/step - loss: 0.1149 - mae: 0.2793 - val_loss: 0.0902 - val_mae: 0.2500\n",
      "Epoch 47/200\n",
      "\u001b[1m58/58\u001b[0m \u001b[32m━━━━━━━━━━━━━━━━━━━━\u001b[0m\u001b[37m\u001b[0m \u001b[1m0s\u001b[0m 1s/step - loss: 0.1109 - mae: 0.2764\n",
      "Epoch 47: saving model to model_checkpoint.keras\n",
      "\u001b[1m58/58\u001b[0m \u001b[32m━━━━━━━━━━━━━━━━━━━━\u001b[0m\u001b[37m\u001b[0m \u001b[1m62s\u001b[0m 1s/step - loss: 0.1110 - mae: 0.2764 - val_loss: 0.0884 - val_mae: 0.2420\n",
      "Epoch 48/200\n",
      "\u001b[1m58/58\u001b[0m \u001b[32m━━━━━━━━━━━━━━━━━━━━\u001b[0m\u001b[37m\u001b[0m \u001b[1m0s\u001b[0m 1s/step - loss: 0.1209 - mae: 0.2917\n",
      "Epoch 48: saving model to model_checkpoint.keras\n",
      "\u001b[1m58/58\u001b[0m \u001b[32m━━━━━━━━━━━━━━━━━━━━\u001b[0m\u001b[37m\u001b[0m \u001b[1m62s\u001b[0m 1s/step - loss: 0.1208 - mae: 0.2915 - val_loss: 0.0927 - val_mae: 0.2514\n",
      "Epoch 49/200\n",
      "\u001b[1m58/58\u001b[0m \u001b[32m━━━━━━━━━━━━━━━━━━━━\u001b[0m\u001b[37m\u001b[0m \u001b[1m0s\u001b[0m 1s/step - loss: 0.1087 - mae: 0.2726\n",
      "Epoch 49: saving model to model_checkpoint.keras\n",
      "\u001b[1m58/58\u001b[0m \u001b[32m━━━━━━━━━━━━━━━━━━━━\u001b[0m\u001b[37m\u001b[0m \u001b[1m62s\u001b[0m 1s/step - loss: 0.1087 - mae: 0.2726 - val_loss: 0.0894 - val_mae: 0.2407\n",
      "Epoch 50/200\n",
      "\u001b[1m58/58\u001b[0m \u001b[32m━━━━━━━━━━━━━━━━━━━━\u001b[0m\u001b[37m\u001b[0m \u001b[1m0s\u001b[0m 1s/step - loss: 0.1092 - mae: 0.2731\n",
      "Epoch 50: saving model to model_checkpoint.keras\n",
      "\u001b[1m58/58\u001b[0m \u001b[32m━━━━━━━━━━━━━━━━━━━━\u001b[0m\u001b[37m\u001b[0m \u001b[1m62s\u001b[0m 1s/step - loss: 0.1092 - mae: 0.2732 - val_loss: 0.0930 - val_mae: 0.2489\n",
      "Epoch 51/200\n",
      "\u001b[1m58/58\u001b[0m \u001b[32m━━━━━━━━━━━━━━━━━━━━\u001b[0m\u001b[37m\u001b[0m \u001b[1m0s\u001b[0m 1s/step - loss: 0.1050 - mae: 0.2663\n",
      "Epoch 51: saving model to model_checkpoint.keras\n",
      "\u001b[1m58/58\u001b[0m \u001b[32m━━━━━━━━━━━━━━━━━━━━\u001b[0m\u001b[37m\u001b[0m \u001b[1m62s\u001b[0m 1s/step - loss: 0.1051 - mae: 0.2664 - val_loss: 0.0927 - val_mae: 0.2514\n",
      "Epoch 52/200\n",
      "\u001b[1m58/58\u001b[0m \u001b[32m━━━━━━━━━━━━━━━━━━━━\u001b[0m\u001b[37m\u001b[0m \u001b[1m0s\u001b[0m 1s/step - loss: 0.1101 - mae: 0.2757\n",
      "Epoch 52: saving model to model_checkpoint.keras\n",
      "\u001b[1m58/58\u001b[0m \u001b[32m━━━━━━━━━━━━━━━━━━━━\u001b[0m\u001b[37m\u001b[0m \u001b[1m62s\u001b[0m 1s/step - loss: 0.1102 - mae: 0.2758 - val_loss: 0.0870 - val_mae: 0.2441\n",
      "Epoch 53/200\n",
      "\u001b[1m58/58\u001b[0m \u001b[32m━━━━━━━━━━━━━━━━━━━━\u001b[0m\u001b[37m\u001b[0m \u001b[1m0s\u001b[0m 1s/step - loss: 0.1087 - mae: 0.2753\n",
      "Epoch 53: saving model to model_checkpoint.keras\n",
      "\u001b[1m58/58\u001b[0m \u001b[32m━━━━━━━━━━━━━━━━━━━━\u001b[0m\u001b[37m\u001b[0m \u001b[1m62s\u001b[0m 1s/step - loss: 0.1088 - mae: 0.2753 - val_loss: 0.0916 - val_mae: 0.2397\n",
      "Epoch 54/200\n",
      "\u001b[1m58/58\u001b[0m \u001b[32m━━━━━━━━━━━━━━━━━━━━\u001b[0m\u001b[37m\u001b[0m \u001b[1m0s\u001b[0m 1s/step - loss: 0.1137 - mae: 0.2782\n",
      "Epoch 54: saving model to model_checkpoint.keras\n",
      "\u001b[1m58/58\u001b[0m \u001b[32m━━━━━━━━━━━━━━━━━━━━\u001b[0m\u001b[37m\u001b[0m \u001b[1m62s\u001b[0m 1s/step - loss: 0.1137 - mae: 0.2782 - val_loss: 0.0872 - val_mae: 0.2461\n",
      "Epoch 55/200\n",
      "\u001b[1m58/58\u001b[0m \u001b[32m━━━━━━━━━━━━━━━━━━━━\u001b[0m\u001b[37m\u001b[0m \u001b[1m0s\u001b[0m 1s/step - loss: 0.1142 - mae: 0.2813\n",
      "Epoch 55: saving model to model_checkpoint.keras\n",
      "\u001b[1m58/58\u001b[0m \u001b[32m━━━━━━━━━━━━━━━━━━━━\u001b[0m\u001b[37m\u001b[0m \u001b[1m62s\u001b[0m 1s/step - loss: 0.1142 - mae: 0.2813 - val_loss: 0.0848 - val_mae: 0.2379\n",
      "Epoch 56/200\n",
      "\u001b[1m58/58\u001b[0m \u001b[32m━━━━━━━━━━━━━━━━━━━━\u001b[0m\u001b[37m\u001b[0m \u001b[1m0s\u001b[0m 1s/step - loss: 0.1099 - mae: 0.2767\n",
      "Epoch 56: saving model to model_checkpoint.keras\n",
      "\u001b[1m58/58\u001b[0m \u001b[32m━━━━━━━━━━━━━━━━━━━━\u001b[0m\u001b[37m\u001b[0m \u001b[1m62s\u001b[0m 1s/step - loss: 0.1099 - mae: 0.2768 - val_loss: 0.0890 - val_mae: 0.2468\n",
      "Epoch 57/200\n",
      "\u001b[1m58/58\u001b[0m \u001b[32m━━━━━━━━━━━━━━━━━━━━\u001b[0m\u001b[37m\u001b[0m \u001b[1m0s\u001b[0m 1s/step - loss: 0.1086 - mae: 0.2722\n",
      "Epoch 57: saving model to model_checkpoint.keras\n",
      "\u001b[1m58/58\u001b[0m \u001b[32m━━━━━━━━━━━━━━━━━━━━\u001b[0m\u001b[37m\u001b[0m \u001b[1m62s\u001b[0m 1s/step - loss: 0.1087 - mae: 0.2722 - val_loss: 0.0856 - val_mae: 0.2384\n",
      "Epoch 58/200\n",
      "\u001b[1m58/58\u001b[0m \u001b[32m━━━━━━━━━━━━━━━━━━━━\u001b[0m\u001b[37m\u001b[0m \u001b[1m0s\u001b[0m 1s/step - loss: 0.1110 - mae: 0.2725\n",
      "Epoch 58: saving model to model_checkpoint.keras\n",
      "\u001b[1m58/58\u001b[0m \u001b[32m━━━━━━━━━━━━━━━━━━━━\u001b[0m\u001b[37m\u001b[0m \u001b[1m62s\u001b[0m 1s/step - loss: 0.1109 - mae: 0.2725 - val_loss: 0.0868 - val_mae: 0.2433\n",
      "Epoch 59/200\n",
      "\u001b[1m58/58\u001b[0m \u001b[32m━━━━━━━━━━━━━━━━━━━━\u001b[0m\u001b[37m\u001b[0m \u001b[1m0s\u001b[0m 1s/step - loss: 0.1120 - mae: 0.2798\n",
      "Epoch 59: saving model to model_checkpoint.keras\n",
      "\u001b[1m58/58\u001b[0m \u001b[32m━━━━━━━━━━━━━━━━━━━━\u001b[0m\u001b[37m\u001b[0m \u001b[1m62s\u001b[0m 1s/step - loss: 0.1120 - mae: 0.2798 - val_loss: 0.0847 - val_mae: 0.2389\n",
      "Epoch 60/200\n",
      "\u001b[1m58/58\u001b[0m \u001b[32m━━━━━━━━━━━━━━━━━━━━\u001b[0m\u001b[37m\u001b[0m \u001b[1m0s\u001b[0m 1s/step - loss: 0.1103 - mae: 0.2753\n",
      "Epoch 60: saving model to model_checkpoint.keras\n",
      "\u001b[1m58/58\u001b[0m \u001b[32m━━━━━━━━━━━━━━━━━━━━\u001b[0m\u001b[37m\u001b[0m \u001b[1m62s\u001b[0m 1s/step - loss: 0.1103 - mae: 0.2753 - val_loss: 0.0890 - val_mae: 0.2459\n",
      "Epoch 61/200\n",
      "\u001b[1m58/58\u001b[0m \u001b[32m━━━━━━━━━━━━━━━━━━━━\u001b[0m\u001b[37m\u001b[0m \u001b[1m0s\u001b[0m 1s/step - loss: 0.1075 - mae: 0.2726\n",
      "Epoch 61: saving model to model_checkpoint.keras\n",
      "\u001b[1m58/58\u001b[0m \u001b[32m━━━━━━━━━━━━━━━━━━━━\u001b[0m\u001b[37m\u001b[0m \u001b[1m62s\u001b[0m 1s/step - loss: 0.1075 - mae: 0.2726 - val_loss: 0.0848 - val_mae: 0.2375\n",
      "Epoch 62/200\n",
      "\u001b[1m58/58\u001b[0m \u001b[32m━━━━━━━━━━━━━━━━━━━━\u001b[0m\u001b[37m\u001b[0m \u001b[1m0s\u001b[0m 1s/step - loss: 0.1067 - mae: 0.2700\n",
      "Epoch 62: saving model to model_checkpoint.keras\n",
      "\u001b[1m58/58\u001b[0m \u001b[32m━━━━━━━━━━━━━━━━━━━━\u001b[0m\u001b[37m\u001b[0m \u001b[1m62s\u001b[0m 1s/step - loss: 0.1067 - mae: 0.2700 - val_loss: 0.0853 - val_mae: 0.2409\n",
      "Epoch 63/200\n",
      "\u001b[1m58/58\u001b[0m \u001b[32m━━━━━━━━━━━━━━━━━━━━\u001b[0m\u001b[37m\u001b[0m \u001b[1m0s\u001b[0m 1s/step - loss: 0.1056 - mae: 0.2724\n",
      "Epoch 63: saving model to model_checkpoint.keras\n",
      "\u001b[1m58/58\u001b[0m \u001b[32m━━━━━━━━━━━━━━━━━━━━\u001b[0m\u001b[37m\u001b[0m \u001b[1m62s\u001b[0m 1s/step - loss: 0.1055 - mae: 0.2724 - val_loss: 0.0865 - val_mae: 0.2418\n",
      "Epoch 64/200\n",
      "\u001b[1m58/58\u001b[0m \u001b[32m━━━━━━━━━━━━━━━━━━━━\u001b[0m\u001b[37m\u001b[0m \u001b[1m0s\u001b[0m 1s/step - loss: 0.1061 - mae: 0.2728\n",
      "Epoch 64: saving model to model_checkpoint.keras\n",
      "\u001b[1m58/58\u001b[0m \u001b[32m━━━━━━━━━━━━━━━━━━━━\u001b[0m\u001b[37m\u001b[0m \u001b[1m62s\u001b[0m 1s/step - loss: 0.1061 - mae: 0.2728 - val_loss: 0.0886 - val_mae: 0.2387\n",
      "Epoch 65/200\n",
      "\u001b[1m58/58\u001b[0m \u001b[32m━━━━━━━━━━━━━━━━━━━━\u001b[0m\u001b[37m\u001b[0m \u001b[1m0s\u001b[0m 1s/step - loss: 0.1054 - mae: 0.2692\n",
      "Epoch 65: saving model to model_checkpoint.keras\n",
      "\u001b[1m58/58\u001b[0m \u001b[32m━━━━━━━━━━━━━━━━━━━━\u001b[0m\u001b[37m\u001b[0m \u001b[1m62s\u001b[0m 1s/step - loss: 0.1054 - mae: 0.2691 - val_loss: 0.0893 - val_mae: 0.2451\n",
      "Epoch 66/200\n",
      "\u001b[1m58/58\u001b[0m \u001b[32m━━━━━━━━━━━━━━━━━━━━\u001b[0m\u001b[37m\u001b[0m \u001b[1m0s\u001b[0m 1s/step - loss: 0.1061 - mae: 0.2680\n",
      "Epoch 66: saving model to model_checkpoint.keras\n",
      "\u001b[1m58/58\u001b[0m \u001b[32m━━━━━━━━━━━━━━━━━━━━\u001b[0m\u001b[37m\u001b[0m \u001b[1m62s\u001b[0m 1s/step - loss: 0.1062 - mae: 0.2681 - val_loss: 0.0882 - val_mae: 0.2416\n",
      "Epoch 67/200\n",
      "\u001b[1m58/58\u001b[0m \u001b[32m━━━━━━━━━━━━━━━━━━━━\u001b[0m\u001b[37m\u001b[0m \u001b[1m0s\u001b[0m 1s/step - loss: 0.1048 - mae: 0.2663\n",
      "Epoch 67: saving model to model_checkpoint.keras\n",
      "\u001b[1m58/58\u001b[0m \u001b[32m━━━━━━━━━━━━━━━━━━━━\u001b[0m\u001b[37m\u001b[0m \u001b[1m62s\u001b[0m 1s/step - loss: 0.1049 - mae: 0.2664 - val_loss: 0.0840 - val_mae: 0.2353\n",
      "Epoch 68/200\n",
      "\u001b[1m58/58\u001b[0m \u001b[32m━━━━━━━━━━━━━━━━━━━━\u001b[0m\u001b[37m\u001b[0m \u001b[1m0s\u001b[0m 1s/step - loss: 0.1047 - mae: 0.2683\n",
      "Epoch 68: saving model to model_checkpoint.keras\n",
      "\u001b[1m58/58\u001b[0m \u001b[32m━━━━━━━━━━━━━━━━━━━━\u001b[0m\u001b[37m\u001b[0m \u001b[1m62s\u001b[0m 1s/step - loss: 0.1046 - mae: 0.2682 - val_loss: 0.0792 - val_mae: 0.2307\n",
      "Epoch 69/200\n",
      "\u001b[1m58/58\u001b[0m \u001b[32m━━━━━━━━━━━━━━━━━━━━\u001b[0m\u001b[37m\u001b[0m \u001b[1m0s\u001b[0m 1s/step - loss: 0.0983 - mae: 0.2604\n",
      "Epoch 69: saving model to model_checkpoint.keras\n",
      "\u001b[1m58/58\u001b[0m \u001b[32m━━━━━━━━━━━━━━━━━━━━\u001b[0m\u001b[37m\u001b[0m \u001b[1m62s\u001b[0m 1s/step - loss: 0.0983 - mae: 0.2605 - val_loss: 0.0873 - val_mae: 0.2329\n",
      "Epoch 70/200\n",
      "\u001b[1m58/58\u001b[0m \u001b[32m━━━━━━━━━━━━━━━━━━━━\u001b[0m\u001b[37m\u001b[0m \u001b[1m0s\u001b[0m 1s/step - loss: 0.1074 - mae: 0.2712\n",
      "Epoch 70: saving model to model_checkpoint.keras\n",
      "\u001b[1m58/58\u001b[0m \u001b[32m━━━━━━━━━━━━━━━━━━━━\u001b[0m\u001b[37m\u001b[0m \u001b[1m62s\u001b[0m 1s/step - loss: 0.1073 - mae: 0.2712 - val_loss: 0.0817 - val_mae: 0.2325\n",
      "Epoch 71/200\n",
      "\u001b[1m58/58\u001b[0m \u001b[32m━━━━━━━━━━━━━━━━━━━━\u001b[0m\u001b[37m\u001b[0m \u001b[1m0s\u001b[0m 1s/step - loss: 0.1044 - mae: 0.2671\n",
      "Epoch 71: saving model to model_checkpoint.keras\n",
      "\u001b[1m58/58\u001b[0m \u001b[32m━━━━━━━━━━━━━━━━━━━━\u001b[0m\u001b[37m\u001b[0m \u001b[1m62s\u001b[0m 1s/step - loss: 0.1044 - mae: 0.2672 - val_loss: 0.0820 - val_mae: 0.2373\n",
      "Epoch 72/200\n",
      "\u001b[1m58/58\u001b[0m \u001b[32m━━━━━━━━━━━━━━━━━━━━\u001b[0m\u001b[37m\u001b[0m \u001b[1m0s\u001b[0m 1s/step - loss: 0.1027 - mae: 0.2660\n",
      "Epoch 72: saving model to model_checkpoint.keras\n",
      "\u001b[1m58/58\u001b[0m \u001b[32m━━━━━━━━━━━━━━━━━━━━\u001b[0m\u001b[37m\u001b[0m \u001b[1m62s\u001b[0m 1s/step - loss: 0.1027 - mae: 0.2660 - val_loss: 0.0812 - val_mae: 0.2334\n",
      "Epoch 73/200\n",
      "\u001b[1m58/58\u001b[0m \u001b[32m━━━━━━━━━━━━━━━━━━━━\u001b[0m\u001b[37m\u001b[0m \u001b[1m0s\u001b[0m 1s/step - loss: 0.1074 - mae: 0.2735\n",
      "Epoch 73: saving model to model_checkpoint.keras\n",
      "\u001b[1m58/58\u001b[0m \u001b[32m━━━━━━━━━━━━━━━━━━━━\u001b[0m\u001b[37m\u001b[0m \u001b[1m62s\u001b[0m 1s/step - loss: 0.1074 - mae: 0.2735 - val_loss: 0.0787 - val_mae: 0.2308\n",
      "Epoch 74/200\n",
      "\u001b[1m58/58\u001b[0m \u001b[32m━━━━━━━━━━━━━━━━━━━━\u001b[0m\u001b[37m\u001b[0m \u001b[1m0s\u001b[0m 1s/step - loss: 0.0998 - mae: 0.2627\n",
      "Epoch 74: saving model to model_checkpoint.keras\n",
      "\u001b[1m58/58\u001b[0m \u001b[32m━━━━━━━━━━━━━━━━━━━━\u001b[0m\u001b[37m\u001b[0m \u001b[1m62s\u001b[0m 1s/step - loss: 0.0998 - mae: 0.2627 - val_loss: 0.0828 - val_mae: 0.2337\n",
      "Epoch 75/200\n",
      "\u001b[1m58/58\u001b[0m \u001b[32m━━━━━━━━━━━━━━━━━━━━\u001b[0m\u001b[37m\u001b[0m \u001b[1m0s\u001b[0m 1s/step - loss: 0.1010 - mae: 0.2604\n",
      "Epoch 75: saving model to model_checkpoint.keras\n",
      "\u001b[1m58/58\u001b[0m \u001b[32m━━━━━━━━━━━━━━━━━━━━\u001b[0m\u001b[37m\u001b[0m \u001b[1m62s\u001b[0m 1s/step - loss: 0.1010 - mae: 0.2604 - val_loss: 0.0862 - val_mae: 0.2410\n",
      "Epoch 76/200\n",
      "\u001b[1m58/58\u001b[0m \u001b[32m━━━━━━━━━━━━━━━━━━━━\u001b[0m\u001b[37m\u001b[0m \u001b[1m0s\u001b[0m 1s/step - loss: 0.1085 - mae: 0.2710\n",
      "Epoch 76: saving model to model_checkpoint.keras\n",
      "\u001b[1m58/58\u001b[0m \u001b[32m━━━━━━━━━━━━━━━━━━━━\u001b[0m\u001b[37m\u001b[0m \u001b[1m62s\u001b[0m 1s/step - loss: 0.1084 - mae: 0.2709 - val_loss: 0.0775 - val_mae: 0.2286\n",
      "Epoch 77/200\n",
      "\u001b[1m58/58\u001b[0m \u001b[32m━━━━━━━━━━━━━━━━━━━━\u001b[0m\u001b[37m\u001b[0m \u001b[1m0s\u001b[0m 1s/step - loss: 0.1046 - mae: 0.2664\n",
      "Epoch 77: saving model to model_checkpoint.keras\n",
      "\u001b[1m58/58\u001b[0m \u001b[32m━━━━━━━━━━━━━━━━━━━━\u001b[0m\u001b[37m\u001b[0m \u001b[1m62s\u001b[0m 1s/step - loss: 0.1046 - mae: 0.2664 - val_loss: 0.0816 - val_mae: 0.2335\n",
      "Epoch 78/200\n",
      "\u001b[1m58/58\u001b[0m \u001b[32m━━━━━━━━━━━━━━━━━━━━\u001b[0m\u001b[37m\u001b[0m \u001b[1m0s\u001b[0m 1s/step - loss: 0.1021 - mae: 0.2624\n",
      "Epoch 78: saving model to model_checkpoint.keras\n",
      "\u001b[1m58/58\u001b[0m \u001b[32m━━━━━━━━━━━━━━━━━━━━\u001b[0m\u001b[37m\u001b[0m \u001b[1m62s\u001b[0m 1s/step - loss: 0.1021 - mae: 0.2623 - val_loss: 0.0762 - val_mae: 0.2245\n",
      "Epoch 79/200\n",
      "\u001b[1m58/58\u001b[0m \u001b[32m━━━━━━━━━━━━━━━━━━━━\u001b[0m\u001b[37m\u001b[0m \u001b[1m0s\u001b[0m 1s/step - loss: 0.0987 - mae: 0.2584\n",
      "Epoch 79: saving model to model_checkpoint.keras\n",
      "\u001b[1m58/58\u001b[0m \u001b[32m━━━━━━━━━━━━━━━━━━━━\u001b[0m\u001b[37m\u001b[0m \u001b[1m62s\u001b[0m 1s/step - loss: 0.0987 - mae: 0.2584 - val_loss: 0.0785 - val_mae: 0.2317\n",
      "Epoch 80/200\n",
      "\u001b[1m58/58\u001b[0m \u001b[32m━━━━━━━━━━━━━━━━━━━━\u001b[0m\u001b[37m\u001b[0m \u001b[1m0s\u001b[0m 1s/step - loss: 0.0979 - mae: 0.2580\n",
      "Epoch 80: saving model to model_checkpoint.keras\n",
      "\u001b[1m58/58\u001b[0m \u001b[32m━━━━━━━━━━━━━━━━━━━━\u001b[0m\u001b[37m\u001b[0m \u001b[1m62s\u001b[0m 1s/step - loss: 0.0979 - mae: 0.2579 - val_loss: 0.0883 - val_mae: 0.2360\n",
      "Epoch 81/200\n",
      "\u001b[1m58/58\u001b[0m \u001b[32m━━━━━━━━━━━━━━━━━━━━\u001b[0m\u001b[37m\u001b[0m \u001b[1m0s\u001b[0m 1s/step - loss: 0.1017 - mae: 0.2617\n",
      "Epoch 81: saving model to model_checkpoint.keras\n",
      "\u001b[1m58/58\u001b[0m \u001b[32m━━━━━━━━━━━━━━━━━━━━\u001b[0m\u001b[37m\u001b[0m \u001b[1m62s\u001b[0m 1s/step - loss: 0.1017 - mae: 0.2617 - val_loss: 0.0773 - val_mae: 0.2260\n",
      "Epoch 82/200\n",
      "\u001b[1m58/58\u001b[0m \u001b[32m━━━━━━━━━━━━━━━━━━━━\u001b[0m\u001b[37m\u001b[0m \u001b[1m0s\u001b[0m 1s/step - loss: 0.0981 - mae: 0.2574\n",
      "Epoch 82: saving model to model_checkpoint.keras\n",
      "\u001b[1m58/58\u001b[0m \u001b[32m━━━━━━━━━━━━━━━━━━━━\u001b[0m\u001b[37m\u001b[0m \u001b[1m62s\u001b[0m 1s/step - loss: 0.0981 - mae: 0.2574 - val_loss: 0.0776 - val_mae: 0.2247\n",
      "Epoch 83/200\n",
      "\u001b[1m58/58\u001b[0m \u001b[32m━━━━━━━━━━━━━━━━━━━━\u001b[0m\u001b[37m\u001b[0m \u001b[1m0s\u001b[0m 1s/step - loss: 0.1004 - mae: 0.2600\n",
      "Epoch 83: saving model to model_checkpoint.keras\n",
      "\u001b[1m58/58\u001b[0m \u001b[32m━━━━━━━━━━━━━━━━━━━━\u001b[0m\u001b[37m\u001b[0m \u001b[1m62s\u001b[0m 1s/step - loss: 0.1004 - mae: 0.2600 - val_loss: 0.0880 - val_mae: 0.2356\n",
      "Epoch 84/200\n",
      "\u001b[1m58/58\u001b[0m \u001b[32m━━━━━━━━━━━━━━━━━━━━\u001b[0m\u001b[37m\u001b[0m \u001b[1m0s\u001b[0m 1s/step - loss: 0.0908 - mae: 0.2472\n",
      "Epoch 84: saving model to model_checkpoint.keras\n",
      "\u001b[1m58/58\u001b[0m \u001b[32m━━━━━━━━━━━━━━━━━━━━\u001b[0m\u001b[37m\u001b[0m \u001b[1m62s\u001b[0m 1s/step - loss: 0.0908 - mae: 0.2473 - val_loss: 0.0746 - val_mae: 0.2228\n",
      "Epoch 85/200\n",
      "\u001b[1m58/58\u001b[0m \u001b[32m━━━━━━━━━━━━━━━━━━━━\u001b[0m\u001b[37m\u001b[0m \u001b[1m0s\u001b[0m 1s/step - loss: 0.0947 - mae: 0.2537\n",
      "Epoch 85: saving model to model_checkpoint.keras\n",
      "\u001b[1m58/58\u001b[0m \u001b[32m━━━━━━━━━━━━━━━━━━━━\u001b[0m\u001b[37m\u001b[0m \u001b[1m62s\u001b[0m 1s/step - loss: 0.0947 - mae: 0.2537 - val_loss: 0.0795 - val_mae: 0.2278\n",
      "Epoch 86/200\n",
      "\u001b[1m58/58\u001b[0m \u001b[32m━━━━━━━━━━━━━━━━━━━━\u001b[0m\u001b[37m\u001b[0m \u001b[1m0s\u001b[0m 1s/step - loss: 0.0923 - mae: 0.2504\n",
      "Epoch 86: saving model to model_checkpoint.keras\n",
      "\u001b[1m58/58\u001b[0m \u001b[32m━━━━━━━━━━━━━━━━━━━━\u001b[0m\u001b[37m\u001b[0m \u001b[1m62s\u001b[0m 1s/step - loss: 0.0923 - mae: 0.2505 - val_loss: 0.0764 - val_mae: 0.2240\n",
      "Epoch 87/200\n",
      "\u001b[1m58/58\u001b[0m \u001b[32m━━━━━━━━━━━━━━━━━━━━\u001b[0m\u001b[37m\u001b[0m \u001b[1m0s\u001b[0m 1s/step - loss: 0.0933 - mae: 0.2532\n",
      "Epoch 87: saving model to model_checkpoint.keras\n",
      "\u001b[1m58/58\u001b[0m \u001b[32m━━━━━━━━━━━━━━━━━━━━\u001b[0m\u001b[37m\u001b[0m \u001b[1m62s\u001b[0m 1s/step - loss: 0.0933 - mae: 0.2532 - val_loss: 0.0742 - val_mae: 0.2191\n",
      "Epoch 88/200\n",
      "\u001b[1m58/58\u001b[0m \u001b[32m━━━━━━━━━━━━━━━━━━━━\u001b[0m\u001b[37m\u001b[0m \u001b[1m0s\u001b[0m 1s/step - loss: 0.0931 - mae: 0.2515\n",
      "Epoch 88: saving model to model_checkpoint.keras\n",
      "\u001b[1m58/58\u001b[0m \u001b[32m━━━━━━━━━━━━━━━━━━━━\u001b[0m\u001b[37m\u001b[0m \u001b[1m62s\u001b[0m 1s/step - loss: 0.0932 - mae: 0.2516 - val_loss: 0.0759 - val_mae: 0.2253\n",
      "Epoch 89/200\n",
      "\u001b[1m58/58\u001b[0m \u001b[32m━━━━━━━━━━━━━━━━━━━━\u001b[0m\u001b[37m\u001b[0m \u001b[1m0s\u001b[0m 1s/step - loss: 0.0949 - mae: 0.2528\n",
      "Epoch 89: saving model to model_checkpoint.keras\n",
      "\u001b[1m58/58\u001b[0m \u001b[32m━━━━━━━━━━━━━━━━━━━━\u001b[0m\u001b[37m\u001b[0m \u001b[1m62s\u001b[0m 1s/step - loss: 0.0949 - mae: 0.2528 - val_loss: 0.0768 - val_mae: 0.2275\n",
      "Epoch 90/200\n",
      "\u001b[1m58/58\u001b[0m \u001b[32m━━━━━━━━━━━━━━━━━━━━\u001b[0m\u001b[37m\u001b[0m \u001b[1m0s\u001b[0m 1s/step - loss: 0.0929 - mae: 0.2516\n",
      "Epoch 90: saving model to model_checkpoint.keras\n",
      "\u001b[1m58/58\u001b[0m \u001b[32m━━━━━━━━━━━━━━━━━━━━\u001b[0m\u001b[37m\u001b[0m \u001b[1m62s\u001b[0m 1s/step - loss: 0.0930 - mae: 0.2516 - val_loss: 0.0727 - val_mae: 0.2192\n",
      "Epoch 91/200\n",
      "\u001b[1m58/58\u001b[0m \u001b[32m━━━━━━━━━━━━━━━━━━━━\u001b[0m\u001b[37m\u001b[0m \u001b[1m0s\u001b[0m 1s/step - loss: 0.0959 - mae: 0.2526\n",
      "Epoch 91: saving model to model_checkpoint.keras\n",
      "\u001b[1m58/58\u001b[0m \u001b[32m━━━━━━━━━━━━━━━━━━━━\u001b[0m\u001b[37m\u001b[0m \u001b[1m62s\u001b[0m 1s/step - loss: 0.0958 - mae: 0.2525 - val_loss: 0.0730 - val_mae: 0.2182\n",
      "Epoch 92/200\n",
      "\u001b[1m58/58\u001b[0m \u001b[32m━━━━━━━━━━━━━━━━━━━━\u001b[0m\u001b[37m\u001b[0m \u001b[1m0s\u001b[0m 1s/step - loss: 0.0978 - mae: 0.2586\n",
      "Epoch 92: saving model to model_checkpoint.keras\n",
      "\u001b[1m58/58\u001b[0m \u001b[32m━━━━━━━━━━━━━━━━━━━━\u001b[0m\u001b[37m\u001b[0m \u001b[1m62s\u001b[0m 1s/step - loss: 0.0978 - mae: 0.2586 - val_loss: 0.0751 - val_mae: 0.2234\n",
      "Epoch 93/200\n",
      "\u001b[1m58/58\u001b[0m \u001b[32m━━━━━━━━━━━━━━━━━━━━\u001b[0m\u001b[37m\u001b[0m \u001b[1m0s\u001b[0m 1s/step - loss: 0.0926 - mae: 0.2500\n",
      "Epoch 93: saving model to model_checkpoint.keras\n",
      "\u001b[1m58/58\u001b[0m \u001b[32m━━━━━━━━━━━━━━━━━━━━\u001b[0m\u001b[37m\u001b[0m \u001b[1m62s\u001b[0m 1s/step - loss: 0.0926 - mae: 0.2500 - val_loss: 0.0740 - val_mae: 0.2191\n",
      "Epoch 94/200\n",
      "\u001b[1m58/58\u001b[0m \u001b[32m━━━━━━━━━━━━━━━━━━━━\u001b[0m\u001b[37m\u001b[0m \u001b[1m0s\u001b[0m 1s/step - loss: 0.0929 - mae: 0.2508\n",
      "Epoch 94: saving model to model_checkpoint.keras\n",
      "\u001b[1m58/58\u001b[0m \u001b[32m━━━━━━━━━━━━━━━━━━━━\u001b[0m\u001b[37m\u001b[0m \u001b[1m62s\u001b[0m 1s/step - loss: 0.0928 - mae: 0.2508 - val_loss: 0.0721 - val_mae: 0.2186\n",
      "Epoch 95/200\n",
      "\u001b[1m58/58\u001b[0m \u001b[32m━━━━━━━━━━━━━━━━━━━━\u001b[0m\u001b[37m\u001b[0m \u001b[1m0s\u001b[0m 1s/step - loss: 0.0907 - mae: 0.2478\n",
      "Epoch 95: saving model to model_checkpoint.keras\n",
      "\u001b[1m58/58\u001b[0m \u001b[32m━━━━━━━━━━━━━━━━━━━━\u001b[0m\u001b[37m\u001b[0m \u001b[1m62s\u001b[0m 1s/step - loss: 0.0907 - mae: 0.2479 - val_loss: 0.0728 - val_mae: 0.2199\n",
      "Epoch 96/200\n",
      "\u001b[1m58/58\u001b[0m \u001b[32m━━━━━━━━━━━━━━━━━━━━\u001b[0m\u001b[37m\u001b[0m \u001b[1m0s\u001b[0m 1s/step - loss: 0.0922 - mae: 0.2503\n",
      "Epoch 96: saving model to model_checkpoint.keras\n",
      "\u001b[1m58/58\u001b[0m \u001b[32m━━━━━━━━━━━━━━━━━━━━\u001b[0m\u001b[37m\u001b[0m \u001b[1m62s\u001b[0m 1s/step - loss: 0.0922 - mae: 0.2503 - val_loss: 0.0732 - val_mae: 0.2217\n",
      "Epoch 97/200\n",
      "\u001b[1m58/58\u001b[0m \u001b[32m━━━━━━━━━━━━━━━━━━━━\u001b[0m\u001b[37m\u001b[0m \u001b[1m0s\u001b[0m 1s/step - loss: 0.0894 - mae: 0.2459\n",
      "Epoch 97: saving model to model_checkpoint.keras\n",
      "\u001b[1m58/58\u001b[0m \u001b[32m━━━━━━━━━━━━━━━━━━━━\u001b[0m\u001b[37m\u001b[0m \u001b[1m62s\u001b[0m 1s/step - loss: 0.0894 - mae: 0.2460 - val_loss: 0.0710 - val_mae: 0.2184\n",
      "Epoch 98/200\n",
      "\u001b[1m58/58\u001b[0m \u001b[32m━━━━━━━━━━━━━━━━━━━━\u001b[0m\u001b[37m\u001b[0m \u001b[1m0s\u001b[0m 1s/step - loss: 0.0858 - mae: 0.2394\n",
      "Epoch 98: saving model to model_checkpoint.keras\n",
      "\u001b[1m58/58\u001b[0m \u001b[32m━━━━━━━━━━━━━━━━━━━━\u001b[0m\u001b[37m\u001b[0m \u001b[1m62s\u001b[0m 1s/step - loss: 0.0858 - mae: 0.2396 - val_loss: 0.0785 - val_mae: 0.2266\n",
      "Epoch 99/200\n",
      "\u001b[1m58/58\u001b[0m \u001b[32m━━━━━━━━━━━━━━━━━━━━\u001b[0m\u001b[37m\u001b[0m \u001b[1m0s\u001b[0m 1s/step - loss: 0.0856 - mae: 0.2375\n",
      "Epoch 99: saving model to model_checkpoint.keras\n",
      "\u001b[1m58/58\u001b[0m \u001b[32m━━━━━━━━━━━━━━━━━━━━\u001b[0m\u001b[37m\u001b[0m \u001b[1m62s\u001b[0m 1s/step - loss: 0.0856 - mae: 0.2377 - val_loss: 0.0770 - val_mae: 0.2274\n",
      "Epoch 100/200\n",
      "\u001b[1m58/58\u001b[0m \u001b[32m━━━━━━━━━━━━━━━━━━━━\u001b[0m\u001b[37m\u001b[0m \u001b[1m0s\u001b[0m 1s/step - loss: 0.0914 - mae: 0.2476\n",
      "Epoch 100: saving model to model_checkpoint.keras\n",
      "\u001b[1m58/58\u001b[0m \u001b[32m━━━━━━━━━━━━━━━━━━━━\u001b[0m\u001b[37m\u001b[0m \u001b[1m62s\u001b[0m 1s/step - loss: 0.0914 - mae: 0.2476 - val_loss: 0.0747 - val_mae: 0.2237\n",
      "Epoch 101/200\n",
      "\u001b[1m58/58\u001b[0m \u001b[32m━━━━━━━━━━━━━━━━━━━━\u001b[0m\u001b[37m\u001b[0m \u001b[1m0s\u001b[0m 1s/step - loss: 0.0968 - mae: 0.2540\n",
      "Epoch 101: saving model to model_checkpoint.keras\n",
      "\u001b[1m58/58\u001b[0m \u001b[32m━━━━━━━━━━━━━━━━━━━━\u001b[0m\u001b[37m\u001b[0m \u001b[1m62s\u001b[0m 1s/step - loss: 0.0967 - mae: 0.2539 - val_loss: 0.0753 - val_mae: 0.2200\n",
      "Epoch 102/200\n",
      "\u001b[1m58/58\u001b[0m \u001b[32m━━━━━━━━━━━━━━━━━━━━\u001b[0m\u001b[37m\u001b[0m \u001b[1m0s\u001b[0m 1s/step - loss: 0.0893 - mae: 0.2434\n",
      "Epoch 102: saving model to model_checkpoint.keras\n",
      "\u001b[1m58/58\u001b[0m \u001b[32m━━━━━━━━━━━━━━━━━━━━\u001b[0m\u001b[37m\u001b[0m \u001b[1m62s\u001b[0m 1s/step - loss: 0.0893 - mae: 0.2434 - val_loss: 0.0693 - val_mae: 0.2123\n",
      "Epoch 103/200\n",
      "\u001b[1m58/58\u001b[0m \u001b[32m━━━━━━━━━━━━━━━━━━━━\u001b[0m\u001b[37m\u001b[0m \u001b[1m0s\u001b[0m 1s/step - loss: 0.0835 - mae: 0.2355\n",
      "Epoch 103: saving model to model_checkpoint.keras\n",
      "\u001b[1m58/58\u001b[0m \u001b[32m━━━━━━━━━━━━━━━━━━━━\u001b[0m\u001b[37m\u001b[0m \u001b[1m62s\u001b[0m 1s/step - loss: 0.0836 - mae: 0.2357 - val_loss: 0.0688 - val_mae: 0.2123\n",
      "Epoch 104/200\n",
      "\u001b[1m58/58\u001b[0m \u001b[32m━━━━━━━━━━━━━━━━━━━━\u001b[0m\u001b[37m\u001b[0m \u001b[1m0s\u001b[0m 1s/step - loss: 0.0900 - mae: 0.2472\n",
      "Epoch 104: saving model to model_checkpoint.keras\n",
      "\u001b[1m58/58\u001b[0m \u001b[32m━━━━━━━━━━━━━━━━━━━━\u001b[0m\u001b[37m\u001b[0m \u001b[1m62s\u001b[0m 1s/step - loss: 0.0900 - mae: 0.2471 - val_loss: 0.0683 - val_mae: 0.2109\n",
      "Epoch 105/200\n",
      "\u001b[1m58/58\u001b[0m \u001b[32m━━━━━━━━━━━━━━━━━━━━\u001b[0m\u001b[37m\u001b[0m \u001b[1m0s\u001b[0m 1s/step - loss: 0.0865 - mae: 0.2391\n",
      "Epoch 105: saving model to model_checkpoint.keras\n",
      "\u001b[1m58/58\u001b[0m \u001b[32m━━━━━━━━━━━━━━━━━━━━\u001b[0m\u001b[37m\u001b[0m \u001b[1m62s\u001b[0m 1s/step - loss: 0.0865 - mae: 0.2391 - val_loss: 0.0730 - val_mae: 0.2187\n",
      "Epoch 106/200\n",
      "\u001b[1m58/58\u001b[0m \u001b[32m━━━━━━━━━━━━━━━━━━━━\u001b[0m\u001b[37m\u001b[0m \u001b[1m0s\u001b[0m 1s/step - loss: 0.0853 - mae: 0.2407\n",
      "Epoch 106: saving model to model_checkpoint.keras\n",
      "\u001b[1m58/58\u001b[0m \u001b[32m━━━━━━━━━━━━━━━━━━━━\u001b[0m\u001b[37m\u001b[0m \u001b[1m62s\u001b[0m 1s/step - loss: 0.0853 - mae: 0.2407 - val_loss: 0.0675 - val_mae: 0.2087\n",
      "Epoch 107/200\n",
      "\u001b[1m58/58\u001b[0m \u001b[32m━━━━━━━━━━━━━━━━━━━━\u001b[0m\u001b[37m\u001b[0m \u001b[1m0s\u001b[0m 1s/step - loss: 0.0875 - mae: 0.2398\n",
      "Epoch 107: saving model to model_checkpoint.keras\n",
      "\u001b[1m58/58\u001b[0m \u001b[32m━━━━━━━━━━━━━━━━━━━━\u001b[0m\u001b[37m\u001b[0m \u001b[1m62s\u001b[0m 1s/step - loss: 0.0875 - mae: 0.2398 - val_loss: 0.0658 - val_mae: 0.2082\n",
      "Epoch 108/200\n",
      "\u001b[1m58/58\u001b[0m \u001b[32m━━━━━━━━━━━━━━━━━━━━\u001b[0m\u001b[37m\u001b[0m \u001b[1m0s\u001b[0m 1s/step - loss: 0.0840 - mae: 0.2372\n",
      "Epoch 108: saving model to model_checkpoint.keras\n",
      "\u001b[1m58/58\u001b[0m \u001b[32m━━━━━━━━━━━━━━━━━━━━\u001b[0m\u001b[37m\u001b[0m \u001b[1m62s\u001b[0m 1s/step - loss: 0.0841 - mae: 0.2373 - val_loss: 0.0720 - val_mae: 0.2182\n",
      "Epoch 109/200\n",
      "\u001b[1m58/58\u001b[0m \u001b[32m━━━━━━━━━━━━━━━━━━━━\u001b[0m\u001b[37m\u001b[0m \u001b[1m0s\u001b[0m 1s/step - loss: 0.0858 - mae: 0.2432\n",
      "Epoch 109: saving model to model_checkpoint.keras\n",
      "\u001b[1m58/58\u001b[0m \u001b[32m━━━━━━━━━━━━━━━━━━━━\u001b[0m\u001b[37m\u001b[0m \u001b[1m62s\u001b[0m 1s/step - loss: 0.0858 - mae: 0.2431 - val_loss: 0.0709 - val_mae: 0.2166\n",
      "Epoch 110/200\n",
      "\u001b[1m58/58\u001b[0m \u001b[32m━━━━━━━━━━━━━━━━━━━━\u001b[0m\u001b[37m\u001b[0m \u001b[1m0s\u001b[0m 1s/step - loss: 0.0853 - mae: 0.2385\n",
      "Epoch 110: saving model to model_checkpoint.keras\n",
      "\u001b[1m58/58\u001b[0m \u001b[32m━━━━━━━━━━━━━━━━━━━━\u001b[0m\u001b[37m\u001b[0m \u001b[1m62s\u001b[0m 1s/step - loss: 0.0853 - mae: 0.2385 - val_loss: 0.0661 - val_mae: 0.2061\n",
      "Epoch 111/200\n",
      "\u001b[1m58/58\u001b[0m \u001b[32m━━━━━━━━━━━━━━━━━━━━\u001b[0m\u001b[37m\u001b[0m \u001b[1m0s\u001b[0m 1s/step - loss: 0.0868 - mae: 0.2412\n",
      "Epoch 111: saving model to model_checkpoint.keras\n",
      "\u001b[1m58/58\u001b[0m \u001b[32m━━━━━━━━━━━━━━━━━━━━\u001b[0m\u001b[37m\u001b[0m \u001b[1m62s\u001b[0m 1s/step - loss: 0.0868 - mae: 0.2412 - val_loss: 0.0687 - val_mae: 0.2119\n",
      "Epoch 112/200\n",
      "\u001b[1m58/58\u001b[0m \u001b[32m━━━━━━━━━━━━━━━━━━━━\u001b[0m\u001b[37m\u001b[0m \u001b[1m0s\u001b[0m 1s/step - loss: 0.0928 - mae: 0.2465\n",
      "Epoch 112: saving model to model_checkpoint.keras\n",
      "\u001b[1m58/58\u001b[0m \u001b[32m━━━━━━━━━━━━━━━━━━━━\u001b[0m\u001b[37m\u001b[0m \u001b[1m62s\u001b[0m 1s/step - loss: 0.0928 - mae: 0.2464 - val_loss: 0.0707 - val_mae: 0.2146\n",
      "Epoch 113/200\n",
      "\u001b[1m58/58\u001b[0m \u001b[32m━━━━━━━━━━━━━━━━━━━━\u001b[0m\u001b[37m\u001b[0m \u001b[1m0s\u001b[0m 1s/step - loss: 0.0885 - mae: 0.2458\n",
      "Epoch 113: saving model to model_checkpoint.keras\n",
      "\u001b[1m58/58\u001b[0m \u001b[32m━━━━━━━━━━━━━━━━━━━━\u001b[0m\u001b[37m\u001b[0m \u001b[1m62s\u001b[0m 1s/step - loss: 0.0885 - mae: 0.2457 - val_loss: 0.0755 - val_mae: 0.2199\n",
      "Epoch 114/200\n",
      "\u001b[1m58/58\u001b[0m \u001b[32m━━━━━━━━━━━━━━━━━━━━\u001b[0m\u001b[37m\u001b[0m \u001b[1m0s\u001b[0m 1s/step - loss: 0.0852 - mae: 0.2363\n",
      "Epoch 114: saving model to model_checkpoint.keras\n",
      "\u001b[1m58/58\u001b[0m \u001b[32m━━━━━━━━━━━━━━━━━━━━\u001b[0m\u001b[37m\u001b[0m \u001b[1m62s\u001b[0m 1s/step - loss: 0.0852 - mae: 0.2364 - val_loss: 0.0649 - val_mae: 0.2067\n",
      "Epoch 115/200\n",
      "\u001b[1m58/58\u001b[0m \u001b[32m━━━━━━━━━━━━━━━━━━━━\u001b[0m\u001b[37m\u001b[0m \u001b[1m0s\u001b[0m 1s/step - loss: 0.0823 - mae: 0.2353\n",
      "Epoch 115: saving model to model_checkpoint.keras\n",
      "\u001b[1m58/58\u001b[0m \u001b[32m━━━━━━━━━━━━━━━━━━━━\u001b[0m\u001b[37m\u001b[0m \u001b[1m62s\u001b[0m 1s/step - loss: 0.0824 - mae: 0.2353 - val_loss: 0.0649 - val_mae: 0.2068\n",
      "Epoch 116/200\n",
      "\u001b[1m58/58\u001b[0m \u001b[32m━━━━━━━━━━━━━━━━━━━━\u001b[0m\u001b[37m\u001b[0m \u001b[1m0s\u001b[0m 1s/step - loss: 0.0849 - mae: 0.2411\n",
      "Epoch 116: saving model to model_checkpoint.keras\n",
      "\u001b[1m58/58\u001b[0m \u001b[32m━━━━━━━━━━━━━━━━━━━━\u001b[0m\u001b[37m\u001b[0m \u001b[1m62s\u001b[0m 1s/step - loss: 0.0848 - mae: 0.2410 - val_loss: 0.0653 - val_mae: 0.2061\n",
      "Epoch 117/200\n",
      "\u001b[1m58/58\u001b[0m \u001b[32m━━━━━━━━━━━━━━━━━━━━\u001b[0m\u001b[37m\u001b[0m \u001b[1m0s\u001b[0m 1s/step - loss: 0.0827 - mae: 0.2358\n",
      "Epoch 117: saving model to model_checkpoint.keras\n",
      "\u001b[1m58/58\u001b[0m \u001b[32m━━━━━━━━━━━━━━━━━━━━\u001b[0m\u001b[37m\u001b[0m \u001b[1m62s\u001b[0m 1s/step - loss: 0.0827 - mae: 0.2359 - val_loss: 0.0686 - val_mae: 0.2098\n",
      "Epoch 118/200\n",
      "\u001b[1m58/58\u001b[0m \u001b[32m━━━━━━━━━━━━━━━━━━━━\u001b[0m\u001b[37m\u001b[0m \u001b[1m0s\u001b[0m 1s/step - loss: 0.0820 - mae: 0.2341\n",
      "Epoch 118: saving model to model_checkpoint.keras\n",
      "\u001b[1m58/58\u001b[0m \u001b[32m━━━━━━━━━━━━━━━━━━━━\u001b[0m\u001b[37m\u001b[0m \u001b[1m62s\u001b[0m 1s/step - loss: 0.0820 - mae: 0.2340 - val_loss: 0.0637 - val_mae: 0.2040\n",
      "Epoch 119/200\n",
      "\u001b[1m58/58\u001b[0m \u001b[32m━━━━━━━━━━━━━━━━━━━━\u001b[0m\u001b[37m\u001b[0m \u001b[1m0s\u001b[0m 1s/step - loss: 0.0849 - mae: 0.2371\n",
      "Epoch 119: saving model to model_checkpoint.keras\n",
      "\u001b[1m58/58\u001b[0m \u001b[32m━━━━━━━━━━━━━━━━━━━━\u001b[0m\u001b[37m\u001b[0m \u001b[1m62s\u001b[0m 1s/step - loss: 0.0849 - mae: 0.2371 - val_loss: 0.0735 - val_mae: 0.2168\n",
      "Epoch 120/200\n",
      "\u001b[1m58/58\u001b[0m \u001b[32m━━━━━━━━━━━━━━━━━━━━\u001b[0m\u001b[37m\u001b[0m \u001b[1m0s\u001b[0m 1s/step - loss: 0.0820 - mae: 0.2322\n",
      "Epoch 120: saving model to model_checkpoint.keras\n",
      "\u001b[1m58/58\u001b[0m \u001b[32m━━━━━━━━━━━━━━━━━━━━\u001b[0m\u001b[37m\u001b[0m \u001b[1m62s\u001b[0m 1s/step - loss: 0.0819 - mae: 0.2322 - val_loss: 0.0671 - val_mae: 0.2122\n",
      "Epoch 121/200\n",
      "\u001b[1m58/58\u001b[0m \u001b[32m━━━━━━━━━━━━━━━━━━━━\u001b[0m\u001b[37m\u001b[0m \u001b[1m0s\u001b[0m 1s/step - loss: 0.0778 - mae: 0.2287\n",
      "Epoch 121: saving model to model_checkpoint.keras\n",
      "\u001b[1m58/58\u001b[0m \u001b[32m━━━━━━━━━━━━━━━━━━━━\u001b[0m\u001b[37m\u001b[0m \u001b[1m62s\u001b[0m 1s/step - loss: 0.0778 - mae: 0.2287 - val_loss: 0.0660 - val_mae: 0.2063\n",
      "Epoch 122/200\n",
      "\u001b[1m58/58\u001b[0m \u001b[32m━━━━━━━━━━━━━━━━━━━━\u001b[0m\u001b[37m\u001b[0m \u001b[1m0s\u001b[0m 1s/step - loss: 0.0809 - mae: 0.2314\n",
      "Epoch 122: saving model to model_checkpoint.keras\n",
      "\u001b[1m58/58\u001b[0m \u001b[32m━━━━━━━━━━━━━━━━━━━━\u001b[0m\u001b[37m\u001b[0m \u001b[1m62s\u001b[0m 1s/step - loss: 0.0809 - mae: 0.2314 - val_loss: 0.0636 - val_mae: 0.2045\n",
      "Epoch 123/200\n",
      "\u001b[1m58/58\u001b[0m \u001b[32m━━━━━━━━━━━━━━━━━━━━\u001b[0m\u001b[37m\u001b[0m \u001b[1m0s\u001b[0m 1s/step - loss: 0.0763 - mae: 0.2258\n",
      "Epoch 123: saving model to model_checkpoint.keras\n",
      "\u001b[1m58/58\u001b[0m \u001b[32m━━━━━━━━━━━━━━━━━━━━\u001b[0m\u001b[37m\u001b[0m \u001b[1m62s\u001b[0m 1s/step - loss: 0.0764 - mae: 0.2259 - val_loss: 0.0665 - val_mae: 0.2114\n",
      "Epoch 124/200\n",
      "\u001b[1m58/58\u001b[0m \u001b[32m━━━━━━━━━━━━━━━━━━━━\u001b[0m\u001b[37m\u001b[0m \u001b[1m0s\u001b[0m 1s/step - loss: 0.0859 - mae: 0.2406\n",
      "Epoch 124: saving model to model_checkpoint.keras\n",
      "\u001b[1m58/58\u001b[0m \u001b[32m━━━━━━━━━━━━━━━━━━━━\u001b[0m\u001b[37m\u001b[0m \u001b[1m62s\u001b[0m 1s/step - loss: 0.0859 - mae: 0.2405 - val_loss: 0.0649 - val_mae: 0.2057\n",
      "Epoch 125/200\n",
      "\u001b[1m58/58\u001b[0m \u001b[32m━━━━━━━━━━━━━━━━━━━━\u001b[0m\u001b[37m\u001b[0m \u001b[1m0s\u001b[0m 1s/step - loss: 0.0818 - mae: 0.2339\n",
      "Epoch 125: saving model to model_checkpoint.keras\n",
      "\u001b[1m58/58\u001b[0m \u001b[32m━━━━━━━━━━━━━━━━━━━━\u001b[0m\u001b[37m\u001b[0m \u001b[1m62s\u001b[0m 1s/step - loss: 0.0817 - mae: 0.2338 - val_loss: 0.0648 - val_mae: 0.2044\n",
      "Epoch 126/200\n",
      "\u001b[1m58/58\u001b[0m \u001b[32m━━━━━━━━━━━━━━━━━━━━\u001b[0m\u001b[37m\u001b[0m \u001b[1m0s\u001b[0m 1s/step - loss: 0.0835 - mae: 0.2364\n",
      "Epoch 126: saving model to model_checkpoint.keras\n",
      "\u001b[1m58/58\u001b[0m \u001b[32m━━━━━━━━━━━━━━━━━━━━\u001b[0m\u001b[37m\u001b[0m \u001b[1m62s\u001b[0m 1s/step - loss: 0.0835 - mae: 0.2363 - val_loss: 0.0637 - val_mae: 0.2023\n",
      "Epoch 127/200\n",
      "\u001b[1m58/58\u001b[0m \u001b[32m━━━━━━━━━━━━━━━━━━━━\u001b[0m\u001b[37m\u001b[0m \u001b[1m0s\u001b[0m 1s/step - loss: 0.0781 - mae: 0.2260\n",
      "Epoch 127: saving model to model_checkpoint.keras\n",
      "\u001b[1m58/58\u001b[0m \u001b[32m━━━━━━━━━━━━━━━━━━━━\u001b[0m\u001b[37m\u001b[0m \u001b[1m62s\u001b[0m 1s/step - loss: 0.0781 - mae: 0.2261 - val_loss: 0.0633 - val_mae: 0.2029\n",
      "Epoch 128/200\n",
      "\u001b[1m58/58\u001b[0m \u001b[32m━━━━━━━━━━━━━━━━━━━━\u001b[0m\u001b[37m\u001b[0m \u001b[1m0s\u001b[0m 1s/step - loss: 0.0805 - mae: 0.2329\n",
      "Epoch 128: saving model to model_checkpoint.keras\n",
      "\u001b[1m58/58\u001b[0m \u001b[32m━━━━━━━━━━━━━━━━━━━━\u001b[0m\u001b[37m\u001b[0m \u001b[1m62s\u001b[0m 1s/step - loss: 0.0805 - mae: 0.2327 - val_loss: 0.0708 - val_mae: 0.2177\n",
      "Epoch 129/200\n",
      "\u001b[1m58/58\u001b[0m \u001b[32m━━━━━━━━━━━━━━━━━━━━\u001b[0m\u001b[37m\u001b[0m \u001b[1m0s\u001b[0m 1s/step - loss: 0.0814 - mae: 0.2311\n",
      "Epoch 129: saving model to model_checkpoint.keras\n",
      "\u001b[1m58/58\u001b[0m \u001b[32m━━━━━━━━━━━━━━━━━━━━\u001b[0m\u001b[37m\u001b[0m \u001b[1m62s\u001b[0m 1s/step - loss: 0.0814 - mae: 0.2310 - val_loss: 0.0659 - val_mae: 0.2035\n",
      "Epoch 130/200\n",
      "\u001b[1m58/58\u001b[0m \u001b[32m━━━━━━━━━━━━━━━━━━━━\u001b[0m\u001b[37m\u001b[0m \u001b[1m0s\u001b[0m 1s/step - loss: 0.0815 - mae: 0.2315\n",
      "Epoch 130: saving model to model_checkpoint.keras\n",
      "\u001b[1m58/58\u001b[0m \u001b[32m━━━━━━━━━━━━━━━━━━━━\u001b[0m\u001b[37m\u001b[0m \u001b[1m62s\u001b[0m 1s/step - loss: 0.0815 - mae: 0.2314 - val_loss: 0.0680 - val_mae: 0.2108\n",
      "Epoch 131/200\n",
      "\u001b[1m58/58\u001b[0m \u001b[32m━━━━━━━━━━━━━━━━━━━━\u001b[0m\u001b[37m\u001b[0m \u001b[1m0s\u001b[0m 1s/step - loss: 0.0815 - mae: 0.2318\n",
      "Epoch 131: saving model to model_checkpoint.keras\n",
      "\u001b[1m58/58\u001b[0m \u001b[32m━━━━━━━━━━━━━━━━━━━━\u001b[0m\u001b[37m\u001b[0m \u001b[1m62s\u001b[0m 1s/step - loss: 0.0814 - mae: 0.2317 - val_loss: 0.0690 - val_mae: 0.2107\n",
      "Epoch 132/200\n",
      "\u001b[1m58/58\u001b[0m \u001b[32m━━━━━━━━━━━━━━━━━━━━\u001b[0m\u001b[37m\u001b[0m \u001b[1m0s\u001b[0m 1s/step - loss: 0.0777 - mae: 0.2268\n",
      "Epoch 132: saving model to model_checkpoint.keras\n",
      "\u001b[1m58/58\u001b[0m \u001b[32m━━━━━━━━━━━━━━━━━━━━\u001b[0m\u001b[37m\u001b[0m \u001b[1m62s\u001b[0m 1s/step - loss: 0.0777 - mae: 0.2267 - val_loss: 0.0599 - val_mae: 0.1964\n",
      "Epoch 133/200\n",
      "\u001b[1m58/58\u001b[0m \u001b[32m━━━━━━━━━━━━━━━━━━━━\u001b[0m\u001b[37m\u001b[0m \u001b[1m0s\u001b[0m 1s/step - loss: 0.0737 - mae: 0.2197\n",
      "Epoch 133: saving model to model_checkpoint.keras\n",
      "\u001b[1m58/58\u001b[0m \u001b[32m━━━━━━━━━━━━━━━━━━━━\u001b[0m\u001b[37m\u001b[0m \u001b[1m62s\u001b[0m 1s/step - loss: 0.0737 - mae: 0.2197 - val_loss: 0.0594 - val_mae: 0.1966\n",
      "Epoch 134/200\n",
      "\u001b[1m58/58\u001b[0m \u001b[32m━━━━━━━━━━━━━━━━━━━━\u001b[0m\u001b[37m\u001b[0m \u001b[1m0s\u001b[0m 1s/step - loss: 0.0787 - mae: 0.2244\n",
      "Epoch 134: saving model to model_checkpoint.keras\n",
      "\u001b[1m58/58\u001b[0m \u001b[32m━━━━━━━━━━━━━━━━━━━━\u001b[0m\u001b[37m\u001b[0m \u001b[1m62s\u001b[0m 1s/step - loss: 0.0788 - mae: 0.2245 - val_loss: 0.0625 - val_mae: 0.2014\n",
      "Epoch 135/200\n",
      "\u001b[1m58/58\u001b[0m \u001b[32m━━━━━━━━━━━━━━━━━━━━\u001b[0m\u001b[37m\u001b[0m \u001b[1m0s\u001b[0m 1s/step - loss: 0.0757 - mae: 0.2262\n",
      "Epoch 135: saving model to model_checkpoint.keras\n",
      "\u001b[1m58/58\u001b[0m \u001b[32m━━━━━━━━━━━━━━━━━━━━\u001b[0m\u001b[37m\u001b[0m \u001b[1m62s\u001b[0m 1s/step - loss: 0.0757 - mae: 0.2262 - val_loss: 0.0578 - val_mae: 0.1924\n",
      "Epoch 136/200\n",
      "\u001b[1m58/58\u001b[0m \u001b[32m━━━━━━━━━━━━━━━━━━━━\u001b[0m\u001b[37m\u001b[0m \u001b[1m0s\u001b[0m 1s/step - loss: 0.0712 - mae: 0.2157\n",
      "Epoch 136: saving model to model_checkpoint.keras\n",
      "\u001b[1m58/58\u001b[0m \u001b[32m━━━━━━━━━━━━━━━━━━━━\u001b[0m\u001b[37m\u001b[0m \u001b[1m62s\u001b[0m 1s/step - loss: 0.0713 - mae: 0.2158 - val_loss: 0.0595 - val_mae: 0.1958\n",
      "Epoch 137/200\n",
      "\u001b[1m58/58\u001b[0m \u001b[32m━━━━━━━━━━━━━━━━━━━━\u001b[0m\u001b[37m\u001b[0m \u001b[1m0s\u001b[0m 1s/step - loss: 0.0750 - mae: 0.2230\n",
      "Epoch 137: saving model to model_checkpoint.keras\n",
      "\u001b[1m58/58\u001b[0m \u001b[32m━━━━━━━━━━━━━━━━━━━━\u001b[0m\u001b[37m\u001b[0m \u001b[1m62s\u001b[0m 1s/step - loss: 0.0750 - mae: 0.2230 - val_loss: 0.0580 - val_mae: 0.1919\n",
      "Epoch 138/200\n",
      "\u001b[1m58/58\u001b[0m \u001b[32m━━━━━━━━━━━━━━━━━━━━\u001b[0m\u001b[37m\u001b[0m \u001b[1m0s\u001b[0m 1s/step - loss: 0.0719 - mae: 0.2193\n",
      "Epoch 138: saving model to model_checkpoint.keras\n",
      "\u001b[1m58/58\u001b[0m \u001b[32m━━━━━━━━━━━━━━━━━━━━\u001b[0m\u001b[37m\u001b[0m \u001b[1m62s\u001b[0m 1s/step - loss: 0.0719 - mae: 0.2193 - val_loss: 0.0647 - val_mae: 0.2059\n",
      "Epoch 139/200\n",
      "\u001b[1m58/58\u001b[0m \u001b[32m━━━━━━━━━━━━━━━━━━━━\u001b[0m\u001b[37m\u001b[0m \u001b[1m0s\u001b[0m 1s/step - loss: 0.0714 - mae: 0.2210\n",
      "Epoch 139: saving model to model_checkpoint.keras\n",
      "\u001b[1m58/58\u001b[0m \u001b[32m━━━━━━━━━━━━━━━━━━━━\u001b[0m\u001b[37m\u001b[0m \u001b[1m62s\u001b[0m 1s/step - loss: 0.0715 - mae: 0.2210 - val_loss: 0.0589 - val_mae: 0.1944\n",
      "Epoch 140/200\n",
      "\u001b[1m58/58\u001b[0m \u001b[32m━━━━━━━━━━━━━━━━━━━━\u001b[0m\u001b[37m\u001b[0m \u001b[1m0s\u001b[0m 1s/step - loss: 0.0694 - mae: 0.2107\n",
      "Epoch 140: saving model to model_checkpoint.keras\n",
      "\u001b[1m58/58\u001b[0m \u001b[32m━━━━━━━━━━━━━━━━━━━━\u001b[0m\u001b[37m\u001b[0m \u001b[1m62s\u001b[0m 1s/step - loss: 0.0695 - mae: 0.2109 - val_loss: 0.0657 - val_mae: 0.2037\n",
      "Epoch 141/200\n",
      "\u001b[1m58/58\u001b[0m \u001b[32m━━━━━━━━━━━━━━━━━━━━\u001b[0m\u001b[37m\u001b[0m \u001b[1m0s\u001b[0m 1s/step - loss: 0.0674 - mae: 0.2111\n",
      "Epoch 141: saving model to model_checkpoint.keras\n",
      "\u001b[1m58/58\u001b[0m \u001b[32m━━━━━━━━━━━━━━━━━━━━\u001b[0m\u001b[37m\u001b[0m \u001b[1m62s\u001b[0m 1s/step - loss: 0.0674 - mae: 0.2111 - val_loss: 0.0569 - val_mae: 0.1907\n",
      "Epoch 142/200\n",
      "\u001b[1m58/58\u001b[0m \u001b[32m━━━━━━━━━━━━━━━━━━━━\u001b[0m\u001b[37m\u001b[0m \u001b[1m0s\u001b[0m 1s/step - loss: 0.0726 - mae: 0.2180\n",
      "Epoch 142: saving model to model_checkpoint.keras\n",
      "\u001b[1m58/58\u001b[0m \u001b[32m━━━━━━━━━━━━━━━━━━━━\u001b[0m\u001b[37m\u001b[0m \u001b[1m62s\u001b[0m 1s/step - loss: 0.0726 - mae: 0.2181 - val_loss: 0.0602 - val_mae: 0.1961\n",
      "Epoch 143/200\n",
      "\u001b[1m58/58\u001b[0m \u001b[32m━━━━━━━━━━━━━━━━━━━━\u001b[0m\u001b[37m\u001b[0m \u001b[1m0s\u001b[0m 1s/step - loss: 0.0691 - mae: 0.2149\n",
      "Epoch 143: saving model to model_checkpoint.keras\n",
      "\u001b[1m58/58\u001b[0m \u001b[32m━━━━━━━━━━━━━━━━━━━━\u001b[0m\u001b[37m\u001b[0m \u001b[1m62s\u001b[0m 1s/step - loss: 0.0691 - mae: 0.2150 - val_loss: 0.0579 - val_mae: 0.1916\n",
      "Epoch 144/200\n",
      "\u001b[1m58/58\u001b[0m \u001b[32m━━━━━━━━━━━━━━━━━━━━\u001b[0m\u001b[37m\u001b[0m \u001b[1m0s\u001b[0m 1s/step - loss: 0.0734 - mae: 0.2192\n",
      "Epoch 144: saving model to model_checkpoint.keras\n",
      "\u001b[1m58/58\u001b[0m \u001b[32m━━━━━━━━━━━━━━━━━━━━\u001b[0m\u001b[37m\u001b[0m \u001b[1m62s\u001b[0m 1s/step - loss: 0.0734 - mae: 0.2192 - val_loss: 0.0618 - val_mae: 0.1986\n",
      "Epoch 145/200\n",
      "\u001b[1m58/58\u001b[0m \u001b[32m━━━━━━━━━━━━━━━━━━━━\u001b[0m\u001b[37m\u001b[0m \u001b[1m0s\u001b[0m 1s/step - loss: 0.0715 - mae: 0.2154\n",
      "Epoch 145: saving model to model_checkpoint.keras\n",
      "\u001b[1m58/58\u001b[0m \u001b[32m━━━━━━━━━━━━━━━━━━━━\u001b[0m\u001b[37m\u001b[0m \u001b[1m62s\u001b[0m 1s/step - loss: 0.0715 - mae: 0.2154 - val_loss: 0.0680 - val_mae: 0.2039\n",
      "Epoch 146/200\n",
      "\u001b[1m58/58\u001b[0m \u001b[32m━━━━━━━━━━━━━━━━━━━━\u001b[0m\u001b[37m\u001b[0m \u001b[1m0s\u001b[0m 1s/step - loss: 0.0737 - mae: 0.2201\n",
      "Epoch 146: saving model to model_checkpoint.keras\n",
      "\u001b[1m58/58\u001b[0m \u001b[32m━━━━━━━━━━━━━━━━━━━━\u001b[0m\u001b[37m\u001b[0m \u001b[1m62s\u001b[0m 1s/step - loss: 0.0737 - mae: 0.2201 - val_loss: 0.0580 - val_mae: 0.1956\n",
      "Epoch 147/200\n",
      "\u001b[1m58/58\u001b[0m \u001b[32m━━━━━━━━━━━━━━━━━━━━\u001b[0m\u001b[37m\u001b[0m \u001b[1m0s\u001b[0m 1s/step - loss: 0.0739 - mae: 0.2188\n",
      "Epoch 147: saving model to model_checkpoint.keras\n",
      "\u001b[1m58/58\u001b[0m \u001b[32m━━━━━━━━━━━━━━━━━━━━\u001b[0m\u001b[37m\u001b[0m \u001b[1m62s\u001b[0m 1s/step - loss: 0.0739 - mae: 0.2187 - val_loss: 0.0626 - val_mae: 0.2019\n",
      "Epoch 148/200\n",
      "\u001b[1m58/58\u001b[0m \u001b[32m━━━━━━━━━━━━━━━━━━━━\u001b[0m\u001b[37m\u001b[0m \u001b[1m0s\u001b[0m 1s/step - loss: 0.0687 - mae: 0.2119\n",
      "Epoch 148: saving model to model_checkpoint.keras\n",
      "\u001b[1m58/58\u001b[0m \u001b[32m━━━━━━━━━━━━━━━━━━━━\u001b[0m\u001b[37m\u001b[0m \u001b[1m62s\u001b[0m 1s/step - loss: 0.0687 - mae: 0.2119 - val_loss: 0.0569 - val_mae: 0.1886\n",
      "Epoch 149/200\n",
      "\u001b[1m58/58\u001b[0m \u001b[32m━━━━━━━━━━━━━━━━━━━━\u001b[0m\u001b[37m\u001b[0m \u001b[1m0s\u001b[0m 1s/step - loss: 0.0680 - mae: 0.2113\n",
      "Epoch 149: saving model to model_checkpoint.keras\n",
      "\u001b[1m58/58\u001b[0m \u001b[32m━━━━━━━━━━━━━━━━━━━━\u001b[0m\u001b[37m\u001b[0m \u001b[1m62s\u001b[0m 1s/step - loss: 0.0680 - mae: 0.2114 - val_loss: 0.0608 - val_mae: 0.1989\n",
      "Epoch 150/200\n",
      "\u001b[1m58/58\u001b[0m \u001b[32m━━━━━━━━━━━━━━━━━━━━\u001b[0m\u001b[37m\u001b[0m \u001b[1m0s\u001b[0m 1s/step - loss: 0.0690 - mae: 0.2154\n",
      "Epoch 150: saving model to model_checkpoint.keras\n",
      "\u001b[1m58/58\u001b[0m \u001b[32m━━━━━━━━━━━━━━━━━━━━\u001b[0m\u001b[37m\u001b[0m \u001b[1m62s\u001b[0m 1s/step - loss: 0.0690 - mae: 0.2154 - val_loss: 0.0608 - val_mae: 0.1946\n",
      "Epoch 151/200\n",
      "\u001b[1m58/58\u001b[0m \u001b[32m━━━━━━━━━━━━━━━━━━━━\u001b[0m\u001b[37m\u001b[0m \u001b[1m0s\u001b[0m 1s/step - loss: 0.0697 - mae: 0.2168\n",
      "Epoch 151: saving model to model_checkpoint.keras\n",
      "\u001b[1m58/58\u001b[0m \u001b[32m━━━━━━━━━━━━━━━━━━━━\u001b[0m\u001b[37m\u001b[0m \u001b[1m62s\u001b[0m 1s/step - loss: 0.0697 - mae: 0.2168 - val_loss: 0.0574 - val_mae: 0.1919\n",
      "Epoch 152/200\n",
      "\u001b[1m58/58\u001b[0m \u001b[32m━━━━━━━━━━━━━━━━━━━━\u001b[0m\u001b[37m\u001b[0m \u001b[1m0s\u001b[0m 1s/step - loss: 0.0738 - mae: 0.2202\n",
      "Epoch 152: saving model to model_checkpoint.keras\n",
      "\u001b[1m58/58\u001b[0m \u001b[32m━━━━━━━━━━━━━━━━━━━━\u001b[0m\u001b[37m\u001b[0m \u001b[1m62s\u001b[0m 1s/step - loss: 0.0738 - mae: 0.2201 - val_loss: 0.0602 - val_mae: 0.1943\n",
      "Epoch 153/200\n",
      "\u001b[1m58/58\u001b[0m \u001b[32m━━━━━━━━━━━━━━━━━━━━\u001b[0m\u001b[37m\u001b[0m \u001b[1m0s\u001b[0m 1s/step - loss: 0.0702 - mae: 0.2152\n",
      "Epoch 153: saving model to model_checkpoint.keras\n",
      "\u001b[1m58/58\u001b[0m \u001b[32m━━━━━━━━━━━━━━━━━━━━\u001b[0m\u001b[37m\u001b[0m \u001b[1m62s\u001b[0m 1s/step - loss: 0.0702 - mae: 0.2153 - val_loss: 0.0537 - val_mae: 0.1836\n",
      "Epoch 154/200\n",
      "\u001b[1m58/58\u001b[0m \u001b[32m━━━━━━━━━━━━━━━━━━━━\u001b[0m\u001b[37m\u001b[0m \u001b[1m0s\u001b[0m 1s/step - loss: 0.0742 - mae: 0.2198\n",
      "Epoch 154: saving model to model_checkpoint.keras\n",
      "\u001b[1m58/58\u001b[0m \u001b[32m━━━━━━━━━━━━━━━━━━━━\u001b[0m\u001b[37m\u001b[0m \u001b[1m62s\u001b[0m 1s/step - loss: 0.0742 - mae: 0.2197 - val_loss: 0.0557 - val_mae: 0.1882\n",
      "Epoch 155/200\n",
      "\u001b[1m58/58\u001b[0m \u001b[32m━━━━━━━━━━━━━━━━━━━━\u001b[0m\u001b[37m\u001b[0m \u001b[1m0s\u001b[0m 1s/step - loss: 0.0649 - mae: 0.2066\n",
      "Epoch 155: saving model to model_checkpoint.keras\n",
      "\u001b[1m58/58\u001b[0m \u001b[32m━━━━━━━━━━━━━━━━━━━━\u001b[0m\u001b[37m\u001b[0m \u001b[1m62s\u001b[0m 1s/step - loss: 0.0649 - mae: 0.2066 - val_loss: 0.0573 - val_mae: 0.1901\n",
      "Epoch 156/200\n",
      "\u001b[1m58/58\u001b[0m \u001b[32m━━━━━━━━━━━━━━━━━━━━\u001b[0m\u001b[37m\u001b[0m \u001b[1m0s\u001b[0m 1s/step - loss: 0.0720 - mae: 0.2179\n",
      "Epoch 156: saving model to model_checkpoint.keras\n",
      "\u001b[1m58/58\u001b[0m \u001b[32m━━━━━━━━━━━━━━━━━━━━\u001b[0m\u001b[37m\u001b[0m \u001b[1m62s\u001b[0m 1s/step - loss: 0.0720 - mae: 0.2178 - val_loss: 0.0564 - val_mae: 0.1866\n",
      "Epoch 157/200\n",
      "\u001b[1m58/58\u001b[0m \u001b[32m━━━━━━━━━━━━━━━━━━━━\u001b[0m\u001b[37m\u001b[0m \u001b[1m0s\u001b[0m 1s/step - loss: 0.0718 - mae: 0.2133\n",
      "Epoch 157: saving model to model_checkpoint.keras\n",
      "\u001b[1m58/58\u001b[0m \u001b[32m━━━━━━━━━━━━━━━━━━━━\u001b[0m\u001b[37m\u001b[0m \u001b[1m62s\u001b[0m 1s/step - loss: 0.0717 - mae: 0.2133 - val_loss: 0.0569 - val_mae: 0.1889\n",
      "Epoch 158/200\n",
      "\u001b[1m58/58\u001b[0m \u001b[32m━━━━━━━━━━━━━━━━━━━━\u001b[0m\u001b[37m\u001b[0m \u001b[1m0s\u001b[0m 1s/step - loss: 0.0666 - mae: 0.2091\n",
      "Epoch 158: saving model to model_checkpoint.keras\n",
      "\u001b[1m58/58\u001b[0m \u001b[32m━━━━━━━━━━━━━━━━━━━━\u001b[0m\u001b[37m\u001b[0m \u001b[1m62s\u001b[0m 1s/step - loss: 0.0666 - mae: 0.2091 - val_loss: 0.0534 - val_mae: 0.1834\n",
      "Epoch 159/200\n",
      "\u001b[1m58/58\u001b[0m \u001b[32m━━━━━━━━━━━━━━━━━━━━\u001b[0m\u001b[37m\u001b[0m \u001b[1m0s\u001b[0m 1s/step - loss: 0.0641 - mae: 0.2080\n",
      "Epoch 159: saving model to model_checkpoint.keras\n",
      "\u001b[1m58/58\u001b[0m \u001b[32m━━━━━━━━━━━━━━━━━━━━\u001b[0m\u001b[37m\u001b[0m \u001b[1m62s\u001b[0m 1s/step - loss: 0.0641 - mae: 0.2080 - val_loss: 0.0558 - val_mae: 0.1877\n",
      "Epoch 160/200\n",
      "\u001b[1m58/58\u001b[0m \u001b[32m━━━━━━━━━━━━━━━━━━━━\u001b[0m\u001b[37m\u001b[0m \u001b[1m0s\u001b[0m 1s/step - loss: 0.0686 - mae: 0.2105\n",
      "Epoch 160: saving model to model_checkpoint.keras\n",
      "\u001b[1m58/58\u001b[0m \u001b[32m━━━━━━━━━━━━━━━━━━━━\u001b[0m\u001b[37m\u001b[0m \u001b[1m62s\u001b[0m 1s/step - loss: 0.0686 - mae: 0.2106 - val_loss: 0.0587 - val_mae: 0.1927\n",
      "Epoch 161/200\n",
      "\u001b[1m58/58\u001b[0m \u001b[32m━━━━━━━━━━━━━━━━━━━━\u001b[0m\u001b[37m\u001b[0m \u001b[1m0s\u001b[0m 1s/step - loss: 0.0732 - mae: 0.2182\n",
      "Epoch 161: saving model to model_checkpoint.keras\n",
      "\u001b[1m58/58\u001b[0m \u001b[32m━━━━━━━━━━━━━━━━━━━━\u001b[0m\u001b[37m\u001b[0m \u001b[1m62s\u001b[0m 1s/step - loss: 0.0731 - mae: 0.2182 - val_loss: 0.0659 - val_mae: 0.2010\n",
      "Epoch 162/200\n",
      "\u001b[1m58/58\u001b[0m \u001b[32m━━━━━━━━━━━━━━━━━━━━\u001b[0m\u001b[37m\u001b[0m \u001b[1m0s\u001b[0m 1s/step - loss: 0.0689 - mae: 0.2112\n",
      "Epoch 162: saving model to model_checkpoint.keras\n",
      "\u001b[1m58/58\u001b[0m \u001b[32m━━━━━━━━━━━━━━━━━━━━\u001b[0m\u001b[37m\u001b[0m \u001b[1m62s\u001b[0m 1s/step - loss: 0.0688 - mae: 0.2111 - val_loss: 0.0563 - val_mae: 0.1874\n",
      "Epoch 163/200\n",
      "\u001b[1m58/58\u001b[0m \u001b[32m━━━━━━━━━━━━━━━━━━━━\u001b[0m\u001b[37m\u001b[0m \u001b[1m0s\u001b[0m 1s/step - loss: 0.0653 - mae: 0.2054\n",
      "Epoch 163: saving model to model_checkpoint.keras\n",
      "\u001b[1m58/58\u001b[0m \u001b[32m━━━━━━━━━━━━━━━━━━━━\u001b[0m\u001b[37m\u001b[0m \u001b[1m62s\u001b[0m 1s/step - loss: 0.0653 - mae: 0.2054 - val_loss: 0.0515 - val_mae: 0.1784\n",
      "Epoch 164/200\n",
      "\u001b[1m58/58\u001b[0m \u001b[32m━━━━━━━━━━━━━━━━━━━━\u001b[0m\u001b[37m\u001b[0m \u001b[1m0s\u001b[0m 1s/step - loss: 0.0725 - mae: 0.2153\n",
      "Epoch 164: saving model to model_checkpoint.keras\n",
      "\u001b[1m58/58\u001b[0m \u001b[32m━━━━━━━━━━━━━━━━━━━━\u001b[0m\u001b[37m\u001b[0m \u001b[1m62s\u001b[0m 1s/step - loss: 0.0724 - mae: 0.2153 - val_loss: 0.0547 - val_mae: 0.1839\n",
      "Epoch 165/200\n",
      "\u001b[1m58/58\u001b[0m \u001b[32m━━━━━━━━━━━━━━━━━━━━\u001b[0m\u001b[37m\u001b[0m \u001b[1m0s\u001b[0m 1s/step - loss: 0.0703 - mae: 0.2155\n",
      "Epoch 165: saving model to model_checkpoint.keras\n",
      "\u001b[1m58/58\u001b[0m \u001b[32m━━━━━━━━━━━━━━━━━━━━\u001b[0m\u001b[37m\u001b[0m \u001b[1m62s\u001b[0m 1s/step - loss: 0.0703 - mae: 0.2155 - val_loss: 0.0533 - val_mae: 0.1839\n",
      "Epoch 166/200\n",
      "\u001b[1m58/58\u001b[0m \u001b[32m━━━━━━━━━━━━━━━━━━━━\u001b[0m\u001b[37m\u001b[0m \u001b[1m0s\u001b[0m 1s/step - loss: 0.0632 - mae: 0.2019\n",
      "Epoch 166: saving model to model_checkpoint.keras\n",
      "\u001b[1m58/58\u001b[0m \u001b[32m━━━━━━━━━━━━━━━━━━━━\u001b[0m\u001b[37m\u001b[0m \u001b[1m62s\u001b[0m 1s/step - loss: 0.0632 - mae: 0.2019 - val_loss: 0.0565 - val_mae: 0.1885\n",
      "Epoch 167/200\n",
      "\u001b[1m58/58\u001b[0m \u001b[32m━━━━━━━━━━━━━━━━━━━━\u001b[0m\u001b[37m\u001b[0m \u001b[1m0s\u001b[0m 1s/step - loss: 0.0649 - mae: 0.2065\n",
      "Epoch 167: saving model to model_checkpoint.keras\n",
      "\u001b[1m58/58\u001b[0m \u001b[32m━━━━━━━━━━━━━━━━━━━━\u001b[0m\u001b[37m\u001b[0m \u001b[1m62s\u001b[0m 1s/step - loss: 0.0649 - mae: 0.2064 - val_loss: 0.0640 - val_mae: 0.1983\n",
      "Epoch 168/200\n",
      "\u001b[1m58/58\u001b[0m \u001b[32m━━━━━━━━━━━━━━━━━━━━\u001b[0m\u001b[37m\u001b[0m \u001b[1m0s\u001b[0m 1s/step - loss: 0.0696 - mae: 0.2118\n",
      "Epoch 168: saving model to model_checkpoint.keras\n",
      "\u001b[1m58/58\u001b[0m \u001b[32m━━━━━━━━━━━━━━━━━━━━\u001b[0m\u001b[37m\u001b[0m \u001b[1m62s\u001b[0m 1s/step - loss: 0.0696 - mae: 0.2117 - val_loss: 0.0545 - val_mae: 0.1859\n",
      "Epoch 169/200\n",
      "\u001b[1m58/58\u001b[0m \u001b[32m━━━━━━━━━━━━━━━━━━━━\u001b[0m\u001b[37m\u001b[0m \u001b[1m0s\u001b[0m 1s/step - loss: 0.0670 - mae: 0.2079\n",
      "Epoch 169: saving model to model_checkpoint.keras\n",
      "\u001b[1m58/58\u001b[0m \u001b[32m━━━━━━━━━━━━━━━━━━━━\u001b[0m\u001b[37m\u001b[0m \u001b[1m62s\u001b[0m 1s/step - loss: 0.0670 - mae: 0.2079 - val_loss: 0.0520 - val_mae: 0.1766\n",
      "Epoch 170/200\n",
      "\u001b[1m58/58\u001b[0m \u001b[32m━━━━━━━━━━━━━━━━━━━━\u001b[0m\u001b[37m\u001b[0m \u001b[1m0s\u001b[0m 1s/step - loss: 0.0633 - mae: 0.2019\n",
      "Epoch 170: saving model to model_checkpoint.keras\n",
      "\u001b[1m58/58\u001b[0m \u001b[32m━━━━━━━━━━━━━━━━━━━━\u001b[0m\u001b[37m\u001b[0m \u001b[1m62s\u001b[0m 1s/step - loss: 0.0633 - mae: 0.2019 - val_loss: 0.0553 - val_mae: 0.1861\n",
      "Epoch 171/200\n",
      "\u001b[1m58/58\u001b[0m \u001b[32m━━━━━━━━━━━━━━━━━━━━\u001b[0m\u001b[37m\u001b[0m \u001b[1m0s\u001b[0m 1s/step - loss: 0.0630 - mae: 0.2013\n",
      "Epoch 171: saving model to model_checkpoint.keras\n",
      "\u001b[1m58/58\u001b[0m \u001b[32m━━━━━━━━━━━━━━━━━━━━\u001b[0m\u001b[37m\u001b[0m \u001b[1m62s\u001b[0m 1s/step - loss: 0.0630 - mae: 0.2013 - val_loss: 0.0515 - val_mae: 0.1778\n",
      "Epoch 172/200\n",
      "\u001b[1m58/58\u001b[0m \u001b[32m━━━━━━━━━━━━━━━━━━━━\u001b[0m\u001b[37m\u001b[0m \u001b[1m0s\u001b[0m 1s/step - loss: 0.0643 - mae: 0.2058\n",
      "Epoch 172: saving model to model_checkpoint.keras\n",
      "\u001b[1m58/58\u001b[0m \u001b[32m━━━━━━━━━━━━━━━━━━━━\u001b[0m\u001b[37m\u001b[0m \u001b[1m62s\u001b[0m 1s/step - loss: 0.0642 - mae: 0.2057 - val_loss: 0.0585 - val_mae: 0.1919\n",
      "Epoch 173/200\n",
      "\u001b[1m58/58\u001b[0m \u001b[32m━━━━━━━━━━━━━━━━━━━━\u001b[0m\u001b[37m\u001b[0m \u001b[1m0s\u001b[0m 1s/step - loss: 0.0615 - mae: 0.2007\n",
      "Epoch 173: saving model to model_checkpoint.keras\n",
      "\u001b[1m58/58\u001b[0m \u001b[32m━━━━━━━━━━━━━━━━━━━━\u001b[0m\u001b[37m\u001b[0m \u001b[1m62s\u001b[0m 1s/step - loss: 0.0615 - mae: 0.2007 - val_loss: 0.0564 - val_mae: 0.1878\n",
      "Epoch 174/200\n",
      "\u001b[1m58/58\u001b[0m \u001b[32m━━━━━━━━━━━━━━━━━━━━\u001b[0m\u001b[37m\u001b[0m \u001b[1m0s\u001b[0m 1s/step - loss: 0.0639 - mae: 0.2057\n",
      "Epoch 174: saving model to model_checkpoint.keras\n",
      "\u001b[1m58/58\u001b[0m \u001b[32m━━━━━━━━━━━━━━━━━━━━\u001b[0m\u001b[37m\u001b[0m \u001b[1m62s\u001b[0m 1s/step - loss: 0.0640 - mae: 0.2057 - val_loss: 0.0527 - val_mae: 0.1834\n",
      "Epoch 175/200\n",
      "\u001b[1m58/58\u001b[0m \u001b[32m━━━━━━━━━━━━━━━━━━━━\u001b[0m\u001b[37m\u001b[0m \u001b[1m0s\u001b[0m 1s/step - loss: 0.0635 - mae: 0.2035\n",
      "Epoch 175: saving model to model_checkpoint.keras\n",
      "\u001b[1m58/58\u001b[0m \u001b[32m━━━━━━━━━━━━━━━━━━━━\u001b[0m\u001b[37m\u001b[0m \u001b[1m62s\u001b[0m 1s/step - loss: 0.0635 - mae: 0.2035 - val_loss: 0.0524 - val_mae: 0.1807\n",
      "Epoch 176/200\n",
      "\u001b[1m58/58\u001b[0m \u001b[32m━━━━━━━━━━━━━━━━━━━━\u001b[0m\u001b[37m\u001b[0m \u001b[1m0s\u001b[0m 1s/step - loss: 0.0605 - mae: 0.2000\n",
      "Epoch 176: saving model to model_checkpoint.keras\n",
      "\u001b[1m58/58\u001b[0m \u001b[32m━━━━━━━━━━━━━━━━━━━━\u001b[0m\u001b[37m\u001b[0m \u001b[1m62s\u001b[0m 1s/step - loss: 0.0605 - mae: 0.1999 - val_loss: 0.0544 - val_mae: 0.1862\n",
      "Epoch 177/200\n",
      "\u001b[1m58/58\u001b[0m \u001b[32m━━━━━━━━━━━━━━━━━━━━\u001b[0m\u001b[37m\u001b[0m \u001b[1m0s\u001b[0m 1s/step - loss: 0.0640 - mae: 0.2039\n",
      "Epoch 177: saving model to model_checkpoint.keras\n",
      "\u001b[1m58/58\u001b[0m \u001b[32m━━━━━━━━━━━━━━━━━━━━\u001b[0m\u001b[37m\u001b[0m \u001b[1m62s\u001b[0m 1s/step - loss: 0.0640 - mae: 0.2038 - val_loss: 0.0511 - val_mae: 0.1787\n",
      "Epoch 178/200\n",
      "\u001b[1m58/58\u001b[0m \u001b[32m━━━━━━━━━━━━━━━━━━━━\u001b[0m\u001b[37m\u001b[0m \u001b[1m0s\u001b[0m 1s/step - loss: 0.0613 - mae: 0.1963\n",
      "Epoch 178: saving model to model_checkpoint.keras\n",
      "\u001b[1m58/58\u001b[0m \u001b[32m━━━━━━━━━━━━━━━━━━━━\u001b[0m\u001b[37m\u001b[0m \u001b[1m62s\u001b[0m 1s/step - loss: 0.0613 - mae: 0.1964 - val_loss: 0.0538 - val_mae: 0.1830\n",
      "Epoch 179/200\n",
      "\u001b[1m58/58\u001b[0m \u001b[32m━━━━━━━━━━━━━━━━━━━━\u001b[0m\u001b[37m\u001b[0m \u001b[1m0s\u001b[0m 1s/step - loss: 0.0630 - mae: 0.2013\n",
      "Epoch 179: saving model to model_checkpoint.keras\n",
      "\u001b[1m58/58\u001b[0m \u001b[32m━━━━━━━━━━━━━━━━━━━━\u001b[0m\u001b[37m\u001b[0m \u001b[1m62s\u001b[0m 1s/step - loss: 0.0630 - mae: 0.2013 - val_loss: 0.0555 - val_mae: 0.1833\n",
      "Epoch 180/200\n",
      "\u001b[1m58/58\u001b[0m \u001b[32m━━━━━━━━━━━━━━━━━━━━\u001b[0m\u001b[37m\u001b[0m \u001b[1m0s\u001b[0m 1s/step - loss: 0.0690 - mae: 0.2138\n",
      "Epoch 180: saving model to model_checkpoint.keras\n",
      "\u001b[1m58/58\u001b[0m \u001b[32m━━━━━━━━━━━━━━━━━━━━\u001b[0m\u001b[37m\u001b[0m \u001b[1m62s\u001b[0m 1s/step - loss: 0.0689 - mae: 0.2137 - val_loss: 0.0539 - val_mae: 0.1808\n",
      "Epoch 181/200\n",
      "\u001b[1m58/58\u001b[0m \u001b[32m━━━━━━━━━━━━━━━━━━━━\u001b[0m\u001b[37m\u001b[0m \u001b[1m0s\u001b[0m 1s/step - loss: 0.0599 - mae: 0.1970\n",
      "Epoch 181: saving model to model_checkpoint.keras\n",
      "\u001b[1m58/58\u001b[0m \u001b[32m━━━━━━━━━━━━━━━━━━━━\u001b[0m\u001b[37m\u001b[0m \u001b[1m62s\u001b[0m 1s/step - loss: 0.0599 - mae: 0.1969 - val_loss: 0.0511 - val_mae: 0.1787\n",
      "Epoch 182/200\n",
      "\u001b[1m58/58\u001b[0m \u001b[32m━━━━━━━━━━━━━━━━━━━━\u001b[0m\u001b[37m\u001b[0m \u001b[1m0s\u001b[0m 1s/step - loss: 0.0642 - mae: 0.2034\n",
      "Epoch 182: saving model to model_checkpoint.keras\n",
      "\u001b[1m58/58\u001b[0m \u001b[32m━━━━━━━━━━━━━━━━━━━━\u001b[0m\u001b[37m\u001b[0m \u001b[1m62s\u001b[0m 1s/step - loss: 0.0641 - mae: 0.2033 - val_loss: 0.0584 - val_mae: 0.1890\n",
      "Epoch 183/200\n",
      "\u001b[1m58/58\u001b[0m \u001b[32m━━━━━━━━━━━━━━━━━━━━\u001b[0m\u001b[37m\u001b[0m \u001b[1m0s\u001b[0m 1s/step - loss: 0.0593 - mae: 0.1950\n",
      "Epoch 183: saving model to model_checkpoint.keras\n",
      "\u001b[1m58/58\u001b[0m \u001b[32m━━━━━━━━━━━━━━━━━━━━\u001b[0m\u001b[37m\u001b[0m \u001b[1m62s\u001b[0m 1s/step - loss: 0.0593 - mae: 0.1950 - val_loss: 0.0505 - val_mae: 0.1775\n",
      "Epoch 184/200\n",
      "\u001b[1m58/58\u001b[0m \u001b[32m━━━━━━━━━━━━━━━━━━━━\u001b[0m\u001b[37m\u001b[0m \u001b[1m0s\u001b[0m 1s/step - loss: 0.0578 - mae: 0.1908\n",
      "Epoch 184: saving model to model_checkpoint.keras\n",
      "\u001b[1m58/58\u001b[0m \u001b[32m━━━━━━━━━━━━━━━━━━━━\u001b[0m\u001b[37m\u001b[0m \u001b[1m62s\u001b[0m 1s/step - loss: 0.0578 - mae: 0.1909 - val_loss: 0.0495 - val_mae: 0.1744\n",
      "Epoch 185/200\n",
      "\u001b[1m58/58\u001b[0m \u001b[32m━━━━━━━━━━━━━━━━━━━━\u001b[0m\u001b[37m\u001b[0m \u001b[1m0s\u001b[0m 1s/step - loss: 0.0590 - mae: 0.1978\n",
      "Epoch 185: saving model to model_checkpoint.keras\n",
      "\u001b[1m58/58\u001b[0m \u001b[32m━━━━━━━━━━━━━━━━━━━━\u001b[0m\u001b[37m\u001b[0m \u001b[1m62s\u001b[0m 1s/step - loss: 0.0590 - mae: 0.1978 - val_loss: 0.0553 - val_mae: 0.1871\n",
      "Epoch 186/200\n",
      "\u001b[1m58/58\u001b[0m \u001b[32m━━━━━━━━━━━━━━━━━━━━\u001b[0m\u001b[37m\u001b[0m \u001b[1m0s\u001b[0m 1s/step - loss: 0.0597 - mae: 0.1966\n",
      "Epoch 186: saving model to model_checkpoint.keras\n",
      "\u001b[1m58/58\u001b[0m \u001b[32m━━━━━━━━━━━━━━━━━━━━\u001b[0m\u001b[37m\u001b[0m \u001b[1m62s\u001b[0m 1s/step - loss: 0.0597 - mae: 0.1966 - val_loss: 0.0531 - val_mae: 0.1829\n",
      "Epoch 187/200\n",
      "\u001b[1m58/58\u001b[0m \u001b[32m━━━━━━━━━━━━━━━━━━━━\u001b[0m\u001b[37m\u001b[0m \u001b[1m0s\u001b[0m 1s/step - loss: 0.0582 - mae: 0.1955\n",
      "Epoch 187: saving model to model_checkpoint.keras\n",
      "\u001b[1m58/58\u001b[0m \u001b[32m━━━━━━━━━━━━━━━━━━━━\u001b[0m\u001b[37m\u001b[0m \u001b[1m62s\u001b[0m 1s/step - loss: 0.0583 - mae: 0.1955 - val_loss: 0.0522 - val_mae: 0.1793\n",
      "Epoch 188/200\n",
      "\u001b[1m58/58\u001b[0m \u001b[32m━━━━━━━━━━━━━━━━━━━━\u001b[0m\u001b[37m\u001b[0m \u001b[1m0s\u001b[0m 1s/step - loss: 0.0627 - mae: 0.2000\n",
      "Epoch 188: saving model to model_checkpoint.keras\n",
      "\u001b[1m58/58\u001b[0m \u001b[32m━━━━━━━━━━━━━━━━━━━━\u001b[0m\u001b[37m\u001b[0m \u001b[1m62s\u001b[0m 1s/step - loss: 0.0627 - mae: 0.2000 - val_loss: 0.0494 - val_mae: 0.1753\n",
      "Epoch 189/200\n",
      "\u001b[1m58/58\u001b[0m \u001b[32m━━━━━━━━━━━━━━━━━━━━\u001b[0m\u001b[37m\u001b[0m \u001b[1m0s\u001b[0m 1s/step - loss: 0.0578 - mae: 0.1919\n",
      "Epoch 189: saving model to model_checkpoint.keras\n",
      "\u001b[1m58/58\u001b[0m \u001b[32m━━━━━━━━━━━━━━━━━━━━\u001b[0m\u001b[37m\u001b[0m \u001b[1m62s\u001b[0m 1s/step - loss: 0.0579 - mae: 0.1919 - val_loss: 0.0493 - val_mae: 0.1728\n",
      "Epoch 190/200\n",
      "\u001b[1m58/58\u001b[0m \u001b[32m━━━━━━━━━━━━━━━━━━━━\u001b[0m\u001b[37m\u001b[0m \u001b[1m0s\u001b[0m 1s/step - loss: 0.0592 - mae: 0.1948\n",
      "Epoch 190: saving model to model_checkpoint.keras\n",
      "\u001b[1m58/58\u001b[0m \u001b[32m━━━━━━━━━━━━━━━━━━━━\u001b[0m\u001b[37m\u001b[0m \u001b[1m62s\u001b[0m 1s/step - loss: 0.0592 - mae: 0.1948 - val_loss: 0.0580 - val_mae: 0.1888\n",
      "Epoch 191/200\n",
      "\u001b[1m58/58\u001b[0m \u001b[32m━━━━━━━━━━━━━━━━━━━━\u001b[0m\u001b[37m\u001b[0m \u001b[1m0s\u001b[0m 1s/step - loss: 0.0634 - mae: 0.2028\n",
      "Epoch 191: saving model to model_checkpoint.keras\n",
      "\u001b[1m58/58\u001b[0m \u001b[32m━━━━━━━━━━━━━━━━━━━━\u001b[0m\u001b[37m\u001b[0m \u001b[1m62s\u001b[0m 1s/step - loss: 0.0633 - mae: 0.2027 - val_loss: 0.0486 - val_mae: 0.1722\n",
      "Epoch 192/200\n",
      "\u001b[1m58/58\u001b[0m \u001b[32m━━━━━━━━━━━━━━━━━━━━\u001b[0m\u001b[37m\u001b[0m \u001b[1m0s\u001b[0m 1s/step - loss: 0.0577 - mae: 0.1930\n",
      "Epoch 192: saving model to model_checkpoint.keras\n",
      "\u001b[1m58/58\u001b[0m \u001b[32m━━━━━━━━━━━━━━━━━━━━\u001b[0m\u001b[37m\u001b[0m \u001b[1m62s\u001b[0m 1s/step - loss: 0.0578 - mae: 0.1930 - val_loss: 0.0542 - val_mae: 0.1843\n",
      "Epoch 193/200\n",
      "\u001b[1m58/58\u001b[0m \u001b[32m━━━━━━━━━━━━━━━━━━━━\u001b[0m\u001b[37m\u001b[0m \u001b[1m0s\u001b[0m 1s/step - loss: 0.0598 - mae: 0.1962\n",
      "Epoch 193: saving model to model_checkpoint.keras\n",
      "\u001b[1m58/58\u001b[0m \u001b[32m━━━━━━━━━━━━━━━━━━━━\u001b[0m\u001b[37m\u001b[0m \u001b[1m62s\u001b[0m 1s/step - loss: 0.0599 - mae: 0.1962 - val_loss: 0.0549 - val_mae: 0.1854\n",
      "Epoch 194/200\n",
      "\u001b[1m58/58\u001b[0m \u001b[32m━━━━━━━━━━━━━━━━━━━━\u001b[0m\u001b[37m\u001b[0m \u001b[1m0s\u001b[0m 1s/step - loss: 0.0624 - mae: 0.2028\n",
      "Epoch 194: saving model to model_checkpoint.keras\n",
      "\u001b[1m58/58\u001b[0m \u001b[32m━━━━━━━━━━━━━━━━━━━━\u001b[0m\u001b[37m\u001b[0m \u001b[1m62s\u001b[0m 1s/step - loss: 0.0624 - mae: 0.2028 - val_loss: 0.0561 - val_mae: 0.1873\n",
      "Epoch 195/200\n",
      "\u001b[1m58/58\u001b[0m \u001b[32m━━━━━━━━━━━━━━━━━━━━\u001b[0m\u001b[37m\u001b[0m \u001b[1m0s\u001b[0m 1s/step - loss: 0.0553 - mae: 0.1899\n",
      "Epoch 195: saving model to model_checkpoint.keras\n",
      "\u001b[1m58/58\u001b[0m \u001b[32m━━━━━━━━━━━━━━━━━━━━\u001b[0m\u001b[37m\u001b[0m \u001b[1m62s\u001b[0m 1s/step - loss: 0.0553 - mae: 0.1899 - val_loss: 0.0507 - val_mae: 0.1759\n",
      "Epoch 196/200\n",
      "\u001b[1m58/58\u001b[0m \u001b[32m━━━━━━━━━━━━━━━━━━━━\u001b[0m\u001b[37m\u001b[0m \u001b[1m0s\u001b[0m 1s/step - loss: 0.0589 - mae: 0.1926\n",
      "Epoch 196: saving model to model_checkpoint.keras\n",
      "\u001b[1m58/58\u001b[0m \u001b[32m━━━━━━━━━━━━━━━━━━━━\u001b[0m\u001b[37m\u001b[0m \u001b[1m62s\u001b[0m 1s/step - loss: 0.0589 - mae: 0.1925 - val_loss: 0.0544 - val_mae: 0.1842\n",
      "Epoch 197/200\n",
      "\u001b[1m58/58\u001b[0m \u001b[32m━━━━━━━━━━━━━━━━━━━━\u001b[0m\u001b[37m\u001b[0m \u001b[1m0s\u001b[0m 1s/step - loss: 0.0592 - mae: 0.1971\n",
      "Epoch 197: saving model to model_checkpoint.keras\n",
      "\u001b[1m58/58\u001b[0m \u001b[32m━━━━━━━━━━━━━━━━━━━━\u001b[0m\u001b[37m\u001b[0m \u001b[1m62s\u001b[0m 1s/step - loss: 0.0591 - mae: 0.1970 - val_loss: 0.0478 - val_mae: 0.1667\n",
      "Epoch 198/200\n",
      "\u001b[1m58/58\u001b[0m \u001b[32m━━━━━━━━━━━━━━━━━━━━\u001b[0m\u001b[37m\u001b[0m \u001b[1m0s\u001b[0m 1s/step - loss: 0.0581 - mae: 0.1919\n",
      "Epoch 198: saving model to model_checkpoint.keras\n",
      "\u001b[1m58/58\u001b[0m \u001b[32m━━━━━━━━━━━━━━━━━━━━\u001b[0m\u001b[37m\u001b[0m \u001b[1m62s\u001b[0m 1s/step - loss: 0.0581 - mae: 0.1919 - val_loss: 0.0513 - val_mae: 0.1766\n",
      "Epoch 199/200\n",
      "\u001b[1m58/58\u001b[0m \u001b[32m━━━━━━━━━━━━━━━━━━━━\u001b[0m\u001b[37m\u001b[0m \u001b[1m0s\u001b[0m 1s/step - loss: 0.0591 - mae: 0.1951\n",
      "Epoch 199: saving model to model_checkpoint.keras\n",
      "\u001b[1m58/58\u001b[0m \u001b[32m━━━━━━━━━━━━━━━━━━━━\u001b[0m\u001b[37m\u001b[0m \u001b[1m62s\u001b[0m 1s/step - loss: 0.0590 - mae: 0.1950 - val_loss: 0.0487 - val_mae: 0.1742\n",
      "Epoch 200/200\n",
      "\u001b[1m58/58\u001b[0m \u001b[32m━━━━━━━━━━━━━━━━━━━━\u001b[0m\u001b[37m\u001b[0m \u001b[1m0s\u001b[0m 1s/step - loss: 0.0579 - mae: 0.1940\n",
      "Epoch 200: saving model to model_checkpoint.keras\n",
      "\u001b[1m58/58\u001b[0m \u001b[32m━━━━━━━━━━━━━━━━━━━━\u001b[0m\u001b[37m\u001b[0m \u001b[1m62s\u001b[0m 1s/step - loss: 0.0580 - mae: 0.1940 - val_loss: 0.0535 - val_mae: 0.1820\n"
     ]
    }
   ],
   "source": [
    "# Train the model.\n",
    "# Note: y_train and y_test should now contain continuous values between 0.0 and 13.0.\n",
    "history = model.fit(\n",
    "    X_train_final,\n",
    "    y_train_norm,\n",
    "    validation_data=(X_test_final, y_test_norm),\n",
    "    epochs=200,\n",
    "    batch_size=32,\n",
    "    callbacks=callbacks,\n",
    "    verbose=1\n",
    ")\n"
   ]
  },
  {
   "cell_type": "code",
   "execution_count": null,
   "id": "0e8891b8",
   "metadata": {
    "papermill": {
     "duration": 0.657127,
     "end_time": "2025-02-14T11:19:24.684758",
     "exception": false,
     "start_time": "2025-02-14T11:19:24.027631",
     "status": "completed"
    },
    "tags": []
   },
   "outputs": [],
   "source": []
  }
 ],
 "metadata": {
  "kaggle": {
   "accelerator": "none",
   "dataSources": [
    {
     "datasetId": 6577343,
     "sourceId": 10622934,
     "sourceType": "datasetVersion"
    },
    {
     "datasetId": 6579869,
     "sourceId": 10627200,
     "sourceType": "datasetVersion"
    },
    {
     "datasetId": 6637708,
     "sourceId": 10709822,
     "sourceType": "datasetVersion"
    }
   ],
   "dockerImageVersionId": 30887,
   "isGpuEnabled": false,
   "isInternetEnabled": true,
   "language": "python",
   "sourceType": "notebook"
  },
  "kernelspec": {
   "display_name": "Python 3",
   "language": "python",
   "name": "python3"
  },
  "language_info": {
   "codemirror_mode": {
    "name": "ipython",
    "version": 3
   },
   "file_extension": ".py",
   "mimetype": "text/x-python",
   "name": "python",
   "nbconvert_exporter": "python",
   "pygments_lexer": "ipython3",
   "version": "3.10.12"
  },
  "papermill": {
   "default_parameters": {},
   "duration": 12449.905439,
   "end_time": "2025-02-14T11:19:27.400000",
   "environment_variables": {},
   "exception": null,
   "input_path": "__notebook__.ipynb",
   "output_path": "__notebook__.ipynb",
   "parameters": {},
   "start_time": "2025-02-14T07:51:57.494561",
   "version": "2.6.0"
  }
 },
 "nbformat": 4,
 "nbformat_minor": 5
}
